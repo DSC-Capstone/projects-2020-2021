{
 "cells": [
  {
   "cell_type": "code",
   "execution_count": 1,
   "id": "immediate-configuration",
   "metadata": {},
   "outputs": [],
   "source": [
    "import os\n",
    "# move to project root\n",
    "os.chdir('/home/rcgonzal/DSC180Malware/m2v-adversarial-hindroid/')\n",
    "\n",
    "import pandas as pd\n",
    "import numpy as np\n",
    "\n",
    "from src.model.model import M2VDroid\n",
    "from src.model.hindroid import Hindroid\n",
    "from src.attack.attack import *\n",
    "from src.attack.cw import to_tanh_space, from_tanh_space, L2Adversary\n",
    "\n",
    "import torch\n",
    "import torch.nn as nn\n",
    "import torch.nn.functional as F\n",
    "\n",
    "%load_ext autoreload\n",
    "%autoreload 2"
   ]
  },
  {
   "cell_type": "code",
   "execution_count": 2,
   "id": "steady-quebec",
   "metadata": {},
   "outputs": [],
   "source": [
    "use_cuda = torch.cuda.is_available()\n",
    "device = torch.device(\"cuda\" if use_cuda else \"cpu\")\n",
    "\n",
    "# load data \n",
    "dataset = HindroidDataset(\n",
    "    'data/out/all-apps/hindroid-train-set/A_test.npz', \n",
    "    'data/out/all-apps/hindroid-train-set/predictions.csv',\n",
    "    'AAT',\n",
    ")"
   ]
  },
  {
   "cell_type": "code",
   "execution_count": 4,
   "id": "restricted-financing",
   "metadata": {},
   "outputs": [],
   "source": [
    "outfolder = 'data/out/all-apps/hindroid-train-set/'\n",
    "with open(os.path.join(outfolder, 'NN_sub.pkl'), 'rb') as file:\n",
    "    model = torch.load(file).to(device)\n",
    "\n",
    "batch_size = 10\n",
    "test_loader = torch.utils.data.DataLoader(\n",
    "    dataset, \n",
    "    batch_size=batch_size,\n",
    "    shuffle = True)"
   ]
  },
  {
   "cell_type": "code",
   "execution_count": 5,
   "id": "perfect-magic",
   "metadata": {},
   "outputs": [
    {
     "name": "stdout",
     "output_type": "stream",
     "text": [
      "OG Labels:  tensor([1, 1, 0, 1, 1, 1, 1, 0, 1, 1])\n",
      "Model pred:  tensor([[1.1435e-01, 8.8565e-01],\n",
      "        [2.2772e-04, 9.9977e-01],\n",
      "        [1.0000e+00, 2.9537e-06],\n",
      "        [4.7671e-02, 9.5233e-01],\n",
      "        [8.0803e-03, 9.9192e-01],\n",
      "        [1.3805e-01, 8.6195e-01],\n",
      "        [4.3791e-02, 9.5621e-01],\n",
      "        [1.0000e+00, 4.1924e-07],\n",
      "        [8.5353e-02, 9.1465e-01],\n",
      "        [3.1745e-03, 9.9683e-01]], device='cuda:0', dtype=torch.float64,\n",
      "       grad_fn=<SoftmaxBackward>)\n",
      "tensor([1, 1, 0, 1, 1, 1, 1, 0, 1, 1], device='cuda:0')\n",
      "torch.Size([10, 2535703])\n",
      "Using scale consts: [0.1, 0.1, 0.1, 0.1, 0.1, 0.1, 0.1, 0.1, 0.1, 0.1]\n",
      "batch [0] loss: 5.869256764300315\n",
      "batch [10] loss: 38879836.945850104\n",
      "batch [20] loss: 38879012.98885138\n",
      "batch [30] loss: 38878901.30112338\n",
      "batch [40] loss: 38878900.84094867\n",
      "batch [50] loss: 38878972.6139277\n",
      "batch [60] loss: 38878900.84104143\n",
      "batch [70] loss: 38878900.84093383\n",
      "batch [80] loss: 38878900.84100363\n",
      "batch [90] loss: 38878900.84125961\n",
      "batch [100] loss: 38878900.84119253\n",
      "Using scale consts: [0.05, 0.05, 0.05, 0.05, 0.05, 0.05, 0.05, 0.05, 0.05, 0.05]\n",
      "batch [0] loss: 38878900.35482165\n",
      "batch [10] loss: 38878900.340327665\n",
      "batch [20] loss: 38878900.340327665\n",
      "batch [30] loss: 38879000.3386811\n",
      "batch [40] loss: 38878900.340327665\n",
      "batch [50] loss: 38878900.340327665\n",
      "batch [60] loss: 38878900.340327665\n",
      "batch [70] loss: 38878900.340327665\n",
      "batch [80] loss: 38878900.340327665\n",
      "batch [90] loss: 38878900.340327665\n",
      "batch [100] loss: 38878900.340327665\n",
      "Using scale consts: [0.025, 0.025, 0.07500000000000001, 0.025, 0.025, 0.025, 0.025, 0.025, 0.025, 0.025]\n",
      "batch [0] loss: 38878900.5906269\n",
      "batch [10] loss: 38878900.59062708\n",
      "batch [20] loss: 38878900.59062693\n",
      "batch [30] loss: 38878900.5906269\n",
      "batch [40] loss: 38878900.59062777\n",
      "batch [50] loss: 38878900.590626985\n",
      "batch [60] loss: 38878900.5906269\n",
      "batch [70] loss: 38878900.5906269\n",
      "batch [80] loss: 38878900.59062723\n",
      "batch [90] loss: 38878900.59062691\n",
      "batch [100] loss: 38878900.590630844\n"
     ]
    }
   ],
   "source": [
    "cw_attack = L2Adversary(\n",
    "    targeted=False, confidence=0.0, c_range=(1e-1, 1e10),\n",
    "    search_steps=3, max_steps=1000, abort_early=True,\n",
    "    box=(0., 1.), optimizer_lr=1e-2, init_rand=True\n",
    ")\n",
    "advxs = None\n",
    "all_inputs = []\n",
    "all_advx = []\n",
    "\n",
    "for data, target in test_loader:\n",
    "    if len(all_advx) * batch_size >= 500:\n",
    "        break\n",
    "    \n",
    "    print(\"OG Labels: \", target)\n",
    "    target = F.softmax(model(data.to(device)), dim=1)\n",
    "    print(\"Model pred: \", target)\n",
    "    target = torch.argmax(target, dim=1)\n",
    "    print(target)\n",
    "    data = data.view(batch_size, -1)\n",
    "    with open(os.path.join(outfolder, 'input.npz'), 'wb') as file:\n",
    "        all_inputs.append(sparse.csr_matrix(data))\n",
    "        sparse.save_npz(file, sparse.csr_matrix(data))\n",
    "    data, target = data.to(device), target.to(device)\n",
    "    advxs = cw_attack(model, data, target, to_numpy=False)\n",
    "    sparse_advxs = sparse.csr_matrix(torch.round(advxs), dtype='i1')\n",
    "    all_advx.append(sparse_advxs)\n",
    "    break\n",
    "    \n",
    "#     with open(os.path.join(outfolder, 'advxs.npz'), 'wb') as file:\n",
    "#         sparse.save_npz(file, sparse_advxs)\n",
    "        \n",
    "all_inputs = sparse.vstack(all_inputs)\n",
    "all_advx = sparse.vstack(all_advx)"
   ]
  },
  {
   "cell_type": "code",
   "execution_count": 10,
   "id": "sonic-validity",
   "metadata": {},
   "outputs": [
    {
     "name": "stdout",
     "output_type": "stream",
     "text": [
      "4.291534423828125e-06 tensor([0, 0, 1, 0, 0, 0, 0, 1, 0, 0], device='cuda:0')\n"
     ]
    }
   ],
   "source": [
    "print(\n",
    "    torch.min(torch.abs(advxs - 0.5)).item(),\n",
    "    torch.argmax(F.softmax(model(torch.round(advxs.double().to(device))), dim=1), dim=1)\n",
    ")"
   ]
  },
  {
   "cell_type": "code",
   "execution_count": null,
   "id": "coated-reducing",
   "metadata": {},
   "outputs": [],
   "source": []
  }
 ],
 "metadata": {
  "kernelspec": {
   "display_name": "Python 3",
   "language": "python",
   "name": "python3"
  },
  "language_info": {
   "codemirror_mode": {
    "name": "ipython",
    "version": 3
   },
   "file_extension": ".py",
   "mimetype": "text/x-python",
   "name": "python",
   "nbconvert_exporter": "python",
   "pygments_lexer": "ipython3",
   "version": "3.8.6"
  }
 },
 "nbformat": 4,
 "nbformat_minor": 5
}
