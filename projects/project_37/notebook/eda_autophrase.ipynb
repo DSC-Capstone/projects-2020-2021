{
 "cells": [
  {
   "cell_type": "code",
   "execution_count": 1,
   "metadata": {},
   "outputs": [
    {
     "name": "stderr",
     "output_type": "stream",
     "text": [
      "[nltk_data] Downloading package punkt to /home/cahou/nltk_data...\n",
      "[nltk_data]   Package punkt is already up-to-date!\n",
      "[nltk_data] Downloading package vader_lexicon to\n",
      "[nltk_data]     /home/cahou/nltk_data...\n",
      "[nltk_data]   Package vader_lexicon is already up-to-date!\n"
     ]
    }
   ],
   "source": [
    "import json\n",
    "import os\n",
    "import numpy as np\n",
    "import pandas as pd\n",
    "import re\n",
    "from matplotlib import pyplot as plt\n",
    "import nltk\n",
    "nltk.download('punkt')\n",
    "nltk.download('vader_lexicon')\n",
    "from nltk.sentiment.vader import SentimentIntensityAnalyzer\n",
    "\n",
    "import pyspark.ml as M\n",
    "import pyspark.sql.functions as F\n",
    "import pyspark.sql.types as T\n",
    "from pyspark.sql import SparkSession"
   ]
  },
  {
   "cell_type": "code",
   "execution_count": 3,
   "metadata": {},
   "outputs": [],
   "source": [
    "spark = SparkSession \\\n",
    "    .builder \\\n",
    "    .appName(\"yelp-reccomender\") \\\n",
    "    .getOrCreate()\n",
    "\n",
    "schema = T.StructType([\n",
    "    T.StructField(\"_c01\", T.IntegerType(), True),\n",
    "    T.StructField(\"name\", T.StringType(), True),\n",
    "    T.StructField(\"business_id\", T.StringType(), True),   \n",
    "    T.StructField(\"city\", T.StringType(), True),   \n",
    "    T.StructField(\"categories\", T.StringType(), True),\n",
    "    T.StructField(\"review_id\", T.StringType(), True),   \n",
    "    T.StructField(\"text\", T.StringType(), True),      \n",
    "    T.StructField(\"stars\", T.FloatType(), True),\n",
    "    T.StructField(\"annotated_rev\", T.StringType(), True)\n",
    "])\n",
    "\n",
    "lv = spark.read.csv(\"../data/tmp/Las_Vegas_reviews.csv\", header=True, multiLine=True, schema=schema, quote=\"\\\"\", escape=\"\\\"\")"
   ]
  },
  {
   "cell_type": "code",
   "execution_count": 2,
   "metadata": {},
   "outputs": [],
   "source": [
    "# with open('../data/autophrase_in/reviews.txt', 'w') as f:\n",
    "#     f.write('test')\n",
    "# with open('../data/autophrase_out/segmentation.txt', 'r') as f:\n",
    "# with open('../../DSC180A-Project/data/out/segmentation.txt', 'r') as f:\n",
    "with open('../data/tmp/autophrase_out/DBLP/segmentation.txt', 'r') as f:\n",
    "# with open('../../DSC180A-Project/data/in/yelp_reviews2.txt', 'r') as f:\n",
    "    reviews_string = f.read()\n",
    "    reviews_list = reviews_string.split(\"\\n<<phrase>REVIEW DELIMITER</phrase>>\\n\")\n",
    "#     reviews_list = reviews_string.split(\"\\n.\\n\")\n",
    "\n",
    "reviews_list = pd.Series(reviews_list)[:-1]"
   ]
  },
  {
   "cell_type": "code",
   "execution_count": 5,
   "metadata": {},
   "outputs": [],
   "source": [
    "POS=0.3\n",
    "NEG=-POS"
   ]
  },
  {
   "cell_type": "code",
   "execution_count": 3,
   "metadata": {},
   "outputs": [],
   "source": [
    "def sentiment_score(reviews_list):\n",
    "    '''Attach a sentiment score to each sentence of a review. Return DataFrame.'''\n",
    "    scores = []\n",
    "    seen_sentences = []\n",
    "    index = []\n",
    "    tokenizer = nltk.data.load('tokenizers/punkt/english.pickle')\n",
    "    for i, review in enumerate(reviews_list):\n",
    "        sentences = tokenizer.tokenize(review)\n",
    "        sid = SentimentIntensityAnalyzer()\n",
    "        for sentence in sentences:\n",
    "            index.append(i)\n",
    "            seen_sentences.append(sentence)\n",
    "            ss_intermediate = sid.polarity_scores(sentence)\n",
    "            scores.append(ss_intermediate)\n",
    "    df = pd.DataFrame({'index': index, 'sentence': seen_sentences}).join(pd.DataFrame(scores))\n",
    "    df = df.assign(phrases = df.sentence.apply(lambda x: re.findall('<phrase>.+?</phrase>', x)))\n",
    "#     df.to_csv('../data/tmp/sentiment.csv', index=False)\n",
    "#     df = spark.read.csv('../data/tmp/sentiment.csv', schema=schema)\n",
    "    return df\n",
    "\n",
    "def clean_phrases(sentences):\n",
    "    '''Remove the phrase tags'''\n",
    "    return sentences.str.replace('<phrase>', '').str.replace('</phrase>', '')\n",
    "\n",
    "def make_positive_phrases(df, val):\n",
    "    '''Return positive phrases'''\n",
    "    return clean_phrases(df[['compound', 'phrases']][df['compound']>=val].phrases.explode().dropna()).value_counts()\n",
    "\n",
    "def make_negative_phrases(df, val):\n",
    "    '''Return positive phrases'''\n",
    "    return clean_phrases(df[['compound', 'phrases']][df['compound']<=-val].phrases.explode().dropna()).value_counts()"
   ]
  },
  {
   "cell_type": "code",
   "execution_count": 7,
   "metadata": {},
   "outputs": [],
   "source": [
    "# sentiment_score_udf(F.udf(lambda x: sentiment_score(x), T.))\n",
    "# # lv.select(lv.annotated_rev, sentiment_score).alias('hi').show()"
   ]
  },
  {
   "cell_type": "code",
   "execution_count": 9,
   "metadata": {},
   "outputs": [],
   "source": [
    "lv_pandas = pd.read_csv(\"../data/tmp/Las_Vegas_reviews.csv\")"
   ]
  },
  {
   "cell_type": "code",
   "execution_count": 5,
   "metadata": {
    "scrolled": true
   },
   "outputs": [
    {
     "name": "stdout",
     "output_type": "stream",
     "text": [
      "595540\n",
      "594540\n",
      "593540\n",
      "592540\n",
      "591540\n",
      "590540\n",
      "589540\n",
      "588540\n",
      "587540\n",
      "586540\n",
      "585540\n",
      "584540\n",
      "583540\n",
      "582540\n",
      "581540\n",
      "580540\n",
      "579540\n",
      "578540\n",
      "577540\n",
      "576540\n",
      "575540\n",
      "574540\n",
      "573540\n",
      "572540\n",
      "571540\n",
      "570540\n",
      "569540\n",
      "568540\n",
      "567540\n",
      "566540\n",
      "565540\n",
      "564540\n",
      "563540\n",
      "562540\n",
      "561540\n",
      "560540\n",
      "559540\n",
      "558540\n",
      "557540\n"
     ]
    },
    {
     "ename": "KeyboardInterrupt",
     "evalue": "",
     "output_type": "error",
     "traceback": [
      "\u001b[0;31m\u001b[0m",
      "\u001b[0;31mKeyboardInterrupt\u001b[0mTraceback (most recent call last)",
      "\u001b[0;32m<ipython-input-5-bc4343f01f7d>\u001b[0m in \u001b[0;36m<module>\u001b[0;34m\u001b[0m\n\u001b[1;32m      3\u001b[0m \u001b[0;32mfor\u001b[0m \u001b[0mi\u001b[0m \u001b[0;32min\u001b[0m \u001b[0mrange\u001b[0m\u001b[0;34m(\u001b[0m\u001b[0;36m0\u001b[0m\u001b[0;34m,\u001b[0m \u001b[0mlen\u001b[0m\u001b[0;34m(\u001b[0m\u001b[0mreviews_list\u001b[0m\u001b[0;34m)\u001b[0m\u001b[0;34m,\u001b[0m \u001b[0;36m1000\u001b[0m\u001b[0;34m)\u001b[0m\u001b[0;34m:\u001b[0m\u001b[0;34m\u001b[0m\u001b[0;34m\u001b[0m\u001b[0m\n\u001b[1;32m      4\u001b[0m     \u001b[0mprint\u001b[0m\u001b[0;34m(\u001b[0m\u001b[0mlen\u001b[0m\u001b[0;34m(\u001b[0m\u001b[0mreviews_list\u001b[0m\u001b[0;34m)\u001b[0m\u001b[0;34m-\u001b[0m\u001b[0mi\u001b[0m\u001b[0;34m)\u001b[0m\u001b[0;34m\u001b[0m\u001b[0;34m\u001b[0m\u001b[0m\n\u001b[0;32m----> 5\u001b[0;31m     \u001b[0ma\u001b[0m \u001b[0;34m=\u001b[0m \u001b[0msentiment_score\u001b[0m\u001b[0;34m(\u001b[0m\u001b[0mreviews_list\u001b[0m\u001b[0;34m[\u001b[0m\u001b[0mi\u001b[0m\u001b[0;34m:\u001b[0m\u001b[0mi\u001b[0m\u001b[0;34m+\u001b[0m\u001b[0;36m1000\u001b[0m\u001b[0;34m]\u001b[0m\u001b[0;34m)\u001b[0m\u001b[0;34m\u001b[0m\u001b[0;34m\u001b[0m\u001b[0m\n\u001b[0m\u001b[1;32m      6\u001b[0m     \u001b[0mdf_list\u001b[0m\u001b[0;34m.\u001b[0m\u001b[0mappend\u001b[0m\u001b[0;34m(\u001b[0m\u001b[0ma\u001b[0m\u001b[0;34m)\u001b[0m\u001b[0;34m\u001b[0m\u001b[0;34m\u001b[0m\u001b[0m\n\u001b[1;32m      7\u001b[0m \u001b[0;34m\u001b[0m\u001b[0m\n",
      "\u001b[0;32m<ipython-input-3-2b3a3f76df2c>\u001b[0m in \u001b[0;36msentiment_score\u001b[0;34m(reviews_list)\u001b[0m\n\u001b[1;32m      7\u001b[0m     \u001b[0;32mfor\u001b[0m \u001b[0mi\u001b[0m\u001b[0;34m,\u001b[0m \u001b[0mreview\u001b[0m \u001b[0;32min\u001b[0m \u001b[0menumerate\u001b[0m\u001b[0;34m(\u001b[0m\u001b[0mreviews_list\u001b[0m\u001b[0;34m)\u001b[0m\u001b[0;34m:\u001b[0m\u001b[0;34m\u001b[0m\u001b[0;34m\u001b[0m\u001b[0m\n\u001b[1;32m      8\u001b[0m         \u001b[0msentences\u001b[0m \u001b[0;34m=\u001b[0m \u001b[0mtokenizer\u001b[0m\u001b[0;34m.\u001b[0m\u001b[0mtokenize\u001b[0m\u001b[0;34m(\u001b[0m\u001b[0mreview\u001b[0m\u001b[0;34m)\u001b[0m\u001b[0;34m\u001b[0m\u001b[0;34m\u001b[0m\u001b[0m\n\u001b[0;32m----> 9\u001b[0;31m         \u001b[0msid\u001b[0m \u001b[0;34m=\u001b[0m \u001b[0mSentimentIntensityAnalyzer\u001b[0m\u001b[0;34m(\u001b[0m\u001b[0;34m)\u001b[0m\u001b[0;34m\u001b[0m\u001b[0;34m\u001b[0m\u001b[0m\n\u001b[0m\u001b[1;32m     10\u001b[0m         \u001b[0;32mfor\u001b[0m \u001b[0msentence\u001b[0m \u001b[0;32min\u001b[0m \u001b[0msentences\u001b[0m\u001b[0;34m:\u001b[0m\u001b[0;34m\u001b[0m\u001b[0;34m\u001b[0m\u001b[0m\n\u001b[1;32m     11\u001b[0m             \u001b[0mindex\u001b[0m\u001b[0;34m.\u001b[0m\u001b[0mappend\u001b[0m\u001b[0;34m(\u001b[0m\u001b[0mi\u001b[0m\u001b[0;34m)\u001b[0m\u001b[0;34m\u001b[0m\u001b[0;34m\u001b[0m\u001b[0m\n",
      "\u001b[0;32m~/.local/lib/python3.7/site-packages/nltk/sentiment/vader.py\u001b[0m in \u001b[0;36m__init__\u001b[0;34m(self, lexicon_file)\u001b[0m\n\u001b[1;32m    333\u001b[0m     ):\n\u001b[1;32m    334\u001b[0m         \u001b[0mself\u001b[0m\u001b[0;34m.\u001b[0m\u001b[0mlexicon_file\u001b[0m \u001b[0;34m=\u001b[0m \u001b[0mnltk\u001b[0m\u001b[0;34m.\u001b[0m\u001b[0mdata\u001b[0m\u001b[0;34m.\u001b[0m\u001b[0mload\u001b[0m\u001b[0;34m(\u001b[0m\u001b[0mlexicon_file\u001b[0m\u001b[0;34m)\u001b[0m\u001b[0;34m\u001b[0m\u001b[0;34m\u001b[0m\u001b[0m\n\u001b[0;32m--> 335\u001b[0;31m         \u001b[0mself\u001b[0m\u001b[0;34m.\u001b[0m\u001b[0mlexicon\u001b[0m \u001b[0;34m=\u001b[0m \u001b[0mself\u001b[0m\u001b[0;34m.\u001b[0m\u001b[0mmake_lex_dict\u001b[0m\u001b[0;34m(\u001b[0m\u001b[0;34m)\u001b[0m\u001b[0;34m\u001b[0m\u001b[0;34m\u001b[0m\u001b[0m\n\u001b[0m\u001b[1;32m    336\u001b[0m \u001b[0;34m\u001b[0m\u001b[0m\n\u001b[1;32m    337\u001b[0m     \u001b[0;32mdef\u001b[0m \u001b[0mmake_lex_dict\u001b[0m\u001b[0;34m(\u001b[0m\u001b[0mself\u001b[0m\u001b[0;34m)\u001b[0m\u001b[0;34m:\u001b[0m\u001b[0;34m\u001b[0m\u001b[0;34m\u001b[0m\u001b[0m\n",
      "\u001b[0;32m~/.local/lib/python3.7/site-packages/nltk/sentiment/vader.py\u001b[0m in \u001b[0;36mmake_lex_dict\u001b[0;34m(self)\u001b[0m\n\u001b[1;32m    341\u001b[0m         \u001b[0mlex_dict\u001b[0m \u001b[0;34m=\u001b[0m \u001b[0;34m{\u001b[0m\u001b[0;34m}\u001b[0m\u001b[0;34m\u001b[0m\u001b[0;34m\u001b[0m\u001b[0m\n\u001b[1;32m    342\u001b[0m         \u001b[0;32mfor\u001b[0m \u001b[0mline\u001b[0m \u001b[0;32min\u001b[0m \u001b[0mself\u001b[0m\u001b[0;34m.\u001b[0m\u001b[0mlexicon_file\u001b[0m\u001b[0;34m.\u001b[0m\u001b[0msplit\u001b[0m\u001b[0;34m(\u001b[0m\u001b[0;34m'\\n'\u001b[0m\u001b[0;34m)\u001b[0m\u001b[0;34m:\u001b[0m\u001b[0;34m\u001b[0m\u001b[0;34m\u001b[0m\u001b[0m\n\u001b[0;32m--> 343\u001b[0;31m             \u001b[0;34m(\u001b[0m\u001b[0mword\u001b[0m\u001b[0;34m,\u001b[0m \u001b[0mmeasure\u001b[0m\u001b[0;34m)\u001b[0m \u001b[0;34m=\u001b[0m \u001b[0mline\u001b[0m\u001b[0;34m.\u001b[0m\u001b[0mstrip\u001b[0m\u001b[0;34m(\u001b[0m\u001b[0;34m)\u001b[0m\u001b[0;34m.\u001b[0m\u001b[0msplit\u001b[0m\u001b[0;34m(\u001b[0m\u001b[0;34m'\\t'\u001b[0m\u001b[0;34m)\u001b[0m\u001b[0;34m[\u001b[0m\u001b[0;36m0\u001b[0m\u001b[0;34m:\u001b[0m\u001b[0;36m2\u001b[0m\u001b[0;34m]\u001b[0m\u001b[0;34m\u001b[0m\u001b[0;34m\u001b[0m\u001b[0m\n\u001b[0m\u001b[1;32m    344\u001b[0m             \u001b[0mlex_dict\u001b[0m\u001b[0;34m[\u001b[0m\u001b[0mword\u001b[0m\u001b[0;34m]\u001b[0m \u001b[0;34m=\u001b[0m \u001b[0mfloat\u001b[0m\u001b[0;34m(\u001b[0m\u001b[0mmeasure\u001b[0m\u001b[0;34m)\u001b[0m\u001b[0;34m\u001b[0m\u001b[0;34m\u001b[0m\u001b[0m\n\u001b[1;32m    345\u001b[0m         \u001b[0;32mreturn\u001b[0m \u001b[0mlex_dict\u001b[0m\u001b[0;34m\u001b[0m\u001b[0;34m\u001b[0m\u001b[0m\n",
      "\u001b[0;31mKeyboardInterrupt\u001b[0m: "
     ]
    }
   ],
   "source": [
    "VAL = 0.3\n",
    "df_list = []\n",
    "for i in range(0, len(reviews_list), 1000):\n",
    "    print(len(reviews_list)-i)\n",
    "    a = sentiment_score(reviews_list[i:i+1000])\n",
    "    df_list.append(a)\n",
    "\n",
    "\n",
    "# a = sentiment_score(reviews_list[0:10000])\n",
    "# df = sentiment_score(reviews_list)\n",
    "\n",
    "# positive_phrases = make_positive_phrases(df, VAL)\n",
    "# negative_phrases = make_negative_phrases(df, VAL)"
   ]
  },
  {
   "cell_type": "code",
   "execution_count": 6,
   "metadata": {},
   "outputs": [],
   "source": [
    "df = pd.concat(df_list)"
   ]
  },
  {
   "cell_type": "code",
   "execution_count": 9,
   "metadata": {},
   "outputs": [
    {
     "data": {
      "text/plain": [
       "food                    10024\n",
       "pizza                    3808\n",
       "restaurant               3333\n",
       "friendly                 2156\n",
       "nice                     1999\n",
       "                        ...  \n",
       "extremely consistent        2\n",
       "standard Chinese            2\n",
       "hot garlic                  2\n",
       "changed owners              2\n",
       "man working                 2\n",
       "Name: phrases, Length: 9127, dtype: int64"
      ]
     },
     "execution_count": 9,
     "metadata": {},
     "output_type": "execute_result"
    }
   ],
   "source": [
    "positive_phrases"
   ]
  },
  {
   "cell_type": "code",
   "execution_count": 7,
   "metadata": {},
   "outputs": [],
   "source": [
    "positive_phrases = make_positive_phrases(df, VAL)\n",
    "negative_phrases = make_negative_phrases(df, VAL)"
   ]
  },
  {
   "cell_type": "code",
   "execution_count": 11,
   "metadata": {},
   "outputs": [],
   "source": [
    "df.to_csv('../data/tmp/restaurant.csv', index=False)\n",
    "positive_phrases.to_csv('../data/tmp/positive.csv')\n",
    "negative_phrases.to_csv('../data/tmp/negative.csv')"
   ]
  },
  {
   "cell_type": "code",
   "execution_count": 49,
   "metadata": {},
   "outputs": [],
   "source": [
    "d = pd.read_csv('../data/tmp/sentiment.csv')"
   ]
  },
  {
   "cell_type": "code",
   "execution_count": null,
   "metadata": {},
   "outputs": [],
   "source": [
    "schema = T.StructType([\n",
    "    T.StructField(\"index\", T.IntegerType(), True),\n",
    "    T.StructField(\"sentence\", T.StringType(), True),\n",
    "    T.StructField(\"neg\", T.FloatType(), True),   \n",
    "    T.StructField(\"neu\", T.FloatType(), True),   \n",
    "    T.StructField(\"pos\", T.FloatType(), True),   \n",
    "    T.StructField(\"compound\", T.FloatType(), True),   \n",
    "    T.StructField(\"phrases\", T.ArrayType(), True),      \n",
    "])"
   ]
  },
  {
   "cell_type": "code",
   "execution_count": 112,
   "metadata": {},
   "outputs": [],
   "source": [
    "start = lv_pandas[lv_pandas.business_id=='Q_dh08clYUPj13GmCRzIVA'].index.min()"
   ]
  },
  {
   "cell_type": "code",
   "execution_count": 113,
   "metadata": {},
   "outputs": [],
   "source": [
    "end = lv_pandas[lv_pandas.business_id=='Q_dh08clYUPj13GmCRzIVA'].index.max()"
   ]
  },
  {
   "cell_type": "code",
   "execution_count": 115,
   "metadata": {},
   "outputs": [],
   "source": [
    "df = df[start:end+1]"
   ]
  },
  {
   "cell_type": "code",
   "execution_count": null,
   "metadata": {},
   "outputs": [],
   "source": [
    "def make_sentimented_restaurant(reviews_list, VAL):\n",
    "    df = sentiment_score(reviews_list)\n",
    "    positive_phrases = make_positive_phrases(df, VAL)\n",
    "    negative_phrases = make_negative_phrases(df, VAL)\n",
    "    return df, positive_phrases, negative_phrases"
   ]
  },
  {
   "cell_type": "code",
   "execution_count": 116,
   "metadata": {
    "scrolled": true
   },
   "outputs": [
    {
     "data": {
      "text/plain": [
       "array(['My all time favorite (because of taste and healthiness) is the Teriyaki Chicken Sandwich!',\n",
       "       'Combined with the Light Minute Maid Lemonade it is an awesome and low calorie meal.',\n",
       "       'So why would I be giving a Fast Food chain location a 5 star rating?',\n",
       "       \"The chocolate shake IS the best I've EVER had from a drive thru.\",\n",
       "       \"The single best chicken strips i've ever had (but they may need new sauces, tired of BBQ...but still outstanding nonetheless).\",\n",
       "       'Brilliant for my late night guru-ness.', 'The manager is sweet.',\n",
       "       \"Yes I do know food I've been in the industry 15 yrs.\",\n",
       "       'Bad place to put them right across from in n out, but when in n out is busy this is a good alternative.',\n",
       "       \"Don't try the new Texas burger, get the Memphis instead(much better deal).\",\n",
       "       'Burger isn\\'t bad once you take them off, but then again it\\'s pretty much a Memphis with less \"brisket.\"',\n",
       "       'Can enjoy the $6 dollar burger either with bun or low carb style.',\n",
       "       \"I haven't tried much on their menu but their chicken guacamole burger is good, and so is their turkey burger.\",\n",
       "       'However... they advertise hand breaded chicken fingers and WOW they are REALLLLLY GOOD.',\n",
       "       \"I'm a Carl's Jr fan for their fried zucchini and their crisscut waffle fries.\",\n",
       "       'I definitely choose their chicken sandwich over any other fast food place in town that is.',\n",
       "       \"Their customer service could be a bit better though but it doesn't stop me from coming back.\",\n",
       "       \"They're my classics :)\",\n",
       "       'Looks like we are going to have to find another one.',\n",
       "       'My all time favorite (because of taste and healthiness) is the Teriyaki Chicken Sandwich!',\n",
       "       'Combined with the Light Minute Maid Lemonade it is an awesome and low calorie meal.',\n",
       "       'They were pretty good and I ate there all the time.',\n",
       "       'We were assured several times that our food would be right out by who we think was the manager.',\n",
       "       'My wife got her burger with their trendy version of french fries that look like little more than thick potato chips.',\n",
       "       'The food itself was OK, but again used to be much better.',\n",
       "       'My wife did say the Portabello burger was good.',\n",
       "       \"I really wish I didn't have to write this, since the previous establishment had been so good and we went there often.\",\n",
       "       'The old thin fries were really good when fresh.',\n",
       "       'BUT the chicken was still really good and so were the sauces.',\n",
       "       'Which was good because they got rid of the combos anyways.',\n",
       "       'Now they have a BBQ Honey Mustard and Sweet Bourbon BBQ sauce.',\n",
       "       \"I'm glad I got the side of ranch as well.\",\n",
       "       'They kept pushing how healthy the chicken was since it was',\n",
       "       'Before we even ate anything, I already liked the place.',\n",
       "       'We were greeted right away and as we were waiting for the eats, we were entertained my the one liners on the wall, \"Do you have a sunburn or are you always this HOT?\"',\n",
       "       'Please??',\n",
       "       \"Everything was pretty good, the only complaint that I'd make if anything was the bread for the brat was dry, flavorless and fell apart, otherwise it was good.\",\n",
       "       'We enjoyed our visit, laid back atmosphere, organic meats, friendly staff-- def a repeat visit in the future.',\n",
       "       'Hopefully they have beer next time ;)',\n",
       "       'The food quite good, the onion rings were pretty damn good, served cold would have \"ROCKED\" if served hot~\\n   The place has a fun feel to it with the drawings & pick up lines on the walls .',\n",
       "       'The girl who took our order was helpful on explaining the menu.',\n",
       "       \"The burgers are grass fed all beef and are very delicious and if you're in the mood for comfort then get some wings they are bigger than Buffalo Wild Wings and they have a good selection of sauces to go with and even have an all you can eat wing option and all you can eat salad bar.\",\n",
       "       'The service was fantastic, very friendly.',\n",
       "       'These are clearly handmade, the batter had excellent corn flavor and the dogs inside were thick and juicy.',\n",
       "       'Also good with ranch, or my favorite, classic yellow mustard.',\n",
       "       'I feel like a lot of places these days ask you how you want a burger cooked and then cook it medium well no matter what you say.',\n",
       "       'The bun was a soft sesame seed bun, which tastes good but loses something in structural integrity.',\n",
       "       'I had to finish with a fork, but that was fine, it was a fantastic burger.',\n",
       "       \"The onion rings were unlike any I've had, I would describe the better as almost funnel cake like.\",\n",
       "       'It was light and very crisp and had a bit of sweetness.',\n",
       "       'We really liked these, and an order is huge.',\n",
       "       'Definitely share these.',\n",
       "       'I didnt have that because it looked like the mushrooms, eggs and veggies had been untouched all day since they were laid out.',\n",
       "       'The sauces on the wings were delicious.',\n",
       "       'I enjoyed the Honey BBQ, the Teri-Q and Medium.',\n",
       "       'The Medium had just enough heat to make my mouth tingle, but it tasted like butter at the same time.',\n",
       "       'The Honey BBQ was sweet.',\n",
       "       \"The wings sizes won me over, and the fact it's not blaring loud over all the folks and music and games like it is with the other well-known establishments.\",\n",
       "       'Amazing staff ... everyone there is helpful and super friendly.',\n",
       "       'Everyone has a good attitude\\n\\nThere was a bunch of us so we tried a little bit of everything.',\n",
       "       'I would recommend fried wings flavored garlic salt and pepper and the cottage fries.',\n",
       "       'The cost is a little pricey but the atmosphere of having great service and good food to me is always a reason to return.',\n",
       "       'They were pretty good and I ate there all the time.',\n",
       "       'We were assured several times that our food would be right out by who we think was the manager.',\n",
       "       'My wife got her burger with their trendy version of french fries that look like little more than thick potato chips.',\n",
       "       'The food itself was OK, but again used to be much better.',\n",
       "       'My wife did say the Portabello burger was good.',\n",
       "       \"I really wish I didn't have to write this, since the previous establishment had been so good and we went there often.\",\n",
       "       'The old thin fries were really good when fresh.',\n",
       "       'BUT the chicken was still really good and so were the sauces.',\n",
       "       'Which was good because they got rid of the combos anyways.',\n",
       "       'Now they have a BBQ Honey Mustard and Sweet Bourbon BBQ sauce.',\n",
       "       \"I'm glad I got the side of ranch as well.\",\n",
       "       'They kept pushing how healthy the chicken was since it was',\n",
       "       'Before we even ate anything, I already liked the place.',\n",
       "       'We were greeted right away and as we were waiting for the eats, we were entertained my the one liners on the wall, \"Do you have a sunburn or are you always this HOT?\"',\n",
       "       'Please??',\n",
       "       \"Everything was pretty good, the only complaint that I'd make if anything was the bread for the brat was dry, flavorless and fell apart, otherwise it was good.\",\n",
       "       'We enjoyed our visit, laid back atmosphere, organic meats, friendly staff-- def a repeat visit in the future.',\n",
       "       'Hopefully they have beer next time ;)',\n",
       "       'The food quite good, the onion rings were pretty damn good, served cold would have \"ROCKED\" if served hot~\\n   The place has a fun feel to it with the drawings & pick up lines on the walls .',\n",
       "       'The girl who took our order was helpful on explaining the menu.',\n",
       "       \"The burgers are grass fed all beef and are very delicious and if you're in the mood for comfort then get some wings they are bigger than Buffalo Wild Wings and they have a good selection of sauces to go with and even have an all you can eat wing option and all you can eat salad bar.\",\n",
       "       'The service was fantastic, very friendly.'], dtype=object)"
      ]
     },
     "execution_count": 116,
     "metadata": {},
     "output_type": "execute_result"
    }
   ],
   "source": [
    "clean_phrases(df[df['compound']>=POS].sentence).values"
   ]
  },
  {
   "cell_type": "code",
   "execution_count": 117,
   "metadata": {
    "scrolled": true
   },
   "outputs": [
    {
     "data": {
      "text/plain": [
       "chicken             8\n",
       "food                8\n",
       "sauces              6\n",
       "Honey               4\n",
       "friendly            4\n",
       "                   ..\n",
       "sandwich            1\n",
       "corn                1\n",
       "pepper              1\n",
       "games               1\n",
       "customer service    1\n",
       "Name: phrases, Length: 91, dtype: int64"
      ]
     },
     "execution_count": 117,
     "metadata": {},
     "output_type": "execute_result"
    }
   ],
   "source": [
    "clean_phrases(df[['compound', 'phrases']][df['compound']>=POS].phrases.explode().dropna()).value_counts()"
   ]
  },
  {
   "cell_type": "code",
   "execution_count": 118,
   "metadata": {
    "scrolled": true
   },
   "outputs": [
    {
     "data": {
      "text/plain": [
       "array(['The cook that works on late shift SUCKS.',\n",
       "       'never have i ate anywhere to the level of grossness this place offered.',\n",
       "       'So after being in shock of what just happened i took the bun off once again and saw some of my lettuce was black.',\n",
       "       'And the worst part it that the chicken patty was grey with some spots of meat missing inside its really hard to explain when i called the manager she really was not too concerned with the quality offered me to remake the burger .',\n",
       "       'So when i got there i went inside for my refund and it was not the best looking inside either all the employees seemed to not even care that they served me that and they gave me a small fountain cup while i waited and the soda was flat.',\n",
       "       'I then realized the problem is with management and not running that location right.',\n",
       "       'Lack of employee quality.', 'The jalapeño straws are worthless!',\n",
       "       'The bad part is they are over priced for em though.',\n",
       "       'Their restraints have always been good or bad, meaning you know which ones to eat at and which ones to avoid.',\n",
       "       'Yesterday, the food was horrible and incorrectly made, the restaurant and the bathroom were both dirty, and the service was not good.',\n",
       "       'It was as if the manager was AWOL and the workers did not care about their jobs enough to step up and run the place correctly.',\n",
       "       'Horrible!!!', 'GROSS all around!',\n",
       "       'A few months ago they broke from the franchise and renamed Meat Chix and Wieners.',\n",
       "       'No hot sauce, no onion rings.',\n",
       "       'A few minutes later we get the onion rings, but no sauce or apology.',\n",
       "       'The order of \"fries\"  was small and not particularly good.',\n",
       "       'Really disappointed since I did want to try this place.',\n",
       "       'The new fries were boring and lacked flavor.',\n",
       "       'A few months ago they broke from the franchise and renamed Meat Chix and Wieners.',\n",
       "       'No hot sauce, no onion rings.',\n",
       "       'A few minutes later we get the onion rings, but no sauce or apology.',\n",
       "       'The order of \"fries\"  was small and not particularly good.',\n",
       "       'Really disappointed since I did want to try this place.',\n",
       "       'The new fries were boring and lacked flavor.'], dtype=object)"
      ]
     },
     "execution_count": 118,
     "metadata": {},
     "output_type": "execute_result"
    }
   ],
   "source": [
    "clean_phrases(df[df['compound']<=NEG].sentence).values"
   ]
  },
  {
   "cell_type": "code",
   "execution_count": 119,
   "metadata": {},
   "outputs": [
    {
     "data": {
      "text/plain": [
       "onion            4\n",
       "fries            4\n",
       "lacked flavor    2\n",
       "manager          2\n",
       "months ago       2\n",
       "sauce            2\n",
       "Meat             2\n",
       "order            2\n",
       "hot sauce        2\n",
       "late shift       1\n",
       "bun              1\n",
       "chicken patty    1\n",
       "black            1\n",
       "restaurant       1\n",
       "fountain         1\n",
       "meat             1\n",
       "food             1\n",
       "management       1\n",
       "jalapeño         1\n",
       "remake           1\n",
       "lettuce          1\n",
       "Name: phrases, dtype: int64"
      ]
     },
     "execution_count": 119,
     "metadata": {},
     "output_type": "execute_result"
    }
   ],
   "source": [
    "clean_phrases(df[['compound', 'phrases']][df['compound']<=NEG].phrases.explode().dropna()).value_counts()"
   ]
  },
  {
   "cell_type": "code",
   "execution_count": 83,
   "metadata": {},
   "outputs": [
    {
     "ename": "NameError",
     "evalue": "name 'make_sentimented_restaurant' is not defined",
     "output_type": "error",
     "traceback": [
      "\u001b[0;31m\u001b[0m",
      "\u001b[0;31mNameError\u001b[0mTraceback (most recent call last)",
      "\u001b[0;32m<ipython-input-83-7cb9655a346c>\u001b[0m in \u001b[0;36m<module>\u001b[0;34m\u001b[0m\n\u001b[0;32m----> 1\u001b[0;31m \u001b[0mdf\u001b[0m\u001b[0;34m,\u001b[0m \u001b[0mpositive_phrases\u001b[0m\u001b[0;34m,\u001b[0m \u001b[0mnegative_phraes\u001b[0m \u001b[0;34m=\u001b[0m \u001b[0mmake_sentimented_restaurant\u001b[0m\u001b[0;34m(\u001b[0m\u001b[0mreviews_list\u001b[0m\u001b[0;34m[\u001b[0m\u001b[0;36m0\u001b[0m\u001b[0;34m:\u001b[0m\u001b[0;36m59\u001b[0m\u001b[0;34m]\u001b[0m\u001b[0;34m,\u001b[0m \u001b[0mVAL\u001b[0m\u001b[0;34m)\u001b[0m\u001b[0;34m\u001b[0m\u001b[0;34m\u001b[0m\u001b[0m\n\u001b[0m",
      "\u001b[0;31mNameError\u001b[0m: name 'make_sentimented_restaurant' is not defined"
     ]
    }
   ],
   "source": [
    "df, positive_phrases, negative_phraes = make_sentimented_restaurant(reviews_list[0:59], VAL)"
   ]
  },
  {
   "cell_type": "code",
   "execution_count": 84,
   "metadata": {},
   "outputs": [
    {
     "data": {
      "text/plain": [
       "food          3683\n",
       "vegan         1615\n",
       "restaurant    1400\n",
       "meat           878\n",
       "friendly       821\n",
       "Name: phrases, dtype: int64"
      ]
     },
     "execution_count": 84,
     "metadata": {},
     "output_type": "execute_result"
    }
   ],
   "source": [
    "positive_phrases[0:5]#[0:10]"
   ]
  },
  {
   "cell_type": "code",
   "execution_count": 85,
   "metadata": {},
   "outputs": [
    {
     "data": {
      "image/png": "[encoded data removed]",
      "text/plain": [
       "<Figure size 432x288 with 1 Axes>"
      ]
     },
     "metadata": {
      "needs_background": "light"
     },
     "output_type": "display_data"
    }
   ],
   "source": [
    "positive_phrases[0:10].plot.barh(title='Top 10 Positive Phrases').invert_yaxis()"
   ]
  },
  {
   "cell_type": "code",
   "execution_count": 28,
   "metadata": {},
   "outputs": [
    {
     "data": {
      "image/png": "[encoded data removed]",
      "text/plain": [
       "<Figure size 432x288 with 1 Axes>"
      ]
     },
     "metadata": {
      "needs_background": "light"
     },
     "output_type": "display_data"
    }
   ],
   "source": [
    "negative_phrases[0:10].plot.barh(title='Top 10 Negative Phrases').invert_yaxis()"
   ]
  },
  {
   "cell_type": "code",
   "execution_count": 15,
   "metadata": {},
   "outputs": [],
   "source": [
    "df = df.assign(tokens=df.sentence.str.split(' '))"
   ]
  },
  {
   "cell_type": "code",
   "execution_count": 48,
   "metadata": {},
   "outputs": [],
   "source": [
    "df = df.assign(tokens=df.tokens.apply(lambda x: len(x)))"
   ]
  },
  {
   "cell_type": "code",
   "execution_count": 16,
   "metadata": {},
   "outputs": [
    {
     "data": {
      "text/html": [
       "<div>\n",
       "<style scoped>\n",
       "    .dataframe tbody tr th:only-of-type {\n",
       "        vertical-align: middle;\n",
       "    }\n",
       "\n",
       "    .dataframe tbody tr th {\n",
       "        vertical-align: top;\n",
       "    }\n",
       "\n",
       "    .dataframe thead th {\n",
       "        text-align: right;\n",
       "    }\n",
       "</style>\n",
       "<table border=\"1\" class=\"dataframe\">\n",
       "  <thead>\n",
       "    <tr style=\"text-align: right;\">\n",
       "      <th></th>\n",
       "      <th>index</th>\n",
       "      <th>sentence</th>\n",
       "      <th>neg</th>\n",
       "      <th>neu</th>\n",
       "      <th>pos</th>\n",
       "      <th>compound</th>\n",
       "      <th>phrases</th>\n",
       "      <th>tokens</th>\n",
       "    </tr>\n",
       "  </thead>\n",
       "  <tbody>\n",
       "    <tr>\n",
       "      <th>0</th>\n",
       "      <td>0</td>\n",
       "      <td>So why would I be giving a &lt;phrase&gt;Fast Food c...</td>\n",
       "      <td>0.000</td>\n",
       "      <td>0.806</td>\n",
       "      <td>0.194</td>\n",
       "      <td>0.3400</td>\n",
       "      <td>[&lt;phrase&gt;Fast Food chain&lt;/phrase&gt;, &lt;phrase&gt;sta...</td>\n",
       "      <td>[So, why, would, I, be, giving, a, &lt;phrase&gt;Fas...</td>\n",
       "    </tr>\n",
       "    <tr>\n",
       "      <th>1</th>\n",
       "      <td>0</td>\n",
       "      <td>For some reason, THIS &lt;phrase&gt;Carl's Jr&lt;/phrase&gt;.</td>\n",
       "      <td>0.000</td>\n",
       "      <td>1.000</td>\n",
       "      <td>0.000</td>\n",
       "      <td>0.0000</td>\n",
       "      <td>[&lt;phrase&gt;Carl's Jr&lt;/phrase&gt;]</td>\n",
       "      <td>[For, some, reason,, THIS, &lt;phrase&gt;Carl's, Jr&lt;...</td>\n",
       "    </tr>\n",
       "    <tr>\n",
       "      <th>2</th>\n",
       "      <td>0</td>\n",
       "      <td>is one in a million.</td>\n",
       "      <td>0.000</td>\n",
       "      <td>1.000</td>\n",
       "      <td>0.000</td>\n",
       "      <td>0.0000</td>\n",
       "      <td>[]</td>\n",
       "      <td>[is, one, in, a, million.]</td>\n",
       "    </tr>\n",
       "    <tr>\n",
       "      <th>3</th>\n",
       "      <td>0</td>\n",
       "      <td>Yes, there is an In-and-Out across the street ...</td>\n",
       "      <td>0.000</td>\n",
       "      <td>0.896</td>\n",
       "      <td>0.104</td>\n",
       "      <td>0.2144</td>\n",
       "      <td>[&lt;phrase&gt;Carl's Jr&lt;/phrase&gt;]</td>\n",
       "      <td>[Yes,, there, is, an, In-and-Out, across, the,...</td>\n",
       "    </tr>\n",
       "    <tr>\n",
       "      <th>4</th>\n",
       "      <td>0</td>\n",
       "      <td>First of all, THEIR SHAKES!!!</td>\n",
       "      <td>0.000</td>\n",
       "      <td>1.000</td>\n",
       "      <td>0.000</td>\n",
       "      <td>0.0000</td>\n",
       "      <td>[]</td>\n",
       "      <td>[First, of, all,, THEIR, SHAKES!!!]</td>\n",
       "    </tr>\n",
       "    <tr>\n",
       "      <th>...</th>\n",
       "      <td>...</td>\n",
       "      <td>...</td>\n",
       "      <td>...</td>\n",
       "      <td>...</td>\n",
       "      <td>...</td>\n",
       "      <td>...</td>\n",
       "      <td>...</td>\n",
       "      <td>...</td>\n",
       "    </tr>\n",
       "    <tr>\n",
       "      <th>6295</th>\n",
       "      <td>999</td>\n",
       "      <td>The &lt;phrase&gt;egg&lt;/phrase&gt; rolls were great, and...</td>\n",
       "      <td>0.000</td>\n",
       "      <td>0.552</td>\n",
       "      <td>0.448</td>\n",
       "      <td>0.8070</td>\n",
       "      <td>[&lt;phrase&gt;egg&lt;/phrase&gt;, &lt;phrase&gt;crab&lt;/phrase&gt;, ...</td>\n",
       "      <td>[The, &lt;phrase&gt;egg&lt;/phrase&gt;, rolls, were, great...</td>\n",
       "    </tr>\n",
       "    <tr>\n",
       "      <th>6296</th>\n",
       "      <td>999</td>\n",
       "      <td>Despite being close to &lt;phrase&gt;china&lt;/phrase&gt; ...</td>\n",
       "      <td>0.111</td>\n",
       "      <td>0.889</td>\n",
       "      <td>0.000</td>\n",
       "      <td>-0.2488</td>\n",
       "      <td>[&lt;phrase&gt;china&lt;/phrase&gt;, &lt;phrase&gt;town&lt;/phrase&gt;]</td>\n",
       "      <td>[Despite, being, close, to, &lt;phrase&gt;china&lt;/phr...</td>\n",
       "    </tr>\n",
       "    <tr>\n",
       "      <th>6297</th>\n",
       "      <td>999</td>\n",
       "      <td>&lt;phrase&gt;Online ordering&lt;/phrase&gt; and delivery ...</td>\n",
       "      <td>0.000</td>\n",
       "      <td>1.000</td>\n",
       "      <td>0.000</td>\n",
       "      <td>0.0000</td>\n",
       "      <td>[&lt;phrase&gt;Online ordering&lt;/phrase&gt;]</td>\n",
       "      <td>[&lt;phrase&gt;Online, ordering&lt;/phrase&gt;, and, deliv...</td>\n",
       "    </tr>\n",
       "    <tr>\n",
       "      <th>6298</th>\n",
       "      <td>999</td>\n",
       "      <td>&lt;phrase&gt;Wor&lt;/phrase&gt; &lt;phrase&gt;wonton&lt;/phrase&gt; i...</td>\n",
       "      <td>0.246</td>\n",
       "      <td>0.590</td>\n",
       "      <td>0.164</td>\n",
       "      <td>-0.1675</td>\n",
       "      <td>[&lt;phrase&gt;Wor&lt;/phrase&gt;, &lt;phrase&gt;wonton&lt;/phrase&gt;...</td>\n",
       "      <td>[&lt;phrase&gt;Wor&lt;/phrase&gt;, &lt;phrase&gt;wonton&lt;/phrase&gt;...</td>\n",
       "    </tr>\n",
       "    <tr>\n",
       "      <th>6299</th>\n",
       "      <td>999</td>\n",
       "      <td>The &lt;phrase&gt;broth&lt;/phrase&gt; is so good I want t...</td>\n",
       "      <td>0.000</td>\n",
       "      <td>0.555</td>\n",
       "      <td>0.445</td>\n",
       "      <td>0.6820</td>\n",
       "      <td>[&lt;phrase&gt;broth&lt;/phrase&gt;]</td>\n",
       "      <td>[The, &lt;phrase&gt;broth&lt;/phrase&gt;, is, so, good, I,...</td>\n",
       "    </tr>\n",
       "  </tbody>\n",
       "</table>\n",
       "<p>281140 rows × 8 columns</p>\n",
       "</div>"
      ],
      "text/plain": [
       "      index                                           sentence    neg    neu  \\\n",
       "0         0  So why would I be giving a <phrase>Fast Food c...  0.000  0.806   \n",
       "1         0  For some reason, THIS <phrase>Carl's Jr</phrase>.  0.000  1.000   \n",
       "2         0                               is one in a million.  0.000  1.000   \n",
       "3         0  Yes, there is an In-and-Out across the street ...  0.000  0.896   \n",
       "4         0                      First of all, THEIR SHAKES!!!  0.000  1.000   \n",
       "...     ...                                                ...    ...    ...   \n",
       "6295    999  The <phrase>egg</phrase> rolls were great, and...  0.000  0.552   \n",
       "6296    999  Despite being close to <phrase>china</phrase> ...  0.111  0.889   \n",
       "6297    999  <phrase>Online ordering</phrase> and delivery ...  0.000  1.000   \n",
       "6298    999  <phrase>Wor</phrase> <phrase>wonton</phrase> i...  0.246  0.590   \n",
       "6299    999  The <phrase>broth</phrase> is so good I want t...  0.000  0.555   \n",
       "\n",
       "        pos  compound                                            phrases  \\\n",
       "0     0.194    0.3400  [<phrase>Fast Food chain</phrase>, <phrase>sta...   \n",
       "1     0.000    0.0000                       [<phrase>Carl's Jr</phrase>]   \n",
       "2     0.000    0.0000                                                 []   \n",
       "3     0.104    0.2144                       [<phrase>Carl's Jr</phrase>]   \n",
       "4     0.000    0.0000                                                 []   \n",
       "...     ...       ...                                                ...   \n",
       "6295  0.448    0.8070  [<phrase>egg</phrase>, <phrase>crab</phrase>, ...   \n",
       "6296  0.000   -0.2488    [<phrase>china</phrase>, <phrase>town</phrase>]   \n",
       "6297  0.000    0.0000                 [<phrase>Online ordering</phrase>]   \n",
       "6298  0.164   -0.1675  [<phrase>Wor</phrase>, <phrase>wonton</phrase>...   \n",
       "6299  0.445    0.6820                           [<phrase>broth</phrase>]   \n",
       "\n",
       "                                                 tokens  \n",
       "0     [So, why, would, I, be, giving, a, <phrase>Fas...  \n",
       "1     [For, some, reason,, THIS, <phrase>Carl's, Jr<...  \n",
       "2                            [is, one, in, a, million.]  \n",
       "3     [Yes,, there, is, an, In-and-Out, across, the,...  \n",
       "4                   [First, of, all,, THEIR, SHAKES!!!]  \n",
       "...                                                 ...  \n",
       "6295  [The, <phrase>egg</phrase>, rolls, were, great...  \n",
       "6296  [Despite, being, close, to, <phrase>china</phr...  \n",
       "6297  [<phrase>Online, ordering</phrase>, and, deliv...  \n",
       "6298  [<phrase>Wor</phrase>, <phrase>wonton</phrase>...  \n",
       "6299  [The, <phrase>broth</phrase>, is, so, good, I,...  \n",
       "\n",
       "[281140 rows x 8 columns]"
      ]
     },
     "execution_count": 16,
     "metadata": {},
     "output_type": "execute_result"
    }
   ],
   "source": [
    "df.tokens"
   ]
  },
  {
   "cell_type": "code",
   "execution_count": 63,
   "metadata": {},
   "outputs": [],
   "source": [
    "df_rev = df.groupby('index')[['compound', 'tokens']].sum()"
   ]
  },
  {
   "cell_type": "code",
   "execution_count": 72,
   "metadata": {},
   "outputs": [
    {
     "data": {
      "image/png": "[encoded data removed]",
      "text/plain": [
       "<Figure size 432x288 with 1 Axes>"
      ]
     },
     "metadata": {
      "needs_background": "light"
     },
     "output_type": "display_data"
    }
   ],
   "source": [
    "plt.hist(df_rev.compound)\n",
    "plt.title(label='Distribution of Sentiment')\n",
    "plt.show()"
   ]
  },
  {
   "cell_type": "code",
   "execution_count": 73,
   "metadata": {},
   "outputs": [
    {
     "data": {
      "image/png": "[encoded data removed]",
      "text/plain": [
       "<Figure size 432x288 with 1 Axes>"
      ]
     },
     "metadata": {
      "needs_background": "light"
     },
     "output_type": "display_data"
    }
   ],
   "source": [
    "plt.hist(df_rev.tokens)\n",
    "plt.title(label='Distribution of Review Length')\n",
    "plt.show()"
   ]
  },
  {
   "cell_type": "code",
   "execution_count": 69,
   "metadata": {},
   "outputs": [
    {
     "data": {
      "image/png": "[encoded data removed]",
      "text/plain": [
       "<Figure size 432x288 with 1 Axes>"
      ]
     },
     "metadata": {
      "needs_background": "light"
     },
     "output_type": "display_data"
    }
   ],
   "source": [
    "plt.scatter(x=df_rev['tokens'], y=df_rev['compound'])\n",
    "plt.title(\"Scatterplot of Sentiment vs. Review Length\")\n",
    "plt.show()"
   ]
  },
  {
   "cell_type": "code",
   "execution_count": 77,
   "metadata": {},
   "outputs": [
    {
     "data": {
      "text/plain": [
       "chicken             16\n",
       "Memphis              8\n",
       "guru                 4\n",
       "Fast Food chain      4\n",
       "industry             4\n",
       "bit                  4\n",
       "waffle               4\n",
       "drive thru           4\n",
       "classics             4\n",
       "turkey               4\n",
       "brisket              4\n",
       "manager              4\n",
       "town                 4\n",
       "Carl's Jr            4\n",
       "star                 4\n",
       "guacamole            4\n",
       "strips               4\n",
       "sauces               4\n",
       "low carb             4\n",
       "fast food            4\n",
       "late night           4\n",
       "food                 4\n",
       "customer service     4\n",
       "dollar burger        4\n",
       "fried zucchini       4\n",
       "bun                  4\n",
       "hand breaded         4\n",
       "single               4\n",
       "chocolate            4\n",
       "alternative          4\n",
       "Texas                4\n",
       "fries                4\n",
       "sandwich             4\n",
       "Teriyaki             3\n",
       "Chicken              3\n",
       "Minute Maid          3\n",
       "low calorie          3\n",
       "Lemonade             3\n",
       "taste                3\n",
       "Light                3\n",
       "Sandwich             3\n",
       "Name: phrases, dtype: int64"
      ]
     },
     "execution_count": 77,
     "metadata": {},
     "output_type": "execute_result"
    }
   ],
   "source": [
    "positive_phrases"
   ]
  },
  {
   "cell_type": "code",
   "execution_count": 5,
   "metadata": {},
   "outputs": [
    {
     "data": {
      "text/html": [
       "<div>\n",
       "<style scoped>\n",
       "    .dataframe tbody tr th:only-of-type {\n",
       "        vertical-align: middle;\n",
       "    }\n",
       "\n",
       "    .dataframe tbody tr th {\n",
       "        vertical-align: top;\n",
       "    }\n",
       "\n",
       "    .dataframe thead th {\n",
       "        text-align: right;\n",
       "    }\n",
       "</style>\n",
       "<table border=\"1\" class=\"dataframe\">\n",
       "  <thead>\n",
       "    <tr style=\"text-align: right;\">\n",
       "      <th></th>\n",
       "      <th>Unnamed: 0</th>\n",
       "      <th>name</th>\n",
       "      <th>business_id</th>\n",
       "      <th>city</th>\n",
       "      <th>categories</th>\n",
       "      <th>review_id</th>\n",
       "      <th>text</th>\n",
       "      <th>stars</th>\n",
       "    </tr>\n",
       "  </thead>\n",
       "  <tbody>\n",
       "    <tr>\n",
       "      <th>0</th>\n",
       "      <td>0</td>\n",
       "      <td>Carl's Jr</td>\n",
       "      <td>fnZrZlqW1Z8iWgTVDfv_MA</td>\n",
       "      <td>Las Vegas</td>\n",
       "      <td>Mexican, Restaurants, Fast Food</td>\n",
       "      <td>WUAt5-krh075Ie44np8Hew</td>\n",
       "      <td>So why would I be giving a Fast Food chain loc...</td>\n",
       "      <td>5.0</td>\n",
       "    </tr>\n",
       "    <tr>\n",
       "      <th>1</th>\n",
       "      <td>1</td>\n",
       "      <td>Carl's Jr</td>\n",
       "      <td>fnZrZlqW1Z8iWgTVDfv_MA</td>\n",
       "      <td>Las Vegas</td>\n",
       "      <td>Mexican, Restaurants, Fast Food</td>\n",
       "      <td>S9vIs-je49jqbhpWSQ8yHg</td>\n",
       "      <td>I come here bout 3x's a mo. &amp; I just can't do ...</td>\n",
       "      <td>2.0</td>\n",
       "    </tr>\n",
       "    <tr>\n",
       "      <th>2</th>\n",
       "      <td>2</td>\n",
       "      <td>Carl's Jr</td>\n",
       "      <td>fnZrZlqW1Z8iWgTVDfv_MA</td>\n",
       "      <td>Las Vegas</td>\n",
       "      <td>Mexican, Restaurants, Fast Food</td>\n",
       "      <td>i2Soid_X8XsSTyIrPOst6g</td>\n",
       "      <td>WORST experience EVER!!!!! never have i ate an...</td>\n",
       "      <td>1.0</td>\n",
       "    </tr>\n",
       "    <tr>\n",
       "      <th>3</th>\n",
       "      <td>3</td>\n",
       "      <td>Carl's Jr</td>\n",
       "      <td>fnZrZlqW1Z8iWgTVDfv_MA</td>\n",
       "      <td>Las Vegas</td>\n",
       "      <td>Mexican, Restaurants, Fast Food</td>\n",
       "      <td>uDYGaAOUgo7SLuH5nUZs3w</td>\n",
       "      <td>Hot fresh food usually.  Staff seems to turn o...</td>\n",
       "      <td>4.0</td>\n",
       "    </tr>\n",
       "    <tr>\n",
       "      <th>4</th>\n",
       "      <td>4</td>\n",
       "      <td>Carl's Jr</td>\n",
       "      <td>fnZrZlqW1Z8iWgTVDfv_MA</td>\n",
       "      <td>Las Vegas</td>\n",
       "      <td>Mexican, Restaurants, Fast Food</td>\n",
       "      <td>Xg7HuBvuZHTBog1G_2Wk0w</td>\n",
       "      <td>Beer battered cod fish seems really rubbery. I...</td>\n",
       "      <td>3.0</td>\n",
       "    </tr>\n",
       "    <tr>\n",
       "      <th>...</th>\n",
       "      <td>...</td>\n",
       "      <td>...</td>\n",
       "      <td>...</td>\n",
       "      <td>...</td>\n",
       "      <td>...</td>\n",
       "      <td>...</td>\n",
       "      <td>...</td>\n",
       "      <td>...</td>\n",
       "    </tr>\n",
       "    <tr>\n",
       "      <th>595535</th>\n",
       "      <td>595535</td>\n",
       "      <td>S+O Restaurant</td>\n",
       "      <td>lsLelczQjIZLHVt2-e44lA</td>\n",
       "      <td>Las Vegas</td>\n",
       "      <td>American (Traditional), Restaurants, American ...</td>\n",
       "      <td>1BPh4QS80bUS47agxN9UMA</td>\n",
       "      <td>The service was slow every time we went here, ...</td>\n",
       "      <td>4.0</td>\n",
       "    </tr>\n",
       "    <tr>\n",
       "      <th>595536</th>\n",
       "      <td>595536</td>\n",
       "      <td>S+O Restaurant</td>\n",
       "      <td>lsLelczQjIZLHVt2-e44lA</td>\n",
       "      <td>Las Vegas</td>\n",
       "      <td>American (Traditional), Restaurants, American ...</td>\n",
       "      <td>8eTVWv0lBAaYYuUdrWO65Q</td>\n",
       "      <td>Food wasn't that bAd but the service was not s...</td>\n",
       "      <td>3.0</td>\n",
       "    </tr>\n",
       "    <tr>\n",
       "      <th>595537</th>\n",
       "      <td>595537</td>\n",
       "      <td>S+O Restaurant</td>\n",
       "      <td>lsLelczQjIZLHVt2-e44lA</td>\n",
       "      <td>Las Vegas</td>\n",
       "      <td>American (Traditional), Restaurants, American ...</td>\n",
       "      <td>abFueTdsvK4xAkmF_53U9w</td>\n",
       "      <td>I absolutely love the décor and color scheme i...</td>\n",
       "      <td>3.0</td>\n",
       "    </tr>\n",
       "    <tr>\n",
       "      <th>595538</th>\n",
       "      <td>595538</td>\n",
       "      <td>S+O Restaurant</td>\n",
       "      <td>lsLelczQjIZLHVt2-e44lA</td>\n",
       "      <td>Las Vegas</td>\n",
       "      <td>American (Traditional), Restaurants, American ...</td>\n",
       "      <td>X2STQTenLN4w6LPV0TqIpA</td>\n",
       "      <td>What a cute place! We decided to eat here beca...</td>\n",
       "      <td>4.0</td>\n",
       "    </tr>\n",
       "    <tr>\n",
       "      <th>595539</th>\n",
       "      <td>595539</td>\n",
       "      <td>S+O Restaurant</td>\n",
       "      <td>lsLelczQjIZLHVt2-e44lA</td>\n",
       "      <td>Las Vegas</td>\n",
       "      <td>American (Traditional), Restaurants, American ...</td>\n",
       "      <td>hJSatcXA-simo9bgHe_Dkw</td>\n",
       "      <td>I'm so sick of this place! There won't be one ...</td>\n",
       "      <td>1.0</td>\n",
       "    </tr>\n",
       "  </tbody>\n",
       "</table>\n",
       "<p>595540 rows × 8 columns</p>\n",
       "</div>"
      ],
      "text/plain": [
       "        Unnamed: 0            name             business_id       city  \\\n",
       "0                0       Carl's Jr  fnZrZlqW1Z8iWgTVDfv_MA  Las Vegas   \n",
       "1                1       Carl's Jr  fnZrZlqW1Z8iWgTVDfv_MA  Las Vegas   \n",
       "2                2       Carl's Jr  fnZrZlqW1Z8iWgTVDfv_MA  Las Vegas   \n",
       "3                3       Carl's Jr  fnZrZlqW1Z8iWgTVDfv_MA  Las Vegas   \n",
       "4                4       Carl's Jr  fnZrZlqW1Z8iWgTVDfv_MA  Las Vegas   \n",
       "...            ...             ...                     ...        ...   \n",
       "595535      595535  S+O Restaurant  lsLelczQjIZLHVt2-e44lA  Las Vegas   \n",
       "595536      595536  S+O Restaurant  lsLelczQjIZLHVt2-e44lA  Las Vegas   \n",
       "595537      595537  S+O Restaurant  lsLelczQjIZLHVt2-e44lA  Las Vegas   \n",
       "595538      595538  S+O Restaurant  lsLelczQjIZLHVt2-e44lA  Las Vegas   \n",
       "595539      595539  S+O Restaurant  lsLelczQjIZLHVt2-e44lA  Las Vegas   \n",
       "\n",
       "                                               categories  \\\n",
       "0                         Mexican, Restaurants, Fast Food   \n",
       "1                         Mexican, Restaurants, Fast Food   \n",
       "2                         Mexican, Restaurants, Fast Food   \n",
       "3                         Mexican, Restaurants, Fast Food   \n",
       "4                         Mexican, Restaurants, Fast Food   \n",
       "...                                                   ...   \n",
       "595535  American (Traditional), Restaurants, American ...   \n",
       "595536  American (Traditional), Restaurants, American ...   \n",
       "595537  American (Traditional), Restaurants, American ...   \n",
       "595538  American (Traditional), Restaurants, American ...   \n",
       "595539  American (Traditional), Restaurants, American ...   \n",
       "\n",
       "                     review_id  \\\n",
       "0       WUAt5-krh075Ie44np8Hew   \n",
       "1       S9vIs-je49jqbhpWSQ8yHg   \n",
       "2       i2Soid_X8XsSTyIrPOst6g   \n",
       "3       uDYGaAOUgo7SLuH5nUZs3w   \n",
       "4       Xg7HuBvuZHTBog1G_2Wk0w   \n",
       "...                        ...   \n",
       "595535  1BPh4QS80bUS47agxN9UMA   \n",
       "595536  8eTVWv0lBAaYYuUdrWO65Q   \n",
       "595537  abFueTdsvK4xAkmF_53U9w   \n",
       "595538  X2STQTenLN4w6LPV0TqIpA   \n",
       "595539  hJSatcXA-simo9bgHe_Dkw   \n",
       "\n",
       "                                                     text  stars  \n",
       "0       So why would I be giving a Fast Food chain loc...    5.0  \n",
       "1       I come here bout 3x's a mo. & I just can't do ...    2.0  \n",
       "2       WORST experience EVER!!!!! never have i ate an...    1.0  \n",
       "3       Hot fresh food usually.  Staff seems to turn o...    4.0  \n",
       "4       Beer battered cod fish seems really rubbery. I...    3.0  \n",
       "...                                                   ...    ...  \n",
       "595535  The service was slow every time we went here, ...    4.0  \n",
       "595536  Food wasn't that bAd but the service was not s...    3.0  \n",
       "595537  I absolutely love the décor and color scheme i...    3.0  \n",
       "595538  What a cute place! We decided to eat here beca...    4.0  \n",
       "595539  I'm so sick of this place! There won't be one ...    1.0  \n",
       "\n",
       "[595540 rows x 8 columns]"
      ]
     },
     "execution_count": 5,
     "metadata": {},
     "output_type": "execute_result"
    }
   ],
   "source": [
    "lv"
   ]
  },
  {
   "cell_type": "code",
   "execution_count": 6,
   "metadata": {},
   "outputs": [
    {
     "data": {
      "text/plain": [
       "0         So why would I be giving a <phrase>Fast Food c...\n",
       "1         I come here bout 3x's a mo. & I just can't do ...\n",
       "2         <phrase>WORST experience</phrase> EVER!!!!! ne...\n",
       "3         <phrase>Hot fresh</phrase> <phrase>food</phras...\n",
       "4         <phrase>Beer battered cod</phrase> <phrase>fis...\n",
       "                                ...                        \n",
       "595535    The service was slow every time we went here, ...\n",
       "595536    <phrase>Food</phrase> wasn't that bAd but the ...\n",
       "595537    I <phrase>absolutely love</phrase> the décor a...\n",
       "595538    What a <phrase>cute place</phrase>! We decided...\n",
       "595539    I'm so sick of this place! There won't be one ...\n",
       "Length: 595540, dtype: object"
      ]
     },
     "execution_count": 6,
     "metadata": {},
     "output_type": "execute_result"
    }
   ],
   "source": [
    "reviews_list"
   ]
  },
  {
   "cell_type": "code",
   "execution_count": null,
   "metadata": {},
   "outputs": [],
   "source": []
  }
 ],
 "metadata": {
  "kernelspec": {
   "display_name": "Python 3",
   "language": "python",
   "name": "python3"
  },
  "language_info": {
   "codemirror_mode": {
    "name": "ipython",
    "version": 3
   },
   "file_extension": ".py",
   "mimetype": "text/x-python",
   "name": "python",
   "nbconvert_exporter": "python",
   "pygments_lexer": "ipython3",
   "version": "3.8.5"
  }
 },
 "nbformat": 4,
 "nbformat_minor": 4
}
