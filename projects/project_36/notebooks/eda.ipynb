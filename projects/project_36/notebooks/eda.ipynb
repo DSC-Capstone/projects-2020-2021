{
 "cells": [
  {
   "cell_type": "code",
   "execution_count": 2,
   "metadata": {},
   "outputs": [
    {
     "ename": "ModuleNotFoundError",
     "evalue": "No module named 'dask'",
     "output_type": "error",
     "traceback": [
      "\u001b[1;31m---------------------------------------------------------------------------\u001b[0m",
      "\u001b[1;31mModuleNotFoundError\u001b[0m                       Traceback (most recent call last)",
      "\u001b[1;32m<ipython-input-2-947e664f3279>\u001b[0m in \u001b[0;36m<module>\u001b[1;34m\u001b[0m\n\u001b[0;32m      3\u001b[0m \u001b[1;32mimport\u001b[0m \u001b[0mseaborn\u001b[0m \u001b[1;32mas\u001b[0m \u001b[0msns\u001b[0m\u001b[1;33m\u001b[0m\u001b[1;33m\u001b[0m\u001b[0m\n\u001b[0;32m      4\u001b[0m \u001b[1;32mimport\u001b[0m \u001b[0mmatplotlib\u001b[0m\u001b[1;33m.\u001b[0m\u001b[0mpyplot\u001b[0m \u001b[1;32mas\u001b[0m \u001b[0mplt\u001b[0m\u001b[1;33m\u001b[0m\u001b[1;33m\u001b[0m\u001b[0m\n\u001b[1;32m----> 5\u001b[1;33m \u001b[1;32mimport\u001b[0m \u001b[0mdask\u001b[0m\u001b[1;33m.\u001b[0m\u001b[0mdataframe\u001b[0m \u001b[1;32mas\u001b[0m \u001b[0mdd\u001b[0m\u001b[1;33m\u001b[0m\u001b[1;33m\u001b[0m\u001b[0m\n\u001b[0m\u001b[0;32m      6\u001b[0m \u001b[1;32mfrom\u001b[0m \u001b[0mnumpy\u001b[0m \u001b[1;32mimport\u001b[0m \u001b[0marray\u001b[0m\u001b[1;33m\u001b[0m\u001b[1;33m\u001b[0m\u001b[0m\n\u001b[0;32m      7\u001b[0m \u001b[1;32mfrom\u001b[0m \u001b[0mnumpy\u001b[0m \u001b[1;32mimport\u001b[0m \u001b[0margmax\u001b[0m\u001b[1;33m\u001b[0m\u001b[1;33m\u001b[0m\u001b[0m\n",
      "\u001b[1;31mModuleNotFoundError\u001b[0m: No module named 'dask'"
     ]
    }
   ],
   "source": [
    "import pandas as pd\n",
    "import numpy as np\n",
    "import seaborn as sns\n",
    "import matplotlib.pyplot as plt\n",
    "from numpy import array\n",
    "from numpy import argmax\n",
    "from functools import reduce\n",
    "from sklearn.preprocessing import LabelEncoder\n",
    "from sklearn.preprocessing import OneHotEncoder\n",
    "from matplotlib.pyplot import figure"
   ]
  },
  {
   "cell_type": "code",
   "execution_count": 2,
   "metadata": {},
   "outputs": [],
   "source": [
    "# pip install tensorflow"
   ]
  },
  {
   "cell_type": "code",
   "execution_count": null,
   "metadata": {},
   "outputs": [],
   "source": [
    "from sklearn.model_selection import train_test_split\n",
    "from sklearn.neural_network import MLPClassifier\n",
    "from sklearn.neighbors import KNeighborsClassifier\n",
    "from sklearn.svm import SVC\n",
    "from sklearn.gaussian_process import GaussianProcessClassifier\n",
    "from sklearn.ensemble import GradientBoostingClassifier\n",
    "from sklearn.gaussian_process.kernels import RBF\n",
    "from sklearn.tree import DecisionTreeClassifier\n",
    "from sklearn.ensemble import ExtraTreesClassifier\n",
    "from sklearn.ensemble import RandomForestClassifier, AdaBoostClassifier\n",
    "from sklearn.naive_bayes import GaussianNB\n",
    "from sklearn.discriminant_analysis import QuadraticDiscriminantAnalysis\n",
    "from sklearn.linear_model import SGDClassifier\n",
    "from sklearn.feature_extraction import FeatureHasher\n",
    "from sklearn.model_selection import RepeatedStratifiedKFold\n",
    "from sklearn.model_selection import cross_val_score\n",
    "from sklearn.metrics import confusion_matrix\n",
    "from sklearn.linear_model import LogisticRegression\n",
    "import datetime\n",
    "# import torch\n",
    "# import torch.nn as nn\n",
    "# import torch.nn.functional as F\n",
    "import keras\n",
    "from keras.models import Sequential\n",
    "from keras.layers import Dense, Dropout, Activation\n",
    "from keras.optimizers import SGD\n",
    "from sklearn.linear_model import Perceptron\n",
    "from sklearn.inspection import permutation_importance"
   ]
  },
  {
   "cell_type": "markdown",
   "metadata": {},
   "source": [
    "# Predicting a user's persona based on their device's specs, CPU utilization, and average CPU heat "
   ]
  },
  {
   "cell_type": "code",
   "execution_count": null,
   "metadata": {},
   "outputs": [],
   "source": [
    "pd.set_option('display.max_columns', 500)"
   ]
  },
  {
   "cell_type": "code",
   "execution_count": 3,
   "metadata": {},
   "outputs": [],
   "source": [
    "# ok = pd.read_csv('../data/raw/hw_metric_histo.csv000',nrows=100, sep='\\t')\n",
    "# ok['load_ts'].max()"
   ]
  },
  {
   "cell_type": "code",
   "execution_count": 4,
   "metadata": {},
   "outputs": [],
   "source": [
    "# print(ok['load_ts'].min())\n",
    "# print(ok['load_ts'].max())"
   ]
  },
  {
   "cell_type": "code",
   "execution_count": 5,
   "metadata": {},
   "outputs": [],
   "source": [
    "df = pd.read_csv('../data/raw/hw_metric_histo.csv000', usecols=['guid','load_ts', 'batch_id','name','instance','nrs',\n",
    "                                                               'mean', 'histogram_min', 'histogram_max',\n",
    "                                                               'metric_max_val'], sep='\\t')"
   ]
  },
  {
   "cell_type": "code",
   "execution_count": 6,
   "metadata": {},
   "outputs": [],
   "source": [
    "# df.shape"
   ]
  },
  {
   "cell_type": "code",
   "execution_count": 7,
   "metadata": {},
   "outputs": [],
   "source": [
    "# df['name'].value_counts()"
   ]
  },
  {
   "cell_type": "code",
   "execution_count": 8,
   "metadata": {},
   "outputs": [],
   "source": [
    "# df['histogram_min'].value_counts()"
   ]
  },
  {
   "cell_type": "code",
   "execution_count": 9,
   "metadata": {},
   "outputs": [],
   "source": [
    "# df['histogram_max'].value_counts()"
   ]
  },
  {
   "cell_type": "markdown",
   "metadata": {},
   "source": [
    "## Memory Reduction"
   ]
  },
  {
   "cell_type": "code",
   "execution_count": 10,
   "metadata": {},
   "outputs": [],
   "source": [
    "def mem_usage(pandas_obj):\n",
    "    if isinstance(pandas_obj,pd.DataFrame):\n",
    "        usage_b = pandas_obj.memory_usage(deep=True).sum()\n",
    "    else: \n",
    "        usage_b = pandas_obj.memory_usage(deep=True)\n",
    "    usage_mb = usage_b / 1024 ** 2 # convert bytes to megabytes\n",
    "    return \"{:03.2f} MB\".format(usage_mb)"
   ]
  },
  {
   "cell_type": "code",
   "execution_count": 11,
   "metadata": {},
   "outputs": [
    {
     "name": "stdout",
     "output_type": "stream",
     "text": [
      "0.00 MB\n",
      "0.00 MB\n"
     ]
    }
   ],
   "source": [
    "df_int = df.select_dtypes(include=['int'])\n",
    "converted_int = df_int.apply(pd.to_numeric,downcast='unsigned')\n",
    "print(mem_usage(df_int))\n",
    "print(mem_usage(converted_int))"
   ]
  },
  {
   "cell_type": "code",
   "execution_count": 12,
   "metadata": {},
   "outputs": [
    {
     "data": {
      "text/html": [
       "<div>\n",
       "<style scoped>\n",
       "    .dataframe tbody tr th:only-of-type {\n",
       "        vertical-align: middle;\n",
       "    }\n",
       "\n",
       "    .dataframe tbody tr th {\n",
       "        vertical-align: top;\n",
       "    }\n",
       "\n",
       "    .dataframe thead th {\n",
       "        text-align: right;\n",
       "    }\n",
       "</style>\n",
       "<table border=\"1\" class=\"dataframe\">\n",
       "  <thead>\n",
       "    <tr style=\"text-align: right;\">\n",
       "      <th></th>\n",
       "      <th>before</th>\n",
       "      <th>after</th>\n",
       "    </tr>\n",
       "  </thead>\n",
       "  <tbody>\n",
       "  </tbody>\n",
       "</table>\n",
       "</div>"
      ],
      "text/plain": [
       "Empty DataFrame\n",
       "Columns: [before, after]\n",
       "Index: []"
      ]
     },
     "execution_count": 12,
     "metadata": {},
     "output_type": "execute_result"
    }
   ],
   "source": [
    "compare_ints = pd.concat([df_int.dtypes,converted_int.dtypes],axis=1)\n",
    "compare_ints.columns = ['before','after']\n",
    "compare_ints.apply(pd.Series.value_counts)"
   ]
  },
  {
   "cell_type": "code",
   "execution_count": 13,
   "metadata": {},
   "outputs": [
    {
     "name": "stdout",
     "output_type": "stream",
     "text": [
      "4167.21 MB\n",
      "2083.61 MB\n"
     ]
    },
    {
     "data": {
      "text/html": [
       "<div>\n",
       "<style scoped>\n",
       "    .dataframe tbody tr th:only-of-type {\n",
       "        vertical-align: middle;\n",
       "    }\n",
       "\n",
       "    .dataframe tbody tr th {\n",
       "        vertical-align: top;\n",
       "    }\n",
       "\n",
       "    .dataframe thead th {\n",
       "        text-align: right;\n",
       "    }\n",
       "</style>\n",
       "<table border=\"1\" class=\"dataframe\">\n",
       "  <thead>\n",
       "    <tr style=\"text-align: right;\">\n",
       "      <th></th>\n",
       "      <th>before</th>\n",
       "      <th>after</th>\n",
       "    </tr>\n",
       "  </thead>\n",
       "  <tbody>\n",
       "    <tr>\n",
       "      <th>float32</th>\n",
       "      <td>NaN</td>\n",
       "      <td>3.0</td>\n",
       "    </tr>\n",
       "    <tr>\n",
       "      <th>float64</th>\n",
       "      <td>3.0</td>\n",
       "      <td>NaN</td>\n",
       "    </tr>\n",
       "  </tbody>\n",
       "</table>\n",
       "</div>"
      ],
      "text/plain": [
       "         before  after\n",
       "float32     NaN    3.0\n",
       "float64     3.0    NaN"
      ]
     },
     "execution_count": 13,
     "metadata": {},
     "output_type": "execute_result"
    }
   ],
   "source": [
    "df_float = df.select_dtypes(include=['float'])\n",
    "converted_float = df_float.apply(pd.to_numeric,downcast='float')\n",
    "print(mem_usage(df_float))\n",
    "print(mem_usage(converted_float))\n",
    "compare_floats = pd.concat([df_float.dtypes,converted_float.dtypes],axis=1)\n",
    "compare_floats.columns = ['before','after']\n",
    "compare_floats.apply(pd.Series.value_counts)"
   ]
  },
  {
   "cell_type": "code",
   "execution_count": 14,
   "metadata": {},
   "outputs": [
    {
     "name": "stdout",
     "output_type": "stream",
     "text": [
      "64194.17 MB\n",
      "62110.56 MB\n"
     ]
    }
   ],
   "source": [
    "optimized_df = df.copy()\n",
    "optimized_df[converted_int.columns] = converted_int\n",
    "optimized_df[converted_float.columns] = converted_float\n",
    "print(mem_usage(df))\n",
    "print(mem_usage(optimized_df))"
   ]
  },
  {
   "cell_type": "code",
   "execution_count": 15,
   "metadata": {},
   "outputs": [
    {
     "data": {
      "text/html": [
       "<div>\n",
       "<style scoped>\n",
       "    .dataframe tbody tr th:only-of-type {\n",
       "        vertical-align: middle;\n",
       "    }\n",
       "\n",
       "    .dataframe tbody tr th {\n",
       "        vertical-align: top;\n",
       "    }\n",
       "\n",
       "    .dataframe thead th {\n",
       "        text-align: right;\n",
       "    }\n",
       "</style>\n",
       "<table border=\"1\" class=\"dataframe\">\n",
       "  <thead>\n",
       "    <tr style=\"text-align: right;\">\n",
       "      <th></th>\n",
       "      <th>load_ts</th>\n",
       "      <th>batch_id</th>\n",
       "      <th>guid</th>\n",
       "      <th>name</th>\n",
       "    </tr>\n",
       "  </thead>\n",
       "  <tbody>\n",
       "    <tr>\n",
       "      <th>count</th>\n",
       "      <td>182068335</td>\n",
       "      <td>182068335</td>\n",
       "      <td>182068335</td>\n",
       "      <td>182068335</td>\n",
       "    </tr>\n",
       "    <tr>\n",
       "      <th>unique</th>\n",
       "      <td>359</td>\n",
       "      <td>359</td>\n",
       "      <td>70389</td>\n",
       "      <td>13</td>\n",
       "    </tr>\n",
       "    <tr>\n",
       "      <th>top</th>\n",
       "      <td>2020-03-24 04:09:37</td>\n",
       "      <td>20200323-210235</td>\n",
       "      <td>058056b25d594e7a87f20b1d272c6652</td>\n",
       "      <td>HW::CORE:C0:PERCENT:</td>\n",
       "    </tr>\n",
       "    <tr>\n",
       "      <th>freq</th>\n",
       "      <td>1337177</td>\n",
       "      <td>1337177</td>\n",
       "      <td>45525</td>\n",
       "      <td>68817949</td>\n",
       "    </tr>\n",
       "  </tbody>\n",
       "</table>\n",
       "</div>"
      ],
      "text/plain": [
       "                    load_ts         batch_id  \\\n",
       "count             182068335        182068335   \n",
       "unique                  359              359   \n",
       "top     2020-03-24 04:09:37  20200323-210235   \n",
       "freq                1337177          1337177   \n",
       "\n",
       "                                    guid                  name  \n",
       "count                          182068335             182068335  \n",
       "unique                             70389                    13  \n",
       "top     058056b25d594e7a87f20b1d272c6652  HW::CORE:C0:PERCENT:  \n",
       "freq                               45525              68817949  "
      ]
     },
     "execution_count": 15,
     "metadata": {},
     "output_type": "execute_result"
    }
   ],
   "source": [
    "df_obj = df.select_dtypes(include=['object']).copy()\n",
    "df_obj.describe()"
   ]
  },
  {
   "cell_type": "code",
   "execution_count": 16,
   "metadata": {},
   "outputs": [
    {
     "ename": "MemoryError",
     "evalue": "Unable to allocate 1.36 GiB for an array with shape (182068335,) and data type int64",
     "output_type": "error",
     "traceback": [
      "\u001b[1;31m---------------------------------------------------------------------------\u001b[0m",
      "\u001b[1;31mMemoryError\u001b[0m                               Traceback (most recent call last)",
      "\u001b[1;32m<ipython-input-16-1d47870feb47>\u001b[0m in \u001b[0;36m<module>\u001b[1;34m\u001b[0m\n\u001b[0;32m      4\u001b[0m     \u001b[0mnum_total_values\u001b[0m \u001b[1;33m=\u001b[0m \u001b[0mlen\u001b[0m\u001b[1;33m(\u001b[0m\u001b[0mdf_obj\u001b[0m\u001b[1;33m[\u001b[0m\u001b[0mcol\u001b[0m\u001b[1;33m]\u001b[0m\u001b[1;33m)\u001b[0m\u001b[1;33m\u001b[0m\u001b[1;33m\u001b[0m\u001b[0m\n\u001b[0;32m      5\u001b[0m     \u001b[1;32mif\u001b[0m \u001b[0mnum_unique_values\u001b[0m \u001b[1;33m/\u001b[0m \u001b[0mnum_total_values\u001b[0m \u001b[1;33m<\u001b[0m \u001b[1;36m0.5\u001b[0m\u001b[1;33m:\u001b[0m\u001b[1;33m\u001b[0m\u001b[1;33m\u001b[0m\u001b[0m\n\u001b[1;32m----> 6\u001b[1;33m         \u001b[0mconverted_obj\u001b[0m\u001b[1;33m.\u001b[0m\u001b[0mloc\u001b[0m\u001b[1;33m[\u001b[0m\u001b[1;33m:\u001b[0m\u001b[1;33m,\u001b[0m\u001b[0mcol\u001b[0m\u001b[1;33m]\u001b[0m \u001b[1;33m=\u001b[0m \u001b[0mdf_obj\u001b[0m\u001b[1;33m[\u001b[0m\u001b[0mcol\u001b[0m\u001b[1;33m]\u001b[0m\u001b[1;33m.\u001b[0m\u001b[0mastype\u001b[0m\u001b[1;33m(\u001b[0m\u001b[1;34m'category'\u001b[0m\u001b[1;33m)\u001b[0m\u001b[1;33m\u001b[0m\u001b[1;33m\u001b[0m\u001b[0m\n\u001b[0m\u001b[0;32m      7\u001b[0m     \u001b[1;32melse\u001b[0m\u001b[1;33m:\u001b[0m\u001b[1;33m\u001b[0m\u001b[1;33m\u001b[0m\u001b[0m\n\u001b[0;32m      8\u001b[0m         \u001b[0mconverted_obj\u001b[0m\u001b[1;33m.\u001b[0m\u001b[0mloc\u001b[0m\u001b[1;33m[\u001b[0m\u001b[1;33m:\u001b[0m\u001b[1;33m,\u001b[0m\u001b[0mcol\u001b[0m\u001b[1;33m]\u001b[0m \u001b[1;33m=\u001b[0m \u001b[0mdf_obj\u001b[0m\u001b[1;33m[\u001b[0m\u001b[0mcol\u001b[0m\u001b[1;33m]\u001b[0m\u001b[1;33m\u001b[0m\u001b[1;33m\u001b[0m\u001b[0m\n",
      "\u001b[1;32mc:\\users\\jonat\\appdata\\local\\programs\\python\\python38\\lib\\site-packages\\pandas\\core\\indexing.py\u001b[0m in \u001b[0;36m__setitem__\u001b[1;34m(self, key, value)\u001b[0m\n\u001b[0;32m    668\u001b[0m             \u001b[0mkey\u001b[0m \u001b[1;33m=\u001b[0m \u001b[0mcom\u001b[0m\u001b[1;33m.\u001b[0m\u001b[0mapply_if_callable\u001b[0m\u001b[1;33m(\u001b[0m\u001b[0mkey\u001b[0m\u001b[1;33m,\u001b[0m \u001b[0mself\u001b[0m\u001b[1;33m.\u001b[0m\u001b[0mobj\u001b[0m\u001b[1;33m)\u001b[0m\u001b[1;33m\u001b[0m\u001b[1;33m\u001b[0m\u001b[0m\n\u001b[0;32m    669\u001b[0m         \u001b[0mindexer\u001b[0m \u001b[1;33m=\u001b[0m \u001b[0mself\u001b[0m\u001b[1;33m.\u001b[0m\u001b[0m_get_setitem_indexer\u001b[0m\u001b[1;33m(\u001b[0m\u001b[0mkey\u001b[0m\u001b[1;33m)\u001b[0m\u001b[1;33m\u001b[0m\u001b[1;33m\u001b[0m\u001b[0m\n\u001b[1;32m--> 670\u001b[1;33m         \u001b[0mself\u001b[0m\u001b[1;33m.\u001b[0m\u001b[0m_setitem_with_indexer\u001b[0m\u001b[1;33m(\u001b[0m\u001b[0mindexer\u001b[0m\u001b[1;33m,\u001b[0m \u001b[0mvalue\u001b[0m\u001b[1;33m)\u001b[0m\u001b[1;33m\u001b[0m\u001b[1;33m\u001b[0m\u001b[0m\n\u001b[0m\u001b[0;32m    671\u001b[0m \u001b[1;33m\u001b[0m\u001b[0m\n\u001b[0;32m    672\u001b[0m     \u001b[1;32mdef\u001b[0m \u001b[0m_validate_key\u001b[0m\u001b[1;33m(\u001b[0m\u001b[0mself\u001b[0m\u001b[1;33m,\u001b[0m \u001b[0mkey\u001b[0m\u001b[1;33m,\u001b[0m \u001b[0maxis\u001b[0m\u001b[1;33m:\u001b[0m \u001b[0mint\u001b[0m\u001b[1;33m)\u001b[0m\u001b[1;33m:\u001b[0m\u001b[1;33m\u001b[0m\u001b[1;33m\u001b[0m\u001b[0m\n",
      "\u001b[1;32mc:\\users\\jonat\\appdata\\local\\programs\\python\\python38\\lib\\site-packages\\pandas\\core\\indexing.py\u001b[0m in \u001b[0;36m_setitem_with_indexer\u001b[1;34m(self, indexer, value)\u001b[0m\n\u001b[0;32m    838\u001b[0m                                     \u001b[1;34m\"defined index and a scalar\"\u001b[0m\u001b[1;33m\u001b[0m\u001b[1;33m\u001b[0m\u001b[0m\n\u001b[0;32m    839\u001b[0m                                 )\n\u001b[1;32m--> 840\u001b[1;33m                             \u001b[0mself\u001b[0m\u001b[1;33m.\u001b[0m\u001b[0mobj\u001b[0m\u001b[1;33m[\u001b[0m\u001b[0mkey\u001b[0m\u001b[1;33m]\u001b[0m \u001b[1;33m=\u001b[0m \u001b[0mvalue\u001b[0m\u001b[1;33m\u001b[0m\u001b[1;33m\u001b[0m\u001b[0m\n\u001b[0m\u001b[0;32m    841\u001b[0m                             \u001b[1;32mreturn\u001b[0m \u001b[0mself\u001b[0m\u001b[1;33m.\u001b[0m\u001b[0mobj\u001b[0m\u001b[1;33m\u001b[0m\u001b[1;33m\u001b[0m\u001b[0m\n\u001b[0;32m    842\u001b[0m \u001b[1;33m\u001b[0m\u001b[0m\n",
      "\u001b[1;32mc:\\users\\jonat\\appdata\\local\\programs\\python\\python38\\lib\\site-packages\\pandas\\core\\frame.py\u001b[0m in \u001b[0;36m__setitem__\u001b[1;34m(self, key, value)\u001b[0m\n\u001b[0;32m   2936\u001b[0m         \u001b[1;32melse\u001b[0m\u001b[1;33m:\u001b[0m\u001b[1;33m\u001b[0m\u001b[1;33m\u001b[0m\u001b[0m\n\u001b[0;32m   2937\u001b[0m             \u001b[1;31m# set column\u001b[0m\u001b[1;33m\u001b[0m\u001b[1;33m\u001b[0m\u001b[1;33m\u001b[0m\u001b[0m\n\u001b[1;32m-> 2938\u001b[1;33m             \u001b[0mself\u001b[0m\u001b[1;33m.\u001b[0m\u001b[0m_set_item\u001b[0m\u001b[1;33m(\u001b[0m\u001b[0mkey\u001b[0m\u001b[1;33m,\u001b[0m \u001b[0mvalue\u001b[0m\u001b[1;33m)\u001b[0m\u001b[1;33m\u001b[0m\u001b[1;33m\u001b[0m\u001b[0m\n\u001b[0m\u001b[0;32m   2939\u001b[0m \u001b[1;33m\u001b[0m\u001b[0m\n\u001b[0;32m   2940\u001b[0m     \u001b[1;32mdef\u001b[0m \u001b[0m_setitem_slice\u001b[0m\u001b[1;33m(\u001b[0m\u001b[0mself\u001b[0m\u001b[1;33m,\u001b[0m \u001b[0mkey\u001b[0m\u001b[1;33m,\u001b[0m \u001b[0mvalue\u001b[0m\u001b[1;33m)\u001b[0m\u001b[1;33m:\u001b[0m\u001b[1;33m\u001b[0m\u001b[1;33m\u001b[0m\u001b[0m\n",
      "\u001b[1;32mc:\\users\\jonat\\appdata\\local\\programs\\python\\python38\\lib\\site-packages\\pandas\\core\\frame.py\u001b[0m in \u001b[0;36m_set_item\u001b[1;34m(self, key, value)\u001b[0m\n\u001b[0;32m   2997\u001b[0m         \"\"\"\n\u001b[0;32m   2998\u001b[0m \u001b[1;33m\u001b[0m\u001b[0m\n\u001b[1;32m-> 2999\u001b[1;33m         \u001b[0mself\u001b[0m\u001b[1;33m.\u001b[0m\u001b[0m_ensure_valid_index\u001b[0m\u001b[1;33m(\u001b[0m\u001b[0mvalue\u001b[0m\u001b[1;33m)\u001b[0m\u001b[1;33m\u001b[0m\u001b[1;33m\u001b[0m\u001b[0m\n\u001b[0m\u001b[0;32m   3000\u001b[0m         \u001b[0mvalue\u001b[0m \u001b[1;33m=\u001b[0m \u001b[0mself\u001b[0m\u001b[1;33m.\u001b[0m\u001b[0m_sanitize_column\u001b[0m\u001b[1;33m(\u001b[0m\u001b[0mkey\u001b[0m\u001b[1;33m,\u001b[0m \u001b[0mvalue\u001b[0m\u001b[1;33m)\u001b[0m\u001b[1;33m\u001b[0m\u001b[1;33m\u001b[0m\u001b[0m\n\u001b[0;32m   3001\u001b[0m         \u001b[0mNDFrame\u001b[0m\u001b[1;33m.\u001b[0m\u001b[0m_set_item\u001b[0m\u001b[1;33m(\u001b[0m\u001b[0mself\u001b[0m\u001b[1;33m,\u001b[0m \u001b[0mkey\u001b[0m\u001b[1;33m,\u001b[0m \u001b[0mvalue\u001b[0m\u001b[1;33m)\u001b[0m\u001b[1;33m\u001b[0m\u001b[1;33m\u001b[0m\u001b[0m\n",
      "\u001b[1;32mc:\\users\\jonat\\appdata\\local\\programs\\python\\python38\\lib\\site-packages\\pandas\\core\\frame.py\u001b[0m in \u001b[0;36m_ensure_valid_index\u001b[1;34m(self, value)\u001b[0m\n\u001b[0;32m   3060\u001b[0m                 )\n\u001b[0;32m   3061\u001b[0m \u001b[1;33m\u001b[0m\u001b[0m\n\u001b[1;32m-> 3062\u001b[1;33m             self._data = self._data.reindex_axis(\n\u001b[0m\u001b[0;32m   3063\u001b[0m                 \u001b[0mvalue\u001b[0m\u001b[1;33m.\u001b[0m\u001b[0mindex\u001b[0m\u001b[1;33m.\u001b[0m\u001b[0mcopy\u001b[0m\u001b[1;33m(\u001b[0m\u001b[1;33m)\u001b[0m\u001b[1;33m,\u001b[0m \u001b[0maxis\u001b[0m\u001b[1;33m=\u001b[0m\u001b[1;36m1\u001b[0m\u001b[1;33m,\u001b[0m \u001b[0mfill_value\u001b[0m\u001b[1;33m=\u001b[0m\u001b[0mnp\u001b[0m\u001b[1;33m.\u001b[0m\u001b[0mnan\u001b[0m\u001b[1;33m\u001b[0m\u001b[1;33m\u001b[0m\u001b[0m\n\u001b[0;32m   3064\u001b[0m             )\n",
      "\u001b[1;32mc:\\users\\jonat\\appdata\\local\\programs\\python\\python38\\lib\\site-packages\\pandas\\core\\internals\\managers.py\u001b[0m in \u001b[0;36mreindex_axis\u001b[1;34m(self, new_index, axis, method, limit, fill_value, copy)\u001b[0m\n\u001b[0;32m   1214\u001b[0m         \"\"\"\n\u001b[0;32m   1215\u001b[0m         \u001b[0mnew_index\u001b[0m \u001b[1;33m=\u001b[0m \u001b[0mensure_index\u001b[0m\u001b[1;33m(\u001b[0m\u001b[0mnew_index\u001b[0m\u001b[1;33m)\u001b[0m\u001b[1;33m\u001b[0m\u001b[1;33m\u001b[0m\u001b[0m\n\u001b[1;32m-> 1216\u001b[1;33m         new_index, indexer = self.axes[axis].reindex(\n\u001b[0m\u001b[0;32m   1217\u001b[0m             \u001b[0mnew_index\u001b[0m\u001b[1;33m,\u001b[0m \u001b[0mmethod\u001b[0m\u001b[1;33m=\u001b[0m\u001b[0mmethod\u001b[0m\u001b[1;33m,\u001b[0m \u001b[0mlimit\u001b[0m\u001b[1;33m=\u001b[0m\u001b[0mlimit\u001b[0m\u001b[1;33m\u001b[0m\u001b[1;33m\u001b[0m\u001b[0m\n\u001b[0;32m   1218\u001b[0m         )\n",
      "\u001b[1;32mc:\\users\\jonat\\appdata\\local\\programs\\python\\python38\\lib\\site-packages\\pandas\\core\\indexes\\base.py\u001b[0m in \u001b[0;36mreindex\u001b[1;34m(self, target, method, level, limit, tolerance)\u001b[0m\n\u001b[0;32m   3142\u001b[0m                 \u001b[1;31m# check is_overlapping for IntervalIndex compat\u001b[0m\u001b[1;33m\u001b[0m\u001b[1;33m\u001b[0m\u001b[1;33m\u001b[0m\u001b[0m\n\u001b[0;32m   3143\u001b[0m                 \u001b[1;32mif\u001b[0m \u001b[0mself\u001b[0m\u001b[1;33m.\u001b[0m\u001b[0mis_unique\u001b[0m \u001b[1;32mand\u001b[0m \u001b[1;32mnot\u001b[0m \u001b[0mgetattr\u001b[0m\u001b[1;33m(\u001b[0m\u001b[0mself\u001b[0m\u001b[1;33m,\u001b[0m \u001b[1;34m\"is_overlapping\"\u001b[0m\u001b[1;33m,\u001b[0m \u001b[1;32mFalse\u001b[0m\u001b[1;33m)\u001b[0m\u001b[1;33m:\u001b[0m\u001b[1;33m\u001b[0m\u001b[1;33m\u001b[0m\u001b[0m\n\u001b[1;32m-> 3144\u001b[1;33m                     indexer = self.get_indexer(\n\u001b[0m\u001b[0;32m   3145\u001b[0m                         \u001b[0mtarget\u001b[0m\u001b[1;33m,\u001b[0m \u001b[0mmethod\u001b[0m\u001b[1;33m=\u001b[0m\u001b[0mmethod\u001b[0m\u001b[1;33m,\u001b[0m \u001b[0mlimit\u001b[0m\u001b[1;33m=\u001b[0m\u001b[0mlimit\u001b[0m\u001b[1;33m,\u001b[0m \u001b[0mtolerance\u001b[0m\u001b[1;33m=\u001b[0m\u001b[0mtolerance\u001b[0m\u001b[1;33m\u001b[0m\u001b[1;33m\u001b[0m\u001b[0m\n\u001b[0;32m   3146\u001b[0m                     )\n",
      "\u001b[1;32mc:\\users\\jonat\\appdata\\local\\programs\\python\\python38\\lib\\site-packages\\pandas\\core\\indexes\\base.py\u001b[0m in \u001b[0;36mget_indexer\u001b[1;34m(self, target, method, limit, tolerance)\u001b[0m\n\u001b[0;32m   2726\u001b[0m             \u001b[0mthis\u001b[0m \u001b[1;33m=\u001b[0m \u001b[0mself\u001b[0m\u001b[1;33m.\u001b[0m\u001b[0mastype\u001b[0m\u001b[1;33m(\u001b[0m\u001b[0mobject\u001b[0m\u001b[1;33m)\u001b[0m\u001b[1;33m\u001b[0m\u001b[1;33m\u001b[0m\u001b[0m\n\u001b[0;32m   2727\u001b[0m             \u001b[0mtarget\u001b[0m \u001b[1;33m=\u001b[0m \u001b[0mtarget\u001b[0m\u001b[1;33m.\u001b[0m\u001b[0mastype\u001b[0m\u001b[1;33m(\u001b[0m\u001b[0mobject\u001b[0m\u001b[1;33m)\u001b[0m\u001b[1;33m\u001b[0m\u001b[1;33m\u001b[0m\u001b[0m\n\u001b[1;32m-> 2728\u001b[1;33m             return this.get_indexer(\n\u001b[0m\u001b[0;32m   2729\u001b[0m                 \u001b[0mtarget\u001b[0m\u001b[1;33m,\u001b[0m \u001b[0mmethod\u001b[0m\u001b[1;33m=\u001b[0m\u001b[0mmethod\u001b[0m\u001b[1;33m,\u001b[0m \u001b[0mlimit\u001b[0m\u001b[1;33m=\u001b[0m\u001b[0mlimit\u001b[0m\u001b[1;33m,\u001b[0m \u001b[0mtolerance\u001b[0m\u001b[1;33m=\u001b[0m\u001b[0mtolerance\u001b[0m\u001b[1;33m\u001b[0m\u001b[1;33m\u001b[0m\u001b[0m\n\u001b[0;32m   2730\u001b[0m             )\n",
      "\u001b[1;32mc:\\users\\jonat\\appdata\\local\\programs\\python\\python38\\lib\\site-packages\\pandas\\core\\indexes\\base.py\u001b[0m in \u001b[0;36mget_indexer\u001b[1;34m(self, target, method, limit, tolerance)\u001b[0m\n\u001b[0;32m   2751\u001b[0m                 )\n\u001b[0;32m   2752\u001b[0m \u001b[1;33m\u001b[0m\u001b[0m\n\u001b[1;32m-> 2753\u001b[1;33m             \u001b[0mindexer\u001b[0m \u001b[1;33m=\u001b[0m \u001b[0mself\u001b[0m\u001b[1;33m.\u001b[0m\u001b[0m_engine\u001b[0m\u001b[1;33m.\u001b[0m\u001b[0mget_indexer\u001b[0m\u001b[1;33m(\u001b[0m\u001b[0mtarget\u001b[0m\u001b[1;33m.\u001b[0m\u001b[0m_ndarray_values\u001b[0m\u001b[1;33m)\u001b[0m\u001b[1;33m\u001b[0m\u001b[1;33m\u001b[0m\u001b[0m\n\u001b[0m\u001b[0;32m   2754\u001b[0m \u001b[1;33m\u001b[0m\u001b[0m\n\u001b[0;32m   2755\u001b[0m         \u001b[1;32mreturn\u001b[0m \u001b[0mensure_platform_int\u001b[0m\u001b[1;33m(\u001b[0m\u001b[0mindexer\u001b[0m\u001b[1;33m)\u001b[0m\u001b[1;33m\u001b[0m\u001b[1;33m\u001b[0m\u001b[0m\n",
      "\u001b[1;32mpandas\\_libs\\index.pyx\u001b[0m in \u001b[0;36mpandas._libs.index.IndexEngine.get_indexer\u001b[1;34m()\u001b[0m\n",
      "\u001b[1;32mpandas\\_libs\\hashtable_class_helper.pxi\u001b[0m in \u001b[0;36mpandas._libs.hashtable.PyObjectHashTable.lookup\u001b[1;34m()\u001b[0m\n",
      "\u001b[1;31mMemoryError\u001b[0m: Unable to allocate 1.36 GiB for an array with shape (182068335,) and data type int64"
     ]
    }
   ],
   "source": [
    "converted_obj = pd.DataFrame()\n",
    "for col in df_obj.columns:\n",
    "    num_unique_values = len(df_obj[col].unique())\n",
    "    num_total_values = len(df_obj[col])\n",
    "    if num_unique_values / num_total_values < 0.5:\n",
    "        converted_obj.loc[:,col] = df_obj[col].astype('category')\n",
    "    else:\n",
    "        converted_obj.loc[:,col] = df_obj[col]"
   ]
  },
  {
   "cell_type": "code",
   "execution_count": null,
   "metadata": {},
   "outputs": [],
   "source": [
    "optimized_df[converted_obj.columns] = converted_obj\n",
    "mem_usage(optimized_df)"
   ]
  },
  {
   "cell_type": "code",
   "execution_count": null,
   "metadata": {},
   "outputs": [],
   "source": [
    "# optimized_df.head()"
   ]
  },
  {
   "cell_type": "markdown",
   "metadata": {},
   "source": [
    "## Cleaning"
   ]
  },
  {
   "cell_type": "code",
   "execution_count": null,
   "metadata": {},
   "outputs": [],
   "source": [
    "# chips = optimized_df.loc[optimized_df['name'] == 'HW:::CHIPSET_TEMPERATURE:CENTIGRADE:']"
   ]
  },
  {
   "cell_type": "code",
   "execution_count": null,
   "metadata": {},
   "outputs": [],
   "source": [
    "# chips.head()"
   ]
  },
  {
   "cell_type": "code",
   "execution_count": null,
   "metadata": {},
   "outputs": [],
   "source": [
    "cpu = optimized_df.loc[optimized_df['name'] == 'HW::CORE:C0:PERCENT:']"
   ]
  },
  {
   "cell_type": "code",
   "execution_count": null,
   "metadata": {},
   "outputs": [],
   "source": [
    "cpu.head()"
   ]
  },
  {
   "cell_type": "code",
   "execution_count": null,
   "metadata": {},
   "outputs": [],
   "source": [
    "temp = optimized_df.loc[optimized_df['name'] == 'HW::CORE:TEMPERATURE:CENTIGRADE:']"
   ]
  },
  {
   "cell_type": "code",
   "execution_count": null,
   "metadata": {},
   "outputs": [],
   "source": [
    "temp.head()"
   ]
  },
  {
   "cell_type": "code",
   "execution_count": null,
   "metadata": {},
   "outputs": [],
   "source": [
    "# chips_guid = list(chips['guid'].value_counts().index)\n",
    "# cpu_guid = list(cpu['guid'].value_counts().index)\n",
    "# temp_guid = list(temp['guid'].value_counts().index)"
   ]
  },
  {
   "cell_type": "code",
   "execution_count": null,
   "metadata": {},
   "outputs": [],
   "source": [
    "# overlap = [x for x in temp_guid if x in cpu_guid]\n",
    "# len(overlap)"
   ]
  },
  {
   "cell_type": "code",
   "execution_count": null,
   "metadata": {},
   "outputs": [],
   "source": [
    "# total_overlap = [x for x in overlap if x in temp_guid]"
   ]
  },
  {
   "cell_type": "code",
   "execution_count": null,
   "metadata": {},
   "outputs": [],
   "source": [
    "# len(total_overlap)"
   ]
  },
  {
   "cell_type": "markdown",
   "metadata": {},
   "source": [
    "## Joining Device Usage"
   ]
  },
  {
   "cell_type": "code",
   "execution_count": null,
   "metadata": {},
   "outputs": [],
   "source": [
    "# dev = pd.read_csv('../data/raw/devuse_4known_device.csv001',usecols=['guid','load_ts','batch_id','device', \n",
    "#                                                                  'hw_name', 'name',\n",
    "#                                                                  'duration', \n",
    "#                                                                  'status'], sep='\\t')"
   ]
  },
  {
   "cell_type": "code",
   "execution_count": null,
   "metadata": {},
   "outputs": [],
   "source": [
    "# dev.shape"
   ]
  },
  {
   "cell_type": "code",
   "execution_count": null,
   "metadata": {},
   "outputs": [],
   "source": [
    "# print(df['guid'].nunique())\n",
    "# print(dev['guid'].nunique())"
   ]
  },
  {
   "cell_type": "code",
   "execution_count": null,
   "metadata": {},
   "outputs": [],
   "source": [
    "# print(dev['load_ts'].min())\n",
    "# print(dev['load_ts'].max())"
   ]
  },
  {
   "cell_type": "code",
   "execution_count": null,
   "metadata": {},
   "outputs": [],
   "source": [
    "# dev_guid = list(dev['guid'].value_counts().index)"
   ]
  },
  {
   "cell_type": "code",
   "execution_count": null,
   "metadata": {},
   "outputs": [],
   "source": [
    "# df_guid = list(df['guid'].value_counts().index)"
   ]
  },
  {
   "cell_type": "code",
   "execution_count": null,
   "metadata": {},
   "outputs": [],
   "source": [
    "# print(dev_guid[:5])"
   ]
  },
  {
   "cell_type": "code",
   "execution_count": null,
   "metadata": {},
   "outputs": [],
   "source": [
    "# print(df_guid[:5])"
   ]
  },
  {
   "cell_type": "code",
   "execution_count": null,
   "metadata": {},
   "outputs": [],
   "source": [
    "# df_guid = all guids from hw_metric\n",
    "# dev_guid = all guids from devuse"
   ]
  },
  {
   "cell_type": "code",
   "execution_count": null,
   "metadata": {},
   "outputs": [],
   "source": [
    "# combined_overlap = [x for x in dev_guid if x in df_guid]"
   ]
  },
  {
   "cell_type": "code",
   "execution_count": null,
   "metadata": {},
   "outputs": [],
   "source": [
    "# combined_overlap"
   ]
  },
  {
   "cell_type": "markdown",
   "metadata": {},
   "source": [
    "*Seems like there is no overlap between the two DFs*"
   ]
  },
  {
   "cell_type": "code",
   "execution_count": null,
   "metadata": {},
   "outputs": [],
   "source": [
    "# cpu_mean = cpu[['guid','batch_id','mean']]\n",
    "# temp_mean = temp[['guid','batch_id','mean']]"
   ]
  },
  {
   "cell_type": "code",
   "execution_count": null,
   "metadata": {},
   "outputs": [],
   "source": [
    "# top10guid = pd.DataFrame(cpu_mean['guid'].value_counts()).reset_index()[:10]\n",
    "# top10 = list(top10guid['index'])"
   ]
  },
  {
   "cell_type": "code",
   "execution_count": null,
   "metadata": {},
   "outputs": [],
   "source": [
    "# top10cpu = cpu_mean.loc[cpu_mean['guid'].isin(top10)]\n",
    "# top10cpu.head()"
   ]
  },
  {
   "cell_type": "code",
   "execution_count": null,
   "metadata": {},
   "outputs": [],
   "source": [
    "# top10temp = temp_mean.loc[temp_mean['guid'].isin(top10)]\n",
    "# top10temp.head()"
   ]
  },
  {
   "cell_type": "code",
   "execution_count": null,
   "metadata": {},
   "outputs": [],
   "source": [
    "# print(top10cpu.shape)\n",
    "# print(top10temp.shape)"
   ]
  },
  {
   "cell_type": "markdown",
   "metadata": {},
   "source": [
    "## Data Visualizations"
   ]
  },
  {
   "cell_type": "code",
   "execution_count": null,
   "metadata": {},
   "outputs": [],
   "source": [
    "# cpu_mean"
   ]
  },
  {
   "cell_type": "code",
   "execution_count": null,
   "metadata": {},
   "outputs": [],
   "source": [
    "# temp_mean"
   ]
  },
  {
   "cell_type": "code",
   "execution_count": null,
   "metadata": {},
   "outputs": [],
   "source": [
    "# gb = pd.DataFrame(cpu_mean.groupby('guid')['mean'].mean())\n",
    "# top5avgcpu = gb.sort_values(by='mean', ascending=False)[:5].reset_index()\n",
    "# top5avgcpu"
   ]
  },
  {
   "cell_type": "code",
   "execution_count": null,
   "metadata": {},
   "outputs": [],
   "source": [
    "# def cleanguid(x):\n",
    "#     return x[:5]"
   ]
  },
  {
   "cell_type": "code",
   "execution_count": null,
   "metadata": {},
   "outputs": [],
   "source": [
    "# top5avgcpu['guid'] = top5avgcpu['guid'].apply(cleanguid)"
   ]
  },
  {
   "cell_type": "code",
   "execution_count": null,
   "metadata": {},
   "outputs": [],
   "source": [
    "# gb_temp = pd.DataFrame(temp_mean.groupby('guid')['mean'].mean())\n",
    "# top5avgtemp = gb_temp.sort_values(by='mean', ascending=False)[:5].reset_index()"
   ]
  },
  {
   "cell_type": "code",
   "execution_count": null,
   "metadata": {},
   "outputs": [],
   "source": [
    "# top5avgtemp['guid'] = top5avgtemp['guid'].apply(cleanguid)"
   ]
  },
  {
   "cell_type": "code",
   "execution_count": null,
   "metadata": {},
   "outputs": [],
   "source": [
    "# sns.set(rc={'figure.figsize':(11.7,8.27)})\n",
    "# sns.barplot(x=\"guid\", y=\"mean\", data=top5avgcpu)\n",
    "# plt.xlabel('GUID')\n",
    "# plt.ylabel('Mean CPU Usage')\n",
    "# plt.title('Top Five CPU Usage by GUIDs')\n",
    "# plt.show()"
   ]
  },
  {
   "cell_type": "code",
   "execution_count": null,
   "metadata": {},
   "outputs": [],
   "source": [
    "# sns.set(rc={'figure.figsize':(11.7,8.27)})\n",
    "# sns.barplot(x=\"guid\", y=\"mean\", data=top5avgtemp)\n",
    "# plt.xlabel('GUID')\n",
    "# plt.ylabel('Mean Temperature in Celsium')\n",
    "# plt.title('Top Five CPU Core Temperatures by GUIDs')\n",
    "# plt.show()"
   ]
  },
  {
   "cell_type": "code",
   "execution_count": null,
   "metadata": {},
   "outputs": [],
   "source": [
    "# top5avgcpu"
   ]
  },
  {
   "cell_type": "code",
   "execution_count": null,
   "metadata": {},
   "outputs": [],
   "source": [
    "# top5avgtemp"
   ]
  },
  {
   "cell_type": "code",
   "execution_count": null,
   "metadata": {},
   "outputs": [],
   "source": [
    "# pd.DataFrame(df['guid'].value_counts())"
   ]
  },
  {
   "cell_type": "markdown",
   "metadata": {},
   "source": [
    "## EDA For system_sysinfo_unique_normalized"
   ]
  },
  {
   "cell_type": "code",
   "execution_count": null,
   "metadata": {},
   "outputs": [],
   "source": [
    "sys = pd.read_csv('../data/raw/system_sysinfo_unique_normalized.csv000', sep=chr(1))"
   ]
  },
  {
   "cell_type": "code",
   "execution_count": null,
   "metadata": {},
   "outputs": [],
   "source": [
    "sys_guid = list(sys['guid'].value_counts().index)\n",
    "hw_guid = list(df['guid'].value_counts().index)\n",
    "#dev_guid = list(dev['guid'].value_counts().index)"
   ]
  },
  {
   "cell_type": "code",
   "execution_count": null,
   "metadata": {},
   "outputs": [],
   "source": [
    "syshw_overlap = [x for x in sys_guid if x in hw_guid]\n",
    "len(syshw_overlap)"
   ]
  },
  {
   "cell_type": "code",
   "execution_count": null,
   "metadata": {},
   "outputs": [],
   "source": [
    "sys.head()"
   ]
  },
  {
   "cell_type": "code",
   "execution_count": null,
   "metadata": {},
   "outputs": [],
   "source": [
    "# sys['persona'].value_counts()"
   ]
  },
  {
   "cell_type": "code",
   "execution_count": null,
   "metadata": {},
   "outputs": [],
   "source": [
    "df.head()"
   ]
  },
  {
   "cell_type": "code",
   "execution_count": null,
   "metadata": {},
   "outputs": [],
   "source": [
    "hwcpu_match = cpu.loc[cpu['guid'].isin(syshw_overlap)]\n",
    "hwcpu_match = hwcpu_match[['guid', 'load_ts', 'mean']]\n",
    "hwcpu_match['utilization_mean'] = hwcpu_match['mean']\n",
    "hwcpu_match = hwcpu_match.drop(columns='mean')\n",
    "hwcpu_match"
   ]
  },
  {
   "cell_type": "code",
   "execution_count": null,
   "metadata": {},
   "outputs": [],
   "source": [
    "hwtemp_match = temp.loc[temp['guid'].isin(syshw_overlap)]\n",
    "hwtemp_match = hwtemp_match[['guid', 'load_ts', 'mean']]\n",
    "hwtemp_match['temp_mean'] = hwtemp_match['mean']\n",
    "hwtemp_match = hwtemp_match.drop(columns='mean')\n",
    "hwtemp_match"
   ]
  },
  {
   "cell_type": "code",
   "execution_count": null,
   "metadata": {},
   "outputs": [],
   "source": [
    "hwtemp = pd.DataFrame(hwtemp_match.groupby('guid')['temp_mean'].mean())"
   ]
  },
  {
   "cell_type": "code",
   "execution_count": null,
   "metadata": {},
   "outputs": [],
   "source": [
    "hwcpu = pd.DataFrame(hwcpu_match.groupby('guid')['utilization_mean'].mean())"
   ]
  },
  {
   "cell_type": "code",
   "execution_count": null,
   "metadata": {},
   "outputs": [],
   "source": [
    "hwtemp"
   ]
  },
  {
   "cell_type": "code",
   "execution_count": null,
   "metadata": {},
   "outputs": [],
   "source": [
    "hwcpu"
   ]
  },
  {
   "cell_type": "code",
   "execution_count": null,
   "metadata": {},
   "outputs": [],
   "source": [
    "#combined_sys['temp_mean']=combined_sys['temp_mean'].fillna(hwtemp.index.to_series())"
   ]
  },
  {
   "cell_type": "code",
   "execution_count": null,
   "metadata": {},
   "outputs": [],
   "source": [
    "combined = sys.join(hwcpu, on=['guid'], how='left')\n",
    "combined"
   ]
  },
  {
   "cell_type": "code",
   "execution_count": null,
   "metadata": {},
   "outputs": [],
   "source": [
    "combined = combined.join(hwtemp, on=['guid'], how='left')\n",
    "combined"
   ]
  },
  {
   "cell_type": "code",
   "execution_count": null,
   "metadata": {},
   "outputs": [],
   "source": [
    "combined['utilization_mean'].value_counts()"
   ]
  },
  {
   "cell_type": "markdown",
   "metadata": {},
   "source": [
    "## ucsd_apps_execlass.csv000 & frgnd_backgrnd_apps.csv000"
   ]
  },
  {
   "cell_type": "code",
   "execution_count": null,
   "metadata": {},
   "outputs": [],
   "source": [
    "apps = pd.read_csv('../data/raw/frgnd_backgrnd_apps.csv000', error_bad_lines=False, sep=chr(1))"
   ]
  },
  {
   "cell_type": "code",
   "execution_count": null,
   "metadata": {},
   "outputs": [],
   "source": [
    "app_class = pd.read_csv('../data/raw/ucsd_apps_execlass.csv000', error_bad_lines=False, sep=chr(35))\n",
    "app_class"
   ]
  },
  {
   "cell_type": "code",
   "execution_count": null,
   "metadata": {},
   "outputs": [],
   "source": [
    "appscombined = apps.join(app_class, lsuffix='frgnd_proc_name', rsuffix='exe_name', how='left')\n",
    "appscombined"
   ]
  },
  {
   "cell_type": "code",
   "execution_count": null,
   "metadata": {},
   "outputs": [],
   "source": [
    "mean_dur = appscombined.pivot_table('event_duration_ms', ['guid', 'app_type'], aggfunc=np.mean).reset_index()"
   ]
  },
  {
   "cell_type": "code",
   "execution_count": null,
   "metadata": {},
   "outputs": [],
   "source": [
    "combined_guid = list(combined['guid'].value_counts().index)\n",
    "dur_guid = list(mean_dur['guid'].value_counts().index)\n",
    "app_overlap = [x for x in combined_guid if x in dur_guid]"
   ]
  },
  {
   "cell_type": "code",
   "execution_count": null,
   "metadata": {},
   "outputs": [],
   "source": [
    "mean_dur=mean_dur.loc[mean_dur['guid'].isin(app_overlap)]"
   ]
  },
  {
   "cell_type": "code",
   "execution_count": null,
   "metadata": {},
   "outputs": [],
   "source": [
    "mean_dur['app_type'].unique()"
   ]
  },
  {
   "cell_type": "code",
   "execution_count": null,
   "metadata": {},
   "outputs": [],
   "source": [
    "itdur = mean_dur.loc[mean_dur['app_type']=='IT']\n",
    "avdur  = mean_dur.loc[mean_dur['app_type']=='Anti-Virus']\n",
    "commdur = mean_dur.loc[mean_dur['app_type']=='Communication']\n",
    "gamedur = mean_dur.loc[mean_dur['app_type']=='Game']\n",
    "iudur = mean_dur.loc[mean_dur['app_type']=='Installer/Updater']\n",
    "intdur = mean_dur.loc[mean_dur['app_type']=='Internet']\n",
    "meddur = mean_dur.loc[mean_dur['app_type']=='Media/Consumption']\n",
    "netdur = mean_dur.loc[mean_dur['app_type']=='Network Apps']\n",
    "offdur = mean_dur.loc[mean_dur['app_type']=='Office']\n",
    "sysdur = mean_dur.loc[mean_dur['app_type']=='System/Other']\n",
    "utdur = mean_dur.loc[mean_dur['app_type']=='Utility']\n",
    "meditdur = mean_dur.loc[mean_dur['app_type']=='Media/Edit']\n",
    "udur =  mean_dur.loc[mean_dur['app_type']=='*']\n",
    "edudur = mean_dur.loc[mean_dur['app_type']=='Education']\n",
    "appdur = mean_dur.loc[mean_dur['app_type']=='Metro/Universal Apps']\n",
    "oobedur = mean_dur.loc[mean_dur['app_type']=='OOBE']\n",
    "gldur = mean_dur.loc[mean_dur['app_type']=='Game Launcher']"
   ]
  },
  {
   "cell_type": "code",
   "execution_count": null,
   "metadata": {},
   "outputs": [],
   "source": [
    "types = [itdur, avdur, commdur, gamedur, iudur, intdur, meddur, netdur, \n",
    "       offdur, sysdur, utdur, meditdur, udur, edudur, appdur, oobedur, gldur]"
   ]
  },
  {
   "cell_type": "code",
   "execution_count": null,
   "metadata": {},
   "outputs": [],
   "source": [
    "for x in types:\n",
    "    string = x['app_type'].iloc[0]\n",
    "    x = x.drop(columns = ['app_type'])\n",
    "    new_col = string + '_dur_ms'\n",
    "    x[new_col] = x['event_duration_ms']\n",
    "    x = x.drop(columns = ['event_duration_ms'])\n",
    "    combined = combined.merge(x, on=['guid'], how='left')"
   ]
  },
  {
   "cell_type": "code",
   "execution_count": null,
   "metadata": {},
   "outputs": [],
   "source": [
    "combined"
   ]
  },
  {
   "cell_type": "code",
   "execution_count": null,
   "metadata": {},
   "outputs": [],
   "source": [
    "lst = ['IT_dur_ms', 'Anti-Virus_dur_ms',\n",
    "      'Communication_dur_ms', 'Game_dur_ms', 'Installer/Updater_dur_ms', 'Internet_dur_ms',\n",
    "      'Media/Consumption_dur_ms', 'Network Apps_dur_ms', 'Office_dur_ms', 'System/Other_dur_ms', \n",
    "      'Utility_dur_ms', 'Media/Edit_dur_ms',  '*_dur_ms', 'Education_dur_ms','Metro/Universal Apps_dur_ms',\n",
    "      'OOBE_dur_ms']\n",
    "for i in lst:\n",
    "    combined=combined.fillna({i:0})"
   ]
  },
  {
   "cell_type": "code",
   "execution_count": null,
   "metadata": {},
   "outputs": [],
   "source": [
    "check = combined.copy()"
   ]
  },
  {
   "cell_type": "code",
   "execution_count": null,
   "metadata": {},
   "outputs": [],
   "source": [
    "checking = check[['guid', 'load_ts','chassistype', 'modelvendor_normalized', \n",
    "                      'ram', \n",
    "                     'os','#ofcores', 'age_category',\n",
    "                    'graphicsmanuf', 'gfxcard', 'graphicscardclass',\n",
    "                     'cpuvendor', 'cpu_family',\n",
    "                    'discretegraphics', 'vpro_enabled', 'utilization_mean', \n",
    "                     'temp_mean','IT_dur_ms', 'Anti-Virus_dur_ms',\n",
    "      'Communication_dur_ms', 'Game_dur_ms', 'Installer/Updater_dur_ms', 'Internet_dur_ms',\n",
    "      'Media/Consumption_dur_ms', 'Network Apps_dur_ms', 'Office_dur_ms', 'System/Other_dur_ms', \n",
    "      'Utility_dur_ms', 'Media/Edit_dur_ms',  '*_dur_ms', 'Education_dur_ms','Metro/Universal Apps_dur_ms',\n",
    "      'OOBE_dur_ms', 'persona']]"
   ]
  },
  {
   "cell_type": "code",
   "execution_count": null,
   "metadata": {},
   "outputs": [],
   "source": [
    "nonacheck = checking.dropna()\n",
    "nonacheck"
   ]
  },
  {
   "cell_type": "code",
   "execution_count": null,
   "metadata": {},
   "outputs": [],
   "source": [
    "nonacheck['guid'].nunique()"
   ]
  },
  {
   "cell_type": "code",
   "execution_count": null,
   "metadata": {},
   "outputs": [],
   "source": [
    "print(nonacheck['load_ts'].apply(pd.to_datetime).max())\n",
    "print(nonacheck['load_ts'].apply(pd.to_datetime).min())"
   ]
  },
  {
   "cell_type": "code",
   "execution_count": null,
   "metadata": {},
   "outputs": [],
   "source": [
    "# check = check[['chassistype', 'modelvendor_normalized', \n",
    "#                       'ram', \n",
    "#                      'os','#ofcores', 'age_category',\n",
    "#                     'graphicsmanuf', 'gfxcard', 'graphicscardclass',\n",
    "#                      'cpuvendor', 'cpu_family',\n",
    "#                     'discretegraphics', 'vpro_enabled', 'utilization_mean', \n",
    "#                      'temp_mean','persona', 'IT_dur_ms', 'Anti-Virus_dur_ms',\n",
    "#       'Communication_dur_ms', 'Game_dur_ms', 'Installer/Updater_dur_ms', 'Internet_dur_ms',\n",
    "#       'Media/Consumption_dur_ms', 'Network Apps_dur_ms', 'Office_dur_ms', 'System/Other_dur_ms', \n",
    "#       'Utility_dur_ms', 'Media/Edit_dur_ms',  '*_dur_ms', 'Education_dur_ms','Metro/Universal Apps_dur_ms',\n",
    "#       'OOBE_dur_ms']]"
   ]
  },
  {
   "cell_type": "code",
   "execution_count": null,
   "metadata": {},
   "outputs": [],
   "source": [
    "# check.isna().sum()"
   ]
  },
  {
   "cell_type": "code",
   "execution_count": null,
   "metadata": {},
   "outputs": [],
   "source": [
    "# check"
   ]
  },
  {
   "cell_type": "code",
   "execution_count": null,
   "metadata": {},
   "outputs": [],
   "source": [
    "# sys['guid'].nunique()"
   ]
  },
  {
   "cell_type": "code",
   "execution_count": null,
   "metadata": {},
   "outputs": [],
   "source": [
    "# cpu['guid'].nunique()"
   ]
  },
  {
   "cell_type": "code",
   "execution_count": null,
   "metadata": {},
   "outputs": [],
   "source": [
    "# print(combined['utilization_mean'].isna().sum())\n",
    "# print(combined['temp_mean'].isna().sum())"
   ]
  },
  {
   "cell_type": "code",
   "execution_count": null,
   "metadata": {},
   "outputs": [],
   "source": [
    "combined = combined[['chassistype', 'modelvendor_normalized', \n",
    "                      'ram', \n",
    "                     'os','#ofcores', 'age_category',\n",
    "                    'graphicsmanuf', 'gfxcard', 'graphicscardclass',\n",
    "                     'cpuvendor', 'cpu_family',\n",
    "                    'discretegraphics', 'vpro_enabled', 'utilization_mean', \n",
    "                     'temp_mean','IT_dur_ms', 'Anti-Virus_dur_ms',\n",
    "      'Communication_dur_ms', 'Game_dur_ms', 'Installer/Updater_dur_ms', 'Internet_dur_ms',\n",
    "      'Media/Consumption_dur_ms', 'Network Apps_dur_ms', 'Office_dur_ms', 'System/Other_dur_ms', \n",
    "      'Utility_dur_ms', 'Media/Edit_dur_ms',  '*_dur_ms', 'Education_dur_ms','Metro/Universal Apps_dur_ms',\n",
    "      'OOBE_dur_ms', 'persona']]"
   ]
  },
  {
   "cell_type": "code",
   "execution_count": null,
   "metadata": {},
   "outputs": [],
   "source": [
    "combined.head()"
   ]
  },
  {
   "cell_type": "code",
   "execution_count": null,
   "metadata": {},
   "outputs": [],
   "source": [
    "# combined.dtypes"
   ]
  },
  {
   "cell_type": "code",
   "execution_count": null,
   "metadata": {},
   "outputs": [],
   "source": [
    "copy = combined.copy()\n",
    "copy.head()"
   ]
  },
  {
   "cell_type": "code",
   "execution_count": null,
   "metadata": {},
   "outputs": [],
   "source": [
    "print(copy['os'].unique())\n",
    "print(copy['cpu_family'].unique())\n",
    "print(copy['cpuvendor'].unique())\n",
    "print(copy['graphicscardclass'].unique())"
   ]
  },
  {
   "cell_type": "code",
   "execution_count": null,
   "metadata": {},
   "outputs": [],
   "source": [
    "# copy_cat = copy[['os','cpu_family', 'cpuvendor', 'graphicscardclass']]"
   ]
  },
  {
   "cell_type": "code",
   "execution_count": null,
   "metadata": {},
   "outputs": [],
   "source": [
    "# dummy = pd.get_dummies(copy_cat)\n",
    "# dummy['persona'] = copy['persona']"
   ]
  },
  {
   "cell_type": "code",
   "execution_count": null,
   "metadata": {},
   "outputs": [],
   "source": [
    "# dummy"
   ]
  },
  {
   "cell_type": "code",
   "execution_count": null,
   "metadata": {},
   "outputs": [],
   "source": [
    "cleanup_nums = {\"persona\": {\"Web User\": 0, \"Casual User\": 1, 'Gamer':2, 'Casual Gamer': 3, 'Office/Productivity':4,\n",
    "                           'Content Creator/IT': 5, 'Communication': 6,\n",
    "                           'Win Store App User': 7, 'Entertainment': 8,\n",
    "                          'File & Network Sharer':9, 'Unknown': 10}}"
   ]
  },
  {
   "cell_type": "code",
   "execution_count": null,
   "metadata": {},
   "outputs": [],
   "source": [
    "cleanup_nums"
   ]
  },
  {
   "cell_type": "code",
   "execution_count": null,
   "metadata": {},
   "outputs": [],
   "source": [
    "def macro_cats(x):\n",
    "    if x=='Web User' or x=='Casual User' or x=='Communication' or x=='Win Store App User' or x=='Entertainment' or x=='File & Network Sharer':\n",
    "        return 0\n",
    "    elif x=='Gamer' or x=='Casual Gamer':\n",
    "        return 1\n",
    "    elif x=='Office/Productivity' or x=='Content Creator/IT':\n",
    "        return 2\n",
    "    elif x == 'Unknown':\n",
    "        return 3\n",
    "    else:\n",
    "        return 4"
   ]
  },
  {
   "cell_type": "code",
   "execution_count": null,
   "metadata": {},
   "outputs": [],
   "source": [
    "nonacopy = copy.dropna()\n",
    "nonacopy['persona'].unique()[9]"
   ]
  },
  {
   "cell_type": "code",
   "execution_count": null,
   "metadata": {},
   "outputs": [],
   "source": [
    "encode_persona = combined['persona'].to_frame().replace(cleanup_nums)"
   ]
  },
  {
   "cell_type": "code",
   "execution_count": null,
   "metadata": {},
   "outputs": [],
   "source": [
    "encode_persona['persona'].value_counts()"
   ]
  },
  {
   "cell_type": "code",
   "execution_count": null,
   "metadata": {},
   "outputs": [],
   "source": [
    "# dummy['util_mean'] = combined['utilization_mean']\n",
    "# dummy['temp_mean'] = combined['temp_mean']\n",
    "# dummy = dummy.drop(columns=['persona'])\n",
    "# dummy['persona'] = encode_persona['persona']"
   ]
  },
  {
   "cell_type": "code",
   "execution_count": null,
   "metadata": {},
   "outputs": [],
   "source": [
    "# dummy"
   ]
  },
  {
   "cell_type": "code",
   "execution_count": null,
   "metadata": {},
   "outputs": [],
   "source": [
    "# dummy_nona = dummy.dropna()\n",
    "# dummy_nona"
   ]
  },
  {
   "cell_type": "code",
   "execution_count": null,
   "metadata": {},
   "outputs": [],
   "source": [
    "# nona_test = dummy_nona.copy()"
   ]
  },
  {
   "cell_type": "code",
   "execution_count": null,
   "metadata": {},
   "outputs": [],
   "source": [
    "# Y = nona_test['persona']\n",
    "# X = nona_test.drop(columns=['persona'])"
   ]
  },
  {
   "cell_type": "code",
   "execution_count": null,
   "metadata": {},
   "outputs": [],
   "source": [
    "# X_train, X_test, Y_train, Y_test = train_test_split(X, Y, test_size=0.2)"
   ]
  },
  {
   "cell_type": "code",
   "execution_count": null,
   "metadata": {},
   "outputs": [],
   "source": [
    "names = [\"Decision_Tree\", \"Extra_Trees\", \"Random_Forest\", \"AdaBoost\"]\n",
    "#     \"Nearest_Neighbors\", \"Linear_SVM\",\n",
    "#          \"Polynomial_SVM\", \"RBF_SVM\", \"Gradient_Boosting\"]\n",
    "        # \"Gaussician_Process\"]\n",
    "#         \"Neural_Net\", \"Naive_Bayes\", \"QDA\", \"SGD\"]\n",
    "\n",
    "classifiers = [\n",
    "    DecisionTreeClassifier(max_depth=5),\n",
    "    ExtraTreesClassifier(n_estimators=10, min_samples_split=2),\n",
    "    RandomForestClassifier(max_depth=5, n_estimators=100),\n",
    "    AdaBoostClassifier(n_estimators=100)]\n",
    "#     KNeighborsClassifier(3),\n",
    "#     SVC(kernel=\"linear\", C=0.025),\n",
    "#     SVC(kernel=\"poly\", degree=3, C=0.025),\n",
    "#     SVC(kernel=\"rbf\", C=1, gamma=2),\n",
    "#     GradientBoostingClassifier(n_estimators=100, learning_rate=1.0)]\n",
    "    #GaussianProcessClassifier(1.0 * RBF(1.0))]\n",
    "    #\n",
    "#     MLPClassifier(alpha=1, max_iter=1000),\n",
    "#     GaussianNB(),\n",
    "#     QuadraticDiscriminantAnalysis(),\n",
    "#     SGDClassifier(loss=\"hinge\", penalty=\"l2\")]"
   ]
  },
  {
   "cell_type": "code",
   "execution_count": null,
   "metadata": {},
   "outputs": [],
   "source": [
    "# scores = []\n",
    "# for name, clf in zip(names, classifiers):\n",
    "#     clf.fit(X_train, Y_train)\n",
    "#     score = clf.score(X_test, Y_test)\n",
    "#     scores.append(score)\n",
    "#     print(1)"
   ]
  },
  {
   "cell_type": "code",
   "execution_count": null,
   "metadata": {},
   "outputs": [],
   "source": [
    "# scores"
   ]
  },
  {
   "cell_type": "code",
   "execution_count": null,
   "metadata": {},
   "outputs": [],
   "source": [
    "# show = pd.DataFrame()\n",
    "# show['name'] = names\n",
    "# show['score'] = scores\n",
    "# show"
   ]
  },
  {
   "cell_type": "code",
   "execution_count": null,
   "metadata": {},
   "outputs": [],
   "source": [
    "# cm = sns.light_palette(\"green\", as_cmap=True)\n",
    "# s = show.style.background_gradient(cmap=cm)\n",
    "# s"
   ]
  },
  {
   "cell_type": "code",
   "execution_count": null,
   "metadata": {},
   "outputs": [],
   "source": [
    "# sns.set(style=\"whitegrid\")\n",
    "# ax = sns.barplot(y=\"name\", x=\"score\", data=show)"
   ]
  },
  {
   "cell_type": "code",
   "execution_count": null,
   "metadata": {},
   "outputs": [],
   "source": [
    "# combined['persona'].value_counts()"
   ]
  },
  {
   "cell_type": "code",
   "execution_count": null,
   "metadata": {},
   "outputs": [],
   "source": [
    "# combined['model_normalized']"
   ]
  },
  {
   "cell_type": "code",
   "execution_count": null,
   "metadata": {},
   "outputs": [],
   "source": [
    "# print(len(combined['modelvendor_normalized'].value_counts()))\n",
    "# print(len(combined['ram'].value_counts()))"
   ]
  },
  {
   "cell_type": "code",
   "execution_count": null,
   "metadata": {},
   "outputs": [],
   "source": [
    "# combined['ram'].value_counts()"
   ]
  },
  {
   "cell_type": "code",
   "execution_count": null,
   "metadata": {},
   "outputs": [],
   "source": [
    "# combined['gfxcard'].value_counts()[:20]"
   ]
  },
  {
   "cell_type": "code",
   "execution_count": null,
   "metadata": {},
   "outputs": [],
   "source": [
    "# combined['graphicscardclass'].value_counts()"
   ]
  },
  {
   "cell_type": "code",
   "execution_count": null,
   "metadata": {},
   "outputs": [],
   "source": [
    "# sys['cpu_family']"
   ]
  },
  {
   "cell_type": "code",
   "execution_count": null,
   "metadata": {},
   "outputs": [],
   "source": [
    "# feats = combined.select_dtypes(include=['object'])"
   ]
  },
  {
   "cell_type": "code",
   "execution_count": null,
   "metadata": {},
   "outputs": [],
   "source": [
    "# list(feats.columns)"
   ]
  },
  {
   "cell_type": "code",
   "execution_count": null,
   "metadata": {},
   "outputs": [],
   "source": [
    "# hasher = FeatureHasher(n_features=12, input_type='string')\n",
    "# f = hasher.transform(combined)\n",
    "# f = f.toarray()\n",
    "# hashed = pd.DataFrame(f, columns = list(feats.columns))\n",
    "# hashed"
   ]
  },
  {
   "cell_type": "code",
   "execution_count": null,
   "metadata": {},
   "outputs": [],
   "source": [
    "morecats = combined.dropna()"
   ]
  },
  {
   "cell_type": "code",
   "execution_count": null,
   "metadata": {},
   "outputs": [],
   "source": [
    "morecats['persona'] = morecats['persona'].apply(macro_cats)"
   ]
  },
  {
   "cell_type": "code",
   "execution_count": null,
   "metadata": {},
   "outputs": [],
   "source": [
    "morecats"
   ]
  },
  {
   "cell_type": "code",
   "execution_count": null,
   "metadata": {},
   "outputs": [],
   "source": [
    "# dumcats['persona'] = morecats.drop(columns=['persona'])"
   ]
  },
  {
   "cell_type": "code",
   "execution_count": null,
   "metadata": {},
   "outputs": [],
   "source": [
    "# encode_persona = combined['persona'].to_frame().replace(cleanup_nums)"
   ]
  },
  {
   "cell_type": "code",
   "execution_count": null,
   "metadata": {},
   "outputs": [],
   "source": [
    "# dumcats['persona'] = encode_persona['persona']"
   ]
  },
  {
   "cell_type": "code",
   "execution_count": null,
   "metadata": {},
   "outputs": [],
   "source": [
    "morecats['persona'].value_counts()"
   ]
  },
  {
   "cell_type": "code",
   "execution_count": null,
   "metadata": {},
   "outputs": [],
   "source": [
    "# dumcats"
   ]
  },
  {
   "cell_type": "code",
   "execution_count": null,
   "metadata": {},
   "outputs": [],
   "source": [
    "Y = morecats['persona']\n",
    "X = morecats.drop(columns=['persona'])"
   ]
  },
  {
   "cell_type": "code",
   "execution_count": null,
   "metadata": {},
   "outputs": [],
   "source": [
    "X = pd.get_dummies(X)\n",
    "X"
   ]
  },
  {
   "cell_type": "code",
   "execution_count": null,
   "metadata": {},
   "outputs": [],
   "source": [
    "X_train, X_test, Y_train, Y_test = train_test_split(X, Y, test_size=0.2)"
   ]
  },
  {
   "cell_type": "code",
   "execution_count": null,
   "metadata": {},
   "outputs": [],
   "source": [
    "names = [\"Decision_Tree\", \"Extra_Trees\", \"Random_Forest\", \"AdaBoost\",\"Nearest_Neighbors\", \"Gradient_Boosting\"]\n",
    "#\"Gaussician_Process\"]\n",
    "#  \"Linear_SVM\",\n",
    "#          \"Polynomial_SVM\", \"RBF_SVM\",\n",
    "#         \"Neural_Net\", \"Naive_Bayes\", \"QDA\", \"SGD\"]\n",
    "\n",
    "classifiers = [\n",
    "    DecisionTreeClassifier(max_depth=5, class_weight='balanced'),\n",
    "    ExtraTreesClassifier(n_estimators=10, min_samples_split=2, class_weight='balanced'),\n",
    "    RandomForestClassifier(max_depth=5, n_estimators=100, class_weight='balanced'),\n",
    "    AdaBoostClassifier(n_estimators=100),\n",
    "    KNeighborsClassifier(3),\n",
    "#     SVC(kernel=\"linear\", C=0.025, class_weight='balanced'),\n",
    "#     SVC(kernel=\"poly\", degree=3, C=0.025, class_weight='balanced'),\n",
    "#     SVC(kernel=\"rbf\", C=1, gamma=2, class_weight='balanced'),\n",
    "    GradientBoostingClassifier(n_estimators=100, learning_rate=1.0)]\n",
    "    #GaussianProcessClassifier(1.0 * RBF(1.0))]\n",
    "    #\n",
    "#     MLPClassifier(alpha=1, max_iter=1000),\n",
    "#     GaussianNB(),\n",
    "#     QuadraticDiscriminantAnalysis(),\n",
    "#     SGDClassifier(loss=\"hinge\", penalty=\"l2\")]"
   ]
  },
  {
   "cell_type": "code",
   "execution_count": null,
   "metadata": {},
   "outputs": [],
   "source": [
    "scores = []\n",
    "for name, clf in zip(names, classifiers):\n",
    "    clf.fit(X_train, Y_train)\n",
    "    score = clf.score(X_test, Y_test)\n",
    "    scores.append(score)\n",
    "    print(score)"
   ]
  },
  {
   "cell_type": "code",
   "execution_count": null,
   "metadata": {},
   "outputs": [],
   "source": [
    "show = pd.DataFrame()\n",
    "show['name'] = names\n",
    "show['score'] = scores\n",
    "show"
   ]
  },
  {
   "cell_type": "code",
   "execution_count": null,
   "metadata": {},
   "outputs": [],
   "source": [
    "cm = sns.light_palette(\"green\", as_cmap=True)\n",
    "s = show.style.background_gradient(cmap=cm)\n",
    "s"
   ]
  },
  {
   "cell_type": "code",
   "execution_count": null,
   "metadata": {},
   "outputs": [],
   "source": []
  },
  {
   "cell_type": "code",
   "execution_count": null,
   "metadata": {},
   "outputs": [],
   "source": []
  },
  {
   "cell_type": "code",
   "execution_count": null,
   "metadata": {},
   "outputs": [],
   "source": []
  },
  {
   "cell_type": "code",
   "execution_count": null,
   "metadata": {},
   "outputs": [],
   "source": []
  },
  {
   "cell_type": "code",
   "execution_count": 149,
   "metadata": {},
   "outputs": [
    {
     "data": {
      "image/png": "[encoded data removed]",
      "text/plain": [
       "<Figure size 432x288 with 1 Axes>"
      ]
     },
     "metadata": {},
     "output_type": "display_data"
    }
   ],
   "source": [
    "# sns.set(style=\"whitegrid\")\n",
    "# ax = sns.barplot(y=\"name\", x=\"score\", data=show)"
   ]
  },
  {
   "cell_type": "code",
   "execution_count": null,
   "metadata": {},
   "outputs": [],
   "source": [
    "feature_names = X_train.columns"
   ]
  },
  {
   "cell_type": "code",
   "execution_count": 151,
   "metadata": {},
   "outputs": [
    {
     "ename": "NameError",
     "evalue": "name 'fig' is not defined",
     "output_type": "error",
     "traceback": [
      "\u001b[0;31m---------------------------------------------------------------------------\u001b[0m",
      "\u001b[0;31mNameError\u001b[0m                                 Traceback (most recent call last)",
      "\u001b[0;32m<ipython-input-151-d377734afa14>\u001b[0m in \u001b[0;36m<module>\u001b[0;34m\u001b[0m\n\u001b[0;32m----> 1\u001b[0;31m \u001b[0mfig\u001b[0m\u001b[0;34m.\u001b[0m\u001b[0mset_size_inches\u001b[0m\u001b[0;34m(\u001b[0m\u001b[0;36m18.5\u001b[0m\u001b[0;34m,\u001b[0m \u001b[0;36m10.5\u001b[0m\u001b[0;34m)\u001b[0m\u001b[0;34m\u001b[0m\u001b[0;34m\u001b[0m\u001b[0m\n\u001b[0m\u001b[1;32m      2\u001b[0m \u001b[0;31m# plt.rcParams[\"figure.figsize\"] = (100,300)\u001b[0m\u001b[0;34m\u001b[0m\u001b[0;34m\u001b[0m\u001b[0;34m\u001b[0m\u001b[0m\n",
      "\u001b[0;31mNameError\u001b[0m: name 'fig' is not defined"
     ]
    }
   ],
   "source": [
    "#fig.set_size_inches(18.5, 10.5)\n",
    "# plt.rcParams[\"figure.figsize\"] = (100,300)"
   ]
  },
  {
   "cell_type": "code",
   "execution_count": null,
   "metadata": {},
   "outputs": [],
   "source": [
    "importances = clf.feature_importances_\n",
    "sorted_idx = np.argsort(importances)[::-1]\n",
    "x=range(len(top5))\n",
    "labels=np.array(feature_names)[sorted_idx]\n",
    "top5 = labels[:5]\n",
    "data5 = importances[sorted_idx][:5]\n",
    "# plt.bar(5, data5, tick_label=top5)\n",
    "# plt.xticks(rotation=90)\n",
    "# plt.show();"
   ]
  },
  {
   "cell_type": "code",
   "execution_count": null,
   "metadata": {},
   "outputs": [],
   "source": [
    "bestfeats = pd.DataFrame()\n",
    "bestfeats['feature'] = top5\n",
    "bestfeats['importance'] = data5"
   ]
  },
  {
   "cell_type": "code",
   "execution_count": null,
   "metadata": {},
   "outputs": [],
   "source": [
    "bestfeats"
   ]
  },
  {
   "cell_type": "code",
   "execution_count": null,
   "metadata": {},
   "outputs": [],
   "source": [
    "# feature_importance = clf.feature_importances_\n",
    "# sorted_idx = np.argsort(feature_importance)\n",
    "# pos = np.arange(sorted_idx.shape[0]) + .5\n",
    "# fig = plt.figure(figsize=(12, 6))\n",
    "# plt.subplot(1, 2, 1)\n",
    "# plt.barh(pos, feature_importance[sorted_idx], align='center')\n",
    "# sorted_idx\n",
    "# # plt.yticks(pos, np.array(diabetes.feature_names)[sorted_idx])\n",
    "# # plt.title('Feature Importance (MDI)')\n",
    "\n",
    "# result = permutation_importance(clf, X_test, Y_test, n_repeats=10,\n",
    "#                                 random_state=42, n_jobs=2)\n",
    "# sorted_idx = result.importances_mean.argsort()\n",
    "# # plt.subplot(1, 2, 2)\n",
    "# # plt.boxplot(result.importances[sorted_idx].T,\n",
    "# #             vert=False, labels=np.array(diabetes.feature_names)[sorted_idx])\n",
    "# # plt.title(\"Permutation Importance (test set)\")\n",
    "# # fig.tight_layout()\n",
    "# # plt.show()"
   ]
  },
  {
   "cell_type": "code",
   "execution_count": null,
   "metadata": {},
   "outputs": [],
   "source": [
    "# from sklearn.metrics import roc_auc_score\n",
    "# from sklearn.model_selection import GridSearchCV\n",
    "# param_dict = {\n",
    "#     'criterion':['gini','entropy'],\n",
    "#     'max_depth':range(1,10),\n",
    "#     'min_samples_split':range(1,10),\n",
    "#     'min_samples_leaf':range(1,5)\n",
    "# }"
   ]
  },
  {
   "cell_type": "code",
   "execution_count": null,
   "metadata": {},
   "outputs": [],
   "source": [
    "ada = AdaBoostClassifier(n_estimators=100)\n",
    "ada.fit(X_train, Y_train)"
   ]
  },
  {
   "cell_type": "code",
   "execution_count": null,
   "metadata": {},
   "outputs": [],
   "source": [
    "mat = confusion_matrix(Y_test,ada.predict(X_test))"
   ]
  },
  {
   "cell_type": "code",
   "execution_count": null,
   "metadata": {},
   "outputs": [],
   "source": [
    "plt.figure(figsize=(10 , 10))\n",
    "sns.set()\n",
    "sns.heatmap(mat.T, square=True, annot=True, fmt='d', cbar=False,\n",
    "            xticklabels=np.unique(Y_test),\n",
    "            yticklabels=np.unique(Y_test))\n",
    "plt.xlabel('True Label')\n",
    "plt.ylabel('Predicted Label')\n",
    "# Save confusion matrix to outputs in Workbench\n",
    "plt.show()"
   ]
  },
  {
   "cell_type": "code",
   "execution_count": null,
   "metadata": {},
   "outputs": [],
   "source": [
    "# rbfsvc = SVC(kernel=\"rbf\", C=1, gamma=2, class_weight='balanced')\n",
    "# rbfsvc.fit(X_train, Y_train)\n",
    "# mat = confusion_matrix(Y_test,rbfsvc.predict(X_test))\n",
    "# plt.figure(figsize=(10 , 10))\n",
    "# sns.set()\n",
    "# sns.heatmap(mat.T, square=True, annot=True, fmt='d', cbar=False,\n",
    "#             xticklabels=np.unique(Y_test),\n",
    "#             yticklabels=np.unique(Y_test))\n",
    "# plt.xlabel('True Label')\n",
    "# plt.ylabel('Predicted Label')\n",
    "# # Save confusion matrix to outputs in Workbench\n",
    "# plt.show()"
   ]
  },
  {
   "cell_type": "code",
   "execution_count": null,
   "metadata": {},
   "outputs": [],
   "source": [
    "et = ExtraTreesClassifier(n_estimators=10, min_samples_split=2, class_weight='balanced')\n",
    "et.fit(X_train, Y_train)\n",
    "mat = confusion_matrix(Y_test,et.predict(X_test))\n",
    "plt.figure(figsize=(10 , 10))\n",
    "sns.set()\n",
    "sns.heatmap(mat.T, square=True, annot=True, fmt='d', cbar=False,\n",
    "            xticklabels=np.unique(Y_test),\n",
    "            yticklabels=np.unique(Y_test))\n",
    "plt.xlabel('True Label')\n",
    "plt.ylabel('Predicted Label')\n",
    "# Save confusion matrix to outputs in Workbench\n",
    "plt.show()"
   ]
  },
  {
   "cell_type": "code",
   "execution_count": null,
   "metadata": {},
   "outputs": [],
   "source": [
    "gbc=GradientBoostingClassifier(n_estimators=100, learning_rate=1.0)\n",
    "gbc.fit(X_train, Y_train)\n",
    "mat = confusion_matrix(Y_test,gbc.predict(X_test))\n",
    "plt.figure(figsize=(10 , 10))\n",
    "sns.set()\n",
    "sns.heatmap(mat.T, square=True, annot=True, fmt='d', cbar=False,\n",
    "            xticklabels=np.unique(Y_test),\n",
    "            yticklabels=np.unique(Y_test))\n",
    "plt.xlabel('True Label')\n",
    "plt.ylabel('Predicted Label')\n",
    "# Save confusion matrix to outputs in Workbench\n",
    "plt.show()"
   ]
  },
  {
   "cell_type": "code",
   "execution_count": null,
   "metadata": {},
   "outputs": [],
   "source": [
    "nn= KNeighborsClassifier(35)\n",
    "nn.fit(X_train, Y_train)\n",
    "mat = confusion_matrix(Y_test,nn.predict(X_test))\n",
    "plt.figure(figsize=(10 , 10))\n",
    "sns.set()\n",
    "sns.heatmap(mat.T, square=True, annot=True, fmt='d', cbar=False,\n",
    "            xticklabels=np.unique(Y_test),\n",
    "            yticklabels=np.unique(Y_test))\n",
    "plt.xlabel('True Label')\n",
    "plt.ylabel('Predicted Label')\n",
    "# Save confusion matrix to outputs in Workbench\n",
    "plt.show()"
   ]
  },
  {
   "cell_type": "code",
   "execution_count": null,
   "metadata": {},
   "outputs": [],
   "source": [
    "per = Perceptron(random_state=1, max_iter=30, tol=0.001, class_weight='balanced', warm_start=True)\n",
    "per.fit(X_train, Y_train)\n",
    "mat = confusion_matrix(Y_test,per.predict(X_test))\n",
    "plt.figure(figsize=(10 , 10))\n",
    "sns.set()\n",
    "sns.heatmap(mat.T, square=True, annot=True, fmt='d', cbar=False,\n",
    "            xticklabels=np.unique(Y_test),\n",
    "            yticklabels=np.unique(Y_test))\n",
    "plt.xlabel('True Label')\n",
    "plt.ylabel('Predicted Label')\n",
    "# Save confusion matrix to outputs in Workbench\n",
    "plt.show()"
   ]
  },
  {
   "cell_type": "code",
   "execution_count": null,
   "metadata": {},
   "outputs": [],
   "source": [
    "score = per.score(X_test, Y_test)\n",
    "score"
   ]
  },
  {
   "cell_type": "code",
   "execution_count": null,
   "metadata": {},
   "outputs": [],
   "source": [
    "# mlp = MLPClassifier(alpha=1e-4, max_iter=20, solver='adam', verbose=10, random_state=1, learning_rate_init=.1,\n",
    "#                    hidden_layer_sizes=(800,100,2))\n",
    "# mlp.fit(X_train, Y_train)\n",
    "# mat = confusion_matrix(Y_test,mlp.predict(X_test))\n",
    "# plt.figure(figsize=(10 , 10))\n",
    "# sns.set()\n",
    "# sns.heatmap(mat.T, square=True, annot=True, fmt='d', cbar=False,\n",
    "#             xticklabels=np.unique(Y_test),\n",
    "#             yticklabels=np.unique(Y_test))\n",
    "# plt.xlabel('True Label')\n",
    "# plt.ylabel('Predicted Label')\n",
    "# # Save confusion matrix to outputs in Workbench\n",
    "# plt.show()"
   ]
  },
  {
   "cell_type": "markdown",
   "metadata": {},
   "source": [
    "## Neural Net"
   ]
  },
  {
   "cell_type": "code",
   "execution_count": null,
   "metadata": {},
   "outputs": [],
   "source": [
    "print(\"Num of GPUs:\", torch.cuda.device_count())\n",
    "print(\"GPU tagger is:\", torch.cuda.current_device())\n",
    "print(\"GPU model:\", torch.cuda.get_device_name(0))"
   ]
  },
  {
   "cell_type": "code",
   "execution_count": null,
   "metadata": {},
   "outputs": [],
   "source": [
    "device = torch.device(\"cuda:0\" if torch.cuda.is_available() else \"cpu\")"
   ]
  },
  {
   "cell_type": "code",
   "execution_count": null,
   "metadata": {},
   "outputs": [],
   "source": [
    "tens_Xtrain = torch.tensor(X_train.values).to(device)\n",
    "tens_Xtest = torch.tensor(X_test.values).to(device)"
   ]
  },
  {
   "cell_type": "code",
   "execution_count": null,
   "metadata": {},
   "outputs": [],
   "source": [
    "num_features = X_train.shape[1]\n",
    "print(\"Number of trainable features is:\", num_features)"
   ]
  },
  {
   "cell_type": "code",
   "execution_count": null,
   "metadata": {},
   "outputs": [],
   "source": [
    "import torchvision\n",
    "from torch.utils.data import Dataset, DataLoader\n",
    "\n",
    "class Dataset(Dataset):\n",
    "\n",
    "    def __init__(self):\n",
    "        self.x = X_train\n",
    "        self.y = Y_train\n",
    "        \n",
    "        self.n_samples = self.x.shape[0]\n",
    "        \n",
    "    def __getitem__(self, index):\n",
    "        return self.x[index], self.y[index]\n",
    "        \n",
    "    def __len__(self):\n",
    "        return self.n_samples\n",
    "    \n",
    "dataset = Dataset()"
   ]
  },
  {
   "cell_type": "code",
   "execution_count": null,
   "metadata": {},
   "outputs": [],
   "source": [
    "train_loader = torch.utils.data.DataLoader(dataset, batch_size=2, shuffle=True)"
   ]
  },
  {
   "cell_type": "code",
   "execution_count": null,
   "metadata": {},
   "outputs": [],
   "source": [
    "train_loader"
   ]
  },
  {
   "cell_type": "code",
   "execution_count": null,
   "metadata": {},
   "outputs": [],
   "source": [
    "class Classifier(nn.Module):\n",
    "    \n",
    "    def __init__(self, width, n_inputs):\n",
    "        super(Classifier, self).__init__()\n",
    "        self.width = width\n",
    "    \n",
    "        # input layer\n",
    "        self.input = nn.Linear(n_inputs, width)\n",
    "    \n",
    "        # hidden layers\n",
    "        self.h1 = nn.Linear(in_features=width, out_features=width)\n",
    "        self.h2 = nn.Linear(in_features=width, out_features=width)\n",
    "    \n",
    "        # output layer\n",
    "        self.output = nn.Linear(width, 1)\n",
    "\n",
    "    def forward(self, x):\n",
    "    \n",
    "        # input layer\n",
    "        x = F.relu(self.input(x))\n",
    "    \n",
    "        # hidden layers\n",
    "        x = F.relu(self.h1(x))\n",
    "        x = F.relu(self.h2(x))\n",
    "        \n",
    "        # output layer\n",
    "        x = torch.sigmoid(self.output(x))\n",
    "    \n",
    "        return x"
   ]
  },
  {
   "cell_type": "code",
   "execution_count": null,
   "metadata": {},
   "outputs": [],
   "source": [
    "# function to help evaluate the training/test accuracies during training. it compares predictions to labels\n",
    "# we define a threshold at 0.5, with predictions below classified as bkg & predictions above classified as sig\n",
    "\n",
    "def get_num_correct(x, y):\n",
    "    return torch.round(x.float()).eq(y.float()).sum().item()"
   ]
  },
  {
   "cell_type": "code",
   "execution_count": null,
   "metadata": {},
   "outputs": [],
   "source": [
    "from tqdm.notebook import tqdm\n",
    "import time\n",
    "\n",
    "def normal_training(epochs=20, batch_size = 291, learning_rate=0.001):        \n",
    "\n",
    "    # create the network\n",
    "    network = Classifier(128, n_inputs=num_features).to(device)\n",
    "\n",
    "    # choose the criterion\n",
    "    criterion = nn.BCELoss()\n",
    "\n",
    "    # create the optimiser\n",
    "    optimizer = torch.optim.Adam(network.parameters(), lr=learning_rate)\n",
    "    \n",
    "    # keep track of the losses\n",
    "    losses = []\n",
    "    losses_test = []\n",
    "\n",
    "    avg_losses = []               ######## for plotting we need losses per epoch\n",
    "    avg_losses_test = []\n",
    "\n",
    "    # create a data loader to begin the training\n",
    "    train_loader = torch.utils.data.DataLoader(dataset, batch_size)\n",
    "\n",
    "    # start a timer\n",
    "    begt = time.time()\n",
    "    \n",
    "    for epoch in tqdm(range(epochs)):\n",
    "        \n",
    "        # to evaluate accuracies while training\n",
    "        correct_preds = 0\n",
    "        correct_preds_test = 0\n",
    "        \n",
    "        for batch in tqdm(train_loader):\n",
    "            \n",
    "            X,Y = batch\n",
    "\n",
    "            # forwardprop\n",
    "            preds = network(X.float())\n",
    "            loss = criterion(preds,Y.float())\n",
    "\n",
    "            # backprop\n",
    "            optimizer.zero_grad()                    ######## To avoid accumulating the gradients\n",
    "            loss.backward()\n",
    "            optimizer.step()\n",
    "\n",
    "            losses.append(loss.to('cpu').detach().numpy())\n",
    "\n",
    "            # feedback to assess training accuracy\n",
    "            correct_preds += get_num_correct(preds, Y)\n",
    "            \n",
    "            \n",
    "            # sample some test data for evaluation\n",
    "            with torch.no_grad():\n",
    "                indx = torch.randint(0, X_test.shape[0], size=(5000, ))\n",
    "                X_t, Y_t = X_test[indx], Y_test[indx]\n",
    "                output_test = network(X_t.float())\n",
    "                loss_test = criterion(output_test, Y_t.float())\n",
    "\n",
    "                losses_test.append(loss_test.to('cpu').detach().numpy())\n",
    "                \n",
    "                # feedback to assess test accuracy\n",
    "                correct_preds_test += get_num_correct(output_test, Y_t)\n",
    "\n",
    "\n",
    "        # calculate loss averages to use them in plots\n",
    "        avg_losses.append(np.mean(losses)) \n",
    "        avg_losses_test.append(np.mean(losses_test))\n",
    "\n",
    "        # evaluate the train/test accuracies\n",
    "        train_accuracy = correct_preds * 100 / X_train.shape[0]\n",
    "        test_accuracy = correct_preds_test * 100 / (X_t.shape[0] * X_train.shape[0] / batch_size)\n",
    "        \n",
    "        print(\"Epoch:\", epoch+1, \" - Loss:\", round(loss.item(),5), \" - Train accuracy: \", round(train_accuracy,2),  \" - Test accuracy: \", round(test_accuracy,2))\n",
    "\n",
    "    fig, ax = plt.subplots()\n",
    "    ax.plot(range(len(avg_losses)), avg_losses, label='train loss')\n",
    "    ax.plot(range(len(avg_losses_test)), avg_losses_test, label='test loss')\n",
    "    ax.set_xlabel('Epochs')\n",
    "    ax.set_ylabel('Classifier loss')\n",
    "    ax.legend(loc='best')\n",
    "    plt.show()\n",
    "    \n",
    "    print(\"Training time:\", round(((time.time()-begt)/60),2),\"min\" )\n",
    "\n",
    "    return network"
   ]
  },
  {
   "cell_type": "code",
   "execution_count": null,
   "metadata": {},
   "outputs": [],
   "source": [
    "clf = normal_training(epochs=5, batch_size = 291, learning_rate=0.001)"
   ]
  },
  {
   "cell_type": "code",
   "execution_count": null,
   "metadata": {},
   "outputs": [],
   "source": []
  },
  {
   "cell_type": "code",
   "execution_count": null,
   "metadata": {},
   "outputs": [],
   "source": [
    "# nn3= KNeighborsClassifier(3)\n",
    "# nn3.fit(X_train, Y_train)\n",
    "# print(nn3.score(X_test, Y_test))\n",
    "\n",
    "\n",
    "# nn5= KNeighborsClassifier(5)\n",
    "# nn5.fit(X_train, Y_train)\n",
    "# print(nn5.score(X_test, Y_test))\n",
    "\n",
    "# nn7= KNeighborsClassifier(7)\n",
    "# nn7.fit(X_train, Y_train)\n",
    "# print(nn7.score(X_test, Y_test))\n",
    "\n",
    "# nn9= KNeighborsClassifier(9)\n",
    "# nn9.fit(X_train, Y_train)\n",
    "# print(nn9.score(X_test, Y_test))\n",
    "\n",
    "# nn11= KNeighborsClassifier(11)\n",
    "# nn11.fit(X_train, Y_train)\n",
    "# print(nn11.score(X_test, Y_test))\n",
    "\n",
    "# nn13= KNeighborsClassifier(13)\n",
    "# nn13.fit(X_train, Y_train)\n",
    "# print(nn13.score(X_test, Y_test))\n",
    "\n",
    "# nn15= KNeighborsClassifier(15)\n",
    "# nn15.fit(X_train, Y_train)\n",
    "# print(nn15.score(X_test, Y_test))\n",
    "\n",
    "# nn31= KNeighborsClassifier(31)\n",
    "# nn31.fit(X_train, Y_train)\n",
    "# print(nn31.score(X_test, Y_test))\n",
    "\n",
    "# nn35= KNeighborsClassifier(35, n_jobs=1)\n",
    "# nn35.fit(X_train, Y_train)\n",
    "# print(nn35.score(X_test, Y_test))\n",
    "\n",
    "# nn37= KNeighborsClassifier(37, n_jobs=1)\n",
    "# nn37.fit(X_train, Y_train)\n",
    "# print(nn37.score(X_test, Y_test))\n",
    "\n",
    "# nn41= KNeighborsClassifier(41, n_jobs=-1)\n",
    "# nn41.fit(X_train, Y_train)\n",
    "# print(nn41.score(X_test, Y_test))\n",
    "\n",
    "# nn37= KNeighborsClassifier(37)\n",
    "# nn37.fit(X_train, Y_train)\n",
    "# print(nn37.score(X_test, Y_test))\n",
    "\n",
    "# nn41= KNeighborsClassifier(41, n_jobs=-1)\n",
    "# nn41.fit(X_train, Y_train)\n",
    "# print(nn41.score(X_test, Y_test))"
   ]
  },
  {
   "cell_type": "code",
   "execution_count": null,
   "metadata": {},
   "outputs": [],
   "source": [
    "# cleanup_nums"
   ]
  },
  {
   "cell_type": "code",
   "execution_count": null,
   "metadata": {},
   "outputs": [],
   "source": [
    "# apps = pd.read_csv('../data/raw/frgnd_backgrnd_apps.csv000', error_bad_lines=False, sep=chr(1))"
   ]
  },
  {
   "cell_type": "code",
   "execution_count": null,
   "metadata": {},
   "outputs": [],
   "source": [
    "# apps.head()"
   ]
  },
  {
   "cell_type": "code",
   "execution_count": null,
   "metadata": {},
   "outputs": [],
   "source": [
    "# s = pd.Series(apps['frgnd_proc_name'])\n",
    "# 'nitroexplorer2b.exe' in s"
   ]
  },
  {
   "cell_type": "code",
   "execution_count": null,
   "metadata": {},
   "outputs": [],
   "source": [
    "# app_class = pd.read_csv('../data/raw/ucsd_apps_execlass.csv000', error_bad_lines=False, sep=chr(35))\n",
    "# app_class"
   ]
  },
  {
   "cell_type": "code",
   "execution_count": null,
   "metadata": {},
   "outputs": [],
   "source": [
    "# app_exe = list(apps['frgnd_proc_name'].value_counts().index)\n",
    "# class_exe = list(app_class['exe_name'].value_counts().index)\n",
    "# overlap = [x for x in app_exe if x in class_exe]\n",
    "# len(overlap)"
   ]
  },
  {
   "cell_type": "code",
   "execution_count": null,
   "metadata": {},
   "outputs": [],
   "source": [
    "# appscombined = apps.join(app_class, lsuffix='frgnd_proc_name', rsuffix='exe_name', how='left')\n",
    "# appscombined"
   ]
  },
  {
   "cell_type": "code",
   "execution_count": null,
   "metadata": {},
   "outputs": [],
   "source": [
    "# appscombined.groupby(['guid', 'app_type'])['event_duration_ms'].mean()"
   ]
  },
  {
   "cell_type": "code",
   "execution_count": null,
   "metadata": {},
   "outputs": [],
   "source": [
    "# mean_dur = appscombined.pivot_table('event_duration_ms', ['guid', 'app_type'], aggfunc=np.mean).reset_index()"
   ]
  },
  {
   "cell_type": "code",
   "execution_count": null,
   "metadata": {},
   "outputs": [],
   "source": [
    "# mean_dur['app_type'].unique()\n",
    "# mean_dur"
   ]
  },
  {
   "cell_type": "code",
   "execution_count": null,
   "metadata": {},
   "outputs": [],
   "source": [
    "# combined_guid = list(combined['guid'].value_counts().index)\n",
    "# dur_guid = list(mean_dur['guid'].value_counts().index)\n",
    "# overlap = [x for x in combined_guid if x in dur_guid]\n",
    "# len(overlap)"
   ]
  },
  {
   "cell_type": "code",
   "execution_count": null,
   "metadata": {},
   "outputs": [],
   "source": [
    "# appproc_exe = list(apps['proc_name'].value_counts().index)\n",
    "# overlap = [x for x in appproc_exe if x in class_exe]\n",
    "# len(overlap)"
   ]
  },
  {
   "cell_type": "code",
   "execution_count": null,
   "metadata": {},
   "outputs": [],
   "source": [
    "# combined"
   ]
  },
  {
   "cell_type": "code",
   "execution_count": null,
   "metadata": {},
   "outputs": [],
   "source": []
  }
 ],
 "metadata": {
  "kernelspec": {
   "display_name": "Python 3",
   "language": "python",
   "name": "python3"
  },
  "language_info": {
   "codemirror_mode": {
    "name": "ipython",
    "version": 3
   },
   "file_extension": ".py",
   "mimetype": "text/x-python",
   "name": "python",
   "nbconvert_exporter": "python",
   "pygments_lexer": "ipython3",
   "version": "3.8.1"
  }
 },
 "nbformat": 4,
 "nbformat_minor": 4
}
