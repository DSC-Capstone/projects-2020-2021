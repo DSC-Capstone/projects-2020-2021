{
 "cells": [
  {
   "cell_type": "code",
   "execution_count": 1,
   "metadata": {},
   "outputs": [],
   "source": [
    "import pandas as pd\n",
    "import numpy as np\n",
    "import json, os, re, random, sys\n",
    "import networkx as nx\n",
    "from stellargraph import StellarGraph as sg\n",
    "from stellargraph import IndexedArray"
   ]
  },
  {
   "cell_type": "code",
   "execution_count": 2,
   "metadata": {},
   "outputs": [
    {
     "data": {
      "text/plain": [
       "'/home/apfriend/dsc180/shne/optimizing'"
      ]
     },
     "execution_count": 2,
     "metadata": {},
     "output_type": "execute_result"
    }
   ],
   "source": [
    "os.chdir('..')\n",
    "os.getcwd()"
   ]
  },
  {
   "cell_type": "code",
   "execution_count": 3,
   "metadata": {},
   "outputs": [],
   "source": [
    "def get_jsons(src, filename):\n",
    "    with open(os.path.join(src,filename)) as dic:\n",
    "        return json.load(dic)"
   ]
  },
  {
   "cell_type": "code",
   "execution_count": 9,
   "metadata": {},
   "outputs": [],
   "source": [
    "src=os.path.join(\"out\",\"dictionaries\")\n",
    "files=[\"dict_A.json\",\"dict_B.json\",\"dict_P.json\",\"dict_I.json\"]\n",
    "\n",
    "A=get_jsons(src, files[0])\n",
    "B=get_jsons(src, files[1])\n",
    "P=get_jsons(src, files[2])\n",
    "I=get_jsons(src, files[3])\n",
    "C=get_jsons(os.path.join(\"out\",\"dictionaries\"),\"api_calls.json\")"
   ]
  },
  {
   "cell_type": "code",
   "execution_count": 10,
   "metadata": {},
   "outputs": [
    {
     "data": {
      "text/plain": [
       "['data_extract',\n",
       " 'dict_B.json',\n",
       " 'api_calls.json',\n",
       " 'naming_key.json',\n",
       " 'dict_A.json',\n",
       " 'dict_P.json',\n",
       " 'dict_I.json']"
      ]
     },
     "execution_count": 10,
     "metadata": {},
     "output_type": "execute_result"
    }
   ],
   "source": [
    "os.listdir(src)"
   ]
  },
  {
   "cell_type": "code",
   "execution_count": 12,
   "metadata": {},
   "outputs": [
    {
     "data": {
      "text/html": [
       "<div>\n",
       "<style scoped>\n",
       "    .dataframe tbody tr th:only-of-type {\n",
       "        vertical-align: middle;\n",
       "    }\n",
       "\n",
       "    .dataframe tbody tr th {\n",
       "        vertical-align: top;\n",
       "    }\n",
       "\n",
       "    .dataframe thead th {\n",
       "        text-align: right;\n",
       "    }\n",
       "</style>\n",
       "<table border=\"1\" class=\"dataframe\">\n",
       "  <thead>\n",
       "    <tr style=\"text-align: right;\">\n",
       "      <th></th>\n",
       "      <th>apps</th>\n",
       "      <th>blocks</th>\n",
       "      <th>packages</th>\n",
       "      <th>invokes</th>\n",
       "      <th>calls</th>\n",
       "    </tr>\n",
       "  </thead>\n",
       "  <tbody>\n",
       "    <tr>\n",
       "      <th>com.gs.doubler.nice_B_extract</th>\n",
       "      <td>a0</td>\n",
       "      <td>NaN</td>\n",
       "      <td>NaN</td>\n",
       "      <td>NaN</td>\n",
       "      <td>NaN</td>\n",
       "    </tr>\n",
       "    <tr>\n",
       "      <th>abaf6cb1972d55702b559725983e134a_M_extract</th>\n",
       "      <td>a1</td>\n",
       "      <td>NaN</td>\n",
       "      <td>NaN</td>\n",
       "      <td>NaN</td>\n",
       "      <td>NaN</td>\n",
       "    </tr>\n",
       "    <tr>\n",
       "      <th>e34aa3a2c09460e61bf7752f6b51f204_M_extract</th>\n",
       "      <td>a2</td>\n",
       "      <td>NaN</td>\n",
       "      <td>NaN</td>\n",
       "      <td>NaN</td>\n",
       "      <td>NaN</td>\n",
       "    </tr>\n",
       "    <tr>\n",
       "      <th>2701de69ea6b57bbc827830660711ea2_M_extract</th>\n",
       "      <td>a3</td>\n",
       "      <td>NaN</td>\n",
       "      <td>NaN</td>\n",
       "      <td>NaN</td>\n",
       "      <td>NaN</td>\n",
       "    </tr>\n",
       "    <tr>\n",
       "      <th>om.devismaiedl.kibryaonta_B_extract</th>\n",
       "      <td>a4</td>\n",
       "      <td>NaN</td>\n",
       "      <td>NaN</td>\n",
       "      <td>NaN</td>\n",
       "      <td>NaN</td>\n",
       "    </tr>\n",
       "    <tr>\n",
       "      <th>...</th>\n",
       "      <td>...</td>\n",
       "      <td>...</td>\n",
       "      <td>...</td>\n",
       "      <td>...</td>\n",
       "      <td>...</td>\n",
       "    </tr>\n",
       "    <tr>\n",
       "      <th>Lcom/z6root/qqkk/mney/z5root$1;-&gt;&lt;init&gt;(Lcom/z6root/qqkk/mney/z5root;)V</th>\n",
       "      <td>NaN</td>\n",
       "      <td>NaN</td>\n",
       "      <td>NaN</td>\n",
       "      <td>NaN</td>\n",
       "      <td>c804291</td>\n",
       "    </tr>\n",
       "    <tr>\n",
       "      <th>Lcom/z6root/qqkk/mney/z5root$2;-&gt;&lt;init&gt;(Lcom/z6root/qqkk/mney/z5root;)V</th>\n",
       "      <td>NaN</td>\n",
       "      <td>NaN</td>\n",
       "      <td>NaN</td>\n",
       "      <td>NaN</td>\n",
       "      <td>c804292</td>\n",
       "    </tr>\n",
       "    <tr>\n",
       "      <th>Lcom/z6root/qqkk/mney/VirtualTerminal$InputReader;-&gt;&lt;init&gt;(Lcom/z6root/qqkk/mney/VirtualTerminal;Ljava/io/InputStream;Ljava/io/ByteArrayOutputStream;)V</th>\n",
       "      <td>NaN</td>\n",
       "      <td>NaN</td>\n",
       "      <td>NaN</td>\n",
       "      <td>NaN</td>\n",
       "      <td>c804293</td>\n",
       "    </tr>\n",
       "    <tr>\n",
       "      <th>Lcom/z6root/qqkk/mney/VirtualTerminal$InputReader;-&gt;start()V</th>\n",
       "      <td>NaN</td>\n",
       "      <td>NaN</td>\n",
       "      <td>NaN</td>\n",
       "      <td>NaN</td>\n",
       "      <td>c804294</td>\n",
       "    </tr>\n",
       "    <tr>\n",
       "      <th>Lcom/z6root/qqkk/mney/VirtualTerminal$InputReader;-&gt;interrupt()V</th>\n",
       "      <td>NaN</td>\n",
       "      <td>NaN</td>\n",
       "      <td>NaN</td>\n",
       "      <td>NaN</td>\n",
       "      <td>c804295</td>\n",
       "    </tr>\n",
       "  </tbody>\n",
       "</table>\n",
       "<p>1658803 rows × 5 columns</p>\n",
       "</div>"
      ],
      "text/plain": [
       "                                                   apps blocks packages  \\\n",
       "com.gs.doubler.nice_B_extract                        a0    NaN      NaN   \n",
       "abaf6cb1972d55702b559725983e134a_M_extract           a1    NaN      NaN   \n",
       "e34aa3a2c09460e61bf7752f6b51f204_M_extract           a2    NaN      NaN   \n",
       "2701de69ea6b57bbc827830660711ea2_M_extract           a3    NaN      NaN   \n",
       "om.devismaiedl.kibryaonta_B_extract                  a4    NaN      NaN   \n",
       "...                                                 ...    ...      ...   \n",
       "Lcom/z6root/qqkk/mney/z5root$1;-><init>(Lcom/z6...  NaN    NaN      NaN   \n",
       "Lcom/z6root/qqkk/mney/z5root$2;-><init>(Lcom/z6...  NaN    NaN      NaN   \n",
       "Lcom/z6root/qqkk/mney/VirtualTerminal$InputRead...  NaN    NaN      NaN   \n",
       "Lcom/z6root/qqkk/mney/VirtualTerminal$InputRead...  NaN    NaN      NaN   \n",
       "Lcom/z6root/qqkk/mney/VirtualTerminal$InputRead...  NaN    NaN      NaN   \n",
       "\n",
       "                                                   invokes    calls  \n",
       "com.gs.doubler.nice_B_extract                          NaN      NaN  \n",
       "abaf6cb1972d55702b559725983e134a_M_extract             NaN      NaN  \n",
       "e34aa3a2c09460e61bf7752f6b51f204_M_extract             NaN      NaN  \n",
       "2701de69ea6b57bbc827830660711ea2_M_extract             NaN      NaN  \n",
       "om.devismaiedl.kibryaonta_B_extract                    NaN      NaN  \n",
       "...                                                    ...      ...  \n",
       "Lcom/z6root/qqkk/mney/z5root$1;-><init>(Lcom/z6...     NaN  c804291  \n",
       "Lcom/z6root/qqkk/mney/z5root$2;-><init>(Lcom/z6...     NaN  c804292  \n",
       "Lcom/z6root/qqkk/mney/VirtualTerminal$InputRead...     NaN  c804293  \n",
       "Lcom/z6root/qqkk/mney/VirtualTerminal$InputRead...     NaN  c804294  \n",
       "Lcom/z6root/qqkk/mney/VirtualTerminal$InputRead...     NaN  c804295  \n",
       "\n",
       "[1658803 rows x 5 columns]"
      ]
     },
     "execution_count": 12,
     "metadata": {},
     "output_type": "execute_result"
    }
   ],
   "source": [
    "kdf=pd.DataFrame(get_jsons(src,\"naming_key.json\")['get_key'])\n",
    "kdf"
   ]
  },
  {
   "cell_type": "code",
   "execution_count": 7,
   "metadata": {},
   "outputs": [],
   "source": [
    "a_edges=np.array(list(nx.Graph(A).edges))\n",
    "p_edges=np.array(list(nx.Graph(P).edges)\n",
    "i_edges=np.array(list(nx.Graph(I).edges))\n",
    "edges=np.concatenate((a_edges,b_edges,p_edges,i_edges))\n",
    "#edges"
   ]
  },
  {
   "cell_type": "code",
   "execution_count": 8,
   "metadata": {},
   "outputs": [
    {
     "data": {
      "text/html": [
       "<div>\n",
       "<style scoped>\n",
       "    .dataframe tbody tr th:only-of-type {\n",
       "        vertical-align: middle;\n",
       "    }\n",
       "\n",
       "    .dataframe tbody tr th {\n",
       "        vertical-align: top;\n",
       "    }\n",
       "\n",
       "    .dataframe thead th {\n",
       "        text-align: right;\n",
       "    }\n",
       "</style>\n",
       "<table border=\"1\" class=\"dataframe\">\n",
       "  <thead>\n",
       "    <tr style=\"text-align: right;\">\n",
       "      <th></th>\n",
       "      <th>source</th>\n",
       "      <th>target</th>\n",
       "    </tr>\n",
       "  </thead>\n",
       "  <tbody>\n",
       "    <tr>\n",
       "      <th>0</th>\n",
       "      <td>a0</td>\n",
       "      <td>c0</td>\n",
       "    </tr>\n",
       "    <tr>\n",
       "      <th>1</th>\n",
       "      <td>a0</td>\n",
       "      <td>c1</td>\n",
       "    </tr>\n",
       "    <tr>\n",
       "      <th>2</th>\n",
       "      <td>a0</td>\n",
       "      <td>c2</td>\n",
       "    </tr>\n",
       "    <tr>\n",
       "      <th>3</th>\n",
       "      <td>a0</td>\n",
       "      <td>c3</td>\n",
       "    </tr>\n",
       "    <tr>\n",
       "      <th>4</th>\n",
       "      <td>a0</td>\n",
       "      <td>c4</td>\n",
       "    </tr>\n",
       "    <tr>\n",
       "      <th>...</th>\n",
       "      <td>...</td>\n",
       "      <td>...</td>\n",
       "    </tr>\n",
       "    <tr>\n",
       "      <th>6895976</th>\n",
       "      <td>i12</td>\n",
       "      <td>c324679</td>\n",
       "    </tr>\n",
       "    <tr>\n",
       "      <th>6895977</th>\n",
       "      <td>i12</td>\n",
       "      <td>c329294</td>\n",
       "    </tr>\n",
       "    <tr>\n",
       "      <th>6895978</th>\n",
       "      <td>i13</td>\n",
       "      <td>c325605</td>\n",
       "    </tr>\n",
       "    <tr>\n",
       "      <th>6895979</th>\n",
       "      <td>i13</td>\n",
       "      <td>c330305</td>\n",
       "    </tr>\n",
       "    <tr>\n",
       "      <th>6895980</th>\n",
       "      <td>i14</td>\n",
       "      <td>c328323</td>\n",
       "    </tr>\n",
       "  </tbody>\n",
       "</table>\n",
       "<p>6895981 rows × 2 columns</p>\n",
       "</div>"
      ],
      "text/plain": [
       "        source   target\n",
       "0           a0       c0\n",
       "1           a0       c1\n",
       "2           a0       c2\n",
       "3           a0       c3\n",
       "4           a0       c4\n",
       "...        ...      ...\n",
       "6895976    i12  c324679\n",
       "6895977    i12  c329294\n",
       "6895978    i13  c325605\n",
       "6895979    i13  c330305\n",
       "6895980    i14  c328323\n",
       "\n",
       "[6895981 rows x 2 columns]"
      ]
     },
     "execution_count": 8,
     "metadata": {},
     "output_type": "execute_result"
    }
   ],
   "source": [
    "missing=['c118941', 'c119254', 'c120497', 'c123360', 'c123701', 'c123824', 'c127636', 'c128010', 'c129020', 'c133106']\n",
    "df=pd.DataFrame(edges).rename(columns={0:\"source\",1:\"target\"})\n",
    "#df.target in missing\n",
    "df"
   ]
  },
  {
   "cell_type": "code",
   "execution_count": 8,
   "metadata": {},
   "outputs": [
    {
     "data": {
      "text/html": [
       "<div>\n",
       "<style scoped>\n",
       "    .dataframe tbody tr th:only-of-type {\n",
       "        vertical-align: middle;\n",
       "    }\n",
       "\n",
       "    .dataframe tbody tr th {\n",
       "        vertical-align: top;\n",
       "    }\n",
       "\n",
       "    .dataframe thead th {\n",
       "        text-align: right;\n",
       "    }\n",
       "</style>\n",
       "<table border=\"1\" class=\"dataframe\">\n",
       "  <thead>\n",
       "    <tr style=\"text-align: right;\">\n",
       "      <th></th>\n",
       "      <th>source</th>\n",
       "      <th>target</th>\n",
       "    </tr>\n",
       "  </thead>\n",
       "  <tbody>\n",
       "    <tr>\n",
       "      <th>5546120</th>\n",
       "      <td>c391907</td>\n",
       "      <td>c391907</td>\n",
       "    </tr>\n",
       "    <tr>\n",
       "      <th>5546210</th>\n",
       "      <td>c391989</td>\n",
       "      <td>c391989</td>\n",
       "    </tr>\n",
       "    <tr>\n",
       "      <th>5547256</th>\n",
       "      <td>c393061</td>\n",
       "      <td>c393061</td>\n",
       "    </tr>\n",
       "    <tr>\n",
       "      <th>5549795</th>\n",
       "      <td>c395631</td>\n",
       "      <td>c395631</td>\n",
       "    </tr>\n",
       "    <tr>\n",
       "      <th>5550171</th>\n",
       "      <td>c395946</td>\n",
       "      <td>c395946</td>\n",
       "    </tr>\n",
       "    <tr>\n",
       "      <th>5550220</th>\n",
       "      <td>c396062</td>\n",
       "      <td>c396062</td>\n",
       "    </tr>\n",
       "    <tr>\n",
       "      <th>5553772</th>\n",
       "      <td>c399682</td>\n",
       "      <td>c399682</td>\n",
       "    </tr>\n",
       "    <tr>\n",
       "      <th>5554042</th>\n",
       "      <td>c399994</td>\n",
       "      <td>c399994</td>\n",
       "    </tr>\n",
       "    <tr>\n",
       "      <th>5554663</th>\n",
       "      <td>c400652</td>\n",
       "      <td>c400652</td>\n",
       "    </tr>\n",
       "    <tr>\n",
       "      <th>5558220</th>\n",
       "      <td>c404585</td>\n",
       "      <td>c404585</td>\n",
       "    </tr>\n",
       "  </tbody>\n",
       "</table>\n",
       "</div>"
      ],
      "text/plain": [
       "          source   target\n",
       "5546120  c391907  c391907\n",
       "5546210  c391989  c391989\n",
       "5547256  c393061  c393061\n",
       "5549795  c395631  c395631\n",
       "5550171  c395946  c395946\n",
       "5550220  c396062  c396062\n",
       "5553772  c399682  c399682\n",
       "5554042  c399994  c399994\n",
       "5554663  c400652  c400652\n",
       "5558220  c404585  c404585"
      ]
     },
     "execution_count": 8,
     "metadata": {},
     "output_type": "execute_result"
    }
   ],
   "source": [
    "df.loc[df.source==df.target]"
   ]
  },
  {
   "cell_type": "code",
   "execution_count": 20,
   "metadata": {},
   "outputs": [
    {
     "data": {
      "text/html": [
       "<div>\n",
       "<style scoped>\n",
       "    .dataframe tbody tr th:only-of-type {\n",
       "        vertical-align: middle;\n",
       "    }\n",
       "\n",
       "    .dataframe tbody tr th {\n",
       "        vertical-align: top;\n",
       "    }\n",
       "\n",
       "    .dataframe thead th {\n",
       "        text-align: right;\n",
       "    }\n",
       "</style>\n",
       "<table border=\"1\" class=\"dataframe\">\n",
       "  <thead>\n",
       "    <tr style=\"text-align: right;\">\n",
       "      <th></th>\n",
       "      <th>source</th>\n",
       "      <th>target</th>\n",
       "    </tr>\n",
       "  </thead>\n",
       "  <tbody>\n",
       "    <tr>\n",
       "      <th>0</th>\n",
       "      <td>a0</td>\n",
       "      <td>c0</td>\n",
       "    </tr>\n",
       "    <tr>\n",
       "      <th>1</th>\n",
       "      <td>a0</td>\n",
       "      <td>c1</td>\n",
       "    </tr>\n",
       "    <tr>\n",
       "      <th>2</th>\n",
       "      <td>a0</td>\n",
       "      <td>c2</td>\n",
       "    </tr>\n",
       "    <tr>\n",
       "      <th>3</th>\n",
       "      <td>a0</td>\n",
       "      <td>c3</td>\n",
       "    </tr>\n",
       "    <tr>\n",
       "      <th>4</th>\n",
       "      <td>a0</td>\n",
       "      <td>c4</td>\n",
       "    </tr>\n",
       "    <tr>\n",
       "      <th>...</th>\n",
       "      <td>...</td>\n",
       "      <td>...</td>\n",
       "    </tr>\n",
       "    <tr>\n",
       "      <th>6627946</th>\n",
       "      <td>i12</td>\n",
       "      <td>c396062</td>\n",
       "    </tr>\n",
       "    <tr>\n",
       "      <th>6627947</th>\n",
       "      <td>i12</td>\n",
       "      <td>c400652</td>\n",
       "    </tr>\n",
       "    <tr>\n",
       "      <th>6627948</th>\n",
       "      <td>i13</td>\n",
       "      <td>c396981</td>\n",
       "    </tr>\n",
       "    <tr>\n",
       "      <th>6627949</th>\n",
       "      <td>i13</td>\n",
       "      <td>c401660</td>\n",
       "    </tr>\n",
       "    <tr>\n",
       "      <th>6627950</th>\n",
       "      <td>i14</td>\n",
       "      <td>c399682</td>\n",
       "    </tr>\n",
       "  </tbody>\n",
       "</table>\n",
       "<p>6627941 rows × 2 columns</p>\n",
       "</div>"
      ],
      "text/plain": [
       "        source   target\n",
       "0           a0       c0\n",
       "1           a0       c1\n",
       "2           a0       c2\n",
       "3           a0       c3\n",
       "4           a0       c4\n",
       "...        ...      ...\n",
       "6627946    i12  c396062\n",
       "6627947    i12  c400652\n",
       "6627948    i13  c396981\n",
       "6627949    i13  c401660\n",
       "6627950    i14  c399682\n",
       "\n",
       "[6627941 rows x 2 columns]"
      ]
     },
     "execution_count": 20,
     "metadata": {},
     "output_type": "execute_result"
    }
   ],
   "source": [
    "df.loc[df.source!=df.target]"
   ]
  },
  {
   "cell_type": "code",
   "execution_count": 9,
   "metadata": {},
   "outputs": [
    {
     "data": {
      "text/html": [
       "<div>\n",
       "<style scoped>\n",
       "    .dataframe tbody tr th:only-of-type {\n",
       "        vertical-align: middle;\n",
       "    }\n",
       "\n",
       "    .dataframe tbody tr th {\n",
       "        vertical-align: top;\n",
       "    }\n",
       "\n",
       "    .dataframe thead th {\n",
       "        text-align: right;\n",
       "    }\n",
       "</style>\n",
       "<table border=\"1\" class=\"dataframe\">\n",
       "  <thead>\n",
       "    <tr style=\"text-align: right;\">\n",
       "      <th></th>\n",
       "      <th>source</th>\n",
       "      <th>target</th>\n",
       "    </tr>\n",
       "  </thead>\n",
       "  <tbody>\n",
       "  </tbody>\n",
       "</table>\n",
       "</div>"
      ],
      "text/plain": [
       "Empty DataFrame\n",
       "Columns: [source, target]\n",
       "Index: []"
      ]
     },
     "execution_count": 9,
     "metadata": {},
     "output_type": "execute_result"
    }
   ],
   "source": [
    "idf=pd.DataFrame(i_edges).rename(columns={0:\"source\",1:\"target\"})\n",
    "idf.loc[idf.source==idf.target]"
   ]
  },
  {
   "cell_type": "code",
   "execution_count": 10,
   "metadata": {},
   "outputs": [
    {
     "data": {
      "text/html": [
       "<div>\n",
       "<style scoped>\n",
       "    .dataframe tbody tr th:only-of-type {\n",
       "        vertical-align: middle;\n",
       "    }\n",
       "\n",
       "    .dataframe tbody tr th {\n",
       "        vertical-align: top;\n",
       "    }\n",
       "\n",
       "    .dataframe thead th {\n",
       "        text-align: right;\n",
       "    }\n",
       "</style>\n",
       "<table border=\"1\" class=\"dataframe\">\n",
       "  <thead>\n",
       "    <tr style=\"text-align: right;\">\n",
       "      <th></th>\n",
       "      <th>source</th>\n",
       "      <th>target</th>\n",
       "    </tr>\n",
       "  </thead>\n",
       "  <tbody>\n",
       "    <tr>\n",
       "      <th>0</th>\n",
       "      <td>i0</td>\n",
       "      <td>c0</td>\n",
       "    </tr>\n",
       "    <tr>\n",
       "      <th>1</th>\n",
       "      <td>i0</td>\n",
       "      <td>c1</td>\n",
       "    </tr>\n",
       "    <tr>\n",
       "      <th>2</th>\n",
       "      <td>i0</td>\n",
       "      <td>c4</td>\n",
       "    </tr>\n",
       "    <tr>\n",
       "      <th>3</th>\n",
       "      <td>i0</td>\n",
       "      <td>c6</td>\n",
       "    </tr>\n",
       "    <tr>\n",
       "      <th>4</th>\n",
       "      <td>i0</td>\n",
       "      <td>c9</td>\n",
       "    </tr>\n",
       "    <tr>\n",
       "      <th>...</th>\n",
       "      <td>...</td>\n",
       "      <td>...</td>\n",
       "    </tr>\n",
       "    <tr>\n",
       "      <th>790166</th>\n",
       "      <td>i12</td>\n",
       "      <td>c396062</td>\n",
       "    </tr>\n",
       "    <tr>\n",
       "      <th>790167</th>\n",
       "      <td>i12</td>\n",
       "      <td>c400652</td>\n",
       "    </tr>\n",
       "    <tr>\n",
       "      <th>790168</th>\n",
       "      <td>i13</td>\n",
       "      <td>c396981</td>\n",
       "    </tr>\n",
       "    <tr>\n",
       "      <th>790169</th>\n",
       "      <td>i13</td>\n",
       "      <td>c401660</td>\n",
       "    </tr>\n",
       "    <tr>\n",
       "      <th>790170</th>\n",
       "      <td>i14</td>\n",
       "      <td>c399682</td>\n",
       "    </tr>\n",
       "  </tbody>\n",
       "</table>\n",
       "<p>790171 rows × 2 columns</p>\n",
       "</div>"
      ],
      "text/plain": [
       "       source   target\n",
       "0          i0       c0\n",
       "1          i0       c1\n",
       "2          i0       c4\n",
       "3          i0       c6\n",
       "4          i0       c9\n",
       "...       ...      ...\n",
       "790166    i12  c396062\n",
       "790167    i12  c400652\n",
       "790168    i13  c396981\n",
       "790169    i13  c401660\n",
       "790170    i14  c399682\n",
       "\n",
       "[790171 rows x 2 columns]"
      ]
     },
     "execution_count": 10,
     "metadata": {},
     "output_type": "execute_result"
    }
   ],
   "source": [
    "idf"
   ]
  },
  {
   "cell_type": "code",
   "execution_count": 11,
   "metadata": {},
   "outputs": [
    {
     "data": {
      "text/html": [
       "<div>\n",
       "<style scoped>\n",
       "    .dataframe tbody tr th:only-of-type {\n",
       "        vertical-align: middle;\n",
       "    }\n",
       "\n",
       "    .dataframe tbody tr th {\n",
       "        vertical-align: top;\n",
       "    }\n",
       "\n",
       "    .dataframe thead th {\n",
       "        text-align: right;\n",
       "    }\n",
       "</style>\n",
       "<table border=\"1\" class=\"dataframe\">\n",
       "  <thead>\n",
       "    <tr style=\"text-align: right;\">\n",
       "      <th></th>\n",
       "      <th>source</th>\n",
       "      <th>target</th>\n",
       "    </tr>\n",
       "  </thead>\n",
       "  <tbody>\n",
       "    <tr>\n",
       "      <th>483674</th>\n",
       "      <td>c391907</td>\n",
       "      <td>c391907</td>\n",
       "    </tr>\n",
       "    <tr>\n",
       "      <th>483764</th>\n",
       "      <td>c391989</td>\n",
       "      <td>c391989</td>\n",
       "    </tr>\n",
       "    <tr>\n",
       "      <th>484810</th>\n",
       "      <td>c393061</td>\n",
       "      <td>c393061</td>\n",
       "    </tr>\n",
       "    <tr>\n",
       "      <th>487349</th>\n",
       "      <td>c395631</td>\n",
       "      <td>c395631</td>\n",
       "    </tr>\n",
       "    <tr>\n",
       "      <th>487725</th>\n",
       "      <td>c395946</td>\n",
       "      <td>c395946</td>\n",
       "    </tr>\n",
       "    <tr>\n",
       "      <th>487774</th>\n",
       "      <td>c396062</td>\n",
       "      <td>c396062</td>\n",
       "    </tr>\n",
       "    <tr>\n",
       "      <th>491326</th>\n",
       "      <td>c399682</td>\n",
       "      <td>c399682</td>\n",
       "    </tr>\n",
       "    <tr>\n",
       "      <th>491596</th>\n",
       "      <td>c399994</td>\n",
       "      <td>c399994</td>\n",
       "    </tr>\n",
       "    <tr>\n",
       "      <th>492217</th>\n",
       "      <td>c400652</td>\n",
       "      <td>c400652</td>\n",
       "    </tr>\n",
       "    <tr>\n",
       "      <th>495774</th>\n",
       "      <td>c404585</td>\n",
       "      <td>c404585</td>\n",
       "    </tr>\n",
       "  </tbody>\n",
       "</table>\n",
       "</div>"
      ],
      "text/plain": [
       "         source   target\n",
       "483674  c391907  c391907\n",
       "483764  c391989  c391989\n",
       "484810  c393061  c393061\n",
       "487349  c395631  c395631\n",
       "487725  c395946  c395946\n",
       "487774  c396062  c396062\n",
       "491326  c399682  c399682\n",
       "491596  c399994  c399994\n",
       "492217  c400652  c400652\n",
       "495774  c404585  c404585"
      ]
     },
     "execution_count": 11,
     "metadata": {},
     "output_type": "execute_result"
    }
   ],
   "source": [
    "pdf=pd.DataFrame(p_edges).rename(columns={0:\"source\",1:\"target\"})\n",
    "pdf.loc[pdf.source==pdf.target]"
   ]
  },
  {
   "cell_type": "code",
   "execution_count": 12,
   "metadata": {},
   "outputs": [
    {
     "data": {
      "text/html": [
       "<div>\n",
       "<style scoped>\n",
       "    .dataframe tbody tr th:only-of-type {\n",
       "        vertical-align: middle;\n",
       "    }\n",
       "\n",
       "    .dataframe tbody tr th {\n",
       "        vertical-align: top;\n",
       "    }\n",
       "\n",
       "    .dataframe thead th {\n",
       "        text-align: right;\n",
       "    }\n",
       "</style>\n",
       "<table border=\"1\" class=\"dataframe\">\n",
       "  <thead>\n",
       "    <tr style=\"text-align: right;\">\n",
       "      <th></th>\n",
       "      <th>source</th>\n",
       "      <th>target</th>\n",
       "    </tr>\n",
       "  </thead>\n",
       "  <tbody>\n",
       "    <tr>\n",
       "      <th>222552</th>\n",
       "      <td>p25940</td>\n",
       "      <td>c617797</td>\n",
       "    </tr>\n",
       "    <tr>\n",
       "      <th>222553</th>\n",
       "      <td>p25940</td>\n",
       "      <td>c617798</td>\n",
       "    </tr>\n",
       "    <tr>\n",
       "      <th>222554</th>\n",
       "      <td>p25940</td>\n",
       "      <td>c617799</td>\n",
       "    </tr>\n",
       "  </tbody>\n",
       "</table>\n",
       "</div>"
      ],
      "text/plain": [
       "        source   target\n",
       "222552  p25940  c617797\n",
       "222553  p25940  c617798\n",
       "222554  p25940  c617799"
      ]
     },
     "execution_count": 12,
     "metadata": {},
     "output_type": "execute_result"
    }
   ],
   "source": [
    "pdf.iloc[222552:222555,:]"
   ]
  },
  {
   "cell_type": "code",
   "execution_count": 14,
   "metadata": {},
   "outputs": [
    {
     "data": {
      "text/html": [
       "<div>\n",
       "<style scoped>\n",
       "    .dataframe tbody tr th:only-of-type {\n",
       "        vertical-align: middle;\n",
       "    }\n",
       "\n",
       "    .dataframe tbody tr th {\n",
       "        vertical-align: top;\n",
       "    }\n",
       "\n",
       "    .dataframe thead th {\n",
       "        text-align: right;\n",
       "    }\n",
       "</style>\n",
       "<table border=\"1\" class=\"dataframe\">\n",
       "  <thead>\n",
       "    <tr style=\"text-align: right;\">\n",
       "      <th></th>\n",
       "      <th>key</th>\n",
       "      <th>call</th>\n",
       "    </tr>\n",
       "  </thead>\n",
       "  <tbody>\n",
       "    <tr>\n",
       "      <th>0</th>\n",
       "      <td>a0</td>\n",
       "      <td>com.wBitmojiCalls.CALLSJK_B_extract</td>\n",
       "    </tr>\n",
       "    <tr>\n",
       "      <th>1</th>\n",
       "      <td>b0</td>\n",
       "      <td>invoke-virtual {v0, v1, v2}, Ljava/util/concur...</td>\n",
       "    </tr>\n",
       "    <tr>\n",
       "      <th>2</th>\n",
       "      <td>c0</td>\n",
       "      <td>Ljava/util/concurrent/TimeUnit;-&gt;toMillis(J)J</td>\n",
       "    </tr>\n",
       "    <tr>\n",
       "      <th>3</th>\n",
       "      <td>p0</td>\n",
       "      <td>Ljava/util/concurrent/TimeUnit</td>\n",
       "    </tr>\n",
       "    <tr>\n",
       "      <th>4</th>\n",
       "      <td>i0</td>\n",
       "      <td>invoke-virtual</td>\n",
       "    </tr>\n",
       "    <tr>\n",
       "      <th>...</th>\n",
       "      <td>...</td>\n",
       "      <td>...</td>\n",
       "    </tr>\n",
       "    <tr>\n",
       "      <th>1606281</th>\n",
       "      <td>p155186</td>\n",
       "      <td>Lkotlinx/coroutines/android/AndroidDispatcherF...</td>\n",
       "    </tr>\n",
       "    <tr>\n",
       "      <th>1606282</th>\n",
       "      <td>c775332</td>\n",
       "      <td>Ljava/util/ServiceConfigurationError;-&gt;&lt;init&gt;(...</td>\n",
       "    </tr>\n",
       "    <tr>\n",
       "      <th>1606283</th>\n",
       "      <td>b675652</td>\n",
       "      <td>invoke-direct {v2}, Lkotlinx/coroutines/androi...</td>\n",
       "    </tr>\n",
       "    <tr>\n",
       "      <th>1606284</th>\n",
       "      <td>c775333</td>\n",
       "      <td>Lkotlinx/coroutines/android/AndroidExceptionPr...</td>\n",
       "    </tr>\n",
       "    <tr>\n",
       "      <th>1606285</th>\n",
       "      <td>p155187</td>\n",
       "      <td>Lkotlinx/coroutines/android/AndroidExceptionPr...</td>\n",
       "    </tr>\n",
       "  </tbody>\n",
       "</table>\n",
       "<p>1606286 rows × 2 columns</p>\n",
       "</div>"
      ],
      "text/plain": [
       "             key                                               call\n",
       "0             a0                com.wBitmojiCalls.CALLSJK_B_extract\n",
       "1             b0  invoke-virtual {v0, v1, v2}, Ljava/util/concur...\n",
       "2             c0      Ljava/util/concurrent/TimeUnit;->toMillis(J)J\n",
       "3             p0                     Ljava/util/concurrent/TimeUnit\n",
       "4             i0                                     invoke-virtual\n",
       "...          ...                                                ...\n",
       "1606281  p155186  Lkotlinx/coroutines/android/AndroidDispatcherF...\n",
       "1606282  c775332  Ljava/util/ServiceConfigurationError;-><init>(...\n",
       "1606283  b675652  invoke-direct {v2}, Lkotlinx/coroutines/androi...\n",
       "1606284  c775333  Lkotlinx/coroutines/android/AndroidExceptionPr...\n",
       "1606285  p155187  Lkotlinx/coroutines/android/AndroidExceptionPr...\n",
       "\n",
       "[1606286 rows x 2 columns]"
      ]
     },
     "execution_count": 14,
     "metadata": {},
     "output_type": "execute_result"
    }
   ],
   "source": [
    "lookup_key=get_jsons(src,\"naming_key.json\")[\"lookup_key\"]\n",
    "kdf=pd.DataFrame({\n",
    "    \"key\":lookup_key.keys(),\n",
    "    \"call\":lookup_key.values()\n",
    "})\n",
    "kdf"
   ]
  },
  {
   "cell_type": "code",
   "execution_count": 16,
   "metadata": {},
   "outputs": [
    {
     "data": {
      "text/plain": [
       "['c391907',\n",
       " 'c391989',\n",
       " 'c393061',\n",
       " 'c395631',\n",
       " 'c395946',\n",
       " 'c396062',\n",
       " 'c399682',\n",
       " 'c399994',\n",
       " 'c400652',\n",
       " 'c404585']"
      ]
     },
     "execution_count": 16,
     "metadata": {},
     "output_type": "execute_result"
    }
   ],
   "source": [
    "list(pdf.loc[pdf.source==pdf.target].source)"
   ]
  },
  {
   "cell_type": "code",
   "execution_count": 18,
   "metadata": {},
   "outputs": [
    {
     "data": {
      "text/html": [
       "<div>\n",
       "<style scoped>\n",
       "    .dataframe tbody tr th:only-of-type {\n",
       "        vertical-align: middle;\n",
       "    }\n",
       "\n",
       "    .dataframe tbody tr th {\n",
       "        vertical-align: top;\n",
       "    }\n",
       "\n",
       "    .dataframe thead th {\n",
       "        text-align: right;\n",
       "    }\n",
       "</style>\n",
       "<table border=\"1\" class=\"dataframe\">\n",
       "  <thead>\n",
       "    <tr style=\"text-align: right;\">\n",
       "      <th></th>\n",
       "      <th>key</th>\n",
       "      <th>call</th>\n",
       "    </tr>\n",
       "  </thead>\n",
       "  <tbody>\n",
       "    <tr>\n",
       "      <th>0</th>\n",
       "      <td>a0</td>\n",
       "      <td>com.wBitmojiCalls.CALLSJK_B_extract</td>\n",
       "    </tr>\n",
       "    <tr>\n",
       "      <th>1</th>\n",
       "      <td>b0</td>\n",
       "      <td>invoke-virtual {v0, v1, v2}, Ljava/util/concur...</td>\n",
       "    </tr>\n",
       "    <tr>\n",
       "      <th>2</th>\n",
       "      <td>c0</td>\n",
       "      <td>Ljava/util/concurrent/TimeUnit;-&gt;toMillis(J)J</td>\n",
       "    </tr>\n",
       "    <tr>\n",
       "      <th>3</th>\n",
       "      <td>p0</td>\n",
       "      <td>Ljava/util/concurrent/TimeUnit</td>\n",
       "    </tr>\n",
       "    <tr>\n",
       "      <th>4</th>\n",
       "      <td>i0</td>\n",
       "      <td>invoke-virtual</td>\n",
       "    </tr>\n",
       "    <tr>\n",
       "      <th>...</th>\n",
       "      <td>...</td>\n",
       "      <td>...</td>\n",
       "    </tr>\n",
       "    <tr>\n",
       "      <th>1606281</th>\n",
       "      <td>p155186</td>\n",
       "      <td>Lkotlinx/coroutines/android/AndroidDispatcherF...</td>\n",
       "    </tr>\n",
       "    <tr>\n",
       "      <th>1606282</th>\n",
       "      <td>c775332</td>\n",
       "      <td>Ljava/util/ServiceConfigurationError;-&gt;&lt;init&gt;(...</td>\n",
       "    </tr>\n",
       "    <tr>\n",
       "      <th>1606283</th>\n",
       "      <td>b675652</td>\n",
       "      <td>invoke-direct {v2}, Lkotlinx/coroutines/androi...</td>\n",
       "    </tr>\n",
       "    <tr>\n",
       "      <th>1606284</th>\n",
       "      <td>c775333</td>\n",
       "      <td>Lkotlinx/coroutines/android/AndroidExceptionPr...</td>\n",
       "    </tr>\n",
       "    <tr>\n",
       "      <th>1606285</th>\n",
       "      <td>p155187</td>\n",
       "      <td>Lkotlinx/coroutines/android/AndroidExceptionPr...</td>\n",
       "    </tr>\n",
       "  </tbody>\n",
       "</table>\n",
       "<p>1606276 rows × 2 columns</p>\n",
       "</div>"
      ],
      "text/plain": [
       "             key                                               call\n",
       "0             a0                com.wBitmojiCalls.CALLSJK_B_extract\n",
       "1             b0  invoke-virtual {v0, v1, v2}, Ljava/util/concur...\n",
       "2             c0      Ljava/util/concurrent/TimeUnit;->toMillis(J)J\n",
       "3             p0                     Ljava/util/concurrent/TimeUnit\n",
       "4             i0                                     invoke-virtual\n",
       "...          ...                                                ...\n",
       "1606281  p155186  Lkotlinx/coroutines/android/AndroidDispatcherF...\n",
       "1606282  c775332  Ljava/util/ServiceConfigurationError;-><init>(...\n",
       "1606283  b675652  invoke-direct {v2}, Lkotlinx/coroutines/androi...\n",
       "1606284  c775333  Lkotlinx/coroutines/android/AndroidExceptionPr...\n",
       "1606285  p155187  Lkotlinx/coroutines/android/AndroidExceptionPr...\n",
       "\n",
       "[1606276 rows x 2 columns]"
      ]
     },
     "execution_count": 18,
     "metadata": {},
     "output_type": "execute_result"
    }
   ],
   "source": [
    "kdf.loc[[k not in multi_keys for k in kdf.key]]"
   ]
  },
  {
   "cell_type": "code",
   "execution_count": 19,
   "metadata": {},
   "outputs": [
    {
     "data": {
      "text/plain": [
       "(1606286, 2)"
      ]
     },
     "execution_count": 19,
     "metadata": {},
     "output_type": "execute_result"
    }
   ],
   "source": [
    "kdf.shape"
   ]
  },
  {
   "cell_type": "code",
   "execution_count": 25,
   "metadata": {},
   "outputs": [
    {
     "data": {
      "text/plain": [
       "(<stellargraph.core.indexed_array.IndexedArray at 0x7fd194677310>,\n",
       " <stellargraph.core.indexed_array.IndexedArray at 0x7fd194677a90>,\n",
       " <stellargraph.core.indexed_array.IndexedArray at 0x7fd194677f10>,\n",
       " <stellargraph.core.indexed_array.IndexedArray at 0x7fd1307140a0>,\n",
       " <stellargraph.core.indexed_array.IndexedArray at 0x7fd130714070>)"
      ]
     },
     "execution_count": 25,
     "metadata": {},
     "output_type": "execute_result"
    }
   ],
   "source": [
    "a_nodes=IndexedArray(index=list(A.keys()))\n",
    "b_nodes=IndexedArray(index=list(B.keys()))\n",
    "c_nodes=IndexedArray(index=list(C.keys()))\n",
    "i_nodes=IndexedArray(index=list(I.keys()))\n",
    "p_nodes=IndexedArray(index=list(P.keys()))\n",
    "a_nodes,b_nodes,c_nodes,i_nodes,p_nodes"
   ]
  },
  {
   "cell_type": "code",
   "execution_count": null,
   "metadata": {},
   "outputs": [],
   "source": [
    "np.array(G.edges)[-10:], np.array(G.nodes)[-10:]"
   ]
  },
  {
   "cell_type": "code",
   "execution_count": 35,
   "metadata": {},
   "outputs": [],
   "source": [
    "graph_nodes={\n",
    "    \"app_nodes\":a_nodes,\n",
    "    \"block_nodes\":b_nodes,\n",
    "    \"api_call_nodes\":c_nodes,\n",
    "    \"invoke_type_nodes\":i_nodes,\n",
    "    \"package_nodes\":p_nodes,\n",
    "}\n",
    "\n",
    "G=sg(graph_nodes,pd.DataFrame(edges).rename(columns={0:\"source\",1:\"target\"}))"
   ]
  },
  {
   "cell_type": "code",
   "execution_count": 38,
   "metadata": {},
   "outputs": [
    {
     "name": "stdout",
     "output_type": "stream",
     "text": [
      "StellarGraph: Undirected multigraph\n",
      " Nodes: 65, Edges: 108\n",
      "\n",
      " Node types:\n",
      "  api_call_nodes: [27]\n",
      "    Features: none\n",
      "    Edge types: api_call_nodes-default->app_nodes, api_call_nodes-default->block_nodes, api_call_nodes-default->invoke_type_nodes, api_call_nodes-default->package_nodes\n",
      "  invoke_type_nodes: [21]\n",
      "    Features: none\n",
      "    Edge types: invoke_type_nodes-default->api_call_nodes\n",
      "  block_nodes: [6]\n",
      "    Features: none\n",
      "    Edge types: block_nodes-default->api_call_nodes\n",
      "  app_nodes: [6]\n",
      "    Features: none\n",
      "    Edge types: app_nodes-default->api_call_nodes\n",
      "  package_nodes: [5]\n",
      "    Features: none\n",
      "    Edge types: package_nodes-default->api_call_nodes\n",
      "\n",
      " Edge types:\n",
      "    api_call_nodes-default->package_nodes: [27]\n",
      "        Weights: all 1 (default)\n",
      "        Features: none\n",
      "    api_call_nodes-default->invoke_type_nodes: [27]\n",
      "        Weights: all 1 (default)\n",
      "        Features: none\n",
      "    api_call_nodes-default->block_nodes: [27]\n",
      "        Weights: all 1 (default)\n",
      "        Features: none\n",
      "    api_call_nodes-default->app_nodes: [27]\n",
      "        Weights: all 1 (default)\n",
      "        Features: none\n"
     ]
    }
   ],
   "source": [
    "print(G.info())"
   ]
  },
  {
   "cell_type": "code",
   "execution_count": null,
   "metadata": {},
   "outputs": [],
   "source": []
  },
  {
   "cell_type": "code",
   "execution_count": 53,
   "metadata": {},
   "outputs": [
    {
     "data": {
      "image/png": "[encoded data removed]",
      "text/plain": [
       "<Figure size 432x288 with 1 Axes>"
      ]
     },
     "metadata": {},
     "output_type": "display_data"
    }
   ],
   "source": [
    "# options = {\n",
    "#     \"font_size\": 36,\n",
    "#     \"node_size\": 3000,\n",
    "#     \"node_color\": \"white\",\n",
    "#     \"edgecolors\": \"black\",\n",
    "#     \"linewidths\": 5,\n",
    "#     \"width\": 5,\n",
    "# }\n",
    "nx.draw_networkx(G)"
   ]
  },
  {
   "cell_type": "code",
   "execution_count": 65,
   "metadata": {},
   "outputs": [
    {
     "name": "stdout",
     "output_type": "stream",
     "text": [
      "Name: \n",
      "Type: Graph\n",
      "Number of nodes: 65\n",
      "Number of edges: 108\n",
      "Average degree:   3.3231\n"
     ]
    }
   ],
   "source": [
    "print(nx.info(G))"
   ]
  },
  {
   "cell_type": "code",
   "execution_count": 61,
   "metadata": {},
   "outputs": [
    {
     "data": {
      "text/plain": [
       "<stellargraph.core.graph.StellarGraph at 0x7f2c296aa520>"
      ]
     },
     "execution_count": 61,
     "metadata": {},
     "output_type": "execute_result"
    }
   ],
   "source": [
    "SG=sg.from_networkx(G)\n",
    "SG"
   ]
  },
  {
   "cell_type": "code",
   "execution_count": 62,
   "metadata": {},
   "outputs": [
    {
     "name": "stdout",
     "output_type": "stream",
     "text": [
      "StellarGraph: Undirected multigraph\n",
      " Nodes: 65, Edges: 108\n",
      "\n",
      " Node types:\n",
      "  default: [65]\n",
      "    Features: none\n",
      "    Edge types: default-default->default\n",
      "\n",
      " Edge types:\n",
      "    default-default->default: [108]\n",
      "        Weights: all 1 (default)\n",
      "        Features: none\n"
     ]
    }
   ],
   "source": [
    "print(SG.info())"
   ]
  },
  {
   "cell_type": "code",
   "execution_count": 67,
   "metadata": {},
   "outputs": [
    {
     "data": {
      "text/plain": [
       "{'default'}"
      ]
     },
     "execution_count": 67,
     "metadata": {},
     "output_type": "execute_result"
    }
   ],
   "source": [
    "SG.node_types"
   ]
  },
  {
   "cell_type": "code",
   "execution_count": 17,
   "metadata": {},
   "outputs": [],
   "source": [
    "from gensim.models import Word2Vec"
   ]
  },
  {
   "cell_type": "code",
   "execution_count": 18,
   "metadata": {},
   "outputs": [
    {
     "name": "stdout",
     "output_type": "stream",
     "text": [
      "Help on function save_word2vec_format in module gensim.models.word2vec:\n",
      "\n",
      "save_word2vec_format(self, fname, fvocab=None, binary=False)\n",
      "    Deprecated. Use `model.wv.save_word2vec_format` instead.\n",
      "    See :meth:`gensim.models.KeyedVectors.save_word2vec_format`.\n",
      "\n"
     ]
    }
   ],
   "source": [
    "help(Word2Vec.save_word2vec_format)"
   ]
  },
  {
   "cell_type": "code",
   "execution_count": null,
   "metadata": {},
   "outputs": [],
   "source": []
  }
 ],
 "metadata": {
  "kernelspec": {
   "display_name": "Python 3",
   "language": "python",
   "name": "python3"
  },
  "language_info": {
   "codemirror_mode": {
    "name": "ipython",
    "version": 3
   },
   "file_extension": ".py",
   "mimetype": "text/x-python",
   "name": "python",
   "nbconvert_exporter": "python",
   "pygments_lexer": "ipython3",
   "version": "3.8.6"
  }
 },
 "nbformat": 4,
 "nbformat_minor": 4
}
