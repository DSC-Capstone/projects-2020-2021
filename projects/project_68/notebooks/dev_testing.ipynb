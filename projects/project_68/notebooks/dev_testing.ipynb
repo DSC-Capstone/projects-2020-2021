{
 "cells": [
  {
   "cell_type": "code",
   "execution_count": 2,
   "metadata": {},
   "outputs": [],
   "source": [
    "import os\n",
    "import time\n",
    "import pandas as pd\n",
    "import seaborn as sns\n",
    "import matplotlib.pyplot as plt\n",
    "import numpy as np"
   ]
  },
  {
   "cell_type": "code",
   "execution_count": 4,
   "metadata": {},
   "outputs": [],
   "source": [
    "# Cutadapt adapter sequence: AGATCGGAAGAGC"
   ]
  },
  {
   "cell_type": "code",
   "execution_count": 17,
   "metadata": {},
   "outputs": [],
   "source": [
    "def get_file_names():\n",
    "    raw_files = []\n",
    "    os.chdir(\"/teams/DSC180A_FA20_A00/b04genetics/group_1/raw_data\")\n",
    "    raw_files = os.listdir()\n",
    "    os.chdir(\"/datasets/home/40/840/r1cummin/alzheimers_gene_analysis\")\n",
    "    return raw_files"
   ]
  },
  {
   "cell_type": "code",
   "execution_count": 18,
   "metadata": {},
   "outputs": [
    {
     "data": {
      "text/plain": [
       "['SRR837496.fastq.gz',\n",
       " 'SRR837499.fastq.gz',\n",
       " 'SRR837470.fastq.gz',\n",
       " 'SRR837438.fastq.gz',\n",
       " 'SRR837437.fastq.gz',\n",
       " 'SRR837504.fastq.gz',\n",
       " 'SRR837489.fastq.gz',\n",
       " 'SRR837486.fastq.gz',\n",
       " 'SRR837460.fastq.gz',\n",
       " 'SRR837450.fastq.gz',\n",
       " 'SRR837440.fastq.gz',\n",
       " 'SRR837503.fastq.gz',\n",
       " 'SRR837481.fastq.gz',\n",
       " 'SRR837467.fastq.gz',\n",
       " 'SRR837468.fastq.gz',\n",
       " 'SRR837491.fastq.gz',\n",
       " 'SRR837478.fastq.gz',\n",
       " 'SRR837477.fastq.gz',\n",
       " 'SRR837448.fastq.gz',\n",
       " 'SRR837447.fastq.gz',\n",
       " 'SRR837457.fastq.gz',\n",
       " 'SRR837458.fastq.gz',\n",
       " 'SRR837451.fastq.gz',\n",
       " 'SRR837441.fastq.gz',\n",
       " 'SRR837471.fastq.gz',\n",
       " 'SRR837498.fastq.gz',\n",
       " 'SRR837497.fastq.gz',\n",
       " 'SRR837505.fastq.gz',\n",
       " 'SRR837439.fastq.gz',\n",
       " 'SRR837461.fastq.gz',\n",
       " 'SRR837487.fastq.gz',\n",
       " 'SRR837488.fastq.gz',\n",
       " 'SRR837446.fastq.gz',\n",
       " 'SRR837449.fastq.gz',\n",
       " 'SRR837459.fastq.gz',\n",
       " 'SRR837456.fastq.gz',\n",
       " 'SRR837502.fastq.gz',\n",
       " 'SRR837469.fastq.gz',\n",
       " 'SRR837466.fastq.gz',\n",
       " 'SRR837480.fastq.gz',\n",
       " 'SRR837476.fastq.gz',\n",
       " 'SRR837479.fastq.gz',\n",
       " 'SRR837490.fastq.gz',\n",
       " 'SRR837465.fastq.gz',\n",
       " 'SRR837483.fastq.gz',\n",
       " 'SRR837501.fastq.gz',\n",
       " 'SRR837475.fastq.gz',\n",
       " 'SRR837493.fastq.gz',\n",
       " 'SRR837445.fastq.gz',\n",
       " 'SRR837455.fastq.gz',\n",
       " 'SRR837472.fastq.gz',\n",
       " 'SRR837494.fastq.gz',\n",
       " 'SRR837462.fastq.gz',\n",
       " 'SRR837484.fastq.gz',\n",
       " 'SRR837506.fastq.gz',\n",
       " 'SRR837452.fastq.gz',\n",
       " 'SRR837442.fastq.gz',\n",
       " 'SRR837444.fastq.gz',\n",
       " 'SRR837454.fastq.gz',\n",
       " 'SRR837482.fastq.gz',\n",
       " 'SRR837464.fastq.gz',\n",
       " 'SRR837500.fastq.gz',\n",
       " 'SRR837492.fastq.gz',\n",
       " 'SRR837474.fastq.gz',\n",
       " 'SRR837453.fastq.gz',\n",
       " 'SRR837443.fastq.gz',\n",
       " 'SRR837495.fastq.gz',\n",
       " 'SRR837473.fastq.gz',\n",
       " 'SRR837485.fastq.gz',\n",
       " 'SRR837463.fastq.gz']"
      ]
     },
     "execution_count": 18,
     "metadata": {},
     "output_type": "execute_result"
    }
   ],
   "source": [
    "get_file_names()"
   ]
  },
  {
   "cell_type": "markdown",
   "metadata": {},
   "source": [
    "# FASTQC"
   ]
  },
  {
   "cell_type": "code",
   "execution_count": 7,
   "metadata": {},
   "outputs": [],
   "source": [
    "def fastqc(raw_files):\n",
    "    pass_data = [] #creating array that will hold name of passing data\n",
    "    fail_data = [] #creating array that will hold name of not passing data\n",
    "    for i in raw_files:\n",
    "        print(i)\n",
    "        os.chdir('..')\n",
    "        os.chdir('/datasets/home/40/840/r1cummin/alzheimers_gene_analysis')\n",
    "        print(\"making dir\")\n",
    "        os.system('mkdir fastq_out')\n",
    "        print(\"running fastqc...\")\n",
    "        os.system('/opt/FastQC/fastqc /teams/DSC180A_FA20_A00/b04genetics/group_1/raw_data/'+i+' --extract --outdir=fastq_out/')\n",
    "        print(\"Fastqc finished\")\n",
    "      \n",
    "        print(\"Opening file\")\n",
    "        with open('fastq_out/'+i[0:-3].replace('.','_')+'c/fastqc_data.txt') as f:\n",
    "            first_line = f.readlines()[1]\n",
    "        print(\"Seeing if pass in file... then adding to array\")\n",
    "        if 'pass' in first_line:\n",
    "            pass_data.append(i)\n",
    "        else:\n",
    "            fail_data.append(i)\n",
    "        print(\"Now deleting dir in order so that we can do the next iteration:\")\n",
    "        os.system('rm -rf fastq_out')\n",
    "    return pass_data, fail_data"
   ]
  },
  {
   "cell_type": "code",
   "execution_count": 19,
   "metadata": {},
   "outputs": [],
   "source": [
    "raw_files = get_file_names()\n",
    "pass_data, fail_data = fastqc(raw_files)"
   ]
  },
  {
   "cell_type": "markdown",
   "metadata": {},
   "source": [
    "# CUTADAPT"
   ]
  },
  {
   "cell_type": "code",
   "execution_count": 17,
   "metadata": {},
   "outputs": [
    {
     "name": "stdout",
     "output_type": "stream",
     "text": [
      "making temp dir\n",
      "running cutadapt\n"
     ]
    },
    {
     "data": {
      "text/plain": [
       "0"
      ]
     },
     "execution_count": 17,
     "metadata": {},
     "output_type": "execute_result"
    }
   ],
   "source": [
    "#testing\n",
    "print(\"making temp dir\")\n",
    "os.system('mkdir cutadapt_tmp')\n",
    "print(\"running cutadapt\")\n",
    "os.system('cutadapt -a AGATCGGAAGAGC -o cutadapt_tmp/SRR837460.fastq.gz /teams/DSC180A_FA20_A00/b04genetics/group_1/raw_data/SRR837460.fastq.gz --cores=32')"
   ]
  },
  {
   "cell_type": "code",
   "execution_count": 17,
   "metadata": {},
   "outputs": [],
   "source": [
    "def cutadapt(pass_data):\n",
    "#     initial = 0\n",
    "    cut_fastq_files = []\n",
    "    print(\"making temp dir\")\n",
    "    os.system('mkdir cutadapt_tmp')\n",
    "    for i in (pass_data):\n",
    "        print(i)\n",
    "        print(\"Starting cutadapt:\")\n",
    "        os.system('cutadapt -a AGATCGGAAGAGC -o cutadapt_tmp/'+i+' /teams/DSC180A_FA20_A00/b04genetics/group_1/raw_data/'+i+' --cores=32')\n",
    "        cut_fastq_files.append(i)\n",
    "        print(\"cutadapt finished on this file, starting on next file:\")\n",
    "#         initial = initial + 1\n",
    "    print(\"cutadapt finished in its entirety\")\n",
    "    return cut_fastq_files"
   ]
  },
  {
   "cell_type": "code",
   "execution_count": null,
   "metadata": {},
   "outputs": [
    {
     "name": "stdout",
     "output_type": "stream",
     "text": [
      "making temp dir\n",
      "Starting cutadapt:\n",
      "cutadapt finished on this file, starting on next file:\n",
      "Starting cutadapt:\n"
     ]
    }
   ],
   "source": [
    "cut_fastq_files = cutadapt(pass_data)"
   ]
  },
  {
   "cell_type": "code",
   "execution_count": 18,
   "metadata": {},
   "outputs": [
    {
     "name": "stdout",
     "output_type": "stream",
     "text": [
      "making temp dir\n",
      "SRR837478.fastq.gz\n",
      "Starting cutadapt:\n",
      "cutadapt finished on this file, starting on next file:\n",
      "SRR837477.fastq.gz\n",
      "Starting cutadapt:\n",
      "cutadapt finished on this file, starting on next file:\n",
      "SRR837448.fastq.gz\n",
      "Starting cutadapt:\n",
      "cutadapt finished on this file, starting on next file:\n",
      "SRR837447.fastq.gz\n",
      "Starting cutadapt:\n",
      "cutadapt finished on this file, starting on next file:\n",
      "SRR837457.fastq.gz\n",
      "Starting cutadapt:\n",
      "cutadapt finished on this file, starting on next file:\n",
      "SRR837458.fastq.gz\n",
      "Starting cutadapt:\n",
      "cutadapt finished on this file, starting on next file:\n",
      "SRR837451.fastq.gz\n",
      "Starting cutadapt:\n",
      "cutadapt finished on this file, starting on next file:\n",
      "SRR837441.fastq.gz\n",
      "Starting cutadapt:\n",
      "cutadapt finished on this file, starting on next file:\n",
      "SRR837471.fastq.gz\n",
      "Starting cutadapt:\n",
      "cutadapt finished on this file, starting on next file:\n",
      "SRR837498.fastq.gz\n",
      "Starting cutadapt:\n",
      "cutadapt finished on this file, starting on next file:\n",
      "SRR837497.fastq.gz\n",
      "Starting cutadapt:\n",
      "cutadapt finished on this file, starting on next file:\n",
      "SRR837505.fastq.gz\n",
      "Starting cutadapt:\n",
      "cutadapt finished on this file, starting on next file:\n",
      "SRR837439.fastq.gz\n",
      "Starting cutadapt:\n",
      "cutadapt finished on this file, starting on next file:\n",
      "SRR837461.fastq.gz\n",
      "Starting cutadapt:\n",
      "cutadapt finished on this file, starting on next file:\n",
      "SRR837487.fastq.gz\n",
      "Starting cutadapt:\n",
      "cutadapt finished on this file, starting on next file:\n",
      "SRR837488.fastq.gz\n",
      "Starting cutadapt:\n",
      "cutadapt finished on this file, starting on next file:\n",
      "SRR837446.fastq.gz\n",
      "Starting cutadapt:\n",
      "cutadapt finished on this file, starting on next file:\n",
      "SRR837449.fastq.gz\n",
      "Starting cutadapt:\n",
      "cutadapt finished on this file, starting on next file:\n",
      "SRR837459.fastq.gz\n",
      "Starting cutadapt:\n",
      "cutadapt finished on this file, starting on next file:\n",
      "SRR837456.fastq.gz\n",
      "Starting cutadapt:\n",
      "cutadapt finished on this file, starting on next file:\n",
      "SRR837502.fastq.gz\n",
      "Starting cutadapt:\n",
      "cutadapt finished on this file, starting on next file:\n",
      "SRR837469.fastq.gz\n",
      "Starting cutadapt:\n",
      "cutadapt finished on this file, starting on next file:\n",
      "SRR837466.fastq.gz\n",
      "Starting cutadapt:\n",
      "cutadapt finished on this file, starting on next file:\n",
      "SRR837480.fastq.gz\n",
      "Starting cutadapt:\n",
      "cutadapt finished on this file, starting on next file:\n",
      "SRR837476.fastq.gz\n",
      "Starting cutadapt:\n",
      "cutadapt finished on this file, starting on next file:\n",
      "SRR837479.fastq.gz\n",
      "Starting cutadapt:\n",
      "cutadapt finished on this file, starting on next file:\n",
      "SRR837490.fastq.gz\n",
      "Starting cutadapt:\n",
      "cutadapt finished on this file, starting on next file:\n",
      "SRR837465.fastq.gz\n",
      "Starting cutadapt:\n",
      "cutadapt finished on this file, starting on next file:\n",
      "SRR837483.fastq.gz\n",
      "Starting cutadapt:\n",
      "cutadapt finished on this file, starting on next file:\n",
      "SRR837501.fastq.gz\n",
      "Starting cutadapt:\n",
      "cutadapt finished on this file, starting on next file:\n",
      "SRR837475.fastq.gz\n",
      "Starting cutadapt:\n",
      "cutadapt finished on this file, starting on next file:\n",
      "SRR837493.fastq.gz\n",
      "Starting cutadapt:\n",
      "cutadapt finished on this file, starting on next file:\n",
      "SRR837445.fastq.gz\n",
      "Starting cutadapt:\n",
      "cutadapt finished on this file, starting on next file:\n",
      "SRR837455.fastq.gz\n",
      "Starting cutadapt:\n",
      "cutadapt finished on this file, starting on next file:\n",
      "SRR837472.fastq.gz\n",
      "Starting cutadapt:\n",
      "cutadapt finished on this file, starting on next file:\n",
      "SRR837494.fastq.gz\n",
      "Starting cutadapt:\n",
      "cutadapt finished on this file, starting on next file:\n",
      "SRR837462.fastq.gz\n",
      "Starting cutadapt:\n",
      "cutadapt finished on this file, starting on next file:\n",
      "SRR837484.fastq.gz\n",
      "Starting cutadapt:\n",
      "cutadapt finished on this file, starting on next file:\n",
      "SRR837506.fastq.gz\n",
      "Starting cutadapt:\n",
      "cutadapt finished on this file, starting on next file:\n",
      "SRR837452.fastq.gz\n",
      "Starting cutadapt:\n",
      "cutadapt finished on this file, starting on next file:\n",
      "SRR837442.fastq.gz\n",
      "Starting cutadapt:\n",
      "cutadapt finished on this file, starting on next file:\n",
      "SRR837444.fastq.gz\n",
      "Starting cutadapt:\n",
      "cutadapt finished on this file, starting on next file:\n",
      "SRR837454.fastq.gz\n",
      "Starting cutadapt:\n",
      "cutadapt finished on this file, starting on next file:\n",
      "SRR837482.fastq.gz\n",
      "Starting cutadapt:\n",
      "cutadapt finished on this file, starting on next file:\n",
      "SRR837464.fastq.gz\n",
      "Starting cutadapt:\n",
      "cutadapt finished on this file, starting on next file:\n",
      "SRR837500.fastq.gz\n",
      "Starting cutadapt:\n",
      "cutadapt finished on this file, starting on next file:\n",
      "SRR837492.fastq.gz\n",
      "Starting cutadapt:\n",
      "cutadapt finished on this file, starting on next file:\n",
      "SRR837474.fastq.gz\n",
      "Starting cutadapt:\n",
      "cutadapt finished on this file, starting on next file:\n",
      "SRR837453.fastq.gz\n",
      "Starting cutadapt:\n",
      "cutadapt finished on this file, starting on next file:\n",
      "SRR837495.fastq.gz\n",
      "Starting cutadapt:\n",
      "cutadapt finished on this file, starting on next file:\n",
      "SRR837473.fastq.gz\n",
      "Starting cutadapt:\n",
      "cutadapt finished on this file, starting on next file:\n",
      "SRR837485.fastq.gz\n",
      "Starting cutadapt:\n",
      "cutadapt finished on this file, starting on next file:\n",
      "SRR837463.fastq.gz\n",
      "Starting cutadapt:\n",
      "cutadapt finished on this file, starting on next file:\n",
      "cutadapt finished in its entirety\n"
     ]
    }
   ],
   "source": [
    "# got broken pipe so continuing where we left off:\n",
    "data_interupted = get_file_names()\n",
    "data_interupted = data_interupted[16:]\n",
    "cut_fastq_files = cutadapt(data_interupted)"
   ]
  },
  {
   "cell_type": "markdown",
   "metadata": {},
   "source": [
    "# 2nd FASTQC"
   ]
  },
  {
   "cell_type": "code",
   "execution_count": 6,
   "metadata": {},
   "outputs": [
    {
     "data": {
      "text/plain": [
       "['test',\n",
       " 'src',\n",
       " 'run.py',\n",
       " 'data',\n",
       " 'config',\n",
       " 'README.md',\n",
       " '.gitignore',\n",
       " 'cutadapt_tmp',\n",
       " 'references',\n",
       " '.ipynb_checkpoints',\n",
       " 'cut_fastq_out',\n",
       " 'notebooks',\n",
       " '.git']"
      ]
     },
     "execution_count": 6,
     "metadata": {},
     "output_type": "execute_result"
    }
   ],
   "source": [
    "# os.chdir(\"alzheimers_gene_analysis\")\n",
    "os.listdir()\n",
    "#os.chdir(\"..\")"
   ]
  },
  {
   "cell_type": "code",
   "execution_count": null,
   "metadata": {},
   "outputs": [],
   "source": [
    "def second_fastqc():\n",
    "    # reRunning the cutadapt files through fastqc\n",
    "\n",
    "    pass_cut_data = [] #creating array that will hold name of passing data\n",
    "    fail_cut_data = [] #creating array that will hold name of not passing data\n",
    "\n",
    "    print('Getting name of cutadapt files')\n",
    "    os.chdir('cutadapt_tmp')\n",
    "    cut_fastq_files = os.listdir() #all the trimmed fastq files\n",
    "    os.chdir('..')\n",
    "    cut_fastq_files = [i for i in cut_fastq_files if '.fastq' in i]\n",
    "    cut_fastq_files.sort()\n",
    "\n",
    "    os.system('mkdir cut_fastq_out')\n",
    "    counter = 1\n",
    "    for i in cut_fastq_files:\n",
    "        print(i)\n",
    "        print(counter)\n",
    "        counter += 1\n",
    "#         os.chdir('..')\n",
    "#         print(\"making dir...\")\n",
    "#         os.system('mkdir cut_fastq_out')\n",
    "        print(\"running fastqc...\")\n",
    "        try:\n",
    "            os.system('/opt/FastQC/fastqc cutadapt_tmp/'+i+' --extract --outdir=cut_fastq_out/')\n",
    "        except:\n",
    "            print(\"The file \"+i+\" encountered an error (Most likely too truncated)\\nMoving to next file\")\n",
    "            fail_cut_data.append(i)\n",
    "            continue\n",
    "            \n",
    "        print(\"Fastqc finished\")\n",
    "        \n",
    "        print(\"Opening file\")\n",
    "#         print(' the file path before opeining: cut_fastq_out/'+i[0:-3][::-1].replace('.','_',1)[::-1]+'c/fastqc_data.txt')\n",
    "        try:\n",
    "            print(' the file path before opeining: cut_fastq_out/'+i[0:-3][::-1].replace('.','_',1)[::-1]+'c/fastqc_data.txt')\n",
    "            with open('cut_fastq_out/'+i[0:-3][::-1].replace('.','_',1)[::-1]+'c/fastqc_data.txt') as f:\n",
    "                cut_first_line = f.readlines()[1]\n",
    "            print(\"Seeing if pass in file... then adding to array\")\n",
    "            if 'pass' in cut_first_line:\n",
    "                pass_cut_data.append(i)\n",
    "            else:\n",
    "                fail_cut_data.append(i)\n",
    "        except:\n",
    "            print(\"The file \"+i+\" encountered an error (Most likely too truncated)\\nMoving to next file\")\n",
    "            fail_cut_data.append(i)\n",
    "            continue\n",
    "        #print(\"Now deleting dir in order so that we can do the next iteration:\")\n",
    "#         os.chdir('..')\n",
    "#         os.chdir('/datasets/home/40/840/r1cummin/DSC180A-Checkpoint-02')\n",
    "        #os.system('rm -rf cut_fastq_out')\n",
    "    # NEED TO MOVE THE DATA TO DATA/OUT FOR FINAL SUBMISSION FORMAT\n",
    "    return pass_cut_data, fail_cut_data"
   ]
  },
  {
   "cell_type": "code",
   "execution_count": null,
   "metadata": {
    "scrolled": false
   },
   "outputs": [],
   "source": [
    "pass_cut_data, fail_cut_data = second_fastqc()\n",
    "#467 not passing"
   ]
  },
  {
   "cell_type": "code",
   "execution_count": 20,
   "metadata": {},
   "outputs": [],
   "source": [
    "raw_data = get_file_names()\n",
    "raw_data.sort()"
   ]
  },
  {
   "cell_type": "code",
   "execution_count": 21,
   "metadata": {},
   "outputs": [
    {
     "data": {
      "text/plain": [
       "69"
      ]
     },
     "execution_count": 21,
     "metadata": {},
     "output_type": "execute_result"
    }
   ],
   "source": [
    "# based on above outputs we know that SRR837467 is not passing...\n",
    "# since the above kernel was interrupted we will be \"hand-making\" the pass_cut_data and fail_cut_data\n",
    "# this would not need to be done unless the cell was interrupted, and our cell was interupted HENCE why we are doing it:\n",
    "pass_cut_data = [i for i in raw_data if i != 'SRR837467.fastq.gz']\n",
    "fail_cut_data = ['SRR837467.fastq.gz']\n",
    "len(pass_cut_data)"
   ]
  },
  {
   "cell_type": "code",
   "execution_count": null,
   "metadata": {},
   "outputs": [],
   "source": []
  },
  {
   "cell_type": "markdown",
   "metadata": {},
   "source": [
    "# Kallisto"
   ]
  },
  {
   "cell_type": "code",
   "execution_count": 16,
   "metadata": {},
   "outputs": [
    {
     "data": {
      "text/plain": [
       "['test',\n",
       " 'src',\n",
       " 'run.py',\n",
       " 'data',\n",
       " 'config',\n",
       " 'README.md',\n",
       " '.gitignore',\n",
       " 'cutadapt_tmp',\n",
       " 'references',\n",
       " '.ipynb_checkpoints',\n",
       " 'cut_fastq_out',\n",
       " 'kallisto_tmp',\n",
       " 'notebooks',\n",
       " '.git']"
      ]
     },
     "execution_count": 16,
     "metadata": {},
     "output_type": "execute_result"
    }
   ],
   "source": [
    "os.listdir()"
   ]
  },
  {
   "cell_type": "code",
   "execution_count": 22,
   "metadata": {},
   "outputs": [],
   "source": [
    "def kallisto(pass_cut_data):\n",
    "    \n",
    "    print(\"Making dir for Kallisto Output:\")\n",
    "    #os.system(\"mkdir kallisto_tmp\")\n",
    "    for i in pass_cut_data:\n",
    "        #SRR837468\n",
    "        #modifications:\n",
    "        if i == 'SRR837468.fastq.gz':\n",
    "            \n",
    "            print(\"Running Kallisto:\")\n",
    "            print(i)\n",
    "            command = f\"/opt/kallisto_linux-v0.42.4/kallisto quant -i data/reference.idx -o kallisto_tmp/kallisto_output_\"+i[0:9]+\" --single -l 50 -s 10 -b 8 -t 8 cutadapt_tmp/\"+i\n",
    "            os.system(command)\n",
    "            #os.system(\"/opt/kallisto_linux-v0.42.4/kallisto quant -i /datasets/srp073813/reference/kallisto_transcripts.idx -o kallisto_tmp/kallisto_output_\"+pass_cut_data[i][0:10]+\" -b 0 \"+pass_cut_data[initial]+\" \"+pass_cut_data[initial+1]+\" -t 10\")\n",
    "        else:\n",
    "            print(i)\n",
    "            continue\n",
    "    print(\"Kallisto successfully ran\")\n",
    "    print(\"Still need to combine all the CSVs though!\")\n",
    "#     print(\"Moving the data to data/out/\")\n",
    "#     os.system(\"mkdir out\")\n",
    "#     os.system(\"mv out data\")\n",
    "#     os.system(\"mv kallisto_tmp data/out\")\n",
    "    #do this to the cutadapt and fastqc outputs as well\n",
    "    return"
   ]
  },
  {
   "cell_type": "code",
   "execution_count": 23,
   "metadata": {},
   "outputs": [
    {
     "name": "stdout",
     "output_type": "stream",
     "text": [
      "Making dir for Kallisto Output:\n",
      "SRR837437.fastq.gz\n",
      "SRR837438.fastq.gz\n",
      "SRR837439.fastq.gz\n",
      "SRR837440.fastq.gz\n",
      "SRR837441.fastq.gz\n",
      "SRR837442.fastq.gz\n",
      "SRR837443.fastq.gz\n",
      "SRR837444.fastq.gz\n",
      "SRR837445.fastq.gz\n",
      "SRR837446.fastq.gz\n",
      "SRR837447.fastq.gz\n",
      "SRR837448.fastq.gz\n",
      "SRR837449.fastq.gz\n",
      "SRR837450.fastq.gz\n",
      "SRR837451.fastq.gz\n",
      "SRR837452.fastq.gz\n",
      "SRR837453.fastq.gz\n",
      "SRR837454.fastq.gz\n",
      "SRR837455.fastq.gz\n",
      "SRR837456.fastq.gz\n",
      "SRR837457.fastq.gz\n",
      "SRR837458.fastq.gz\n",
      "SRR837459.fastq.gz\n",
      "SRR837460.fastq.gz\n",
      "SRR837461.fastq.gz\n",
      "SRR837462.fastq.gz\n",
      "SRR837463.fastq.gz\n",
      "SRR837464.fastq.gz\n",
      "SRR837465.fastq.gz\n",
      "SRR837466.fastq.gz\n",
      "Running Kallisto:\n",
      "SRR837468.fastq.gz\n",
      "SRR837469.fastq.gz\n",
      "SRR837470.fastq.gz\n",
      "SRR837471.fastq.gz\n",
      "SRR837472.fastq.gz\n",
      "SRR837473.fastq.gz\n",
      "SRR837474.fastq.gz\n",
      "SRR837475.fastq.gz\n",
      "SRR837476.fastq.gz\n",
      "SRR837477.fastq.gz\n",
      "SRR837478.fastq.gz\n",
      "SRR837479.fastq.gz\n",
      "SRR837480.fastq.gz\n",
      "SRR837481.fastq.gz\n",
      "SRR837482.fastq.gz\n",
      "SRR837483.fastq.gz\n",
      "SRR837484.fastq.gz\n",
      "SRR837485.fastq.gz\n",
      "SRR837486.fastq.gz\n",
      "SRR837487.fastq.gz\n",
      "SRR837488.fastq.gz\n",
      "SRR837489.fastq.gz\n",
      "SRR837490.fastq.gz\n",
      "SRR837491.fastq.gz\n",
      "SRR837492.fastq.gz\n",
      "SRR837493.fastq.gz\n",
      "SRR837494.fastq.gz\n",
      "SRR837495.fastq.gz\n",
      "SRR837496.fastq.gz\n",
      "SRR837497.fastq.gz\n",
      "SRR837498.fastq.gz\n",
      "SRR837499.fastq.gz\n",
      "SRR837500.fastq.gz\n",
      "SRR837501.fastq.gz\n",
      "SRR837502.fastq.gz\n",
      "SRR837503.fastq.gz\n",
      "SRR837504.fastq.gz\n",
      "SRR837505.fastq.gz\n",
      "SRR837506.fastq.gz\n",
      "Kallisto successfully ran\n",
      "Still need to combine all the CSVs though!\n"
     ]
    }
   ],
   "source": [
    "kallisto(pass_cut_data)"
   ]
  },
  {
   "cell_type": "code",
   "execution_count": 24,
   "metadata": {},
   "outputs": [],
   "source": [
    "import pandas as pd"
   ]
  },
  {
   "cell_type": "code",
   "execution_count": 44,
   "metadata": {},
   "outputs": [
    {
     "name": "stdout",
     "output_type": "stream",
     "text": [
      "hello\n",
      "Kallisto ran now adding to the dataframe, with only the counts (Also renaming the column name)\n",
      "kallisto_output_SRR837437\n",
      "Added to the dataframe\n",
      "Continuing to next iteration:\n",
      "\n",
      "Kallisto ran now adding to the dataframe, with only the counts (Also renaming the column name)\n",
      "kallisto_output_SRR837438\n",
      "Added to the dataframe\n",
      "Continuing to next iteration:\n",
      "\n",
      "Kallisto ran now adding to the dataframe, with only the counts (Also renaming the column name)\n",
      "kallisto_output_SRR837439\n",
      "Added to the dataframe\n",
      "Continuing to next iteration:\n",
      "\n",
      "Kallisto ran now adding to the dataframe, with only the counts (Also renaming the column name)\n",
      "kallisto_output_SRR837440\n",
      "Added to the dataframe\n",
      "Continuing to next iteration:\n",
      "\n",
      "Kallisto ran now adding to the dataframe, with only the counts (Also renaming the column name)\n",
      "kallisto_output_SRR837441\n",
      "Added to the dataframe\n",
      "Continuing to next iteration:\n",
      "\n",
      "Kallisto ran now adding to the dataframe, with only the counts (Also renaming the column name)\n",
      "kallisto_output_SRR837442\n",
      "Added to the dataframe\n",
      "Continuing to next iteration:\n",
      "\n",
      "Kallisto ran now adding to the dataframe, with only the counts (Also renaming the column name)\n",
      "kallisto_output_SRR837443\n",
      "Added to the dataframe\n",
      "Continuing to next iteration:\n",
      "\n",
      "Kallisto ran now adding to the dataframe, with only the counts (Also renaming the column name)\n",
      "kallisto_output_SRR837444\n",
      "Added to the dataframe\n",
      "Continuing to next iteration:\n",
      "\n",
      "Kallisto ran now adding to the dataframe, with only the counts (Also renaming the column name)\n",
      "kallisto_output_SRR837445\n",
      "Added to the dataframe\n",
      "Continuing to next iteration:\n",
      "\n",
      "Kallisto ran now adding to the dataframe, with only the counts (Also renaming the column name)\n",
      "kallisto_output_SRR837446\n",
      "Added to the dataframe\n",
      "Continuing to next iteration:\n",
      "\n",
      "Kallisto ran now adding to the dataframe, with only the counts (Also renaming the column name)\n",
      "kallisto_output_SRR837447\n",
      "Added to the dataframe\n",
      "Continuing to next iteration:\n",
      "\n",
      "Kallisto ran now adding to the dataframe, with only the counts (Also renaming the column name)\n",
      "kallisto_output_SRR837448\n",
      "Added to the dataframe\n",
      "Continuing to next iteration:\n",
      "\n",
      "Kallisto ran now adding to the dataframe, with only the counts (Also renaming the column name)\n",
      "kallisto_output_SRR837449\n",
      "Added to the dataframe\n",
      "Continuing to next iteration:\n",
      "\n",
      "Kallisto ran now adding to the dataframe, with only the counts (Also renaming the column name)\n",
      "kallisto_output_SRR837450\n",
      "Added to the dataframe\n",
      "Continuing to next iteration:\n",
      "\n",
      "Kallisto ran now adding to the dataframe, with only the counts (Also renaming the column name)\n",
      "kallisto_output_SRR837451\n",
      "Added to the dataframe\n",
      "Continuing to next iteration:\n",
      "\n",
      "Kallisto ran now adding to the dataframe, with only the counts (Also renaming the column name)\n",
      "kallisto_output_SRR837452\n",
      "Added to the dataframe\n",
      "Continuing to next iteration:\n",
      "\n",
      "Kallisto ran now adding to the dataframe, with only the counts (Also renaming the column name)\n",
      "kallisto_output_SRR837453\n",
      "Added to the dataframe\n",
      "Continuing to next iteration:\n",
      "\n",
      "Kallisto ran now adding to the dataframe, with only the counts (Also renaming the column name)\n",
      "kallisto_output_SRR837454\n",
      "Added to the dataframe\n",
      "Continuing to next iteration:\n",
      "\n",
      "Kallisto ran now adding to the dataframe, with only the counts (Also renaming the column name)\n",
      "kallisto_output_SRR837455\n",
      "Added to the dataframe\n",
      "Continuing to next iteration:\n",
      "\n",
      "Kallisto ran now adding to the dataframe, with only the counts (Also renaming the column name)\n",
      "kallisto_output_SRR837456\n",
      "Added to the dataframe\n",
      "Continuing to next iteration:\n",
      "\n",
      "Kallisto ran now adding to the dataframe, with only the counts (Also renaming the column name)\n",
      "kallisto_output_SRR837457\n",
      "Added to the dataframe\n",
      "Continuing to next iteration:\n",
      "\n",
      "Kallisto ran now adding to the dataframe, with only the counts (Also renaming the column name)\n",
      "kallisto_output_SRR837458\n",
      "Added to the dataframe\n",
      "Continuing to next iteration:\n",
      "\n",
      "Kallisto ran now adding to the dataframe, with only the counts (Also renaming the column name)\n",
      "kallisto_output_SRR837459\n",
      "Added to the dataframe\n",
      "Continuing to next iteration:\n",
      "\n",
      "Kallisto ran now adding to the dataframe, with only the counts (Also renaming the column name)\n",
      "kallisto_output_SRR837460\n",
      "Added to the dataframe\n",
      "Continuing to next iteration:\n",
      "\n",
      "Kallisto ran now adding to the dataframe, with only the counts (Also renaming the column name)\n",
      "kallisto_output_SRR837461\n",
      "Added to the dataframe\n",
      "Continuing to next iteration:\n",
      "\n",
      "Kallisto ran now adding to the dataframe, with only the counts (Also renaming the column name)\n",
      "kallisto_output_SRR837462\n",
      "Added to the dataframe\n",
      "Continuing to next iteration:\n",
      "\n",
      "Kallisto ran now adding to the dataframe, with only the counts (Also renaming the column name)\n",
      "kallisto_output_SRR837463\n",
      "Added to the dataframe\n",
      "Continuing to next iteration:\n",
      "\n",
      "Kallisto ran now adding to the dataframe, with only the counts (Also renaming the column name)\n",
      "kallisto_output_SRR837464\n",
      "Added to the dataframe\n",
      "Continuing to next iteration:\n",
      "\n",
      "Kallisto ran now adding to the dataframe, with only the counts (Also renaming the column name)\n",
      "kallisto_output_SRR837465\n",
      "Added to the dataframe\n",
      "Continuing to next iteration:\n",
      "\n",
      "Kallisto ran now adding to the dataframe, with only the counts (Also renaming the column name)\n",
      "kallisto_output_SRR837466\n",
      "Added to the dataframe\n",
      "Continuing to next iteration:\n",
      "\n",
      "Kallisto ran now adding to the dataframe, with only the counts (Also renaming the column name)\n",
      "kallisto_output_SRR837469\n",
      "Added to the dataframe\n",
      "Continuing to next iteration:\n",
      "\n",
      "Kallisto ran now adding to the dataframe, with only the counts (Also renaming the column name)\n",
      "kallisto_output_SRR837470\n",
      "Added to the dataframe\n",
      "Continuing to next iteration:\n",
      "\n",
      "Kallisto ran now adding to the dataframe, with only the counts (Also renaming the column name)\n",
      "kallisto_output_SRR837471\n",
      "Added to the dataframe\n",
      "Continuing to next iteration:\n",
      "\n",
      "Kallisto ran now adding to the dataframe, with only the counts (Also renaming the column name)\n",
      "kallisto_output_SRR837472\n",
      "Added to the dataframe\n",
      "Continuing to next iteration:\n",
      "\n",
      "Kallisto ran now adding to the dataframe, with only the counts (Also renaming the column name)\n",
      "kallisto_output_SRR837473\n",
      "Added to the dataframe\n",
      "Continuing to next iteration:\n",
      "\n",
      "Kallisto ran now adding to the dataframe, with only the counts (Also renaming the column name)\n",
      "kallisto_output_SRR837474\n",
      "Added to the dataframe\n",
      "Continuing to next iteration:\n",
      "\n",
      "Kallisto ran now adding to the dataframe, with only the counts (Also renaming the column name)\n",
      "kallisto_output_SRR837475\n",
      "Added to the dataframe\n",
      "Continuing to next iteration:\n",
      "\n",
      "Kallisto ran now adding to the dataframe, with only the counts (Also renaming the column name)\n",
      "kallisto_output_SRR837476\n",
      "Added to the dataframe\n",
      "Continuing to next iteration:\n",
      "\n",
      "Kallisto ran now adding to the dataframe, with only the counts (Also renaming the column name)\n",
      "kallisto_output_SRR837477\n",
      "Added to the dataframe\n",
      "Continuing to next iteration:\n",
      "\n",
      "Kallisto ran now adding to the dataframe, with only the counts (Also renaming the column name)\n",
      "kallisto_output_SRR837478\n",
      "Added to the dataframe\n",
      "Continuing to next iteration:\n",
      "\n",
      "Kallisto ran now adding to the dataframe, with only the counts (Also renaming the column name)\n",
      "kallisto_output_SRR837479\n",
      "Added to the dataframe\n",
      "Continuing to next iteration:\n",
      "\n",
      "Kallisto ran now adding to the dataframe, with only the counts (Also renaming the column name)\n",
      "kallisto_output_SRR837480\n",
      "Added to the dataframe\n",
      "Continuing to next iteration:\n",
      "\n",
      "Kallisto ran now adding to the dataframe, with only the counts (Also renaming the column name)\n",
      "kallisto_output_SRR837482\n",
      "Added to the dataframe\n",
      "Continuing to next iteration:\n",
      "\n",
      "Kallisto ran now adding to the dataframe, with only the counts (Also renaming the column name)\n",
      "kallisto_output_SRR837483\n",
      "Added to the dataframe\n",
      "Continuing to next iteration:\n",
      "\n",
      "Kallisto ran now adding to the dataframe, with only the counts (Also renaming the column name)\n",
      "kallisto_output_SRR837484\n",
      "Added to the dataframe\n",
      "Continuing to next iteration:\n",
      "\n",
      "Kallisto ran now adding to the dataframe, with only the counts (Also renaming the column name)\n",
      "kallisto_output_SRR837485\n",
      "Added to the dataframe\n",
      "Continuing to next iteration:\n",
      "\n",
      "Kallisto ran now adding to the dataframe, with only the counts (Also renaming the column name)\n",
      "kallisto_output_SRR837486\n",
      "Added to the dataframe\n",
      "Continuing to next iteration:\n",
      "\n",
      "Kallisto ran now adding to the dataframe, with only the counts (Also renaming the column name)\n",
      "kallisto_output_SRR837487\n",
      "Added to the dataframe\n",
      "Continuing to next iteration:\n",
      "\n",
      "Kallisto ran now adding to the dataframe, with only the counts (Also renaming the column name)\n",
      "kallisto_output_SRR837488\n",
      "Added to the dataframe\n",
      "Continuing to next iteration:\n",
      "\n",
      "Kallisto ran now adding to the dataframe, with only the counts (Also renaming the column name)\n",
      "kallisto_output_SRR837489\n"
     ]
    },
    {
     "name": "stdout",
     "output_type": "stream",
     "text": [
      "Added to the dataframe\n",
      "Continuing to next iteration:\n",
      "\n",
      "Kallisto ran now adding to the dataframe, with only the counts (Also renaming the column name)\n",
      "kallisto_output_SRR837490\n",
      "Added to the dataframe\n",
      "Continuing to next iteration:\n",
      "\n",
      "Kallisto ran now adding to the dataframe, with only the counts (Also renaming the column name)\n",
      "kallisto_output_SRR837492\n",
      "Added to the dataframe\n",
      "Continuing to next iteration:\n",
      "\n",
      "Kallisto ran now adding to the dataframe, with only the counts (Also renaming the column name)\n",
      "kallisto_output_SRR837493\n",
      "Added to the dataframe\n",
      "Continuing to next iteration:\n",
      "\n",
      "Kallisto ran now adding to the dataframe, with only the counts (Also renaming the column name)\n",
      "kallisto_output_SRR837494\n",
      "Added to the dataframe\n",
      "Continuing to next iteration:\n",
      "\n",
      "Kallisto ran now adding to the dataframe, with only the counts (Also renaming the column name)\n",
      "kallisto_output_SRR837495\n",
      "Added to the dataframe\n",
      "Continuing to next iteration:\n",
      "\n",
      "Kallisto ran now adding to the dataframe, with only the counts (Also renaming the column name)\n",
      "kallisto_output_SRR837496\n",
      "Added to the dataframe\n",
      "Continuing to next iteration:\n",
      "\n",
      "Kallisto ran now adding to the dataframe, with only the counts (Also renaming the column name)\n",
      "kallisto_output_SRR837497\n",
      "Added to the dataframe\n",
      "Continuing to next iteration:\n",
      "\n",
      "Kallisto ran now adding to the dataframe, with only the counts (Also renaming the column name)\n",
      "kallisto_output_SRR837498\n",
      "Added to the dataframe\n",
      "Continuing to next iteration:\n",
      "\n",
      "Kallisto ran now adding to the dataframe, with only the counts (Also renaming the column name)\n",
      "kallisto_output_SRR837499\n",
      "Added to the dataframe\n",
      "Continuing to next iteration:\n",
      "\n",
      "Kallisto ran now adding to the dataframe, with only the counts (Also renaming the column name)\n",
      "kallisto_output_SRR837500\n",
      "Added to the dataframe\n",
      "Continuing to next iteration:\n",
      "\n",
      "Kallisto ran now adding to the dataframe, with only the counts (Also renaming the column name)\n",
      "kallisto_output_SRR837501\n",
      "Added to the dataframe\n",
      "Continuing to next iteration:\n",
      "\n",
      "Kallisto ran now adding to the dataframe, with only the counts (Also renaming the column name)\n",
      "kallisto_output_SRR837502\n",
      "Added to the dataframe\n",
      "Continuing to next iteration:\n",
      "\n",
      "Kallisto ran now adding to the dataframe, with only the counts (Also renaming the column name)\n",
      "kallisto_output_SRR837503\n",
      "Added to the dataframe\n",
      "Continuing to next iteration:\n",
      "\n",
      "Kallisto ran now adding to the dataframe, with only the counts (Also renaming the column name)\n",
      "kallisto_output_SRR837504\n",
      "Added to the dataframe\n",
      "Continuing to next iteration:\n",
      "\n",
      "Kallisto ran now adding to the dataframe, with only the counts (Also renaming the column name)\n",
      "kallisto_output_SRR837505\n",
      "Added to the dataframe\n",
      "Continuing to next iteration:\n",
      "\n",
      "Kallisto ran now adding to the dataframe, with only the counts (Also renaming the column name)\n",
      "kallisto_output_SRR837506\n",
      "Added to the dataframe\n",
      "Continuing to next iteration:\n",
      "\n"
     ]
    }
   ],
   "source": [
    "df = pd.DataFrame()\n",
    "os.chdir(\"kallisto_tmp\")\n",
    "pass_cut_data = os.listdir()\n",
    "pass_cut_data = [i for i in pass_cut_data if 'kallisto_output_' in i]\n",
    "pass_cut_data.sort()\n",
    "print(\"hello\")\n",
    "for i in pass_cut_data:\n",
    "    \n",
    "    print(\"Kallisto ran now adding to the dataframe, with only the counts (Also renaming the column name)\")\n",
    "    print(i)\n",
    "    tmp_df = pd.read_csv(i+\"/abundance.tsv\",sep=\"\\t\")[['target_id','est_counts']]\n",
    "    tmp_df[i[-9:]] = tmp_df['est_counts']\n",
    "    tmp_df = tmp_df.drop(['est_counts'],axis=1)\n",
    "    if 'target_id' in df.columns:\n",
    "        df = pd.concat([df,tmp_df[i[-9:]]],axis=1)\n",
    "    else:\n",
    "        df = pd.concat([df,tmp_df],axis=1)\n",
    "    \n",
    "    print(\"Added to the dataframe\")\n",
    "    print(\"Continuing to next iteration:\\n\")\n",
    "    #print(os.listdir())\n",
    "df.to_csv('kallisto_counts.csv')"
   ]
  },
  {
   "cell_type": "code",
   "execution_count": 43,
   "metadata": {},
   "outputs": [
    {
     "data": {
      "text/plain": [
       "['test',\n",
       " 'src',\n",
       " 'run.py',\n",
       " 'data',\n",
       " 'config',\n",
       " 'README.md',\n",
       " '.gitignore',\n",
       " 'cutadapt_tmp',\n",
       " 'references',\n",
       " '.ipynb_checkpoints',\n",
       " 'cut_fastq_out',\n",
       " 'kallisto_tmp',\n",
       " 'notebooks',\n",
       " '.git']"
      ]
     },
     "execution_count": 43,
     "metadata": {},
     "output_type": "execute_result"
    }
   ],
   "source": [
    "os.chdir(\"..\")\n",
    "\n",
    "os.listdir()"
   ]
  },
  {
   "cell_type": "code",
   "execution_count": 4,
   "metadata": {},
   "outputs": [
    {
     "data": {
      "text/plain": [
       "'SRR837437'"
      ]
     },
     "execution_count": 4,
     "metadata": {},
     "output_type": "execute_result"
    }
   ],
   "source": [
    "strng = 'kallisto_output_SRR837437'\n",
    "strng[-9:]"
   ]
  },
  {
   "cell_type": "code",
   "execution_count": 45,
   "metadata": {},
   "outputs": [
    {
     "data": {
      "text/html": [
       "<div>\n",
       "<style scoped>\n",
       "    .dataframe tbody tr th:only-of-type {\n",
       "        vertical-align: middle;\n",
       "    }\n",
       "\n",
       "    .dataframe tbody tr th {\n",
       "        vertical-align: top;\n",
       "    }\n",
       "\n",
       "    .dataframe thead th {\n",
       "        text-align: right;\n",
       "    }\n",
       "</style>\n",
       "<table border=\"1\" class=\"dataframe\">\n",
       "  <thead>\n",
       "    <tr style=\"text-align: right;\">\n",
       "      <th></th>\n",
       "      <th>Unnamed: 0</th>\n",
       "      <th>target_id</th>\n",
       "      <th>SRR837437</th>\n",
       "      <th>SRR837438</th>\n",
       "      <th>SRR837439</th>\n",
       "      <th>SRR837440</th>\n",
       "      <th>SRR837441</th>\n",
       "      <th>SRR837442</th>\n",
       "      <th>SRR837443</th>\n",
       "      <th>SRR837444</th>\n",
       "      <th>...</th>\n",
       "      <th>SRR837497</th>\n",
       "      <th>SRR837498</th>\n",
       "      <th>SRR837499</th>\n",
       "      <th>SRR837500</th>\n",
       "      <th>SRR837501</th>\n",
       "      <th>SRR837502</th>\n",
       "      <th>SRR837503</th>\n",
       "      <th>SRR837504</th>\n",
       "      <th>SRR837505</th>\n",
       "      <th>SRR837506</th>\n",
       "    </tr>\n",
       "  </thead>\n",
       "  <tbody>\n",
       "    <tr>\n",
       "      <th>0</th>\n",
       "      <td>0</td>\n",
       "      <td>ENST00000618624.1</td>\n",
       "      <td>0.0</td>\n",
       "      <td>0.0</td>\n",
       "      <td>0.0</td>\n",
       "      <td>0.0</td>\n",
       "      <td>0.0</td>\n",
       "      <td>0.0</td>\n",
       "      <td>0.0</td>\n",
       "      <td>0.00000</td>\n",
       "      <td>...</td>\n",
       "      <td>0.0</td>\n",
       "      <td>0.0</td>\n",
       "      <td>0.00000</td>\n",
       "      <td>0.0</td>\n",
       "      <td>0.0</td>\n",
       "      <td>0.0</td>\n",
       "      <td>0.00000</td>\n",
       "      <td>0.0</td>\n",
       "      <td>0.0</td>\n",
       "      <td>0.0</td>\n",
       "    </tr>\n",
       "    <tr>\n",
       "      <th>1</th>\n",
       "      <td>1</td>\n",
       "      <td>ENST00000614042.1</td>\n",
       "      <td>0.0</td>\n",
       "      <td>0.0</td>\n",
       "      <td>0.0</td>\n",
       "      <td>0.0</td>\n",
       "      <td>0.0</td>\n",
       "      <td>0.0</td>\n",
       "      <td>0.0</td>\n",
       "      <td>0.00000</td>\n",
       "      <td>...</td>\n",
       "      <td>0.0</td>\n",
       "      <td>0.0</td>\n",
       "      <td>0.00000</td>\n",
       "      <td>0.0</td>\n",
       "      <td>0.0</td>\n",
       "      <td>0.0</td>\n",
       "      <td>0.00000</td>\n",
       "      <td>0.0</td>\n",
       "      <td>0.0</td>\n",
       "      <td>0.0</td>\n",
       "    </tr>\n",
       "    <tr>\n",
       "      <th>2</th>\n",
       "      <td>2</td>\n",
       "      <td>ENST00000620756.1</td>\n",
       "      <td>0.0</td>\n",
       "      <td>0.0</td>\n",
       "      <td>0.0</td>\n",
       "      <td>0.0</td>\n",
       "      <td>0.0</td>\n",
       "      <td>0.0</td>\n",
       "      <td>0.0</td>\n",
       "      <td>0.00000</td>\n",
       "      <td>...</td>\n",
       "      <td>0.0</td>\n",
       "      <td>0.0</td>\n",
       "      <td>0.00000</td>\n",
       "      <td>0.0</td>\n",
       "      <td>0.0</td>\n",
       "      <td>0.0</td>\n",
       "      <td>0.00000</td>\n",
       "      <td>0.0</td>\n",
       "      <td>0.0</td>\n",
       "      <td>0.0</td>\n",
       "    </tr>\n",
       "    <tr>\n",
       "      <th>3</th>\n",
       "      <td>3</td>\n",
       "      <td>ENST00000610860.1</td>\n",
       "      <td>0.0</td>\n",
       "      <td>0.0</td>\n",
       "      <td>0.0</td>\n",
       "      <td>0.0</td>\n",
       "      <td>0.0</td>\n",
       "      <td>0.0</td>\n",
       "      <td>0.0</td>\n",
       "      <td>0.00000</td>\n",
       "      <td>...</td>\n",
       "      <td>0.0</td>\n",
       "      <td>0.0</td>\n",
       "      <td>0.00000</td>\n",
       "      <td>0.0</td>\n",
       "      <td>0.0</td>\n",
       "      <td>0.0</td>\n",
       "      <td>0.00000</td>\n",
       "      <td>0.0</td>\n",
       "      <td>0.0</td>\n",
       "      <td>0.0</td>\n",
       "    </tr>\n",
       "    <tr>\n",
       "      <th>4</th>\n",
       "      <td>4</td>\n",
       "      <td>ENST00000622103.1</td>\n",
       "      <td>0.0</td>\n",
       "      <td>0.0</td>\n",
       "      <td>0.0</td>\n",
       "      <td>0.0</td>\n",
       "      <td>0.0</td>\n",
       "      <td>0.0</td>\n",
       "      <td>0.0</td>\n",
       "      <td>0.00000</td>\n",
       "      <td>...</td>\n",
       "      <td>0.0</td>\n",
       "      <td>0.0</td>\n",
       "      <td>0.00000</td>\n",
       "      <td>0.0</td>\n",
       "      <td>0.0</td>\n",
       "      <td>0.0</td>\n",
       "      <td>0.00000</td>\n",
       "      <td>0.0</td>\n",
       "      <td>0.0</td>\n",
       "      <td>0.0</td>\n",
       "    </tr>\n",
       "    <tr>\n",
       "      <th>...</th>\n",
       "      <td>...</td>\n",
       "      <td>...</td>\n",
       "      <td>...</td>\n",
       "      <td>...</td>\n",
       "      <td>...</td>\n",
       "      <td>...</td>\n",
       "      <td>...</td>\n",
       "      <td>...</td>\n",
       "      <td>...</td>\n",
       "      <td>...</td>\n",
       "      <td>...</td>\n",
       "      <td>...</td>\n",
       "      <td>...</td>\n",
       "      <td>...</td>\n",
       "      <td>...</td>\n",
       "      <td>...</td>\n",
       "      <td>...</td>\n",
       "      <td>...</td>\n",
       "      <td>...</td>\n",
       "      <td>...</td>\n",
       "      <td>...</td>\n",
       "    </tr>\n",
       "    <tr>\n",
       "      <th>58308</th>\n",
       "      <td>58308</td>\n",
       "      <td>ENST00000363781.1</td>\n",
       "      <td>0.0</td>\n",
       "      <td>0.0</td>\n",
       "      <td>0.0</td>\n",
       "      <td>0.0</td>\n",
       "      <td>0.0</td>\n",
       "      <td>0.0</td>\n",
       "      <td>0.0</td>\n",
       "      <td>0.00000</td>\n",
       "      <td>...</td>\n",
       "      <td>0.0</td>\n",
       "      <td>0.0</td>\n",
       "      <td>0.00000</td>\n",
       "      <td>0.0</td>\n",
       "      <td>0.0</td>\n",
       "      <td>0.0</td>\n",
       "      <td>0.00000</td>\n",
       "      <td>0.0</td>\n",
       "      <td>0.0</td>\n",
       "      <td>0.0</td>\n",
       "    </tr>\n",
       "    <tr>\n",
       "      <th>58309</th>\n",
       "      <td>58309</td>\n",
       "      <td>ENST00000484759.3</td>\n",
       "      <td>0.0</td>\n",
       "      <td>0.0</td>\n",
       "      <td>0.0</td>\n",
       "      <td>0.0</td>\n",
       "      <td>0.0</td>\n",
       "      <td>0.0</td>\n",
       "      <td>0.0</td>\n",
       "      <td>0.00000</td>\n",
       "      <td>...</td>\n",
       "      <td>0.0</td>\n",
       "      <td>0.0</td>\n",
       "      <td>0.00000</td>\n",
       "      <td>0.0</td>\n",
       "      <td>0.0</td>\n",
       "      <td>0.0</td>\n",
       "      <td>0.00000</td>\n",
       "      <td>0.0</td>\n",
       "      <td>0.0</td>\n",
       "      <td>0.0</td>\n",
       "    </tr>\n",
       "    <tr>\n",
       "      <th>58310</th>\n",
       "      <td>58310</td>\n",
       "      <td>ENST00000492744.3</td>\n",
       "      <td>0.0</td>\n",
       "      <td>0.0</td>\n",
       "      <td>0.0</td>\n",
       "      <td>0.0</td>\n",
       "      <td>0.0</td>\n",
       "      <td>0.0</td>\n",
       "      <td>0.0</td>\n",
       "      <td>1.01324</td>\n",
       "      <td>...</td>\n",
       "      <td>0.0</td>\n",
       "      <td>0.0</td>\n",
       "      <td>2.09568</td>\n",
       "      <td>0.0</td>\n",
       "      <td>0.0</td>\n",
       "      <td>0.0</td>\n",
       "      <td>2.08821</td>\n",
       "      <td>0.0</td>\n",
       "      <td>0.0</td>\n",
       "      <td>0.0</td>\n",
       "    </tr>\n",
       "    <tr>\n",
       "      <th>58311</th>\n",
       "      <td>58311</td>\n",
       "      <td>ENST00000384294.1</td>\n",
       "      <td>0.0</td>\n",
       "      <td>0.0</td>\n",
       "      <td>0.0</td>\n",
       "      <td>0.0</td>\n",
       "      <td>0.0</td>\n",
       "      <td>0.0</td>\n",
       "      <td>0.0</td>\n",
       "      <td>0.00000</td>\n",
       "      <td>...</td>\n",
       "      <td>0.0</td>\n",
       "      <td>0.0</td>\n",
       "      <td>0.00000</td>\n",
       "      <td>0.0</td>\n",
       "      <td>0.0</td>\n",
       "      <td>0.0</td>\n",
       "      <td>0.00000</td>\n",
       "      <td>0.0</td>\n",
       "      <td>0.0</td>\n",
       "      <td>0.0</td>\n",
       "    </tr>\n",
       "    <tr>\n",
       "      <th>58312</th>\n",
       "      <td>58312</td>\n",
       "      <td>ENST00000364369.1</td>\n",
       "      <td>0.0</td>\n",
       "      <td>0.0</td>\n",
       "      <td>0.0</td>\n",
       "      <td>0.0</td>\n",
       "      <td>0.0</td>\n",
       "      <td>0.0</td>\n",
       "      <td>0.0</td>\n",
       "      <td>0.00000</td>\n",
       "      <td>...</td>\n",
       "      <td>0.0</td>\n",
       "      <td>0.0</td>\n",
       "      <td>0.00000</td>\n",
       "      <td>0.0</td>\n",
       "      <td>0.0</td>\n",
       "      <td>0.0</td>\n",
       "      <td>0.00000</td>\n",
       "      <td>0.0</td>\n",
       "      <td>0.0</td>\n",
       "      <td>0.0</td>\n",
       "    </tr>\n",
       "  </tbody>\n",
       "</table>\n",
       "<p>58313 rows × 68 columns</p>\n",
       "</div>"
      ],
      "text/plain": [
       "       Unnamed: 0          target_id  SRR837437  SRR837438  SRR837439  \\\n",
       "0               0  ENST00000618624.1        0.0        0.0        0.0   \n",
       "1               1  ENST00000614042.1        0.0        0.0        0.0   \n",
       "2               2  ENST00000620756.1        0.0        0.0        0.0   \n",
       "3               3  ENST00000610860.1        0.0        0.0        0.0   \n",
       "4               4  ENST00000622103.1        0.0        0.0        0.0   \n",
       "...           ...                ...        ...        ...        ...   \n",
       "58308       58308  ENST00000363781.1        0.0        0.0        0.0   \n",
       "58309       58309  ENST00000484759.3        0.0        0.0        0.0   \n",
       "58310       58310  ENST00000492744.3        0.0        0.0        0.0   \n",
       "58311       58311  ENST00000384294.1        0.0        0.0        0.0   \n",
       "58312       58312  ENST00000364369.1        0.0        0.0        0.0   \n",
       "\n",
       "       SRR837440  SRR837441  SRR837442  SRR837443  SRR837444  ...  SRR837497  \\\n",
       "0            0.0        0.0        0.0        0.0    0.00000  ...        0.0   \n",
       "1            0.0        0.0        0.0        0.0    0.00000  ...        0.0   \n",
       "2            0.0        0.0        0.0        0.0    0.00000  ...        0.0   \n",
       "3            0.0        0.0        0.0        0.0    0.00000  ...        0.0   \n",
       "4            0.0        0.0        0.0        0.0    0.00000  ...        0.0   \n",
       "...          ...        ...        ...        ...        ...  ...        ...   \n",
       "58308        0.0        0.0        0.0        0.0    0.00000  ...        0.0   \n",
       "58309        0.0        0.0        0.0        0.0    0.00000  ...        0.0   \n",
       "58310        0.0        0.0        0.0        0.0    1.01324  ...        0.0   \n",
       "58311        0.0        0.0        0.0        0.0    0.00000  ...        0.0   \n",
       "58312        0.0        0.0        0.0        0.0    0.00000  ...        0.0   \n",
       "\n",
       "       SRR837498  SRR837499  SRR837500  SRR837501  SRR837502  SRR837503  \\\n",
       "0            0.0    0.00000        0.0        0.0        0.0    0.00000   \n",
       "1            0.0    0.00000        0.0        0.0        0.0    0.00000   \n",
       "2            0.0    0.00000        0.0        0.0        0.0    0.00000   \n",
       "3            0.0    0.00000        0.0        0.0        0.0    0.00000   \n",
       "4            0.0    0.00000        0.0        0.0        0.0    0.00000   \n",
       "...          ...        ...        ...        ...        ...        ...   \n",
       "58308        0.0    0.00000        0.0        0.0        0.0    0.00000   \n",
       "58309        0.0    0.00000        0.0        0.0        0.0    0.00000   \n",
       "58310        0.0    2.09568        0.0        0.0        0.0    2.08821   \n",
       "58311        0.0    0.00000        0.0        0.0        0.0    0.00000   \n",
       "58312        0.0    0.00000        0.0        0.0        0.0    0.00000   \n",
       "\n",
       "       SRR837504  SRR837505  SRR837506  \n",
       "0            0.0        0.0        0.0  \n",
       "1            0.0        0.0        0.0  \n",
       "2            0.0        0.0        0.0  \n",
       "3            0.0        0.0        0.0  \n",
       "4            0.0        0.0        0.0  \n",
       "...          ...        ...        ...  \n",
       "58308        0.0        0.0        0.0  \n",
       "58309        0.0        0.0        0.0  \n",
       "58310        0.0        0.0        0.0  \n",
       "58311        0.0        0.0        0.0  \n",
       "58312        0.0        0.0        0.0  \n",
       "\n",
       "[58313 rows x 68 columns]"
      ]
     },
     "execution_count": 45,
     "metadata": {},
     "output_type": "execute_result"
    }
   ],
   "source": [
    "pd.read_csv('kallisto_counts.csv')"
   ]
  },
  {
   "cell_type": "code",
   "execution_count": null,
   "metadata": {},
   "outputs": [],
   "source": []
  },
  {
   "cell_type": "code",
   "execution_count": null,
   "metadata": {},
   "outputs": [],
   "source": []
  },
  {
   "cell_type": "markdown",
   "metadata": {},
   "source": [
    "# IN ETL FILE:"
   ]
  },
  {
   "cell_type": "code",
   "execution_count": 2,
   "metadata": {},
   "outputs": [],
   "source": [
    "def get_file_names():\n",
    "    raw_files = []\n",
    "    os.chdir(\"/teams/DSC180A_FA20_A00/b04genetics/group_1/raw_data\")\n",
    "    raw_files = os.listdir()\n",
    "    os.chdir(\"/datasets/home/40/840/r1cummin/alzheimers_gene_analysis\")\n",
    "    return raw_files"
   ]
  },
  {
   "cell_type": "markdown",
   "metadata": {},
   "source": [
    "# IN PIPELINE FILE:"
   ]
  },
  {
   "cell_type": "code",
   "execution_count": 1,
   "metadata": {},
   "outputs": [],
   "source": [
    "import os\n",
    "import pandas as pd\n",
    "\n",
    "#fastqc\n",
    "def fastqc(raw_files):\n",
    "    pass_data = [] #creating array that will hold name of passing data\n",
    "    fail_data = [] #creating array that will hold name of not passing data\n",
    "    for i in raw_files:\n",
    "#         os.chdir('..')\n",
    "#         os.chdir(\"alzheimers_gene_analysis/\")\n",
    "        #os.chdir('/datasets/home/40/840/r1cummin/alzheimers_gene_analysis')\n",
    "        print(\"making dir\")\n",
    "        os.system('mkdir fastq_out')\n",
    "        print(\"running fastqc...\")\n",
    "        os.system('/opt/FastQC/fastqc /teams/DSC180A_FA20_A00/b04genetics/group_1/raw_data/'+i+' --extract --outdir=fastq_out/')\n",
    "        print(\"Fastqc finished\")\n",
    "      \n",
    "        print(\"Opening file\")\n",
    "        with open('fastq_out/'+i[0:-3].replace('.','_')+'c/fastqc_data.txt') as f:\n",
    "            first_line = f.readlines()[1]\n",
    "        print(\"Seeing if pass in file... then adding to array\")\n",
    "        if 'pass' in first_line:\n",
    "            pass_data.append(i)\n",
    "        else:\n",
    "            fail_data.append(i)\n",
    "        print(\"Now deleting dir in order so that we can do the next iteration:\")\n",
    "        os.system('rm -rf fastq_out')\n",
    "    return pass_data, fail_data\n",
    "\n",
    "#cutadapt\n",
    "def cutadapt(pass_data):\n",
    "    cut_fastq_files = []\n",
    "    print(\"making temp dir\")\n",
    "    os.system('mkdir cutadapt_tmp')\n",
    "    for i in (pass_data):\n",
    "        print(i)\n",
    "        print(\"Starting cutadapt:\")\n",
    "        os.system('cutadapt -a AGATCGGAAGAGC -o cutadapt_tmp/'+i+' /teams/DSC180A_FA20_A00/b04genetics/group_1/raw_data/'+i+' --cores=32')\n",
    "        cut_fastq_files.append(i)\n",
    "        print(\"cutadapt finished on this file, starting on next file:\")\n",
    "    print(\"cutadapt finished in its entirety\")\n",
    "    os.system(\"mkdir out\")\n",
    "    os.system(\"mv out data\")\n",
    "    os.system(\"mv cutadapt_tmp data/out\")\n",
    "    return cut_fastq_files\n",
    "\n",
    "#second_fastqc\n",
    "def second_fastqc():\n",
    "    # reRunning the cutadapt files through fastqc\n",
    "\n",
    "    pass_cut_data = [] #creating array that will hold name of passing data\n",
    "    fail_cut_data = [] #creating array that will hold name of not passing data\n",
    "\n",
    "    print('Getting name of cutadapt files')\n",
    "    os.chdir('data/out/cutadapt_tmp')\n",
    "    cut_fastq_files = os.listdir() #all the trimmed fastq files\n",
    "    os.chdir(\"..\")\n",
    "    os.chdir(\"..\")\n",
    "    os.chdir(\"..\")\n",
    "    cut_fastq_files = [i for i in cut_fastq_files if '.fastq' in i]\n",
    "    cut_fastq_files.sort()\n",
    "\n",
    "    os.system('mkdir cut_fastq_out')\n",
    "#     counter = 1\n",
    "    for i in cut_fastq_files:\n",
    "#         print(i)\n",
    "#         print(counter)\n",
    "#         counter += 1\n",
    "#         os.chdir('..')\n",
    "#         print(\"making dir...\")\n",
    "#         os.system('mkdir cut_fastq_out')\n",
    "        print(\"running fastqc...\")\n",
    "        try:\n",
    "            os.system('/opt/FastQC/fastqc cutadapt_tmp/'+i+' --extract --outdir=cut_fastq_out/')\n",
    "        except:\n",
    "            print(\"The file \"+i+\" encountered an error (Most likely too truncated)\\nMoving to next file\")\n",
    "            fail_cut_data.append(i)\n",
    "            continue\n",
    "            \n",
    "        print(\"Fastqc finished\")\n",
    "        \n",
    "        print(\"Opening file\")\n",
    "#         print(' the file path before opeining: cut_fastq_out/'+i[0:-3][::-1].replace('.','_',1)[::-1]+'c/fastqc_data.txt')\n",
    "        try:\n",
    "            print(' the file path before opeining: cut_fastq_out/'+i[0:-3][::-1].replace('.','_',1)[::-1]+'c/fastqc_data.txt')\n",
    "            with open('cut_fastq_out/'+i[0:-3][::-1].replace('.','_',1)[::-1]+'c/fastqc_data.txt') as f:\n",
    "                cut_first_line = f.readlines()[1]\n",
    "            print(\"Seeing if pass in file... then adding to array\")\n",
    "            if 'pass' in cut_first_line:\n",
    "                pass_cut_data.append(i)\n",
    "            else:\n",
    "                fail_cut_data.append(i)\n",
    "        except:\n",
    "            print(\"The file \"+i+\" encountered an error (Most likely too truncated)\\nMoving to next file\")\n",
    "            fail_cut_data.append(i)\n",
    "            continue\n",
    "        #print(\"Now deleting dir in order so that we can do the next iteration:\")\n",
    "        os.system('rm -rf cut_fastq_out')\n",
    "    # NEED TO MOVE THE DATA TO DATA/OUT FOR FINAL SUBMISSION FORMAT\n",
    "    return pass_cut_data, fail_cut_data\n",
    "\n",
    "\n",
    "#kallisto\n",
    "def kallisto(pass_cut_data):\n",
    "    \n",
    "    print(\"Making dir for Kallisto Output:\")\n",
    "    os.system(\"mkdir kallisto_tmp\")\n",
    "    for i in pass_cut_data:\n",
    "        print(\"Running Kallisto:\")\n",
    "        #print(i)\n",
    "        command = f\"/opt/kallisto_linux-v0.42.4/kallisto quant -i data/reference.idx -o kallisto_tmp/kallisto_output_\"+i[0:9]+\" --single -l 50 -s 10 -b 8 -t 8 cutadapt_tmp/\"+i\n",
    "        os.system(command)\n",
    "    print(\"Kallisto successfully ran\")\n",
    "    print(\"Still need to combine all the CSVs though!\")\n",
    "    print(\"Moving the Kallisto_tmp data to data/out/\")\n",
    "    os.system(\"mkdir out\")\n",
    "    os.system(\"mv out data\")\n",
    "    os.system(\"mv kallisto_tmp data/out\")\n",
    "    \n",
    "    #combining the counts:\n",
    "    df = pd.DataFrame()\n",
    "    os.chdir(\"data/out/kallisto_tmp\")\n",
    "    kallisto_count_files = os.listdir()\n",
    "    kallisto_count_files = [i for i in kallisto_count_files if 'kallisto_output_' in i]\n",
    "    kallisto_count_files.sort()\n",
    "    for i in kallisto_count_files:\n",
    "\n",
    "        print(\"Kallisto ran now adding to the dataframe, with only the counts (Also renaming the column name)\")\n",
    "        #print(i)\n",
    "        tmp_df = pd.read_csv(i+\"/abundance.tsv\",sep=\"\\t\")[['target_id','est_counts']]\n",
    "        tmp_df[i[-9:]] = tmp_df['est_counts']\n",
    "        tmp_df = tmp_df.drop(['est_counts'],axis=1)\n",
    "        if 'target_id' in df.columns:\n",
    "            df = pd.concat([df,tmp_df[i[-9:]]],axis=1)\n",
    "        else:\n",
    "            df = pd.concat([df,tmp_df],axis=1)\n",
    "\n",
    "        print(\"Added to the dataframe\")\n",
    "        print(\"Continuing to next iteration:\\n\")\n",
    "    df.to_csv('kallisto_counts.csv')\n",
    "    os.system(\"mv kallisto_counts.csv data/out\")\n",
    "    return"
   ]
  },
  {
   "cell_type": "markdown",
   "metadata": {},
   "source": [
    "# EDA "
   ]
  },
  {
   "cell_type": "code",
   "execution_count": 1,
   "metadata": {},
   "outputs": [],
   "source": [
    "import pandas as pd\n",
    "import seaborn as sns\n",
    "import matplotlib.pyplot as plt\n",
    "import numpy as np"
   ]
  },
  {
   "cell_type": "code",
   "execution_count": 2,
   "metadata": {},
   "outputs": [],
   "source": [
    "patients = pd.read_csv(\"../references/SraRunTable.txt\")"
   ]
  },
  {
   "cell_type": "code",
   "execution_count": 3,
   "metadata": {
    "scrolled": false
   },
   "outputs": [
    {
     "data": {
      "text/html": [
       "<div>\n",
       "<style scoped>\n",
       "    .dataframe tbody tr th:only-of-type {\n",
       "        vertical-align: middle;\n",
       "    }\n",
       "\n",
       "    .dataframe tbody tr th {\n",
       "        vertical-align: top;\n",
       "    }\n",
       "\n",
       "    .dataframe thead th {\n",
       "        text-align: right;\n",
       "    }\n",
       "</style>\n",
       "<table border=\"1\" class=\"dataframe\">\n",
       "  <thead>\n",
       "    <tr style=\"text-align: right;\">\n",
       "      <th></th>\n",
       "      <th>Run</th>\n",
       "      <th>Age</th>\n",
       "      <th>Assay Type</th>\n",
       "      <th>AvgSpotLen</th>\n",
       "      <th>Bases</th>\n",
       "      <th>BioProject</th>\n",
       "      <th>BioSample</th>\n",
       "      <th>Bytes</th>\n",
       "      <th>Center Name</th>\n",
       "      <th>Consent</th>\n",
       "      <th>...</th>\n",
       "      <th>Instrument</th>\n",
       "      <th>LibraryLayout</th>\n",
       "      <th>LibrarySelection</th>\n",
       "      <th>LibrarySource</th>\n",
       "      <th>Organism</th>\n",
       "      <th>Platform</th>\n",
       "      <th>ReleaseDate</th>\n",
       "      <th>Sample Name</th>\n",
       "      <th>source_name</th>\n",
       "      <th>SRA Study</th>\n",
       "    </tr>\n",
       "  </thead>\n",
       "  <tbody>\n",
       "    <tr>\n",
       "      <th>0</th>\n",
       "      <td>SRR837437</td>\n",
       "      <td>77</td>\n",
       "      <td>RNA-Seq</td>\n",
       "      <td>50</td>\n",
       "      <td>891533900</td>\n",
       "      <td>PRJNA201039</td>\n",
       "      <td>SAMN02116274</td>\n",
       "      <td>521467001</td>\n",
       "      <td>GEO</td>\n",
       "      <td>public</td>\n",
       "      <td>...</td>\n",
       "      <td>Illumina HiSeq 2000</td>\n",
       "      <td>SINGLE</td>\n",
       "      <td>size fractionation</td>\n",
       "      <td>TRANSCRIPTOMIC</td>\n",
       "      <td>Homo sapiens</td>\n",
       "      <td>ILLUMINA</td>\n",
       "      <td>2013-06-17T00:00:00Z</td>\n",
       "      <td>GSM1132688</td>\n",
       "      <td>whole blood</td>\n",
       "      <td>SRP022043</td>\n",
       "    </tr>\n",
       "    <tr>\n",
       "      <th>1</th>\n",
       "      <td>SRR837438</td>\n",
       "      <td>74</td>\n",
       "      <td>RNA-Seq</td>\n",
       "      <td>50</td>\n",
       "      <td>869717450</td>\n",
       "      <td>PRJNA201039</td>\n",
       "      <td>SAMN02116276</td>\n",
       "      <td>495593756</td>\n",
       "      <td>GEO</td>\n",
       "      <td>public</td>\n",
       "      <td>...</td>\n",
       "      <td>Illumina HiSeq 2000</td>\n",
       "      <td>SINGLE</td>\n",
       "      <td>size fractionation</td>\n",
       "      <td>TRANSCRIPTOMIC</td>\n",
       "      <td>Homo sapiens</td>\n",
       "      <td>ILLUMINA</td>\n",
       "      <td>2013-06-17T00:00:00Z</td>\n",
       "      <td>GSM1132689</td>\n",
       "      <td>whole blood</td>\n",
       "      <td>SRP022043</td>\n",
       "    </tr>\n",
       "    <tr>\n",
       "      <th>2</th>\n",
       "      <td>SRR837439</td>\n",
       "      <td>68</td>\n",
       "      <td>RNA-Seq</td>\n",
       "      <td>50</td>\n",
       "      <td>758073050</td>\n",
       "      <td>PRJNA201039</td>\n",
       "      <td>SAMN02116280</td>\n",
       "      <td>441476174</td>\n",
       "      <td>GEO</td>\n",
       "      <td>public</td>\n",
       "      <td>...</td>\n",
       "      <td>Illumina HiSeq 2000</td>\n",
       "      <td>SINGLE</td>\n",
       "      <td>size fractionation</td>\n",
       "      <td>TRANSCRIPTOMIC</td>\n",
       "      <td>Homo sapiens</td>\n",
       "      <td>ILLUMINA</td>\n",
       "      <td>2013-06-17T00:00:00Z</td>\n",
       "      <td>GSM1132690</td>\n",
       "      <td>whole blood</td>\n",
       "      <td>SRP022043</td>\n",
       "    </tr>\n",
       "    <tr>\n",
       "      <th>3</th>\n",
       "      <td>SRR837440</td>\n",
       "      <td>75</td>\n",
       "      <td>RNA-Seq</td>\n",
       "      <td>50</td>\n",
       "      <td>835484250</td>\n",
       "      <td>PRJNA201039</td>\n",
       "      <td>SAMN02116278</td>\n",
       "      <td>484958529</td>\n",
       "      <td>GEO</td>\n",
       "      <td>public</td>\n",
       "      <td>...</td>\n",
       "      <td>Illumina HiSeq 2000</td>\n",
       "      <td>SINGLE</td>\n",
       "      <td>size fractionation</td>\n",
       "      <td>TRANSCRIPTOMIC</td>\n",
       "      <td>Homo sapiens</td>\n",
       "      <td>ILLUMINA</td>\n",
       "      <td>2013-06-17T00:00:00Z</td>\n",
       "      <td>GSM1132691</td>\n",
       "      <td>whole blood</td>\n",
       "      <td>SRP022043</td>\n",
       "    </tr>\n",
       "    <tr>\n",
       "      <th>4</th>\n",
       "      <td>SRR837441</td>\n",
       "      <td>74</td>\n",
       "      <td>RNA-Seq</td>\n",
       "      <td>50</td>\n",
       "      <td>853289150</td>\n",
       "      <td>PRJNA201039</td>\n",
       "      <td>SAMN02116279</td>\n",
       "      <td>506219095</td>\n",
       "      <td>GEO</td>\n",
       "      <td>public</td>\n",
       "      <td>...</td>\n",
       "      <td>Illumina HiSeq 2000</td>\n",
       "      <td>SINGLE</td>\n",
       "      <td>size fractionation</td>\n",
       "      <td>TRANSCRIPTOMIC</td>\n",
       "      <td>Homo sapiens</td>\n",
       "      <td>ILLUMINA</td>\n",
       "      <td>2013-06-17T00:00:00Z</td>\n",
       "      <td>GSM1132692</td>\n",
       "      <td>whole blood</td>\n",
       "      <td>SRP022043</td>\n",
       "    </tr>\n",
       "    <tr>\n",
       "      <th>5</th>\n",
       "      <td>SRR837442</td>\n",
       "      <td>76</td>\n",
       "      <td>RNA-Seq</td>\n",
       "      <td>50</td>\n",
       "      <td>808726750</td>\n",
       "      <td>PRJNA201039</td>\n",
       "      <td>SAMN02116277</td>\n",
       "      <td>471300396</td>\n",
       "      <td>GEO</td>\n",
       "      <td>public</td>\n",
       "      <td>...</td>\n",
       "      <td>Illumina HiSeq 2000</td>\n",
       "      <td>SINGLE</td>\n",
       "      <td>size fractionation</td>\n",
       "      <td>TRANSCRIPTOMIC</td>\n",
       "      <td>Homo sapiens</td>\n",
       "      <td>ILLUMINA</td>\n",
       "      <td>2013-06-17T00:00:00Z</td>\n",
       "      <td>GSM1132693</td>\n",
       "      <td>whole blood</td>\n",
       "      <td>SRP022043</td>\n",
       "    </tr>\n",
       "    <tr>\n",
       "      <th>6</th>\n",
       "      <td>SRR837443</td>\n",
       "      <td>79</td>\n",
       "      <td>RNA-Seq</td>\n",
       "      <td>50</td>\n",
       "      <td>1046527600</td>\n",
       "      <td>PRJNA201039</td>\n",
       "      <td>SAMN02116281</td>\n",
       "      <td>594268839</td>\n",
       "      <td>GEO</td>\n",
       "      <td>public</td>\n",
       "      <td>...</td>\n",
       "      <td>Illumina HiSeq 2000</td>\n",
       "      <td>SINGLE</td>\n",
       "      <td>size fractionation</td>\n",
       "      <td>TRANSCRIPTOMIC</td>\n",
       "      <td>Homo sapiens</td>\n",
       "      <td>ILLUMINA</td>\n",
       "      <td>2013-06-17T00:00:00Z</td>\n",
       "      <td>GSM1132694</td>\n",
       "      <td>whole blood</td>\n",
       "      <td>SRP022043</td>\n",
       "    </tr>\n",
       "    <tr>\n",
       "      <th>7</th>\n",
       "      <td>SRR837444</td>\n",
       "      <td>75</td>\n",
       "      <td>RNA-Seq</td>\n",
       "      <td>50</td>\n",
       "      <td>664306350</td>\n",
       "      <td>PRJNA201039</td>\n",
       "      <td>SAMN02116282</td>\n",
       "      <td>387247692</td>\n",
       "      <td>GEO</td>\n",
       "      <td>public</td>\n",
       "      <td>...</td>\n",
       "      <td>Illumina HiSeq 2000</td>\n",
       "      <td>SINGLE</td>\n",
       "      <td>size fractionation</td>\n",
       "      <td>TRANSCRIPTOMIC</td>\n",
       "      <td>Homo sapiens</td>\n",
       "      <td>ILLUMINA</td>\n",
       "      <td>2013-06-17T00:00:00Z</td>\n",
       "      <td>GSM1132695</td>\n",
       "      <td>whole blood</td>\n",
       "      <td>SRP022043</td>\n",
       "    </tr>\n",
       "    <tr>\n",
       "      <th>8</th>\n",
       "      <td>SRR837445</td>\n",
       "      <td>77</td>\n",
       "      <td>RNA-Seq</td>\n",
       "      <td>50</td>\n",
       "      <td>885352750</td>\n",
       "      <td>PRJNA201039</td>\n",
       "      <td>SAMN02116283</td>\n",
       "      <td>514100236</td>\n",
       "      <td>GEO</td>\n",
       "      <td>public</td>\n",
       "      <td>...</td>\n",
       "      <td>Illumina HiSeq 2000</td>\n",
       "      <td>SINGLE</td>\n",
       "      <td>size fractionation</td>\n",
       "      <td>TRANSCRIPTOMIC</td>\n",
       "      <td>Homo sapiens</td>\n",
       "      <td>ILLUMINA</td>\n",
       "      <td>2013-06-17T00:00:00Z</td>\n",
       "      <td>GSM1132696</td>\n",
       "      <td>whole blood</td>\n",
       "      <td>SRP022043</td>\n",
       "    </tr>\n",
       "    <tr>\n",
       "      <th>9</th>\n",
       "      <td>SRR837446</td>\n",
       "      <td>72</td>\n",
       "      <td>RNA-Seq</td>\n",
       "      <td>50</td>\n",
       "      <td>669992300</td>\n",
       "      <td>PRJNA201039</td>\n",
       "      <td>SAMN02116284</td>\n",
       "      <td>373134438</td>\n",
       "      <td>GEO</td>\n",
       "      <td>public</td>\n",
       "      <td>...</td>\n",
       "      <td>Illumina HiSeq 2000</td>\n",
       "      <td>SINGLE</td>\n",
       "      <td>size fractionation</td>\n",
       "      <td>TRANSCRIPTOMIC</td>\n",
       "      <td>Homo sapiens</td>\n",
       "      <td>ILLUMINA</td>\n",
       "      <td>2013-06-17T00:00:00Z</td>\n",
       "      <td>GSM1132697</td>\n",
       "      <td>whole blood</td>\n",
       "      <td>SRP022043</td>\n",
       "    </tr>\n",
       "  </tbody>\n",
       "</table>\n",
       "<p>10 rows × 27 columns</p>\n",
       "</div>"
      ],
      "text/plain": [
       "         Run  Age Assay Type  AvgSpotLen       Bases   BioProject  \\\n",
       "0  SRR837437   77    RNA-Seq          50   891533900  PRJNA201039   \n",
       "1  SRR837438   74    RNA-Seq          50   869717450  PRJNA201039   \n",
       "2  SRR837439   68    RNA-Seq          50   758073050  PRJNA201039   \n",
       "3  SRR837440   75    RNA-Seq          50   835484250  PRJNA201039   \n",
       "4  SRR837441   74    RNA-Seq          50   853289150  PRJNA201039   \n",
       "5  SRR837442   76    RNA-Seq          50   808726750  PRJNA201039   \n",
       "6  SRR837443   79    RNA-Seq          50  1046527600  PRJNA201039   \n",
       "7  SRR837444   75    RNA-Seq          50   664306350  PRJNA201039   \n",
       "8  SRR837445   77    RNA-Seq          50   885352750  PRJNA201039   \n",
       "9  SRR837446   72    RNA-Seq          50   669992300  PRJNA201039   \n",
       "\n",
       "      BioSample      Bytes Center Name Consent  ...           Instrument  \\\n",
       "0  SAMN02116274  521467001         GEO  public  ...  Illumina HiSeq 2000   \n",
       "1  SAMN02116276  495593756         GEO  public  ...  Illumina HiSeq 2000   \n",
       "2  SAMN02116280  441476174         GEO  public  ...  Illumina HiSeq 2000   \n",
       "3  SAMN02116278  484958529         GEO  public  ...  Illumina HiSeq 2000   \n",
       "4  SAMN02116279  506219095         GEO  public  ...  Illumina HiSeq 2000   \n",
       "5  SAMN02116277  471300396         GEO  public  ...  Illumina HiSeq 2000   \n",
       "6  SAMN02116281  594268839         GEO  public  ...  Illumina HiSeq 2000   \n",
       "7  SAMN02116282  387247692         GEO  public  ...  Illumina HiSeq 2000   \n",
       "8  SAMN02116283  514100236         GEO  public  ...  Illumina HiSeq 2000   \n",
       "9  SAMN02116284  373134438         GEO  public  ...  Illumina HiSeq 2000   \n",
       "\n",
       "  LibraryLayout    LibrarySelection   LibrarySource      Organism  Platform  \\\n",
       "0        SINGLE  size fractionation  TRANSCRIPTOMIC  Homo sapiens  ILLUMINA   \n",
       "1        SINGLE  size fractionation  TRANSCRIPTOMIC  Homo sapiens  ILLUMINA   \n",
       "2        SINGLE  size fractionation  TRANSCRIPTOMIC  Homo sapiens  ILLUMINA   \n",
       "3        SINGLE  size fractionation  TRANSCRIPTOMIC  Homo sapiens  ILLUMINA   \n",
       "4        SINGLE  size fractionation  TRANSCRIPTOMIC  Homo sapiens  ILLUMINA   \n",
       "5        SINGLE  size fractionation  TRANSCRIPTOMIC  Homo sapiens  ILLUMINA   \n",
       "6        SINGLE  size fractionation  TRANSCRIPTOMIC  Homo sapiens  ILLUMINA   \n",
       "7        SINGLE  size fractionation  TRANSCRIPTOMIC  Homo sapiens  ILLUMINA   \n",
       "8        SINGLE  size fractionation  TRANSCRIPTOMIC  Homo sapiens  ILLUMINA   \n",
       "9        SINGLE  size fractionation  TRANSCRIPTOMIC  Homo sapiens  ILLUMINA   \n",
       "\n",
       "            ReleaseDate Sample Name  source_name  SRA Study  \n",
       "0  2013-06-17T00:00:00Z  GSM1132688  whole blood  SRP022043  \n",
       "1  2013-06-17T00:00:00Z  GSM1132689  whole blood  SRP022043  \n",
       "2  2013-06-17T00:00:00Z  GSM1132690  whole blood  SRP022043  \n",
       "3  2013-06-17T00:00:00Z  GSM1132691  whole blood  SRP022043  \n",
       "4  2013-06-17T00:00:00Z  GSM1132692  whole blood  SRP022043  \n",
       "5  2013-06-17T00:00:00Z  GSM1132693  whole blood  SRP022043  \n",
       "6  2013-06-17T00:00:00Z  GSM1132694  whole blood  SRP022043  \n",
       "7  2013-06-17T00:00:00Z  GSM1132695  whole blood  SRP022043  \n",
       "8  2013-06-17T00:00:00Z  GSM1132696  whole blood  SRP022043  \n",
       "9  2013-06-17T00:00:00Z  GSM1132697  whole blood  SRP022043  \n",
       "\n",
       "[10 rows x 27 columns]"
      ]
     },
     "execution_count": 3,
     "metadata": {},
     "output_type": "execute_result"
    }
   ],
   "source": [
    "patients.head(10)"
   ]
  },
  {
   "cell_type": "code",
   "execution_count": 4,
   "metadata": {},
   "outputs": [
    {
     "name": "stdout",
     "output_type": "stream",
     "text": [
      "<class 'pandas.core.frame.DataFrame'>\n",
      "RangeIndex: 70 entries, 0 to 69\n",
      "Data columns (total 27 columns):\n",
      "Run                    70 non-null object\n",
      "Age                    70 non-null int64\n",
      "Assay Type             70 non-null object\n",
      "AvgSpotLen             70 non-null int64\n",
      "Bases                  70 non-null int64\n",
      "BioProject             70 non-null object\n",
      "BioSample              70 non-null object\n",
      "Bytes                  70 non-null int64\n",
      "Center Name            70 non-null object\n",
      "Consent                70 non-null object\n",
      "DATASTORE filetype     70 non-null object\n",
      "DATASTORE provider     70 non-null object\n",
      "DATASTORE region       70 non-null object\n",
      "Experiment             70 non-null object\n",
      "gender                 70 non-null object\n",
      "GEO_Accession (exp)    70 non-null object\n",
      "GROUP                  70 non-null object\n",
      "Instrument             70 non-null object\n",
      "LibraryLayout          70 non-null object\n",
      "LibrarySelection       70 non-null object\n",
      "LibrarySource          70 non-null object\n",
      "Organism               70 non-null object\n",
      "Platform               70 non-null object\n",
      "ReleaseDate            70 non-null object\n",
      "Sample Name            70 non-null object\n",
      "source_name            70 non-null object\n",
      "SRA Study              70 non-null object\n",
      "dtypes: int64(4), object(23)\n",
      "memory usage: 14.8+ KB\n"
     ]
    }
   ],
   "source": [
    "patients.info()"
   ]
  },
  {
   "cell_type": "code",
   "execution_count": 5,
   "metadata": {},
   "outputs": [
    {
     "data": {
      "text/html": [
       "<div>\n",
       "<style scoped>\n",
       "    .dataframe tbody tr th:only-of-type {\n",
       "        vertical-align: middle;\n",
       "    }\n",
       "\n",
       "    .dataframe tbody tr th {\n",
       "        vertical-align: top;\n",
       "    }\n",
       "\n",
       "    .dataframe thead th {\n",
       "        text-align: right;\n",
       "    }\n",
       "</style>\n",
       "<table border=\"1\" class=\"dataframe\">\n",
       "  <thead>\n",
       "    <tr style=\"text-align: right;\">\n",
       "      <th></th>\n",
       "      <th>Run</th>\n",
       "      <th>Age</th>\n",
       "      <th>Bases</th>\n",
       "      <th>Bytes</th>\n",
       "      <th>Experiment</th>\n",
       "      <th>gender</th>\n",
       "      <th>GROUP</th>\n",
       "      <th>LibrarySelection</th>\n",
       "      <th>Sample Name</th>\n",
       "      <th>SRA Study</th>\n",
       "    </tr>\n",
       "  </thead>\n",
       "  <tbody>\n",
       "    <tr>\n",
       "      <th>0</th>\n",
       "      <td>SRR837437</td>\n",
       "      <td>77</td>\n",
       "      <td>891533900</td>\n",
       "      <td>521467001</td>\n",
       "      <td>SRX273417</td>\n",
       "      <td>female</td>\n",
       "      <td>alzheimer patient</td>\n",
       "      <td>size fractionation</td>\n",
       "      <td>GSM1132688</td>\n",
       "      <td>SRP022043</td>\n",
       "    </tr>\n",
       "    <tr>\n",
       "      <th>1</th>\n",
       "      <td>SRR837438</td>\n",
       "      <td>74</td>\n",
       "      <td>869717450</td>\n",
       "      <td>495593756</td>\n",
       "      <td>SRX273418</td>\n",
       "      <td>male</td>\n",
       "      <td>alzheimer patient</td>\n",
       "      <td>size fractionation</td>\n",
       "      <td>GSM1132689</td>\n",
       "      <td>SRP022043</td>\n",
       "    </tr>\n",
       "    <tr>\n",
       "      <th>2</th>\n",
       "      <td>SRR837439</td>\n",
       "      <td>68</td>\n",
       "      <td>758073050</td>\n",
       "      <td>441476174</td>\n",
       "      <td>SRX273419</td>\n",
       "      <td>male</td>\n",
       "      <td>alzheimer patient</td>\n",
       "      <td>size fractionation</td>\n",
       "      <td>GSM1132690</td>\n",
       "      <td>SRP022043</td>\n",
       "    </tr>\n",
       "    <tr>\n",
       "      <th>3</th>\n",
       "      <td>SRR837440</td>\n",
       "      <td>75</td>\n",
       "      <td>835484250</td>\n",
       "      <td>484958529</td>\n",
       "      <td>SRX273420</td>\n",
       "      <td>female</td>\n",
       "      <td>alzheimer patient</td>\n",
       "      <td>size fractionation</td>\n",
       "      <td>GSM1132691</td>\n",
       "      <td>SRP022043</td>\n",
       "    </tr>\n",
       "    <tr>\n",
       "      <th>4</th>\n",
       "      <td>SRR837441</td>\n",
       "      <td>74</td>\n",
       "      <td>853289150</td>\n",
       "      <td>506219095</td>\n",
       "      <td>SRX273421</td>\n",
       "      <td>male</td>\n",
       "      <td>alzheimer patient</td>\n",
       "      <td>size fractionation</td>\n",
       "      <td>GSM1132692</td>\n",
       "      <td>SRP022043</td>\n",
       "    </tr>\n",
       "    <tr>\n",
       "      <th>5</th>\n",
       "      <td>SRR837442</td>\n",
       "      <td>76</td>\n",
       "      <td>808726750</td>\n",
       "      <td>471300396</td>\n",
       "      <td>SRX273422</td>\n",
       "      <td>male</td>\n",
       "      <td>alzheimer patient</td>\n",
       "      <td>size fractionation</td>\n",
       "      <td>GSM1132693</td>\n",
       "      <td>SRP022043</td>\n",
       "    </tr>\n",
       "    <tr>\n",
       "      <th>6</th>\n",
       "      <td>SRR837443</td>\n",
       "      <td>79</td>\n",
       "      <td>1046527600</td>\n",
       "      <td>594268839</td>\n",
       "      <td>SRX273423</td>\n",
       "      <td>male</td>\n",
       "      <td>alzheimer patient</td>\n",
       "      <td>size fractionation</td>\n",
       "      <td>GSM1132694</td>\n",
       "      <td>SRP022043</td>\n",
       "    </tr>\n",
       "    <tr>\n",
       "      <th>7</th>\n",
       "      <td>SRR837444</td>\n",
       "      <td>75</td>\n",
       "      <td>664306350</td>\n",
       "      <td>387247692</td>\n",
       "      <td>SRX273424</td>\n",
       "      <td>female</td>\n",
       "      <td>alzheimer patient</td>\n",
       "      <td>size fractionation</td>\n",
       "      <td>GSM1132695</td>\n",
       "      <td>SRP022043</td>\n",
       "    </tr>\n",
       "    <tr>\n",
       "      <th>8</th>\n",
       "      <td>SRR837445</td>\n",
       "      <td>77</td>\n",
       "      <td>885352750</td>\n",
       "      <td>514100236</td>\n",
       "      <td>SRX273425</td>\n",
       "      <td>male</td>\n",
       "      <td>alzheimer patient</td>\n",
       "      <td>size fractionation</td>\n",
       "      <td>GSM1132696</td>\n",
       "      <td>SRP022043</td>\n",
       "    </tr>\n",
       "    <tr>\n",
       "      <th>9</th>\n",
       "      <td>SRR837446</td>\n",
       "      <td>72</td>\n",
       "      <td>669992300</td>\n",
       "      <td>373134438</td>\n",
       "      <td>SRX273426</td>\n",
       "      <td>female</td>\n",
       "      <td>alzheimer patient</td>\n",
       "      <td>size fractionation</td>\n",
       "      <td>GSM1132697</td>\n",
       "      <td>SRP022043</td>\n",
       "    </tr>\n",
       "    <tr>\n",
       "      <th>10</th>\n",
       "      <td>SRR837447</td>\n",
       "      <td>76</td>\n",
       "      <td>938615600</td>\n",
       "      <td>612341518</td>\n",
       "      <td>SRX273427</td>\n",
       "      <td>male</td>\n",
       "      <td>alzheimer patient</td>\n",
       "      <td>size fractionation</td>\n",
       "      <td>GSM1132698</td>\n",
       "      <td>SRP022043</td>\n",
       "    </tr>\n",
       "    <tr>\n",
       "      <th>11</th>\n",
       "      <td>SRR837448</td>\n",
       "      <td>61</td>\n",
       "      <td>944207350</td>\n",
       "      <td>623684476</td>\n",
       "      <td>SRX273428</td>\n",
       "      <td>male</td>\n",
       "      <td>alzheimer patient</td>\n",
       "      <td>size fractionation</td>\n",
       "      <td>GSM1132699</td>\n",
       "      <td>SRP022043</td>\n",
       "    </tr>\n",
       "    <tr>\n",
       "      <th>12</th>\n",
       "      <td>SRR837449</td>\n",
       "      <td>51</td>\n",
       "      <td>850640650</td>\n",
       "      <td>549831061</td>\n",
       "      <td>SRX273429</td>\n",
       "      <td>female</td>\n",
       "      <td>alzheimer patient</td>\n",
       "      <td>size fractionation</td>\n",
       "      <td>GSM1132700</td>\n",
       "      <td>SRP022043</td>\n",
       "    </tr>\n",
       "    <tr>\n",
       "      <th>13</th>\n",
       "      <td>SRR837450</td>\n",
       "      <td>55</td>\n",
       "      <td>1019061950</td>\n",
       "      <td>690875361</td>\n",
       "      <td>SRX273430</td>\n",
       "      <td>female</td>\n",
       "      <td>alzheimer patient</td>\n",
       "      <td>size fractionation</td>\n",
       "      <td>GSM1132701</td>\n",
       "      <td>SRP022043</td>\n",
       "    </tr>\n",
       "    <tr>\n",
       "      <th>14</th>\n",
       "      <td>SRR837451</td>\n",
       "      <td>70</td>\n",
       "      <td>1018485250</td>\n",
       "      <td>644272305</td>\n",
       "      <td>SRX273431</td>\n",
       "      <td>female</td>\n",
       "      <td>alzheimer patient</td>\n",
       "      <td>size fractionation</td>\n",
       "      <td>GSM1132702</td>\n",
       "      <td>SRP022043</td>\n",
       "    </tr>\n",
       "    <tr>\n",
       "      <th>15</th>\n",
       "      <td>SRR837452</td>\n",
       "      <td>78</td>\n",
       "      <td>1361606850</td>\n",
       "      <td>869020513</td>\n",
       "      <td>SRX273432</td>\n",
       "      <td>female</td>\n",
       "      <td>alzheimer patient</td>\n",
       "      <td>size fractionation</td>\n",
       "      <td>GSM1132703</td>\n",
       "      <td>SRP022043</td>\n",
       "    </tr>\n",
       "    <tr>\n",
       "      <th>16</th>\n",
       "      <td>SRR837453</td>\n",
       "      <td>81</td>\n",
       "      <td>840761200</td>\n",
       "      <td>562424859</td>\n",
       "      <td>SRX273433</td>\n",
       "      <td>male</td>\n",
       "      <td>alzheimer patient</td>\n",
       "      <td>size fractionation</td>\n",
       "      <td>GSM1132704</td>\n",
       "      <td>SRP022043</td>\n",
       "    </tr>\n",
       "    <tr>\n",
       "      <th>17</th>\n",
       "      <td>SRR837454</td>\n",
       "      <td>72</td>\n",
       "      <td>761399300</td>\n",
       "      <td>512197547</td>\n",
       "      <td>SRX273434</td>\n",
       "      <td>female</td>\n",
       "      <td>alzheimer patient</td>\n",
       "      <td>size fractionation</td>\n",
       "      <td>GSM1132705</td>\n",
       "      <td>SRP022043</td>\n",
       "    </tr>\n",
       "    <tr>\n",
       "      <th>18</th>\n",
       "      <td>SRR837455</td>\n",
       "      <td>57</td>\n",
       "      <td>606516300</td>\n",
       "      <td>380688363</td>\n",
       "      <td>SRX273435</td>\n",
       "      <td>male</td>\n",
       "      <td>alzheimer patient</td>\n",
       "      <td>size fractionation</td>\n",
       "      <td>GSM1132706</td>\n",
       "      <td>SRP022043</td>\n",
       "    </tr>\n",
       "    <tr>\n",
       "      <th>19</th>\n",
       "      <td>SRR837456</td>\n",
       "      <td>75</td>\n",
       "      <td>610770300</td>\n",
       "      <td>370626097</td>\n",
       "      <td>SRX273436</td>\n",
       "      <td>male</td>\n",
       "      <td>alzheimer patient</td>\n",
       "      <td>size fractionation</td>\n",
       "      <td>GSM1132707</td>\n",
       "      <td>SRP022043</td>\n",
       "    </tr>\n",
       "    <tr>\n",
       "      <th>20</th>\n",
       "      <td>SRR837457</td>\n",
       "      <td>70</td>\n",
       "      <td>1019789600</td>\n",
       "      <td>687075247</td>\n",
       "      <td>SRX273437</td>\n",
       "      <td>female</td>\n",
       "      <td>alzheimer patient</td>\n",
       "      <td>size fractionation</td>\n",
       "      <td>GSM1132708</td>\n",
       "      <td>SRP022043</td>\n",
       "    </tr>\n",
       "    <tr>\n",
       "      <th>21</th>\n",
       "      <td>SRR837458</td>\n",
       "      <td>75</td>\n",
       "      <td>494230650</td>\n",
       "      <td>304237856</td>\n",
       "      <td>SRX273438</td>\n",
       "      <td>female</td>\n",
       "      <td>alzheimer patient</td>\n",
       "      <td>size fractionation</td>\n",
       "      <td>GSM1132709</td>\n",
       "      <td>SRP022043</td>\n",
       "    </tr>\n",
       "    <tr>\n",
       "      <th>22</th>\n",
       "      <td>SRR837459</td>\n",
       "      <td>69</td>\n",
       "      <td>1313374050</td>\n",
       "      <td>882167129</td>\n",
       "      <td>SRX273439</td>\n",
       "      <td>female</td>\n",
       "      <td>alzheimer patient</td>\n",
       "      <td>size fractionation</td>\n",
       "      <td>GSM1132710</td>\n",
       "      <td>SRP022043</td>\n",
       "    </tr>\n",
       "    <tr>\n",
       "      <th>23</th>\n",
       "      <td>SRR837460</td>\n",
       "      <td>68</td>\n",
       "      <td>1044078450</td>\n",
       "      <td>603080449</td>\n",
       "      <td>SRX273440</td>\n",
       "      <td>female</td>\n",
       "      <td>alzheimer patient</td>\n",
       "      <td>size fractionation</td>\n",
       "      <td>GSM1132711</td>\n",
       "      <td>SRP022043</td>\n",
       "    </tr>\n",
       "    <tr>\n",
       "      <th>24</th>\n",
       "      <td>SRR837461</td>\n",
       "      <td>71</td>\n",
       "      <td>970295300</td>\n",
       "      <td>560365727</td>\n",
       "      <td>SRX273441</td>\n",
       "      <td>female</td>\n",
       "      <td>alzheimer patient</td>\n",
       "      <td>size fractionation</td>\n",
       "      <td>GSM1132712</td>\n",
       "      <td>SRP022043</td>\n",
       "    </tr>\n",
       "    <tr>\n",
       "      <th>25</th>\n",
       "      <td>SRR837462</td>\n",
       "      <td>74</td>\n",
       "      <td>847807300</td>\n",
       "      <td>500017384</td>\n",
       "      <td>SRX273442</td>\n",
       "      <td>male</td>\n",
       "      <td>alzheimer patient</td>\n",
       "      <td>size fractionation</td>\n",
       "      <td>GSM1132713</td>\n",
       "      <td>SRP022043</td>\n",
       "    </tr>\n",
       "    <tr>\n",
       "      <th>26</th>\n",
       "      <td>SRR837463</td>\n",
       "      <td>72</td>\n",
       "      <td>850967950</td>\n",
       "      <td>504711834</td>\n",
       "      <td>SRX273443</td>\n",
       "      <td>male</td>\n",
       "      <td>alzheimer patient</td>\n",
       "      <td>size fractionation</td>\n",
       "      <td>GSM1132714</td>\n",
       "      <td>SRP022043</td>\n",
       "    </tr>\n",
       "    <tr>\n",
       "      <th>27</th>\n",
       "      <td>SRR837464</td>\n",
       "      <td>69</td>\n",
       "      <td>473380750</td>\n",
       "      <td>279893630</td>\n",
       "      <td>SRX273444</td>\n",
       "      <td>female</td>\n",
       "      <td>alzheimer patient</td>\n",
       "      <td>size fractionation</td>\n",
       "      <td>GSM1132715</td>\n",
       "      <td>SRP022043</td>\n",
       "    </tr>\n",
       "    <tr>\n",
       "      <th>28</th>\n",
       "      <td>SRR837465</td>\n",
       "      <td>63</td>\n",
       "      <td>1026245400</td>\n",
       "      <td>614625286</td>\n",
       "      <td>SRX273445</td>\n",
       "      <td>female</td>\n",
       "      <td>alzheimer patient</td>\n",
       "      <td>size fractionation</td>\n",
       "      <td>GSM1132716</td>\n",
       "      <td>SRP022043</td>\n",
       "    </tr>\n",
       "    <tr>\n",
       "      <th>29</th>\n",
       "      <td>SRR837466</td>\n",
       "      <td>80</td>\n",
       "      <td>1033779050</td>\n",
       "      <td>640256058</td>\n",
       "      <td>SRX273446</td>\n",
       "      <td>male</td>\n",
       "      <td>alzheimer patient</td>\n",
       "      <td>size fractionation</td>\n",
       "      <td>GSM1132717</td>\n",
       "      <td>SRP022043</td>\n",
       "    </tr>\n",
       "    <tr>\n",
       "      <th>...</th>\n",
       "      <td>...</td>\n",
       "      <td>...</td>\n",
       "      <td>...</td>\n",
       "      <td>...</td>\n",
       "      <td>...</td>\n",
       "      <td>...</td>\n",
       "      <td>...</td>\n",
       "      <td>...</td>\n",
       "      <td>...</td>\n",
       "      <td>...</td>\n",
       "    </tr>\n",
       "    <tr>\n",
       "      <th>40</th>\n",
       "      <td>SRR837477</td>\n",
       "      <td>61</td>\n",
       "      <td>959357850</td>\n",
       "      <td>513892434</td>\n",
       "      <td>SRX273457</td>\n",
       "      <td>male</td>\n",
       "      <td>control</td>\n",
       "      <td>size fractionation</td>\n",
       "      <td>GSM1132728</td>\n",
       "      <td>SRP022043</td>\n",
       "    </tr>\n",
       "    <tr>\n",
       "      <th>41</th>\n",
       "      <td>SRR837478</td>\n",
       "      <td>77</td>\n",
       "      <td>1139678700</td>\n",
       "      <td>617391365</td>\n",
       "      <td>SRX273458</td>\n",
       "      <td>male</td>\n",
       "      <td>control</td>\n",
       "      <td>size fractionation</td>\n",
       "      <td>GSM1132729</td>\n",
       "      <td>SRP022043</td>\n",
       "    </tr>\n",
       "    <tr>\n",
       "      <th>42</th>\n",
       "      <td>SRR837479</td>\n",
       "      <td>63</td>\n",
       "      <td>833189450</td>\n",
       "      <td>456007450</td>\n",
       "      <td>SRX273459</td>\n",
       "      <td>male</td>\n",
       "      <td>control</td>\n",
       "      <td>size fractionation</td>\n",
       "      <td>GSM1132730</td>\n",
       "      <td>SRP022043</td>\n",
       "    </tr>\n",
       "    <tr>\n",
       "      <th>43</th>\n",
       "      <td>SRR837480</td>\n",
       "      <td>75</td>\n",
       "      <td>787554450</td>\n",
       "      <td>440587252</td>\n",
       "      <td>SRX273460</td>\n",
       "      <td>male</td>\n",
       "      <td>control</td>\n",
       "      <td>size fractionation</td>\n",
       "      <td>GSM1132731</td>\n",
       "      <td>SRP022043</td>\n",
       "    </tr>\n",
       "    <tr>\n",
       "      <th>44</th>\n",
       "      <td>SRR837481</td>\n",
       "      <td>63</td>\n",
       "      <td>867373750</td>\n",
       "      <td>509547808</td>\n",
       "      <td>SRX273461</td>\n",
       "      <td>male</td>\n",
       "      <td>control</td>\n",
       "      <td>size fractionation</td>\n",
       "      <td>GSM1132732</td>\n",
       "      <td>SRP022043</td>\n",
       "    </tr>\n",
       "    <tr>\n",
       "      <th>45</th>\n",
       "      <td>SRR837482</td>\n",
       "      <td>64</td>\n",
       "      <td>365142300</td>\n",
       "      <td>220423085</td>\n",
       "      <td>SRX273462</td>\n",
       "      <td>male</td>\n",
       "      <td>control</td>\n",
       "      <td>size fractionation</td>\n",
       "      <td>GSM1132733</td>\n",
       "      <td>SRP022043</td>\n",
       "    </tr>\n",
       "    <tr>\n",
       "      <th>46</th>\n",
       "      <td>SRR837483</td>\n",
       "      <td>71</td>\n",
       "      <td>840015850</td>\n",
       "      <td>521506613</td>\n",
       "      <td>SRX273463</td>\n",
       "      <td>female</td>\n",
       "      <td>control</td>\n",
       "      <td>size fractionation</td>\n",
       "      <td>GSM1132734</td>\n",
       "      <td>SRP022043</td>\n",
       "    </tr>\n",
       "    <tr>\n",
       "      <th>47</th>\n",
       "      <td>SRR837484</td>\n",
       "      <td>60</td>\n",
       "      <td>876711650</td>\n",
       "      <td>500250591</td>\n",
       "      <td>SRX273464</td>\n",
       "      <td>female</td>\n",
       "      <td>control</td>\n",
       "      <td>size fractionation</td>\n",
       "      <td>GSM1132735</td>\n",
       "      <td>SRP022043</td>\n",
       "    </tr>\n",
       "    <tr>\n",
       "      <th>48</th>\n",
       "      <td>SRR837485</td>\n",
       "      <td>75</td>\n",
       "      <td>910386850</td>\n",
       "      <td>533499345</td>\n",
       "      <td>SRX273465</td>\n",
       "      <td>male</td>\n",
       "      <td>control</td>\n",
       "      <td>size fractionation</td>\n",
       "      <td>GSM1132736</td>\n",
       "      <td>SRP022043</td>\n",
       "    </tr>\n",
       "    <tr>\n",
       "      <th>49</th>\n",
       "      <td>SRR837486</td>\n",
       "      <td>60</td>\n",
       "      <td>684574250</td>\n",
       "      <td>414475886</td>\n",
       "      <td>SRX273466</td>\n",
       "      <td>female</td>\n",
       "      <td>control</td>\n",
       "      <td>size fractionation</td>\n",
       "      <td>GSM1132737</td>\n",
       "      <td>SRP022043</td>\n",
       "    </tr>\n",
       "    <tr>\n",
       "      <th>50</th>\n",
       "      <td>SRR837487</td>\n",
       "      <td>66</td>\n",
       "      <td>872466100</td>\n",
       "      <td>497247140</td>\n",
       "      <td>SRX273467</td>\n",
       "      <td>female</td>\n",
       "      <td>control</td>\n",
       "      <td>size fractionation</td>\n",
       "      <td>GSM1132738</td>\n",
       "      <td>SRP022043</td>\n",
       "    </tr>\n",
       "    <tr>\n",
       "      <th>51</th>\n",
       "      <td>SRR837488</td>\n",
       "      <td>60</td>\n",
       "      <td>654186400</td>\n",
       "      <td>363092383</td>\n",
       "      <td>SRX273468</td>\n",
       "      <td>female</td>\n",
       "      <td>control</td>\n",
       "      <td>size fractionation</td>\n",
       "      <td>GSM1132739</td>\n",
       "      <td>SRP022043</td>\n",
       "    </tr>\n",
       "    <tr>\n",
       "      <th>52</th>\n",
       "      <td>SRR837489</td>\n",
       "      <td>61</td>\n",
       "      <td>1085979150</td>\n",
       "      <td>649339019</td>\n",
       "      <td>SRX273469</td>\n",
       "      <td>male</td>\n",
       "      <td>control</td>\n",
       "      <td>size fractionation</td>\n",
       "      <td>GSM1132740</td>\n",
       "      <td>SRP022043</td>\n",
       "    </tr>\n",
       "    <tr>\n",
       "      <th>53</th>\n",
       "      <td>SRR837490</td>\n",
       "      <td>74</td>\n",
       "      <td>1292386500</td>\n",
       "      <td>776377847</td>\n",
       "      <td>SRX273470</td>\n",
       "      <td>female</td>\n",
       "      <td>control</td>\n",
       "      <td>size fractionation</td>\n",
       "      <td>GSM1132741</td>\n",
       "      <td>SRP022043</td>\n",
       "    </tr>\n",
       "    <tr>\n",
       "      <th>54</th>\n",
       "      <td>SRR837491</td>\n",
       "      <td>71</td>\n",
       "      <td>1063650800</td>\n",
       "      <td>643873442</td>\n",
       "      <td>SRX273471</td>\n",
       "      <td>female</td>\n",
       "      <td>control</td>\n",
       "      <td>size fractionation</td>\n",
       "      <td>GSM1132742</td>\n",
       "      <td>SRP022043</td>\n",
       "    </tr>\n",
       "    <tr>\n",
       "      <th>55</th>\n",
       "      <td>SRR837492</td>\n",
       "      <td>60</td>\n",
       "      <td>791255800</td>\n",
       "      <td>488573228</td>\n",
       "      <td>SRX273472</td>\n",
       "      <td>male</td>\n",
       "      <td>control</td>\n",
       "      <td>size fractionation</td>\n",
       "      <td>GSM1132743</td>\n",
       "      <td>SRP022043</td>\n",
       "    </tr>\n",
       "    <tr>\n",
       "      <th>56</th>\n",
       "      <td>SRR837493</td>\n",
       "      <td>80</td>\n",
       "      <td>543025850</td>\n",
       "      <td>322023803</td>\n",
       "      <td>SRX273473</td>\n",
       "      <td>male</td>\n",
       "      <td>alzheimer patient</td>\n",
       "      <td>size fractionation</td>\n",
       "      <td>GSM1132744</td>\n",
       "      <td>SRP022043</td>\n",
       "    </tr>\n",
       "    <tr>\n",
       "      <th>57</th>\n",
       "      <td>SRR837494</td>\n",
       "      <td>81</td>\n",
       "      <td>598275450</td>\n",
       "      <td>345592142</td>\n",
       "      <td>SRX273474</td>\n",
       "      <td>male</td>\n",
       "      <td>alzheimer patient</td>\n",
       "      <td>size fractionation</td>\n",
       "      <td>GSM1132745</td>\n",
       "      <td>SRP022043</td>\n",
       "    </tr>\n",
       "    <tr>\n",
       "      <th>58</th>\n",
       "      <td>SRR837495</td>\n",
       "      <td>76</td>\n",
       "      <td>1105519650</td>\n",
       "      <td>637014474</td>\n",
       "      <td>SRX273475</td>\n",
       "      <td>female</td>\n",
       "      <td>alzheimer patient</td>\n",
       "      <td>size fractionation</td>\n",
       "      <td>GSM1132746</td>\n",
       "      <td>SRP022043</td>\n",
       "    </tr>\n",
       "    <tr>\n",
       "      <th>59</th>\n",
       "      <td>SRR837496</td>\n",
       "      <td>60</td>\n",
       "      <td>578967350</td>\n",
       "      <td>338441826</td>\n",
       "      <td>SRX273476</td>\n",
       "      <td>female</td>\n",
       "      <td>alzheimer patient</td>\n",
       "      <td>size fractionation</td>\n",
       "      <td>GSM1132747</td>\n",
       "      <td>SRP022043</td>\n",
       "    </tr>\n",
       "    <tr>\n",
       "      <th>60</th>\n",
       "      <td>SRR837497</td>\n",
       "      <td>63</td>\n",
       "      <td>255503950</td>\n",
       "      <td>163461956</td>\n",
       "      <td>SRX273477</td>\n",
       "      <td>female</td>\n",
       "      <td>alzheimer patient</td>\n",
       "      <td>size fractionation</td>\n",
       "      <td>GSM1132748</td>\n",
       "      <td>SRP022043</td>\n",
       "    </tr>\n",
       "    <tr>\n",
       "      <th>61</th>\n",
       "      <td>SRR837498</td>\n",
       "      <td>64</td>\n",
       "      <td>400080250</td>\n",
       "      <td>256284185</td>\n",
       "      <td>SRX273478</td>\n",
       "      <td>female</td>\n",
       "      <td>alzheimer patient</td>\n",
       "      <td>size fractionation</td>\n",
       "      <td>GSM1132749</td>\n",
       "      <td>SRP022043</td>\n",
       "    </tr>\n",
       "    <tr>\n",
       "      <th>62</th>\n",
       "      <td>SRR837499</td>\n",
       "      <td>65</td>\n",
       "      <td>2730755850</td>\n",
       "      <td>1683087280</td>\n",
       "      <td>SRX273479</td>\n",
       "      <td>male</td>\n",
       "      <td>alzheimer patient</td>\n",
       "      <td>size fractionation</td>\n",
       "      <td>GSM1132750</td>\n",
       "      <td>SRP022043</td>\n",
       "    </tr>\n",
       "    <tr>\n",
       "      <th>63</th>\n",
       "      <td>SRR837500</td>\n",
       "      <td>74</td>\n",
       "      <td>2366317750</td>\n",
       "      <td>1485515119</td>\n",
       "      <td>SRX273480</td>\n",
       "      <td>female</td>\n",
       "      <td>alzheimer patient</td>\n",
       "      <td>size fractionation</td>\n",
       "      <td>GSM1132751</td>\n",
       "      <td>SRP022043</td>\n",
       "    </tr>\n",
       "    <tr>\n",
       "      <th>64</th>\n",
       "      <td>SRR837501</td>\n",
       "      <td>59</td>\n",
       "      <td>150017200</td>\n",
       "      <td>92926406</td>\n",
       "      <td>SRX273481</td>\n",
       "      <td>female</td>\n",
       "      <td>alzheimer patient</td>\n",
       "      <td>size fractionation</td>\n",
       "      <td>GSM1132752</td>\n",
       "      <td>SRP022043</td>\n",
       "    </tr>\n",
       "    <tr>\n",
       "      <th>65</th>\n",
       "      <td>SRR837502</td>\n",
       "      <td>72</td>\n",
       "      <td>417504700</td>\n",
       "      <td>256925990</td>\n",
       "      <td>SRX273482</td>\n",
       "      <td>female</td>\n",
       "      <td>alzheimer patient</td>\n",
       "      <td>size fractionation</td>\n",
       "      <td>GSM1132753</td>\n",
       "      <td>SRP022043</td>\n",
       "    </tr>\n",
       "    <tr>\n",
       "      <th>66</th>\n",
       "      <td>SRR837503</td>\n",
       "      <td>63</td>\n",
       "      <td>478856650</td>\n",
       "      <td>285157119</td>\n",
       "      <td>SRX273483</td>\n",
       "      <td>male</td>\n",
       "      <td>alzheimer patient</td>\n",
       "      <td>size fractionation</td>\n",
       "      <td>GSM1132754</td>\n",
       "      <td>SRP022043</td>\n",
       "    </tr>\n",
       "    <tr>\n",
       "      <th>67</th>\n",
       "      <td>SRR837504</td>\n",
       "      <td>78</td>\n",
       "      <td>1226908800</td>\n",
       "      <td>817687264</td>\n",
       "      <td>SRX273484</td>\n",
       "      <td>male</td>\n",
       "      <td>alzheimer patient</td>\n",
       "      <td>size fractionation</td>\n",
       "      <td>GSM1132755</td>\n",
       "      <td>SRP022043</td>\n",
       "    </tr>\n",
       "    <tr>\n",
       "      <th>68</th>\n",
       "      <td>SRR837505</td>\n",
       "      <td>78</td>\n",
       "      <td>955937550</td>\n",
       "      <td>642306119</td>\n",
       "      <td>SRX273485</td>\n",
       "      <td>male</td>\n",
       "      <td>alzheimer patient</td>\n",
       "      <td>size fractionation</td>\n",
       "      <td>GSM1132756</td>\n",
       "      <td>SRP022043</td>\n",
       "    </tr>\n",
       "    <tr>\n",
       "      <th>69</th>\n",
       "      <td>SRR837506</td>\n",
       "      <td>79</td>\n",
       "      <td>1220548450</td>\n",
       "      <td>639214114</td>\n",
       "      <td>SRX273486</td>\n",
       "      <td>male</td>\n",
       "      <td>alzheimer patient</td>\n",
       "      <td>size fractionation</td>\n",
       "      <td>GSM1132757</td>\n",
       "      <td>SRP022043</td>\n",
       "    </tr>\n",
       "  </tbody>\n",
       "</table>\n",
       "<p>70 rows × 10 columns</p>\n",
       "</div>"
      ],
      "text/plain": [
       "          Run  Age       Bases       Bytes Experiment  gender  \\\n",
       "0   SRR837437   77   891533900   521467001  SRX273417  female   \n",
       "1   SRR837438   74   869717450   495593756  SRX273418    male   \n",
       "2   SRR837439   68   758073050   441476174  SRX273419    male   \n",
       "3   SRR837440   75   835484250   484958529  SRX273420  female   \n",
       "4   SRR837441   74   853289150   506219095  SRX273421    male   \n",
       "5   SRR837442   76   808726750   471300396  SRX273422    male   \n",
       "6   SRR837443   79  1046527600   594268839  SRX273423    male   \n",
       "7   SRR837444   75   664306350   387247692  SRX273424  female   \n",
       "8   SRR837445   77   885352750   514100236  SRX273425    male   \n",
       "9   SRR837446   72   669992300   373134438  SRX273426  female   \n",
       "10  SRR837447   76   938615600   612341518  SRX273427    male   \n",
       "11  SRR837448   61   944207350   623684476  SRX273428    male   \n",
       "12  SRR837449   51   850640650   549831061  SRX273429  female   \n",
       "13  SRR837450   55  1019061950   690875361  SRX273430  female   \n",
       "14  SRR837451   70  1018485250   644272305  SRX273431  female   \n",
       "15  SRR837452   78  1361606850   869020513  SRX273432  female   \n",
       "16  SRR837453   81   840761200   562424859  SRX273433    male   \n",
       "17  SRR837454   72   761399300   512197547  SRX273434  female   \n",
       "18  SRR837455   57   606516300   380688363  SRX273435    male   \n",
       "19  SRR837456   75   610770300   370626097  SRX273436    male   \n",
       "20  SRR837457   70  1019789600   687075247  SRX273437  female   \n",
       "21  SRR837458   75   494230650   304237856  SRX273438  female   \n",
       "22  SRR837459   69  1313374050   882167129  SRX273439  female   \n",
       "23  SRR837460   68  1044078450   603080449  SRX273440  female   \n",
       "24  SRR837461   71   970295300   560365727  SRX273441  female   \n",
       "25  SRR837462   74   847807300   500017384  SRX273442    male   \n",
       "26  SRR837463   72   850967950   504711834  SRX273443    male   \n",
       "27  SRR837464   69   473380750   279893630  SRX273444  female   \n",
       "28  SRR837465   63  1026245400   614625286  SRX273445  female   \n",
       "29  SRR837466   80  1033779050   640256058  SRX273446    male   \n",
       "..        ...  ...         ...         ...        ...     ...   \n",
       "40  SRR837477   61   959357850   513892434  SRX273457    male   \n",
       "41  SRR837478   77  1139678700   617391365  SRX273458    male   \n",
       "42  SRR837479   63   833189450   456007450  SRX273459    male   \n",
       "43  SRR837480   75   787554450   440587252  SRX273460    male   \n",
       "44  SRR837481   63   867373750   509547808  SRX273461    male   \n",
       "45  SRR837482   64   365142300   220423085  SRX273462    male   \n",
       "46  SRR837483   71   840015850   521506613  SRX273463  female   \n",
       "47  SRR837484   60   876711650   500250591  SRX273464  female   \n",
       "48  SRR837485   75   910386850   533499345  SRX273465    male   \n",
       "49  SRR837486   60   684574250   414475886  SRX273466  female   \n",
       "50  SRR837487   66   872466100   497247140  SRX273467  female   \n",
       "51  SRR837488   60   654186400   363092383  SRX273468  female   \n",
       "52  SRR837489   61  1085979150   649339019  SRX273469    male   \n",
       "53  SRR837490   74  1292386500   776377847  SRX273470  female   \n",
       "54  SRR837491   71  1063650800   643873442  SRX273471  female   \n",
       "55  SRR837492   60   791255800   488573228  SRX273472    male   \n",
       "56  SRR837493   80   543025850   322023803  SRX273473    male   \n",
       "57  SRR837494   81   598275450   345592142  SRX273474    male   \n",
       "58  SRR837495   76  1105519650   637014474  SRX273475  female   \n",
       "59  SRR837496   60   578967350   338441826  SRX273476  female   \n",
       "60  SRR837497   63   255503950   163461956  SRX273477  female   \n",
       "61  SRR837498   64   400080250   256284185  SRX273478  female   \n",
       "62  SRR837499   65  2730755850  1683087280  SRX273479    male   \n",
       "63  SRR837500   74  2366317750  1485515119  SRX273480  female   \n",
       "64  SRR837501   59   150017200    92926406  SRX273481  female   \n",
       "65  SRR837502   72   417504700   256925990  SRX273482  female   \n",
       "66  SRR837503   63   478856650   285157119  SRX273483    male   \n",
       "67  SRR837504   78  1226908800   817687264  SRX273484    male   \n",
       "68  SRR837505   78   955937550   642306119  SRX273485    male   \n",
       "69  SRR837506   79  1220548450   639214114  SRX273486    male   \n",
       "\n",
       "                GROUP    LibrarySelection Sample Name  SRA Study  \n",
       "0   alzheimer patient  size fractionation  GSM1132688  SRP022043  \n",
       "1   alzheimer patient  size fractionation  GSM1132689  SRP022043  \n",
       "2   alzheimer patient  size fractionation  GSM1132690  SRP022043  \n",
       "3   alzheimer patient  size fractionation  GSM1132691  SRP022043  \n",
       "4   alzheimer patient  size fractionation  GSM1132692  SRP022043  \n",
       "5   alzheimer patient  size fractionation  GSM1132693  SRP022043  \n",
       "6   alzheimer patient  size fractionation  GSM1132694  SRP022043  \n",
       "7   alzheimer patient  size fractionation  GSM1132695  SRP022043  \n",
       "8   alzheimer patient  size fractionation  GSM1132696  SRP022043  \n",
       "9   alzheimer patient  size fractionation  GSM1132697  SRP022043  \n",
       "10  alzheimer patient  size fractionation  GSM1132698  SRP022043  \n",
       "11  alzheimer patient  size fractionation  GSM1132699  SRP022043  \n",
       "12  alzheimer patient  size fractionation  GSM1132700  SRP022043  \n",
       "13  alzheimer patient  size fractionation  GSM1132701  SRP022043  \n",
       "14  alzheimer patient  size fractionation  GSM1132702  SRP022043  \n",
       "15  alzheimer patient  size fractionation  GSM1132703  SRP022043  \n",
       "16  alzheimer patient  size fractionation  GSM1132704  SRP022043  \n",
       "17  alzheimer patient  size fractionation  GSM1132705  SRP022043  \n",
       "18  alzheimer patient  size fractionation  GSM1132706  SRP022043  \n",
       "19  alzheimer patient  size fractionation  GSM1132707  SRP022043  \n",
       "20  alzheimer patient  size fractionation  GSM1132708  SRP022043  \n",
       "21  alzheimer patient  size fractionation  GSM1132709  SRP022043  \n",
       "22  alzheimer patient  size fractionation  GSM1132710  SRP022043  \n",
       "23  alzheimer patient  size fractionation  GSM1132711  SRP022043  \n",
       "24  alzheimer patient  size fractionation  GSM1132712  SRP022043  \n",
       "25  alzheimer patient  size fractionation  GSM1132713  SRP022043  \n",
       "26  alzheimer patient  size fractionation  GSM1132714  SRP022043  \n",
       "27  alzheimer patient  size fractionation  GSM1132715  SRP022043  \n",
       "28  alzheimer patient  size fractionation  GSM1132716  SRP022043  \n",
       "29  alzheimer patient  size fractionation  GSM1132717  SRP022043  \n",
       "..                ...                 ...         ...        ...  \n",
       "40            control  size fractionation  GSM1132728  SRP022043  \n",
       "41            control  size fractionation  GSM1132729  SRP022043  \n",
       "42            control  size fractionation  GSM1132730  SRP022043  \n",
       "43            control  size fractionation  GSM1132731  SRP022043  \n",
       "44            control  size fractionation  GSM1132732  SRP022043  \n",
       "45            control  size fractionation  GSM1132733  SRP022043  \n",
       "46            control  size fractionation  GSM1132734  SRP022043  \n",
       "47            control  size fractionation  GSM1132735  SRP022043  \n",
       "48            control  size fractionation  GSM1132736  SRP022043  \n",
       "49            control  size fractionation  GSM1132737  SRP022043  \n",
       "50            control  size fractionation  GSM1132738  SRP022043  \n",
       "51            control  size fractionation  GSM1132739  SRP022043  \n",
       "52            control  size fractionation  GSM1132740  SRP022043  \n",
       "53            control  size fractionation  GSM1132741  SRP022043  \n",
       "54            control  size fractionation  GSM1132742  SRP022043  \n",
       "55            control  size fractionation  GSM1132743  SRP022043  \n",
       "56  alzheimer patient  size fractionation  GSM1132744  SRP022043  \n",
       "57  alzheimer patient  size fractionation  GSM1132745  SRP022043  \n",
       "58  alzheimer patient  size fractionation  GSM1132746  SRP022043  \n",
       "59  alzheimer patient  size fractionation  GSM1132747  SRP022043  \n",
       "60  alzheimer patient  size fractionation  GSM1132748  SRP022043  \n",
       "61  alzheimer patient  size fractionation  GSM1132749  SRP022043  \n",
       "62  alzheimer patient  size fractionation  GSM1132750  SRP022043  \n",
       "63  alzheimer patient  size fractionation  GSM1132751  SRP022043  \n",
       "64  alzheimer patient  size fractionation  GSM1132752  SRP022043  \n",
       "65  alzheimer patient  size fractionation  GSM1132753  SRP022043  \n",
       "66  alzheimer patient  size fractionation  GSM1132754  SRP022043  \n",
       "67  alzheimer patient  size fractionation  GSM1132755  SRP022043  \n",
       "68  alzheimer patient  size fractionation  GSM1132756  SRP022043  \n",
       "69  alzheimer patient  size fractionation  GSM1132757  SRP022043  \n",
       "\n",
       "[70 rows x 10 columns]"
      ]
     },
     "execution_count": 5,
     "metadata": {},
     "output_type": "execute_result"
    }
   ],
   "source": [
    "# Drop columns that have all the same value:\n",
    "patients = patients.drop(['AvgSpotLen','Assay Type','BioProject','BioSample','Center Name','Consent','DATASTORE filetype',\n",
    "              'DATASTORE provider','DATASTORE region','GEO_Accession (exp)','Instrument','LibraryLayout',\n",
    "               'LibrarySource','LibraryLayout','Organism','Platform','ReleaseDate','source_name'],axis=1)\n",
    "patients"
   ]
  },
  {
   "cell_type": "markdown",
   "metadata": {},
   "source": [
    "#### Categorical Features"
   ]
  },
  {
   "cell_type": "code",
   "execution_count": 6,
   "metadata": {},
   "outputs": [],
   "source": [
    "cat_features = ['Experiment', 'gender', 'GROUP', 'SRA Study']\n",
    "for colname in cat_features:\n",
    "    patients[colname] = patients[colname].astype('category')"
   ]
  },
  {
   "cell_type": "code",
   "execution_count": 7,
   "metadata": {},
   "outputs": [
    {
     "data": {
      "text/plain": [
       "<matplotlib.axes._subplots.AxesSubplot at 0x7f89dd4da780>"
      ]
     },
     "execution_count": 7,
     "metadata": {},
     "output_type": "execute_result"
    },
    {
     "data": {
      "image/png": "[encoded data removed]",
      "text/plain": [
       "<Figure size 432x288 with 1 Axes>"
      ]
     },
     "metadata": {
      "needs_background": "light"
     },
     "output_type": "display_data"
    }
   ],
   "source": [
    "sns.countplot(x='GROUP', data=patients)"
   ]
  },
  {
   "cell_type": "code",
   "execution_count": 8,
   "metadata": {},
   "outputs": [
    {
     "data": {
      "text/plain": [
       "<matplotlib.axes._subplots.AxesSubplot at 0x7f89dd562e10>"
      ]
     },
     "execution_count": 8,
     "metadata": {},
     "output_type": "execute_result"
    },
    {
     "data": {
      "image/png": "[encoded data removed]",
      "text/plain": [
       "<Figure size 432x288 with 1 Axes>"
      ]
     },
     "metadata": {
      "needs_background": "light"
     },
     "output_type": "display_data"
    }
   ],
   "source": [
    "sns.countplot(x='gender', data=patients)"
   ]
  },
  {
   "cell_type": "code",
   "execution_count": 9,
   "metadata": {},
   "outputs": [
    {
     "data": {
      "text/plain": [
       "<matplotlib.axes._subplots.AxesSubplot at 0x7f89dd57e400>"
      ]
     },
     "execution_count": 9,
     "metadata": {},
     "output_type": "execute_result"
    },
    {
     "data": {
      "image/png": "[encoded data removed]",
      "text/plain": [
       "<Figure size 432x288 with 1 Axes>"
      ]
     },
     "metadata": {
      "needs_background": "light"
     },
     "output_type": "display_data"
    }
   ],
   "source": [
    "sns.countplot(x='Age', data=patients)"
   ]
  },
  {
   "cell_type": "code",
   "execution_count": 10,
   "metadata": {},
   "outputs": [
    {
     "data": {
      "text/plain": [
       "<matplotlib.axes._subplots.AxesSubplot at 0x7f89dd786048>"
      ]
     },
     "execution_count": 10,
     "metadata": {},
     "output_type": "execute_result"
    },
    {
     "data": {
      "image/png": "[encoded data removed]",
      "text/plain": [
       "<Figure size 432x288 with 1 Axes>"
      ]
     },
     "metadata": {
      "needs_background": "light"
     },
     "output_type": "display_data"
    }
   ],
   "source": [
    "sns.distplot(patients['Bases'])"
   ]
  },
  {
   "cell_type": "code",
   "execution_count": 11,
   "metadata": {},
   "outputs": [
    {
     "data": {
      "text/plain": [
       "<matplotlib.axes._subplots.AxesSubplot at 0x7f89dd9c7f28>"
      ]
     },
     "execution_count": 11,
     "metadata": {},
     "output_type": "execute_result"
    },
    {
     "data": {
      "image/png": "[encoded data removed]",
      "text/plain": [
       "<Figure size 432x288 with 1 Axes>"
      ]
     },
     "metadata": {
      "needs_background": "light"
     },
     "output_type": "display_data"
    }
   ],
   "source": [
    "sns.distplot(patients['Bytes'])"
   ]
  },
  {
   "cell_type": "code",
   "execution_count": 12,
   "metadata": {},
   "outputs": [
    {
     "data": {
      "text/html": [
       "<div>\n",
       "<style scoped>\n",
       "    .dataframe tbody tr th:only-of-type {\n",
       "        vertical-align: middle;\n",
       "    }\n",
       "\n",
       "    .dataframe tbody tr th {\n",
       "        vertical-align: top;\n",
       "    }\n",
       "\n",
       "    .dataframe thead th {\n",
       "        text-align: right;\n",
       "    }\n",
       "</style>\n",
       "<table border=\"1\" class=\"dataframe\">\n",
       "  <thead>\n",
       "    <tr style=\"text-align: right;\">\n",
       "      <th></th>\n",
       "      <th>Age</th>\n",
       "      <th>Bases</th>\n",
       "      <th>Bytes</th>\n",
       "    </tr>\n",
       "    <tr>\n",
       "      <th>gender</th>\n",
       "      <th></th>\n",
       "      <th></th>\n",
       "      <th></th>\n",
       "    </tr>\n",
       "  </thead>\n",
       "  <tbody>\n",
       "    <tr>\n",
       "      <th>female</th>\n",
       "      <td>66.916667</td>\n",
       "      <td>8.302909e+08</td>\n",
       "      <td>5.038989e+08</td>\n",
       "    </tr>\n",
       "    <tr>\n",
       "      <th>male</th>\n",
       "      <td>71.852941</td>\n",
       "      <td>8.974714e+08</td>\n",
       "      <td>5.349193e+08</td>\n",
       "    </tr>\n",
       "  </tbody>\n",
       "</table>\n",
       "</div>"
      ],
      "text/plain": [
       "              Age         Bases         Bytes\n",
       "gender                                       \n",
       "female  66.916667  8.302909e+08  5.038989e+08\n",
       "male    71.852941  8.974714e+08  5.349193e+08"
      ]
     },
     "execution_count": 12,
     "metadata": {},
     "output_type": "execute_result"
    }
   ],
   "source": [
    "patients.groupby('gender').mean()"
   ]
  },
  {
   "cell_type": "code",
   "execution_count": 13,
   "metadata": {},
   "outputs": [
    {
     "data": {
      "text/html": [
       "<div>\n",
       "<style scoped>\n",
       "    .dataframe tbody tr th:only-of-type {\n",
       "        vertical-align: middle;\n",
       "    }\n",
       "\n",
       "    .dataframe tbody tr th {\n",
       "        vertical-align: top;\n",
       "    }\n",
       "\n",
       "    .dataframe thead th {\n",
       "        text-align: right;\n",
       "    }\n",
       "</style>\n",
       "<table border=\"1\" class=\"dataframe\">\n",
       "  <thead>\n",
       "    <tr style=\"text-align: right;\">\n",
       "      <th></th>\n",
       "      <th>Age</th>\n",
       "      <th>Bases</th>\n",
       "      <th>Bytes</th>\n",
       "    </tr>\n",
       "    <tr>\n",
       "      <th>GROUP</th>\n",
       "      <th></th>\n",
       "      <th></th>\n",
       "      <th></th>\n",
       "    </tr>\n",
       "  </thead>\n",
       "  <tbody>\n",
       "    <tr>\n",
       "      <th>alzheimer patient</th>\n",
       "      <td>70.333333</td>\n",
       "      <td>8.969719e+08</td>\n",
       "      <td>5.491423e+08</td>\n",
       "    </tr>\n",
       "    <tr>\n",
       "      <th>control</th>\n",
       "      <td>67.090909</td>\n",
       "      <td>7.886296e+08</td>\n",
       "      <td>4.531266e+08</td>\n",
       "    </tr>\n",
       "  </tbody>\n",
       "</table>\n",
       "</div>"
      ],
      "text/plain": [
       "                         Age         Bases         Bytes\n",
       "GROUP                                                   \n",
       "alzheimer patient  70.333333  8.969719e+08  5.491423e+08\n",
       "control            67.090909  7.886296e+08  4.531266e+08"
      ]
     },
     "execution_count": 13,
     "metadata": {},
     "output_type": "execute_result"
    }
   ],
   "source": [
    "patients.groupby('GROUP').mean()"
   ]
  },
  {
   "cell_type": "code",
   "execution_count": 14,
   "metadata": {},
   "outputs": [
    {
     "data": {
      "text/plain": [
       "Text(0, 0.5, '# of Patients')"
      ]
     },
     "execution_count": 14,
     "metadata": {},
     "output_type": "execute_result"
    },
    {
     "data": {
      "image/png": "[encoded data removed]",
      "text/plain": [
       "<Figure size 432x288 with 1 Axes>"
      ]
     },
     "metadata": {
      "needs_background": "light"
     },
     "output_type": "display_data"
    }
   ],
   "source": [
    "df = patients[patients['GROUP'] == 'control']\n",
    "sns.distplot(df['Age'],  kde=False, label='Control')\n",
    "\n",
    "df = patients[patients['GROUP'] == 'alzheimer patient']\n",
    "sns.distplot(df['Age'],  kde=False, label='Alzheimers')\n",
    "\n",
    "plt.legend(prop={'size': 10})\n",
    "plt.title('Age of Patients')\n",
    "plt.xlabel('Age (Years)')\n",
    "plt.ylabel('# of Patients')"
   ]
  },
  {
   "cell_type": "code",
   "execution_count": 15,
   "metadata": {},
   "outputs": [
    {
     "data": {
      "text/plain": [
       "Text(0, 0.5, 'Count')"
      ]
     },
     "execution_count": 15,
     "metadata": {},
     "output_type": "execute_result"
    },
    {
     "data": {
      "image/png": "[encoded data removed]",
      "text/plain": [
       "<Figure size 432x288 with 1 Axes>"
      ]
     },
     "metadata": {
      "needs_background": "light"
     },
     "output_type": "display_data"
    }
   ],
   "source": [
    "gender = patients.groupby(['gender', 'GROUP'])['GROUP'].agg(['count'])\n",
    "gender = gender.reset_index()\n",
    "\n",
    "ax = sns.barplot(x=\"GROUP\", y=\"count\", hue=\"gender\", data=gender)\n",
    "plt.legend(prop={'size': 10})\n",
    "plt.title('Counts of Patients')\n",
    "plt.xlabel('Group')\n",
    "plt.ylabel('Count')"
   ]
  },
  {
   "cell_type": "code",
   "execution_count": 16,
   "metadata": {},
   "outputs": [
    {
     "data": {
      "text/plain": [
       "<matplotlib.axes._subplots.AxesSubplot at 0x7f89ddcd20b8>"
      ]
     },
     "execution_count": 16,
     "metadata": {},
     "output_type": "execute_result"
    },
    {
     "data": {
      "image/png": "[encoded data removed]",
      "text/plain": [
       "<Figure size 432x288 with 1 Axes>"
      ]
     },
     "metadata": {
      "needs_background": "light"
     },
     "output_type": "display_data"
    }
   ],
   "source": [
    "sns.boxplot(x=patients['GROUP'], y=patients['Age'])"
   ]
  },
  {
   "cell_type": "code",
   "execution_count": 17,
   "metadata": {},
   "outputs": [
    {
     "data": {
      "text/plain": [
       "<matplotlib.axes._subplots.AxesSubplot at 0x7f89dddaf3c8>"
      ]
     },
     "execution_count": 17,
     "metadata": {},
     "output_type": "execute_result"
    },
    {
     "data": {
      "image/png": "[encoded data removed]",
      "text/plain": [
       "<Figure size 432x288 with 1 Axes>"
      ]
     },
     "metadata": {
      "needs_background": "light"
     },
     "output_type": "display_data"
    }
   ],
   "source": [
    "sns.boxplot(x=patients['gender'], y=patients['Age'])"
   ]
  },
  {
   "cell_type": "code",
   "execution_count": 18,
   "metadata": {},
   "outputs": [
    {
     "data": {
      "text/plain": [
       "<seaborn.axisgrid.PairGrid at 0x7f89ddeab9b0>"
      ]
     },
     "execution_count": 18,
     "metadata": {},
     "output_type": "execute_result"
    },
    {
     "data": {
      "image/png": "[encoded data removed]",
      "text/plain": [
       "<Figure size 664x540 with 12 Axes>"
      ]
     },
     "metadata": {
      "needs_background": "light"
     },
     "output_type": "display_data"
    }
   ],
   "source": [
    "sns.pairplot(patients[['Age','Bases','Bytes']+['GROUP']], hue = 'GROUP')"
   ]
  },
  {
   "cell_type": "markdown",
   "metadata": {},
   "source": [
    "##### EDA on our miRNA counts for each sample:"
   ]
  },
  {
   "cell_type": "code",
   "execution_count": 19,
   "metadata": {},
   "outputs": [
    {
     "data": {
      "text/html": [
       "<div>\n",
       "<style scoped>\n",
       "    .dataframe tbody tr th:only-of-type {\n",
       "        vertical-align: middle;\n",
       "    }\n",
       "\n",
       "    .dataframe tbody tr th {\n",
       "        vertical-align: top;\n",
       "    }\n",
       "\n",
       "    .dataframe thead th {\n",
       "        text-align: right;\n",
       "    }\n",
       "</style>\n",
       "<table border=\"1\" class=\"dataframe\">\n",
       "  <thead>\n",
       "    <tr style=\"text-align: right;\">\n",
       "      <th></th>\n",
       "      <th>SRR837437</th>\n",
       "      <th>SRR837438</th>\n",
       "      <th>SRR837439</th>\n",
       "      <th>SRR837440</th>\n",
       "      <th>SRR837441</th>\n",
       "      <th>SRR837442</th>\n",
       "      <th>SRR837443</th>\n",
       "      <th>SRR837444</th>\n",
       "      <th>SRR837445</th>\n",
       "      <th>SRR837446</th>\n",
       "      <th>...</th>\n",
       "      <th>SRR837497</th>\n",
       "      <th>SRR837498</th>\n",
       "      <th>SRR837499</th>\n",
       "      <th>SRR837500</th>\n",
       "      <th>SRR837501</th>\n",
       "      <th>SRR837502</th>\n",
       "      <th>SRR837503</th>\n",
       "      <th>SRR837504</th>\n",
       "      <th>SRR837505</th>\n",
       "      <th>SRR837506</th>\n",
       "    </tr>\n",
       "    <tr>\n",
       "      <th>target_id</th>\n",
       "      <th></th>\n",
       "      <th></th>\n",
       "      <th></th>\n",
       "      <th></th>\n",
       "      <th></th>\n",
       "      <th></th>\n",
       "      <th></th>\n",
       "      <th></th>\n",
       "      <th></th>\n",
       "      <th></th>\n",
       "      <th></th>\n",
       "      <th></th>\n",
       "      <th></th>\n",
       "      <th></th>\n",
       "      <th></th>\n",
       "      <th></th>\n",
       "      <th></th>\n",
       "      <th></th>\n",
       "      <th></th>\n",
       "      <th></th>\n",
       "      <th></th>\n",
       "    </tr>\n",
       "  </thead>\n",
       "  <tbody>\n",
       "    <tr>\n",
       "      <th>ENST00000619109.1</th>\n",
       "      <td>0.166667</td>\n",
       "      <td>0.363636</td>\n",
       "      <td>0.272727</td>\n",
       "      <td>0.181818</td>\n",
       "      <td>0.363636</td>\n",
       "      <td>0.083333</td>\n",
       "      <td>0.076923</td>\n",
       "      <td>1.22222</td>\n",
       "      <td>1.1</td>\n",
       "      <td>2.09888</td>\n",
       "      <td>...</td>\n",
       "      <td>0.2</td>\n",
       "      <td>0.166667</td>\n",
       "      <td>1.09091</td>\n",
       "      <td>1.33333</td>\n",
       "      <td>0.181818</td>\n",
       "      <td>0.666667</td>\n",
       "      <td>0.272727</td>\n",
       "      <td>0.363636</td>\n",
       "      <td>0.2</td>\n",
       "      <td>0.0</td>\n",
       "    </tr>\n",
       "    <tr>\n",
       "      <th>ENST00000614083.1</th>\n",
       "      <td>0.000000</td>\n",
       "      <td>0.000000</td>\n",
       "      <td>0.000000</td>\n",
       "      <td>0.000000</td>\n",
       "      <td>0.000000</td>\n",
       "      <td>0.000000</td>\n",
       "      <td>0.000000</td>\n",
       "      <td>0.00000</td>\n",
       "      <td>0.0</td>\n",
       "      <td>0.00000</td>\n",
       "      <td>...</td>\n",
       "      <td>0.0</td>\n",
       "      <td>0.000000</td>\n",
       "      <td>0.00000</td>\n",
       "      <td>0.00000</td>\n",
       "      <td>0.000000</td>\n",
       "      <td>0.000000</td>\n",
       "      <td>0.000000</td>\n",
       "      <td>0.000000</td>\n",
       "      <td>0.0</td>\n",
       "      <td>0.0</td>\n",
       "    </tr>\n",
       "    <tr>\n",
       "      <th>ENST00000614774.1</th>\n",
       "      <td>0.166667</td>\n",
       "      <td>0.363636</td>\n",
       "      <td>0.272727</td>\n",
       "      <td>0.000000</td>\n",
       "      <td>0.363636</td>\n",
       "      <td>0.000000</td>\n",
       "      <td>0.076923</td>\n",
       "      <td>0.00000</td>\n",
       "      <td>0.0</td>\n",
       "      <td>0.00000</td>\n",
       "      <td>...</td>\n",
       "      <td>0.0</td>\n",
       "      <td>0.166667</td>\n",
       "      <td>0.00000</td>\n",
       "      <td>0.00000</td>\n",
       "      <td>0.000000</td>\n",
       "      <td>0.666667</td>\n",
       "      <td>0.000000</td>\n",
       "      <td>0.000000</td>\n",
       "      <td>0.0</td>\n",
       "      <td>0.0</td>\n",
       "    </tr>\n",
       "    <tr>\n",
       "      <th>ENST00000516659.1</th>\n",
       "      <td>0.000000</td>\n",
       "      <td>0.000000</td>\n",
       "      <td>0.000000</td>\n",
       "      <td>0.000000</td>\n",
       "      <td>0.000000</td>\n",
       "      <td>0.000000</td>\n",
       "      <td>0.000000</td>\n",
       "      <td>0.00000</td>\n",
       "      <td>0.0</td>\n",
       "      <td>0.00000</td>\n",
       "      <td>...</td>\n",
       "      <td>0.0</td>\n",
       "      <td>0.000000</td>\n",
       "      <td>0.00000</td>\n",
       "      <td>0.00000</td>\n",
       "      <td>0.000000</td>\n",
       "      <td>0.000000</td>\n",
       "      <td>0.000000</td>\n",
       "      <td>0.000000</td>\n",
       "      <td>0.0</td>\n",
       "      <td>0.0</td>\n",
       "    </tr>\n",
       "    <tr>\n",
       "      <th>ENST00000362512.1</th>\n",
       "      <td>0.000000</td>\n",
       "      <td>1.000000</td>\n",
       "      <td>0.000000</td>\n",
       "      <td>0.000000</td>\n",
       "      <td>0.000000</td>\n",
       "      <td>0.000000</td>\n",
       "      <td>1.000000</td>\n",
       "      <td>2.00000</td>\n",
       "      <td>0.0</td>\n",
       "      <td>5.00000</td>\n",
       "      <td>...</td>\n",
       "      <td>0.0</td>\n",
       "      <td>0.000000</td>\n",
       "      <td>2.00000</td>\n",
       "      <td>0.00000</td>\n",
       "      <td>1.000000</td>\n",
       "      <td>0.000000</td>\n",
       "      <td>1.000000</td>\n",
       "      <td>0.000000</td>\n",
       "      <td>0.0</td>\n",
       "      <td>0.0</td>\n",
       "    </tr>\n",
       "  </tbody>\n",
       "</table>\n",
       "<p>5 rows × 66 columns</p>\n",
       "</div>"
      ],
      "text/plain": [
       "                   SRR837437  SRR837438  SRR837439  SRR837440  SRR837441  \\\n",
       "target_id                                                                  \n",
       "ENST00000619109.1   0.166667   0.363636   0.272727   0.181818   0.363636   \n",
       "ENST00000614083.1   0.000000   0.000000   0.000000   0.000000   0.000000   \n",
       "ENST00000614774.1   0.166667   0.363636   0.272727   0.000000   0.363636   \n",
       "ENST00000516659.1   0.000000   0.000000   0.000000   0.000000   0.000000   \n",
       "ENST00000362512.1   0.000000   1.000000   0.000000   0.000000   0.000000   \n",
       "\n",
       "                   SRR837442  SRR837443  SRR837444  SRR837445  SRR837446  ...  \\\n",
       "target_id                                                                 ...   \n",
       "ENST00000619109.1   0.083333   0.076923    1.22222        1.1    2.09888  ...   \n",
       "ENST00000614083.1   0.000000   0.000000    0.00000        0.0    0.00000  ...   \n",
       "ENST00000614774.1   0.000000   0.076923    0.00000        0.0    0.00000  ...   \n",
       "ENST00000516659.1   0.000000   0.000000    0.00000        0.0    0.00000  ...   \n",
       "ENST00000362512.1   0.000000   1.000000    2.00000        0.0    5.00000  ...   \n",
       "\n",
       "                   SRR837497  SRR837498  SRR837499  SRR837500  SRR837501  \\\n",
       "target_id                                                                  \n",
       "ENST00000619109.1        0.2   0.166667    1.09091    1.33333   0.181818   \n",
       "ENST00000614083.1        0.0   0.000000    0.00000    0.00000   0.000000   \n",
       "ENST00000614774.1        0.0   0.166667    0.00000    0.00000   0.000000   \n",
       "ENST00000516659.1        0.0   0.000000    0.00000    0.00000   0.000000   \n",
       "ENST00000362512.1        0.0   0.000000    2.00000    0.00000   1.000000   \n",
       "\n",
       "                   SRR837502  SRR837503  SRR837504  SRR837505  SRR837506  \n",
       "target_id                                                                 \n",
       "ENST00000619109.1   0.666667   0.272727   0.363636        0.2        0.0  \n",
       "ENST00000614083.1   0.000000   0.000000   0.000000        0.0        0.0  \n",
       "ENST00000614774.1   0.666667   0.000000   0.000000        0.0        0.0  \n",
       "ENST00000516659.1   0.000000   0.000000   0.000000        0.0        0.0  \n",
       "ENST00000362512.1   0.000000   1.000000   0.000000        0.0        0.0  \n",
       "\n",
       "[5 rows x 66 columns]"
      ]
     },
     "execution_count": 19,
     "metadata": {},
     "output_type": "execute_result"
    }
   ],
   "source": [
    "filtered_counts = pd.read_csv(\"../../filtered_counts.csv\",index_col =0)\n",
    "filtered_counts.head()"
   ]
  },
  {
   "cell_type": "code",
   "execution_count": 20,
   "metadata": {},
   "outputs": [
    {
     "data": {
      "text/plain": [
       "0.015151515151515138"
      ]
     },
     "execution_count": 20,
     "metadata": {},
     "output_type": "execute_result"
    }
   ],
   "source": [
    "filtered_counts.var(axis=1).median()"
   ]
  },
  {
   "cell_type": "code",
   "execution_count": 21,
   "metadata": {},
   "outputs": [
    {
     "data": {
      "text/plain": [
       "312346.673566017"
      ]
     },
     "execution_count": 21,
     "metadata": {},
     "output_type": "execute_result"
    }
   ],
   "source": [
    "filtered_counts.var(axis=1).mean()"
   ]
  },
  {
   "cell_type": "code",
   "execution_count": 22,
   "metadata": {},
   "outputs": [
    {
     "data": {
      "text/plain": [
       "(566545593.415102, 3.2753828546969694e-18)"
      ]
     },
     "execution_count": 22,
     "metadata": {},
     "output_type": "execute_result"
    }
   ],
   "source": [
    "max(filtered_counts.var(axis=1)), min(filtered_counts.var(axis=1))"
   ]
  },
  {
   "cell_type": "code",
   "execution_count": 23,
   "metadata": {},
   "outputs": [
    {
     "data": {
      "text/plain": [
       "target_id\n",
       "ENST00000619109.1       1.659741\n",
       "ENST00000614083.1       0.004021\n",
       "ENST00000614774.1       0.951990\n",
       "ENST00000516659.1       0.003788\n",
       "ENST00000362512.1    4877.944696\n",
       "ENST00000384630.1       0.007459\n",
       "ENST00000606623.1       0.002814\n",
       "ENST00000410533.1       0.004021\n",
       "ENST00000384534.1       0.002814\n",
       "ENST00000364784.1       0.002814\n",
       "dtype: float64"
      ]
     },
     "execution_count": 23,
     "metadata": {},
     "output_type": "execute_result"
    }
   ],
   "source": [
    "filtered_counts.var(axis=1).head(10)"
   ]
  },
  {
   "cell_type": "code",
   "execution_count": 24,
   "metadata": {},
   "outputs": [
    {
     "data": {
      "text/plain": [
       "<matplotlib.axes._subplots.AxesSubplot at 0x7f89deadc668>"
      ]
     },
     "execution_count": 24,
     "metadata": {},
     "output_type": "execute_result"
    },
    {
     "data": {
      "image/png": "[encoded data removed]",
      "text/plain": [
       "<Figure size 432x288 with 1 Axes>"
      ]
     },
     "metadata": {
      "needs_background": "light"
     },
     "output_type": "display_data"
    }
   ],
   "source": [
    "filtered_counts.sample(5,axis=1).boxplot()"
   ]
  },
  {
   "cell_type": "code",
   "execution_count": 25,
   "metadata": {},
   "outputs": [],
   "source": [
    "fc_var_imputed = [-0.0000001 if i > 200 else i for i in filtered_counts.var(axis=1).values]"
   ]
  },
  {
   "cell_type": "code",
   "execution_count": 26,
   "metadata": {},
   "outputs": [
    {
     "data": {
      "text/plain": [
       "[0, 25, 0, 0.01]"
      ]
     },
     "execution_count": 26,
     "metadata": {},
     "output_type": "execute_result"
    },
    {
     "data": {
      "image/png": "[encoded data removed]",
      "text/plain": [
       "<Figure size 432x288 with 1 Axes>"
      ]
     },
     "metadata": {
      "needs_background": "light"
     },
     "output_type": "display_data"
    }
   ],
   "source": [
    "sns.distplot(fc_var_imputed)\n",
    "plt.axis([0, 25, 0, 0.01])"
   ]
  },
  {
   "cell_type": "code",
   "execution_count": 27,
   "metadata": {},
   "outputs": [
    {
     "data": {
      "text/plain": [
       "80"
      ]
     },
     "execution_count": 27,
     "metadata": {},
     "output_type": "execute_result"
    }
   ],
   "source": [
    "sum(np.array(fc_var_imputed) == -0.0000001)"
   ]
  },
  {
   "cell_type": "code",
   "execution_count": 28,
   "metadata": {},
   "outputs": [
    {
     "data": {
      "text/plain": [
       "2302"
      ]
     },
     "execution_count": 28,
     "metadata": {},
     "output_type": "execute_result"
    }
   ],
   "source": [
    "sum(np.array(fc_var_imputed) != -0.0000001)"
   ]
  },
  {
   "cell_type": "code",
   "execution_count": 29,
   "metadata": {},
   "outputs": [],
   "source": [
    "#mean"
   ]
  },
  {
   "cell_type": "code",
   "execution_count": 30,
   "metadata": {},
   "outputs": [
    {
     "data": {
      "text/plain": [
       "target_id\n",
       "ENST00000619109.1     0.712201\n",
       "ENST00000614083.1     0.007806\n",
       "ENST00000614774.1     0.224362\n",
       "ENST00000516659.1     0.007576\n",
       "ENST00000362512.1    15.697500\n",
       "ENST00000384630.1     0.015152\n",
       "ENST00000606623.1     0.008586\n",
       "ENST00000410533.1     0.007806\n",
       "ENST00000384534.1     0.008586\n",
       "ENST00000364784.1     0.008586\n",
       "dtype: float64"
      ]
     },
     "execution_count": 30,
     "metadata": {},
     "output_type": "execute_result"
    }
   ],
   "source": [
    "filtered_counts.mean(axis=1).head(10)"
   ]
  },
  {
   "cell_type": "code",
   "execution_count": 31,
   "metadata": {},
   "outputs": [
    {
     "data": {
      "text/plain": [
       "(15641.153287878782, 2.227712121212121e-10)"
      ]
     },
     "execution_count": 31,
     "metadata": {},
     "output_type": "execute_result"
    }
   ],
   "source": [
    "max(filtered_counts.mean(axis=1)), min(filtered_counts.mean(axis=1))"
   ]
  },
  {
   "cell_type": "code",
   "execution_count": null,
   "metadata": {},
   "outputs": [],
   "source": [
    "# correlation, and break down more gender stuff?, histograms"
   ]
  },
  {
   "cell_type": "code",
   "execution_count": 34,
   "metadata": {},
   "outputs": [
    {
     "data": {
      "text/html": [
       "<div>\n",
       "<style scoped>\n",
       "    .dataframe tbody tr th:only-of-type {\n",
       "        vertical-align: middle;\n",
       "    }\n",
       "\n",
       "    .dataframe tbody tr th {\n",
       "        vertical-align: top;\n",
       "    }\n",
       "\n",
       "    .dataframe thead th {\n",
       "        text-align: right;\n",
       "    }\n",
       "</style>\n",
       "<table border=\"1\" class=\"dataframe\">\n",
       "  <thead>\n",
       "    <tr style=\"text-align: right;\">\n",
       "      <th></th>\n",
       "      <th>Age</th>\n",
       "      <th>Bases</th>\n",
       "      <th>Bytes</th>\n",
       "    </tr>\n",
       "  </thead>\n",
       "  <tbody>\n",
       "    <tr>\n",
       "      <th>Age</th>\n",
       "      <td>1.000000</td>\n",
       "      <td>0.135144</td>\n",
       "      <td>0.120133</td>\n",
       "    </tr>\n",
       "    <tr>\n",
       "      <th>Bases</th>\n",
       "      <td>0.135144</td>\n",
       "      <td>1.000000</td>\n",
       "      <td>0.989974</td>\n",
       "    </tr>\n",
       "    <tr>\n",
       "      <th>Bytes</th>\n",
       "      <td>0.120133</td>\n",
       "      <td>0.989974</td>\n",
       "      <td>1.000000</td>\n",
       "    </tr>\n",
       "  </tbody>\n",
       "</table>\n",
       "</div>"
      ],
      "text/plain": [
       "            Age     Bases     Bytes\n",
       "Age    1.000000  0.135144  0.120133\n",
       "Bases  0.135144  1.000000  0.989974\n",
       "Bytes  0.120133  0.989974  1.000000"
      ]
     },
     "execution_count": 34,
     "metadata": {},
     "output_type": "execute_result"
    }
   ],
   "source": [
    "#age bases bytes\n",
    "patients[['Age','Bases','Bytes']].corr()"
   ]
  },
  {
   "cell_type": "code",
   "execution_count": 37,
   "metadata": {},
   "outputs": [
    {
     "data": {
      "text/plain": [
       "<matplotlib.axes._subplots.AxesSubplot at 0x7f89e01ae828>"
      ]
     },
     "execution_count": 37,
     "metadata": {},
     "output_type": "execute_result"
    },
    {
     "data": {
      "image/png": "[encoded data removed]",
      "text/plain": [
       "<Figure size 432x288 with 2 Axes>"
      ]
     },
     "metadata": {
      "needs_background": "light"
     },
     "output_type": "display_data"
    }
   ],
   "source": [
    "cmap = sns.diverging_palette(230, 20, as_cmap=True)\n",
    "sns.heatmap(patients[['Age','Bases','Bytes']].corr(),cmap=cmap,linewidths=.5)"
   ]
  },
  {
   "cell_type": "code",
   "execution_count": 52,
   "metadata": {},
   "outputs": [
    {
     "data": {
      "text/plain": [
       "<matplotlib.axes._subplots.AxesSubplot at 0x7f89e02d55c0>"
      ]
     },
     "execution_count": 52,
     "metadata": {},
     "output_type": "execute_result"
    },
    {
     "data": {
      "image/png": "[encoded data removed]",
      "text/plain": [
       "<Figure size 432x288 with 1 Axes>"
      ]
     },
     "metadata": {
      "needs_background": "light"
     },
     "output_type": "display_data"
    }
   ],
   "source": [
    "#ENST00000621981.1\n",
    "sns.distplot(filtered_counts[filtered_counts.index == 'ENST00000621981.1'].iloc[0])"
   ]
  },
  {
   "cell_type": "code",
   "execution_count": 53,
   "metadata": {},
   "outputs": [
    {
     "data": {
      "text/plain": [
       "<matplotlib.axes._subplots.AxesSubplot at 0x7f89e03ad898>"
      ]
     },
     "execution_count": 53,
     "metadata": {},
     "output_type": "execute_result"
    },
    {
     "data": {
      "image/png": "[encoded data removed]",
      "text/plain": [
       "<Figure size 432x288 with 1 Axes>"
      ]
     },
     "metadata": {
      "needs_background": "light"
     },
     "output_type": "display_data"
    }
   ],
   "source": [
    "#ENST00000362251.4\n",
    "sns.distplot(filtered_counts[filtered_counts.index == 'ENST00000362251.4'].iloc[0])"
   ]
  },
  {
   "cell_type": "code",
   "execution_count": 54,
   "metadata": {},
   "outputs": [
    {
     "data": {
      "text/plain": [
       "<matplotlib.axes._subplots.AxesSubplot at 0x7f89e037e908>"
      ]
     },
     "execution_count": 54,
     "metadata": {},
     "output_type": "execute_result"
    },
    {
     "data": {
      "image/png": "[encoded data removed]",
      "text/plain": [
       "<Figure size 432x288 with 1 Axes>"
      ]
     },
     "metadata": {
      "needs_background": "light"
     },
     "output_type": "display_data"
    }
   ],
   "source": [
    "#ENST00000385255.3\n",
    "sns.distplot(filtered_counts[filtered_counts.index == 'ENST00000385255.3'].iloc[0])"
   ]
  },
  {
   "cell_type": "code",
   "execution_count": 55,
   "metadata": {},
   "outputs": [
    {
     "data": {
      "text/plain": [
       "<matplotlib.axes._subplots.AxesSubplot at 0x7f89e02a8f28>"
      ]
     },
     "execution_count": 55,
     "metadata": {},
     "output_type": "execute_result"
    },
    {
     "data": {
      "image/png": "[encoded data removed]",
      "text/plain": [
       "<Figure size 432x288 with 1 Axes>"
      ]
     },
     "metadata": {
      "needs_background": "light"
     },
     "output_type": "display_data"
    }
   ],
   "source": [
    "#ENST00000362116.3\n",
    "sns.distplot(filtered_counts[filtered_counts.index == 'ENST00000362116.3'].iloc[0])"
   ]
  },
  {
   "cell_type": "code",
   "execution_count": 56,
   "metadata": {},
   "outputs": [
    {
     "data": {
      "text/plain": [
       "<matplotlib.axes._subplots.AxesSubplot at 0x7f89e05ee320>"
      ]
     },
     "execution_count": 56,
     "metadata": {},
     "output_type": "execute_result"
    },
    {
     "data": {
      "image/png": "[encoded data removed]",
      "text/plain": [
       "<Figure size 432x288 with 1 Axes>"
      ]
     },
     "metadata": {
      "needs_background": "light"
     },
     "output_type": "display_data"
    }
   ],
   "source": [
    "#ENST00000362202.3\n",
    "sns.distplot(filtered_counts[filtered_counts.index == 'ENST00000362202.3'].iloc[0])"
   ]
  },
  {
   "cell_type": "code",
   "execution_count": 57,
   "metadata": {},
   "outputs": [
    {
     "data": {
      "text/plain": [
       "<matplotlib.axes._subplots.AxesSubplot at 0x7f89e06cd438>"
      ]
     },
     "execution_count": 57,
     "metadata": {},
     "output_type": "execute_result"
    },
    {
     "data": {
      "image/png": "[encoded data removed]",
      "text/plain": [
       "<Figure size 432x288 with 1 Axes>"
      ]
     },
     "metadata": {
      "needs_background": "light"
     },
     "output_type": "display_data"
    }
   ],
   "source": [
    "#ENST00000384835.3\n",
    "sns.distplot(filtered_counts[filtered_counts.index == 'ENST00000384835.3'].iloc[0])"
   ]
  },
  {
   "cell_type": "code",
   "execution_count": 58,
   "metadata": {},
   "outputs": [
    {
     "data": {
      "text/plain": [
       "<matplotlib.axes._subplots.AxesSubplot at 0x7f89e089b0b8>"
      ]
     },
     "execution_count": 58,
     "metadata": {},
     "output_type": "execute_result"
    },
    {
     "data": {
      "image/png": "[encoded data removed]",
      "text/plain": [
       "<Figure size 432x288 with 1 Axes>"
      ]
     },
     "metadata": {
      "needs_background": "light"
     },
     "output_type": "display_data"
    }
   ],
   "source": [
    "#ENST00000385140.1\n",
    "sns.distplot(filtered_counts[filtered_counts.index == 'ENST00000385140.1'].iloc[0])"
   ]
  },
  {
   "cell_type": "code",
   "execution_count": 59,
   "metadata": {},
   "outputs": [
    {
     "data": {
      "text/plain": [
       "<matplotlib.axes._subplots.AxesSubplot at 0x7f89e09a2860>"
      ]
     },
     "execution_count": 59,
     "metadata": {},
     "output_type": "execute_result"
    },
    {
     "data": {
      "image/png": "[encoded data removed]",
      "text/plain": [
       "<Figure size 432x288 with 1 Axes>"
      ]
     },
     "metadata": {
      "needs_background": "light"
     },
     "output_type": "display_data"
    }
   ],
   "source": [
    "#ENST00000636285.1\n",
    "sns.distplot(filtered_counts[filtered_counts.index == 'ENST00000636285.1'].iloc[0])"
   ]
  },
  {
   "cell_type": "code",
   "execution_count": 60,
   "metadata": {},
   "outputs": [
    {
     "data": {
      "text/plain": [
       "<matplotlib.axes._subplots.AxesSubplot at 0x7f89e0a755f8>"
      ]
     },
     "execution_count": 60,
     "metadata": {},
     "output_type": "execute_result"
    },
    {
     "data": {
      "image/png": "[encoded data removed]",
      "text/plain": [
       "<Figure size 432x288 with 1 Axes>"
      ]
     },
     "metadata": {
      "needs_background": "light"
     },
     "output_type": "display_data"
    }
   ],
   "source": [
    "#ENST00000362134.1\n",
    "sns.distplot(filtered_counts[filtered_counts.index == 'ENST00000362134.1'].iloc[0])"
   ]
  },
  {
   "cell_type": "code",
   "execution_count": 63,
   "metadata": {},
   "outputs": [
    {
     "data": {
      "text/html": [
       "<div>\n",
       "<style scoped>\n",
       "    .dataframe tbody tr th:only-of-type {\n",
       "        vertical-align: middle;\n",
       "    }\n",
       "\n",
       "    .dataframe tbody tr th {\n",
       "        vertical-align: top;\n",
       "    }\n",
       "\n",
       "    .dataframe thead th {\n",
       "        text-align: right;\n",
       "    }\n",
       "</style>\n",
       "<table border=\"1\" class=\"dataframe\">\n",
       "  <thead>\n",
       "    <tr style=\"text-align: right;\">\n",
       "      <th></th>\n",
       "      <th>baseMean</th>\n",
       "      <th>log2FoldChange</th>\n",
       "      <th>lfcSE</th>\n",
       "      <th>pvalue</th>\n",
       "      <th>padj</th>\n",
       "    </tr>\n",
       "  </thead>\n",
       "  <tbody>\n",
       "    <tr>\n",
       "      <th>ENST00000629190.1</th>\n",
       "      <td>1.257143</td>\n",
       "      <td>0.000005</td>\n",
       "      <td>0.001443</td>\n",
       "      <td>0.123150</td>\n",
       "      <td>1</td>\n",
       "    </tr>\n",
       "    <tr>\n",
       "      <th>ENST00000390223.3</th>\n",
       "      <td>1.142857</td>\n",
       "      <td>-0.000003</td>\n",
       "      <td>0.001443</td>\n",
       "      <td>0.333990</td>\n",
       "      <td>1</td>\n",
       "    </tr>\n",
       "    <tr>\n",
       "      <th>ENST00000627649.2</th>\n",
       "      <td>1.200000</td>\n",
       "      <td>0.000002</td>\n",
       "      <td>0.001443</td>\n",
       "      <td>0.398819</td>\n",
       "      <td>1</td>\n",
       "    </tr>\n",
       "    <tr>\n",
       "      <th>ENST00000615959.1</th>\n",
       "      <td>1.057143</td>\n",
       "      <td>-0.000002</td>\n",
       "      <td>0.001443</td>\n",
       "      <td>0.523176</td>\n",
       "      <td>1</td>\n",
       "    </tr>\n",
       "    <tr>\n",
       "      <th>ENST00000581792.1</th>\n",
       "      <td>1.057143</td>\n",
       "      <td>-0.000002</td>\n",
       "      <td>0.001443</td>\n",
       "      <td>0.523176</td>\n",
       "      <td>1</td>\n",
       "    </tr>\n",
       "  </tbody>\n",
       "</table>\n",
       "</div>"
      ],
      "text/plain": [
       "                   baseMean  log2FoldChange     lfcSE    pvalue  padj\n",
       "ENST00000629190.1  1.257143        0.000005  0.001443  0.123150     1\n",
       "ENST00000390223.3  1.142857       -0.000003  0.001443  0.333990     1\n",
       "ENST00000627649.2  1.200000        0.000002  0.001443  0.398819     1\n",
       "ENST00000615959.1  1.057143       -0.000002  0.001443  0.523176     1\n",
       "ENST00000581792.1  1.057143       -0.000002  0.001443  0.523176     1"
      ]
     },
     "execution_count": 63,
     "metadata": {},
     "output_type": "execute_result"
    }
   ],
   "source": [
    "deseq_output = pd.read_csv(\"../../ordered (1).csv\",index_col =0)\n",
    "deseq_output.head()"
   ]
  },
  {
   "cell_type": "code",
   "execution_count": 67,
   "metadata": {},
   "outputs": [],
   "source": [
    "idx_list = ['ENST00000621981.1','ENST00000362134.1','ENST00000636285.1','ENST00000385140.1','ENST00000384835.3',\n",
    "           'ENST00000362202.3','ENST00000362116.3','ENST00000385255.3','ENST00000362251.4']\n",
    "significants = deseq_output[deseq_output.index.isin(idx_list)]"
   ]
  },
  {
   "cell_type": "code",
   "execution_count": 71,
   "metadata": {},
   "outputs": [
    {
     "data": {
      "text/html": [
       "<div>\n",
       "<style scoped>\n",
       "    .dataframe tbody tr th:only-of-type {\n",
       "        vertical-align: middle;\n",
       "    }\n",
       "\n",
       "    .dataframe tbody tr th {\n",
       "        vertical-align: top;\n",
       "    }\n",
       "\n",
       "    .dataframe thead th {\n",
       "        text-align: right;\n",
       "    }\n",
       "</style>\n",
       "<table border=\"1\" class=\"dataframe\">\n",
       "  <thead>\n",
       "    <tr style=\"text-align: right;\">\n",
       "      <th></th>\n",
       "      <th>log2FoldChange</th>\n",
       "      <th>pvalue</th>\n",
       "      <th>baseMean</th>\n",
       "      <th>lfcSE</th>\n",
       "    </tr>\n",
       "  </thead>\n",
       "  <tbody>\n",
       "    <tr>\n",
       "      <th>log2FoldChange</th>\n",
       "      <td>1.000000</td>\n",
       "      <td>-0.642241</td>\n",
       "      <td>-0.281581</td>\n",
       "      <td>0.228181</td>\n",
       "    </tr>\n",
       "    <tr>\n",
       "      <th>pvalue</th>\n",
       "      <td>-0.642241</td>\n",
       "      <td>1.000000</td>\n",
       "      <td>0.266532</td>\n",
       "      <td>-0.314335</td>\n",
       "    </tr>\n",
       "    <tr>\n",
       "      <th>baseMean</th>\n",
       "      <td>-0.281581</td>\n",
       "      <td>0.266532</td>\n",
       "      <td>1.000000</td>\n",
       "      <td>-0.963809</td>\n",
       "    </tr>\n",
       "    <tr>\n",
       "      <th>lfcSE</th>\n",
       "      <td>0.228181</td>\n",
       "      <td>-0.314335</td>\n",
       "      <td>-0.963809</td>\n",
       "      <td>1.000000</td>\n",
       "    </tr>\n",
       "  </tbody>\n",
       "</table>\n",
       "</div>"
      ],
      "text/plain": [
       "                log2FoldChange    pvalue  baseMean     lfcSE\n",
       "log2FoldChange        1.000000 -0.642241 -0.281581  0.228181\n",
       "pvalue               -0.642241  1.000000  0.266532 -0.314335\n",
       "baseMean             -0.281581  0.266532  1.000000 -0.963809\n",
       "lfcSE                 0.228181 -0.314335 -0.963809  1.000000"
      ]
     },
     "execution_count": 71,
     "metadata": {},
     "output_type": "execute_result"
    }
   ],
   "source": [
    "significants[['log2FoldChange','pvalue','baseMean','lfcSE']].corr()"
   ]
  },
  {
   "cell_type": "code",
   "execution_count": 72,
   "metadata": {},
   "outputs": [
    {
     "data": {
      "text/plain": [
       "<matplotlib.axes._subplots.AxesSubplot at 0x7f89e1210080>"
      ]
     },
     "execution_count": 72,
     "metadata": {},
     "output_type": "execute_result"
    },
    {
     "data": {
      "image/png": "[encoded data removed]",
      "text/plain": [
       "<Figure size 432x288 with 2 Axes>"
      ]
     },
     "metadata": {
      "needs_background": "light"
     },
     "output_type": "display_data"
    }
   ],
   "source": [
    "cmap = sns.diverging_palette(230, 20, as_cmap=True)\n",
    "sns.heatmap(significants[['log2FoldChange','pvalue','baseMean','lfcSE']].corr(),cmap=cmap,linewidths=.5)"
   ]
  },
  {
   "cell_type": "code",
   "execution_count": 5,
   "metadata": {},
   "outputs": [
    {
     "data": {
      "text/html": [
       "<div>\n",
       "<style scoped>\n",
       "    .dataframe tbody tr th:only-of-type {\n",
       "        vertical-align: middle;\n",
       "    }\n",
       "\n",
       "    .dataframe tbody tr th {\n",
       "        vertical-align: top;\n",
       "    }\n",
       "\n",
       "    .dataframe thead th {\n",
       "        text-align: right;\n",
       "    }\n",
       "</style>\n",
       "<table border=\"1\" class=\"dataframe\">\n",
       "  <thead>\n",
       "    <tr style=\"text-align: right;\">\n",
       "      <th></th>\n",
       "      <th>statistic</th>\n",
       "      <th>p.value</th>\n",
       "      <th>method</th>\n",
       "      <th>alternative</th>\n",
       "      <th>log2fold</th>\n",
       "    </tr>\n",
       "  </thead>\n",
       "  <tbody>\n",
       "    <tr>\n",
       "      <th>1</th>\n",
       "      <td>1081</td>\n",
       "      <td>1.235009e-11</td>\n",
       "      <td>Wilcoxon signed rank test with continuity corr...</td>\n",
       "      <td>two.sided</td>\n",
       "      <td>-0.035624</td>\n",
       "    </tr>\n",
       "    <tr>\n",
       "      <th>2</th>\n",
       "      <td>1081</td>\n",
       "      <td>1.972092e-11</td>\n",
       "      <td>Wilcoxon signed rank test with continuity corr...</td>\n",
       "      <td>two.sided</td>\n",
       "      <td>0.015597</td>\n",
       "    </tr>\n",
       "    <tr>\n",
       "      <th>3</th>\n",
       "      <td>1081</td>\n",
       "      <td>1.235009e-11</td>\n",
       "      <td>Wilcoxon signed rank test with continuity corr...</td>\n",
       "      <td>two.sided</td>\n",
       "      <td>-0.035624</td>\n",
       "    </tr>\n",
       "    <tr>\n",
       "      <th>4</th>\n",
       "      <td>1081</td>\n",
       "      <td>1.972092e-11</td>\n",
       "      <td>Wilcoxon signed rank test with continuity corr...</td>\n",
       "      <td>two.sided</td>\n",
       "      <td>-0.006755</td>\n",
       "    </tr>\n",
       "    <tr>\n",
       "      <th>5</th>\n",
       "      <td>1081</td>\n",
       "      <td>1.235009e-11</td>\n",
       "      <td>Wilcoxon signed rank test with continuity corr...</td>\n",
       "      <td>two.sided</td>\n",
       "      <td>-0.137504</td>\n",
       "    </tr>\n",
       "  </tbody>\n",
       "</table>\n",
       "</div>"
      ],
      "text/plain": [
       "   statistic       p.value                                             method  \\\n",
       "1       1081  1.235009e-11  Wilcoxon signed rank test with continuity corr...   \n",
       "2       1081  1.972092e-11  Wilcoxon signed rank test with continuity corr...   \n",
       "3       1081  1.235009e-11  Wilcoxon signed rank test with continuity corr...   \n",
       "4       1081  1.972092e-11  Wilcoxon signed rank test with continuity corr...   \n",
       "5       1081  1.235009e-11  Wilcoxon signed rank test with continuity corr...   \n",
       "\n",
       "  alternative  log2fold  \n",
       "1   two.sided -0.035624  \n",
       "2   two.sided  0.015597  \n",
       "3   two.sided -0.035624  \n",
       "4   two.sided -0.006755  \n",
       "5   two.sided -0.137504  "
      ]
     },
     "execution_count": 5,
     "metadata": {},
     "output_type": "execute_result"
    }
   ],
   "source": [
    "wilcox_heatmap_values = pd.read_csv('../../wilcox_r.csv',sep=\" \")\n",
    "wilcox_heatmap_values.head()"
   ]
  },
  {
   "cell_type": "code",
   "execution_count": 6,
   "metadata": {},
   "outputs": [
    {
     "data": {
      "text/plain": [
       "<matplotlib.axes._subplots.AxesSubplot at 0x7fb155a69780>"
      ]
     },
     "execution_count": 6,
     "metadata": {},
     "output_type": "execute_result"
    },
    {
     "data": {
      "image/png": "[encoded data removed]",
      "text/plain": [
       "<Figure size 432x288 with 2 Axes>"
      ]
     },
     "metadata": {
      "needs_background": "light"
     },
     "output_type": "display_data"
    }
   ],
   "source": [
    "cmap = sns.diverging_palette(230, 20, as_cmap=True)\n",
    "sns.heatmap(wilcox_heatmap_values[['p.value','log2fold']].corr(),cmap=cmap,linewidths=.5)"
   ]
  },
  {
   "cell_type": "code",
   "execution_count": 10,
   "metadata": {},
   "outputs": [
    {
     "data": {
      "text/plain": [
       "<matplotlib.axes._subplots.AxesSubplot at 0x7fb15636ba90>"
      ]
     },
     "execution_count": 10,
     "metadata": {},
     "output_type": "execute_result"
    },
    {
     "data": {
      "image/png": "[encoded data removed]",
      "text/plain": [
       "<Figure size 432x288 with 1 Axes>"
      ]
     },
     "metadata": {
      "needs_background": "light"
     },
     "output_type": "display_data"
    }
   ],
   "source": [
    "sns.scatterplot(data = wilcox_heatmap_values, x='log2fold',y='p.value')"
   ]
  },
  {
   "cell_type": "code",
   "execution_count": null,
   "metadata": {},
   "outputs": [],
   "source": []
  }
 ],
 "metadata": {
  "kernelspec": {
   "display_name": "Python 3",
   "language": "python",
   "name": "python3"
  },
  "language_info": {
   "codemirror_mode": {
    "name": "ipython",
    "version": 3
   },
   "file_extension": ".py",
   "mimetype": "text/x-python",
   "name": "python",
   "nbconvert_exporter": "python",
   "pygments_lexer": "ipython3",
   "version": "3.7.6"
  }
 },
 "nbformat": 4,
 "nbformat_minor": 4
}
