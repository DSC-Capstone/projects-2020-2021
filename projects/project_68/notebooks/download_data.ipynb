{
 "cells": [
  {
   "cell_type": "code",
   "execution_count": 1,
   "metadata": {},
   "outputs": [],
   "source": [
    "import os\n",
    "import json\n",
    "import glob\n",
    "import numpy as np \n",
    "import pandas as pd\n",
    "import subprocess"
   ]
  },
  {
   "cell_type": "code",
   "execution_count": 18,
   "metadata": {},
   "outputs": [],
   "source": [
    "with open('CTRL_Acc_List.txt') as my_file:\n",
    "    ctrl = my_file.read().splitlines()"
   ]
  },
  {
   "cell_type": "code",
   "execution_count": 19,
   "metadata": {},
   "outputs": [],
   "source": [
    "with open('ESBL_Acc_List.txt') as my_file:\n",
    "    esbl = my_file.read().splitlines()"
   ]
  },
  {
   "cell_type": "code",
   "execution_count": 27,
   "metadata": {},
   "outputs": [
    {
     "data": {
      "text/plain": [
       "'DRR242140'"
      ]
     },
     "execution_count": 27,
     "metadata": {},
     "output_type": "execute_result"
    }
   ],
   "source": [
    "esbl[0]"
   ]
  },
  {
   "cell_type": "code",
   "execution_count": 47,
   "metadata": {},
   "outputs": [
    {
     "data": {
      "text/plain": [
       "['DRR242140',\n",
       " 'DRR242142',\n",
       " 'DRR242145',\n",
       " 'DRR242147',\n",
       " 'DRR242150',\n",
       " 'DRR242151',\n",
       " 'DRR242152',\n",
       " 'DRR242153',\n",
       " 'DRR242154',\n",
       " 'DRR242155',\n",
       " 'DRR242156',\n",
       " 'DRR242157',\n",
       " 'DRR242158',\n",
       " 'DRR242159',\n",
       " 'DRR242160',\n",
       " 'DRR242161',\n",
       " 'DRR242162',\n",
       " 'DRR242163',\n",
       " 'DRR242164',\n",
       " 'DRR242165',\n",
       " 'DRR242167',\n",
       " 'DRR242168',\n",
       " 'DRR242169',\n",
       " 'DRR242170',\n",
       " 'DRR242171',\n",
       " 'DRR242173',\n",
       " 'DRR242174',\n",
       " 'DRR242176',\n",
       " 'DRR242177',\n",
       " 'DRR242178',\n",
       " 'DRR242180',\n",
       " 'DRR242181',\n",
       " 'DRR242182',\n",
       " 'DRR242183',\n",
       " 'DRR242184',\n",
       " 'DRR242185']"
      ]
     },
     "execution_count": 47,
     "metadata": {},
     "output_type": "execute_result"
    }
   ],
   "source": [
    "esbl"
   ]
  },
  {
   "cell_type": "code",
   "execution_count": 35,
   "metadata": {},
   "outputs": [],
   "source": [
    "srr = 'ftp://ftp.sra.ebi.ac.uk/vol1/fastq/SRR100/051/SRR10001251/'\n",
    "drr = 'ftp://ftp.sra.ebi.ac.uk/vol1/fastq/DRR242/DRR242140/'\n",
    "\n",
    "command1 = 'wget ftp://ftp.sra.ebi.ac.uk/vol1/fastq/SRR100/051/SRR10001251/SRR10001251_1.fastq.gz -P /teams/DSC180A_FA20_A00/b04genetics/group_3/ctrl/'\n"
   ]
  },
  {
   "cell_type": "code",
   "execution_count": 46,
   "metadata": {},
   "outputs": [
    {
     "name": "stdout",
     "output_type": "stream",
     "text": [
      "SRR10001251_1.fastq.gz has been saved!\n",
      "SRR10001251_2.fastq.gz has been saved!\n",
      "SRR10018351_1.fastq.gz has been saved!\n",
      "SRR10018351_2.fastq.gz has been saved!\n",
      "SRR10001259_1.fastq.gz has been saved!\n",
      "SRR10001259_2.fastq.gz has been saved!\n",
      "SRR10001268_1.fastq.gz has been saved!\n",
      "SRR10001268_2.fastq.gz has been saved!\n",
      "SRR10012673_1.fastq.gz has been saved!\n",
      "SRR10012673_2.fastq.gz has been saved!\n",
      "SRR10012674_1.fastq.gz has been saved!\n",
      "SRR10012674_2.fastq.gz has been saved!\n",
      "SRR10012676_1.fastq.gz has been saved!\n",
      "SRR10012676_2.fastq.gz has been saved!\n",
      "SRR10012677_1.fastq.gz has been saved!\n",
      "SRR10012677_2.fastq.gz has been saved!\n",
      "SRR10012698_1.fastq.gz has been saved!\n",
      "SRR10012698_2.fastq.gz has been saved!\n",
      "SRR10012702_1.fastq.gz has been saved!\n",
      "SRR10012702_2.fastq.gz has been saved!\n",
      "SRR10012704_1.fastq.gz has been saved!\n",
      "SRR10012704_2.fastq.gz has been saved!\n",
      "SRR10012906_1.fastq.gz has been saved!\n",
      "SRR10012906_2.fastq.gz has been saved!\n",
      "SRR10012913_1.fastq.gz has been saved!\n",
      "SRR10012913_2.fastq.gz has been saved!\n",
      "SRR10013003_1.fastq.gz has been saved!\n",
      "SRR10013003_2.fastq.gz has been saved!\n",
      "SRR10013021_1.fastq.gz has been saved!\n",
      "SRR10013021_2.fastq.gz has been saved!\n",
      "SRR10013010_1.fastq.gz has been saved!\n",
      "SRR10013010_2.fastq.gz has been saved!\n",
      "SRR10013022_1.fastq.gz has been saved!\n",
      "SRR10013022_2.fastq.gz has been saved!\n",
      "SRR10013025_1.fastq.gz has been saved!\n",
      "SRR10013025_2.fastq.gz has been saved!\n",
      "SRR10013029_1.fastq.gz has been saved!\n",
      "SRR10013029_2.fastq.gz has been saved!\n",
      "SRR10013030_1.fastq.gz has been saved!\n",
      "SRR10013030_2.fastq.gz has been saved!\n",
      "SRR10013032_1.fastq.gz has been saved!\n",
      "SRR10013032_2.fastq.gz has been saved!\n",
      "SRR10013114_1.fastq.gz has been saved!\n",
      "SRR10013114_2.fastq.gz has been saved!\n",
      "SRR10013117_1.fastq.gz has been saved!\n",
      "SRR10013117_2.fastq.gz has been saved!\n",
      "SRR10013127_1.fastq.gz has been saved!\n",
      "SRR10013127_2.fastq.gz has been saved!\n",
      "SRR10013130_1.fastq.gz has been saved!\n",
      "SRR10013130_2.fastq.gz has been saved!\n",
      "SRR10013322_1.fastq.gz has been saved!\n",
      "SRR10013322_2.fastq.gz has been saved!\n",
      "SRR10013157_1.fastq.gz has been saved!\n",
      "SRR10013157_2.fastq.gz has been saved!\n",
      "SRR10013348_1.fastq.gz has been saved!\n",
      "SRR10013348_2.fastq.gz has been saved!\n",
      "SRR10013353_1.fastq.gz has been saved!\n",
      "SRR10013353_2.fastq.gz has been saved!\n",
      "SRR10013371_1.fastq.gz has been saved!\n",
      "SRR10013371_2.fastq.gz has been saved!\n",
      "SRR10013397_1.fastq.gz has been saved!\n",
      "SRR10013397_2.fastq.gz has been saved!\n",
      "SRR10013400_1.fastq.gz has been saved!\n",
      "SRR10013400_2.fastq.gz has been saved!\n",
      "SRR10013405_1.fastq.gz has been saved!\n",
      "SRR10013405_2.fastq.gz has been saved!\n",
      "SRR10013432_1.fastq.gz has been saved!\n",
      "SRR10013432_2.fastq.gz has been saved!\n",
      "SRR10013439_1.fastq.gz has been saved!\n",
      "SRR10013439_2.fastq.gz has been saved!\n",
      "SRR10013442_1.fastq.gz has been saved!\n",
      "SRR10013442_2.fastq.gz has been saved!\n"
     ]
    }
   ],
   "source": [
    "for srr in ctrl:\n",
    "    command1 = f\"wget ftp://ftp.sra.ebi.ac.uk/vol1/fastq/SRR100/0{srr[-2:]}/{srr}/{srr}_1.fastq.gz -P /teams/DSC180A_FA20_A00/b04genetics/group_3/ctrl/\"\n",
    "    command2 = f\"wget ftp://ftp.sra.ebi.ac.uk/vol1/fastq/SRR100/0{srr[-2:]}/{srr}/{srr}_2.fastq.gz -P /teams/DSC180A_FA20_A00/b04genetics/group_3/ctrl/\"\n",
    "    os.system(command1)\n",
    "    print(srr + \"_1.fastq.gz has been saved!\")\n",
    "    os.system(command2)\n",
    "    print(srr + \"_2.fastq.gz has been saved!\")"
   ]
  },
  {
   "cell_type": "code",
   "execution_count": 49,
   "metadata": {},
   "outputs": [
    {
     "name": "stdout",
     "output_type": "stream",
     "text": [
      "DRR242140_1.fastq.gz has been saved!\n",
      "DRR242140_2.fastq.gz has been saved!\n",
      "DRR242142_1.fastq.gz has been saved!\n",
      "DRR242142_2.fastq.gz has been saved!\n",
      "DRR242145_1.fastq.gz has been saved!\n",
      "DRR242145_2.fastq.gz has been saved!\n",
      "DRR242147_1.fastq.gz has been saved!\n",
      "DRR242147_2.fastq.gz has been saved!\n",
      "DRR242150_1.fastq.gz has been saved!\n",
      "DRR242150_2.fastq.gz has been saved!\n",
      "DRR242151_1.fastq.gz has been saved!\n",
      "DRR242151_2.fastq.gz has been saved!\n",
      "DRR242152_1.fastq.gz has been saved!\n",
      "DRR242152_2.fastq.gz has been saved!\n",
      "DRR242153_1.fastq.gz has been saved!\n",
      "DRR242153_2.fastq.gz has been saved!\n",
      "DRR242154_1.fastq.gz has been saved!\n",
      "DRR242154_2.fastq.gz has been saved!\n",
      "DRR242155_1.fastq.gz has been saved!\n",
      "DRR242155_2.fastq.gz has been saved!\n",
      "DRR242156_1.fastq.gz has been saved!\n",
      "DRR242156_2.fastq.gz has been saved!\n",
      "DRR242157_1.fastq.gz has been saved!\n",
      "DRR242157_2.fastq.gz has been saved!\n",
      "DRR242158_1.fastq.gz has been saved!\n",
      "DRR242158_2.fastq.gz has been saved!\n",
      "DRR242159_1.fastq.gz has been saved!\n",
      "DRR242159_2.fastq.gz has been saved!\n",
      "DRR242160_1.fastq.gz has been saved!\n",
      "DRR242160_2.fastq.gz has been saved!\n",
      "DRR242161_1.fastq.gz has been saved!\n",
      "DRR242161_2.fastq.gz has been saved!\n",
      "DRR242162_1.fastq.gz has been saved!\n",
      "DRR242162_2.fastq.gz has been saved!\n",
      "DRR242163_1.fastq.gz has been saved!\n",
      "DRR242163_2.fastq.gz has been saved!\n",
      "DRR242164_1.fastq.gz has been saved!\n",
      "DRR242164_2.fastq.gz has been saved!\n",
      "DRR242165_1.fastq.gz has been saved!\n",
      "DRR242165_2.fastq.gz has been saved!\n",
      "DRR242167_1.fastq.gz has been saved!\n",
      "DRR242167_2.fastq.gz has been saved!\n",
      "DRR242168_1.fastq.gz has been saved!\n",
      "DRR242168_2.fastq.gz has been saved!\n",
      "DRR242169_1.fastq.gz has been saved!\n",
      "DRR242169_2.fastq.gz has been saved!\n",
      "DRR242170_1.fastq.gz has been saved!\n",
      "DRR242170_2.fastq.gz has been saved!\n",
      "DRR242171_1.fastq.gz has been saved!\n",
      "DRR242171_2.fastq.gz has been saved!\n",
      "DRR242173_1.fastq.gz has been saved!\n",
      "DRR242173_2.fastq.gz has been saved!\n",
      "DRR242174_1.fastq.gz has been saved!\n",
      "DRR242174_2.fastq.gz has been saved!\n",
      "DRR242176_1.fastq.gz has been saved!\n",
      "DRR242176_2.fastq.gz has been saved!\n",
      "DRR242177_1.fastq.gz has been saved!\n",
      "DRR242177_2.fastq.gz has been saved!\n",
      "DRR242178_1.fastq.gz has been saved!\n",
      "DRR242178_2.fastq.gz has been saved!\n",
      "DRR242180_1.fastq.gz has been saved!\n",
      "DRR242180_2.fastq.gz has been saved!\n",
      "DRR242181_1.fastq.gz has been saved!\n",
      "DRR242181_2.fastq.gz has been saved!\n",
      "DRR242182_1.fastq.gz has been saved!\n",
      "DRR242182_2.fastq.gz has been saved!\n",
      "DRR242183_1.fastq.gz has been saved!\n",
      "DRR242183_2.fastq.gz has been saved!\n",
      "DRR242184_1.fastq.gz has been saved!\n",
      "DRR242184_2.fastq.gz has been saved!\n",
      "DRR242185_1.fastq.gz has been saved!\n",
      "DRR242185_2.fastq.gz has been saved!\n"
     ]
    }
   ],
   "source": [
    "for drr in esbl:\n",
    "    command1 = f\"wget ftp://ftp.sra.ebi.ac.uk/vol1/fastq/DRR242/{drr}/{drr}_1.fastq.gz -P /teams/DSC180A_FA20_A00/b04genetics/group_3/esbl/\"\n",
    "    command2 = f\"wget ftp://ftp.sra.ebi.ac.uk/vol1/fastq/DRR242/{drr}/{drr}_2.fastq.gz -P /teams/DSC180A_FA20_A00/b04genetics/group_3/esbl/\"\n",
    "    os.system(command1)\n",
    "    print(drr + \"_1.fastq.gz has been saved!\")\n",
    "    os.system(command2)\n",
    "    print(drr + \"_2.fastq.gz has been saved!\")"
   ]
  }
 ],
 "metadata": {
  "kernelspec": {
   "display_name": "Python 3",
   "language": "python",
   "name": "python3"
  },
  "language_info": {
   "codemirror_mode": {
    "name": "ipython",
    "version": 3
   },
   "file_extension": ".py",
   "mimetype": "text/x-python",
   "name": "python",
   "nbconvert_exporter": "python",
   "pygments_lexer": "ipython3",
   "version": "3.7.6"
  }
 },
 "nbformat": 4,
 "nbformat_minor": 4
}
