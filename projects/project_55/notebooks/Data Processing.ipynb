{
 "cells": [
  {
   "cell_type": "markdown",
   "metadata": {},
   "source": [
    "# Data Processing"
   ]
  },
  {
   "cell_type": "code",
   "execution_count": 1,
   "metadata": {},
   "outputs": [],
   "source": [
    "import pandas as pd\n",
    "from sklearn.preprocessing import MinMaxScaler\n",
    "from matplotlib import pyplot as plt\n",
    "import datetime as dt\n",
    "import numpy as np"
   ]
  },
  {
   "cell_type": "markdown",
   "metadata": {},
   "source": [
    "## 1. Load raw data\n",
    "The dataset is the minute transaction data of the index NIFTY 100 for the past 3 years, obtained at https://www.kaggle.com/hk7797/stock-market-india"
   ]
  },
  {
   "cell_type": "code",
   "execution_count": 2,
   "metadata": {},
   "outputs": [
    {
     "data": {
      "text/html": [
       "<div>\n",
       "<style scoped>\n",
       "    .dataframe tbody tr th:only-of-type {\n",
       "        vertical-align: middle;\n",
       "    }\n",
       "\n",
       "    .dataframe tbody tr th {\n",
       "        vertical-align: top;\n",
       "    }\n",
       "\n",
       "    .dataframe thead th {\n",
       "        text-align: right;\n",
       "    }\n",
       "</style>\n",
       "<table border=\"1\" class=\"dataframe\">\n",
       "  <thead>\n",
       "    <tr style=\"text-align: right;\">\n",
       "      <th></th>\n",
       "      <th>timestamp</th>\n",
       "      <th>open</th>\n",
       "      <th>high</th>\n",
       "      <th>low</th>\n",
       "      <th>close</th>\n",
       "      <th>volume</th>\n",
       "    </tr>\n",
       "  </thead>\n",
       "  <tbody>\n",
       "    <tr>\n",
       "      <th>0</th>\n",
       "      <td>2017-01-02 09:15:00+05:30</td>\n",
       "      <td>8409.60</td>\n",
       "      <td>8409.75</td>\n",
       "      <td>8390.75</td>\n",
       "      <td>8391.10</td>\n",
       "      <td>0.0</td>\n",
       "    </tr>\n",
       "    <tr>\n",
       "      <th>1</th>\n",
       "      <td>2017-01-02 09:16:00+05:30</td>\n",
       "      <td>8391.85</td>\n",
       "      <td>8395.35</td>\n",
       "      <td>8390.40</td>\n",
       "      <td>8391.15</td>\n",
       "      <td>0.0</td>\n",
       "    </tr>\n",
       "    <tr>\n",
       "      <th>2</th>\n",
       "      <td>2017-01-02 09:17:00+05:30</td>\n",
       "      <td>8391.15</td>\n",
       "      <td>8391.55</td>\n",
       "      <td>8373.60</td>\n",
       "      <td>8373.60</td>\n",
       "      <td>0.0</td>\n",
       "    </tr>\n",
       "    <tr>\n",
       "      <th>3</th>\n",
       "      <td>2017-01-02 09:18:00+05:30</td>\n",
       "      <td>8373.60</td>\n",
       "      <td>8376.75</td>\n",
       "      <td>8369.90</td>\n",
       "      <td>8376.75</td>\n",
       "      <td>0.0</td>\n",
       "    </tr>\n",
       "    <tr>\n",
       "      <th>4</th>\n",
       "      <td>2017-01-02 09:19:00+05:30</td>\n",
       "      <td>8376.95</td>\n",
       "      <td>8377.25</td>\n",
       "      <td>8372.60</td>\n",
       "      <td>8373.70</td>\n",
       "      <td>0.0</td>\n",
       "    </tr>\n",
       "  </tbody>\n",
       "</table>\n",
       "</div>"
      ],
      "text/plain": [
       "                   timestamp     open     high      low    close  volume\n",
       "0  2017-01-02 09:15:00+05:30  8409.60  8409.75  8390.75  8391.10     0.0\n",
       "1  2017-01-02 09:16:00+05:30  8391.85  8395.35  8390.40  8391.15     0.0\n",
       "2  2017-01-02 09:17:00+05:30  8391.15  8391.55  8373.60  8373.60     0.0\n",
       "3  2017-01-02 09:18:00+05:30  8373.60  8376.75  8369.90  8376.75     0.0\n",
       "4  2017-01-02 09:19:00+05:30  8376.95  8377.25  8372.60  8373.70     0.0"
      ]
     },
     "execution_count": 2,
     "metadata": {},
     "output_type": "execute_result"
    }
   ],
   "source": [
    "raw = pd.read_csv('../data/raw data/raw_NIFTY100.csv')\n",
    "raw.head()"
   ]
  },
  {
   "cell_type": "code",
   "execution_count": 3,
   "metadata": {
    "scrolled": true
   },
   "outputs": [
    {
     "data": {
      "text/html": [
       "<div>\n",
       "<style scoped>\n",
       "    .dataframe tbody tr th:only-of-type {\n",
       "        vertical-align: middle;\n",
       "    }\n",
       "\n",
       "    .dataframe tbody tr th {\n",
       "        vertical-align: top;\n",
       "    }\n",
       "\n",
       "    .dataframe thead th {\n",
       "        text-align: right;\n",
       "    }\n",
       "</style>\n",
       "<table border=\"1\" class=\"dataframe\">\n",
       "  <thead>\n",
       "    <tr style=\"text-align: right;\">\n",
       "      <th></th>\n",
       "      <th>timestamp</th>\n",
       "      <th>open</th>\n",
       "      <th>high</th>\n",
       "      <th>low</th>\n",
       "      <th>close</th>\n",
       "      <th>volume</th>\n",
       "      <th>date</th>\n",
       "      <th>minute</th>\n",
       "    </tr>\n",
       "  </thead>\n",
       "  <tbody>\n",
       "    <tr>\n",
       "      <th>0</th>\n",
       "      <td>2017-01-02 09:15:00+05:30</td>\n",
       "      <td>8409.60</td>\n",
       "      <td>8409.75</td>\n",
       "      <td>8390.75</td>\n",
       "      <td>8391.10</td>\n",
       "      <td>0.0</td>\n",
       "      <td>2017-01-02</td>\n",
       "      <td>09:15:00</td>\n",
       "    </tr>\n",
       "    <tr>\n",
       "      <th>1</th>\n",
       "      <td>2017-01-02 09:16:00+05:30</td>\n",
       "      <td>8391.85</td>\n",
       "      <td>8395.35</td>\n",
       "      <td>8390.40</td>\n",
       "      <td>8391.15</td>\n",
       "      <td>0.0</td>\n",
       "      <td>2017-01-02</td>\n",
       "      <td>09:16:00</td>\n",
       "    </tr>\n",
       "    <tr>\n",
       "      <th>2</th>\n",
       "      <td>2017-01-02 09:17:00+05:30</td>\n",
       "      <td>8391.15</td>\n",
       "      <td>8391.55</td>\n",
       "      <td>8373.60</td>\n",
       "      <td>8373.60</td>\n",
       "      <td>0.0</td>\n",
       "      <td>2017-01-02</td>\n",
       "      <td>09:17:00</td>\n",
       "    </tr>\n",
       "    <tr>\n",
       "      <th>3</th>\n",
       "      <td>2017-01-02 09:18:00+05:30</td>\n",
       "      <td>8373.60</td>\n",
       "      <td>8376.75</td>\n",
       "      <td>8369.90</td>\n",
       "      <td>8376.75</td>\n",
       "      <td>0.0</td>\n",
       "      <td>2017-01-02</td>\n",
       "      <td>09:18:00</td>\n",
       "    </tr>\n",
       "    <tr>\n",
       "      <th>4</th>\n",
       "      <td>2017-01-02 09:19:00+05:30</td>\n",
       "      <td>8376.95</td>\n",
       "      <td>8377.25</td>\n",
       "      <td>8372.60</td>\n",
       "      <td>8373.70</td>\n",
       "      <td>0.0</td>\n",
       "      <td>2017-01-02</td>\n",
       "      <td>09:19:00</td>\n",
       "    </tr>\n",
       "  </tbody>\n",
       "</table>\n",
       "</div>"
      ],
      "text/plain": [
       "                  timestamp     open     high      low    close  volume  \\\n",
       "0 2017-01-02 09:15:00+05:30  8409.60  8409.75  8390.75  8391.10     0.0   \n",
       "1 2017-01-02 09:16:00+05:30  8391.85  8395.35  8390.40  8391.15     0.0   \n",
       "2 2017-01-02 09:17:00+05:30  8391.15  8391.55  8373.60  8373.60     0.0   \n",
       "3 2017-01-02 09:18:00+05:30  8373.60  8376.75  8369.90  8376.75     0.0   \n",
       "4 2017-01-02 09:19:00+05:30  8376.95  8377.25  8372.60  8373.70     0.0   \n",
       "\n",
       "         date    minute  \n",
       "0  2017-01-02  09:15:00  \n",
       "1  2017-01-02  09:16:00  \n",
       "2  2017-01-02  09:17:00  \n",
       "3  2017-01-02  09:18:00  \n",
       "4  2017-01-02  09:19:00  "
      ]
     },
     "execution_count": 3,
     "metadata": {},
     "output_type": "execute_result"
    }
   ],
   "source": [
    "df = raw.copy()\n",
    "df.timestamp = pd.to_datetime(df.timestamp)\n",
    "df['date'] = df.timestamp.apply(lambda x: x.date)\n",
    "df['minute'] = df.timestamp.apply(lambda x: x.time)\n",
    "\n",
    "# Getting rid of dates where #data points are insufficient\n",
    "a = pd.DataFrame(df.groupby('date').close.count())\n",
    "drop_dates = list(a[a.close < 300].index)\n",
    "df = df[~df.date.isin(drop_dates)]\n",
    "\n",
    "df.head()"
   ]
  },
  {
   "cell_type": "code",
   "execution_count": 4,
   "metadata": {},
   "outputs": [
    {
     "data": {
      "text/plain": [
       "Timestamp('2017-01-02 09:15:00+0530', tz='pytz.FixedOffset(330)')"
      ]
     },
     "execution_count": 4,
     "metadata": {},
     "output_type": "execute_result"
    }
   ],
   "source": [
    "df.timestamp.min()"
   ]
  },
  {
   "cell_type": "code",
   "execution_count": 5,
   "metadata": {},
   "outputs": [
    {
     "data": {
      "text/plain": [
       "Timestamp('2021-01-01 15:29:00+0530', tz='pytz.FixedOffset(330)')"
      ]
     },
     "execution_count": 5,
     "metadata": {},
     "output_type": "execute_result"
    }
   ],
   "source": [
    "df.timestamp.max()"
   ]
  },
  {
   "cell_type": "code",
   "execution_count": 6,
   "metadata": {
    "scrolled": true
   },
   "outputs": [
    {
     "data": {
      "text/plain": [
       "array([375, 336, 372, 374, 361, 373], dtype=int64)"
      ]
     },
     "execution_count": 6,
     "metadata": {},
     "output_type": "execute_result"
    }
   ],
   "source": [
    "df.groupby('date').close.count().unique()"
   ]
  },
  {
   "cell_type": "markdown",
   "metadata": {},
   "source": [
    "## 2. First hour of the market\n",
    "This function is for extracting closing prices during the first hour of market exchange"
   ]
  },
  {
   "cell_type": "code",
   "execution_count": 7,
   "metadata": {},
   "outputs": [],
   "source": [
    "def first_hour(time):\n",
    "    if time.hour == 9:\n",
    "        if time.minute >=15:\n",
    "            return True\n",
    "    elif time.hour == 10:\n",
    "        if time.minute < 15:\n",
    "            return True\n",
    "    else:\n",
    "        return False"
   ]
  },
  {
   "cell_type": "code",
   "execution_count": 8,
   "metadata": {
    "scrolled": false
   },
   "outputs": [
    {
     "data": {
      "text/html": [
       "<div>\n",
       "<style scoped>\n",
       "    .dataframe tbody tr th:only-of-type {\n",
       "        vertical-align: middle;\n",
       "    }\n",
       "\n",
       "    .dataframe tbody tr th {\n",
       "        vertical-align: top;\n",
       "    }\n",
       "\n",
       "    .dataframe thead th {\n",
       "        text-align: right;\n",
       "    }\n",
       "</style>\n",
       "<table border=\"1\" class=\"dataframe\">\n",
       "  <thead>\n",
       "    <tr style=\"text-align: right;\">\n",
       "      <th></th>\n",
       "      <th>close</th>\n",
       "      <th>date</th>\n",
       "      <th>minute</th>\n",
       "    </tr>\n",
       "  </thead>\n",
       "  <tbody>\n",
       "    <tr>\n",
       "      <th>0</th>\n",
       "      <td>8391.10</td>\n",
       "      <td>2017-01-02</td>\n",
       "      <td>09:15:00</td>\n",
       "    </tr>\n",
       "    <tr>\n",
       "      <th>1</th>\n",
       "      <td>8391.15</td>\n",
       "      <td>2017-01-02</td>\n",
       "      <td>09:16:00</td>\n",
       "    </tr>\n",
       "    <tr>\n",
       "      <th>2</th>\n",
       "      <td>8373.60</td>\n",
       "      <td>2017-01-02</td>\n",
       "      <td>09:17:00</td>\n",
       "    </tr>\n",
       "    <tr>\n",
       "      <th>3</th>\n",
       "      <td>8376.75</td>\n",
       "      <td>2017-01-02</td>\n",
       "      <td>09:18:00</td>\n",
       "    </tr>\n",
       "    <tr>\n",
       "      <th>4</th>\n",
       "      <td>8373.70</td>\n",
       "      <td>2017-01-02</td>\n",
       "      <td>09:19:00</td>\n",
       "    </tr>\n",
       "  </tbody>\n",
       "</table>\n",
       "</div>"
      ],
      "text/plain": [
       "     close        date    minute\n",
       "0  8391.10  2017-01-02  09:15:00\n",
       "1  8391.15  2017-01-02  09:16:00\n",
       "2  8373.60  2017-01-02  09:17:00\n",
       "3  8376.75  2017-01-02  09:18:00\n",
       "4  8373.70  2017-01-02  09:19:00"
      ]
     },
     "execution_count": 8,
     "metadata": {},
     "output_type": "execute_result"
    }
   ],
   "source": [
    "first = df.copy()\n",
    "first['temp'] = first.minute.apply(first_hour)\n",
    "first = first[first.temp==True]\n",
    "first = first.drop(['timestamp', 'open', 'high', 'low', 'volume', 'temp'], axis=1)\n",
    "first.head()"
   ]
  },
  {
   "cell_type": "code",
   "execution_count": 9,
   "metadata": {},
   "outputs": [
    {
     "data": {
      "text/plain": [
       "array([60], dtype=int64)"
      ]
     },
     "execution_count": 9,
     "metadata": {},
     "output_type": "execute_result"
    }
   ],
   "source": [
    "first.groupby('date').close.count().unique()"
   ]
  },
  {
   "cell_type": "markdown",
   "metadata": {},
   "source": [
    "- store the dataframe as csv file"
   ]
  },
  {
   "cell_type": "code",
   "execution_count": 10,
   "metadata": {},
   "outputs": [],
   "source": [
    "first.to_csv('../data/processed data/first_combined.csv',index=False)"
   ]
  },
  {
   "cell_type": "code",
   "execution_count": 11,
   "metadata": {},
   "outputs": [
    {
     "data": {
      "text/plain": [
       "((370500, 8), (59280, 3))"
      ]
     },
     "execution_count": 11,
     "metadata": {},
     "output_type": "execute_result"
    }
   ],
   "source": [
    "df.shape, first.shape"
   ]
  },
  {
   "cell_type": "markdown",
   "metadata": {},
   "source": [
    "## 3. Labeling; Whether the price goes up or down that day\n",
    "- If the price goes up, label as 1\n",
    "- If the price goes down or does not change, label as 0"
   ]
  },
  {
   "cell_type": "code",
   "execution_count": 12,
   "metadata": {
    "scrolled": true
   },
   "outputs": [
    {
     "data": {
      "text/html": [
       "<div>\n",
       "<style scoped>\n",
       "    .dataframe tbody tr th:only-of-type {\n",
       "        vertical-align: middle;\n",
       "    }\n",
       "\n",
       "    .dataframe tbody tr th {\n",
       "        vertical-align: top;\n",
       "    }\n",
       "\n",
       "    .dataframe thead th {\n",
       "        text-align: right;\n",
       "    }\n",
       "</style>\n",
       "<table border=\"1\" class=\"dataframe\">\n",
       "  <thead>\n",
       "    <tr style=\"text-align: right;\">\n",
       "      <th></th>\n",
       "      <th>date</th>\n",
       "      <th>label</th>\n",
       "    </tr>\n",
       "  </thead>\n",
       "  <tbody>\n",
       "    <tr>\n",
       "      <th>0</th>\n",
       "      <td>2017-01-02</td>\n",
       "      <td>0</td>\n",
       "    </tr>\n",
       "    <tr>\n",
       "      <th>0</th>\n",
       "      <td>2017-01-03</td>\n",
       "      <td>1</td>\n",
       "    </tr>\n",
       "    <tr>\n",
       "      <th>0</th>\n",
       "      <td>2017-01-04</td>\n",
       "      <td>0</td>\n",
       "    </tr>\n",
       "    <tr>\n",
       "      <th>0</th>\n",
       "      <td>2017-01-05</td>\n",
       "      <td>1</td>\n",
       "    </tr>\n",
       "    <tr>\n",
       "      <th>0</th>\n",
       "      <td>2017-01-06</td>\n",
       "      <td>0</td>\n",
       "    </tr>\n",
       "  </tbody>\n",
       "</table>\n",
       "</div>"
      ],
      "text/plain": [
       "         date label\n",
       "0  2017-01-02     0\n",
       "0  2017-01-03     1\n",
       "0  2017-01-04     0\n",
       "0  2017-01-05     1\n",
       "0  2017-01-06     0"
      ]
     },
     "execution_count": 12,
     "metadata": {},
     "output_type": "execute_result"
    }
   ],
   "source": [
    "label = pd.DataFrame()\n",
    "for date in df.date.unique():\n",
    "    day = df[df.date==date]\n",
    "    day = day.sort_values('minute')\n",
    "    first_open = day.iloc[0].open\n",
    "    last_close = day.iloc[-1].close\n",
    "    temp = pd.DataFrame([[date, first_open, last_close]])\n",
    "    label = label.append(temp)\n",
    "\n",
    "\n",
    "label.columns = ['date','open','close']\n",
    "label['diff'] = label.close - label.open\n",
    "\n",
    "def label_convert(diff):\n",
    "    if diff > 0:\n",
    "        return '1'\n",
    "    else:\n",
    "        return '0'\n",
    "    \n",
    "label['label'] = label['diff'].apply(label_convert)\n",
    "label = label.drop(['open','close','diff'],axis=1)\n",
    "label.head()"
   ]
  },
  {
   "cell_type": "markdown",
   "metadata": {},
   "source": [
    "## 4. Store data as cvs file"
   ]
  },
  {
   "cell_type": "code",
   "execution_count": 13,
   "metadata": {},
   "outputs": [],
   "source": [
    "path = '../data/processed data'\n",
    "label.to_csv(path+'/label_dir_2.csv', index=False)"
   ]
  }
 ],
 "metadata": {
  "kernelspec": {
   "display_name": "Python 3",
   "language": "python",
   "name": "python3"
  },
  "language_info": {
   "codemirror_mode": {
    "name": "ipython",
    "version": 3
   },
   "file_extension": ".py",
   "mimetype": "text/x-python",
   "name": "python",
   "nbconvert_exporter": "python",
   "pygments_lexer": "ipython3",
   "version": "3.7.3"
  }
 },
 "nbformat": 4,
 "nbformat_minor": 4
}
