{
 "cells": [
  {
   "cell_type": "markdown",
   "metadata": {},
   "source": [
    "# Creating validation set and removing corrupted files"
   ]
  },
  {
   "cell_type": "code",
   "execution_count": 31,
   "metadata": {},
   "outputs": [
    {
     "data": {
      "application/javascript": [
       "IPython.notebook.set_autosave_interval(0)"
      ]
     },
     "metadata": {},
     "output_type": "display_data"
    },
    {
     "name": "stdout",
     "output_type": "stream",
     "text": [
      "Autosave disabled\n"
     ]
    }
   ],
   "source": [
    "# imports\n",
    "import os\n",
    "import random\n",
    "\n",
    "from PIL import Image\n",
    "from PIL import UnidentifiedImageError\n",
    "import PIL\n",
    "\n",
    "%autosave 0 # keeps messing up deletions"
   ]
  },
  {
   "cell_type": "code",
   "execution_count": 12,
   "metadata": {},
   "outputs": [],
   "source": [
    "# change as needed, folders are currently bugged for me (Niko)\n",
    "DATA_DIR = \"../../teams/DSC180A_FA20_A00/a01group09\"\n",
    "TRAIN_DIR = os.path.join(DATA_DIR, 'train_snakes_r1')\n",
    "VALID_DIR = os.path.join(DATA_DIR, 'valid_snakes_r1')"
   ]
  },
  {
   "cell_type": "code",
   "execution_count": 13,
   "metadata": {},
   "outputs": [],
   "source": [
    "if not os.path.isdir(os.path.join(DATA_DIR, 'valid_snakes_r1')):\n",
    "    os.mkdir(os.path.join(DATA_DIR, 'valid_snakes_r1'))\n",
    "train = 0.75\n",
    "for c in os.listdir(TRAIN_DIR): # get all class folder from train\n",
    "    # build paths for sampling\n",
    "    train_dir = os.path.join(TRAIN_DIR, c)\n",
    "    valid_dir = os.path.join(VALID_DIR, c)\n",
    "    \n",
    "    # make validation dir for each class\n",
    "    if not os.path.isdir(valid_dir):\n",
    "        os.mkdir(valid_dir)\n",
    "    \n",
    "    # begin sampling from train for validation set\n",
    "    data_list = os.listdir(train_dir)\n",
    "    total_samples = len(data_list)\n",
    "    \n",
    "    random_idx = random.sample(range(total_samples), total_samples)\n",
    "    train_idx = random_idx[0:int(total_samples*train)]\n",
    "    valid_idx = random_idx[int(total_samples*train) + 1 : total_samples]\n",
    "    \n",
    "    # move files\n",
    "    for idx in valid_idx:\n",
    "        os.rename(os.path.join(train_dir, data_list[idx]), os.path.join(valid_dir, data_list[idx]))"
   ]
  },
  {
   "cell_type": "code",
   "execution_count": 49,
   "metadata": {},
   "outputs": [],
   "source": [
    "# function to delete all picture that were corrupted\n",
    "def delete_corrupted(DIR):\n",
    "    # keep track of deleted files\n",
    "    deleted_file_count = 0\n",
    "    deleted_ipynb = 0\n",
    "    \n",
    "    # for each subclass\n",
    "    for c in os.listdir(DIR):\n",
    "        cur_dir = os.path.join(DIR, c) # join paths\n",
    "\n",
    "        for file in os.listdir(cur_dir):\n",
    "            fp = os.path.join(cur_dir, file)\n",
    "            try:\n",
    "                if fp == fp.endswith('.ipynb_checkpoints'):\n",
    "                    print('TEST')\n",
    "                    os.rmdir(fp)\n",
    "                    \n",
    "                    deleted_ipynb += 1\n",
    "                    continue\n",
    "                img = Image.open(fp)\n",
    "            except PIL.UnidentifiedImageError: # if unidentified file, delete\n",
    "                os.remove(fp)\n",
    "                deleted_file_count += 1\n",
    "            except IsADirectoryError:\n",
    "                print('ipynb checkpoint found, skipping...')\n",
    "                \n",
    "    print('deleted {} corrupted images'.format(deleted_file_count))\n",
    "    print('deleted {} ipynb checkpoints'.format(deleted_ipynb))"
   ]
  },
  {
   "cell_type": "code",
   "execution_count": 50,
   "metadata": {},
   "outputs": [
    {
     "name": "stdout",
     "output_type": "stream",
     "text": [
      "ipynb checkpoint found, skipping...\n",
      "ipynb checkpoint found, skipping...\n",
      "deleted 0 corrupted images\n",
      "deleted 0 ipynb checkpoints\n"
     ]
    }
   ],
   "source": [
    "delete_corrupted(TRAIN_DIR)"
   ]
  },
  {
   "cell_type": "code",
   "execution_count": 38,
   "metadata": {},
   "outputs": [
    {
     "data": {
      "text/plain": [
       "True"
      ]
     },
     "execution_count": 38,
     "metadata": {},
     "output_type": "execute_result"
    }
   ],
   "source": [
    "'../../teams/DSC180A_FA20_A00/a01group09/train_snakes_r1/class-771/.ipynb_checkpoints'.endswith('.ipynb_checkpoints')"
   ]
  },
  {
   "cell_type": "code",
   "execution_count": null,
   "metadata": {},
   "outputs": [],
   "source": []
  }
 ],
 "metadata": {
  "kernelspec": {
   "display_name": "Python 3",
   "language": "python",
   "name": "python3"
  },
  "language_info": {
   "codemirror_mode": {
    "name": "ipython",
    "version": 3
   },
   "file_extension": ".py",
   "mimetype": "text/x-python",
   "name": "python",
   "nbconvert_exporter": "python",
   "pygments_lexer": "ipython3",
   "version": "3.7.6"
  }
 },
 "nbformat": 4,
 "nbformat_minor": 4
}
