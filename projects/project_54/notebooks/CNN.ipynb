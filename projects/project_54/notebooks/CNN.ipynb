{
 "cells": [
  {
   "cell_type": "markdown",
   "metadata": {},
   "source": [
    "# Creating CNN"
   ]
  },
  {
   "cell_type": "code",
   "execution_count": 27,
   "metadata": {},
   "outputs": [],
   "source": [
    "# import custom modules\n",
    "import sys\n",
    "sys.path.insert(0, \"../src/util\")\n",
    "sys.path.insert(0, \"../src/model\")\n",
    "sys.path.insert(0, \"../src/data_util\")\n",
    "\n",
    "import json\n",
    "\n",
    "from baseline import *\n",
    "\n",
    "# imports for model\n",
    "import torch\n",
    "import torchvision\n",
    "import os\n",
    "import torch.optim as optim\n",
    "import numpy as np\n",
    "import torch.nn as nn\n",
    "import torch.nn.functional as F\n",
    "import torch.utils.checkpoint as cp\n",
    "from torchvision import datasets, models, transforms\n",
    "from sklearn.metrics import f1_score"
   ]
  },
  {
   "cell_type": "code",
   "execution_count": 28,
   "metadata": {},
   "outputs": [
    {
     "name": "stdout",
     "output_type": "stream",
     "text": [
      "---> Running test target...\n",
      "---> loaded data config\n",
      "---> loaded model config\n"
     ]
    }
   ],
   "source": [
    "# load in configs\n",
    "print('---> Running test target...')\n",
    "with open('../config/data-params.json') as fh:\n",
    "    data_cfg = json.load(fh)\n",
    "    print('---> loaded data config')\n",
    "\n",
    "with open('../config/model-params.json') as fh:\n",
    "    model_cfg = json.load(fh)\n",
    "    print('---> loaded model config')"
   ]
  },
  {
   "cell_type": "code",
   "execution_count": 29,
   "metadata": {},
   "outputs": [
    {
     "name": "stdout",
     "output_type": "stream",
     "text": [
      "---> Begin dataloader creation...\n",
      "---> Finished creating dataloaders.\n"
     ]
    }
   ],
   "source": [
    "# create dataloaders\n",
    "dataloaders_dict, num_classes = create_dataloaders(\n",
    "    \"../\" + data_cfg['dataDir'],\n",
    "    model_cfg['batchSize'],\n",
    "    model_cfg['inputSize']\n",
    ")"
   ]
  },
  {
   "cell_type": "code",
   "execution_count": 30,
   "metadata": {},
   "outputs": [],
   "source": [
    "# Detect if we have a GPU available\n",
    "device = torch.device(\"cuda\" if torch.cuda.is_available() else \"cpu\")"
   ]
  },
  {
   "cell_type": "code",
   "execution_count": 31,
   "metadata": {},
   "outputs": [
    {
     "name": "stdout",
     "output_type": "stream",
     "text": [
      "---> Begin model initialization...\n",
      "---> Finished model initialization.\n"
     ]
    }
   ],
   "source": [
    "# Initialize the model for this run\n",
    "model_ft, input_size = initialize_model(\n",
    "    model_cfg['modelName'],\n",
    "    num_classes,\n",
    "    feature_extract = model_cfg['featureExtract'],\n",
    "    use_pretrained=True\n",
    ")"
   ]
  },
  {
   "cell_type": "code",
   "execution_count": 32,
   "metadata": {},
   "outputs": [],
   "source": [
    "# send model to gpu\n",
    "model_ft = model_ft.to(device)\n",
    "params_update = params_to_update(model_ft, model_cfg['featureExtract'])\n",
    "\n",
    "# Optimizer\n",
    "optimizer_ft = optim.Adam(params_update, lr=model_cfg['lr'])\n",
    "\n",
    "# Loss function\n",
    "criterion = nn.CrossEntropyLoss()"
   ]
  },
  {
   "cell_type": "code",
   "execution_count": null,
   "metadata": {},
   "outputs": [],
   "source": [
    "# train model\n",
    "model_ft, loss_train, acc_train, fs_train, loss_val, acc_val, fs_val = train_model(\n",
    "    model_ft,\n",
    "    dataloaders_dict,\n",
    "    criterion,\n",
    "    optimizer = optimizer_ft,\n",
    "    num_epochs = 1 #model_cfg['nEpochs']\n",
    ")"
   ]
  },
  {
   "cell_type": "code",
   "execution_count": 33,
   "metadata": {},
   "outputs": [
    {
     "data": {
      "text/plain": [
       "<All keys matched successfully>"
      ]
     },
     "execution_count": 33,
     "metadata": {},
     "output_type": "execute_result"
    }
   ],
   "source": [
    "# if already trained model load this\n",
    "model_weights = torch.load(\"../\" + data_cfg['hierarchyModelPath'])\n",
    "model_ft.load_state_dict(model_weights)"
   ]
  },
  {
   "cell_type": "code",
   "execution_count": 34,
   "metadata": {},
   "outputs": [],
   "source": [
    "from PIL import Image\n",
    "\n",
    "def imshow(inp):\n",
    "    inp = inp.numpy().transpose((1, 2, 0))\n",
    "    mean = np.array([0.485, 0.456, 0.406])\n",
    "    std = np.array([0.229, 0.224, 0.225])\n",
    "    inp = std * inp + mean\n",
    "    inp = np.clip(inp, 0, 1)\n",
    "    plt.imshow(inp)\n",
    "    plt.pause(0.001)"
   ]
  },
  {
   "cell_type": "code",
   "execution_count": null,
   "metadata": {},
   "outputs": [],
   "source": [
    "def plot_metric(metric_train, metric_val, title):\n",
    "    fig, (ax) = plt.subplots(1, 1)\n",
    "    fig.suptitle(title)\n",
    "    ax.set(xlabel='epoch')\n",
    "    ax.plot(metric_train, label='Training')\n",
    "    ax.plot(metric_val, label='Validation')\n",
    "    ax.legend(loc='upper left')\n",
    "    \n",
    "plot_metric(loss_train, loss_val, 'Loss')\n",
    "plot_metric(acc_train, acc_val, 'Accuracy')\n",
    "plot_metric(fs_train, fs_val, 'F-Score')"
   ]
  }
 ],
 "metadata": {
  "kernelspec": {
   "display_name": "Python 3",
   "language": "python",
   "name": "python3"
  },
  "language_info": {
   "codemirror_mode": {
    "name": "ipython",
    "version": 3
   },
   "file_extension": ".py",
   "mimetype": "text/x-python",
   "name": "python",
   "nbconvert_exporter": "python",
   "pygments_lexer": "ipython3",
   "version": "3.7.6"
  }
 },
 "nbformat": 4,
 "nbformat_minor": 4
}
