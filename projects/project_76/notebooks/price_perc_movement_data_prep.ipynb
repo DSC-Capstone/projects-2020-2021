{
 "cells": [
  {
   "cell_type": "code",
   "execution_count": 67,
   "metadata": {},
   "outputs": [],
   "source": [
    "import pandas as pd\n",
    "import numpy as np\n",
    "import os\n",
    "from datetime import timedelta"
   ]
  },
  {
   "cell_type": "code",
   "execution_count": 49,
   "metadata": {},
   "outputs": [],
   "source": [
    "files = os.listdir('data/SP500Data/')"
   ]
  },
  {
   "cell_type": "code",
   "execution_count": 50,
   "metadata": {
    "scrolled": false
   },
   "outputs": [],
   "source": [
    "files_xls = [f for f in files if f[-4:] == 'xlsx']\n",
    "# files_xls"
   ]
  },
  {
   "cell_type": "code",
   "execution_count": 52,
   "metadata": {},
   "outputs": [],
   "source": []
  },
  {
   "cell_type": "code",
   "execution_count": 82,
   "metadata": {},
   "outputs": [],
   "source": [
    "to_split = df[df['ticker'] == 'A'][['Date','Adj Close']].set_index('Date')"
   ]
  },
  {
   "cell_type": "code",
   "execution_count": 135,
   "metadata": {},
   "outputs": [],
   "source": [
    "def one_to_five(perc):\n",
    "    if perc >= 0.2:\n",
    "        return 5\n",
    "    elif 0.2 > perc >= 0.03:\n",
    "        return 4\n",
    "    elif -0.03 < perc < 0.03:\n",
    "        return 3\n",
    "    elif -0.2 < perc <= -0.03:\n",
    "        return 2\n",
    "    else:\n",
    "        return 1"
   ]
  },
  {
   "cell_type": "code",
   "execution_count": 139,
   "metadata": {},
   "outputs": [],
   "source": [
    "def five_month_price_perc_diff(to_split,ticker):\n",
    "    dct = {}\n",
    "    perc_price_dif_lst = []\n",
    "    month_lst = []\n",
    "    month = to_split.index[0]\n",
    "    for i in range(5):\n",
    "        month_ini = month\n",
    "        month = month + timedelta(30)\n",
    "        if month in to_split.index:\n",
    "            price2 = to_split.loc[month].iloc[0]\n",
    "        elif (month + timedelta(1)) in to_split.index:\n",
    "            month +=timedelta(1)\n",
    "            price2 = to_split.loc[month+ timedelta(1)].iloc[0]\n",
    "        elif (month + timedelta(2)) in to_split.index:\n",
    "            month +=timedelta(2)\n",
    "            price2 = to_split.loc[month+ timedelta(2)].iloc[0]\n",
    "        else:\n",
    "            month +=timedelta(3)\n",
    "            price2 = to_split.loc[month+ timedelta(3)].iloc[0]\n",
    "\n",
    "        price1 = to_split.loc[month_ini].iloc[0] \n",
    "        perc_price_dif = (price2-price1)/price1\n",
    "        month_lst += [month]\n",
    "        perc_price_dif_lst += [one_to_five(perc_price_dif)]\n",
    "    dct['month'] = month_lst\n",
    "    dct['perc_dif'] = perc_price_dif_lst\n",
    "    toReturn = pd.DataFrame(dct)\n",
    "    toReturn['ticker'] = ticker\n",
    "    return toReturn"
   ]
  },
  {
   "cell_type": "code",
   "execution_count": 140,
   "metadata": {
    "scrolled": true
   },
   "outputs": [
    {
     "data": {
      "text/html": [
       "<div>\n",
       "<style scoped>\n",
       "    .dataframe tbody tr th:only-of-type {\n",
       "        vertical-align: middle;\n",
       "    }\n",
       "\n",
       "    .dataframe tbody tr th {\n",
       "        vertical-align: top;\n",
       "    }\n",
       "\n",
       "    .dataframe thead th {\n",
       "        text-align: right;\n",
       "    }\n",
       "</style>\n",
       "<table border=\"1\" class=\"dataframe\">\n",
       "  <thead>\n",
       "    <tr style=\"text-align: right;\">\n",
       "      <th></th>\n",
       "      <th>month</th>\n",
       "      <th>perc_dif</th>\n",
       "      <th>ticker</th>\n",
       "    </tr>\n",
       "  </thead>\n",
       "  <tbody>\n",
       "    <tr>\n",
       "      <td>0</td>\n",
       "      <td>2020-08-26</td>\n",
       "      <td>3</td>\n",
       "      <td>A</td>\n",
       "    </tr>\n",
       "    <tr>\n",
       "      <td>1</td>\n",
       "      <td>2020-09-25</td>\n",
       "      <td>3</td>\n",
       "      <td>A</td>\n",
       "    </tr>\n",
       "    <tr>\n",
       "      <td>2</td>\n",
       "      <td>2020-10-26</td>\n",
       "      <td>4</td>\n",
       "      <td>A</td>\n",
       "    </tr>\n",
       "    <tr>\n",
       "      <td>3</td>\n",
       "      <td>2020-11-25</td>\n",
       "      <td>4</td>\n",
       "      <td>A</td>\n",
       "    </tr>\n",
       "    <tr>\n",
       "      <td>4</td>\n",
       "      <td>2020-12-28</td>\n",
       "      <td>4</td>\n",
       "      <td>A</td>\n",
       "    </tr>\n",
       "  </tbody>\n",
       "</table>\n",
       "</div>"
      ],
      "text/plain": [
       "       month  perc_dif ticker\n",
       "0 2020-08-26         3      A\n",
       "1 2020-09-25         3      A\n",
       "2 2020-10-26         4      A\n",
       "3 2020-11-25         4      A\n",
       "4 2020-12-28         4      A"
      ]
     },
     "execution_count": 140,
     "metadata": {},
     "output_type": "execute_result"
    }
   ],
   "source": [
    "five_month_price_perc_diff(to_split,'A')"
   ]
  },
  {
   "cell_type": "code",
   "execution_count": 143,
   "metadata": {},
   "outputs": [],
   "source": [
    "df = pd.DataFrame()\n",
    "for f in files_xls:\n",
    "    data = pd.read_excel('data/SP500Data/'+ f)\n",
    "    ticker = f[:-5]\n",
    "    \n",
    "    to_split = data[['Date','Adj Close']].set_index('Date')\n",
    "    df = df.append(five_month_price_perc_diff(to_split,ticker))"
   ]
  },
  {
   "cell_type": "code",
   "execution_count": null,
   "metadata": {},
   "outputs": [],
   "source": []
  }
 ],
 "metadata": {
  "kernelspec": {
   "display_name": "Python 3",
   "language": "python",
   "name": "python3"
  },
  "language_info": {
   "codemirror_mode": {
    "name": "ipython",
    "version": 3
   },
   "file_extension": ".py",
   "mimetype": "text/x-python",
   "name": "python",
   "nbconvert_exporter": "python",
   "pygments_lexer": "ipython3",
   "version": "3.7.4"
  }
 },
 "nbformat": 4,
 "nbformat_minor": 2
}
