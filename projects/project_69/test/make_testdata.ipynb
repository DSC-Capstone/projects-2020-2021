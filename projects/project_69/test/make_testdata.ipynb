{
 "cells": [
  {
   "cell_type": "code",
   "execution_count": 1,
   "id": "oriented-links",
   "metadata": {},
   "outputs": [],
   "source": [
    "import os\n",
    "import json\n",
    "import glob\n",
    "import numpy as np \n",
    "import pandas as pd\n",
    "import subprocess"
   ]
  },
  {
   "cell_type": "code",
   "execution_count": 8,
   "id": "breeding-organizer",
   "metadata": {},
   "outputs": [],
   "source": [
    "esbl = glob.glob(\"/teams/DSC180A_FA20_A00/b04genetics/group_3/esbl/*_1.fastq\")[:5]"
   ]
  },
  {
   "cell_type": "code",
   "execution_count": 9,
   "id": "divided-joseph",
   "metadata": {},
   "outputs": [],
   "source": [
    "ctrl = glob.glob(\"/teams/DSC180A_FA20_A00/b04genetics/group_3/ctrl/*_1.fastq\")[:5]"
   ]
  },
  {
   "cell_type": "code",
   "execution_count": 10,
   "id": "interim-blend",
   "metadata": {},
   "outputs": [],
   "source": [
    "for file in esbl:\n",
    "    f1 = file\n",
    "    f2 = file.replace(\"_1\",\"_2\")\n",
    "    command1 = f\"cp {f1} esbl/\"\n",
    "    command2 = f\"cp {f2} esbl/\"\n",
    "    os.system(command1)\n",
    "    os.system(command2)"
   ]
  },
  {
   "cell_type": "code",
   "execution_count": 11,
   "id": "polyphonic-verification",
   "metadata": {},
   "outputs": [],
   "source": [
    "for file in ctrl:\n",
    "    f1 = file\n",
    "    f2 = file.replace(\"_1\",\"_2\")\n",
    "    command1 = f\"cp {f1} ctrl/\"\n",
    "    command2 = f\"cp {f2} ctrl/\"\n",
    "    os.system(command1)\n",
    "    os.system(command2)"
   ]
  }
 ],
 "metadata": {
  "kernelspec": {
   "display_name": "Python 3",
   "language": "python",
   "name": "python3"
  },
  "language_info": {
   "codemirror_mode": {
    "name": "ipython",
    "version": 3
   },
   "file_extension": ".py",
   "mimetype": "text/x-python",
   "name": "python",
   "nbconvert_exporter": "python",
   "pygments_lexer": "ipython3",
   "version": "3.8.6"
  }
 },
 "nbformat": 4,
 "nbformat_minor": 5
}
