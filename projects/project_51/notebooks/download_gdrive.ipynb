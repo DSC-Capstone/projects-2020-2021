{
 "cells": [
  {
   "cell_type": "code",
   "execution_count": 1,
   "id": "electronic-polls",
   "metadata": {},
   "outputs": [],
   "source": [
    "# import tensorflow as tf\n",
    "\n",
    "# # from zipfile import ZipFile\n",
    "\n",
    "# # with ZipFile('Mail3.zip', 'r') as zipObj:\n",
    "# #    # Extract all the contents of zip file in current directory\n",
    "# #    zipObj.extractall()"
   ]
  },
  {
   "cell_type": "code",
   "execution_count": 2,
   "id": "interesting-fleet",
   "metadata": {},
   "outputs": [
    {
     "data": {
      "text/plain": [
       "'/home/jdlevy/Documents/UCSD/Senior/Quarter 2/DSC 180B/180b_capstone_xai/notebooks'"
      ]
     },
     "execution_count": 2,
     "metadata": {},
     "output_type": "execute_result"
    }
   ],
   "source": [
    "pwd"
   ]
  },
  {
   "cell_type": "code",
   "execution_count": 3,
   "id": "chubby-burton",
   "metadata": {},
   "outputs": [],
   "source": [
    "import sys"
   ]
  },
  {
   "cell_type": "code",
   "execution_count": 4,
   "id": "intelligent-boundary",
   "metadata": {},
   "outputs": [],
   "source": [
    "sys.path.insert(0, '../src')"
   ]
  },
  {
   "cell_type": "code",
   "execution_count": 5,
   "id": "exposed-chancellor",
   "metadata": {},
   "outputs": [],
   "source": [
    "from download import download_file_from_google_drive"
   ]
  },
  {
   "cell_type": "code",
   "execution_count": 6,
   "id": "chronic-bristol",
   "metadata": {
    "collapsed": true
   },
   "outputs": [
    {
     "name": "stderr",
     "output_type": "stream",
     "text": [
      "/home/jdlevy/anaconda3/envs/py36/lib/python3.6/site-packages/tensorflow/python/framework/dtypes.py:517: FutureWarning: Passing (type, 1) or '1type' as a synonym of type is deprecated; in a future version of numpy, it will be understood as (type, (1,)) / '(1,)type'.\n",
      "  _np_qint8 = np.dtype([(\"qint8\", np.int8, 1)])\n",
      "/home/jdlevy/anaconda3/envs/py36/lib/python3.6/site-packages/tensorflow/python/framework/dtypes.py:518: FutureWarning: Passing (type, 1) or '1type' as a synonym of type is deprecated; in a future version of numpy, it will be understood as (type, (1,)) / '(1,)type'.\n",
      "  _np_quint8 = np.dtype([(\"quint8\", np.uint8, 1)])\n",
      "/home/jdlevy/anaconda3/envs/py36/lib/python3.6/site-packages/tensorflow/python/framework/dtypes.py:519: FutureWarning: Passing (type, 1) or '1type' as a synonym of type is deprecated; in a future version of numpy, it will be understood as (type, (1,)) / '(1,)type'.\n",
      "  _np_qint16 = np.dtype([(\"qint16\", np.int16, 1)])\n",
      "/home/jdlevy/anaconda3/envs/py36/lib/python3.6/site-packages/tensorflow/python/framework/dtypes.py:520: FutureWarning: Passing (type, 1) or '1type' as a synonym of type is deprecated; in a future version of numpy, it will be understood as (type, (1,)) / '(1,)type'.\n",
      "  _np_quint16 = np.dtype([(\"quint16\", np.uint16, 1)])\n",
      "/home/jdlevy/anaconda3/envs/py36/lib/python3.6/site-packages/tensorflow/python/framework/dtypes.py:521: FutureWarning: Passing (type, 1) or '1type' as a synonym of type is deprecated; in a future version of numpy, it will be understood as (type, (1,)) / '(1,)type'.\n",
      "  _np_qint32 = np.dtype([(\"qint32\", np.int32, 1)])\n",
      "/home/jdlevy/anaconda3/envs/py36/lib/python3.6/site-packages/tensorflow/python/framework/dtypes.py:526: FutureWarning: Passing (type, 1) or '1type' as a synonym of type is deprecated; in a future version of numpy, it will be understood as (type, (1,)) / '(1,)type'.\n",
      "  np_resource = np.dtype([(\"resource\", np.ubyte, 1)])\n"
     ]
    },
    {
     "name": "stdout",
     "output_type": "stream",
     "text": [
      "WARNING:tensorflow:From /home/jdlevy/anaconda3/envs/py36/lib/python3.6/site-packages/tensorflow/contrib/learn/python/learn/datasets/base.py:198: retry (from tensorflow.contrib.learn.python.learn.datasets.base) is deprecated and will be removed in a future version.\n",
      "Instructions for updating:\n",
      "Use the retry module or similar alternatives.\n"
     ]
    }
   ],
   "source": [
    "from gen_inpaint import generate_counterfactual"
   ]
  },
  {
   "cell_type": "code",
   "execution_count": 7,
   "id": "obvious-medicare",
   "metadata": {},
   "outputs": [
    {
     "name": "stdout",
     "output_type": "stream",
     "text": [
      "---------------------------------- APP CONFIG ----------------------------------\n",
      "num_gpus_per_job: 1\n",
      "num_cpus_per_job: 4\n",
      "num_hosts_per_job: 1\n",
      "memory_per_job: 32\n",
      "gpu_type: geforce-rtx-2070super\n",
      "name: coco2017_gated_conv_v100\n",
      "model_restore: \n",
      "dataset: coco2017\n",
      "random_crop: True\n",
      "val: True\n",
      "log_dir: logs/full_model_coco2017\n",
      "gan: sngan\n",
      "gan_loss_alpha: 1\n",
      "gan_with_mask: True\n",
      "discounted_mask: True\n",
      "random_seed: False\n",
      "padding: SAME\n",
      "train_spe: 4000\n",
      "max_iters: 100000000\n",
      "viz_max_out: 10\n",
      "val_psteps: 2000\n",
      "data_flist: \n",
      "  coco2017: ['data_flist/coco2017_train_shuffled.flist', 'data_flist/coco2017_validation_shuffled.flist']\n",
      "  celebahq: ['data/celeba_hq/train_shuffled.flist', 'data/celeba_hq/validation_static_view.flist']\n",
      "  celeba: ['data/celeba/train_shuffled.flist', 'data/celeba/validation_static_view.flist']\n",
      "  places2: ['data/places2/train_shuffled.flist', 'data/places2/validation_static_view.flist']\n",
      "  imagenet: ['data/imagenet/train_shuffled.flist', 'data/imagenet/validation_static_view.flist']\n",
      "static_view_size: 30\n",
      "img_shapes: [256, 256, 3]\n",
      "height: 128\n",
      "width: 128\n",
      "max_delta_height: 32\n",
      "max_delta_width: 32\n",
      "batch_size: 16\n",
      "vertical_margin: 0\n",
      "horizontal_margin: 0\n",
      "ae_loss: True\n",
      "l1_loss: True\n",
      "l1_loss_alpha: 1.0\n",
      "guided: False\n",
      "edge_threshold: 0.6\n",
      "--------------------------------------------------------------------------------\n",
      "Shape of image: (640, 456, 3)\n",
      "WARNING:tensorflow:From ../src/inpaint_ops.py:311: calling reduce_mean (from tensorflow.python.ops.math_ops) with keep_dims is deprecated and will be removed in a future version.\n",
      "Instructions for updating:\n",
      "keep_dims is deprecated, use keepdims instead\n",
      "Model loaded.\n",
      "CPU times: user 25 s, sys: 2.99 s, total: 27.9 s\n",
      "Wall time: 3.27 s\n"
     ]
    }
   ],
   "source": [
    "image_fp = '../data/temp/imgs/569158/raw_1367957.png'\n",
    "mask_fp = '../data/temp/imgs/569158/mask_1367957.png'\n",
    "output_fp = '../data/temp/imgs/569158/counterfactual_1367957.png'\n",
    "checkpoint_dir = '../models/full_model_coco2017_v2'\n",
    "%time generate_counterfactual(image_fp, mask_fp, output_fp, checkpoint_dir)"
   ]
  },
  {
   "cell_type": "code",
   "execution_count": 11,
   "id": "naughty-personality",
   "metadata": {},
   "outputs": [],
   "source": [
    "_id = '11fD6YYG4kL1WT_a27LSOl5tOZOsg7TOM'\n",
    "download_file_from_google_drive(_id, '../src/models/full_model_coco2017_v2.zip')"
   ]
  },
  {
   "cell_type": "code",
   "execution_count": null,
   "id": "dutch-monkey",
   "metadata": {},
   "outputs": [],
   "source": []
  }
 ],
 "metadata": {
  "kernelspec": {
   "display_name": "Python 3",
   "language": "python",
   "name": "python3"
  },
  "language_info": {
   "codemirror_mode": {
    "name": "ipython",
    "version": 3
   },
   "file_extension": ".py",
   "mimetype": "text/x-python",
   "name": "python",
   "nbconvert_exporter": "python",
   "pygments_lexer": "ipython3",
   "version": "3.6.12"
  }
 },
 "nbformat": 4,
 "nbformat_minor": 5
}
