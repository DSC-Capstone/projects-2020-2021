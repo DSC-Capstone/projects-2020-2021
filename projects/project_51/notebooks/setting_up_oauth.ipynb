{
 "cells": [
  {
   "cell_type": "code",
   "execution_count": 1,
   "metadata": {},
   "outputs": [],
   "source": [
    "import spotipy\n",
    "import os\n",
    "from spotipy.oauth2 import SpotifyOAuth\n",
    "from IPython.core.display import display, HTML\n"
   ]
  },
  {
   "cell_type": "code",
   "execution_count": 2,
   "metadata": {},
   "outputs": [],
   "source": [
    "def get_top_n(response):\n",
    "    top_artists = []\n",
    "    for item in response['items']:\n",
    "        top_artists.append(item['name'])\n",
    "    return top_artists\n",
    "\n",
    "def parse_playlist_ids(response):\n",
    "    playlist_ids = []\n",
    "    for item in response['items']:\n",
    "        pid = item['id']\n",
    "\n",
    "        playlist_ids.append(pid)\n",
    "    return playlist_ids\n",
    "\n",
    "def parse_track_info(response):\n",
    "    track_names = []\n",
    "    artist_names = []\n",
    "    album_names = []\n",
    "    \n",
    "    for item in r['items']:\n",
    "                \n",
    "        # Gets the name of the track\n",
    "        track = item['track']['name']\n",
    "        # Gets the name of the album\n",
    "        album = item['track']['album']['name']\n",
    "        # Gets the name of the first artist listed under album artists\n",
    "        artist = item['track']['album']['artists'][0]['name']\n",
    "             \n",
    "        track_names.append(track)\n",
    "        album_names.append(album)\n",
    "        artist_names.append(artist) \n",
    "    return track_names, album_names, artist_names"
   ]
  },
  {
   "cell_type": "code",
   "execution_count": 3,
   "metadata": {},
   "outputs": [],
   "source": [
    "# Application information\n",
    "client_id = 'f78a4f4cfe9c40ea8fe346b0576e98ea'\n",
    "client_secret = 'c26db2d4c1fb42d79dc99945b2360ab4'\n",
    "\n",
    "# Temporary placeholder until we actually get a website going\n",
    "redirect_uri = 'https://google.com/'\n",
    "\n",
    "# The permissions that our application will ask for\n",
    "scope = \" \".join(['playlist-modify-public',\"user-top-read\",\"user-read-recently-played\",\"playlist-read-private\"])\n",
    "\n"
   ]
  },
  {
   "cell_type": "markdown",
   "metadata": {},
   "source": [
    "# From Colin\n",
    "\n",
    "Here I took some code from Colin's application. We can use this in the future when we actually have a website and we're sending people around various pages. Until then we will just use the SpotifyOAuth object to authenticate locally."
   ]
  },
  {
   "cell_type": "code",
   "execution_count": 4,
   "metadata": {},
   "outputs": [
    {
     "data": {
      "text/plain": [
       "'https://accounts.spotify.com/authorize?client_id=f78a4f4cfe9c40ea8fe346b0576e98ea&response_type=code&redirect_uri=https%3A%2F%2Fgoogle.com%2F&scope=playlist-modify-public+playlist-read-private+user-read-recently-played+user-top-read&show_dialog=True'"
      ]
     },
     "execution_count": 4,
     "metadata": {},
     "output_type": "execute_result"
    }
   ],
   "source": [
    "# Oauth object    \n",
    "sp_oauth = spotipy.oauth2.SpotifyOAuth(client_id, client_secret, redirect_uri, scope=scope, cache_path=None, show_dialog=True)\n",
    "\n",
    "# Force auth every time\n",
    "authUrl = sp_oauth.get_authorize_url()\n",
    "authUrl"
   ]
  },
  {
   "cell_type": "code",
   "execution_count": 5,
   "metadata": {
    "scrolled": true
   },
   "outputs": [
    {
     "data": {
      "text/html": [
       "<!DOCTYPE html>\n",
       "<html>\n",
       "<head>\n",
       "<meta charset=\"UTF-8\">\n",
       "<title>Bad Vibes!</title>\n",
       "<body>\n",
       "<h1>Bad Vibes!</h1><br>\n",
       "<a href=\"https://accounts.spotify.com/authorize?client_id=f78a4f4cfe9c40ea8fe346b0576e98ea&response_type=code&redirect_uri=https%3A%2F%2Fgoogle.com%2F&scope=playlist-modify-public+playlist-read-private+user-read-recently-played+user-top-read&show_dialog=True\">Authorize</a><br><br>\n",
       "You can trust me.\n",
       "</body>"
      ],
      "text/plain": [
       "<IPython.core.display.HTML object>"
      ]
     },
     "metadata": {},
     "output_type": "display_data"
    }
   ],
   "source": [
    "websiteHtml = \"\"\"<!DOCTYPE html>\n",
    "<html>\n",
    "<head>\n",
    "<meta charset=\"UTF-8\">\n",
    "<title>Bad Vibes!</title>\n",
    "<body>\n",
    "<h1>Bad Vibes!</h1><br>\n",
    "<a href=\"{}\">Authorize</a><br><br>\n",
    "You can trust me.\n",
    "</body>\"\"\".format(authUrl)\n",
    "site = HTML(websiteHtml)\n",
    "display(site)"
   ]
  },
  {
   "cell_type": "code",
   "execution_count": 6,
   "metadata": {},
   "outputs": [
    {
     "name": "stdout",
     "output_type": "stream",
     "text": [
      "Name: spotipy\n",
      "Version: 2.16.1\n",
      "Summary: A light weight Python library for the Spotify Web API\n",
      "Home-page: https://spotipy.readthedocs.org/\n",
      "Author: @plamere\n",
      "Author-email: paul@echonest.com\n",
      "License: LICENSE.md\n",
      "Location: c:\\users\\dmcca\\appdata\\local\\programs\\python\\python39\\lib\\site-packages\n",
      "Requires: requests, six\n",
      "Required-by: \n"
     ]
    }
   ],
   "source": [
    "!pip show spotipy"
   ]
  },
  {
   "cell_type": "code",
   "execution_count": 7,
   "metadata": {},
   "outputs": [],
   "source": [
    "returnUrl = 'https://www.google.com/?code=AQCmTSTuoDjtNZhvq54_q7aPukaJxOc097FSlJ-LJFdLq6zvYnYC2lNcuKszNjRAlf_kfJmHnQhQ4zBfnSK6MF6EauJDEiKq3sWKZqMrt3q_9amxhKtPPyhlaT9HhLs16bGVJRhkqMHNpiAZBbQ_agq3wQYU9_xbSfJLt8h46by3Rk7o_cbkiucXZT0mxfIFdy4fJ6C0UdQttAfpcG9qOVwDhPxHy_DxyiXfqAPq1g1hon4ZYxeuw9WS6Kjkt_r4Lvw5TxkI15s_mYisXCmwgA'"
   ]
  },
  {
   "cell_type": "code",
   "execution_count": 8,
   "metadata": {},
   "outputs": [
    {
     "name": "stderr",
     "output_type": "stream",
     "text": [
      "<ipython-input-8-daba16ad0adc>:2: DeprecationWarning: You're using 'as_dict = True'.get_access_token will return the token string directly in future versions. Please adjust your code accordingly, or use get_cached_token instead.\n",
      "  token_info = sp_oauth.get_access_token(code)\n"
     ]
    },
    {
     "data": {
      "text/plain": [
       "'itzpersonal'"
      ]
     },
     "execution_count": 8,
     "metadata": {},
     "output_type": "execute_result"
    }
   ],
   "source": [
    "code = returnUrl.split(\"?code=\")[1].split(\"&\")[0]\n",
    "token_info = sp_oauth.get_access_token(code)\n",
    "access_token = token_info['access_token']\n",
    "sp = spotipy.Spotify(auth=access_token)\n",
    "\n",
    "# Test auth\n",
    "username = sp.current_user()['id']\n",
    "username\n"
   ]
  },
  {
   "cell_type": "code",
   "execution_count": 9,
   "metadata": {},
   "outputs": [],
   "source": [
    "r = sp.search('playboy carti', type='artist')"
   ]
  },
  {
   "cell_type": "code",
   "execution_count": 10,
   "metadata": {},
   "outputs": [
    {
     "data": {
      "text/plain": [
       "'Playboi Carti'"
      ]
     },
     "execution_count": 10,
     "metadata": {},
     "output_type": "execute_result"
    }
   ],
   "source": [
    "(r['artists']['items'][0]['name'])"
   ]
  },
  {
   "cell_type": "code",
   "execution_count": 11,
   "metadata": {},
   "outputs": [
    {
     "data": {
      "text/plain": [
       "['atl hip hop', 'hip hop', 'rap', 'trap']"
      ]
     },
     "execution_count": 11,
     "metadata": {},
     "output_type": "execute_result"
    }
   ],
   "source": [
    "r['artists']['items'][0]['genres']"
   ]
  },
  {
   "cell_type": "markdown",
   "metadata": {},
   "source": [
    "# Using Locally\n",
    "\n",
    "For the time being this is how we will access user information on the Spotify API."
   ]
  },
  {
   "cell_type": "code",
   "execution_count": null,
   "metadata": {},
   "outputs": [],
   "source": [
    "sp = spotipy.Spotify(oauth_manager=sp_oauth)"
   ]
  },
  {
   "cell_type": "markdown",
   "metadata": {},
   "source": [
    "# Methods of Pulling User Data"
   ]
  },
  {
   "cell_type": "markdown",
   "metadata": {},
   "source": [
    "### Top Artists"
   ]
  },
  {
   "cell_type": "code",
   "execution_count": null,
   "metadata": {},
   "outputs": [],
   "source": [
    "r = sp.current_user_top_artists(limit=50, time_range='short_term')\n",
    "get_top_n(r)[:10]"
   ]
  },
  {
   "cell_type": "code",
   "execution_count": null,
   "metadata": {},
   "outputs": [],
   "source": [
    "r = sp.current_user_top_artists(limit=50, time_range='medium_term')\n",
    "get_top_n(r)[:10]"
   ]
  },
  {
   "cell_type": "code",
   "execution_count": null,
   "metadata": {},
   "outputs": [],
   "source": [
    "r = sp.current_user_top_artists(limit=50, time_range='long_term')\n",
    "get_top_n(r)[:10]"
   ]
  },
  {
   "cell_type": "markdown",
   "metadata": {},
   "source": [
    "### Top Tracks"
   ]
  },
  {
   "cell_type": "code",
   "execution_count": null,
   "metadata": {},
   "outputs": [],
   "source": [
    "r = sp.current_user_top_tracks(limit=50, time_range='short_term')\n",
    "get_top_n(r)[:10]"
   ]
  },
  {
   "cell_type": "code",
   "execution_count": null,
   "metadata": {},
   "outputs": [],
   "source": [
    "r = sp.current_user_top_tracks(limit=50, time_range='medium_term')\n",
    "get_top_n(r)[:10]"
   ]
  },
  {
   "cell_type": "code",
   "execution_count": null,
   "metadata": {},
   "outputs": [],
   "source": [
    "r = sp.current_user_top_tracks(limit=50, time_range='long_term')\n",
    "get_top_n(r)[:10]"
   ]
  },
  {
   "cell_type": "markdown",
   "metadata": {},
   "source": [
    "### Recently Played"
   ]
  },
  {
   "cell_type": "code",
   "execution_count": null,
   "metadata": {},
   "outputs": [],
   "source": [
    "r = sp.current_user_recently_played(limit=50, after=None, before=None)\n"
   ]
  },
  {
   "cell_type": "code",
   "execution_count": null,
   "metadata": {},
   "outputs": [],
   "source": [
    "tracks, albums, artists = parse_track_info(r)"
   ]
  },
  {
   "cell_type": "code",
   "execution_count": null,
   "metadata": {},
   "outputs": [],
   "source": [
    "tracks[:10]"
   ]
  },
  {
   "cell_type": "code",
   "execution_count": null,
   "metadata": {},
   "outputs": [],
   "source": [
    "albums[:10]"
   ]
  },
  {
   "cell_type": "code",
   "execution_count": null,
   "metadata": {},
   "outputs": [],
   "source": [
    "artists[:10]"
   ]
  },
  {
   "cell_type": "markdown",
   "metadata": {},
   "source": [
    "### Playlist Songs\n",
    "\n",
    "\n",
    "Gettings the songs/artists/albums/etc. associated with a user's playlists can be accomplished in two steps.\n",
    "\n",
    "1. Use ```sp.current_user_playlists()``` to find all the playlist IDs for the user's playlists.\n",
    "\n",
    "2. Use ```sp.playlist_items()``` to find the songs on every playlist. Any other information could then be inferred from there."
   ]
  },
  {
   "cell_type": "code",
   "execution_count": null,
   "metadata": {},
   "outputs": [],
   "source": [
    "# First use this command to get all of the user's playlist IDs\n",
    "r = sp.current_user_playlists()"
   ]
  },
  {
   "cell_type": "code",
   "execution_count": null,
   "metadata": {},
   "outputs": [],
   "source": [
    "# Extract all playlist IDs in a list\n",
    "playlist_ids = parse_playlist_ids(r)"
   ]
  },
  {
   "cell_type": "code",
   "execution_count": null,
   "metadata": {},
   "outputs": [],
   "source": [
    "# Pull all the tracks from a playlist\n",
    "tracks = []\n",
    "albums = []\n",
    "artists = []\n",
    "\n",
    "# Loop through each playlist one by one\n",
    "for pid in playlist_ids:\n",
    "    # Request all track information\n",
    "    r = sp.playlist_items(pid)\n",
    "    \n",
    "    tracks, albums, artists = parse_track_info(r)\n",
    "    break\n",
    "    \n",
    "    "
   ]
  },
  {
   "cell_type": "code",
   "execution_count": null,
   "metadata": {},
   "outputs": [],
   "source": [
    "tracks[:10]"
   ]
  },
  {
   "cell_type": "code",
   "execution_count": null,
   "metadata": {},
   "outputs": [],
   "source": [
    "albums[:10]"
   ]
  },
  {
   "cell_type": "code",
   "execution_count": null,
   "metadata": {},
   "outputs": [],
   "source": [
    "artists[:10]"
   ]
  },
  {
   "cell_type": "code",
   "execution_count": null,
   "metadata": {},
   "outputs": [],
   "source": [
    "https://open.spotify.com/user/kynicoles?si=gJFaPiJ_T4GRkT8pQ_ZwbQ"
   ]
  }
 ],
 "metadata": {
  "kernelspec": {
   "display_name": "Python 3",
   "language": "python",
   "name": "python3"
  },
  "language_info": {
   "codemirror_mode": {
    "name": "ipython",
    "version": 3
   },
   "file_extension": ".py",
   "mimetype": "text/x-python",
   "name": "python",
   "nbconvert_exporter": "python",
   "pygments_lexer": "ipython3",
   "version": "3.9.1"
  }
 },
 "nbformat": 4,
 "nbformat_minor": 4
}
