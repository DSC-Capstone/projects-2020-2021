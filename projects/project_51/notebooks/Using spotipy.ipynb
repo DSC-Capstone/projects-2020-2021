{
 "cells": [
  {
   "cell_type": "code",
   "execution_count": 8,
   "metadata": {},
   "outputs": [],
   "source": [
    "import spotipy\n",
    "from spotipy.oauth2 import SpotifyClientCredentials\n",
    "from urllib.parse import urlencode\n",
    "\n",
    "\n"
   ]
  },
  {
   "cell_type": "code",
   "execution_count": 4,
   "metadata": {},
   "outputs": [],
   "source": [
    "auth_manager = SpotifyClientCredentials(client_id='f78a4f4cfe9c40ea8fe346b0576e98ea', client_secret='c26db2d4c1fb42d79dc99945b2360ab4')\n",
    "sp = spotipy.Spotify(auth_manager=auth_manager)\n"
   ]
  },
  {
   "cell_type": "code",
   "execution_count": 32,
   "metadata": {},
   "outputs": [
    {
     "data": {
      "text/plain": [
       "'https://api.spotify.com/v1/search?q=red+hot+chilli+peppers&type=artist'"
      ]
     },
     "execution_count": 32,
     "metadata": {},
     "output_type": "execute_result"
    }
   ],
   "source": [
    "item = 'red hot chilli peppers'\n",
    "endpoint = 'https://api.spotify.com/v1/search'\n",
    "data = urlencode({'q': item, 'type':'artist'})\n",
    "\n",
    "lookup_url = f'{endpoint}?{data}'\n",
    "lookup_url"
   ]
  },
  {
   "cell_type": "code",
   "execution_count": 33,
   "metadata": {},
   "outputs": [],
   "source": [
    "r = sp.search(item, type='artist')"
   ]
  },
  {
   "cell_type": "code",
   "execution_count": 34,
   "metadata": {},
   "outputs": [
    {
     "data": {
      "text/plain": [
       "{'artists': {'href': 'https://api.spotify.com/v1/search?query=red+hot+chilli+peppers&type=artist&offset=0&limit=10',\n",
       "  'items': [{'external_urls': {'spotify': 'https://open.spotify.com/artist/0L8ExT028jH3ddEcZwqJJ5'},\n",
       "    'followers': {'href': None, 'total': 15070356},\n",
       "    'genres': ['alternative rock',\n",
       "     'funk metal',\n",
       "     'funk rock',\n",
       "     'permanent wave',\n",
       "     'rock'],\n",
       "    'href': 'https://api.spotify.com/v1/artists/0L8ExT028jH3ddEcZwqJJ5',\n",
       "    'id': '0L8ExT028jH3ddEcZwqJJ5',\n",
       "    'images': [{'height': 640,\n",
       "      'url': 'https://i.scdn.co/image/89bc3c14aa2b4f250033ffcf5f322b2a553d9331',\n",
       "      'width': 640},\n",
       "     {'height': 320,\n",
       "      'url': 'https://i.scdn.co/image/7251ac7f3c0262cfcfad32e214deda639a2b4b46',\n",
       "      'width': 320},\n",
       "     {'height': 160,\n",
       "      'url': 'https://i.scdn.co/image/8def8c4db6061deb04daca08e43bcde57181ec8b',\n",
       "      'width': 160}],\n",
       "    'name': 'Red Hot Chili Peppers',\n",
       "    'popularity': 84,\n",
       "    'type': 'artist',\n",
       "    'uri': 'spotify:artist:0L8ExT028jH3ddEcZwqJJ5'},\n",
       "   {'external_urls': {'spotify': 'https://open.spotify.com/artist/6XblJ5Nas2VsL9s5H9o2YJ'},\n",
       "    'followers': {'href': None, 'total': 1010},\n",
       "    'genres': ['pub rock'],\n",
       "    'href': 'https://api.spotify.com/v1/artists/6XblJ5Nas2VsL9s5H9o2YJ',\n",
       "    'id': '6XblJ5Nas2VsL9s5H9o2YJ',\n",
       "    'images': [{'height': 640,\n",
       "      'url': 'https://i.scdn.co/image/ab67616d0000b2738b04b64085f8da136d0d42cb',\n",
       "      'width': 640},\n",
       "     {'height': 300,\n",
       "      'url': 'https://i.scdn.co/image/ab67616d00001e028b04b64085f8da136d0d42cb',\n",
       "      'width': 300},\n",
       "     {'height': 64,\n",
       "      'url': 'https://i.scdn.co/image/ab67616d000048518b04b64085f8da136d0d42cb',\n",
       "      'width': 64}],\n",
       "    'name': 'Chilli Willi & The Red Hot Peppers',\n",
       "    'popularity': 7,\n",
       "    'type': 'artist',\n",
       "    'uri': 'spotify:artist:6XblJ5Nas2VsL9s5H9o2YJ'},\n",
       "   {'external_urls': {'spotify': 'https://open.spotify.com/artist/4St65YtRYE8w73lrc1GNKM'},\n",
       "    'followers': {'href': None, 'total': 1155},\n",
       "    'genres': ['tribute'],\n",
       "    'href': 'https://api.spotify.com/v1/artists/4St65YtRYE8w73lrc1GNKM',\n",
       "    'id': '4St65YtRYE8w73lrc1GNKM',\n",
       "    'images': [{'height': 640,\n",
       "      'url': 'https://i.scdn.co/image/ab67616d0000b27361117565c7565f2a28026686',\n",
       "      'width': 640},\n",
       "     {'height': 300,\n",
       "      'url': 'https://i.scdn.co/image/ab67616d00001e0261117565c7565f2a28026686',\n",
       "      'width': 300},\n",
       "     {'height': 64,\n",
       "      'url': 'https://i.scdn.co/image/ab67616d0000485161117565c7565f2a28026686',\n",
       "      'width': 64}],\n",
       "    'name': 'Red Hot Chili Peppers Tribute Band',\n",
       "    'popularity': 9,\n",
       "    'type': 'artist',\n",
       "    'uri': 'spotify:artist:4St65YtRYE8w73lrc1GNKM'},\n",
       "   {'external_urls': {'spotify': 'https://open.spotify.com/artist/5UW0S2FPTD5GtlAJTzcwbh'},\n",
       "    'followers': {'href': None, 'total': 30},\n",
       "    'genres': [],\n",
       "    'href': 'https://api.spotify.com/v1/artists/5UW0S2FPTD5GtlAJTzcwbh',\n",
       "    'id': '5UW0S2FPTD5GtlAJTzcwbh',\n",
       "    'images': [],\n",
       "    'name': 'Karaoke - Red Hot Chili Peppers',\n",
       "    'popularity': 0,\n",
       "    'type': 'artist',\n",
       "    'uri': 'spotify:artist:5UW0S2FPTD5GtlAJTzcwbh'},\n",
       "   {'external_urls': {'spotify': 'https://open.spotify.com/artist/3bKexEgU1rVjIYcrp4vmAx'},\n",
       "    'followers': {'href': None, 'total': 21},\n",
       "    'genres': [],\n",
       "    'href': 'https://api.spotify.com/v1/artists/3bKexEgU1rVjIYcrp4vmAx',\n",
       "    'id': '3bKexEgU1rVjIYcrp4vmAx',\n",
       "    'images': [],\n",
       "    'name': 'Karaoke Soundtrack - Originally Performed By Red Hot Chili Peppers',\n",
       "    'popularity': 0,\n",
       "    'type': 'artist',\n",
       "    'uri': 'spotify:artist:3bKexEgU1rVjIYcrp4vmAx'}],\n",
       "  'limit': 10,\n",
       "  'next': None,\n",
       "  'offset': 0,\n",
       "  'previous': None,\n",
       "  'total': 5}}"
      ]
     },
     "execution_count": 34,
     "metadata": {},
     "output_type": "execute_result"
    }
   ],
   "source": [
    "r"
   ]
  },
  {
   "cell_type": "code",
   "execution_count": null,
   "metadata": {},
   "outputs": [],
   "source": []
  }
 ],
 "metadata": {
  "kernelspec": {
   "display_name": "Python 3",
   "language": "python",
   "name": "python3"
  },
  "language_info": {
   "codemirror_mode": {
    "name": "ipython",
    "version": 3
   },
   "file_extension": ".py",
   "mimetype": "text/x-python",
   "name": "python",
   "nbconvert_exporter": "python",
   "pygments_lexer": "ipython3",
   "version": "3.8.5"
  }
 },
 "nbformat": 4,
 "nbformat_minor": 4
}
