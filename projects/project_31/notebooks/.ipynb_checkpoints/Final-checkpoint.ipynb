{
 "cells": [
  {
   "cell_type": "markdown",
   "metadata": {},
   "source": [
    "## Farhood Ensan (A15083542) and Areeb Syed(A15109797)"
   ]
  },
  {
   "cell_type": "code",
   "execution_count": 1,
   "metadata": {},
   "outputs": [],
   "source": [
    "# Importing required libraries\n",
    "import shapely\n",
    "import geopandas as gpd\n",
    "import pandas as pd\n",
    "import numpy as np\n",
    "import random\n",
    "import matplotlib as plt\n",
    "import plotly\n",
    "import plotly.express as px\n",
    "import plotly.graph_objects as go\n",
    "import os.path\n",
    "import json\n",
    "\n",
    "from mesa_geo import GeoAgent, GeoSpace\n",
    "from mesa.time import BaseScheduler\n",
    "from mesa.time import SimultaneousActivation\n",
    "from mesa import datacollection\n",
    "from mesa.datacollection import DataCollector\n",
    "from mesa import Model\n",
    "from shapely.geometry import Polygon, Point, LineString\n",
    "from PIL import Image, ImageDraw, ImageFont\n",
    "\n",
    "# silencing all warnings\n",
    "import warnings\n",
    "warnings.filterwarnings('ignore')"
   ]
  },
  {
   "cell_type": "code",
   "execution_count": 2,
   "metadata": {},
   "outputs": [],
   "source": [
    "# importing methods from other .py files\n",
    "import os\n",
    "import sys\n",
    "module_path = os.path.abspath(os.path.join('..'))\n",
    "if module_path not in sys.path:\n",
    "    sys.path.append(module_path)\n",
    "    \n",
    "from src.data.build_datasets import DatasetMaker\n",
    "from src.models.run_model import RunAll\n",
    "from src.visualization.viz import Visualize\n",
    "from src.visualization.viz_gif import GifMaker\n"
   ]
  },
  {
   "cell_type": "code",
   "execution_count": 3,
   "metadata": {},
   "outputs": [
    {
     "data": {
      "text/plain": [
       "'/Users/farhoodensan/Documents/GitHub/DSC180A_Final'"
      ]
     },
     "execution_count": 3,
     "metadata": {},
     "output_type": "execute_result"
    }
   ],
   "source": [
    "#changing the working directory to the main folder (RUN ONLY ONCE)\n",
    "os.chdir('../')\n",
    "os.getcwd()"
   ]
  },
  {
   "cell_type": "code",
   "execution_count": 4,
   "metadata": {},
   "outputs": [],
   "source": [
    "# True: Uses Given Parameters in config/data_params.json (could be changed by user)\n",
    "# False: Uses test Parameters in test/testdata/testdata.json (To simulate for the replication study)\n",
    "\n",
    "use_given_params = False"
   ]
  },
  {
   "cell_type": "code",
   "execution_count": 5,
   "metadata": {},
   "outputs": [
    {
     "name": "stdout",
     "output_type": "stream",
     "text": [
      "> using test parameters\n",
      "> Working on Visualization \n",
      " .\n",
      " .\n",
      " .\n",
      "> Visualization Done\n",
      "> results saved in figures folder\n"
     ]
    }
   ],
   "source": [
    "# using given parameters in config folder\n",
    "if use_given_params == True:\n",
    "    print('> using given parameters')\n",
    "    # extracting parameters from config file\n",
    "    params = DatasetMaker().make_data('default')\n",
    "    \n",
    "else:\n",
    "# using test parameters to simulate the replication paper\n",
    "    try:\n",
    "        print('> using test parameters')\n",
    "        # extracting parameters from test file\n",
    "        params = DatasetMaker().make_data('test')\n",
    "\n",
    "    except:\n",
    "        print('invalid data')\n",
    "        \n",
    "        \n",
    "        \n",
    "# initiating the model, running the model, and recording agent data for each step\n",
    "agent_data, results = RunAll().run_program(params)\n",
    "\n",
    "print('> Working on Visualization \\n .')\n",
    "# making the results graph showing number of healthy and sick passangers in each step\n",
    "Visualize().make_viz(results,params)\n",
    "print(\" .\")\n",
    "#making the gif of the bus showing the location of healhty and sick people in each step\n",
    "GifMaker().make_gif(agent_data,params)\n",
    "print(\" .\")\n",
    "print('> Visualization Done')\n",
    "print('> results saved in figures folder')"
   ]
  },
  {
   "cell_type": "code",
   "execution_count": null,
   "metadata": {},
   "outputs": [],
   "source": []
  }
 ],
 "metadata": {
  "kernelspec": {
   "display_name": "Python 3",
   "language": "python",
   "name": "python3"
  },
  "language_info": {
   "codemirror_mode": {
    "name": "ipython",
    "version": 3
   },
   "file_extension": ".py",
   "mimetype": "text/x-python",
   "name": "python",
   "nbconvert_exporter": "python",
   "pygments_lexer": "ipython3",
   "version": "3.7.9"
  }
 },
 "nbformat": 4,
 "nbformat_minor": 4
}
