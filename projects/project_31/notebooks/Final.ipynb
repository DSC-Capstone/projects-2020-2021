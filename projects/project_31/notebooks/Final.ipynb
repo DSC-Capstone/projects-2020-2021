{
 "cells": [
  {
   "cell_type": "markdown",
   "metadata": {},
   "source": [
    "## Farhood Ensan, Areeb Syed, Ziqian Cui, Bernard Wong"
   ]
  },
  {
   "cell_type": "code",
   "execution_count": 1,
   "metadata": {},
   "outputs": [],
   "source": [
    "# Importing required libraries\n",
    "import shapely\n",
    "import geopandas as gpd\n",
    "import pandas as pd\n",
    "import numpy as np\n",
    "import random\n",
    "import matplotlib as plt\n",
    "import plotly\n",
    "import plotly.express as px\n",
    "import plotly.graph_objects as go\n",
    "import os.path\n",
    "import json\n",
    "\n",
    "from mesa_geo import GeoAgent, GeoSpace\n",
    "from mesa.time import BaseScheduler\n",
    "from mesa.time import SimultaneousActivation\n",
    "from mesa import datacollection\n",
    "from mesa.datacollection import DataCollector\n",
    "from mesa import Model\n",
    "from shapely.geometry import Polygon, Point, LineString\n",
    "from PIL import Image, ImageDraw, ImageFont\n",
    "\n",
    "# silencing all warnings\n",
    "import warnings\n",
    "warnings.filterwarnings('ignore')"
   ]
  },
  {
   "cell_type": "code",
   "execution_count": 2,
   "metadata": {},
   "outputs": [],
   "source": [
    "#!pip install psutil"
   ]
  },
  {
   "cell_type": "code",
   "execution_count": 3,
   "metadata": {},
   "outputs": [],
   "source": [
    "# importing methods from other .py files\n",
    "import os\n",
    "import sys\n",
    "module_path = os.path.abspath(os.path.join('..'))\n",
    "if module_path not in sys.path:\n",
    "    sys.path.append(module_path)\n",
    "    \n",
    "from src.data.build_datasets import DatasetMaker\n",
    "from src.models.run_model import RunAll\n",
    "from src.visualization.viz import Visualize\n",
    "from src.visualization.viz_gif import GifMaker\n"
   ]
  },
  {
   "cell_type": "code",
   "execution_count": 4,
   "metadata": {},
   "outputs": [
    {
     "data": {
      "text/plain": [
       "'/Users/ifarhood/Documents/GitHub/Bus_Simulation_Model'"
      ]
     },
     "execution_count": 4,
     "metadata": {},
     "output_type": "execute_result"
    }
   ],
   "source": [
    "#changing the working directory to the main folder (RUN ONLY ONCE)\n",
    "os.chdir('../')\n",
    "os.getcwd()"
   ]
  },
  {
   "cell_type": "code",
   "execution_count": 5,
   "metadata": {},
   "outputs": [
    {
     "data": {
      "text/plain": [
       "start_loc              ('PARADISE VALLEY RD@PARKWOOD DR', '1290H5')\n",
       "stop_locs         [('PARADISE VALLEY RD@PARKWOOD DR', '1290H5'),...\n",
       "dest_loc          ('BARNARD ASIAN PACIFIC LANG ACADEMY, LZ', 'OR...\n",
       "start_time                                                 06:31:00\n",
       "stop_times        [datetime.time(6, 31), datetime.time(6, 32), d...\n",
       "dest_time                                                  07:30:00\n",
       "kids_pickup                                             [3, 12, 11]\n",
       "kids_dropoff                                                   [26]\n",
       "daysofweek                                ['M', 'T', 'W', 'H', 'F']\n",
       "morning                                                        True\n",
       "stop_geos         [<shapely.geometry.point.Point object at 0x11c...\n",
       "stop_dists        [456.8185991001796, 7281.714734990269, 3107.76...\n",
       "stop_durations                              [1.0, 14.0, 10.0, 34.0]\n",
       "speeds_by_stop    [17.03127738 19.39139577 11.58647572 15.15637213]\n",
       "outlier                                                       False\n",
       "Name: Route:T017  BA , dtype: object"
      ]
     },
     "execution_count": 5,
     "metadata": {},
     "output_type": "execute_result"
    }
   ],
   "source": [
    "routes = pd.read_csv('test/testdata/routes_v1.csv')#,index=True)\n",
    "routes.index = routes.iloc[:,0]\n",
    "routes = routes.drop(['Unnamed: 0'],axis=1)\n",
    "routes.loc['Route:T017  BA ']"
   ]
  },
  {
   "cell_type": "code",
   "execution_count": 6,
   "metadata": {},
   "outputs": [
    {
     "data": {
      "text/plain": [
       "'[1.0, 14.0, 10.0, 34.0]'"
      ]
     },
     "execution_count": 6,
     "metadata": {},
     "output_type": "execute_result"
    }
   ],
   "source": [
    "routes.loc['Route:T017  BA ']['stop_durations']"
   ]
  },
  {
   "cell_type": "code",
   "execution_count": 7,
   "metadata": {},
   "outputs": [
    {
     "data": {
      "text/plain": [
       "'[3, 12, 11]'"
      ]
     },
     "execution_count": 7,
     "metadata": {},
     "output_type": "execute_result"
    }
   ],
   "source": [
    "routes.loc['Route:T017  BA ']['kids_pickup']# + routes.loc['Route:T017  BA ']['kids_dropoff']"
   ]
  },
  {
   "cell_type": "code",
   "execution_count": 8,
   "metadata": {},
   "outputs": [],
   "source": [
    "# True: Uses Given Parameters in config/data_params.json (could be changed by user)\n",
    "# False: Uses test Parameters in test/testdata/testdata.json (To simulate for the replication study)\n",
    "\n",
    "use_given_params = True"
   ]
  },
  {
   "cell_type": "code",
   "execution_count": 9,
   "metadata": {},
   "outputs": [],
   "source": [
    "def params_setter(route, params):\n",
    "    dur = routes.loc[route]['stop_durations']\n",
    "    dur = eval(dur)\n",
    "    kids = routes.loc[route]['kids_pickup']\n",
    "    kids = eval(kids)\n",
    "    \n",
    "    if len(dur)>len(kids):\n",
    "        dur = dur[1:]\n",
    "    \n",
    "    kids = list(np.cumsum(np.array(kids)))\n",
    "    dur = list(np.cumsum(np.array(dur)))\n",
    "    #print(kids)\n",
    "    params[\"bus_stop_student_count\"] = kids\n",
    "    params[\"bus_stop_minutes_count\"] = [0]+dur[:-1]\n",
    "    params[\"student_num\"] = kids[-1]\n",
    "    params[\"steps\"] = dur[-1]\n",
    "    return params"
   ]
  },
  {
   "cell_type": "markdown",
   "metadata": {},
   "source": [
    "1) zigzag seating \n",
    ">> 15 day simulation\n",
    "aerosol_new.py >> aerosol\n",
    "\n",
    "2) implement aerosol model (take in the values) \n",
    "    check the input parameters needed (volume of the bus, # of students, air refresh rate)\n",
    "    masks, etc\n",
    "3) update droplet model\n",
    "4) get one bus for the demo\n",
    "    accurate demo for that bus based on dimentions\n",
    "        randomize bus selection based on total number of students and wheelchair\n",
    "5) "
   ]
  },
  {
   "cell_type": "code",
   "execution_count": 10,
   "metadata": {},
   "outputs": [
    {
     "data": {
      "text/plain": [
       "{'bus_stop_student_count': [3, 15, 26],\n",
       " 'bus_stop_minutes_count': [0, 14.0, 24.0],\n",
       " 'student_num': 26,\n",
       " 'steps': 58.0}"
      ]
     },
     "execution_count": 10,
     "metadata": {},
     "output_type": "execute_result"
    }
   ],
   "source": [
    "params_setter('Route:T017  BA ', {})"
   ]
  },
  {
   "cell_type": "code",
   "execution_count": 11,
   "metadata": {},
   "outputs": [
    {
     "name": "stdout",
     "output_type": "stream",
     "text": [
      "> using given parameters\n",
      "> Working on Visualization \n",
      " .\n",
      " .\n",
      " .\n",
      "> Visualization Done\n",
      "> results saved in figures folder\n"
     ]
    }
   ],
   "source": [
    "# using given parameters in config folder\n",
    "if use_given_params == True:\n",
    "    print('> using given parameters')\n",
    "    # extracting parameters from config file\n",
    "    params = DatasetMaker().make_data('bus_params')\n",
    "    \n",
    "else:\n",
    "# using test parameters to simulate the replication paper\n",
    "    try:\n",
    "        print('> using test parameters')\n",
    "        # extracting parameters from test file\n",
    "        params = DatasetMaker().make_data('test')\n",
    "\n",
    "    except:\n",
    "        print('invalid data')\n",
    "        \n",
    "        \n",
    "params_setter('Route:T017  BA ', params)        \n",
    "# initiating the model, running the model, and recording agent data for each step\n",
    "agent_data, results = RunAll().run_program(params)\n",
    "\n",
    "print('> Working on Visualization \\n .')\n",
    "# making the results graph showing number of healthy and sick passangers in each step\n",
    "Visualize().make_viz(results,params)\n",
    "print(\" .\")\n",
    "#making the gif of the bus showing the location of healhty and sick people in each step\n",
    "GifMaker().make_gif(agent_data,params)\n",
    "print(\" .\")\n",
    "print('> Visualization Done')\n",
    "print('> results saved in figures folder')"
   ]
  },
  {
   "cell_type": "code",
   "execution_count": null,
   "metadata": {},
   "outputs": [],
   "source": []
  },
  {
   "cell_type": "code",
   "execution_count": null,
   "metadata": {},
   "outputs": [],
   "source": []
  },
  {
   "cell_type": "code",
   "execution_count": null,
   "metadata": {},
   "outputs": [],
   "source": []
  },
  {
   "cell_type": "code",
   "execution_count": null,
   "metadata": {},
   "outputs": [],
   "source": []
  }
 ],
 "metadata": {
  "kernelspec": {
   "display_name": "Python 3",
   "language": "python",
   "name": "python3"
  },
  "language_info": {
   "codemirror_mode": {
    "name": "ipython",
    "version": 3
   },
   "file_extension": ".py",
   "mimetype": "text/x-python",
   "name": "python",
   "nbconvert_exporter": "python",
   "pygments_lexer": "ipython3",
   "version": "3.7.3"
  }
 },
 "nbformat": 4,
 "nbformat_minor": 4
}
