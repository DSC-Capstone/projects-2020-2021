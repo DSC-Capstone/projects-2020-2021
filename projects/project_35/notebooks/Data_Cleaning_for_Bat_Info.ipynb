{
 "cells": [
  {
   "cell_type": "code",
   "execution_count": 3,
   "metadata": {},
   "outputs": [
    {
     "name": "stderr",
     "output_type": "stream",
     "text": [
      "d:\\python\\lib\\site-packages\\distributed\\node.py:151: UserWarning: Port 8787 is already in use.\n",
      "Perhaps you already have a cluster running?\n",
      "Hosting the HTTP server on port 6281 instead\n",
      "  warnings.warn(\n"
     ]
    }
   ],
   "source": [
    "import pandas as pd\n",
    "import numpy as np\n",
    "\n",
    "import dask\n",
    "import dask.dataframe as dd\n",
    "from dask.distributed import Client, LocalCluster\n",
    "import multiprocessing.popen_spawn_win32\n",
    "\n",
    "#create DASK local cluster and client\n",
    "cluster = LocalCluster(n_workers=4)\n",
    "client = Client(cluster)\n",
    "\n",
    "#read csv file\n",
    "bat_info = dd.read_csv('../data/batt_info.csv000',\n",
    "                       delimiter =\"\\1\",\n",
    "                       assume_missing=True)\n",
    "\n",
    "#drop missing value\n",
    "bat_info_clean = bat_info[bat_info.interval_start_utc <'2022']\n",
    "bat_info_clean = bat_info_clean[(bat_info.interval_end_utc <'2022')& (bat_info.interval_end_utc >'2019')]\n",
    "bat_info_clean = bat_info_clean[(bat_info_clean.dt <'2022')& (bat_info_clean.dt >'2019')]\n",
    "bat_info_clean = bat_info_clean[bat_info_clean.battery_enum <10]\n",
    "\n",
    "#Keep only one record for one guid\n",
    "bat_info_clean = bat_info_clean.drop_duplicates(subset=['guid'])\n",
    "\n",
    "#Normalize the chemistry\n",
    "bat_info_clean['chemistry'] = bat_info_clean['chemistry'].map_partitions(lambda x: x.astype(str).str.lower())\n",
    "\n",
    "def norm_chem(i):\n",
    "    #find the value for lion\n",
    "    \n",
    "    s = i.chemistry\n",
    "    if(s == 'lion'):\n",
    "        return 'lion'\n",
    "    elif(s == 'liio'):\n",
    "        return 'lion'\n",
    "    elif(s == 'li-i'):\n",
    "        return 'lion'\n",
    "    elif(s == 'li'):\n",
    "        return 'lion'\n",
    "    elif(s == 'lio'):\n",
    "        return 'lion'\n",
    "    \n",
    "    #find the value for lip\n",
    "    elif(s == 'lip'):\n",
    "        return 'lip'\n",
    "    elif(s == 'li p'):\n",
    "        return 'lip'\n",
    "    elif(s == 'lipo'):\n",
    "        return 'lip'\n",
    "    \n",
    "    #find the value of pbac\n",
    "    elif(s == 'pbac'):\n",
    "        return 'pbac'\n",
    "    \n",
    "    #find the missing values\n",
    "    elif(s == 'nan'):\n",
    "        return np.nan\n",
    "    elif(s == 'miss'):\n",
    "        return np.nan\n",
    "    else:\n",
    "        return np.nan\n",
    "    \n",
    "bat_info_clean['chemistry'] = bat_info_clean.apply(norm_chem, axis=1, meta=(None, 'str'))\n",
    "\n",
    "#drop missing value\n",
    "bat_info_clean = bat_info_clean.dropna(subset=['chemistry','battery_count','designed_capacity'])\n",
    "cond1 = bat_info_clean.designed_capacity != 0\n",
    "cond2 = bat_info_clean.battery_count != 0\n",
    "\n",
    "bat_info_clean = bat_info_clean[cond1& cond2]\n",
    "\n",
    "#only keep useful features\n",
    "bat_info_clean =bat_info_clean[['chemistry','battery_count','designed_capacity']]\n",
    "bat_info_clean = bat_info_clean.compute()\n",
    "\n",
    "#save the output as csv file\n",
    "bat_info_clean.to_csv('../data/batt_info_clean.csv',index = False)"
   ]
  },
  {
   "cell_type": "code",
   "execution_count": 1,
   "metadata": {},
   "outputs": [
    {
     "data": {
      "text/plain": [
       "32631"
      ]
     },
     "execution_count": 1,
     "metadata": {},
     "output_type": "execute_result"
    }
   ],
   "source": [
    "import pandas as pd\n",
    "import numpy as np\n",
    "\n",
    "df = pd.read_csv('../data/batt_info_clean.csv')\n",
    "len(df)"
   ]
  },
  {
   "cell_type": "code",
   "execution_count": null,
   "metadata": {},
   "outputs": [],
   "source": []
  }
 ],
 "metadata": {
  "kernelspec": {
   "display_name": "Python 3",
   "language": "python",
   "name": "python3"
  },
  "language_info": {
   "codemirror_mode": {
    "name": "ipython",
    "version": 3
   },
   "file_extension": ".py",
   "mimetype": "text/x-python",
   "name": "python",
   "nbconvert_exporter": "python",
   "pygments_lexer": "ipython3",
   "version": "3.9.1"
  }
 },
 "nbformat": 4,
 "nbformat_minor": 2
}
