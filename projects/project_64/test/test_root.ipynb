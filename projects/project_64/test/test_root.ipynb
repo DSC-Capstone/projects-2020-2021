{
 "cells": [
  {
   "cell_type": "code",
   "execution_count": 13,
   "metadata": {},
   "outputs": [],
   "source": [
    "import uproot\n",
    "import json\n",
    "import numpy as np"
   ]
  },
  {
   "cell_type": "code",
   "execution_count": 31,
   "metadata": {},
   "outputs": [
    {
     "name": "stdout",
     "output_type": "stream",
     "text": [
      "<TFileRecreate b'test.root' at 0x7f66f1a0cd30>\n"
     ]
    }
   ],
   "source": [
    "h = uproot.recreate(\"testdata/test.root\")\n",
    "print(h)"
   ]
  },
  {
   "cell_type": "code",
   "execution_count": 32,
   "metadata": {},
   "outputs": [],
   "source": [
    "f = uproot.open('/teams/DSC180A_FA20_A00/b06particlephysics/train/ntuple_merged_10.root')"
   ]
  },
  {
   "cell_type": "code",
   "execution_count": 16,
   "metadata": {},
   "outputs": [],
   "source": [
    "with open(\"../config/test-data-params.json\") as fh:\n",
    "    params = json.load(fh)"
   ]
  },
  {
   "cell_type": "code",
   "execution_count": 27,
   "metadata": {},
   "outputs": [],
   "source": [
    "h = uproot.open(\"testdata/test.root\")"
   ]
  },
  {
   "cell_type": "code",
   "execution_count": 17,
   "metadata": {},
   "outputs": [],
   "source": [
    "num_lines = 3"
   ]
  },
  {
   "cell_type": "code",
   "execution_count": 18,
   "metadata": {},
   "outputs": [],
   "source": [
    "newtree = {}\n",
    "extender = {}\n",
    "\n",
    "for feat in params[\"features\"]:\n",
    "    newtree[feat] = uproot.newbranch(np.int32)\n",
    "    extender[feat] = np.tile([0], num_lines)\n",
    "    \n",
    "for label in params[\"labels\"]:\n",
    "    newtree[label] = uproot.newbranch(np.int32)\n",
    "    extender[label] = np.tile([1], num_lines)\n",
    "\n",
    "for spec in params[\"spectators\"]:\n",
    "    newtree[spec] = uproot.newbranch(np.int32)\n",
    "    extender[spec] = np.tile([1], num_lines)\n",
    "  "
   ]
  },
  {
   "cell_type": "code",
   "execution_count": 19,
   "metadata": {},
   "outputs": [
    {
     "name": "stdout",
     "output_type": "stream",
     "text": [
      "{'fj_jetNTracks': <uproot.write.objects.TTree.newbranch object at 0x7f66e96bf760>, 'fj_nSV': <uproot.write.objects.TTree.newbranch object at 0x7f66e96bf5b0>, 'fj_tau0_trackEtaRel_0': <uproot.write.objects.TTree.newbranch object at 0x7f66e96bf610>, 'fj_tau0_trackEtaRel_1': <uproot.write.objects.TTree.newbranch object at 0x7f66e96bf880>, 'fj_tau0_trackEtaRel_2': <uproot.write.objects.TTree.newbranch object at 0x7f66e96bf910>, 'fj_tau1_trackEtaRel_0': <uproot.write.objects.TTree.newbranch object at 0x7f66e96bfa30>, 'fj_tau1_trackEtaRel_1': <uproot.write.objects.TTree.newbranch object at 0x7f66e96bfa60>, 'fj_tau1_trackEtaRel_2': <uproot.write.objects.TTree.newbranch object at 0x7f66e96bfa90>, 'fj_tau_flightDistance2dSig_0': <uproot.write.objects.TTree.newbranch object at 0x7f66e96bfb50>, 'fj_tau_flightDistance2dSig_1': <uproot.write.objects.TTree.newbranch object at 0x7f66e96bf8b0>, 'fj_tau_vertexDeltaR_0': <uproot.write.objects.TTree.newbranch object at 0x7f66e96bfc10>, 'fj_tau_vertexEnergyRatio_0': <uproot.write.objects.TTree.newbranch object at 0x7f66e96bfc40>, 'fj_tau_vertexEnergyRatio_1': <uproot.write.objects.TTree.newbranch object at 0x7f66e96bfca0>, 'fj_tau_vertexMass_0': <uproot.write.objects.TTree.newbranch object at 0x7f66e96bfc70>, 'fj_tau_vertexMass_1': <uproot.write.objects.TTree.newbranch object at 0x7f66e96bf9d0>, 'fj_trackSip2dSigAboveBottom_0': <uproot.write.objects.TTree.newbranch object at 0x7f66e96bfdc0>, 'fj_trackSip2dSigAboveBottom_1': <uproot.write.objects.TTree.newbranch object at 0x7f66e96bfdf0>, 'fj_trackSip2dSigAboveCharm_0': <uproot.write.objects.TTree.newbranch object at 0x7f66e96bf160>, 'fj_trackSipdSig_0': <uproot.write.objects.TTree.newbranch object at 0x7f66e96bf190>, 'fj_trackSipdSig_0_0': <uproot.write.objects.TTree.newbranch object at 0x7f66e96bfee0>, 'fj_trackSipdSig_0_1': <uproot.write.objects.TTree.newbranch object at 0x7f66e96bffa0>, 'fj_trackSipdSig_1': <uproot.write.objects.TTree.newbranch object at 0x7f66e96bf700>, 'fj_trackSipdSig_1_0': <uproot.write.objects.TTree.newbranch object at 0x7f66e96bfd00>, 'fj_trackSipdSig_1_1': <uproot.write.objects.TTree.newbranch object at 0x7f66e96bff40>, 'fj_trackSipdSig_2': <uproot.write.objects.TTree.newbranch object at 0x7f66e96bf400>, 'fj_trackSipdSig_3': <uproot.write.objects.TTree.newbranch object at 0x7f66e96bfe20>, 'fj_z_ratio': <uproot.write.objects.TTree.newbranch object at 0x7f66e96bff10>, 'label_QCD_b': <uproot.write.objects.TTree.newbranch object at 0x7f66e96bf550>, 'label_QCD_bb': <uproot.write.objects.TTree.newbranch object at 0x7f66e96bf820>, 'label_QCD_c': <uproot.write.objects.TTree.newbranch object at 0x7f66e96bff70>, 'label_QCD_cc': <uproot.write.objects.TTree.newbranch object at 0x7f66e96bf460>, 'label_QCD_others': <uproot.write.objects.TTree.newbranch object at 0x7f66e96bfe50>, 'sample_isQCD': <uproot.write.objects.TTree.newbranch object at 0x7f66e96bf4c0>, 'label_H_bb': <uproot.write.objects.TTree.newbranch object at 0x7f66e96d0100>, 'fj_sdmass': <uproot.write.objects.TTree.newbranch object at 0x7f66e96bfbe0>, 'fj_pt': <uproot.write.objects.TTree.newbranch object at 0x7f66e96d0370>}\n",
      "{'fj_jetNTracks': array([0, 0, 0]), 'fj_nSV': array([0, 0, 0]), 'fj_tau0_trackEtaRel_0': array([0, 0, 0]), 'fj_tau0_trackEtaRel_1': array([0, 0, 0]), 'fj_tau0_trackEtaRel_2': array([0, 0, 0]), 'fj_tau1_trackEtaRel_0': array([0, 0, 0]), 'fj_tau1_trackEtaRel_1': array([0, 0, 0]), 'fj_tau1_trackEtaRel_2': array([0, 0, 0]), 'fj_tau_flightDistance2dSig_0': array([0, 0, 0]), 'fj_tau_flightDistance2dSig_1': array([0, 0, 0]), 'fj_tau_vertexDeltaR_0': array([0, 0, 0]), 'fj_tau_vertexEnergyRatio_0': array([0, 0, 0]), 'fj_tau_vertexEnergyRatio_1': array([0, 0, 0]), 'fj_tau_vertexMass_0': array([0, 0, 0]), 'fj_tau_vertexMass_1': array([0, 0, 0]), 'fj_trackSip2dSigAboveBottom_0': array([0, 0, 0]), 'fj_trackSip2dSigAboveBottom_1': array([0, 0, 0]), 'fj_trackSip2dSigAboveCharm_0': array([0, 0, 0]), 'fj_trackSipdSig_0': array([0, 0, 0]), 'fj_trackSipdSig_0_0': array([0, 0, 0]), 'fj_trackSipdSig_0_1': array([0, 0, 0]), 'fj_trackSipdSig_1': array([0, 0, 0]), 'fj_trackSipdSig_1_0': array([0, 0, 0]), 'fj_trackSipdSig_1_1': array([0, 0, 0]), 'fj_trackSipdSig_2': array([0, 0, 0]), 'fj_trackSipdSig_3': array([0, 0, 0]), 'fj_z_ratio': array([0, 0, 0]), 'label_QCD_b': array([1, 1, 1]), 'label_QCD_bb': array([1, 1, 1]), 'label_QCD_c': array([1, 1, 1]), 'label_QCD_cc': array([1, 1, 1]), 'label_QCD_others': array([1, 1, 1]), 'sample_isQCD': array([1, 1, 1]), 'label_H_bb': array([1, 1, 1]), 'fj_sdmass': array([1, 1, 1]), 'fj_pt': array([1, 1, 1])}\n"
     ]
    }
   ],
   "source": [
    "print(newtree)\n",
    "print(extender)"
   ]
  },
  {
   "cell_type": "code",
   "execution_count": 10,
   "metadata": {},
   "outputs": [
    {
     "ename": "SyntaxError",
     "evalue": "invalid syntax (<ipython-input-10-3f250cf1a3e3>, line 1)",
     "output_type": "error",
     "traceback": [
      "\u001b[0;36m  File \u001b[0;32m\"<ipython-input-10-3f250cf1a3e3>\"\u001b[0;36m, line \u001b[0;32m1\u001b[0m\n\u001b[0;31m    h[\"deepntuplizer/tree\"] =\u001b[0m\n\u001b[0m                              ^\u001b[0m\n\u001b[0;31mSyntaxError\u001b[0m\u001b[0;31m:\u001b[0m invalid syntax\n"
     ]
    }
   ],
   "source": [
    "#h[\"deepntuplizer/tree\"] = "
   ]
  },
  {
   "cell_type": "code",
   "execution_count": 20,
   "metadata": {},
   "outputs": [],
   "source": [
    "h['deepntuplizertree'] = uproot.newtree(newtree)"
   ]
  },
  {
   "cell_type": "code",
   "execution_count": 24,
   "metadata": {},
   "outputs": [],
   "source": [
    "h['deepntuplizertree'].extend(extender)"
   ]
  },
  {
   "cell_type": "code",
   "execution_count": null,
   "metadata": {},
   "outputs": [],
   "source": []
  }
 ],
 "metadata": {
  "kernelspec": {
   "display_name": "ml-latest",
   "language": "python",
   "name": "ml-latest"
  },
  "language_info": {
   "codemirror_mode": {
    "name": "ipython",
    "version": 3
   },
   "file_extension": ".py",
   "mimetype": "text/x-python",
   "name": "python",
   "nbconvert_exporter": "python",
   "pygments_lexer": "ipython3",
   "version": "3.8.6"
  }
 },
 "nbformat": 4,
 "nbformat_minor": 4
}
