{
 "cells": [
  {
   "cell_type": "markdown",
   "metadata": {},
   "source": [
<<<<<<< Updated upstream
    "<h1><center>Airborne Infection Risk Estimator for Indoor Environments\n",
=======
    "<h1><center>Airborne Infection Risk Calculator for Indoor Environments\n",
>>>>>>> Stashed changes
    "</center></h1>\n",
    "\n",
    "<center>By Etienne Doidic, Zhexu Li, and Nicholas Kho <center>"
   ]
  },
  {
   "cell_type": "markdown",
   "metadata": {},
   "source": [
    "The global pandemic of COVID-19 has demonstrated the exceptional transmissibility of the SARS-CoV-2 virus and has highlighted the vulnerability of the built environment to airborne pathogens. \n",
    "As buildings today reopen it is important to understand the risk of airborne infection based on building and occupant features, for not only the current pandemic, but for future ones as well. One method that has been developed to address this problem is the infection risk calculator. These calculators allow users to input variables such as the number of occupants,  room dimensions, air change per hour (ACH), masks/no masks, etc., in order to determine the risk of infected person(s) transmitting a virus to susceptible people the room [Lelieveld et al. 2020](https://doi.org/10.3390/ijerph17218114).\n",
    "\n",
<<<<<<< Updated upstream
    "While these calculators may be convenient in some cases, they are “black box” algorithms, meaning the underlying code is not accessible or transparent to users. With a large amount of skepticism surrounding the academic literature regarding this virus and its transmission [[Scheirer 2020]](https://doi.org/10.1080/00963402.2020.1778361), we believe it is important infection risk calculators are as transparent as possible. So we have placed all of our assumptions and their sources in assumptions.py, which can be accessed on the user interface website. \n",
    "\n",
    "In this notebook we describe our methods for developing our own infection risk algorithm for the SARS-CoV-2 virus, compiling room data from the UC San Diego campus, and compiling it into a website. "
=======
    "While these calculators may be convenient in some cases, they are “black box” algorithms, meaning the underlying code is not accessible or transparent to users. With a large amount of skepticism surrounding the academic literature regarding this virus and its transmission [[Scheirer 2020]](https://doi.org/10.1080/00963402.2020.1778361), we believe it is important infection risk calculators are as transparent as possible.\n",
    "\n",
    "In this notebook we describe our methods for developing our own infection risk algorithm for the SARS-CoV-2 virus which accepts room data, and a set of parameters regarding occupants and infection rates of the surrounding community. Code and assumptions made in the algorithm will be clearly explained to users for transparency. "
>>>>>>> Stashed changes
   ]
  },
  {
   "cell_type": "code",
<<<<<<< Updated upstream
   "execution_count": 1,
=======
   "execution_count": 11,
>>>>>>> Stashed changes
   "metadata": {},
   "outputs": [],
   "source": [
    "#Imports\n",
    "import matplotlib.pyplot as plt\n",
    "import numpy as np\n",
    "import sys\n",
    "import os\n",
    "sys_path = os.path.dirname(os.getcwd())\n",
    "src_path = sys_path + \"/src\"\n",
    "\n",
    "sys.path.insert(1, src_path)\n",
    "from calculator import * \n",
    "assumptions = var\n",
    "src_path = sys_path + \"/notebook\"\n",
    "\n",
    "sys.path.insert(1, src_path)\n"
   ]
  },
  {
   "cell_type": "markdown",
   "metadata": {},
   "source": [
<<<<<<< Updated upstream
    "## Airborne Infection Risk Estimator"
   ]
  },
  {
   "cell_type": "markdown",
   "metadata": {},
   "source": [
    "### How does it Work?"
=======
    "## How does it Work?"
>>>>>>> Stashed changes
   ]
  },
  {
   "cell_type": "markdown",
   "metadata": {},
   "source": [
    "To calculate the risk of infection in a given room, the emmission rate of quanta is needed. A quantum is defined as the viral load i.e. the dose of contaminated airborne droplet nuclei required to cause infection in 63% of persons. \n",
    "The emmission rate of quanta is caclulated with the following formula:\n",
    "![title](images/formula1.1.png)\n",
    "\n",
    "[Morawska et al. 2020](https://doi.org/10.1016/j.envint.2020.105794)"
   ]
  },
  {
   "cell_type": "markdown",
   "metadata": {},
   "source": [
    "<b>Ni</b> is the droplet concentrations by diameter in <b>particles per cubic centimeter</b>. The droplet concentrations are dependent on the expiratory activity of the infected person. Droplet concentrations by diameter were taken from [Morawska et al. 2009](https://doi.org/10.1016/j.jaerosci.2008.11.002). \"Speaking\" was considered to be the average of \"singing\" and \"counting.\" "
   ]
  },
  {
   "cell_type": "code",
<<<<<<< Updated upstream
   "execution_count": 2,
=======
   "execution_count": 5,
>>>>>>> Stashed changes
   "metadata": {},
   "outputs": [
    {
     "data": {
      "text/html": [
       "<div>\n",
       "<style scoped>\n",
       "    .dataframe tbody tr th:only-of-type {\n",
       "        vertical-align: middle;\n",
       "    }\n",
       "\n",
       "    .dataframe tbody tr th {\n",
       "        vertical-align: top;\n",
       "    }\n",
       "\n",
       "    .dataframe thead th {\n",
       "        text-align: right;\n",
       "    }\n",
       "</style>\n",
       "<table border=\"1\" class=\"dataframe\">\n",
       "  <thead>\n",
       "    <tr style=\"text-align: right;\">\n",
       "      <th></th>\n",
       "      <th>speaking</th>\n",
       "      <th>counting</th>\n",
       "      <th>whispering</th>\n",
       "      <th>singing</th>\n",
       "      <th>breathing</th>\n",
       "    </tr>\n",
       "  </thead>\n",
       "  <tbody>\n",
       "    <tr>\n",
       "      <th>.8μm</th>\n",
       "      <td>0.4935</td>\n",
       "      <td>0.236</td>\n",
       "      <td>0.110</td>\n",
       "      <td>0.751</td>\n",
       "      <td>0.084</td>\n",
       "    </tr>\n",
       "    <tr>\n",
       "      <th>1.8μm</th>\n",
       "      <td>0.1035</td>\n",
       "      <td>0.068</td>\n",
       "      <td>0.014</td>\n",
       "      <td>0.139</td>\n",
       "      <td>0.009</td>\n",
       "    </tr>\n",
       "    <tr>\n",
       "      <th>3.5μm</th>\n",
       "      <td>0.0730</td>\n",
       "      <td>0.007</td>\n",
       "      <td>0.004</td>\n",
       "      <td>0.139</td>\n",
       "      <td>0.003</td>\n",
       "    </tr>\n",
       "    <tr>\n",
       "      <th>5.5μm</th>\n",
       "      <td>0.0350</td>\n",
       "      <td>0.011</td>\n",
       "      <td>0.002</td>\n",
       "      <td>0.059</td>\n",
       "      <td>0.002</td>\n",
       "    </tr>\n",
       "  </tbody>\n",
       "</table>\n",
       "</div>"
      ],
      "text/plain": [
       "       speaking  counting  whispering  singing  breathing\n",
       ".8μm     0.4935     0.236       0.110    0.751      0.084\n",
       "1.8μm    0.1035     0.068       0.014    0.139      0.009\n",
       "3.5μm    0.0730     0.007       0.004    0.139      0.003\n",
       "5.5μm    0.0350     0.011       0.002    0.059      0.002"
      ]
     },
<<<<<<< Updated upstream
     "execution_count": 2,
=======
     "execution_count": 5,
>>>>>>> Stashed changes
     "metadata": {},
     "output_type": "execute_result"
    }
   ],
   "source": [
    "pd.DataFrame(assumptions['droplet_conc'])"
   ]
  },
  {
   "cell_type": "markdown",
   "metadata": {},
   "source": [
    "<b>cv</b> corresponds to the <b>viral load in the sputum</b> (i.e. infectious mucus) of the infected person, expressed in <b>RNA copies per mililiter</b>. The viral load in sputum of an infected person varies and is dependent on the stage of infection [[Yu et al. 2020]](https://doi.org/10.1186/s13054-020-02893-8).\n",
    "A range of 1e5 - 1e9 RNA copies per mililiter for viral load in the sputum is determined but for this experiment we will choose the maximum viral load to simulate the worst case scenario for infection spread [[Walsh et al. 2020]](https://doi.org/10.1016/j.jinf.2020.06.067).\n",
    "\n",
    "<b>ci</b> is a conversion factor defined as the ratio between one infectious quantum and the infectious dose expressed in viral RNA copies, expressed in <b>quanta per RNA copies</b>. A survey of ci's indicates a range of .01 to .1 but finally a ci of .02 was selected to reflect the average value of the infectious doses reported in [Watanabe et al. 2010](https://onlinelibrary.wiley.com/doi/full/10.1111/j.1539-6924.2010.01427.x). The study covers SARS-CoV (not to be confused with SARS-CoV-2, the virus that causes COVID-19) but was selected because it provides a more well-studied report of the infectivity of coronaviruses, which has not possible for SARS-CoV-2 due to its very recent development.\n",
    "\n",
    "<b>Inhalation Rate (IR)</b> is the product of breathing rate and tidal volume, expressed in <b>cubic meters per hour</b>. IR is dependent on the activity of the infected subject. The following values were chosen from [Adams 1993](https://ww2.arb.ca.gov/sites/default/files/classic//research/apr/past/a033-205.pdf)\n"
   ]
  },
  {
   "cell_type": "markdown",
   "metadata": {},
   "source": [
    "Next we must calculate the quanta concentration as a function of time using the following equation:\n",
    "![title](images/formula1.png)\n",
    "[Gammaitoni, Nucci 1997](https://www.ncbi.nlm.nih.gov/pmc/articles/PMC2627642/)"
   ]
  },
  {
   "cell_type": "markdown",
   "metadata": {},
   "source": [
    "where <b>IVRR (hr−1)</b> represents the infectious virus removal rate in the space investigated. The infectious virus removal rate (IVRR) is the sum of three parameters [(Yang and Marr, 2011)](https://doi.org/10.1371/journal.pone.0021481): the air change per hour (<b>ACH</b>) via ventilation, the <b>particle deposition</b> on surfaces via gravitational settling, and the <b>viral inactivation rate</b> (i.e. how long the virus remains contagious in aerosol).\n",
    "\n",
    "<b>n0</b> represents the initial number of quanta in the space\n",
    "\n",
    "<b>I</b> is the number of infectious subjects, \n",
    "\n",
    "<b>V</b> is the volume of the indoor environment considered,\n",
    "\n",
    "and <b>ERq</b> is the abovementioned quanta emission rate (quanta h−1)\n",
    "\n",
    "This model was selected because it has been used in previous papers to estimate infection risk of other airborne diseases in indoor environments. For example [Wagner et al. 2009](https://bmcmedicine.biomedcentral.com/articles/10.1186/1741-7015-7-81)\n",
    "\n",
    "The <b>viral inactivation rate</b> of SARS-CoV2 was determined to be .63 by [Doremalen et al. 2020](https://doi.org/10.1056/nejmc2004973).\n",
    "\n",
    "<b>Deposition rate</b> is determined by the ratio of the settling velocity of the micrometric particles (1e-4 m/s) and \n",
    "assuming the height of the emmission source. Given the average height of a person is 1.5 m, the deposition_rate is assumed to be .24 per hour [(Chatoutsidou and Lazaridis, 2019)](https://doi.org/10.1016/j.culher.2019.02.017)\n",
    "\n",
    "<b>ACH</b> is dependent on room conditions. Is a window open? Is the air conditioning pushing in new air? In order to determine the ACH we use the flow rate of the VAV inside of the room. VAV flow rates were determined using VAV spec sheets."
   ]
  },
  {
   "cell_type": "markdown",
   "metadata": {},
   "source": [
    "<b>n0</b> or initial quanta is assumed to be zero in our experiment. This is because there doesn't seem to be an accurate way of determining this value. Assuming a natural ventilation ACH of .2, the IVRR would be 1.02(hr-1) meaning that in a little under an hour any viral particles would be inactive. So for the sake of this experiment we will assume the room has been empty for about an hour beforehand. "
   ]
  },
  {
   "cell_type": "markdown",
   "metadata": {},
   "source": [
    "Finally, to determine the the number of predicted susceptible people infected after the exposure time, we must find the product of the infection risk R and the number of susceptible people. \n",
    "To find R, we use the function below\n",
    "![title](images/formula3.png)"
   ]
  },
  {
   "cell_type": "markdown",
   "metadata": {},
   "source": [
<<<<<<< Updated upstream
    "### Let's Try Out Some Estimations"
=======
    "## Let's Try Out Some Estimations"
>>>>>>> Stashed changes
   ]
  },
  {
   "cell_type": "code",
<<<<<<< Updated upstream
   "execution_count": 3,
=======
   "execution_count": 12,
>>>>>>> Stashed changes
   "metadata": {},
   "outputs": [
    {
     "name": "stdout",
     "output_type": "stream",
     "text": [
<<<<<<< Updated upstream
      "Emission rate in quanta per hour for an infected singer exercising heavily: 429.40479084296925\n",
      "                                 for an infected resting person whispering: 2.207333975988981\n"
=======
      "Emission rate in quanta per hour for an infected singer exercising heavily: 433.53496730642007\n",
      "                                 for an infected resting person whispering: 2.278129054343292\n"
>>>>>>> Stashed changes
     ]
    }
   ],
   "source": [
    "#Emmission Rates based on activity using the Morawska et al. equation\n",
    "ERq1 = get_quanta_emmission_rate('heavy_exercise', 'singing',assumptions)\n",
    "ERq2 = get_quanta_emmission_rate('resting', 'whispering', assumptions)\n",
    "print('Emission rate in quanta per hour for an infected singer exercising heavily: ' + str(ERq1))\n",
    "print('                                 for an infected resting person whispering: ' + str(ERq2))"
   ]
  },
  {
<<<<<<< Updated upstream
   "cell_type": "markdown",
   "metadata": {},
   "source": [
    "Below is the quanta concentration over time using the recomended airflow from ASHRAE for Center 115, and no ventilation."
=======
   "cell_type": "code",
   "execution_count": 13,
   "metadata": {},
   "outputs": [
    {
     "name": "stdout",
     "output_type": "stream",
     "text": [
      "User input error: Room CENTER 115 not found.\n"
     ]
    }
   ],
   "source": [
    "#Must read in some parameters in order to estimate quanta concentration\n",
    "#--------User Parameters----------------\n",
    "#Room ID\n",
    "room_id = 'CENTER 115'\n",
    "n_infected  = 1\n",
    "#Duration in room in hours\n",
    "t = 1.25\n",
    "#Activity\n",
    "#For our experiment we will assume the occupants are resting (sitting)\n",
    "activities = ['resting', 'light_exercise', 'moderate_exercise', 'heavy_exercise']\n",
    "activity = activities[0]\n",
    "\n",
    "#Vocal Activity \n",
    "#For our experiment we will assume the occupants are speaking.\n",
    "expiratory_activities = ['speaking', 'whispering', 'singing', 'breathing']\n",
    "expiratory_activity = expiratory_activities[0]\n",
    "\n",
    "#Room data\n",
    "room_dic = get_room_data(sys_path + '/data/masterBuildingData.csv', room_id)\n",
    "room_dic"
>>>>>>> Stashed changes
   ]
  },
  {
   "cell_type": "code",
<<<<<<< Updated upstream
   "execution_count": 14,
   "metadata": {},
   "outputs": [
    {
     "data": {
      "image/png": "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\n",
=======
   "execution_count": 4,
   "metadata": {},
   "outputs": [
    {
     "name": "stdout",
     "output_type": "stream",
     "text": [
      "Min ACH for CENTER 115 is 1.719885340977268\n"
     ]
    },
    {
     "data": {
      "image/png": "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\n",
>>>>>>> Stashed changes
      "text/plain": [
       "<Figure size 432x288 with 1 Axes>"
      ]
     },
     "metadata": {
      "needs_background": "light"
     },
     "output_type": "display_data"
    }
   ],
   "source": [
    "#Now lets estimate quanta concentration\n",
<<<<<<< Updated upstream
    "room_dic = get_room_data(sys_path + '/data/masterBuildingData.csv', 'Center Hall', '101')\n",
    "ach = get_air_changes_per_hour(room_dic['ASHRAE_Airflow'], room_dic['Volume'])\n",
    "#IVRR is the sum of the deposition rate, inactivation rate, and the Air change rate\n",
    "ivrr = .63 + .24 + ach\n",
    "t = 1\n",
    "def quanta_concentration(t, I = 1, ERq = ERq1, V = room_dic['room_volume_m'], n0 = 0, IVRR = ivrr):\n",
=======
    "ach = get_air_changes_per_hour(min(room_dic['cfm_range']), room_dic['room_volume'])\n",
    "print(\"Min ACH for \" + str(room_id) + \" is \" + str(ach))\n",
    "#IVRR is the sum of the deposition rate, inactivation rate, and the Air change rate\n",
    "ivrr = .63 + .24 + ach\n",
    "def quanta_concentration(t, I = n_infected, ERq = ERq1, V = room_dic['room_volume_m'], n0 = 0, IVRR = ivrr):\n",
    "    return ((ERq * I) / (IVRR * V)) + (n0 + ((ERq * I) / IVRR)) * ((np.e**(-IVRR * t)) / V)\n",
    "\n",
    "fig = plt.figure()\n",
    "ax = plt.axes()\n",
    "plt.xlabel('Time (hr.)')\n",
    "plt.ylabel('Quanta per cubic meter')\n",
    "plt.title('Minimum Ventilation')\n",
    "f2 = np.vectorize(quanta_concentration) \n",
    "x = np.linspace(0, t)\n",
    "ax.plot(x, f2(x));"
   ]
  },
  {
   "cell_type": "code",
   "execution_count": 5,
   "metadata": {},
   "outputs": [
    {
     "data": {
      "image/png": "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\n",
      "text/plain": [
       "<Figure size 432x288 with 1 Axes>"
      ]
     },
     "metadata": {
      "needs_background": "light"
     },
     "output_type": "display_data"
    }
   ],
   "source": [
    "def quanta_concentration(t, I = n_infected, ERq = ERq2, V = room_dic['room_volume_m'], n0 = 0, IVRR = ivrr):\n",
>>>>>>> Stashed changes
    "    return ((ERq * I) / (IVRR * V)) + (n0 + ((ERq * I) / IVRR)) * ((np.e**(-IVRR * t)) / V)\n",
    "\n",
    "fig = plt.figure()\n",
    "ax = plt.axes()\n",
    "plt.xlabel('Time (hr.)')\n",
    "plt.ylabel('Quanta per cubic meter')\n",
    "plt.title('Minimum Ventilation')\n",
    "f2 = np.vectorize(quanta_concentration) \n",
    "x = np.linspace(0, t)\n",
    "ax.plot(x, f2(x));"
   ]
  },
  {
   "cell_type": "code",
<<<<<<< Updated upstream
   "execution_count": 15,
=======
   "execution_count": 6,
>>>>>>> Stashed changes
   "metadata": {},
   "outputs": [
    {
     "data": {
<<<<<<< Updated upstream
      "image/png": "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\n",
=======
      "image/png": "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\n",
>>>>>>> Stashed changes
      "text/plain": [
       "<Figure size 432x288 with 1 Axes>"
      ]
     },
     "metadata": {
      "needs_background": "light"
     },
     "output_type": "display_data"
    }
   ],
   "source": [
    "ivrr = .63 + .24\n",
<<<<<<< Updated upstream
    "def quanta_concentration(t, I = 1, ERq = ERq1, V = room_dic['room_volume_m'], n0 = 0, IVRR = ivrr):\n",
=======
    "def quanta_concentration(t, I = n_infected, ERq = ERq1, V = room_dic['room_volume_m'], n0 = 0, IVRR = ivrr):\n",
>>>>>>> Stashed changes
    "    return ((ERq * I) / (IVRR * V)) + (n0 + ((ERq * I) / IVRR)) * ((np.e**(-IVRR * t)) / V)\n",
    "\n",
    "fig = plt.figure()\n",
    "ax = plt.axes()\n",
    "plt.xlabel('Time (hr.)')\n",
    "plt.ylabel('Quanta per cubic meter')\n",
    "plt.title('Minimum Ventilation')\n",
    "f2 = np.vectorize(quanta_concentration) \n",
    "x = np.linspace(0, t)\n",
    "ax.plot(x, f2(x));"
   ]
  },
  {
   "cell_type": "markdown",
   "metadata": {},
   "source": [
<<<<<<< Updated upstream
    "As we can see ventilation versus no ventilation is the difference between exponential decay of pathogenic material in the air and more linear decay\n",
    "\n",
    "With our infection_risk function, calculating the infection_risk can be done simply by inputing the duration of the event, the building, room id, number of occupants, activity, and mask wearing (True or False).\n",
    "The average of two risks can be used to get the risk associated with doing both sets of activities. "
=======
    "Above we have plotted the quanta concentration over time using minimum ventilation as well as no ventilation at all. \n",
    "It is important to note that this model of quanta concentration assumes that the air change will begin at t = 0 so the quanta concentration will continue to decrease over time. This implies the building HVAC system would ventilate in a constant fashion. In reality, HVAC systems tend to work in a cyclical fashion, providing short spurts of air to maintain stable temperatures. Below is an figure from Gupta et al. \"Zonal Air Handling in Commercial Buildings\" depicting this behavior. \n",
    "\n",
    "![title](images/supplyairflow.png)\n"
>>>>>>> Stashed changes
   ]
  },
  {
   "cell_type": "code",
<<<<<<< Updated upstream
   "execution_count": 26,
=======
   "execution_count": null,
   "metadata": {},
   "outputs": [],
   "source": []
  },
  {
   "cell_type": "code",
   "execution_count": 7,
>>>>>>> Stashed changes
   "metadata": {},
   "outputs": [
    {
     "name": "stdout",
     "output_type": "stream",
     "text": [
<<<<<<< Updated upstream
      "It is estimated that an individual has 1.7540425442991503% chance to be infected\n",
      "It is estimated that 0.017540425442991503 x 50 = 0 susceptible occupants will be infected\n",
      "It is estimated that an individual has 0.014605772984221943% chance to be infected\n",
      "It is estimated that 0.00014605772984221943 x 50 = 0 susceptible occupants will be infected\n"
=======
      "The resulting risk of infection is 3.7582806433111626%\n",
      "It is predicted that 0.037582806433111626 x 50 = 1 susceptible occupants will be infected\n",
      "The resulting risk of infection is 0.03161487429370613%\n",
      "It is predicted that 0.0003161487429370613 x 50 = 0 susceptible occupants will be infected\n"
>>>>>>> Stashed changes
     ]
    }
   ],
   "source": [
    "#Infection Risk\n",
<<<<<<< Updated upstream
    "walking_talking_risk = infection_risk(t, 'Center Hall', '101', 50, 'light_exercise', 'speaking', False, sys_path + '/data/masterBuildingData.csv')\n",
    "sitting_whisper_risk = infection_risk(t, 'Center Hall', '101', 50, 'resting', 'whispering', False, sys_path + '/data/masterBuildingData.csv')\n",
=======
    "walking_talking_risk = infection_risk(t, 'CENTER 101', 50, 'light_exercise', 'speaking', sys_path + '/data/raw/rm.csv')\n",
    "sitting_whisper_risk = infection_risk(t, 'CENTER 101', 50, 'resting', 'whispering', sys_path + '/data/raw/rm.csv')\n",
>>>>>>> Stashed changes
    "average_risk = (walking_talking_risk + sitting_whisper_risk) /2"
   ]
  },
  {
   "cell_type": "code",
<<<<<<< Updated upstream
   "execution_count": 17,
=======
   "execution_count": 8,
>>>>>>> Stashed changes
   "metadata": {},
   "outputs": [
    {
     "data": {
      "text/plain": [
<<<<<<< Updated upstream
       "0.008843241586416861"
      ]
     },
     "execution_count": 17,
=======
       "0.018949477588024344"
      ]
     },
     "execution_count": 8,
>>>>>>> Stashed changes
     "metadata": {},
     "output_type": "execute_result"
    }
   ],
   "source": [
    "average_risk"
   ]
  },
  {
   "cell_type": "markdown",
   "metadata": {},
   "source": [
<<<<<<< Updated upstream
    "Now we can estimate the relative risks associated with difference activities, shown below"
=======
    "We decided to average out the two actions student might engage in in the classroom, those being walking, talking,and sitting and whispering. This produced an average risk of 1.89% with 0 occupants estimated to be infected.\n",
    "Lets compare this to pre-COVID capcacity..."
   ]
  },
  {
   "cell_type": "code",
   "execution_count": 9,
   "metadata": {},
   "outputs": [
    {
     "name": "stdout",
     "output_type": "stream",
     "text": [
      "The resulting risk of infection is 8.126245849025315%\n",
      "It is predicted that 0.08126245849025315 x 295 = 23 susceptible occupants will be infected\n",
      "The resulting risk of infection is 0.06993450309675797%\n",
      "It is predicted that 0.0006993450309675797 x 295 = 0 susceptible occupants will be infected\n"
     ]
    }
   ],
   "source": [
    "\n",
    "walking_talking_risk = infection_risk(t, 'CENTER 101', 295, 'light_exercise', 'speaking', sys_path + '/data/raw/rm.csv')\n",
    "sitting_whisper_risk = infection_risk(t, 'CENTER 101', 295, 'resting', 'whispering', sys_path + '/data/raw/rm.csv')\n",
    "average_risk = (walking_talking_risk + sitting_whisper_risk) /2"
   ]
  },
  {
   "cell_type": "code",
   "execution_count": 10,
   "metadata": {},
   "outputs": [
    {
     "data": {
      "text/plain": [
       "12.089366019380059"
      ]
     },
     "execution_count": 10,
     "metadata": {},
     "output_type": "execute_result"
    }
   ],
   "source": [
    "average_risk * 295"
   ]
  },
  {
   "cell_type": "code",
   "execution_count": 13,
   "metadata": {},
   "outputs": [
    {
     "name": "stdout",
     "output_type": "stream",
     "text": [
      "TATA 4401Room height not found. Average room height of 10 ft imputed.\n"
     ]
    },
    {
     "data": {
      "text/plain": [
       "{'room_area': 1238,\n",
       " 'room_hght': 10,\n",
       " 'cfm_range': [656.14, 656.14],\n",
       " 'windows': nan,\n",
       " 'room_volume': 12380,\n",
       " 'room_volume_m': 350.561984}"
      ]
     },
     "execution_count": 13,
     "metadata": {},
     "output_type": "execute_result"
    }
   ],
   "source": [
    "get_room_data(sys_path + '/data/raw/rm.csv', 'TATA 4401')"
   ]
  },
  {
   "cell_type": "code",
   "execution_count": 4,
   "metadata": {},
   "outputs": [
    {
     "name": "stdout",
     "output_type": "stream",
     "text": [
      "TATA 4401 Room height not found. Average room height of 10 ft imputed.\n",
      "TATA 4401 CFM rate not found. California minimum ventilation requirement imputed\n",
      "The resulting risk of infection is 18.619784381382697%\n",
      "It is predicted that 0.18619784381382698 x 50 = 9 susceptible occupants will be infected\n"
     ]
    }
   ],
   "source": [
    "walking_talking_risk = infection_risk(t, 'TATA 4401', 50, 'light_exercise', 'speaking', sys_path + '/data/raw/rm.csv')\n"
>>>>>>> Stashed changes
   ]
  },
  {
   "cell_type": "code",
<<<<<<< Updated upstream
   "execution_count": 18,
=======
   "execution_count": 12,
>>>>>>> Stashed changes
   "metadata": {},
   "outputs": [
    {
     "name": "stdout",
     "output_type": "stream",
     "text": [
<<<<<<< Updated upstream
      "It is estimated that an individual has 0.22285722611271597% chance to be infected\n",
      "It is estimated that 0.0022285722611271597 x 50 = 0 susceptible occupants will be infected\n",
      "It is estimated that an individual has 0.27059402794856746% chance to be infected\n",
      "It is estimated that 0.0027059402794856746 x 50 = 0 susceptible occupants will be infected\n",
      "It is estimated that an individual has 1.7540425442991503% chance to be infected\n",
      "It is estimated that 0.017540425442991503 x 50 = 0 susceptible occupants will be infected\n",
      "It is estimated that an individual has 5.002177964381471% chance to be infected\n",
      "It is estimated that 0.05002177964381471 x 50 = 2 susceptible occupants will be infected\n",
      "It is estimated that an individual has 9.624064015586221% chance to be infected\n",
      "It is estimated that 0.0962406401558622 x 50 = 4 susceptible occupants will be infected\n"
=======
      "The resulting risk of infection is 0.4817998190395967%\n",
      "It is predicted that 0.004817998190395967 x 50 = 0 susceptible occupants will be infected\n",
      "The resulting risk of infection is 0.584840235721662%\n",
      "It is predicted that 0.00584840235721662 x 50 = 0 susceptible occupants will be infected\n",
      "The resulting risk of infection is 3.7582806433111626%\n",
      "It is predicted that 0.037582806433111626 x 50 = 1 susceptible occupants will be infected\n",
      "The resulting risk of infection is 10.51380269764961%\n",
      "It is predicted that 0.1051380269764961 x 50 = 5 susceptible occupants will be infected\n",
      "The resulting risk of infection is 19.672145166090218%\n",
      "It is predicted that 0.19672145166090216 x 50 = 9 susceptible occupants will be infected\n"
>>>>>>> Stashed changes
     ]
    },
    {
     "data": {
      "text/plain": [
       "<BarContainer object of 5 artists>"
      ]
     },
<<<<<<< Updated upstream
     "execution_count": 18,
=======
     "execution_count": 12,
>>>>>>> Stashed changes
     "metadata": {},
     "output_type": "execute_result"
    },
    {
     "data": {
<<<<<<< Updated upstream
      "image/png": "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\n",
=======
      "image/png": "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\n",
>>>>>>> Stashed changes
      "text/plain": [
       "<Figure size 432x288 with 1 Axes>"
      ]
     },
     "metadata": {
      "needs_background": "light"
     },
     "output_type": "display_data"
    }
   ],
   "source": [
<<<<<<< Updated upstream
    "sitting_talking_risk = infection_risk(t, 'Center Hall', '101', 50, 'resting', 'speaking', False, sys_path + '/data/masterBuildingData.csv')\n",
    "standing_talking_risk = infection_risk(t, 'Center Hall', '101', 50, 'standing', 'speaking', False, sys_path + '/data/masterBuildingData.csv')\n",
    "walking_talking_risk = infection_risk(t, 'Center Hall', '101', 50, 'light_exercise', 'speaking', False, sys_path + '/data/masterBuildingData.csv')\n",
    "\n",
    "running_talking_risk = infection_risk(t, 'Center Hall', '101', 50, 'moderate_exercise', 'speaking', False, sys_path + '/data/masterBuildingData.csv')\n",
    "\n",
    "exercising_talking_risk = infection_risk(t, 'Center Hall', '101', 50, 'heavy_exercise', 'speaking', False, sys_path + '/data/masterBuildingData.csv')\n",
=======
    "sitting_talking_risk = infection_risk(t, 'CENTER 101', 50, 'resting', 'speaking', sys_path + '/data/raw/rm.csv')\n",
    "standing_talking_risk = infection_risk(t, 'CENTER 101', 50, 'standing', 'speaking', sys_path + '/data/raw/rm.csv')\n",
    "walking_talking_risk = infection_risk(t, 'CENTER 101', 50, 'light_exercise', 'speaking', sys_path + '/data/raw/rm.csv')\n",
    "\n",
    "running_talking_risk = infection_risk(t, 'CENTER 101', 50, 'moderate_exercise', 'speaking', sys_path + '/data/raw/rm.csv')\n",
    "\n",
    "exercising_talking_risk = infection_risk(t, 'CENTER 101', 50, 'heavy_exercise', 'speaking', sys_path + '/data/raw/rm.csv')\n",
>>>>>>> Stashed changes
    "\n",
    "fig = plt.figure()\n",
    "ax = plt.axes()\n",
    "plt.xlabel('Activities')\n",
    "plt.ylabel('Infection Risks')\n",
    "plt.title('Activities vs. Infection Risks')\n",
    "actno = [\"sitting\", \"standing\", \"walking\", \"running\", \"exercising\"]\n",
    "risks = [sitting_talking_risk, standing_talking_risk, walking_talking_risk, running_talking_risk, exercising_talking_risk]\n",
    "ax.bar(actno, risks)"
   ]
  },
  {
   "cell_type": "code",
<<<<<<< Updated upstream
   "execution_count": 19,
=======
   "execution_count": 13,
>>>>>>> Stashed changes
   "metadata": {},
   "outputs": [
    {
     "name": "stdout",
     "output_type": "stream",
     "text": [
<<<<<<< Updated upstream
      "It is estimated that an individual has 0.27059402794856746% chance to be infected\n",
      "It is estimated that 0.0027059402794856746 x 50 = 0 susceptible occupants will be infected\n",
      "It is estimated that an individual has 0.07310923392100932% chance to be infected\n",
      "It is estimated that 0.0007310923392100932 x 50 = 0 susceptible occupants will be infected\n",
      "It is estimated that an individual has 0.017738345210016604% chance to be infected\n",
      "It is estimated that 0.00017738345210016604 x 50 = 0 susceptible occupants will be infected\n",
      "It is estimated that an individual has 0.4676885342010051% chance to be infected\n",
      "It is estimated that 0.004676885342010051 x 50 = 0 susceptible occupants will be infected\n",
      "It is estimated that an individual has 0.015381204623698963% chance to be infected\n",
      "It is estimated that 0.00015381204623698963 x 50 = 0 susceptible occupants will be infected\n"
=======
      "The resulting risk of infection is 0.584840235721662%\n",
      "It is predicted that 0.00584840235721662 x 50 = 0 susceptible occupants will be infected\n",
      "The resulting risk of infection is 0.158194416097035%\n",
      "It is predicted that 0.00158194416097035 x 50 = 0 susceptible occupants will be infected\n",
      "The resulting risk of infection is 0.03839477193774421%\n",
      "It is predicted that 0.0003839477193774421 x 50 = 0 susceptible occupants will be infected\n",
      "The resulting risk of infection is 1.0096629046696948%\n",
      "It is predicted that 0.010096629046696948 x 50 = 0 susceptible occupants will be infected\n",
      "The resulting risk of infection is 0.03329318175059326%\n",
      "It is predicted that 0.0003329318175059326 x 50 = 0 susceptible occupants will be infected\n"
>>>>>>> Stashed changes
     ]
    },
    {
     "data": {
      "text/plain": [
       "<BarContainer object of 5 artists>"
      ]
     },
<<<<<<< Updated upstream
     "execution_count": 19,
=======
     "execution_count": 13,
>>>>>>> Stashed changes
     "metadata": {},
     "output_type": "execute_result"
    },
    {
     "data": {
<<<<<<< Updated upstream
      "image/png": "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\n",
=======
      "image/png": "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\n",
>>>>>>> Stashed changes
      "text/plain": [
       "<Figure size 432x288 with 1 Axes>"
      ]
     },
     "metadata": {
      "needs_background": "light"
     },
     "output_type": "display_data"
    }
   ],
   "source": [
<<<<<<< Updated upstream
    "speaking = infection_risk(t, 'Center Hall', '101', 50, 'standing', 'speaking', False, sys_path + '/data/masterBuildingData.csv')\n",
    "counting = infection_risk(t, 'Center Hall', '101', 50, 'standing', 'counting', False, sys_path + '/data/masterBuildingData.csv')\n",
    "whispering = infection_risk(t, 'Center Hall', '101', 50, 'standing', 'whispering', False, sys_path + '/data/masterBuildingData.csv')\n",
    "singing = infection_risk(t, 'Center Hall', '101', 50, 'standing', 'singing', False, sys_path + '/data/masterBuildingData.csv')\n",
    "breathing = infection_risk(t, 'Center Hall', '101', 50, 'standing', 'breathing', False, sys_path + '/data/masterBuildingData.csv')\n",
=======
    "speaking = infection_risk(t, 'CENTER 101', 50, 'standing', 'speaking', sys_path + '/data/raw/rm.csv')\n",
    "counting = infection_risk(t, 'CENTER 101', 50, 'standing', 'counting', sys_path + '/data/raw/rm.csv')\n",
    "whispering = infection_risk(t, 'CENTER 101', 50, 'standing', 'whispering', sys_path + '/data/raw/rm.csv')\n",
    "\n",
    "singing = infection_risk(t, 'CENTER 101', 50, 'standing', 'singing', sys_path + '/data/raw/rm.csv')\n",
    "\n",
    "breathing = infection_risk(t, 'CENTER 101', 50, 'standing', 'breathing', sys_path + '/data/raw/rm.csv')\n",
>>>>>>> Stashed changes
    "\n",
    "fig = plt.figure()\n",
    "ax = plt.axes()\n",
    "plt.xlabel('Expiratory Activities')\n",
    "plt.ylabel('Infection Risks')\n",
    "plt.title('Expiratory Activities vs. Infection Risks')\n",
    "actno = [\"breathing\", \"whispering\", \"counting\", \"speaking\", \"singing\"]\n",
    "risks = [breathing, whispering, counting, speaking, singing]\n",
    "ax.bar(actno, risks)"
   ]
  },
  {
   "cell_type": "markdown",
   "metadata": {},
   "source": [
<<<<<<< Updated upstream
    "### Results and Discussion"
=======
    "## Results and Discussion"
>>>>>>> Stashed changes
   ]
  },
  {
   "cell_type": "markdown",
   "metadata": {},
   "source": [
    "The purpose of this calculator is to give building users a better understanding of how infection can be spread. Our findings give insight into effective methods for mitigating infection risk in indoor environments. A significant driver in infection risk is the type of physical activity. Heavier breathing increases risk of infection exponentially. Likewise more intense expiratory activity like speaking loudly or singing would increase risk of infection. A large factor in risk mitigation is ventilation. No ventilation at all, we observed, causes a linear decrease in quanta concentration, while minimal ventilation will produce an exponential decrease. \n",
    "\n",
<<<<<<< Updated upstream
    "Unfortunately the effect of social distancing and mask wearing was not directly addressed by this model. Social distancing was indirectly addressed by the assumed 1.5m (>6ft) distance from the emission source in calculating deposition rate. In other words, the deposition rate does not account for pathogenic material depositing on another person in the final risk estimation.\n",
    "\n",
    "It is important to note that our model of quanta concentration assumes that the air change will begin at t = 0 so the quanta concentration will continue to decrease over time. This implies the building HVAC system would ventilate in a constant fashion. In reality, HVAC systems tend to work in a cyclical fashion, providing short spurts of air to maintain stable temperatures. Below is an figure from Gupta et al. \"Zonal Air Handling in Commercial Buildings\" depicting this behavior. \n",
    "![title](images/supplyairflow.png)\n",
    "This model does not yet reflect this cyclical nature.\n",
    "\n",
    "Additionally, the assumptions used to produce this model are limited to the existing academic literature regarding the novel coronavirus. For example, the quanta per RNA copy assumed in our model was taken from literature regarding SARS-CoV-1, not SARS-CoV2, because such information does not currently exist.  \n",
    "\n",
    "Also, the infection rate is a constantly changing value, and is not currently up to date in our assumptions."
=======
    "Unfortunately the effect of social distancing and mask wearing was not directly addressed by this model. Social distancing was indirectly addressed by the assumed 1.5m (>6ft) distance from the emission source in calculating deposition rate. The effect of masks on this model will require further research. \n",
    "\n",
    "This Gamaitonni Nucci model is designed to measure the decay in quanta concentration over time models but does not give users a good understanding about the accumulation of quanta concentration and what factors attribute to greater quanta accumulation. "
>>>>>>> Stashed changes
   ]
  },
  {
   "cell_type": "markdown",
   "metadata": {},
   "source": [
<<<<<<< Updated upstream
    "## Room Data"
=======
    "## Future Work"
>>>>>>> Stashed changes
   ]
  },
  {
   "cell_type": "markdown",
   "metadata": {},
   "source": [
<<<<<<< Updated upstream
    "In order to provide an easy to use application for users at UC San Diego we decided to provide room information so it does not have to be imputed by the user. \n",
    "The process for getting the room data involved pulling it from the university's building database, selecting areas that would be used commonly by building occupants (e.g. offices, classrooms, laboratories, etc.), and imputing room information based on the use. \n",
    "\n",
    "Below is the data in its raw form:"
   ]
  },
  {
   "cell_type": "code",
   "execution_count": 24,
   "metadata": {},
   "outputs": [
    {
     "data": {
      "text/html": [
       "<div>\n",
       "<style scoped>\n",
       "    .dataframe tbody tr th:only-of-type {\n",
       "        vertical-align: middle;\n",
       "    }\n",
       "\n",
       "    .dataframe tbody tr th {\n",
       "        vertical-align: top;\n",
       "    }\n",
       "\n",
       "    .dataframe thead th {\n",
       "        text-align: right;\n",
       "    }\n",
       "</style>\n",
       "<table border=\"1\" class=\"dataframe\">\n",
       "  <thead>\n",
       "    <tr style=\"text-align: right;\">\n",
       "      <th></th>\n",
       "      <th>Building</th>\n",
       "      <th>Floor</th>\n",
       "      <th>Suite</th>\n",
       "      <th>Room</th>\n",
       "      <th>Space</th>\n",
       "      <th>Pct</th>\n",
       "      <th>Area</th>\n",
       "      <th>Stations</th>\n",
       "      <th>Category</th>\n",
       "      <th>Description</th>\n",
       "      <th>Room Use (S)</th>\n",
       "      <th>CPEC Code</th>\n",
       "      <th>Department</th>\n",
       "      <th>Program</th>\n",
       "      <th>System (S/C/R)</th>\n",
       "      <th>Cost Codes</th>\n",
       "      <th>PI/Manager</th>\n",
       "      <th>Occupants</th>\n",
       "      <th>Utilization</th>\n",
       "      <th>Home Page</th>\n",
       "    </tr>\n",
       "  </thead>\n",
       "  <tbody>\n",
       "    <tr>\n",
       "      <th>0</th>\n",
       "      <td>Biology Building</td>\n",
       "      <td>Basement</td>\n",
       "      <td>NaN</td>\n",
       "      <td>(C)B030A</td>\n",
       "      <td>NaN</td>\n",
       "      <td>100%</td>\n",
       "      <td>1007</td>\n",
       "      <td>NaN</td>\n",
       "      <td>C - Public Circulation</td>\n",
       "      <td>NaN</td>\n",
       "      <td>NaN</td>\n",
       "      <td>NaN</td>\n",
       "      <td>NaN</td>\n",
       "      <td>NaN</td>\n",
       "      <td>NaN</td>\n",
       "      <td>NaN</td>\n",
       "      <td>NaN</td>\n",
       "      <td>NaN</td>\n",
       "      <td>NaN</td>\n",
       "      <td>https://facilities.ucsd.edu/Buildings/Rooms/Ho...</td>\n",
       "    </tr>\n",
       "    <tr>\n",
       "      <th>1</th>\n",
       "      <td>Biology Building</td>\n",
       "      <td>Basement</td>\n",
       "      <td>NaN</td>\n",
       "      <td>(C)B030B</td>\n",
       "      <td>NaN</td>\n",
       "      <td>100%</td>\n",
       "      <td>559</td>\n",
       "      <td>NaN</td>\n",
       "      <td>C - Public Circulation</td>\n",
       "      <td>NaN</td>\n",
       "      <td>NaN</td>\n",
       "      <td>NaN</td>\n",
       "      <td>NaN</td>\n",
       "      <td>NaN</td>\n",
       "      <td>NaN</td>\n",
       "      <td>NaN</td>\n",
       "      <td>NaN</td>\n",
       "      <td>NaN</td>\n",
       "      <td>NaN</td>\n",
       "      <td>https://facilities.ucsd.edu/Buildings/Rooms/Ho...</td>\n",
       "    </tr>\n",
       "    <tr>\n",
       "      <th>2</th>\n",
       "      <td>Biology Building</td>\n",
       "      <td>Basement</td>\n",
       "      <td>NaN</td>\n",
       "      <td>(CE)B040</td>\n",
       "      <td>NaN</td>\n",
       "      <td>100%</td>\n",
       "      <td>152</td>\n",
       "      <td>NaN</td>\n",
       "      <td>C - Public Circulation</td>\n",
       "      <td>NaN</td>\n",
       "      <td>NaN</td>\n",
       "      <td>NaN</td>\n",
       "      <td>NaN</td>\n",
       "      <td>NaN</td>\n",
       "      <td>NaN</td>\n",
       "      <td>NaN</td>\n",
       "      <td>NaN</td>\n",
       "      <td>NaN</td>\n",
       "      <td>NaN</td>\n",
       "      <td>https://facilities.ucsd.edu/Buildings/Rooms/Ho...</td>\n",
       "    </tr>\n",
       "    <tr>\n",
       "      <th>3</th>\n",
       "      <td>Biology Building</td>\n",
       "      <td>Basement</td>\n",
       "      <td>NaN</td>\n",
       "      <td>(CS)B030C</td>\n",
       "      <td>NaN</td>\n",
       "      <td>100%</td>\n",
       "      <td>100</td>\n",
       "      <td>NaN</td>\n",
       "      <td>C - Public Circulation</td>\n",
       "      <td>NaN</td>\n",
       "      <td>NaN</td>\n",
       "      <td>NaN</td>\n",
       "      <td>NaN</td>\n",
       "      <td>NaN</td>\n",
       "      <td>NaN</td>\n",
       "      <td>NaN</td>\n",
       "      <td>NaN</td>\n",
       "      <td>NaN</td>\n",
       "      <td>NaN</td>\n",
       "      <td>https://facilities.ucsd.edu/Buildings/Rooms/Ho...</td>\n",
       "    </tr>\n",
       "    <tr>\n",
       "      <th>4</th>\n",
       "      <td>Biology Building</td>\n",
       "      <td>Basement</td>\n",
       "      <td>NaN</td>\n",
       "      <td>(J)B036</td>\n",
       "      <td>NaN</td>\n",
       "      <td>100%</td>\n",
       "      <td>32</td>\n",
       "      <td>NaN</td>\n",
       "      <td>J - Custodial Support</td>\n",
       "      <td>NaN</td>\n",
       "      <td>NaN</td>\n",
       "      <td>NaN</td>\n",
       "      <td>NaN</td>\n",
       "      <td>NaN</td>\n",
       "      <td>NaN</td>\n",
       "      <td>NaN</td>\n",
       "      <td>NaN</td>\n",
       "      <td>NaN</td>\n",
       "      <td>NaN</td>\n",
       "      <td>https://facilities.ucsd.edu/Buildings/Rooms/Ho...</td>\n",
       "    </tr>\n",
       "  </tbody>\n",
       "</table>\n",
       "</div>"
      ],
      "text/plain": [
       "           Building     Floor  Suite       Room Space   Pct  Area  Stations  \\\n",
       "0  Biology Building  Basement    NaN   (C)B030A   NaN  100%  1007       NaN   \n",
       "1  Biology Building  Basement    NaN   (C)B030B   NaN  100%   559       NaN   \n",
       "2  Biology Building  Basement    NaN   (CE)B040   NaN  100%   152       NaN   \n",
       "3  Biology Building  Basement    NaN  (CS)B030C   NaN  100%   100       NaN   \n",
       "4  Biology Building  Basement    NaN    (J)B036   NaN  100%    32       NaN   \n",
       "\n",
       "                 Category Description Room Use (S) CPEC Code Department  \\\n",
       "0  C - Public Circulation         NaN          NaN       NaN        NaN   \n",
       "1  C - Public Circulation         NaN          NaN       NaN        NaN   \n",
       "2  C - Public Circulation         NaN          NaN       NaN        NaN   \n",
       "3  C - Public Circulation         NaN          NaN       NaN        NaN   \n",
       "4   J - Custodial Support         NaN          NaN       NaN        NaN   \n",
       "\n",
       "  Program System (S/C/R)  Cost Codes PI/Manager Occupants Utilization  \\\n",
       "0     NaN            NaN         NaN        NaN       NaN         NaN   \n",
       "1     NaN            NaN         NaN        NaN       NaN         NaN   \n",
       "2     NaN            NaN         NaN        NaN       NaN         NaN   \n",
       "3     NaN            NaN         NaN        NaN       NaN         NaN   \n",
       "4     NaN            NaN         NaN        NaN       NaN         NaN   \n",
       "\n",
       "                                           Home Page  \n",
       "0  https://facilities.ucsd.edu/Buildings/Rooms/Ho...  \n",
       "1  https://facilities.ucsd.edu/Buildings/Rooms/Ho...  \n",
       "2  https://facilities.ucsd.edu/Buildings/Rooms/Ho...  \n",
       "3  https://facilities.ucsd.edu/Buildings/Rooms/Ho...  \n",
       "4  https://facilities.ucsd.edu/Buildings/Rooms/Ho...  "
      ]
     },
     "execution_count": 24,
     "metadata": {},
     "output_type": "execute_result"
    }
   ],
   "source": [
    "pd.read_csv('fm_building_data/BiologyBuildingRooms.csv').head()"
=======
    "This model measures the decay in quanta concentration over time well but it does not account for the nature of HVAC systems in buildings. In order to make this algorithm accurate and convenient it should interact more directly with the buildings it is analyzing, meaning that it queries building databases and building metadata to extract real-time and accurate data regarding dimensions, VAV flow capacity, sensor data, etc., in order to more accurately ascribe infection risk to rooms. A large roadblock in the development of this project was access to data regarding building specifications. Additionally, pulling real-time data from the UC San Diego COVID-19 dashboard would add to the validity of this project. "
   ]
  },
  {
   "cell_type": "markdown",
   "metadata": {},
   "source": [
    "Here is where users can test out different parameters in order to get different results.\n",
    "It has been a challenge thus far to aquire accurate building data so we are limited to the manually inputted dataset located in notebooks/data/room_data.csv' but hopefully this gives an idea about what kind of building data are accepted by this calculator.\n",
    "\n",
    "In the future we hope to integrate this calculator with more automated systems of data retrieval such as real-time infection rates using web-mining, and querying building data directly from building systems using Brick and Metasys, for example.\n",
    "\n",
    "The default example calculates the infection risk of a classroom of students in Center Hall 101, a building at UC San Diego.\n",
    "This cell contains the only parameters that should be changed."
>>>>>>> Stashed changes
   ]
  },
  {
   "cell_type": "markdown",
   "metadata": {},
   "source": [
<<<<<<< Updated upstream
    "To process the data, relevant rooms were selected and placed into [ASHRAE](https://www.ashrae.org/about) categories based on room use. From there the occupancy was imputed if not already provided, then the room area and room occupancy are used to determine the ASHRAE standard airflow rate. An average height of 10 ft. is currently imputed for all rooms.\n",
    "\n",
    "Below is the processed data"
=======
    "Prof's Recommendations: \n",
    "    Focus on 2 user's: The developer and the user. Developer needs to easily be able to locate and update parameters. User wants a simple design that requires very little searching around for values. \n",
    "        Developer:\n",
    "            1. Needs to more easily update parameters/assumptions. \n",
    "        User:\n",
    "            1. User should only need to input Building, Room Number, and number of occupants. \n",
    "                    Utilizes automatic imputation for building information. \n",
    "                    automatic imputation of up to date infection rate\n",
    "                    Possible to input City in order to get regional infection rate?\n",
    "                      \n",
    "            2. Will eventually be a part of a website so needs to be on html (we need a website)\n",
    "  \n",
    "  \n",
    " With respect to the calculator itself, how can we improve and validate our calculator? \n",
    "     \n",
    "            "
>>>>>>> Stashed changes
   ]
  },
  {
   "cell_type": "code",
<<<<<<< Updated upstream
   "execution_count": 31,
   "metadata": {},
   "outputs": [
    {
     "data": {
      "text/html": [
       "<div>\n",
       "<style scoped>\n",
       "    .dataframe tbody tr th:only-of-type {\n",
       "        vertical-align: middle;\n",
       "    }\n",
       "\n",
       "    .dataframe tbody tr th {\n",
       "        vertical-align: top;\n",
       "    }\n",
       "\n",
       "    .dataframe thead th {\n",
       "        text-align: right;\n",
       "    }\n",
       "</style>\n",
       "<table border=\"1\" class=\"dataframe\">\n",
       "  <thead>\n",
       "    <tr style=\"text-align: right;\">\n",
       "      <th></th>\n",
       "      <th>Unnamed: 0</th>\n",
       "      <th>Building</th>\n",
       "      <th>Room</th>\n",
       "      <th>Area</th>\n",
       "      <th>heightImputed</th>\n",
       "      <th>Occupancy</th>\n",
       "      <th>occupancyImputed_TF</th>\n",
       "      <th>ASHRAE_Airflow</th>\n",
       "      <th>maxAirflow</th>\n",
       "    </tr>\n",
       "  </thead>\n",
       "  <tbody>\n",
       "    <tr>\n",
       "      <th>0</th>\n",
       "      <td>0</td>\n",
       "      <td>Mandeville Center</td>\n",
       "      <td>B202</td>\n",
       "      <td>3070</td>\n",
       "      <td>10</td>\n",
       "      <td>15.35</td>\n",
       "      <td>True</td>\n",
       "      <td>260.95</td>\n",
       "      <td>NaN</td>\n",
       "    </tr>\n",
       "    <tr>\n",
       "      <th>1</th>\n",
       "      <td>1</td>\n",
       "      <td>Mandeville Center</td>\n",
       "      <td>B206</td>\n",
       "      <td>1959</td>\n",
       "      <td>10</td>\n",
       "      <td>40.00</td>\n",
       "      <td>False</td>\n",
       "      <td>417.54</td>\n",
       "      <td>NaN</td>\n",
       "    </tr>\n",
       "    <tr>\n",
       "      <th>2</th>\n",
       "      <td>2</td>\n",
       "      <td>Mandeville Center</td>\n",
       "      <td>B210</td>\n",
       "      <td>3091</td>\n",
       "      <td>10</td>\n",
       "      <td>158.00</td>\n",
       "      <td>False</td>\n",
       "      <td>1370.46</td>\n",
       "      <td>NaN</td>\n",
       "    </tr>\n",
       "    <tr>\n",
       "      <th>3</th>\n",
       "      <td>3</td>\n",
       "      <td>Mandeville Center</td>\n",
       "      <td>B104</td>\n",
       "      <td>864</td>\n",
       "      <td>10</td>\n",
       "      <td>42.00</td>\n",
       "      <td>False</td>\n",
       "      <td>366.84</td>\n",
       "      <td>NaN</td>\n",
       "    </tr>\n",
       "    <tr>\n",
       "      <th>4</th>\n",
       "      <td>4</td>\n",
       "      <td>Mandeville Center</td>\n",
       "      <td>B108</td>\n",
       "      <td>864</td>\n",
       "      <td>10</td>\n",
       "      <td>6.00</td>\n",
       "      <td>False</td>\n",
       "      <td>96.84</td>\n",
       "      <td>NaN</td>\n",
       "    </tr>\n",
       "  </tbody>\n",
       "</table>\n",
       "</div>"
      ],
      "text/plain": [
       "   Unnamed: 0           Building  Room  Area  heightImputed  Occupancy  \\\n",
       "0           0  Mandeville Center  B202  3070             10      15.35   \n",
       "1           1  Mandeville Center  B206  1959             10      40.00   \n",
       "2           2  Mandeville Center  B210  3091             10     158.00   \n",
       "3           3  Mandeville Center  B104   864             10      42.00   \n",
       "4           4  Mandeville Center  B108   864             10       6.00   \n",
       "\n",
       "   occupancyImputed_TF  ASHRAE_Airflow  maxAirflow  \n",
       "0                 True          260.95         NaN  \n",
       "1                False          417.54         NaN  \n",
       "2                False         1370.46         NaN  \n",
       "3                False          366.84         NaN  \n",
       "4                False           96.84         NaN  "
      ]
     },
     "execution_count": 31,
     "metadata": {},
     "output_type": "execute_result"
    }
   ],
   "source": [
    "pd.read_csv(sys_path + '/data/masterBuildingData.csv').head()"
   ]
=======
   "execution_count": null,
   "metadata": {},
   "outputs": [],
   "source": []
  },
  {
   "cell_type": "code",
   "execution_count": null,
   "metadata": {},
   "outputs": [],
   "source": []
>>>>>>> Stashed changes
  }
 ],
 "metadata": {
  "kernelspec": {
   "display_name": "Python 3",
   "language": "python",
   "name": "python3"
  },
  "language_info": {
   "codemirror_mode": {
    "name": "ipython",
    "version": 3
   },
   "file_extension": ".py",
   "mimetype": "text/x-python",
   "name": "python",
   "nbconvert_exporter": "python",
   "pygments_lexer": "ipython3",
   "version": "3.6.2"
  }
 },
 "nbformat": 4,
 "nbformat_minor": 4
}
