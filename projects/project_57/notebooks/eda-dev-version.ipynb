{
 "cells": [
  {
   "cell_type": "code",
   "execution_count": null,
   "metadata": {},
   "outputs": [],
   "source": [
    "import sys\n",
    "import os\n",
    "import json\n",
    "import pandas as pd \n",
    "import numpy as np\n",
    "import os,glob\n",
    "import re\n",
    "from pathlib import Path\n",
    "import pandas as pd \n",
    "import numpy as np\n",
    "from collections import defaultdict \n",
    "import matplotlib.pyplot as plt\n",
    "import seaborn as sns\n",
    "from sklearn.ensemble import RandomForestClassifier\n",
    "from sklearn.ensemble import GradientBoostingClassifier\n",
    "from sklearn.model_selection import train_test_split\n",
    "\n",
    "sys.path.insert(0, '../src')"
   ]
  },
  {
   "cell_type": "code",
   "execution_count": null,
   "metadata": {},
   "outputs": [],
   "source": [
    "with open('../config/data-params.json') as fh:\n",
    "            data_cfg = json.load(fh)\n",
    "from build_features import create_struct\n",
    "data_dict = create_struct(data_cfg['PATH'])\n"
   ]
  },
  {
   "cell_type": "code",
   "execution_count": null,
   "metadata": {},
   "outputs": [],
   "source": [
    "def_dict = data_dict"
   ]
  },
  {
   "cell_type": "markdown",
   "metadata": {},
   "source": [
    "## Feature Engineering"
   ]
  },
  {
   "cell_type": "code",
   "execution_count": null,
   "metadata": {},
   "outputs": [],
   "source": [
    "col1 = []\n",
    "col2 = []\n",
    "col3 = []\n",
    "col4 = []\n",
    "col5 = []\n",
    "col6 = []\n",
    "col7 = []\n",
    "col8 = []\n",
    "\n",
    "for elem1 in list(def_dict.keys()):\n",
    "    for elem2 in list(def_dict[elem1].keys()):\n",
    "        col1.append(elem1)\n",
    "        col2.append(elem2)\n",
    "        col3.append(len(def_dict[elem1][elem2]['combined']['APIs']))\n",
    "        col4.append(len(def_dict[elem1][elem2]['invoke_type']['invoke-static']))\n",
    "        col5.append(len(def_dict[elem1][elem2]['invoke_type']['invoke-virtual']))\n",
    "        col6.append(len(def_dict[elem1][elem2]['invoke_type']['invoke-direct']))\n",
    "        col7.append(len(def_dict[elem1][elem2]['invoke_type']['invoke-super']))\n",
    "        col8.append(len(def_dict[elem1][elem2]['invoke_type']['invoke-interface']))\n",
    "df = pd.DataFrame([col1, col2, col3, col4, col5, col6, col7, col8]).T\n",
    "df['App Category'] = df[0]\n",
    "df['All API'] = df[2]\n",
    "df['invoke-static'] = df[3]\n",
    "df['invoke-virtual'] = df[4]\n",
    "df['invoke-direct'] = df[5]\n",
    "df['invoke-super'] = df[6]\n",
    "df['invoke-interface'] = df[7]\n",
    "df = df.drop([0,2,3,4,5,6,7],1)     "
   ]
  },
  {
   "cell_type": "code",
   "execution_count": null,
   "metadata": {},
   "outputs": [],
   "source": [
    "df.head()"
   ]
  },
  {
   "cell_type": "markdown",
   "metadata": {},
   "source": [
    "## Visual Distribution Analysis"
   ]
  },
  {
   "cell_type": "code",
   "execution_count": null,
   "metadata": {},
   "outputs": [],
   "source": [
    "df[['App Category', 'All API']].sort_values(by = 'App Category').plot(kind= 'hist', figsize = [10,6])"
   ]
  },
  {
   "cell_type": "code",
   "execution_count": null,
   "metadata": {},
   "outputs": [],
   "source": [
    "df.loc[df['App Category'] == 'malware'].plot(figsize = [10,5])"
   ]
  },
  {
   "cell_type": "code",
   "execution_count": null,
   "metadata": {},
   "outputs": [],
   "source": [
    "df.loc[df['App Category'] == 'benign'].plot(figsize = [10,5])"
   ]
  },
  {
   "cell_type": "markdown",
   "metadata": {},
   "source": [
    "## Understanding Features"
   ]
  },
  {
   "cell_type": "code",
   "execution_count": null,
   "metadata": {},
   "outputs": [],
   "source": [
    "df.head()"
   ]
  },
  {
   "cell_type": "code",
   "execution_count": null,
   "metadata": {},
   "outputs": [],
   "source": [
    "fig, axes = plt.subplots(1, 2, figsize=(12, 4))\n",
    "sns.violinplot(data=pd.melt(df), x=1, y='All API', ax=axes[0])"
   ]
  },
  {
   "cell_type": "code",
   "execution_count": null,
   "metadata": {},
   "outputs": [],
   "source": [
    "df.groupby('App Category').median()"
   ]
  },
  {
   "cell_type": "code",
   "execution_count": null,
   "metadata": {},
   "outputs": [],
   "source": [
    "df.groupby('App Category').mean()"
   ]
  },
  {
   "cell_type": "code",
   "execution_count": null,
   "metadata": {},
   "outputs": [],
   "source": [
    "set(def_dict['benign']['combined']['APIs'])"
   ]
  },
  {
   "cell_type": "code",
   "execution_count": null,
   "metadata": {},
   "outputs": [],
   "source": [
    "api_final = []\n",
    "for category in def_dict:\n",
    "    for appName in def_dict[category]:\n",
    "        print(appName)\n",
    "        api_final.append(list(def_dict[category][appName]['combined']['APIs']))\n",
    "\n",
    "A_matrix = {}\n",
    "for index, elem in enumerate(allAPIs):\n",
    "    A_matrix[index] = set(elem)\n",
    "\n"
   ]
  },
  {
   "cell_type": "code",
   "execution_count": null,
   "metadata": {},
   "outputs": [],
   "source": [
    "for index in A_matrix:\n",
    "    pd.Series(set(A_matrix[index])).groupby('index').count().plot(kind = 'hist', bins = [0,100,1])"
   ]
  },
  {
   "cell_type": "code",
   "execution_count": null,
   "metadata": {},
   "outputs": [],
   "source": [
    "from scipy.stats import normaltest\n",
    "\n",
    "df.apply(lambda x: pd.Series(normaltest(x), index=['skew-test + kurtosis-test', 'p-value'])).T\n",
    "    "
   ]
  },
  {
   "cell_type": "markdown",
   "metadata": {},
   "source": [
    "## Baseline Model "
   ]
  },
  {
   "cell_type": "code",
   "execution_count": null,
   "metadata": {},
   "outputs": [],
   "source": [
    "y = df['App Category'].astype('category').cat.codes\n",
    "X = df.drop(['App Category',1], 1)\n",
    "X_train, X_test, y_train, y_test = train_test_split(X, y, test_size=0.3, random_state=42)\n",
    "grandientboosting = GradientBoostingClassifier()\n",
    "grandientboosting.fit(X_train,y_train)\n",
    "grandientboosting.predict(X_test)\n",
    "grandientboosting.score(X_test, y_test)"
   ]
  },
  {
   "cell_type": "code",
   "execution_count": null,
   "metadata": {},
   "outputs": [],
   "source": []
  }
 ],
 "metadata": {
  "kernelspec": {
   "display_name": "Python 3",
   "language": "python",
   "name": "python3"
  },
  "language_info": {
   "codemirror_mode": {
    "name": "ipython",
    "version": 3
   },
   "file_extension": ".py",
   "mimetype": "text/x-python",
   "name": "python",
   "nbconvert_exporter": "python",
   "pygments_lexer": "ipython3",
   "version": "3.7.6"
  }
 },
 "nbformat": 4,
 "nbformat_minor": 4
}
