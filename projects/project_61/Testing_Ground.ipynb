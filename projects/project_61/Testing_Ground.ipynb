{
 "cells": [
  {
   "cell_type": "code",
   "execution_count": 48,
   "metadata": {},
   "outputs": [],
   "source": [
    "import matplotlib.pyplot as plt\n",
    "import numpy as np\n",
    "import pandas as pd\n",
    "from tempfile import TemporaryFile"
   ]
  },
  {
   "cell_type": "code",
   "execution_count": 45,
   "metadata": {},
   "outputs": [],
   "source": [
    "# make an n x n grid\n",
    "def gridmaker(room_len, room_width, num_people = 0, type='bus'): # values in m\n",
    "    # make .1m x .1m square grid for room size, space people apart\n",
    "    # TODO: talk to Farhoud about inputs\n",
    "    \n",
    "    nrows, ncols = room_len, room_width\n",
    "    \n",
    "    # left chairs are 0-9, gap is 10-12, right chairs are 13-23\n",
    "    \n",
    "#     left_chairs =\n",
    "    \n",
    "    student_positions = \n",
    "    \n",
    "    image = np.zeros(nrows*ncols)\n",
    "    image[::2] = np.random.random(nrows*ncols //2 + 1)\n",
    "    image = image.reshape((ncols, nrows))\n",
    "    print(image[0])#[0])\n",
    "    \n",
    "    \n",
    "    plt.matshow(image)\n",
    "    plt.show()"
   ]
  },
  {
   "cell_type": "code",
   "execution_count": 46,
   "metadata": {},
   "outputs": [
    {
     "name": "stdout",
     "output_type": "stream",
     "text": [
      "[0.62995061 0.         0.20479809 0.         0.09744244 0.\n",
      " 0.43361847 0.         0.90382872 0.         0.45574845 0.\n",
      " 0.20727178 0.         0.6165898  0.         0.98723719 0.\n",
      " 0.85532442 0.         0.01820792 0.         0.45467334]\n"
     ]
    },
    {
     "data": {
      "image/png": "[encoded data removed]",
      "text/plain": [
       "<Figure size 288x788.87 with 1 Axes>"
      ]
     },
     "metadata": {
      "needs_background": "light"
     },
     "output_type": "display_data"
    }
   ],
   "source": [
    "gridmaker(23, 63)"
   ]
  },
  {
   "cell_type": "code",
   "execution_count": 50,
   "metadata": {},
   "outputs": [
    {
     "name": "stdout",
     "output_type": "stream",
     "text": [
      "[[1 1 1 2 3 4 4]\n",
      " [1 4 7 8 9 9 6]\n",
      " [4 7 7 8 9 9 6]\n",
      " [4 4 5 2 5 4 4]\n",
      " [8 5 5 2 5 5 8]\n",
      " [1 1 1 2 5 6 6]\n",
      " [1 1 2 2 5 6 6]\n",
      " [1 1 2 2 3 3 6]\n",
      " [5 5 5 2 5 5 5]\n",
      " [1 1 1 2 3 3 3]\n",
      " [1 1 2 2 2 3 3]\n",
      " [1 1 2 2 2 3 3]\n",
      " [1 1 2 2 2 3 3]\n",
      " [1 1 2 2 2 3 3]\n",
      " [1 5 5 2 2 3 3]\n",
      " [1 1 1 2 2 3 3]\n",
      " [1 1 1 2 2 3 3]\n",
      " [1 1 1 2 3 6 6]\n",
      " [1 1 2 2 3 3 6]\n",
      " [1 2 2 2 3 3 6]\n",
      " [4 4 4 5 6 6 6]\n",
      " [2 2 2 5 5 5 5]\n",
      " [2 2 5 8 2 2 2]]\n"
     ]
    }
   ],
   "source": [
    "# numpy array of bus vectors\n",
    "outfile = TemporaryFile()\n",
    "\n",
    "# also look at single-sided and double it for a more accurate overall? do tomorrow\n",
    "\n",
    "# this uses double-sided airflow sim from https://www.ias.ac.in/article/fulltext/sadh/032/04/0347-0363\n",
    "# Page 12/17 (358)\n",
    "# 23 x 7 array to cast to 69 x 21 using 3 x 3 squares\n",
    "x = np.array([[1, 1, 1, 2, 3, 4, 4],\n",
    "              [1, 4, 7, 8, 9, 9, 6],\n",
    "              [4, 7, 7, 8, 9, 9, 6],\n",
    "              [4, 4, 5, 2, 5, 4, 4],\n",
    "              [8, 5, 5, 2, 5, 5, 8], #\n",
    "              [1, 1, 1, 2, 5, 6, 6],\n",
    "              [1, 1, 2, 2, 5, 6, 6],\n",
    "              [1, 1, 2, 2, 3, 3, 6],\n",
    "              [5, 5, 5, 2, 5, 5, 5],\n",
    "              [1, 1, 1, 2, 3, 3, 3], #\n",
    "              [1, 1, 2, 2, 2, 3, 3],\n",
    "              [1, 1, 2, 2, 2, 3, 3],\n",
    "              [1, 1, 2, 2, 2, 3, 3],\n",
    "              [1, 1, 2, 2, 2, 3, 3],\n",
    "              [1, 5, 5, 2, 2, 3, 3], #\n",
    "              [1, 1, 1, 2, 2, 3, 3],\n",
    "              [1, 1, 1, 2, 2, 3, 3],\n",
    "              [1, 1, 1, 2, 3, 6, 6],\n",
    "              [1, 1, 2, 2, 3, 3, 6],\n",
    "              [1, 2, 2, 2, 3, 3, 6], #\n",
    "              [4, 4, 4, 5, 6, 6, 6],\n",
    "              [2, 2, 2, 5, 5, 5, 5],\n",
    "              [2, 2, 5, 8, 2, 2, 2]])\n",
    "\n",
    "# Key: Phone # pad:\n",
    "# 789\n",
    "# 456\n",
    "# 123\n",
    "#  0\n",
    "# Therefore:\n",
    "# 7 = <^, 8 = ^, 9 = ^>\n",
    "# 4 = <, 5 = ., 6 = >\n",
    "# 1 = <v, 2 = v, 3 = v>\n",
    "with open('test.npy', 'wb') as f:\n",
    "    np.save(f, x)\n",
    "with open('test.npy', 'rb') as f:\n",
    "    out = np.load(f)\n",
    "print(out)"
   ]
  },
  {
   "cell_type": "code",
   "execution_count": 52,
   "metadata": {},
   "outputs": [
    {
     "data": {
      "image/png": "[encoded data removed]",
      "text/plain": [
       "<Figure size 288x946.286 with 1 Axes>"
      ]
     },
     "metadata": {
      "needs_background": "light"
     },
     "output_type": "display_data"
    }
   ],
   "source": [
    "# numpy 2d array of student locations in bus w/ ~30% of trips\n",
    "plt.matshow(out)\n",
    "plt.show()\n"
   ]
  },
  {
   "cell_type": "code",
   "execution_count": null,
   "metadata": {},
   "outputs": [],
   "source": [
    "0-9\n",
    "\n",
    "7 8 9\n",
    "4 5 6\n",
    "1 2 3\n",
    "  0\n",
    "    \n",
    "    .3x.3 m sq\n",
    "<^ < <^\n",
    "<^ <^ <^\n",
    "<^ <^ <^^\n",
    "v> v> v>\n",
    "v> v> v>\n",
    "v> v> v>\n"
   ]
  }
 ],
 "metadata": {
  "kernelspec": {
   "display_name": "Python 3",
   "language": "python",
   "name": "python3"
  },
  "language_info": {
   "codemirror_mode": {
    "name": "ipython",
    "version": 3
   },
   "file_extension": ".py",
   "mimetype": "text/x-python",
   "name": "python",
   "nbconvert_exporter": "python",
   "pygments_lexer": "ipython3",
   "version": "3.8.8"
  }
 },
 "nbformat": 4,
 "nbformat_minor": 4
}
