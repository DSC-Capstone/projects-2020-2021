{
 "cells": [
  {
   "cell_type": "markdown",
   "metadata": {},
   "source": [
    "# Las Vegas Restaurant Categories EDA"
   ]
  },
  {
   "cell_type": "code",
   "execution_count": 1,
   "metadata": {},
   "outputs": [],
   "source": [
    "import pandas as pd\n",
    "import pyspark.ml as M\n",
    "import pyspark.sql.functions as F\n",
    "import pyspark.sql.types as T\n",
    "from pyspark.sql import SparkSession\n",
    "import matplotlib.pyplot as plt"
   ]
  },
  {
   "cell_type": "code",
   "execution_count": 2,
   "metadata": {},
   "outputs": [],
   "source": [
    "spark = SparkSession \\\n",
    "    .builder \\\n",
    "    .appName(\"yelp-reccomender\") \\\n",
    "    .getOrCreate()"
   ]
  },
  {
   "cell_type": "code",
   "execution_count": 7,
   "metadata": {},
   "outputs": [],
   "source": [
    "schema = T.StructType([\n",
    "    T.StructField(\"_c01\", T.IntegerType(), True),\n",
    "    T.StructField(\"name\", T.StringType(), True),\n",
    "    T.StructField(\"business_id\", T.StringType(), True),   \n",
    "    T.StructField(\"city\", T.StringType(), True),   \n",
    "    T.StructField(\"categories\", T.StringType(), True),\n",
    "    T.StructField(\"review_id\", T.StringType(), True),   \n",
    "    T.StructField(\"text\", T.StringType(), True),      \n",
    "    T.StructField(\"stars\", T.FloatType(), True)                    \n",
    "])"
   ]
  },
  {
   "cell_type": "code",
   "execution_count": 8,
   "metadata": {},
   "outputs": [],
   "source": [
    "lv = spark.read.csv(\"../data/raw/Las_Vegas_reviews.csv\", header=True, multiLine=True, schema=schema, quote=\"\\\"\", escape=\"\\\"\")\n",
    "# lv = spark.read.csv(\"../../../yelp_dataset/Phoenix_reviews_Cath.csv\", header=True, multiLine=True, schema=schema, quote=\"\\\"\", escape=\"\\\"\")"
   ]
  },
  {
   "cell_type": "code",
   "execution_count": 9,
   "metadata": {},
   "outputs": [],
   "source": [
    "# df = lv.filter(\n",
    "#     (F.col('categories').contains('Restaurants')) |\n",
    "#     (F.col('categories').contains('Food'))\n",
    "# )\n",
    "df = lv.withColumn('list_cat', F.split(lv.categories, ', ')) # string to list\n",
    "df = df.withColumn('list_cat', F.explode_outer('list_cat')) # list to rows\n",
    "indexer = M.feature.StringIndexer(inputCol=\"list_cat\", outputCol=\"cat_num\") # convert category to numerical indices\n",
    "indexed = indexer.fit(df).transform(df)\n",
    "encoder = M.feature.OneHotEncoder(inputCol=\"cat_num\", outputCol=\"cat_onehot\")\n",
    "# params = {encoder.dropLast: False}\n",
    "# encoded_df = encoder.transform(indexed, params)"
   ]
  },
  {
   "cell_type": "code",
   "execution_count": 10,
   "metadata": {},
   "outputs": [],
   "source": [
    "params = {encoder.dropLast: False}\n",
    "ohe = encoder.fit(indexed)\n",
    "encoded_df = ohe.transform(indexed, params)"
   ]
  },
  {
   "cell_type": "code",
   "execution_count": 11,
   "metadata": {},
   "outputs": [],
   "source": [
    "reverse_index = M.feature.IndexToString(inputCol='cat_num', outputCol='cat_names')"
   ]
  },
  {
   "cell_type": "code",
   "execution_count": 12,
   "metadata": {},
   "outputs": [],
   "source": [
    "cat_group = indexed[['cat_num', 'stars']].groupby(\"cat_num\").agg(\n",
    "    F.count('cat_num').alias('count'), \n",
    "    F.mean(\"stars\").alias('avg_stars')\n",
    ")\n",
    "names_df = reverse_index.transform(cat_group)"
   ]
  },
  {
   "cell_type": "code",
   "execution_count": 13,
   "metadata": {},
   "outputs": [],
   "source": [
    "inter = names_df.orderBy(F.desc(\"count\")).take(12)"
   ]
  },
  {
   "cell_type": "code",
   "execution_count": 14,
   "metadata": {},
   "outputs": [],
   "source": [
    "df = pd.DataFrame(inter[1:])#[[2,1,0]]\n",
    "df = df.rename(columns={3:'Category', 2:'Average Stars', 1:'Count', 0:'Category Index'})"
   ]
  },
  {
   "cell_type": "code",
   "execution_count": 15,
   "metadata": {},
   "outputs": [
    {
     "data": {
      "image/png": "[encoded data removed]",
      "text/plain": [
       "<Figure size 432x288 with 1 Axes>"
      ]
     },
     "metadata": {
      "needs_background": "light"
     },
     "output_type": "display_data"
    }
   ],
   "source": [
    "df.sort_values(by=\"Count\", ascending=True).plot.barh(x=\"Category\", y=\"Count\")\n",
    "plt.title('Most Reviewed Restaurant Categories')\n",
    "plt.show()"
   ]
  },
  {
   "cell_type": "code",
   "execution_count": 24,
   "metadata": {},
   "outputs": [],
   "source": [
    "inter1 = names_df.orderBy(F.desc(\"count\"))\n",
    "#df_1 = pd.DataFrame(inter[1:])#[[2,1,0]]\n"
   ]
  },
  {
   "cell_type": "code",
   "execution_count": 45,
   "metadata": {},
   "outputs": [
    {
     "data": {
      "text/html": [
       "<div>\n",
       "<style scoped>\n",
       "    .dataframe tbody tr th:only-of-type {\n",
       "        vertical-align: middle;\n",
       "    }\n",
       "\n",
       "    .dataframe tbody tr th {\n",
       "        vertical-align: top;\n",
       "    }\n",
       "\n",
       "    .dataframe thead th {\n",
       "        text-align: right;\n",
       "    }\n",
       "</style>\n",
       "<table border=\"1\" class=\"dataframe\">\n",
       "  <thead>\n",
       "    <tr style=\"text-align: right;\">\n",
       "      <th></th>\n",
       "      <th>cat_num</th>\n",
       "      <th>count</th>\n",
       "      <th>avg_stars</th>\n",
       "      <th>cat_names</th>\n",
       "    </tr>\n",
       "  </thead>\n",
       "  <tbody>\n",
       "    <tr>\n",
       "      <th>0</th>\n",
       "      <td>170.0</td>\n",
       "      <td>380</td>\n",
       "      <td>3.736842</td>\n",
       "      <td>Trampoline Parks</td>\n",
       "    </tr>\n",
       "    <tr>\n",
       "      <th>1</th>\n",
       "      <td>184.0</td>\n",
       "      <td>232</td>\n",
       "      <td>3.672414</td>\n",
       "      <td>Home Services</td>\n",
       "    </tr>\n",
       "    <tr>\n",
       "      <th>2</th>\n",
       "      <td>147.0</td>\n",
       "      <td>732</td>\n",
       "      <td>3.267760</td>\n",
       "      <td>Gelato</td>\n",
       "    </tr>\n",
       "    <tr>\n",
       "      <th>3</th>\n",
       "      <td>169.0</td>\n",
       "      <td>380</td>\n",
       "      <td>3.936842</td>\n",
       "      <td>Country Clubs</td>\n",
       "    </tr>\n",
       "    <tr>\n",
       "      <th>4</th>\n",
       "      <td>160.0</td>\n",
       "      <td>532</td>\n",
       "      <td>4.691729</td>\n",
       "      <td>Car Wash</td>\n",
       "    </tr>\n",
       "    <tr>\n",
       "      <th>...</th>\n",
       "      <td>...</td>\n",
       "      <td>...</td>\n",
       "      <td>...</td>\n",
       "      <td>...</td>\n",
       "    </tr>\n",
       "    <tr>\n",
       "      <th>280</th>\n",
       "      <td>158.0</td>\n",
       "      <td>560</td>\n",
       "      <td>2.742857</td>\n",
       "      <td>Salvadoran</td>\n",
       "    </tr>\n",
       "    <tr>\n",
       "      <th>281</th>\n",
       "      <td>90.0</td>\n",
       "      <td>4244</td>\n",
       "      <td>3.870877</td>\n",
       "      <td>Food Stands</td>\n",
       "    </tr>\n",
       "    <tr>\n",
       "      <th>282</th>\n",
       "      <td>91.0</td>\n",
       "      <td>4180</td>\n",
       "      <td>4.042105</td>\n",
       "      <td>Acai Bowls</td>\n",
       "    </tr>\n",
       "    <tr>\n",
       "      <th>283</th>\n",
       "      <td>110.0</td>\n",
       "      <td>2392</td>\n",
       "      <td>3.856187</td>\n",
       "      <td>Ethnic Food</td>\n",
       "    </tr>\n",
       "    <tr>\n",
       "      <th>284</th>\n",
       "      <td>203.0</td>\n",
       "      <td>124</td>\n",
       "      <td>3.645161</td>\n",
       "      <td>Kitchen &amp; Bath</td>\n",
       "    </tr>\n",
       "  </tbody>\n",
       "</table>\n",
       "<p>285 rows × 4 columns</p>\n",
       "</div>"
      ],
      "text/plain": [
       "     cat_num  count  avg_stars         cat_names\n",
       "0      170.0    380   3.736842  Trampoline Parks\n",
       "1      184.0    232   3.672414     Home Services\n",
       "2      147.0    732   3.267760            Gelato\n",
       "3      169.0    380   3.936842     Country Clubs\n",
       "4      160.0    532   4.691729          Car Wash\n",
       "..       ...    ...        ...               ...\n",
       "280    158.0    560   2.742857        Salvadoran\n",
       "281     90.0   4244   3.870877       Food Stands\n",
       "282     91.0   4180   4.042105        Acai Bowls\n",
       "283    110.0   2392   3.856187       Ethnic Food\n",
       "284    203.0    124   3.645161    Kitchen & Bath\n",
       "\n",
       "[285 rows x 4 columns]"
      ]
     },
     "execution_count": 45,
     "metadata": {},
     "output_type": "execute_result"
    }
   ],
   "source": [
    "names_pandas"
   ]
  },
  {
   "cell_type": "code",
   "execution_count": 32,
   "metadata": {},
   "outputs": [],
   "source": [
    "names_pandas = names_df.toPandas()"
   ]
  },
  {
   "cell_type": "code",
   "execution_count": 35,
   "metadata": {},
   "outputs": [],
   "source": [
    "lv2 = pd.read_csv(\"../data/raw/Las_Vegas_reviews.csv\")"
   ]
  },
  {
   "cell_type": "code",
   "execution_count": 44,
   "metadata": {},
   "outputs": [
    {
     "data": {
      "text/plain": [
       "'Car Wash, Gas Stations, Convenience Stores, Restaurants, Food, Delis, Automotive'"
      ]
     },
     "execution_count": 44,
     "metadata": {},
     "output_type": "execute_result"
    }
   ],
   "source": [
    "lv2[lv2.categories.str.contains('Car Wash')].categories[405352]"
   ]
  },
  {
   "cell_type": "code",
   "execution_count": 82,
   "metadata": {},
   "outputs": [
    {
     "data": {
      "image/png": "[encoded data removed]",
      "text/plain": [
       "<Figure size 432x288 with 1 Axes>"
      ]
     },
     "metadata": {
      "needs_background": "light"
     },
     "output_type": "display_data"
    }
   ],
   "source": [
    "df.sort_values(by=\"Average Stars\", ascending=True).plot.barh(x=\"Category\", y=\"Average Stars\")\n",
    "plt.title('Highest Average Stars for Restaurant Categories')\n",
    "plt.show()"
   ]
  },
  {
   "cell_type": "code",
   "execution_count": null,
   "metadata": {},
   "outputs": [],
   "source": [
    "df.sort_values(by=\"Count\", ascending=True).plot.barh(x=\"Category\", y=\"Count\")\n",
    "plt.title('Most Reviewed Restaurant Categories')\n",
    "plt.show()"
   ]
  },
  {
   "cell_type": "code",
   "execution_count": 3,
   "metadata": {},
   "outputs": [],
   "source": [
    "# lv = pd.read_csv(\"../../../yelp_dataset/Las_Vegas_reviews.csv\")\n",
    "lv = pd.read_csv(\"../data/raw/Las_Vegas_reviews.csv\")"
   ]
  },
  {
   "cell_type": "code",
   "execution_count": 45,
   "metadata": {},
   "outputs": [
    {
     "data": {
      "image/png": "[encoded data removed]",
      "text/plain": [
       "<Figure size 432x288 with 1 Axes>"
      ]
     },
     "metadata": {
      "needs_background": "light"
     },
     "output_type": "display_data"
    }
   ],
   "source": [
    "lv.groupby(\"stars\")['review_id'].count().plot.barh()\n",
    "plt.title('Number of Stars')\n",
    "plt.show()"
   ]
  },
  {
   "cell_type": "code",
   "execution_count": 7,
   "metadata": {},
   "outputs": [],
   "source": [
    "import json\n",
    "# with open('../data/autophrase_in/reviews.txt', 'w') as f:\n",
    "with open('../../DSC180A-Project/data/out/yelp_reviews1.txt', 'w') as f:\n",
    "    i = 0\n",
    "    for review in lv.text:\n",
    "        f.write(review)\n",
    "        f.write(\"\\n.\\n\")\n",
    "#         f.write(\"\\n<REVIEW DELIMITER>\\n\")\n",
    "#         else:\n",
    "#             break\n",
    "#     f.write(json.dumps(lv.text.to_dict()))"
   ]
  },
  {
   "cell_type": "code",
   "execution_count": 1,
   "metadata": {},
   "outputs": [],
   "source": [
    "# with open('../data/autophrase_in/reviews.txt', 'w') as f:\n",
    "#     f.write('test')\n",
    "# with open('../data/autophrase_out/segmentation.txt', 'r') as f:\n",
    "with open('../../DSC180A-Project/data/out/segmentation.txt', 'r') as f:\n",
    "# with open('../../DSC180A-Project/data/in/yelp_reviews.txt', 'r') as f:\n",
    "# with open('../../DSC180A-Project/data/in/yelp_reviews1.txt', 'r') as f:\n",
    "    a = f.read()\n",
    "    b = a.split(\"\\n.\\n\")"
   ]
  },
  {
   "cell_type": "code",
   "execution_count": null,
   "metadata": {},
   "outputs": [],
   "source": []
  }
 ],
 "metadata": {
  "kernelspec": {
   "display_name": "Python 3",
   "language": "python",
   "name": "python3"
  },
  "language_info": {
   "codemirror_mode": {
    "name": "ipython",
    "version": 3
   },
   "file_extension": ".py",
   "mimetype": "text/x-python",
   "name": "python",
   "nbconvert_exporter": "python",
   "pygments_lexer": "ipython3",
   "version": "3.8.5"
  }
 },
 "nbformat": 4,
 "nbformat_minor": 4
}
