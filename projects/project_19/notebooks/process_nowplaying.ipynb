{
 "cells": [
  {
   "cell_type": "code",
   "execution_count": 1,
   "metadata": {},
   "outputs": [
    {
     "name": "stderr",
     "output_type": "stream",
     "text": [
      "Using backend: pytorch\n"
     ]
    }
   ],
   "source": [
    "import os\n",
    "import sys\n",
    "import argparse\n",
    "import pandas as pd\n",
    "import scipy.sparse as ssp\n",
    "import pickle\n",
    "\n",
    "sys.path.append('../src')\n",
    "\n",
    "from data_utils import *\n",
    "from builder import PandasGraphBuilder"
   ]
  },
  {
   "cell_type": "code",
   "execution_count": 2,
   "metadata": {},
   "outputs": [],
   "source": [
    "directory = '../data/nowplaying_rs_dataset'\n",
    "output_path = '../data/nowplaying_out.pkl'"
   ]
  },
  {
   "cell_type": "code",
   "execution_count": 3,
   "metadata": {
    "scrolled": false
   },
   "outputs": [],
   "source": [
    "data = pd.read_csv(os.path.join(directory, 'context_content_features.csv'))"
   ]
  },
  {
   "cell_type": "code",
   "execution_count": 4,
   "metadata": {
    "scrolled": false
   },
   "outputs": [
    {
     "data": {
      "text/html": [
       "<div>\n",
       "<style scoped>\n",
       "    .dataframe tbody tr th:only-of-type {\n",
       "        vertical-align: middle;\n",
       "    }\n",
       "\n",
       "    .dataframe tbody tr th {\n",
       "        vertical-align: top;\n",
       "    }\n",
       "\n",
       "    .dataframe thead th {\n",
       "        text-align: right;\n",
       "    }\n",
       "</style>\n",
       "<table border=\"1\" class=\"dataframe\">\n",
       "  <thead>\n",
       "    <tr style=\"text-align: right;\">\n",
       "      <th></th>\n",
       "      <th>0</th>\n",
       "    </tr>\n",
       "  </thead>\n",
       "  <tbody>\n",
       "    <tr>\n",
       "      <th>coordinates</th>\n",
       "      <td>NaN</td>\n",
       "    </tr>\n",
       "    <tr>\n",
       "      <th>instrumentalness</th>\n",
       "      <td>0.00479</td>\n",
       "    </tr>\n",
       "    <tr>\n",
       "      <th>liveness</th>\n",
       "      <td>0.18</td>\n",
       "    </tr>\n",
       "    <tr>\n",
       "      <th>speechiness</th>\n",
       "      <td>0.0294</td>\n",
       "    </tr>\n",
       "    <tr>\n",
       "      <th>danceability</th>\n",
       "      <td>0.634</td>\n",
       "    </tr>\n",
       "    <tr>\n",
       "      <th>valence</th>\n",
       "      <td>0.342</td>\n",
       "    </tr>\n",
       "    <tr>\n",
       "      <th>loudness</th>\n",
       "      <td>-8.345</td>\n",
       "    </tr>\n",
       "    <tr>\n",
       "      <th>tempo</th>\n",
       "      <td>125.044</td>\n",
       "    </tr>\n",
       "    <tr>\n",
       "      <th>acousticness</th>\n",
       "      <td>0.00035</td>\n",
       "    </tr>\n",
       "    <tr>\n",
       "      <th>energy</th>\n",
       "      <td>0.697</td>\n",
       "    </tr>\n",
       "    <tr>\n",
       "      <th>mode</th>\n",
       "      <td>1</td>\n",
       "    </tr>\n",
       "    <tr>\n",
       "      <th>key</th>\n",
       "      <td>6</td>\n",
       "    </tr>\n",
       "    <tr>\n",
       "      <th>artist_id</th>\n",
       "      <td>b2980c722a1ace7a30303718ce5491d8</td>\n",
       "    </tr>\n",
       "    <tr>\n",
       "      <th>place</th>\n",
       "      <td>NaN</td>\n",
       "    </tr>\n",
       "    <tr>\n",
       "      <th>geo</th>\n",
       "      <td>NaN</td>\n",
       "    </tr>\n",
       "    <tr>\n",
       "      <th>tweet_lang</th>\n",
       "      <td>en</td>\n",
       "    </tr>\n",
       "    <tr>\n",
       "      <th>track_id</th>\n",
       "      <td>cd52b3e5b51da29e5893dba82a418a4b</td>\n",
       "    </tr>\n",
       "    <tr>\n",
       "      <th>created_at</th>\n",
       "      <td>2014-01-01 05:54:21</td>\n",
       "    </tr>\n",
       "    <tr>\n",
       "      <th>lang</th>\n",
       "      <td>en</td>\n",
       "    </tr>\n",
       "    <tr>\n",
       "      <th>time_zone</th>\n",
       "      <td>Central Time (US &amp; Canada)</td>\n",
       "    </tr>\n",
       "    <tr>\n",
       "      <th>entities</th>\n",
       "      <td>NaN</td>\n",
       "    </tr>\n",
       "    <tr>\n",
       "      <th>user_id</th>\n",
       "      <td>81496937</td>\n",
       "    </tr>\n",
       "    <tr>\n",
       "      <th>id</th>\n",
       "      <td>418243774842929150</td>\n",
       "    </tr>\n",
       "  </tbody>\n",
       "</table>\n",
       "</div>"
      ],
      "text/plain": [
       "                                                 0\n",
       "coordinates                                    NaN\n",
       "instrumentalness                           0.00479\n",
       "liveness                                      0.18\n",
       "speechiness                                 0.0294\n",
       "danceability                                 0.634\n",
       "valence                                      0.342\n",
       "loudness                                    -8.345\n",
       "tempo                                      125.044\n",
       "acousticness                               0.00035\n",
       "energy                                       0.697\n",
       "mode                                             1\n",
       "key                                              6\n",
       "artist_id         b2980c722a1ace7a30303718ce5491d8\n",
       "place                                          NaN\n",
       "geo                                            NaN\n",
       "tweet_lang                                      en\n",
       "track_id          cd52b3e5b51da29e5893dba82a418a4b\n",
       "created_at                     2014-01-01 05:54:21\n",
       "lang                                            en\n",
       "time_zone               Central Time (US & Canada)\n",
       "entities                                       NaN\n",
       "user_id                                   81496937\n",
       "id                              418243774842929150"
      ]
     },
     "execution_count": 4,
     "metadata": {},
     "output_type": "execute_result"
    }
   ],
   "source": [
    "data.head(1).T"
   ]
  },
  {
   "cell_type": "code",
   "execution_count": 5,
   "metadata": {},
   "outputs": [
    {
     "data": {
      "text/plain": [
       "(11614671, 23)"
      ]
     },
     "execution_count": 5,
     "metadata": {},
     "output_type": "execute_result"
    }
   ],
   "source": [
    "data.shape"
   ]
  },
  {
   "cell_type": "markdown",
   "metadata": {},
   "source": [
    "## Clean Data"
   ]
  },
  {
   "cell_type": "code",
   "execution_count": 6,
   "metadata": {},
   "outputs": [],
   "source": [
    "track_feature_cols = list(data.columns[1:13])\n",
    "data = data[['user_id', 'track_id', 'created_at'] + track_feature_cols].dropna()"
   ]
  },
  {
   "cell_type": "code",
   "execution_count": 7,
   "metadata": {},
   "outputs": [
    {
     "data": {
      "text/plain": [
       "Index(['user_id', 'track_id', 'created_at', 'instrumentalness', 'liveness',\n",
       "       'speechiness', 'danceability', 'valence', 'loudness', 'tempo',\n",
       "       'acousticness', 'energy', 'mode', 'key', 'artist_id'],\n",
       "      dtype='object')"
      ]
     },
     "execution_count": 7,
     "metadata": {},
     "output_type": "execute_result"
    }
   ],
   "source": [
    "data.columns"
   ]
  },
  {
   "cell_type": "markdown",
   "metadata": {},
   "source": [
    "## Users"
   ]
  },
  {
   "cell_type": "code",
   "execution_count": 38,
   "metadata": {},
   "outputs": [
    {
     "data": {
      "text/html": [
       "<div>\n",
       "<style scoped>\n",
       "    .dataframe tbody tr th:only-of-type {\n",
       "        vertical-align: middle;\n",
       "    }\n",
       "\n",
       "    .dataframe tbody tr th {\n",
       "        vertical-align: top;\n",
       "    }\n",
       "\n",
       "    .dataframe thead th {\n",
       "        text-align: right;\n",
       "    }\n",
       "</style>\n",
       "<table border=\"1\" class=\"dataframe\">\n",
       "  <thead>\n",
       "    <tr style=\"text-align: right;\">\n",
       "      <th></th>\n",
       "      <th>user_id</th>\n",
       "    </tr>\n",
       "  </thead>\n",
       "  <tbody>\n",
       "    <tr>\n",
       "      <th>0</th>\n",
       "      <td>81496937</td>\n",
       "    </tr>\n",
       "    <tr>\n",
       "      <th>1</th>\n",
       "      <td>2205686924</td>\n",
       "    </tr>\n",
       "    <tr>\n",
       "      <th>2</th>\n",
       "      <td>132588395</td>\n",
       "    </tr>\n",
       "    <tr>\n",
       "      <th>3</th>\n",
       "      <td>97675221</td>\n",
       "    </tr>\n",
       "    <tr>\n",
       "      <th>4</th>\n",
       "      <td>17945688</td>\n",
       "    </tr>\n",
       "  </tbody>\n",
       "</table>\n",
       "</div>"
      ],
      "text/plain": [
       "      user_id\n",
       "0    81496937\n",
       "1  2205686924\n",
       "2   132588395\n",
       "3    97675221\n",
       "4    17945688"
      ]
     },
     "execution_count": 38,
     "metadata": {},
     "output_type": "execute_result"
    }
   ],
   "source": [
    "users = data[['user_id']].drop_duplicates()\n",
    "users.head()"
   ]
  },
  {
   "cell_type": "markdown",
   "metadata": {},
   "source": [
    "## Tracks"
   ]
  },
  {
   "cell_type": "code",
   "execution_count": 36,
   "metadata": {},
   "outputs": [
    {
     "data": {
      "text/html": [
       "<div>\n",
       "<style scoped>\n",
       "    .dataframe tbody tr th:only-of-type {\n",
       "        vertical-align: middle;\n",
       "    }\n",
       "\n",
       "    .dataframe tbody tr th {\n",
       "        vertical-align: top;\n",
       "    }\n",
       "\n",
       "    .dataframe thead th {\n",
       "        text-align: right;\n",
       "    }\n",
       "</style>\n",
       "<table border=\"1\" class=\"dataframe\">\n",
       "  <thead>\n",
       "    <tr style=\"text-align: right;\">\n",
       "      <th></th>\n",
       "      <th>track_id</th>\n",
       "      <th>instrumentalness</th>\n",
       "      <th>liveness</th>\n",
       "      <th>speechiness</th>\n",
       "      <th>danceability</th>\n",
       "      <th>valence</th>\n",
       "      <th>loudness</th>\n",
       "      <th>tempo</th>\n",
       "      <th>acousticness</th>\n",
       "      <th>energy</th>\n",
       "      <th>mode</th>\n",
       "      <th>key</th>\n",
       "      <th>artist_id</th>\n",
       "    </tr>\n",
       "  </thead>\n",
       "  <tbody>\n",
       "    <tr>\n",
       "      <th>0</th>\n",
       "      <td>cd52b3e5b51da29e5893dba82a418a4b</td>\n",
       "      <td>0.004790</td>\n",
       "      <td>0.1800</td>\n",
       "      <td>0.0294</td>\n",
       "      <td>0.634</td>\n",
       "      <td>0.342</td>\n",
       "      <td>-8.345</td>\n",
       "      <td>125.044</td>\n",
       "      <td>0.00035</td>\n",
       "      <td>0.697</td>\n",
       "      <td>1</td>\n",
       "      <td>6</td>\n",
       "      <td>b2980c722a1ace7a30303718ce5491d8</td>\n",
       "    </tr>\n",
       "    <tr>\n",
       "      <th>1</th>\n",
       "      <td>da3110a77b724072b08f231c9d6f7534</td>\n",
       "      <td>0.017700</td>\n",
       "      <td>0.0638</td>\n",
       "      <td>0.0624</td>\n",
       "      <td>0.769</td>\n",
       "      <td>0.752</td>\n",
       "      <td>-8.252</td>\n",
       "      <td>95.862</td>\n",
       "      <td>0.26700</td>\n",
       "      <td>0.826</td>\n",
       "      <td>1</td>\n",
       "      <td>7</td>\n",
       "      <td>5cddcd0e314e2f2223ab21937d2c8778</td>\n",
       "    </tr>\n",
       "    <tr>\n",
       "      <th>2</th>\n",
       "      <td>ba84d88c10fb0e42d4754a27ead10546</td>\n",
       "      <td>0.000000</td>\n",
       "      <td>0.0860</td>\n",
       "      <td>0.0436</td>\n",
       "      <td>0.675</td>\n",
       "      <td>0.775</td>\n",
       "      <td>-4.432</td>\n",
       "      <td>97.030</td>\n",
       "      <td>0.21700</td>\n",
       "      <td>0.885</td>\n",
       "      <td>0</td>\n",
       "      <td>1</td>\n",
       "      <td>e41273f43af504714d85465294f1f369</td>\n",
       "    </tr>\n",
       "    <tr>\n",
       "      <th>3</th>\n",
       "      <td>33f95122281f76e7134f9cbea3be980f</td>\n",
       "      <td>0.000000</td>\n",
       "      <td>0.1430</td>\n",
       "      <td>0.0292</td>\n",
       "      <td>0.324</td>\n",
       "      <td>0.333</td>\n",
       "      <td>-5.647</td>\n",
       "      <td>74.101</td>\n",
       "      <td>0.23900</td>\n",
       "      <td>0.574</td>\n",
       "      <td>1</td>\n",
       "      <td>7</td>\n",
       "      <td>557ce373bd29743eb00a3723ab19ebe8</td>\n",
       "    </tr>\n",
       "    <tr>\n",
       "      <th>4</th>\n",
       "      <td>b5c42e81e15cd54b9b0ee34711dedf05</td>\n",
       "      <td>0.000183</td>\n",
       "      <td>0.3620</td>\n",
       "      <td>0.0524</td>\n",
       "      <td>0.767</td>\n",
       "      <td>0.808</td>\n",
       "      <td>-5.011</td>\n",
       "      <td>114.237</td>\n",
       "      <td>0.03640</td>\n",
       "      <td>0.739</td>\n",
       "      <td>0</td>\n",
       "      <td>10</td>\n",
       "      <td>77bd64b4bf77e10001fd02964985ae0f</td>\n",
       "    </tr>\n",
       "  </tbody>\n",
       "</table>\n",
       "</div>"
      ],
      "text/plain": [
       "                           track_id  instrumentalness  liveness  speechiness  \\\n",
       "0  cd52b3e5b51da29e5893dba82a418a4b          0.004790    0.1800       0.0294   \n",
       "1  da3110a77b724072b08f231c9d6f7534          0.017700    0.0638       0.0624   \n",
       "2  ba84d88c10fb0e42d4754a27ead10546          0.000000    0.0860       0.0436   \n",
       "3  33f95122281f76e7134f9cbea3be980f          0.000000    0.1430       0.0292   \n",
       "4  b5c42e81e15cd54b9b0ee34711dedf05          0.000183    0.3620       0.0524   \n",
       "\n",
       "   danceability  valence  loudness    tempo  acousticness  energy  mode  key  \\\n",
       "0         0.634    0.342    -8.345  125.044       0.00035   0.697     1    6   \n",
       "1         0.769    0.752    -8.252   95.862       0.26700   0.826     1    7   \n",
       "2         0.675    0.775    -4.432   97.030       0.21700   0.885     0    1   \n",
       "3         0.324    0.333    -5.647   74.101       0.23900   0.574     1    7   \n",
       "4         0.767    0.808    -5.011  114.237       0.03640   0.739     0   10   \n",
       "\n",
       "                          artist_id  \n",
       "0  b2980c722a1ace7a30303718ce5491d8  \n",
       "1  5cddcd0e314e2f2223ab21937d2c8778  \n",
       "2  e41273f43af504714d85465294f1f369  \n",
       "3  557ce373bd29743eb00a3723ab19ebe8  \n",
       "4  77bd64b4bf77e10001fd02964985ae0f  "
      ]
     },
     "execution_count": 36,
     "metadata": {},
     "output_type": "execute_result"
    }
   ],
   "source": [
    "tracks = data[['track_id'] + track_feature_cols].drop_duplicates()\n",
    "assert tracks['track_id'].value_counts().max() == 1 # check for duplicate tracks\n",
    "tracks = tracks.astype({'mode': 'int64', 'key': 'int64', 'artist_id': 'category'})\n",
    "tracks.head()"
   ]
  },
  {
   "cell_type": "markdown",
   "metadata": {},
   "source": [
    "## Events"
   ]
  },
  {
   "cell_type": "code",
   "execution_count": 85,
   "metadata": {},
   "outputs": [
    {
     "data": {
      "text/html": [
       "<div>\n",
       "<style scoped>\n",
       "    .dataframe tbody tr th:only-of-type {\n",
       "        vertical-align: middle;\n",
       "    }\n",
       "\n",
       "    .dataframe tbody tr th {\n",
       "        vertical-align: top;\n",
       "    }\n",
       "\n",
       "    .dataframe thead th {\n",
       "        text-align: right;\n",
       "    }\n",
       "</style>\n",
       "<table border=\"1\" class=\"dataframe\">\n",
       "  <thead>\n",
       "    <tr style=\"text-align: right;\">\n",
       "      <th></th>\n",
       "      <th>user_id</th>\n",
       "      <th>track_id</th>\n",
       "      <th>created_at</th>\n",
       "    </tr>\n",
       "  </thead>\n",
       "  <tbody>\n",
       "    <tr>\n",
       "      <th>0</th>\n",
       "      <td>81496937</td>\n",
       "      <td>cd52b3e5b51da29e5893dba82a418a4b</td>\n",
       "      <td>1388555661</td>\n",
       "    </tr>\n",
       "    <tr>\n",
       "      <th>1</th>\n",
       "      <td>2205686924</td>\n",
       "      <td>da3110a77b724072b08f231c9d6f7534</td>\n",
       "      <td>1388555662</td>\n",
       "    </tr>\n",
       "    <tr>\n",
       "      <th>2</th>\n",
       "      <td>132588395</td>\n",
       "      <td>ba84d88c10fb0e42d4754a27ead10546</td>\n",
       "      <td>1388555662</td>\n",
       "    </tr>\n",
       "    <tr>\n",
       "      <th>3</th>\n",
       "      <td>97675221</td>\n",
       "      <td>33f95122281f76e7134f9cbea3be980f</td>\n",
       "      <td>1388555664</td>\n",
       "    </tr>\n",
       "    <tr>\n",
       "      <th>4</th>\n",
       "      <td>17945688</td>\n",
       "      <td>b5c42e81e15cd54b9b0ee34711dedf05</td>\n",
       "      <td>1388555664</td>\n",
       "    </tr>\n",
       "  </tbody>\n",
       "</table>\n",
       "</div>"
      ],
      "text/plain": [
       "      user_id                          track_id  created_at\n",
       "0    81496937  cd52b3e5b51da29e5893dba82a418a4b  1388555661\n",
       "1  2205686924  da3110a77b724072b08f231c9d6f7534  1388555662\n",
       "2   132588395  ba84d88c10fb0e42d4754a27ead10546  1388555662\n",
       "3    97675221  33f95122281f76e7134f9cbea3be980f  1388555664\n",
       "4    17945688  b5c42e81e15cd54b9b0ee34711dedf05  1388555664"
      ]
     },
     "execution_count": 85,
     "metadata": {},
     "output_type": "execute_result"
    }
   ],
   "source": [
    "events = data[['user_id', 'track_id', 'created_at']].copy()\n",
    "events['created_at'] = events['created_at'].values.astype('datetime64[s]').astype('int64')\n",
    "events.head()"
   ]
  },
  {
   "cell_type": "markdown",
   "metadata": {},
   "source": [
    "## Build Graph"
   ]
  },
  {
   "cell_type": "code",
   "execution_count": 39,
   "metadata": {},
   "outputs": [],
   "source": [
    "graph_builder = PandasGraphBuilder()\n",
    "graph_builder.add_entities(users, 'user_id', 'user') # add users\n",
    "graph_builder.add_entities(tracks, 'track_id', 'track') # add tracks\n",
    "graph_builder.add_binary_relations(events, 'user_id', 'track_id', 'listened') # add listening events\n",
    "graph_builder.add_binary_relations(events, 'track_id', 'user_id', 'listened-by') # add listening events\n",
    "g = graph_builder.build()"
   ]
  },
  {
   "cell_type": "code",
   "execution_count": 40,
   "metadata": {},
   "outputs": [
    {
     "data": {
      "text/plain": [
       "Graph(num_nodes={'track': 346122, 'user': 138721},\n",
       "      num_edges={('track', 'listened-by', 'user'): 11609883, ('user', 'listened', 'track'): 11609883},\n",
       "      metagraph=[('track', 'user', 'listened-by'), ('user', 'track', 'listened')])"
      ]
     },
     "execution_count": 40,
     "metadata": {},
     "output_type": "execute_result"
    }
   ],
   "source": [
    "g"
   ]
  },
  {
   "cell_type": "markdown",
   "metadata": {},
   "source": [
    "## Get Track Features"
   ]
  },
  {
   "cell_type": "code",
   "execution_count": 49,
   "metadata": {},
   "outputs": [],
   "source": [
    "float_cols = []\n",
    "for col in tracks.columns:\n",
    "    if col == 'track_id':\n",
    "        continue\n",
    "    elif col == 'artist_id':\n",
    "        g.nodes['track'].data[col] = torch.LongTensor(tracks[col].cat.codes.values.copy())\n",
    "    elif tracks.dtypes[col] == 'float64':\n",
    "        float_cols.append(col)\n",
    "    elif tracks.dtypes[col] == 'int64':\n",
    "        g.nodes['track'].data[col] = torch.LongTensor(tracks[col].values)\n",
    "        \n",
    "g.nodes['track'].data['song_features'] = torch.FloatTensor(linear_normalize(tracks[float_cols].values)) # add min-max normalize song features"
   ]
  },
  {
   "cell_type": "code",
   "execution_count": 51,
   "metadata": {},
   "outputs": [],
   "source": [
    "# add edges\n",
    "g.edges['listened'].data['created_at'] = torch.LongTensor(events['created_at'].values)\n",
    "g.edges['listened-by'].data['created_at'] = torch.LongTensor(events['created_at'].values)"
   ]
  },
  {
   "cell_type": "code",
   "execution_count": 92,
   "metadata": {
    "scrolled": false
   },
   "outputs": [
    {
     "name": "stderr",
     "output_type": "stream",
     "text": [
      "../src/data_utils.py:51: UserWarning: `meta` is not specified, inferred from partial data. Please provide `meta` if the result is unexpected.\n",
      "  Before: .apply(func)\n",
      "  After:  .apply(func, meta={'x': 'f8', 'y': 'f8'}) for dataframe result\n",
      "  or:     .apply(func, meta=('x', 'f8'))            for series result\n",
      "  .apply(train_test_split) \\\n"
     ]
    },
    {
     "name": "stdout",
     "output_type": "stream",
     "text": [
      "           user_id                          track_id  created_at  train_mask  \\\n",
      "0         81496937  cd52b3e5b51da29e5893dba82a418a4b  1388555661        True   \n",
      "919       81496937  29cb3f8f366888158226c810b3fee372  1388558532        True   \n",
      "1079      81496937  f62b0e51fc59cca8af70942e12554765  1388558890        True   \n",
      "1543      81496937  d99853238d61833e3158a0fe76425ca2  1388560382        True   \n",
      "1661      81496937  977837bd00f5374b5d0586ba2538523c  1388560804        True   \n",
      "...            ...                               ...         ...         ...   \n",
      "11613299  81496937  f15ae084e89942084df0f4f989247de9  1419316321        True   \n",
      "11613401  81496937  a5ad13a10a9a6ad7ba3784d185de4fec  1419316516        True   \n",
      "11613508  81496937  9b664ec984823d11e70287a5201ede35  1419316748        True   \n",
      "11613984  81496937  744c145d74cf4f65162a749bebda0db7  1419317816       False   \n",
      "11614273  81496937  c4eb7de403a7e55b968defca65398f78  1419318413       False   \n",
      "\n",
      "          val_mask  test_mask  \n",
      "0            False      False  \n",
      "919          False      False  \n",
      "1079         False      False  \n",
      "1543         False      False  \n",
      "1661         False      False  \n",
      "...            ...        ...  \n",
      "11613299     False      False  \n",
      "11613401     False      False  \n",
      "11613508     False      False  \n",
      "11613984      True      False  \n",
      "11614273     False       True  \n",
      "\n",
      "[23737 rows x 6 columns]\n"
     ]
    }
   ],
   "source": [
    "train_indices, val_indices, test_indices = train_test_split_by_time(events, 'created_at', 'user_id')"
   ]
  },
  {
   "cell_type": "code",
   "execution_count": 104,
   "metadata": {},
   "outputs": [],
   "source": [
    "train_g = build_train_graph(g, train_indices, 'user', 'track', 'listened', 'listened-by')\n",
    "assert train_g.out_degrees(etype='listened').min() > 0"
   ]
  },
  {
   "cell_type": "code",
   "execution_count": 105,
   "metadata": {},
   "outputs": [],
   "source": [
    "val_matrix, test_matrix = build_val_test_matrix(g, val_indices, test_indices, 'user', 'track', 'listened')"
   ]
  },
  {
   "cell_type": "code",
   "execution_count": 109,
   "metadata": {},
   "outputs": [],
   "source": [
    "dataset = {\n",
    "    'train-graph': train_g,\n",
    "    'val-matrix': val_matrix,\n",
    "    'test-matrix': test_matrix,\n",
    "    'item-texts': {},\n",
    "    'item-images': None,\n",
    "    'user-type': 'user',\n",
    "    'item-type': 'track',\n",
    "    'user-to-item-type': 'listened',\n",
    "    'item-to-user-type': 'listened-by',\n",
    "    'timestamp-edge-column': 'created_at'}"
   ]
  }
 ],
 "metadata": {
  "kernelspec": {
   "display_name": "Python 3",
   "language": "python",
   "name": "python3"
  },
  "language_info": {
   "codemirror_mode": {
    "name": "ipython",
    "version": 3
   },
   "file_extension": ".py",
   "mimetype": "text/x-python",
   "name": "python",
   "nbconvert_exporter": "python",
   "pygments_lexer": "ipython3",
   "version": "3.7.6"
  }
 },
 "nbformat": 4,
 "nbformat_minor": 4
}
