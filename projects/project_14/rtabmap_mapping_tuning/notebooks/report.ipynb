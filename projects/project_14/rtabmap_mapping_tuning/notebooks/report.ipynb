{
 "cells": [
  {
   "cell_type": "markdown",
   "metadata": {},
   "source": [
    "# Introduction\n",
    "\n",
    "In this notebook we do a basic data exploratory analysis of the datasets we will be using to evaluate the RTABMAP SLAM algorithm"
   ]
  },
  {
   "cell_type": "code",
   "execution_count": null,
   "metadata": {},
   "outputs": [],
   "source": [
    "import pandas as pd\n",
    "import numpy as np\n",
    "import matplotlib.pyplot as plt"
   ]
  },
  {
   "cell_type": "code",
   "execution_count": null,
   "metadata": {},
   "outputs": [],
   "source": [
    "gt = pd.read_csv('../test/testdata/param1_gt.txt', header=None, sep=\" \").rename(columns={0:'timestamp', \n",
    "                   1:'x', \n",
    "                   2:'y', \n",
    "                   3:'z', \n",
    "                   4:'r_x', \n",
    "                   5:'r_y', \n",
    "                   6:'r_z',\n",
    "                   7:'r_w'})\n",
    "odom = pd.read_csv('../test/testdata/param1_odom.txt', header=None, sep=\" \").rename(columns={0:'timestamp', \n",
    "                   1:'x', \n",
    "                   2:'y', \n",
    "                   3:'z', \n",
    "                   4:'r_x', \n",
    "                   5:'r_y', \n",
    "                   6:'r_z',\n",
    "                   7:'r_w'})\n",
    "slam = pd.read_csv('../test/testdata/param1_slam.txt', header=None, sep=\" \").rename(columns={0:'timestamp', \n",
    "                   1:'x', \n",
    "                   2:'y', \n",
    "                   3:'z', \n",
    "                   4:'r_x', \n",
    "                   5:'r_y', \n",
    "                   6:'r_z',\n",
    "                   7:'r_w'})"
   ]
  },
  {
   "cell_type": "markdown",
   "metadata": {},
   "source": [
    "We get 3 different files from 3 different sensors. One file for the ground truth, one file for the SLAM trajectory estimation, one file for the odometry trajectory estimation. We use the ground truth to compare to rest of the files to calculate the Absolute Trajectory Error(using the SLAM trajectory) and Relative Pose Error (using the odometry trajectory)."
   ]
  },
  {
   "cell_type": "markdown",
   "metadata": {},
   "source": [
    "Each dataset has 8 columns. The first column is the 'timestamp', the next three columns are transformation vectors that could be interpreted as the 'x', 'y', and 'z' positions of the robot. The last four columns are the rotational vectors that control how the car turns which can be interpreted as, roll(qx), pitch(qy), yaw(qz) and angle(qw)."
   ]
  },
  {
   "cell_type": "markdown",
   "metadata": {},
   "source": [
    "### Ground Truth Data:"
   ]
  },
  {
   "cell_type": "code",
   "execution_count": null,
   "metadata": {},
   "outputs": [],
   "source": [
    "gt.head()"
   ]
  },
  {
   "cell_type": "markdown",
   "metadata": {},
   "source": [
    "### Odometry Data:"
   ]
  },
  {
   "cell_type": "code",
   "execution_count": null,
   "metadata": {},
   "outputs": [],
   "source": [
    "odom.head()"
   ]
  },
  {
   "cell_type": "markdown",
   "metadata": {},
   "source": [
    "### SLAM Data:"
   ]
  },
  {
   "cell_type": "code",
   "execution_count": null,
   "metadata": {},
   "outputs": [],
   "source": [
    "slam.head()"
   ]
  },
  {
   "cell_type": "markdown",
   "metadata": {},
   "source": [
    "## Time Stamp Column:"
   ]
  },
  {
   "cell_type": "markdown",
   "metadata": {},
   "source": [
    "Since all 3 datasets are collected at the same time, there is no variation between the 3 datasets."
   ]
  },
  {
   "cell_type": "markdown",
   "metadata": {},
   "source": [
    "<!-- ![timestamp](../data/report/timestamp.png) -->\n",
    "<img src=\"../data/report/timestamp.png\" alt=\"timestamp\">"
   ]
  },
  {
   "cell_type": "markdown",
   "metadata": {},
   "source": [
    "## X and Y Columns:"
   ]
  },
  {
   "cell_type": "markdown",
   "metadata": {},
   "source": [
    "If we were to graph these two columns, we are able to see the trajectory of the car."
   ]
  },
  {
   "cell_type": "markdown",
   "metadata": {},
   "source": [
    "We can see that they all seem to plot the same path which is a good sign"
   ]
  },
  {
   "cell_type": "markdown",
   "metadata": {},
   "source": [
    "![paths](../data/report/xy.png)"
   ]
  },
  {
   "cell_type": "markdown",
   "metadata": {},
   "source": [
    "## Z Column:"
   ]
  },
  {
   "cell_type": "markdown",
   "metadata": {},
   "source": [
    "Since there is no elevation change in the simulation, our 'z' values are similar"
   ]
  },
  {
   "cell_type": "code",
   "execution_count": null,
   "metadata": {},
   "outputs": [],
   "source": [
    "pd.read_csv('../data/report/z.csv', index_col=0)"
   ]
  },
  {
   "cell_type": "markdown",
   "metadata": {},
   "source": [
    "When we graph all 3 datasets' z values, we see that it overlaps with each other."
   ]
  },
  {
   "cell_type": "markdown",
   "metadata": {},
   "source": [
    "![z similarity](../data/report/z.png)"
   ]
  },
  {
   "cell_type": "markdown",
   "metadata": {},
   "source": [
    "## Rotational Vectors:"
   ]
  },
  {
   "cell_type": "markdown",
   "metadata": {},
   "source": [
    "### Vectors r_x, r_y:"
   ]
  },
  {
   "cell_type": "markdown",
   "metadata": {},
   "source": [
    "The last four columns are the quarternions. We generally see the rotaional values change when the x and y values have a change in direction.\n",
    "\n",
    "Since this is a car, there is no pitch and roll, the first two rotional vectors, they are relatively the same across all 3 datasets. "
   ]
  },
  {
   "cell_type": "code",
   "execution_count": null,
   "metadata": {},
   "outputs": [],
   "source": [
    "pd.read_csv('../data/report/rx.csv', index_col=0)"
   ]
  },
  {
   "cell_type": "markdown",
   "metadata": {},
   "source": [
    "![rx similarity](../data/report/rx.png)"
   ]
  },
  {
   "cell_type": "code",
   "execution_count": null,
   "metadata": {},
   "outputs": [],
   "source": [
    "pd.read_csv('../data/report/ry.csv', index_col=0)"
   ]
  },
  {
   "cell_type": "markdown",
   "metadata": {},
   "source": [
    "![ry similarity](../data/report/ry.png)"
   ]
  },
  {
   "cell_type": "markdown",
   "metadata": {},
   "source": [
    "### Vectors r_w:"
   ]
  },
  {
   "cell_type": "markdown",
   "metadata": {},
   "source": [
    "The column 'r_w' corresponds to the angle of the wheel. The angles of the wheels also stays relatively the same across all 3 datasets."
   ]
  },
  {
   "cell_type": "code",
   "execution_count": null,
   "metadata": {},
   "outputs": [],
   "source": [
    "pd.read_csv('../data/report/rw.csv', index_col=0)"
   ]
  },
  {
   "cell_type": "markdown",
   "metadata": {},
   "source": [
    "![rw similarity](../data/report/rw.png)"
   ]
  },
  {
   "cell_type": "markdown",
   "metadata": {},
   "source": [
    "### Vectors r_z:"
   ]
  },
  {
   "cell_type": "markdown",
   "metadata": {},
   "source": [
    "#### Ground Truth:"
   ]
  },
  {
   "cell_type": "markdown",
   "metadata": {},
   "source": [
    "If we look at the graph, we see that the first turn occurs around the same time there is a change in direction in the y column."
   ]
  },
  {
   "cell_type": "markdown",
   "metadata": {},
   "source": [
    "![rz_gt change](../data/report/rz_gt.png)"
   ]
  },
  {
   "cell_type": "markdown",
   "metadata": {},
   "source": [
    "This can be seen in all the datasets"
   ]
  },
  {
   "cell_type": "markdown",
   "metadata": {},
   "source": [
    "#### Odometry Data:"
   ]
  },
  {
   "cell_type": "markdown",
   "metadata": {},
   "source": [
    "![rz_odom change](../data/report/rz_odom.png)"
   ]
  },
  {
   "cell_type": "markdown",
   "metadata": {},
   "source": [
    "#### SLAM Data:"
   ]
  },
  {
   "cell_type": "markdown",
   "metadata": {},
   "source": [
    "![rz_slam change](../data/report/rz_slam.png)"
   ]
  }
 ],
 "metadata": {
  "kernelspec": {
   "display_name": "Python 3",
   "language": "python",
   "name": "python3"
  },
  "language_info": {
   "codemirror_mode": {
    "name": "ipython",
    "version": 3
   },
   "file_extension": ".py",
   "mimetype": "text/x-python",
   "name": "python",
   "nbconvert_exporter": "python",
   "pygments_lexer": "ipython3",
   "version": "3.8.3"
  }
 },
 "nbformat": 4,
 "nbformat_minor": 4
}
