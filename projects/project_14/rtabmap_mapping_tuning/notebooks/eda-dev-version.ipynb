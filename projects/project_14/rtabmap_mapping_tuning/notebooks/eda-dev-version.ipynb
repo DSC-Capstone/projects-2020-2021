{
 "cells": [
  {
   "cell_type": "markdown",
   "metadata": {},
   "source": [
    "# Introduction\n",
    "\n",
    "In this notebook we do a basic data exploratory analysis of the datasets we will be using to evaluate the RTABMAP and ORBSLAM2 SLAM algorithms"
   ]
  },
  {
   "cell_type": "code",
   "execution_count": null,
   "metadata": {},
   "outputs": [],
   "source": [
    "import pandas as pd\n",
    "import numpy as np\n",
    "import matplotlib.pyplot as plt"
   ]
  },
  {
   "cell_type": "code",
   "execution_count": null,
   "metadata": {},
   "outputs": [],
   "source": [
    "gt = pd.read_csv('../data/poses/param1_gt.txt', header=None, sep=\" \").rename(columns={0:'timestamp', \n",
    "                   1:'x', \n",
    "                   2:'y', \n",
    "                   3:'z', \n",
    "                   4:'r_x', \n",
    "                   5:'r_y', \n",
    "                   6:'r_z',\n",
    "                   7:'r_w'})\n",
    "odom = pd.read_csv('../data/poses/param1_odom.txt', header=None, sep=\" \").rename(columns={0:'timestamp', \n",
    "                   1:'x', \n",
    "                   2:'y', \n",
    "                   3:'z', \n",
    "                   4:'r_x', \n",
    "                   5:'r_y', \n",
    "                   6:'r_z',\n",
    "                   7:'r_w'})\n",
    "slam = pd.read_csv('../data/poses/param1_slam.txt', header=None, sep=\" \").rename(columns={0:'timestamp', \n",
    "                   1:'x', \n",
    "                   2:'y', \n",
    "                   3:'z', \n",
    "                   4:'r_x', \n",
    "                   5:'r_y', \n",
    "                   6:'r_z',\n",
    "                   7:'r_w'})"
   ]
  },
  {
   "cell_type": "markdown",
   "metadata": {},
   "source": [
    "We get 3 different files from 3 different sensors. One file for the ground truth, one file for the SLAM trajectory estimation, one file for the odometry trajectory estimation. We use the ground truth to compare to rest of the files to calculate the Absolute Trajectory Error(using the SLAM trajectory) and Relative Pose Error (using the odometry trajectory)."
   ]
  },
  {
   "cell_type": "markdown",
   "metadata": {},
   "source": [
    "Each dataset has 8 columns. The first column is the 'timestamp', the next three columns are transformation vectors that could be interpreted as the 'x', 'y', and 'z' positions of the robot. The last four columns are the rotational vectors that control how the car turns which can be interpreted as, roll(qx), pitch(qy), yaw(qz) and angle(qw)."
   ]
  },
  {
   "cell_type": "markdown",
   "metadata": {},
   "source": [
    "### Ground Truth Data:"
   ]
  },
  {
   "cell_type": "code",
   "execution_count": null,
   "metadata": {},
   "outputs": [],
   "source": [
    "gt.head()"
   ]
  },
  {
   "cell_type": "markdown",
   "metadata": {},
   "source": [
    "### Odometry Data:"
   ]
  },
  {
   "cell_type": "code",
   "execution_count": null,
   "metadata": {},
   "outputs": [],
   "source": [
    "odom.head()"
   ]
  },
  {
   "cell_type": "markdown",
   "metadata": {},
   "source": [
    "### SLAM Data:"
   ]
  },
  {
   "cell_type": "code",
   "execution_count": null,
   "metadata": {},
   "outputs": [],
   "source": [
    "slam.head()"
   ]
  },
  {
   "cell_type": "markdown",
   "metadata": {},
   "source": [
    "## Time Stamp Column:"
   ]
  },
  {
   "cell_type": "markdown",
   "metadata": {},
   "source": [
    "Since all 3 datasets are collected at the same time, there is no variation between the 3 datasets."
   ]
  },
  {
   "cell_type": "code",
   "execution_count": null,
   "metadata": {},
   "outputs": [],
   "source": [
    "plt.plot(gt['timestamp'].values)\n",
    "plt.plot(odom['timestamp'].values)\n",
    "plt.plot(slam['timestamp'].values)\n",
    "plt.legend(['Ground Truth', 'Odometry', 'SLAM'])\n",
    "plt.title(\"Overlap in timestamps\")"
   ]
  },
  {
   "cell_type": "markdown",
   "metadata": {},
   "source": [
    "## X and Y Columns:"
   ]
  },
  {
   "cell_type": "markdown",
   "metadata": {},
   "source": [
    "If we were to graph these two columns, we are able to see the trajectory of the car."
   ]
  },
  {
   "cell_type": "code",
   "execution_count": null,
   "metadata": {},
   "outputs": [],
   "source": [
    "fig, ax = plt.subplots(1, 3, sharex = True, sharey = True)\n",
    "ax[0].plot(gt['x'].values, gt['y'].values)\n",
    "ax[0].set_title('Ground Truth')\n",
    "ax[0].set_xlabel('x')\n",
    "ax[0].set_ylabel('y')\n",
    "ax[1].plot(odom['x'].values, odom['y'].values)\n",
    "ax[1].set_title('Odometry Path')\n",
    "ax[1].set_xlabel('x')\n",
    "ax[1].set_ylabel('y')\n",
    "ax[2].plot(slam['x'].values, slam['y'].values)\n",
    "ax[2].set_title('SLAM Path')\n",
    "ax[2].set_xlabel('x')\n",
    "ax[2].set_ylabel('y')\n",
    "fig.suptitle(\"X and Y in each path\")"
   ]
  },
  {
   "cell_type": "markdown",
   "metadata": {},
   "source": [
    "We can see that they all seem to plot the same path which is a good sign"
   ]
  },
  {
   "cell_type": "markdown",
   "metadata": {},
   "source": [
    "## Z Column:"
   ]
  },
  {
   "cell_type": "markdown",
   "metadata": {},
   "source": [
    "Since there is no elevation change in the simulation, our 'z' values are similar"
   ]
  },
  {
   "cell_type": "markdown",
   "metadata": {},
   "source": [
    "When we graph all 3 datasets' z values, we see that it overlaps with each other."
   ]
  },
  {
   "cell_type": "code",
   "execution_count": null,
   "metadata": {
    "scrolled": true
   },
   "outputs": [],
   "source": [
    "plt.plot(gt['z'].values)\n",
    "plt.plot(odom['z'].values)\n",
    "plt.plot(slam['z'].values)\n",
    "plt.title(\"Similarity in elavation\")\n",
    "plt.legend(['Ground Truth', 'Odometry', 'SLAM'])\n",
    "avgs = [ np.mean(gt['z'].values), np.mean(odom['z'].values), np.mean(slam['z'].values)]\n",
    "df = pd.DataFrame(avgs, columns = ['Average Value of Z'], index = ['Ground Truth', 'Odometry', 'SLAM'])\n",
    "df"
   ]
  },
  {
   "cell_type": "markdown",
   "metadata": {},
   "source": [
    "## Rotational Vectors:"
   ]
  },
  {
   "cell_type": "markdown",
   "metadata": {},
   "source": [
    "### Vectors r_x, r_y:"
   ]
  },
  {
   "cell_type": "markdown",
   "metadata": {},
   "source": [
    "The last four columns are the quarternions. We generally see the rotaional values change when the x and y values have a change in direction.\n",
    "\n",
    "Since this is a car, there is no pitch and roll, the first two rotional vectors, they are relatively the same across all 3 datasets. "
   ]
  },
  {
   "cell_type": "code",
   "execution_count": null,
   "metadata": {},
   "outputs": [],
   "source": [
    "plt.plot(gt['r_x'].values)\n",
    "plt.plot(odom['r_x'].values)\n",
    "plt.plot(slam['r_x'].values)\n",
    "plt.title(\"Similarity in pitch\")\n",
    "plt.legend(['Ground Truth', 'Odometry', 'SLAM'])\n",
    "avgs = [ np.mean(gt['r_x'].values), np.mean(odom['r_x'].values), np.mean(slam['r_x'].values)]\n",
    "df = pd.DataFrame(avgs, columns = ['Average Value of Rotations X'], index = ['Ground Truth', 'Odometry', 'SLAM'])\n",
    "df"
   ]
  },
  {
   "cell_type": "code",
   "execution_count": null,
   "metadata": {},
   "outputs": [],
   "source": [
    "plt.plot(gt['r_y'].values)\n",
    "plt.plot(odom['r_y'].values)\n",
    "plt.plot(slam['r_y'].values)\n",
    "plt.title(\"Similarity in yaw\")\n",
    "plt.legend(['Ground Truth', 'Odometry', 'SLAM'])\n",
    "avgs = [ np.mean(gt['r_y'].values), np.mean(odom['r_y'].values), np.mean(slam['r_y'].values)]\n",
    "df = pd.DataFrame(avgs, columns = ['Average Value of Rotations Y'], index = ['Ground Truth', 'Odometry', 'SLAM'])\n",
    "df"
   ]
  },
  {
   "cell_type": "markdown",
   "metadata": {},
   "source": [
    "### Vectors r_w:"
   ]
  },
  {
   "cell_type": "markdown",
   "metadata": {},
   "source": [
    "The angle of the wheel also stays relatively the same across all 3 datasets."
   ]
  },
  {
   "cell_type": "code",
   "execution_count": null,
   "metadata": {},
   "outputs": [],
   "source": [
    "plt.plot(gt['r_w'].values)\n",
    "plt.plot(odom['r_w'].values)\n",
    "plt.plot(slam['r_w'].values)\n",
    "plt.title(\"Similarity in angle of wheel\")\n",
    "plt.legend(['Ground Truth', 'Odometry', 'SLAM'])\n",
    "avgs = [ np.mean(gt['r_w'].values), np.mean(odom['r_w'].values), np.mean(slam['r_w'].values)]\n",
    "df = pd.DataFrame(avgs, columns = ['Average Value of Rotations X'], index = ['Ground Truth', 'Odometry', 'SLAM'])\n",
    "df"
   ]
  },
  {
   "cell_type": "markdown",
   "metadata": {},
   "source": [
    "### Vectors r_z:"
   ]
  },
  {
   "cell_type": "markdown",
   "metadata": {},
   "source": [
    "#### Ground Truth:"
   ]
  },
  {
   "cell_type": "markdown",
   "metadata": {},
   "source": [
    "If we look at the graph, we see that the first turn occurs around the 6th row. It is also where there is a change in direction in the y column."
   ]
  },
  {
   "cell_type": "code",
   "execution_count": null,
   "metadata": {},
   "outputs": [],
   "source": [
    "plt.plot(gt['y'].values[:15])\n",
    "plt.title(\"Change in direction\")\n",
    "plt.plot(6, 0,'o')"
   ]
  },
  {
   "cell_type": "markdown",
   "metadata": {},
   "source": [
    "We see that the rotation values also shift at the 6th index when the y position changed.\n",
    "\n",
    "This can be seen through the 3 datasets too"
   ]
  },
  {
   "cell_type": "markdown",
   "metadata": {},
   "source": [
    "#### Odometry Data:"
   ]
  },
  {
   "cell_type": "code",
   "execution_count": null,
   "metadata": {},
   "outputs": [],
   "source": [
    "plt.plot(odom['y'].values[:15])\n",
    "plt.title(\"Change in direction\")\n",
    "plt.plot(6, 0,'o')"
   ]
  },
  {
   "cell_type": "markdown",
   "metadata": {},
   "source": [
    "#### SLAM Data:"
   ]
  },
  {
   "cell_type": "code",
   "execution_count": null,
   "metadata": {},
   "outputs": [],
   "source": [
    "plt.plot(slam['y'].values[:15])\n",
    "plt.title(\"Change in direction\")\n",
    "plt.plot(6, 0,'o')"
   ]
  },
  {
   "cell_type": "code",
   "execution_count": null,
   "metadata": {},
   "outputs": [],
   "source": []
  }
 ],
 "metadata": {
  "kernelspec": {
   "display_name": "Python 3",
   "language": "python",
   "name": "python3"
  },
  "language_info": {
   "codemirror_mode": {
    "name": "ipython",
    "version": 3
   },
   "file_extension": ".py",
   "mimetype": "text/x-python",
   "name": "python",
   "nbconvert_exporter": "python",
   "pygments_lexer": "ipython3",
   "version": "3.7.4"
  }
 },
 "nbformat": 4,
 "nbformat_minor": 4
}
