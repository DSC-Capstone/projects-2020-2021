{
 "cells": [
  {
   "cell_type": "markdown",
   "metadata": {},
   "source": [
    "## Introduction"
   ]
  },
  {
   "cell_type": "markdown",
   "metadata": {},
   "source": [
    "In this notebook we do a basic EDA on our image data exported with a launch file in ROS."
   ]
  },
  {
   "cell_type": "code",
   "execution_count": null,
   "metadata": {},
   "outputs": [],
   "source": [
    "# Import Python Image Library\n",
    "import os\n",
    "import numpy as np\n",
    "from PIL import Image\n",
    "import matplotlib as plt"
   ]
  },
  {
   "cell_type": "markdown",
   "metadata": {},
   "source": [
    "Let's load one of the track images under default settings. If the image can't be read due to problems like missing file, unsupported format, etc, than this method will return an empty matrix. We will load the image with the default camera configuration within Intel Realsense D455 camera's rgb_camera node."
   ]
  },
  {
   "cell_type": "code",
   "execution_count": null,
   "metadata": {},
   "outputs": [],
   "source": [
    "default_img = Image.open('../test/testdata/single_image/default_track.jpg')"
   ]
  },
  {
   "cell_type": "markdown",
   "metadata": {},
   "source": [
    "<img src=\"../test/testdata/single_image/default_track.jpg\" alt=\"default_track\">"
   ]
  },
  {
   "cell_type": "markdown",
   "metadata": {},
   "source": [
    "Get dimensions of this image.(row (height), column(width), color(3))"
   ]
  },
  {
   "cell_type": "code",
   "execution_count": null,
   "metadata": {},
   "outputs": [],
   "source": [
    "# 3D ndarray\n",
    "np.shape(default_img)"
   ]
  },
  {
   "cell_type": "markdown",
   "metadata": {},
   "source": [
    "Calculate the mean and median, standard deviation of the image pixels."
   ]
  },
  {
   "cell_type": "code",
   "execution_count": null,
   "metadata": {},
   "outputs": [],
   "source": [
    "print('Mean: ' + str(np.mean(default_img)))\n",
    "print('Median: ' + str(np.median(default_img))) \n",
    "print('Standard Deviation: ' + str(np.std(default_img)))"
   ]
  },
  {
   "cell_type": "markdown",
   "metadata": {},
   "source": [
    "Now let's load the image with default settings under bright conditions."
   ]
  },
  {
   "cell_type": "code",
   "execution_count": null,
   "metadata": {},
   "outputs": [],
   "source": [
    "default_bright_img = Image.open('../test/testdata/single_image/default_track_light.jpg')"
   ]
  },
  {
   "cell_type": "markdown",
   "metadata": {},
   "source": [
    "<img src=\"../test/testdata/single_image/default_track_light.jpg\" alt=\"default_track_light\">"
   ]
  },
  {
   "cell_type": "markdown",
   "metadata": {},
   "source": [
    "Get dimensions of this image.(row (height), column(width), color(3))"
   ]
  },
  {
   "cell_type": "code",
   "execution_count": null,
   "metadata": {},
   "outputs": [],
   "source": [
    "# 3D ndarray\n",
    "np.shape(default_img)"
   ]
  },
  {
   "cell_type": "markdown",
   "metadata": {},
   "source": [
    "Again, calculate the mean and median, standard deviation of the image pixels."
   ]
  },
  {
   "cell_type": "code",
   "execution_count": null,
   "metadata": {},
   "outputs": [],
   "source": [
    "print('Mean: ' + str(np.mean(default_bright_img)))\n",
    "print('Median: ' + str(np.median(default_bright_img))) \n",
    "print('Standard Deviation: ' + str(np.std(default_bright_img)))"
   ]
  },
  {
   "cell_type": "markdown",
   "metadata": {},
   "source": [
    "Next, we have a lot of images (approximately 66) under our track lap dataset, since we need all exported image data of the whole track lap to evaluate runtime performance of the car with different camera configurations properly."
   ]
  },
  {
   "cell_type": "markdown",
   "metadata": {},
   "source": [
    "It is further useful to generate one single average picture from these sets of images because it gives us an idea of average pixel intensities within one merged picture. This connects to the work we are doing with runtime performance later, since we can use this merged picture as a reference to judge the overall luminescence of the image."
   ]
  },
  {
   "cell_type": "markdown",
   "metadata": {},
   "source": [
    "We can do this step by step:\n",
    "\n",
    "1) We need to access all .jpg files in the directory.\n",
    "\n",
    "2) Given that all images are the same size, get the dimensions of the first image.\n",
    "\n",
    "3) Create an array of floats to store the average.\n",
    "\n",
    "4) Calculate average pixel intensities, casting each image as an array of floats.\n",
    "\n",
    "5) Round values in an array and cast as 8-bit integer.\n",
    "\n",
    "6) Generate the final merged image"
   ]
  },
  {
   "cell_type": "markdown",
   "metadata": {},
   "source": [
    "<img src=\"../results/average_pixel_picture.jpg\" alt=\"average_pixel_picture\">"
   ]
  }
 ],
 "metadata": {
  "kernelspec": {
   "display_name": "Python 3",
   "language": "python",
   "name": "python3"
  },
  "language_info": {
   "codemirror_mode": {
    "name": "ipython",
    "version": 3
   },
   "file_extension": ".py",
   "mimetype": "text/x-python",
   "name": "python",
   "nbconvert_exporter": "python",
   "pygments_lexer": "ipython3",
   "version": "3.7.6"
  }
 },
 "nbformat": 4,
 "nbformat_minor": 4
}
