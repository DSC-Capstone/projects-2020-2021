{
 "cells": [
  {
   "cell_type": "code",
   "execution_count": 1,
   "metadata": {},
   "outputs": [],
   "source": [
    "import sys\n",
    "import os\n",
    "sys.path.append('./src')\n",
    "os.chdir(os.path.dirname(sys.path[0]))\n",
    "\n",
    "\n",
    "\n",
    "# data Analysis \n",
    "import geopandas as gpd\n",
    "import pandas as pd\n",
    "import numpy as np\n",
    "\n",
    "\n",
    "\n",
    "# plot\n",
    "import matplotlib.pyplot as plt\n",
    "import gc\n",
    "\n",
    "# output\n",
    "from output_image import write_output, analyze_model_result, output_to_csv\n",
    "\n",
    "\n",
    "# multiprocessing\n",
    "import multiprocessing\n",
    "import brun\n",
    "\n",
    "\n",
    "# model\n",
    "from school_model import School\n",
    "\n",
    "# spreadsheets\n",
    "# import spreadsheets\n",
    "\n",
    "#config\n",
    "import configparser\n",
    "import warnings\n",
    "warnings.filterwarnings(\"ignore\")"
   ]
  },
  {
   "cell_type": "code",
   "execution_count": 2,
   "metadata": {},
   "outputs": [],
   "source": [
    "config_file_path_prefix = './config/'\n",
    "\n",
    "\n",
    "school_params_ini = 'schoolparams.ini'\n",
    "parser_school = configparser.ConfigParser()\n",
    "parser_school.read(config_file_path_prefix + school_params_ini)\n",
    "population_config = parser_school['SCHOOL_POPULATION']"
   ]
  },
  {
   "cell_type": "markdown",
   "metadata": {},
   "source": [
    "# Parameter Setup\n",
    "Here using a test trial small schedule with 5 steps of class per day\n",
    "<br>\n",
    "Run for 15 days"
   ]
  },
  {
   "cell_type": "code",
   "execution_count": 3,
   "metadata": {},
   "outputs": [],
   "source": [
    "\n",
    "#change this to map path on comet later\n",
    "map_path = \"./layouts/schoollayout1/schoollayout1_processed.shp\"\n",
    "schedule_path = \"./schedule_data/day_schedule.csv\" #small schedule has only 5 steps per day for testing purposes\n",
    "#full day schedule should be \"day_schedule.csv\" \n",
    "schedule_steps = 90 # full day_schedule steps should be 90\n",
    "\n",
    "\n",
    "# if you wish to use google sheet parameter input, you'll have to follow instructions for getting credentials of the sheet api\n",
    "# follow the first two steps in:\n",
    "# https://developers.google.com/sheets/api/quickstart/python\n",
    "# and save your credentials in the src folder as listed below\n",
    "SHEET_URL = 'https://docs.google.com/spreadsheets/d/1Quyyey5B_kdQK1_OU0OkIDGZE27tuUfjZ6hCsV99-sM'\n",
    "credentials = './src/credentials.json'\n",
    "\n",
    "\n",
    "# two types of parameter setups available for batchrunner\n",
    "# pre-setup for fixed/variable parameter dictionaries (consistant with mesa batchrunner)\n",
    "######################\n",
    "grade_N = eval(population_config['grade_N'])\n",
    "KG_N =  eval(population_config['KG_N'])\n",
    "preschool_N =  eval(population_config['preschool_N'])\n",
    "special_education_N =  eval(population_config['special_education_N'])\n",
    "faculty_N =  eval(population_config['faculty_N'])\n",
    "seat_dist = 5\n",
    "mask_prob =  eval(population_config['mask_prob'])\n",
    "days = 15\n",
    "max_steps = days*schedule_steps\n",
    "iterations = 1\n",
    "####################"
   ]
  },
  {
   "cell_type": "markdown",
   "metadata": {},
   "source": [
    "# Single Run"
   ]
  },
  {
   "cell_type": "code",
   "execution_count": 5,
   "metadata": {},
   "outputs": [
    {
     "name": "stdout",
     "output_type": "stream",
     "text": [
      "Wall time: 29min\n"
     ]
    }
   ],
   "source": [
    "%%time\n",
    "school = School(map_path, schedule_path, grade_N, KG_N, preschool_N, special_education_N, \n",
    "                 faculty_N, seat_dist, init_patient=3, attend_rate=1, mask_prob=0.5, inclass_lunch=False)\n",
    "\n",
    "\n",
    "while school.running and school.schedule.steps < max_steps:\n",
    "    school.step()\n",
    "\n",
    "params = \"{'test': 0}\" \n",
    "agent_df = school.datacollector.get_agent_vars_dataframe()\n",
    "model_df = school.datacollector.get_model_vars_dataframe()"
   ]
  },
  {
   "cell_type": "code",
   "execution_count": null,
   "metadata": {},
   "outputs": [],
   "source": [
    "output_dfs = (model_df, agent_df)\n",
    "output_to_csv(params, output_dfs, username='geoact')"
   ]
  },
  {
   "cell_type": "markdown",
   "metadata": {},
   "source": [
    "# Simulation Result"
   ]
  },
  {
   "cell_type": "code",
   "execution_count": null,
   "metadata": {},
   "outputs": [],
   "source": [
    "analyze_model_result(model_df=model_df) "
   ]
  }
 ],
 "metadata": {
  "kernelspec": {
   "display_name": "Python 3",
   "language": "python",
   "name": "python3"
  },
  "language_info": {
   "codemirror_mode": {
    "name": "ipython",
    "version": 3
   },
   "file_extension": ".py",
   "mimetype": "text/x-python",
   "name": "python",
   "nbconvert_exporter": "python",
   "pygments_lexer": "ipython3",
   "version": "3.7.6"
  },
  "toc": {
   "base_numbering": 1,
   "nav_menu": {},
   "number_sections": false,
   "sideBar": false,
   "skip_h1_title": false,
   "title_cell": "Table of Contents",
   "title_sidebar": "Contents",
   "toc_cell": false,
   "toc_position": {},
   "toc_section_display": false,
   "toc_window_display": false
  }
 },
 "nbformat": 4,
 "nbformat_minor": 4
}
