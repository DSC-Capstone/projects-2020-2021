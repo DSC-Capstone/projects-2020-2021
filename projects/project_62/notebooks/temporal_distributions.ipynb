{
 "cells": [
  {
   "cell_type": "code",
   "execution_count": 45,
   "metadata": {},
   "outputs": [],
   "source": [
    "import numpy as np\n",
    "import pandas as pd\n",
    "import csv\n",
    "import matplotlib.pyplot as plt\n",
    "import json\n",
    "import scipy.special as sps\n",
    "import scipy.stats as stats\n",
    "import pylab as pl\n",
    "import seaborn as sns"
   ]
  },
  {
   "cell_type": "code",
   "execution_count": 3,
   "metadata": {},
   "outputs": [],
   "source": [
    "import geopandas as gpd\n",
    "from shapely.geometry import Point"
   ]
  },
  {
   "cell_type": "code",
   "execution_count": 6,
   "metadata": {},
   "outputs": [
    {
     "name": "stderr",
     "output_type": "stream",
     "text": [
      "ERROR: Could not find a version that satisfies the requirement StringIO (from versions: none)\n",
      "ERROR: No matching distribution found for StringIO\n"
     ]
    }
   ],
   "source": [
    "!pip install StringIO"
   ]
  },
  {
   "cell_type": "code",
   "execution_count": 5,
   "metadata": {},
   "outputs": [
    {
     "ename": "ModuleNotFoundError",
     "evalue": "No module named 'StringIO'",
     "output_type": "error",
     "traceback": [
      "\u001b[1;31m---------------------------------------------------------------------------\u001b[0m",
      "\u001b[1;31mModuleNotFoundError\u001b[0m                       Traceback (most recent call last)",
      "\u001b[1;32m<ipython-input-5-e71667b303c0>\u001b[0m in \u001b[0;36m<module>\u001b[1;34m\u001b[0m\n\u001b[1;32m----> 1\u001b[1;33m \u001b[1;32mfrom\u001b[0m \u001b[0mStringIO\u001b[0m \u001b[1;32mimport\u001b[0m \u001b[0mStringIO\u001b[0m\u001b[1;33m\u001b[0m\u001b[1;33m\u001b[0m\u001b[0m\n\u001b[0m\u001b[0;32m      2\u001b[0m \u001b[1;33m\u001b[0m\u001b[0m\n\u001b[0;32m      3\u001b[0m \u001b[1;33m\u001b[0m\u001b[0m\n\u001b[0;32m      4\u001b[0m txt = \"\"\"dummy, geometry, geometry\n\u001b[0;32m      5\u001b[0m 1, 2, 3\"\"\"\n",
      "\u001b[1;31mModuleNotFoundError\u001b[0m: No module named 'StringIO'"
     ]
    }
   ],
   "source": [
    "from StringIO import StringIO\n",
    "\n",
    "\n",
    "txt = \"\"\"dummy, geometry, geometry\n",
    "1, 2, 3\"\"\"\n",
    "\n",
    "df = pd.read_csv(StringIO(txt), skipinitialspace=True)\n",
    "df"
   ]
  },
  {
   "cell_type": "code",
   "execution_count": 92,
   "metadata": {},
   "outputs": [
    {
     "data": {
      "image/png": "[encoded data removed]",
      "text/plain": [
       "<Figure size 432x288 with 1 Axes>"
      ]
     },
     "metadata": {
      "needs_background": "light"
     },
     "output_type": "display_data"
    }
   ],
   "source": [
    "#generate incubation time\n",
    "\n",
    "fig, ax = plt.subplots(1, 1)\n",
    "x_plus, s, rate = 12.27, 20.52, 1.59\n",
    "shape, loc, scale =  (0.6432659248014824, -0.07787673726582335, 4.2489459496009125)\n",
    "x = np.linspace(0, 12, 1000)\n",
    "blah = stats.lognorm(s=shape, loc=loc, scale=scale)\n",
    "\n",
    "\n",
    "ax.plot(x, stats.lognorm.pdf(x, shape, loc, scale),\n",
    "       'r-', lw=5, alpha=0.6, label='lognorm pdf')\n",
    "incubation_time = int(np.round(stats.lognorm.rvs(shape, loc, scale, size=1)[0], 0))\n",
    "plt.hist(incubation_time)\n",
    "plt.show()\n",
    "# red: Distribution of incubation time by days\n",
    "# blue: Randomly generated number of days"
   ]
  },
  {
   "cell_type": "code",
   "execution_count": 93,
   "metadata": {
    "scrolled": true
   },
   "outputs": [
    {
     "data": {
      "image/png": "[encoded data removed]",
      "text/plain": [
       "<Figure size 432x288 with 1 Axes>"
      ]
     },
     "metadata": {
      "needs_background": "light"
     },
     "output_type": "display_data"
    }
   ],
   "source": [
    "shape, loc, scale =  (0.6432659248014824, -0.07787673726582335, 4.2489459496009125)\n",
    "x = np.linspace(0, 12, 1000)\n",
    "out = stats.lognorm.rvs(shape, loc, scale, size=10000)\n",
    "shmout = np.round(out, 0)\n",
    "shmout[shmout > 17] = 17\n",
    "plt.hist(shmout)\n",
    "plt.show()\n",
    "# sanity check that values are distributed properly"
   ]
  },
  {
   "cell_type": "code",
   "execution_count": 94,
   "metadata": {},
   "outputs": [
    {
     "name": "stdout",
     "output_type": "stream",
     "text": [
      "(array([-7., -6., -5., -4., -3., -2., -1.,  0.,  1.,  2.,  3.,  4.,  5.,\n",
      "        6.,  7.,  8.,  9., 10., 11., 15.]), array([  2,   4,  11,  27,  85,  98, 134, 138, 127, 111,  94,  64,  45,\n",
      "        28,  19,   5,   5,   1,   1,   1], dtype=int64))\n",
      "-3\n"
     ]
    },
    {
     "data": {
      "image/png": "[encoded data removed]",
      "text/plain": [
       "<Figure size 432x288 with 1 Axes>"
      ]
     },
     "metadata": {
      "needs_background": "light"
     },
     "output_type": "display_data"
    }
   ],
   "source": [
    "shape, loc, scale = (20.16693271833812, -12.132674385322815, 0.6322296057082886)\n",
    "gamma = stats.gamma.rvs(shape, loc, scale, size=1000)\n",
    "output = np.round(gamma, 0)\n",
    "x = np.linspace(-10, 8, 18)\n",
    "print(np.unique(output, return_counts=True))\n",
    "plt.hist(gamma)\n",
    "\n",
    "# sanity check for gamma distribution"
   ]
  },
  {
   "cell_type": "code",
   "execution_count": 88,
   "metadata": {},
   "outputs": [
    {
     "name": "stdout",
     "output_type": "stream",
     "text": [
      "0.1074580621217082\n",
      "False\n"
     ]
    }
   ],
   "source": [
    "shape, loc, scale = (20.16693271833812, -12.132674385322815, 0.6322296057082886)\n",
    "x = np.linspace(-10, 8, 19)\n",
    "y_values = stats.gamma.pdf(x, a=shape, loc=loc, scale=scale)\n",
    "\n",
    "\n",
    "blah = {'x': list(x), 'gamma': list(stats.gamma.pdf(x, a=shape, loc=loc, scale=scale))}\n",
    "df = pd.DataFrame(blah)\n",
    "temp_prob = df[df['x'] == (0-incubation_time)]['gamma'].iloc[0]\n",
    "print(temp_prob)\n",
    "infective_prob = np.random.choice ([True, False], p = [temp_prob, 1 - temp_prob])\n",
    "print(infective_prob)\n",
    "# generate % of index in a distribution, where index = incubation days\n",
    "# generate T/F"
   ]
  },
  {
   "cell_type": "code",
   "execution_count": null,
   "metadata": {},
   "outputs": [],
   "source": []
  },
  {
   "cell_type": "code",
   "execution_count": null,
   "metadata": {},
   "outputs": [],
   "source": []
  },
  {
   "cell_type": "code",
   "execution_count": null,
   "metadata": {},
   "outputs": [],
   "source": []
  }
 ],
 "metadata": {
  "kernelspec": {
   "display_name": "Python 3",
   "language": "python",
   "name": "python3"
  },
  "language_info": {
   "codemirror_mode": {
    "name": "ipython",
    "version": 3
   },
   "file_extension": ".py",
   "mimetype": "text/x-python",
   "name": "python",
   "nbconvert_exporter": "python",
   "pygments_lexer": "ipython3",
   "version": "3.7.6"
  }
 },
 "nbformat": 4,
 "nbformat_minor": 4
}
