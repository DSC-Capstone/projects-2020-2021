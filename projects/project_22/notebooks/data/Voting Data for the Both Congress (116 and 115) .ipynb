{
 "cells": [
  {
   "cell_type": "markdown",
   "metadata": {},
   "source": [
    "## Imports"
   ]
  },
  {
   "cell_type": "code",
   "execution_count": 1,
   "metadata": {},
   "outputs": [],
   "source": [
    "import pandas as pd\n",
    "import numpy as np"
   ]
  },
  {
   "cell_type": "markdown",
   "metadata": {},
   "source": [
    "## Names and Voting Data"
   ]
  },
  {
   "cell_type": "code",
   "execution_count": 2,
   "metadata": {},
   "outputs": [],
   "source": [
    "handles = pd.read_csv(\"../../data/handles.csv\")\n",
    "voting = pd.read_csv(\"../../data/voting.csv\")"
   ]
  },
  {
   "cell_type": "markdown",
   "metadata": {},
   "source": [
    "## Ordinal Encoding of Voting Patterns"
   ]
  },
  {
   "cell_type": "code",
   "execution_count": 3,
   "metadata": {},
   "outputs": [
    {
     "data": {
      "text/plain": [
       "{'Yea': 0, 'Not Voting': 1, 'Nay': 2, 'Present': 3}"
      ]
     },
     "execution_count": 3,
     "metadata": {},
     "output_type": "execute_result"
    }
   ],
   "source": [
    "mapper = dict(zip(voting[\"Decision\"].unique(), range(len(voting[\"Decision\"].unique()))))\n",
    "voting[\"Decision\"] = voting[\"Decision\"].apply(lambda x : mapper[x])\n",
    "mapper"
   ]
  },
  {
   "cell_type": "code",
   "execution_count": 4,
   "metadata": {},
   "outputs": [],
   "source": [
    "voting_features = pd.pivot_table(voting, values='Decision', index='Senator Name', columns=\"Bill\", aggfunc=np.sum)"
   ]
  },
  {
   "cell_type": "code",
   "execution_count": 5,
   "metadata": {},
   "outputs": [
    {
     "data": {
      "text/plain": [
       "{'R': 0, 'D': 1, 'I': 2}"
      ]
     },
     "execution_count": 5,
     "metadata": {},
     "output_type": "execute_result"
    }
   ],
   "source": [
    "party_to_num = dict(zip(handles[\"Party\"].unique(), range(len(handles[\"Party\"].unique()))))\n",
    "name_to_party = dict(zip(handles[\"Name\"], handles[\"Party\"].apply(lambda x : party_to_num[x])))\n",
    "party_to_num"
   ]
  },
  {
   "cell_type": "code",
   "execution_count": 6,
   "metadata": {},
   "outputs": [],
   "source": [
    "voting_features[79] = voting_features.index.to_series().apply(lambda x: name_to_party[x])\n",
    "voting_features.to_csv(\"../../data/voting_features.csv\", index = False)"
   ]
  }
 ],
 "metadata": {
  "kernelspec": {
   "display_name": "Python 3",
   "language": "python",
   "name": "python3"
  },
  "language_info": {
   "codemirror_mode": {
    "name": "ipython",
    "version": 3
   },
   "file_extension": ".py",
   "mimetype": "text/x-python",
   "name": "python",
   "nbconvert_exporter": "python",
   "pygments_lexer": "ipython3",
   "version": "3.7.3"
  }
 },
 "nbformat": 4,
 "nbformat_minor": 2
}
