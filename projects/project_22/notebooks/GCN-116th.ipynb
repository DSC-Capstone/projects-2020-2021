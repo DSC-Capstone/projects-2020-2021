{
 "cells": [
  {
   "cell_type": "code",
   "execution_count": 1,
   "metadata": {
    "id": "GinNZkSBeFdC"
   },
   "outputs": [],
   "source": [
    "import sys\n",
    "sys.path.append('../src/data')\n",
    "from data_loader import data_loader\n",
    "sys.path.append('../src/models')\n",
    "from GCN_model import n_hidden_GCN"
   ]
  },
  {
   "cell_type": "code",
   "execution_count": 9,
   "metadata": {},
   "outputs": [],
   "source": [
    "import numpy as np\n",
    "import networkx as nx\n",
    "import pandas as pd\n",
    "import torch\n",
    "\n",
    "class data_loader():\n",
    "    def __init__(self, feature_address, edges_address, directed = False):\n",
    "        features = pd.read_csv(feature_address)\n",
    "        edges = pd.read_csv(edges_address)\n",
    "\n",
    "        #adjacency matrix\n",
    "        adj = self.get_adj(edges, directed)    \n",
    "        self.labels = np.array(features['79']) \n",
    "        self.features = np.array(features.iloc[:, :features.shape[1]-1])\n",
    "        # self.features = torch.FloatTensor(self.features)\n",
    "\n",
    "        self.A = adj\n",
    "    def get_adj(self, edges, directed):\n",
    "        rows, cols = edges[\"followed\"], edges[\"following\"]\n",
    "    \n",
    "        nodes = list(set(rows).union(set(cols)))\n",
    "        n_nodes = len(nodes)\n",
    "        print(n_nodes)\n",
    "    \n",
    "        node_index = {}\n",
    "        for i in np.arange(len(nodes)):\n",
    "            node_index[nodes[i]] = i\n",
    "            i += 1\n",
    "    \n",
    "        adj = np.zeros((n_nodes, n_nodes), dtype='int64')\n",
    "\n",
    "        for i in range(len(edges)):\n",
    "            adj[node_index[rows[i]], node_index[cols[i]]]  = 1.0\n",
    "            if not directed: \n",
    "                adj[node_index[cols[i]], node_index[rows[i]]]  = 1.0 \n",
    "            \n",
    "        return adj\n",
    "    \n",
    "    def get_data(self):\n",
    "        return self.features, self.labels, self.A\n",
    "\n"
   ]
  },
  {
   "cell_type": "markdown",
   "metadata": {},
   "source": [
    "The following result shows the accuracy of GCN model with 116th voting records as feature and graph of 116th voting patterns as adjacency matrix."
   ]
  },
  {
   "cell_type": "code",
   "execution_count": 10,
   "metadata": {
    "id": "XR6h2vG9L7ls"
   },
   "outputs": [
    {
     "name": "stdout",
     "output_type": "stream",
     "text": [
      "99\n"
     ]
    }
   ],
   "source": [
    "loader = data_loader(\"../data/voting_features.csv\", \"../data/edges.csv\")\n",
    "features, labels, A = loader.get_data()"
   ]
  },
  {
   "cell_type": "code",
   "execution_count": 8,
   "metadata": {},
   "outputs": [
    {
     "data": {
      "text/plain": [
       "99"
      ]
     },
     "execution_count": 8,
     "metadata": {},
     "output_type": "execute_result"
    }
   ],
   "source": [
    "len(A)"
   ]
  },
  {
   "cell_type": "code",
   "execution_count": 7,
   "metadata": {
    "colab": {
     "base_uri": "https://localhost:8080/"
    },
    "id": "Py0zsfIzL-VT",
    "outputId": "a530e396-2924-48b2-c822-bed8e059ec9d"
   },
   "outputs": [
    {
     "name": "stdout",
     "output_type": "stream",
     "text": [
      "Train length :70, Validation length :30\n",
      "Epoch: 0\n",
      "training loss 1.7894\n",
      "Validtion: Average loss: 0.0000, Accuracy: 96.6667%\n",
      "Epoch: 1\n",
      "training loss 1.5998\n",
      "Validtion: Average loss: 0.0000, Accuracy: 100.0000%\n",
      "Epoch: 2\n",
      "training loss 1.4241\n",
      "Validtion: Average loss: 0.0000, Accuracy: 100.0000%\n",
      "Epoch: 3\n",
      "training loss 1.2639\n",
      "Validtion: Average loss: 0.0000, Accuracy: 100.0000%\n",
      "Epoch: 4\n",
      "training loss 1.1183\n",
      "Validtion: Average loss: 0.0000, Accuracy: 100.0000%\n",
      "Epoch: 5\n",
      "training loss 0.9847\n",
      "Validtion: Average loss: 0.0000, Accuracy: 100.0000%\n",
      "Epoch: 6\n",
      "training loss 0.8628\n",
      "Validtion: Average loss: 0.0000, Accuracy: 100.0000%\n",
      "Epoch: 7\n",
      "training loss 0.7531\n",
      "Validtion: Average loss: 0.0000, Accuracy: 100.0000%\n",
      "Epoch: 8\n",
      "training loss 0.6556\n",
      "Validtion: Average loss: 0.0000, Accuracy: 100.0000%\n",
      "Epoch: 9\n",
      "training loss 0.5696\n",
      "Validtion: Average loss: 0.0000, Accuracy: 100.0000%\n",
      "Epoch: 10\n",
      "training loss 0.4939\n",
      "Validtion: Average loss: 0.0000, Accuracy: 100.0000%\n",
      "Epoch: 11\n",
      "training loss 0.4283\n",
      "Validtion: Average loss: 0.0000, Accuracy: 100.0000%\n",
      "Epoch: 12\n",
      "training loss 0.3720\n",
      "Validtion: Average loss: 0.0000, Accuracy: 100.0000%\n",
      "Epoch: 13\n",
      "training loss 0.3245\n",
      "Validtion: Average loss: 0.0000, Accuracy: 100.0000%\n",
      "Epoch: 14\n",
      "training loss 0.2848\n",
      "Validtion: Average loss: 0.0000, Accuracy: 100.0000%\n",
      "Epoch: 15\n",
      "training loss 0.2520\n",
      "Validtion: Average loss: 0.0000, Accuracy: 100.0000%\n",
      "Epoch: 16\n",
      "training loss 0.2253\n",
      "Validtion: Average loss: 0.0000, Accuracy: 100.0000%\n",
      "Epoch: 17\n",
      "training loss 0.2036\n",
      "Validtion: Average loss: 0.0000, Accuracy: 100.0000%\n",
      "Epoch: 18\n",
      "training loss 0.1861\n",
      "Validtion: Average loss: 0.0000, Accuracy: 100.0000%\n",
      "Epoch: 19\n",
      "training loss 0.1721\n",
      "Validtion: Average loss: 0.0000, Accuracy: 100.0000%\n",
      "Epoch: 20\n",
      "training loss 0.1609\n",
      "Validtion: Average loss: 0.0000, Accuracy: 100.0000%\n",
      "Epoch: 21\n",
      "training loss 0.1520\n",
      "Validtion: Average loss: 0.0000, Accuracy: 100.0000%\n",
      "Epoch: 22\n",
      "training loss 0.1449\n",
      "Validtion: Average loss: 0.0000, Accuracy: 100.0000%\n",
      "Epoch: 23\n",
      "training loss 0.1393\n",
      "Validtion: Average loss: 0.0000, Accuracy: 100.0000%\n",
      "Epoch: 24\n",
      "training loss 0.1348\n",
      "Validtion: Average loss: 0.0000, Accuracy: 100.0000%\n",
      "Epoch: 25\n",
      "training loss 0.1312\n",
      "Validtion: Average loss: 0.0000, Accuracy: 100.0000%\n",
      "Epoch: 26\n",
      "training loss 0.1283\n",
      "Validtion: Average loss: 0.0000, Accuracy: 100.0000%\n",
      "Epoch: 27\n",
      "training loss 0.1260\n",
      "Validtion: Average loss: 0.0000, Accuracy: 100.0000%\n",
      "Epoch: 28\n",
      "training loss 0.1241\n",
      "Validtion: Average loss: 0.0000, Accuracy: 100.0000%\n",
      "Epoch: 29\n",
      "training loss 0.1225\n",
      "Validtion: Average loss: 0.0000, Accuracy: 100.0000%\n",
      "Epoch: 30\n",
      "training loss 0.1211\n",
      "Validtion: Average loss: 0.0000, Accuracy: 100.0000%\n",
      "Epoch: 31\n",
      "training loss 0.1199\n",
      "Validtion: Average loss: 0.0000, Accuracy: 100.0000%\n",
      "Epoch: 32\n",
      "training loss 0.1189\n",
      "Validtion: Average loss: 0.0000, Accuracy: 100.0000%\n",
      "Epoch: 33\n",
      "training loss 0.1179\n",
      "Validtion: Average loss: 0.0000, Accuracy: 100.0000%\n",
      "Epoch: 34\n",
      "training loss 0.1170\n",
      "Validtion: Average loss: 0.0000, Accuracy: 100.0000%\n",
      "Epoch: 35\n",
      "training loss 0.1161\n",
      "Validtion: Average loss: 0.0000, Accuracy: 100.0000%\n",
      "Epoch: 36\n",
      "training loss 0.1153\n",
      "Validtion: Average loss: 0.0000, Accuracy: 100.0000%\n",
      "Epoch: 37\n",
      "training loss 0.1144\n",
      "Validtion: Average loss: 0.0000, Accuracy: 100.0000%\n",
      "Epoch: 38\n",
      "training loss 0.1136\n",
      "Validtion: Average loss: 0.0000, Accuracy: 100.0000%\n",
      "Epoch: 39\n",
      "training loss 0.1128\n",
      "Validtion: Average loss: 0.0000, Accuracy: 100.0000%\n",
      "Epoch: 40\n",
      "training loss 0.1120\n",
      "Validtion: Average loss: 0.0000, Accuracy: 100.0000%\n",
      "Epoch: 41\n",
      "training loss 0.1111\n",
      "Validtion: Average loss: 0.0000, Accuracy: 100.0000%\n",
      "Epoch: 42\n",
      "training loss 0.1103\n",
      "Validtion: Average loss: 0.0000, Accuracy: 100.0000%\n",
      "Epoch: 43\n",
      "training loss 0.1095\n",
      "Validtion: Average loss: 0.0000, Accuracy: 100.0000%\n",
      "Epoch: 44\n",
      "training loss 0.1087\n",
      "Validtion: Average loss: 0.0000, Accuracy: 100.0000%\n",
      "Epoch: 45\n",
      "training loss 0.1079\n",
      "Validtion: Average loss: 0.0000, Accuracy: 100.0000%\n",
      "Epoch: 46\n",
      "training loss 0.1070\n",
      "Validtion: Average loss: 0.0000, Accuracy: 100.0000%\n",
      "Epoch: 47\n",
      "training loss 0.1063\n",
      "Validtion: Average loss: 0.0000, Accuracy: 100.0000%\n",
      "Epoch: 48\n",
      "training loss 0.1056\n",
      "Validtion: Average loss: 0.0000, Accuracy: 100.0000%\n",
      "Epoch: 49\n",
      "training loss 0.1048\n",
      "Validtion: Average loss: 0.0000, Accuracy: 100.0000%\n"
     ]
    },
    {
     "data": {
      "text/plain": [
       "{'acc': [96.66666666666667,\n",
       "  100.0,\n",
       "  100.0,\n",
       "  100.0,\n",
       "  100.0,\n",
       "  100.0,\n",
       "  100.0,\n",
       "  100.0,\n",
       "  100.0,\n",
       "  100.0,\n",
       "  100.0,\n",
       "  100.0,\n",
       "  100.0,\n",
       "  100.0,\n",
       "  100.0,\n",
       "  100.0,\n",
       "  100.0,\n",
       "  100.0,\n",
       "  100.0,\n",
       "  100.0,\n",
       "  100.0,\n",
       "  100.0,\n",
       "  100.0,\n",
       "  100.0,\n",
       "  100.0,\n",
       "  100.0,\n",
       "  100.0,\n",
       "  100.0,\n",
       "  100.0,\n",
       "  100.0,\n",
       "  100.0,\n",
       "  100.0,\n",
       "  100.0,\n",
       "  100.0,\n",
       "  100.0,\n",
       "  100.0,\n",
       "  100.0,\n",
       "  100.0,\n",
       "  100.0,\n",
       "  100.0,\n",
       "  100.0,\n",
       "  100.0,\n",
       "  100.0,\n",
       "  100.0,\n",
       "  100.0,\n",
       "  100.0,\n",
       "  100.0,\n",
       "  100.0,\n",
       "  100.0,\n",
       "  100.0]}"
      ]
     },
     "execution_count": 7,
     "metadata": {
      "tags": []
     },
     "output_type": "execute_result"
    }
   ],
   "source": [
    "model = n_hidden_GCN(A, features, labels, hidden_neurons=150, F = 79)\n",
    "model.train_epoch(epochs=50, lr=1e-3)"
   ]
  },
  {
   "cell_type": "code",
   "execution_count": null,
   "metadata": {},
   "outputs": [],
   "source": []
  }
 ],
 "metadata": {
  "accelerator": "GPU",
  "colab": {
   "collapsed_sections": [],
   "name": "GCN.ipynb",
   "provenance": [],
   "toc_visible": true
  },
  "kernelspec": {
   "display_name": "Python 3",
   "language": "python",
   "name": "python3"
  },
  "language_info": {
   "codemirror_mode": {
    "name": "ipython",
    "version": 3
   },
   "file_extension": ".py",
   "mimetype": "text/x-python",
   "name": "python",
   "nbconvert_exporter": "python",
   "pygments_lexer": "ipython3",
   "version": "3.7.3"
  }
 },
 "nbformat": 4,
 "nbformat_minor": 1
}
