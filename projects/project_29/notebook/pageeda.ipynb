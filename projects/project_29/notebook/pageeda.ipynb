{
 "cells": [
  {
   "cell_type": "code",
   "execution_count": 47,
   "metadata": {},
   "outputs": [],
   "source": [
    "import os\n",
    "import pandas as pd\n",
    "from datetime import date\n",
    "import matplotlib.pyplot as plt"
   ]
  },
  {
   "cell_type": "code",
   "execution_count": 2,
   "metadata": {},
   "outputs": [],
   "source": [
    "route=\"data/pageview\""
   ]
  },
  {
   "cell_type": "code",
   "execution_count": 16,
   "metadata": {},
   "outputs": [],
   "source": [
    "def get_dfs(road):\n",
    "    '''\n",
    "    get all filles with csvs in it\n",
    "    '''\n",
    "    result={}\n",
    "   \n",
    "    for filename in os.listdir(road):\n",
    "        if filename.endswith('.csv'):\n",
    "            fileroute=os.path.join(road,filename)\n",
    "            filer=filename[:-13]\n",
    "            result[filer]=pd.read_csv(fileroute)\n",
    "            \n",
    "    return result"
   ]
  },
  {
   "cell_type": "code",
   "execution_count": 17,
   "metadata": {},
   "outputs": [],
   "source": [
    "router=get_dfs(route)"
   ]
  },
  {
   "cell_type": "code",
   "execution_count": 20,
   "metadata": {},
   "outputs": [],
   "source": [
    "def get_top_10_average_daily_view(dic, output):\n",
    "    top10={}\n",
    "    top10['article']=[]\n",
    "    top10['average_view']=[]\n",
    "    for i in dic.keys():\n",
    "        top10['article'].append(i)\n",
    "        top10['average_view'].append(dic[i]['pageview'].mean())\n",
    "    top10er=pd.DataFrame(top10)\n",
    "    top10er=top10er.sort_values(by=['average_view'], ascending=False)\n",
    "    top10er=top10er.head(10)\n",
    "    if not os.path.exists(output):\n",
    "        os.makedirs(output)\n",
    "    outfile=os.path.join(output, 'top10average_pageview.csv')\n",
    "    top10er.to_csv(outfile, index=False)\n",
    "    return top10er\n",
    "        "
   ]
  },
  {
   "cell_type": "code",
   "execution_count": 21,
   "metadata": {},
   "outputs": [],
   "source": [
    "top10er=get_top_10_average_daily_view(router, 'data/eda')"
   ]
  },
  {
   "cell_type": "code",
   "execution_count": 22,
   "metadata": {},
   "outputs": [],
   "source": [
    "counter=0\n",
    "for i in top10er['article'].values:\n",
    "    counter+=1\n",
    "    if counter==1:\n",
    "        der=router[i]"
   ]
  },
  {
   "cell_type": "code",
   "execution_count": 25,
   "metadata": {},
   "outputs": [
    {
     "data": {
      "text/plain": [
       "<AxesSubplot:xlabel='timestamp'>"
      ]
     },
     "execution_count": 25,
     "metadata": {},
     "output_type": "execute_result"
    },
    {
     "data": {
      "image/png": "[encoded data removed]",
      "text/plain": [
       "<Figure size 432x288 with 1 Axes>"
      ]
     },
     "metadata": {
      "needs_background": "light"
     },
     "output_type": "display_data"
    }
   ],
   "source": [
    "der.plot(x='timestamp', y='pageview')"
   ]
  },
  {
   "cell_type": "code",
   "execution_count": 46,
   "metadata": {},
   "outputs": [],
   "source": [
    "timer=der['timestamp'].values\n",
    "retime=[]\n",
    "dater=[]\n",
    "for i in timer:\n",
    "    i=str(i)\n",
    "    retime.append(i)\n",
    "for j in retime:\n",
    "    dater.append(date(int(j[:4]), int(j[4:6]),int(j[6:8])))\n",
    "    "
   ]
  },
  {
   "cell_type": "code",
   "execution_count": 48,
   "metadata": {},
   "outputs": [
    {
     "data": {
      "text/plain": [
       "[<matplotlib.lines.Line2D at 0x27be531bd00>]"
      ]
     },
     "execution_count": 48,
     "metadata": {},
     "output_type": "execute_result"
    },
    {
     "data": {
      "image/png": "[encoded data removed]",
      "text/plain": [
       "<Figure size 432x288 with 1 Axes>"
      ]
     },
     "metadata": {
      "needs_background": "light"
     },
     "output_type": "display_data"
    }
   ],
   "source": [
    "plt.plot(dater, der['pageview'].values)"
   ]
  },
  {
   "cell_type": "code",
   "execution_count": 57,
   "metadata": {},
   "outputs": [],
   "source": [
    "def plot_top10(dict1,dict2, outpath):\n",
    "    for i in dict1['article']:\n",
    "        df=dict2[i]\n",
    "        timer=df['timestamp'].values\n",
    "        retime=[]\n",
    "        dater=[]\n",
    "        for m in timer:\n",
    "            m=str(m)\n",
    "            retime.append(m)\n",
    "        for j in retime:\n",
    "            dater.append(date(int(j[:4]), int(j[4:6]),int(j[6:8])))\n",
    "        outer=i+'_pageview.png'\n",
    "        putpath=os.path.join(outpath, outer)\n",
    "        plt.figure()\n",
    "        plt.plot(dater, df['pageview'].values)\n",
    "        plt.xlabel('date')\n",
    "        plt.ylabel('daily_pageview')\n",
    "        plt.savefig(putpath)\n",
    "        plt.close()\n",
    "    return\n",
    "        \n",
    "        \n",
    "        \n",
    "    "
   ]
  },
  {
   "cell_type": "code",
   "execution_count": 58,
   "metadata": {},
   "outputs": [],
   "source": [
    "plot_top10(top10er, router, 'data/eda')"
   ]
  },
  {
   "cell_type": "code",
   "execution_count": null,
   "metadata": {},
   "outputs": [],
   "source": []
  }
 ],
 "metadata": {
  "kernelspec": {
   "display_name": "Python 3",
   "language": "python",
   "name": "python3"
  },
  "language_info": {
   "codemirror_mode": {
    "name": "ipython",
    "version": 3
   },
   "file_extension": ".py",
   "mimetype": "text/x-python",
   "name": "python",
   "nbconvert_exporter": "python",
   "pygments_lexer": "ipython3",
   "version": "3.8.3"
  }
 },
 "nbformat": 4,
 "nbformat_minor": 4
}
