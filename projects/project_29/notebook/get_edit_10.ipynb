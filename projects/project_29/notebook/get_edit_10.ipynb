{
 "cells": [
  {
   "cell_type": "code",
   "execution_count": 1,
   "metadata": {},
   "outputs": [],
   "source": [
    "import pandas as pd"
   ]
  },
  {
   "cell_type": "code",
   "execution_count": 30,
   "metadata": {},
   "outputs": [],
   "source": [
    "import requests\n",
    "import os\n"
   ]
  },
  {
   "cell_type": "code",
   "execution_count": 3,
   "metadata": {},
   "outputs": [],
   "source": [
    "df=pd.read_csv('test.csv')\n",
    "titles=df['Page title'].values"
   ]
  },
  {
   "cell_type": "code",
   "execution_count": 4,
   "metadata": {},
   "outputs": [],
   "source": [
    "def get_edit(title):\n",
    "    title=title.replace(' ', '_')\n",
    "    title=title.replace('/', '%2F')\n",
    "    head={}\n",
    "    head[\"user-agent\"]=\"Googlebot/2.1 (+http://www.google.com/bot.html)\"\n",
    "    url = 'https://api.wikimedia.org/core/v1/wikipedia/en/page/' + title + '/history'\n",
    "    response=requests.get(url,headers=head)\n",
    "    data=response.json()\n",
    "    print(data)\n",
    "    return"
   ]
  },
  {
   "cell_type": "code",
   "execution_count": 44,
   "metadata": {},
   "outputs": [],
   "source": [
    "def get_revisions(title,outpath):\n",
    "    S = requests.Session()\n",
    "\n",
    "    URL = \"https://en.wikipedia.org/w/api.php\"\n",
    "    sttime=\"2020-12-31T00:00:00Z\"\n",
    "    counter=0\n",
    "    judge=True\n",
    "    output=outpath\n",
    "    if not os.path.exists(output):\n",
    "        os.makedirs(output)\n",
    "    while judge:\n",
    "\n",
    "        PARAMS = {\n",
    "            \"action\": \"query\",\n",
    "            \"prop\": \"revisions\",\n",
    "            \"rvprop\": \"timestamp|user|comment\",\n",
    "            \"rvslots\": \"main\",\n",
    "            \"rvend\":\"2020-01-01T00:00:00Z\",\n",
    "            \"rvlimit\":\"500\",\n",
    "            \"formatversion\": \"2\",\n",
    "            \"format\": \"json\"\n",
    "        }\n",
    "        PARAMS['titles']=title\n",
    "        PARAMS['rvstart']=sttime\n",
    "\n",
    "        R = S.get(url=URL, params=PARAMS)\n",
    "        DATA = R.json()\n",
    "        history=DATA['query']['pages'][0]['revisions']\n",
    "        df=pd.DataFrame(history)\n",
    "        outfile=title+'_revision_'+str(counter)+'.csv'\n",
    "        outroute=os.path.join(output, outfile)\n",
    "        df.to_csv(outroute, index=False)\n",
    "        if len(df)<500:\n",
    "            judge=False\n",
    "        else:\n",
    "            counter +=1\n",
    "            sttime=df['timestamp'].values[-1]\n",
    "    return "
   ]
  },
  {
   "cell_type": "code",
   "execution_count": 45,
   "metadata": {},
   "outputs": [],
   "source": [
    "get_edit_2(titles[1],'data/revisions')"
   ]
  },
  {
   "cell_type": "code",
   "execution_count": 24,
   "metadata": {},
   "outputs": [
    {
     "name": "stdout",
     "output_type": "stream",
     "text": [
      "{'revisions': [{'id': 1008823410, 'timestamp': '2021-02-25T06:35:16Z', 'minor': False, 'size': 166845, 'comment': 'Alter: title, url. URLs might have been anonymized. Add: archive-date, archive-url, work. Removed parameters. Some additions/deletions were parameter name changes. | [[WP:UCB|Use this bot]]. [[WP:DBUG|Report bugs]]. | Suggested by AManWithNoPlan | Pages linked from cached User:AManWithNoPlan/sandbox2 | via #UCB_webform_linked 966/1254', 'user': {'id': 7903804, 'name': 'Citation bot'}, 'delta': 65}, {'id': 1008264522, 'timestamp': '2021-02-22T12:22:27Z', 'minor': False, 'size': 166780, 'comment': 'unnecessary pipe', 'user': {'id': 2387872, 'name': 'DrKay'}, 'delta': -13}, {'id': 1008262899, 'timestamp': '2021-02-22T12:09:11Z', 'minor': False, 'size': 166793, 'comment': '', 'user': {'id': 31427405, 'name': 'Jeremy Hulber'}, 'delta': 20}, {'id': 1008070815, 'timestamp': '2021-02-21T11:39:05Z', 'minor': False, 'size': 166773, 'comment': 'Undid revision 1008070394 by [[Special:Contributions/Berfu|Berfu]] ([[User talk:Berfu|talk]]): previous consensus holds while the issue is under discussion', 'user': {'id': 2387872, 'name': 'DrKay'}, 'delta': 20}, {'id': 1008070394, 'timestamp': '2021-02-21T11:35:20Z', 'minor': False, 'size': 166753, 'comment': 'There was no family name on other royal houses (Sweden, Denmark for example) in the Wikipedia. They don’t use their surname anyway. Talk page', 'user': {'id': 7217869, 'name': 'Berfu'}, 'delta': -20}, {'id': 1008063322, 'timestamp': '2021-02-21T10:42:05Z', 'minor': False, 'size': 166773, 'comment': 'Undid revision 1007999139 by [[Special:Contributions/Keivan.f|Keivan.f]] ([[User talk:Keivan.f|talk]])', 'user': {'id': 14604687, 'name': 'Keivan.f'}, 'delta': 44}, {'id': 1007999139, 'timestamp': '2021-02-21T01:20:14Z', 'minor': False, 'size': 166729, 'comment': \"that's more of a title, rather than a birth name\", 'user': {'id': 14604687, 'name': 'Keivan.f'}, 'delta': -44}, {'id': 1007909837, 'timestamp': '2021-02-20T15:45:52Z', 'minor': False, 'size': 166773, 'comment': '/* Early life and education */', 'user': {'id': 40151401, 'name': 'Peter Ormond'}, 'delta': -1}, {'id': 1007908410, 'timestamp': '2021-02-20T15:36:52Z', 'minor': False, 'size': 166774, 'comment': 'Added a better picture.', 'user': {'id': 40151401, 'name': 'Peter Ormond'}, 'delta': 0}, {'id': 1007907187, 'timestamp': '2021-02-20T15:28:27Z', 'minor': False, 'size': 166774, 'comment': '/* Legal separation and divorce */ + [[Charles: The Private Man, the Public Role]]', 'user': {'id': 254396, 'name': 'No Swan So Fine'}, 'delta': 77}, {'id': 1007299324, 'timestamp': '2021-02-17T11:07:48Z', 'minor': True, 'size': 166697, 'comment': '([[c:GR|GR]]) [[c:COM:Duplicate|Duplicate]]: [[File:Prinsen, baby, Charles, prins van Wales, Elisabeth.jpg]] → [[File:Prinsen, baby, Charles, prins van Wales, Elisabeth prinses, Bestanddeelnr 903-1660 (cropped).jpg]] Exact or scaled-down duplicate: [[c::File:Prinsen, baby, Charles, prins van Wales, Elisabeth prinses, Bestanddeelnr 903-1660 (cropped).jpg]]', 'user': {'id': 12827142, 'name': 'JuTa'}, 'delta': 42}, {'id': 1006981116, 'timestamp': '2021-02-15T21:26:02Z', 'minor': False, 'size': 166655, 'comment': '/* Early life and education */', 'user': {'id': 40151401, 'name': 'Peter Ormond'}, 'delta': 177}, {'id': 1006711954, 'timestamp': '2021-02-14T10:34:03Z', 'minor': True, 'size': 166478, 'comment': '/* Official duties */ hatnote syntax', 'user': {'id': 11521989, 'name': 'Shhhnotsoloud'}, 'delta': -5}, {'id': 1006254548, 'timestamp': '2021-02-11T22:05:29Z', 'minor': False, 'size': 166483, 'comment': '/* Natural environment */', 'user': {'id': 14604687, 'name': 'Keivan.f'}, 'delta': 511}, {'id': 1006062279, 'timestamp': '2021-02-10T20:56:31Z', 'minor': False, 'size': 165972, 'comment': '[[MOS:DATE]]', 'user': {'id': 2387872, 'name': 'DrKay'}, 'delta': -3}, {'id': 1006058160, 'timestamp': '2021-02-10T20:28:17Z', 'minor': False, 'size': 165975, 'comment': 'added Info', 'user': {'id': 34200654, 'name': 'DDP-Trooper1777'}, 'delta': 8}, {'id': 1006033640, 'timestamp': '2021-02-10T17:55:50Z', 'minor': False, 'size': 165967, 'comment': 'changed grammatical error', 'user': {'id': 34200654, 'name': 'DDP-Trooper1777'}, 'delta': 0}, {'id': 1005079672, 'timestamp': '2021-02-05T22:05:21Z', 'minor': False, 'size': 165967, 'comment': '/* Charles, Prince of Wales */ abolished a redundant comma', 'user': {'id': 37760672, 'name': 'OhNoOhDear'}, 'delta': -1}, {'id': 1005079386, 'timestamp': '2021-02-05T22:03:14Z', 'minor': False, 'size': 165968, 'comment': '/* Charles, Prince of Wales */ added an \"as well as\" to the introduction to appropriately contextualise the DoW title and the other sinecure titles', 'user': {'id': 37760672, 'name': 'OhNoOhDear'}, 'delta': 10}, {'id': 1004601684, 'timestamp': '2021-02-03T12:30:03Z', 'minor': False, 'size': 165958, 'comment': '/* Titles and styles */', 'user': {'id': 31439127, 'name': 'Ecangola'}, 'delta': 142}], 'latest': 'https://en.wikipedia.org/w/rest.php/v1/page/Charles%2C_Prince_of_Wales/history', 'older': 'https://en.wikipedia.org/w/rest.php/v1/page/Charles%2C_Prince_of_Wales/history?older_than=1004601684'}\n"
     ]
    }
   ],
   "source": [
    "get_edit(titles[0])"
   ]
  },
  {
   "cell_type": "code",
   "execution_count": null,
   "metadata": {},
   "outputs": [],
   "source": []
  }
 ],
 "metadata": {
  "kernelspec": {
   "display_name": "Python 3",
   "language": "python",
   "name": "python3"
  },
  "language_info": {
   "codemirror_mode": {
    "name": "ipython",
    "version": 3
   },
   "file_extension": ".py",
   "mimetype": "text/x-python",
   "name": "python",
   "nbconvert_exporter": "python",
   "pygments_lexer": "ipython3",
   "version": "3.8.3"
  }
 },
 "nbformat": 4,
 "nbformat_minor": 4
}
