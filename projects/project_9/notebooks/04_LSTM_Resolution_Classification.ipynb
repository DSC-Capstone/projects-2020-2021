{
 "cells": [
  {
   "cell_type": "code",
   "execution_count": 1,
   "metadata": {},
   "outputs": [
    {
     "name": "stderr",
     "output_type": "stream",
     "text": [
      "Using TensorFlow backend.\n"
     ]
    }
   ],
   "source": [
    "import os\n",
    "import sys\n",
    "import numpy as np\n",
    "import pandas as pd\n",
    "from tqdm import tqdm\n",
    "from matplotlib import pyplot as plt\n",
    "%matplotlib inline\n",
    "\n",
    "from sklearn.model_selection import train_test_split\n",
    "from sklearn.preprocessing import MinMaxScaler, StandardScaler\n",
    "from sklearn.metrics import mean_squared_error\n",
    "\n",
    "import keras\n",
    "import tensorflow as tf\n",
    "from keras.models import Sequential\n",
    "from keras.layers import Dense, LSTM, Bidirectional, GRU, Embedding, Dropout\n",
    "from keras.optimizers import RMSprop\n",
    "from keras import backend as K\n",
    "\n",
    "import warnings\n",
    "warnings.filterwarnings('ignore')\n",
    "\n",
    "sys.path.insert(0, '../src')\n",
    "\n",
    "from utils import *\n",
    "from features import *"
   ]
  },
  {
   "cell_type": "code",
   "execution_count": 2,
   "metadata": {},
   "outputs": [],
   "source": [
    "fp_240 = '../data/240p/' \n",
    "fp_360 = '../data/360p/' \n",
    "fp_480 = '../data/480p/'\n",
    "fp_720 = '../data/720p/'\n",
    "fp_1080 = '../data/1080p/' "
   ]
  },
  {
   "cell_type": "code",
   "execution_count": 3,
   "metadata": {},
   "outputs": [],
   "source": [
    "dfs_240 = []\n",
    "for file in os.listdir(fp_240):\n",
    "    if file != '.ipynb_checkpoints' and file != '.DS_Store':\n",
    "        dfs_240.append(pd.read_csv(fp_240+file))\n",
    "    \n",
    "dfs_360 = []\n",
    "for file in os.listdir(fp_360):\n",
    "    if file != '.ipynb_checkpoints' and file != '.DS_Store':\n",
    "        dfs_360.append(pd.read_csv(fp_360+file))\n",
    "        \n",
    "dfs_480 = []\n",
    "for file in os.listdir(fp_480):\n",
    "    if file != '.ipynb_checkpoints' and file != '.DS_Store':\n",
    "        dfs_480.append(pd.read_csv(fp_480+file))\n",
    "        \n",
    "dfs_720 = []\n",
    "for file in os.listdir(fp_720):\n",
    "    if file != '.ipynb_checkpoints' and file != '.DS_Store':\n",
    "        dfs_720.append(pd.read_csv(fp_720+file))\n",
    "\n",
    "dfs_1080 = []\n",
    "for file in os.listdir(fp_1080):\n",
    "    if file != '.ipynb_checkpoints' and file != '.DS_Store':\n",
    "        dfs_1080.append(pd.read_csv(fp_1080+file))"
   ]
  },
  {
   "cell_type": "code",
   "execution_count": 4,
   "metadata": {},
   "outputs": [],
   "source": [
    "ms_240 = []\n",
    "for df in dfs_240:\n",
    "    ms_240.append(convert_ms_df(df,True))\n",
    "    \n",
    "ms_360 = []\n",
    "for df in dfs_360:\n",
    "    ms_360.append(convert_ms_df(df,True))\n",
    "    \n",
    "ms_480 = []\n",
    "for df in dfs_480:\n",
    "    ms_480.append(convert_ms_df(df,True))\n",
    "    \n",
    "ms_720 = []\n",
    "for df in dfs_720:\n",
    "    ms_720.append(convert_ms_df(df,True))\n",
    "    \n",
    "ms_1080 = []\n",
    "for df in dfs_1080:\n",
    "    ms_1080.append(convert_ms_df(df,True))"
   ]
  },
  {
   "cell_type": "code",
   "execution_count": 5,
   "metadata": {},
   "outputs": [],
   "source": [
    "resamples_240 = []\n",
    "for df in ms_240:\n",
    "    resamples_240.append(df.resample('500ms', on='Time').sum())\n",
    "    \n",
    "resamples_360 = []\n",
    "for df in ms_360:\n",
    "    resamples_360.append(df.resample('500ms', on='Time').sum())\n",
    "    \n",
    "resamples_480 = []\n",
    "for df in ms_480:\n",
    "    resamples_480.append(df.resample('500ms', on='Time').sum())\n",
    "    \n",
    "resamples_720 = []\n",
    "for df in ms_720:\n",
    "    resamples_720.append(df.resample('500ms', on='Time').sum())\n",
    "    \n",
    "resamples_1080 = []\n",
    "for df in ms_1080:\n",
    "    resamples_1080.append(df.resample('500ms', on='Time').sum())"
   ]
  },
  {
   "cell_type": "code",
   "execution_count": 6,
   "metadata": {},
   "outputs": [
    {
     "data": {
      "text/html": [
       "<div>\n",
       "<style scoped>\n",
       "    .dataframe tbody tr th:only-of-type {\n",
       "        vertical-align: middle;\n",
       "    }\n",
       "\n",
       "    .dataframe tbody tr th {\n",
       "        vertical-align: top;\n",
       "    }\n",
       "\n",
       "    .dataframe thead th {\n",
       "        text-align: right;\n",
       "    }\n",
       "</style>\n",
       "<table border=\"1\" class=\"dataframe\">\n",
       "  <thead>\n",
       "    <tr style=\"text-align: right;\">\n",
       "      <th></th>\n",
       "      <th>Time</th>\n",
       "      <th>pkt_src</th>\n",
       "      <th>pkt_size</th>\n",
       "    </tr>\n",
       "  </thead>\n",
       "  <tbody>\n",
       "    <tr>\n",
       "      <th>0</th>\n",
       "      <td>2021-02-03 05:08:47.462</td>\n",
       "      <td>1</td>\n",
       "      <td>1530</td>\n",
       "    </tr>\n",
       "    <tr>\n",
       "      <th>1</th>\n",
       "      <td>2021-02-03 05:08:49.407</td>\n",
       "      <td>1</td>\n",
       "      <td>2098</td>\n",
       "    </tr>\n",
       "    <tr>\n",
       "      <th>2</th>\n",
       "      <td>2021-02-03 05:08:49.438</td>\n",
       "      <td>2</td>\n",
       "      <td>236</td>\n",
       "    </tr>\n",
       "    <tr>\n",
       "      <th>3</th>\n",
       "      <td>2021-02-03 05:08:49.509</td>\n",
       "      <td>1</td>\n",
       "      <td>354</td>\n",
       "    </tr>\n",
       "    <tr>\n",
       "      <th>4</th>\n",
       "      <td>2021-02-03 05:08:49.509</td>\n",
       "      <td>2</td>\n",
       "      <td>1183</td>\n",
       "    </tr>\n",
       "    <tr>\n",
       "      <th>...</th>\n",
       "      <td>...</td>\n",
       "      <td>...</td>\n",
       "      <td>...</td>\n",
       "    </tr>\n",
       "    <tr>\n",
       "      <th>10104</th>\n",
       "      <td>2021-02-03 05:39:42.997</td>\n",
       "      <td>2</td>\n",
       "      <td>8910</td>\n",
       "    </tr>\n",
       "    <tr>\n",
       "      <th>10105</th>\n",
       "      <td>2021-02-03 05:39:42.998</td>\n",
       "      <td>1</td>\n",
       "      <td>1298</td>\n",
       "    </tr>\n",
       "    <tr>\n",
       "      <th>10106</th>\n",
       "      <td>2021-02-03 05:39:42.999</td>\n",
       "      <td>1</td>\n",
       "      <td>1298</td>\n",
       "    </tr>\n",
       "    <tr>\n",
       "      <th>10107</th>\n",
       "      <td>2021-02-03 05:39:43.000</td>\n",
       "      <td>1</td>\n",
       "      <td>944</td>\n",
       "    </tr>\n",
       "    <tr>\n",
       "      <th>10108</th>\n",
       "      <td>2021-02-03 05:39:52.180</td>\n",
       "      <td>1</td>\n",
       "      <td>96</td>\n",
       "    </tr>\n",
       "  </tbody>\n",
       "</table>\n",
       "<p>10109 rows × 3 columns</p>\n",
       "</div>"
      ],
      "text/plain": [
       "                         Time pkt_src  pkt_size\n",
       "0     2021-02-03 05:08:47.462       1      1530\n",
       "1     2021-02-03 05:08:49.407       1      2098\n",
       "2     2021-02-03 05:08:49.438       2       236\n",
       "3     2021-02-03 05:08:49.509       1       354\n",
       "4     2021-02-03 05:08:49.509       2      1183\n",
       "...                       ...     ...       ...\n",
       "10104 2021-02-03 05:39:42.997       2      8910\n",
       "10105 2021-02-03 05:39:42.998       1      1298\n",
       "10106 2021-02-03 05:39:42.999       1      1298\n",
       "10107 2021-02-03 05:39:43.000       1       944\n",
       "10108 2021-02-03 05:39:52.180       1        96\n",
       "\n",
       "[10109 rows x 3 columns]"
      ]
     },
     "execution_count": 6,
     "metadata": {},
     "output_type": "execute_result"
    }
   ],
   "source": [
    "ms_240[1]"
   ]
  },
  {
   "cell_type": "code",
   "execution_count": null,
   "metadata": {},
   "outputs": [],
   "source": [
    "resamples_240[1]"
   ]
  },
  {
   "cell_type": "markdown",
   "metadata": {},
   "source": [
    "## Preprocessing"
   ]
  },
  {
   "cell_type": "code",
   "execution_count": 7,
   "metadata": {},
   "outputs": [],
   "source": [
    "#data = [ms_240, ms_360, ms_480, ms_720, ms_1080]  # original\n",
    "data = [resamples_240, resamples_360, resamples_480, resamples_720, resamples_1080]  # resamp,es\n",
    "\n",
    "for i, df in enumerate(data):\n",
    "    for d in df:\n",
    "        scaler = StandardScaler()\n",
    "        d[\"pkt_size\"] = scaler.fit_transform(np.array(d[\"pkt_size\"]).reshape(-1, 1))\n",
    "        d[\"resolution\"] = i\n",
    "        \n",
    "d = []\n",
    "for df in data:\n",
    "    d.append(pd.concat(df))"
   ]
  },
  {
   "cell_type": "code",
   "execution_count": 15,
   "metadata": {},
   "outputs": [
    {
     "name": "stdout",
     "output_type": "stream",
     "text": [
      "(4656, 10, 1)\n",
      "(4656,)\n"
     ]
    }
   ],
   "source": [
    "timesteps = 10\n",
    "\n",
    "def create_data(d, timesteps=timesteps):\n",
    "    X = []\n",
    "    y = np.array([])\n",
    "    for i, df in enumerate(d):\n",
    "        if df.shape[0] % timesteps != 0:\n",
    "            trim = int(df.shape[0] % timesteps)\n",
    "            x = np.array(df[\"pkt_size\"][:-1*trim]).reshape((df.shape[0]-trim)//timesteps, timesteps, 1)\n",
    "        else:\n",
    "            x = np.array(df[\"pkt_size\"]).reshape(df.shape[0]//timesteps, timesteps, 1)\n",
    "        X.append(x)\n",
    "        for _ in range(x.shape[0]):\n",
    "            y = np.append(y, i)        \n",
    "    return np.concatenate(tuple(X)), y\n",
    "           \n",
    "    \n",
    "X, y = create_data(d)\n",
    "print(X.shape)\n",
    "print(y.shape)"
   ]
  },
  {
   "cell_type": "code",
   "execution_count": 16,
   "metadata": {},
   "outputs": [],
   "source": [
    "X_train, X_test, y_train, y_test = train_test_split(X, y, test_size=0.2)"
   ]
  },
  {
   "cell_type": "markdown",
   "metadata": {},
   "source": [
    "## LSTM"
   ]
  },
  {
   "cell_type": "code",
   "execution_count": 17,
   "metadata": {},
   "outputs": [
    {
     "name": "stdout",
     "output_type": "stream",
     "text": [
      "_________________________________________________________________\n",
      "Layer (type)                 Output Shape              Param #   \n",
      "=================================================================\n",
      "lstm_4 (LSTM)                (None, 10, 100)           40800     \n",
      "_________________________________________________________________\n",
      "lstm_5 (LSTM)                (None, 10, 50)            30200     \n",
      "_________________________________________________________________\n",
      "lstm_6 (LSTM)                (None, 25)                7600      \n",
      "_________________________________________________________________\n",
      "dense_4 (Dense)              (None, 20)                520       \n",
      "_________________________________________________________________\n",
      "dense_5 (Dense)              (None, 10)                210       \n",
      "_________________________________________________________________\n",
      "dense_6 (Dense)              (None, 5)                 55        \n",
      "=================================================================\n",
      "Total params: 79,385\n",
      "Trainable params: 79,385\n",
      "Non-trainable params: 0\n",
      "_________________________________________________________________\n"
     ]
    }
   ],
   "source": [
    "lstm = Sequential()\n",
    "lstm.add(LSTM(100, activation=\"relu\", return_sequences=True, input_shape=(X.shape[1], X.shape[2])))\n",
    "lstm.add(LSTM(50, dropout=0.2, activation=\"relu\", return_sequences=True))\n",
    "lstm.add(LSTM(25, activation=\"relu\"))\n",
    "lstm.add(Dense(20, activation=\"relu\"))\n",
    "lstm.add(Dense(10, activation=\"relu\"))\n",
    "lstm.add(Dense(5, activation=\"softmax\"))\n",
    "\n",
    "lstm.compile(loss=\"sparse_categorical_crossentropy\", optimizer=\"adam\", metrics=[\"accuracy\"])\n",
    "lstm.summary()"
   ]
  },
  {
   "cell_type": "code",
   "execution_count": 18,
   "metadata": {
    "scrolled": true
   },
   "outputs": [
    {
     "name": "stdout",
     "output_type": "stream",
     "text": [
      "Train on 2979 samples, validate on 745 samples\n",
      "Epoch 1/30\n",
      "2979/2979 [==============================] - 7s 2ms/step - loss: 1.6036 - acc: 0.2471 - val_loss: 1.5858 - val_acc: 0.3141\n",
      "Epoch 2/30\n",
      "2979/2979 [==============================] - 3s 986us/step - loss: 1.4868 - acc: 0.3353 - val_loss: 1.3719 - val_acc: 0.3839\n",
      "Epoch 3/30\n",
      "2979/2979 [==============================] - 3s 974us/step - loss: 1.3178 - acc: 0.3931 - val_loss: 1.3175 - val_acc: 0.4792\n",
      "Epoch 4/30\n",
      "2979/2979 [==============================] - 3s 964us/step - loss: 1.1381 - acc: 0.4938 - val_loss: 1.0273 - val_acc: 0.5383\n",
      "Epoch 5/30\n",
      "2979/2979 [==============================] - 3s 1ms/step - loss: 0.9347 - acc: 0.5901 - val_loss: 0.8318 - val_acc: 0.5664\n",
      "Epoch 6/30\n",
      "2979/2979 [==============================] - 3s 1ms/step - loss: 0.8224 - acc: 0.6472 - val_loss: 0.7046 - val_acc: 0.7772\n",
      "Epoch 7/30\n",
      "2979/2979 [==============================] - 3s 1ms/step - loss: 0.7278 - acc: 0.6848 - val_loss: 0.7390 - val_acc: 0.5772\n",
      "Epoch 8/30\n",
      "2979/2979 [==============================] - 3s 1ms/step - loss: 0.6900 - acc: 0.6814 - val_loss: 0.5495 - val_acc: 0.8013\n",
      "Epoch 9/30\n",
      "2979/2979 [==============================] - 3s 991us/step - loss: 0.5940 - acc: 0.7724 - val_loss: 0.4586 - val_acc: 0.8765\n",
      "Epoch 10/30\n",
      "2979/2979 [==============================] - 3s 990us/step - loss: 0.4943 - acc: 0.8201 - val_loss: 0.3608 - val_acc: 0.8899\n",
      "Epoch 11/30\n",
      "2979/2979 [==============================] - 3s 985us/step - loss: 0.4169 - acc: 0.8406 - val_loss: 0.2910 - val_acc: 0.8953\n",
      "Epoch 12/30\n",
      "2979/2979 [==============================] - 3s 981us/step - loss: 0.3545 - acc: 0.8654 - val_loss: 0.3175 - val_acc: 0.8765\n",
      "Epoch 13/30\n",
      "2979/2979 [==============================] - 3s 983us/step - loss: 0.3466 - acc: 0.8651 - val_loss: 0.2770 - val_acc: 0.8940\n",
      "Epoch 14/30\n",
      "2979/2979 [==============================] - 3s 989us/step - loss: 0.3097 - acc: 0.8748 - val_loss: 0.2467 - val_acc: 0.8993\n",
      "Epoch 15/30\n",
      "2979/2979 [==============================] - 3s 986us/step - loss: 0.2800 - acc: 0.9016 - val_loss: 0.2138 - val_acc: 0.9369\n",
      "Epoch 16/30\n",
      "2979/2979 [==============================] - 3s 981us/step - loss: 0.3309 - acc: 0.8939 - val_loss: 0.2590 - val_acc: 0.9087\n",
      "Epoch 17/30\n",
      "2979/2979 [==============================] - 3s 1ms/step - loss: 0.2356 - acc: 0.9198 - val_loss: 0.1870 - val_acc: 0.9423\n",
      "Epoch 18/30\n",
      "2979/2979 [==============================] - 3s 1ms/step - loss: 0.2432 - acc: 0.9154 - val_loss: 0.2262 - val_acc: 0.9154\n",
      "Epoch 19/30\n",
      "2979/2979 [==============================] - 3s 1ms/step - loss: 0.3983 - acc: 0.8533 - val_loss: 0.7571 - val_acc: 0.6926\n",
      "Epoch 20/30\n",
      "2979/2979 [==============================] - 3s 999us/step - loss: 0.4013 - acc: 0.8416 - val_loss: 0.2128 - val_acc: 0.9302\n",
      "Epoch 21/30\n",
      "2979/2979 [==============================] - 3s 998us/step - loss: 0.2080 - acc: 0.9241 - val_loss: 0.1584 - val_acc: 0.9584\n",
      "Epoch 22/30\n",
      "2979/2979 [==============================] - 3s 960us/step - loss: 0.2848 - acc: 0.8859 - val_loss: 0.2064 - val_acc: 0.9423\n",
      "Epoch 23/30\n",
      "2979/2979 [==============================] - 3s 1ms/step - loss: 0.1819 - acc: 0.9406 - val_loss: 0.2040 - val_acc: 0.9329\n",
      "Epoch 24/30\n",
      "2979/2979 [==============================] - 3s 1ms/step - loss: 0.1708 - acc: 0.9436 - val_loss: 0.3174 - val_acc: 0.8577\n",
      "Epoch 25/30\n",
      "2979/2979 [==============================] - 3s 1ms/step - loss: 0.1896 - acc: 0.9322 - val_loss: 0.1429 - val_acc: 0.9597\n",
      "Epoch 26/30\n",
      "2979/2979 [==============================] - 3s 967us/step - loss: 0.2393 - acc: 0.9124 - val_loss: 0.1497 - val_acc: 0.9611\n",
      "Epoch 27/30\n",
      "2979/2979 [==============================] - 3s 1ms/step - loss: 0.1738 - acc: 0.9453 - val_loss: 0.3530 - val_acc: 0.8430\n",
      "Epoch 28/30\n",
      "2979/2979 [==============================] - 3s 1ms/step - loss: 0.2793 - acc: 0.8886 - val_loss: 0.1484 - val_acc: 0.9557\n",
      "Epoch 29/30\n",
      "2979/2979 [==============================] - 3s 1ms/step - loss: 0.1280 - acc: 0.9637 - val_loss: 0.1148 - val_acc: 0.9705\n",
      "Epoch 30/30\n",
      "2979/2979 [==============================] - 3s 957us/step - loss: 0.2252 - acc: 0.9184 - val_loss: 0.1551 - val_acc: 0.9315\n"
     ]
    }
   ],
   "source": [
    "EPOCHS = 30\n",
    "BATCH_SIZE = 64\n",
    "\n",
    "history = lstm.fit(X_train, y_train, epochs=EPOCHS, validation_split=0.2, batch_size=BATCH_SIZE, verbose=1)"
   ]
  },
  {
   "cell_type": "code",
   "execution_count": 19,
   "metadata": {},
   "outputs": [
    {
     "name": "stdout",
     "output_type": "stream",
     "text": [
      "932/932 [==============================] - 1s 623us/step\n"
     ]
    },
    {
     "data": {
      "text/plain": [
       "[0.15009492677296693, 0.9388412017167382]"
      ]
     },
     "execution_count": 19,
     "metadata": {},
     "output_type": "execute_result"
    }
   ],
   "source": [
    "lstm.evaluate(X_test, y_test)"
   ]
  },
  {
   "cell_type": "code",
   "execution_count": 20,
   "metadata": {},
   "outputs": [
    {
     "data": {
      "image/png": "[encoded data removed]",
      "text/plain": [
       "<Figure size 1440x720 with 2 Axes>"
      ]
     },
     "metadata": {
      "needs_background": "light"
     },
     "output_type": "display_data"
    }
   ],
   "source": [
    "epochs = [i for i in range(EPOCHS)]\n",
    "\n",
    "fig , ax = plt.subplots(1, 2)\n",
    "train_acc = history.history['acc']\n",
    "train_loss = history.history['loss']\n",
    "val_acc = history.history['val_acc']\n",
    "val_loss = history.history['val_loss']\n",
    "fig.set_size_inches(20, 10)\n",
    "\n",
    "ax[0].plot(epochs, train_acc , 'go-' , label = 'Training Accuracy')\n",
    "ax[0].plot(epochs, val_acc , 'ro-' , label = 'Validation Accuracy')\n",
    "ax[0].set_title('Training & Validation Accuracy')\n",
    "ax[0].legend()\n",
    "ax[0].set_xlabel(\"Epochs\")\n",
    "ax[0].set_ylabel(\"Accuracy\")\n",
    "\n",
    "ax[1].plot(epochs , train_loss , 'g-o' , label = 'Training Loss')\n",
    "ax[1].plot(epochs , val_loss , 'r-o' , label = 'Validation Loss')\n",
    "ax[1].set_title('Training & Validation Loss')\n",
    "ax[1].legend()\n",
    "ax[1].set_xlabel(\"Epochs\")\n",
    "ax[1].set_ylabel(\"Loss\")\n",
    "plt.show()"
   ]
  },
  {
   "cell_type": "markdown",
   "metadata": {},
   "source": [
    "### Bidirectional (in development)"
   ]
  },
  {
   "cell_type": "code",
   "execution_count": null,
   "metadata": {},
   "outputs": [],
   "source": [
    "bidirectional = Sequential()\n",
    "bidirectional.add(Bidirectional(LSTM(50, activation=\"relu\"), input_shape=(X.shape[1], X.shape[2])))\n",
    "bidirectional.add(Dense(5, activation=\"softmax\"))\n",
    "bidirectional.compile(loss=\"sparse_categorical_crossentropy\", optimizer=\"adam\", metrics=[\"accuracy\"])\n",
    "bidirectional.summary()"
   ]
  },
  {
   "cell_type": "code",
   "execution_count": null,
   "metadata": {},
   "outputs": [],
   "source": [
    "EPOCHS = 25\n",
    "BATCH_SIZE = 64\n",
    "\n",
    "bidirectional.fit(X_train, y_train, epochs=EPOCHS, batch_size=BATCH_SIZE, verbose=1)"
   ]
  }
 ],
 "metadata": {
  "kernelspec": {
   "display_name": "Python 3",
   "language": "python",
   "name": "python3"
  },
  "language_info": {
   "codemirror_mode": {
    "name": "ipython",
    "version": 3
   },
   "file_extension": ".py",
   "mimetype": "text/x-python",
   "name": "python",
   "nbconvert_exporter": "python",
   "pygments_lexer": "ipython3",
   "version": "3.7.6"
  }
 },
 "nbformat": 4,
 "nbformat_minor": 2
}
