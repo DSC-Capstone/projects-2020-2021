{
 "cells": [
  {
   "cell_type": "code",
   "execution_count": 1,
   "metadata": {},
   "outputs": [],
   "source": [
    "import os\n",
    "import sys\n",
    "import re\n",
    "\n",
    "import numpy as np\n",
    "import pandas as pd\n",
    "import scipy as sp\n",
    "import matplotlib.pyplot as plt\n",
    "import seaborn as sns\n",
    "from scipy import signal\n",
    "\n",
    "from sklearn.ensemble import RandomForestClassifier\n",
    "from sklearn.tree import DecisionTreeClassifier, export_graphviz\n",
    "from sklearn.model_selection import train_test_split, GridSearchCV, cross_val_score\n",
    "from sklearn.preprocessing import StandardScaler\n",
    "from sklearn.metrics import confusion_matrix, f1_score, accuracy_score, make_scorer\n",
    "\n",
    "import warnings\n",
    "warnings.filterwarnings('ignore')\n",
    "\n",
    "%matplotlib inline"
   ]
  },
  {
   "cell_type": "code",
   "execution_count": 2,
   "metadata": {},
   "outputs": [],
   "source": [
    "sys.path.insert(0, '../src')\n",
    "\n",
    "from features import *"
   ]
  },
  {
   "cell_type": "code",
   "execution_count": 3,
   "metadata": {},
   "outputs": [],
   "source": [
    "features = [\n",
    "  \"download_avg\", \n",
    "  \"download_std\",\n",
    "  \"peak_avg\",\n",
    "  \"peak_std\",\n",
    "  \"peak_amount\", \n",
    "  \"seconds_per_peak\", \n",
    "  \"prominence_std\",\n",
    "  \"max_prominence\",\n",
    "  \"rolling_cv\" \n",
    "]\n",
    "\n",
    "size = 300"
   ]
  },
  {
   "cell_type": "code",
   "execution_count": 4,
   "metadata": {},
   "outputs": [
    {
     "name": "stdout",
     "output_type": "stream",
     "text": [
      "Wall time: 55.8 s\n"
     ]
    }
   ],
   "source": [
    "%%time\n",
    "one_four_dir = ['../data/144p/' + fp for fp in os.listdir('../data/144p')]\n",
    "two_four_dir = ['../data/240p/' + fp for fp in os.listdir('../data/240p')]\n",
    "three_six_dir = ['../data/360p/' + fp for fp in os.listdir('../data/360p')]\n",
    "four_eight_dir = ['../data/480p/' + fp for fp in os.listdir('../data/480p')]\n",
    "seven_two_dir = ['../data/720p/' + fp for fp in os.listdir('../data/720p')]\n",
    "ten_eight_dir = ['../data/1080p/' + fp for fp in os.listdir('../data/1080p')]\n",
    "\n",
    "feat_144 = np.vstack(([create_features(fp, size, 5, 1, .5) for fp in one_four_dir]))\n",
    "feat_240 = np.vstack(([create_features(fp, size, 5, 1, .5) for fp in two_four_dir]))\n",
    "feat_360 = np.vstack(([create_features(fp, size, 5, 1, .5) for fp in three_six_dir]))\n",
    "feat_480 = np.vstack(([create_features(fp, size, 5, 1, .5) for fp in four_eight_dir]))\n",
    "feat_720 = np.vstack(([create_features(fp, size, 5, 1, .5) for fp in seven_two_dir]))\n",
    "feat_1080 = np.vstack(([create_features(fp, size, 5, 1, .5) for fp in ten_eight_dir]))"
   ]
  },
  {
   "cell_type": "code",
   "execution_count": 5,
   "metadata": {},
   "outputs": [],
   "source": [
    "feat_df_144 = pd.DataFrame(columns=features, data=feat_144)\n",
    "feat_df_144['resolution'] = 144\n",
    "\n",
    "feat_df_240 = pd.DataFrame(columns=features, data=feat_240)\n",
    "feat_df_240['resolution'] = 240\n",
    "\n",
    "feat_df_360 = pd.DataFrame(columns=features, data=feat_360)\n",
    "feat_df_360['resolution'] = 360\n",
    "\n",
    "feat_df_480 = pd.DataFrame(columns=features, data=feat_480)\n",
    "feat_df_480['resolution'] = 480\n",
    "\n",
    "feat_df_720 = pd.DataFrame(columns=features, data=feat_720)\n",
    "feat_df_720['resolution'] = 720\n",
    "\n",
    "feat_df_1080 = pd.DataFrame(columns=features, data=feat_1080)\n",
    "feat_df_1080['resolution'] = 1080"
   ]
  },
  {
   "cell_type": "markdown",
   "metadata": {},
   "source": [
    "## Baseline Model - 3 Resolutions\n",
    "\n",
    "We started with a basic model with 3 even spaced resolutions: 240p, 480p, and 1080p. Our intention was to ensure that our features were sufficient enough to define distinctions between fairly spaced classes before attempting more defined predictions. Through some experimentation, we decided to move forward with a Random Forest model. Random Forest is better attuned for multiclassification situations like ours and its inherent randomness of feature selection will overcome the correlation within our features. Random Forest is also an ideal algorithm since we don't need to scale (standardize or normalize) our data. This is particularly useful as some of our spectral features are noticeably larger than the time domain features (spikes, thresholding)."
   ]
  },
  {
   "cell_type": "code",
   "execution_count": 6,
   "metadata": {},
   "outputs": [
    {
     "data": {
      "text/plain": [
       "(228, 10)"
      ]
     },
     "execution_count": 6,
     "metadata": {},
     "output_type": "execute_result"
    }
   ],
   "source": [
    "training = pd.concat((\n",
    "  feat_df_240,\n",
    "  feat_df_480,\n",
    "  feat_df_1080\n",
    "))\n",
    "\n",
    "training.shape"
   ]
  },
  {
   "cell_type": "code",
   "execution_count": 7,
   "metadata": {},
   "outputs": [
    {
     "name": "stdout",
     "output_type": "stream",
     "text": [
      "Random Forest - Baseline Accuracy: 0.9122807017543859\n",
      "F1 Score: [1.   0.87 0.87]\n"
     ]
    },
    {
     "data": {
      "text/html": [
       "<div>\n",
       "<style scoped>\n",
       "    .dataframe tbody tr th:only-of-type {\n",
       "        vertical-align: middle;\n",
       "    }\n",
       "\n",
       "    .dataframe tbody tr th {\n",
       "        vertical-align: top;\n",
       "    }\n",
       "\n",
       "    .dataframe thead th {\n",
       "        text-align: right;\n",
       "    }\n",
       "</style>\n",
       "<table border=\"1\" class=\"dataframe\">\n",
       "  <thead>\n",
       "    <tr style=\"text-align: right;\">\n",
       "      <th>Predicted Resolution</th>\n",
       "      <th>240</th>\n",
       "      <th>480</th>\n",
       "      <th>1080</th>\n",
       "    </tr>\n",
       "    <tr>\n",
       "      <th>Actual Resolution</th>\n",
       "      <th></th>\n",
       "      <th></th>\n",
       "      <th></th>\n",
       "    </tr>\n",
       "  </thead>\n",
       "  <tbody>\n",
       "    <tr>\n",
       "      <th>240</th>\n",
       "      <td>1.0</td>\n",
       "      <td>0.000000</td>\n",
       "      <td>0.000000</td>\n",
       "    </tr>\n",
       "    <tr>\n",
       "      <th>480</th>\n",
       "      <td>0.0</td>\n",
       "      <td>0.850000</td>\n",
       "      <td>0.150000</td>\n",
       "    </tr>\n",
       "    <tr>\n",
       "      <th>1080</th>\n",
       "      <td>0.0</td>\n",
       "      <td>0.105263</td>\n",
       "      <td>0.894737</td>\n",
       "    </tr>\n",
       "  </tbody>\n",
       "</table>\n",
       "</div>"
      ],
      "text/plain": [
       "Predicted Resolution  240       480       1080\n",
       "Actual Resolution                             \n",
       "240                    1.0  0.000000  0.000000\n",
       "480                    0.0  0.850000  0.150000\n",
       "1080                   0.0  0.105263  0.894737"
      ]
     },
     "execution_count": 7,
     "metadata": {},
     "output_type": "execute_result"
    }
   ],
   "source": [
    "X, y = training.drop(columns=['resolution']), training['resolution']\n",
    "X_train, X_test, y_train, y_test = train_test_split(X, y, test_size = 0.25, random_state = 42,  stratify=training['resolution'])\n",
    "\n",
    "clf = RandomForestClassifier(n_estimators = 10, max_depth = 10, criterion = 'entropy', min_samples_split = 3, random_state = 42)\n",
    "clf.fit(X_train, y_train)\n",
    "y_pred = clf.predict(X_test)\n",
    "\n",
    "print('Random Forest - Baseline Accuracy: ' + str(accuracy_score(y_test, y_pred)))\n",
    "print('F1 Score: ' + str(np.round(f1_score(y_test, y_pred, average=None), 2)))\n",
    "pd.crosstab(y_test, y_pred, rownames=['Actual Resolution'], colnames=['Predicted Resolution'], normalize='index')"
   ]
  },
  {
   "cell_type": "code",
   "execution_count": null,
   "metadata": {},
   "outputs": [],
   "source": [
    "import pickle\n",
    "pkl_filename = \"baseline_model.pkl\"\n",
    "with open(pkl_filename, 'wb') as f:\n",
    "    pickle.dump(clf, f)"
   ]
  },
  {
   "cell_type": "code",
   "execution_count": 8,
   "metadata": {},
   "outputs": [
    {
     "data": {
      "text/html": [
       "<div>\n",
       "<style scoped>\n",
       "    .dataframe tbody tr th:only-of-type {\n",
       "        vertical-align: middle;\n",
       "    }\n",
       "\n",
       "    .dataframe tbody tr th {\n",
       "        vertical-align: top;\n",
       "    }\n",
       "\n",
       "    .dataframe thead th {\n",
       "        text-align: right;\n",
       "    }\n",
       "</style>\n",
       "<table border=\"1\" class=\"dataframe\">\n",
       "  <thead>\n",
       "    <tr style=\"text-align: right;\">\n",
       "      <th>Predicted Resolution</th>\n",
       "      <th>240</th>\n",
       "      <th>480</th>\n",
       "      <th>1080</th>\n",
       "    </tr>\n",
       "    <tr>\n",
       "      <th>Actual Resolution</th>\n",
       "      <th></th>\n",
       "      <th></th>\n",
       "      <th></th>\n",
       "    </tr>\n",
       "  </thead>\n",
       "  <tbody>\n",
       "    <tr>\n",
       "      <th>240</th>\n",
       "      <td>18</td>\n",
       "      <td>0</td>\n",
       "      <td>0</td>\n",
       "    </tr>\n",
       "    <tr>\n",
       "      <th>480</th>\n",
       "      <td>0</td>\n",
       "      <td>17</td>\n",
       "      <td>3</td>\n",
       "    </tr>\n",
       "    <tr>\n",
       "      <th>1080</th>\n",
       "      <td>0</td>\n",
       "      <td>2</td>\n",
       "      <td>17</td>\n",
       "    </tr>\n",
       "  </tbody>\n",
       "</table>\n",
       "</div>"
      ],
      "text/plain": [
       "Predicted Resolution  240   480   1080\n",
       "Actual Resolution                     \n",
       "240                     18     0     0\n",
       "480                      0    17     3\n",
       "1080                     0     2    17"
      ]
     },
     "execution_count": 8,
     "metadata": {},
     "output_type": "execute_result"
    }
   ],
   "source": [
    "pd.crosstab(y_test, y_pred, rownames=['Actual Resolution'], colnames=['Predicted Resolution'])"
   ]
  },
  {
   "cell_type": "code",
   "execution_count": 9,
   "metadata": {},
   "outputs": [
    {
     "data": {
      "text/plain": [
       "Text(0, 0.5, 'Features')"
      ]
     },
     "execution_count": 9,
     "metadata": {},
     "output_type": "execute_result"
    },
    {
     "data": {
      "image/png": "[encoded data removed]",
      "text/plain": [
       "<Figure size 864x288 with 1 Axes>"
      ]
     },
     "metadata": {},
     "output_type": "display_data"
    }
   ],
   "source": [
    "importances = clf.feature_importances_\n",
    "indices = np.argsort(importances)[::-1]\n",
    "\n",
    "sns.set(rc={'figure.figsize':(12,4)})\n",
    "plt.barh(np.array(features)[indices],importances[indices])\n",
    "plt.title('Baseline Model: Feature Importances')\n",
    "plt.xlabel('Importance')\n",
    "plt.ylabel('Features')"
   ]
  },
  {
   "cell_type": "code",
   "execution_count": null,
   "metadata": {},
   "outputs": [],
   "source": []
  },
  {
   "cell_type": "markdown",
   "metadata": {},
   "source": [
    "## Expanded Model - 6 Resolutions"
   ]
  },
  {
   "cell_type": "code",
   "execution_count": null,
   "metadata": {},
   "outputs": [],
   "source": [
    "training = pd.concat((\n",
    "  feat_df_144,\n",
    "  feat_df_240,\n",
    "  feat_df_360,\n",
    "  feat_df_480,\n",
    "  feat_df_720,\n",
    "  feat_df_1080\n",
    "))\n",
    "\n",
    "training.shape"
   ]
  },
  {
   "cell_type": "code",
   "execution_count": null,
   "metadata": {},
   "outputs": [],
   "source": [
    "X, y = training.drop(columns=['resolution']), training['resolution']\n",
    "X_train, X_test, y_train, y_test = train_test_split(X, y, test_size = 0.25, random_state = 42,  stratify=training['resolution'])\n",
    "\n",
    "clf = RandomForestClassifier(n_estimators = 10, max_depth = 10, criterion = 'entropy', min_samples_split = 2, random_state = 42)\n",
    "clf.fit(X_train, y_train)\n",
    "y_pred = clf.predict(X_test)\n",
    "\n",
    "print('Random Forest - Expanded Model Accuracy: ' + str(accuracy_score(y_test, y_pred)))\n",
    "print('F1 Score: ' + str(np.round(f1_score(y_test, y_pred, average=None), 2)))\n",
    "(pd.crosstab(y_test, y_pred, rownames=['Actual Resolution'], colnames=['Predicted Resolution']))"
   ]
  },
  {
   "cell_type": "code",
   "execution_count": null,
   "metadata": {},
   "outputs": [],
   "source": [
    "importances = clf.feature_importances_\n",
    "indices = np.argsort(importances)[::-1]\n",
    "\n",
    "sns.set(rc={'figure.figsize':(10,7)})\n",
    "plt.barh(np.array(features)[indices], importances[indices])\n",
    "plt.title('Expanded Model - 5 Resolutions: Feature Importances')\n",
    "plt.xlabel('Importance')\n",
    "plt.ylabel('Features')"
   ]
  },
  {
   "cell_type": "markdown",
   "metadata": {},
   "source": [
    "## Expanded Model - Binned Resolutions"
   ]
  },
  {
   "cell_type": "code",
   "execution_count": 12,
   "metadata": {},
   "outputs": [
    {
     "data": {
      "text/plain": [
       "(441, 10)"
      ]
     },
     "execution_count": 12,
     "metadata": {},
     "output_type": "execute_result"
    }
   ],
   "source": [
    "feat_df_144 = pd.DataFrame(columns=features, data=feat_144)\n",
    "feat_df_144['resolution'] = \"low\"\n",
    "\n",
    "feat_df_240 = pd.DataFrame(columns=features, data=feat_240)\n",
    "feat_df_240['resolution'] = \"low\"\n",
    "\n",
    "feat_df_360 = pd.DataFrame(columns=features, data=feat_360)\n",
    "feat_df_360['resolution'] = \"medium\"\n",
    "\n",
    "feat_df_480 = pd.DataFrame(columns=features, data=feat_480)\n",
    "feat_df_480['resolution'] = \"medium\"\n",
    "\n",
    "feat_df_720 = pd.DataFrame(columns=features, data=feat_720)\n",
    "feat_df_720['resolution'] = \"high\"\n",
    "\n",
    "feat_df_1080 = pd.DataFrame(columns=features, data=feat_1080)\n",
    "feat_df_1080['resolution'] = \"high\"\n",
    "\n",
    "training = pd.concat((\n",
    "  feat_df_144,\n",
    "  feat_df_240,\n",
    "  feat_df_360,\n",
    "  feat_df_480,\n",
    "  feat_df_720,\n",
    "  feat_df_1080\n",
    "))\n",
    "\n",
    "training.shape"
   ]
  },
  {
   "cell_type": "code",
   "execution_count": 13,
   "metadata": {},
   "outputs": [
    {
     "name": "stdout",
     "output_type": "stream",
     "text": [
      "Random Forest - Binned Resolutions Accuracy: 0.8918918918918919\n",
      "F1 Score: [0.89 0.94 0.85]\n"
     ]
    },
    {
     "data": {
      "text/html": [
       "<div>\n",
       "<style scoped>\n",
       "    .dataframe tbody tr th:only-of-type {\n",
       "        vertical-align: middle;\n",
       "    }\n",
       "\n",
       "    .dataframe tbody tr th {\n",
       "        vertical-align: top;\n",
       "    }\n",
       "\n",
       "    .dataframe thead th {\n",
       "        text-align: right;\n",
       "    }\n",
       "</style>\n",
       "<table border=\"1\" class=\"dataframe\">\n",
       "  <thead>\n",
       "    <tr style=\"text-align: right;\">\n",
       "      <th>Predicted Resolution</th>\n",
       "      <th>high</th>\n",
       "      <th>low</th>\n",
       "      <th>medium</th>\n",
       "    </tr>\n",
       "    <tr>\n",
       "      <th>Actual Resolution</th>\n",
       "      <th></th>\n",
       "      <th></th>\n",
       "      <th></th>\n",
       "    </tr>\n",
       "  </thead>\n",
       "  <tbody>\n",
       "    <tr>\n",
       "      <th>high</th>\n",
       "      <td>0.871795</td>\n",
       "      <td>0.000000</td>\n",
       "      <td>0.128205</td>\n",
       "    </tr>\n",
       "    <tr>\n",
       "      <th>low</th>\n",
       "      <td>0.000000</td>\n",
       "      <td>0.939394</td>\n",
       "      <td>0.060606</td>\n",
       "    </tr>\n",
       "    <tr>\n",
       "      <th>medium</th>\n",
       "      <td>0.076923</td>\n",
       "      <td>0.051282</td>\n",
       "      <td>0.871795</td>\n",
       "    </tr>\n",
       "  </tbody>\n",
       "</table>\n",
       "</div>"
      ],
      "text/plain": [
       "Predicted Resolution      high       low    medium\n",
       "Actual Resolution                                 \n",
       "high                  0.871795  0.000000  0.128205\n",
       "low                   0.000000  0.939394  0.060606\n",
       "medium                0.076923  0.051282  0.871795"
      ]
     },
     "execution_count": 13,
     "metadata": {},
     "output_type": "execute_result"
    }
   ],
   "source": [
    "X, y = training.drop(columns=['resolution']), training['resolution']\n",
    "X_train, X_test, y_train, y_test = train_test_split(X, y, test_size = 0.25, random_state = 42,  stratify=training['resolution'])\n",
    "\n",
    "clf = RandomForestClassifier(n_estimators = 15, max_depth = 10, criterion = 'entropy', min_samples_split = 3, random_state = 42)\n",
    "clf.fit(X_train, y_train)\n",
    "y_pred = clf.predict(X_test)\n",
    "\n",
    "print('Random Forest - Binned Resolutions Accuracy: ' + str(accuracy_score(y_test, y_pred)))\n",
    "print('F1 Score: ' + str(np.round(f1_score(y_test, y_pred, average=None), 2)))\n",
    "(pd.crosstab(y_test, y_pred, rownames=['Actual Resolution'], colnames=['Predicted Resolution'], normalize='index'))"
   ]
  },
  {
   "cell_type": "code",
   "execution_count": 14,
   "metadata": {},
   "outputs": [
    {
     "data": {
      "text/html": [
       "<div>\n",
       "<style scoped>\n",
       "    .dataframe tbody tr th:only-of-type {\n",
       "        vertical-align: middle;\n",
       "    }\n",
       "\n",
       "    .dataframe tbody tr th {\n",
       "        vertical-align: top;\n",
       "    }\n",
       "\n",
       "    .dataframe thead th {\n",
       "        text-align: right;\n",
       "    }\n",
       "</style>\n",
       "<table border=\"1\" class=\"dataframe\">\n",
       "  <thead>\n",
       "    <tr style=\"text-align: right;\">\n",
       "      <th>Predicted Resolution</th>\n",
       "      <th>high</th>\n",
       "      <th>low</th>\n",
       "      <th>medium</th>\n",
       "    </tr>\n",
       "    <tr>\n",
       "      <th>Actual Resolution</th>\n",
       "      <th></th>\n",
       "      <th></th>\n",
       "      <th></th>\n",
       "    </tr>\n",
       "  </thead>\n",
       "  <tbody>\n",
       "    <tr>\n",
       "      <th>high</th>\n",
       "      <td>34</td>\n",
       "      <td>0</td>\n",
       "      <td>5</td>\n",
       "    </tr>\n",
       "    <tr>\n",
       "      <th>low</th>\n",
       "      <td>0</td>\n",
       "      <td>31</td>\n",
       "      <td>2</td>\n",
       "    </tr>\n",
       "    <tr>\n",
       "      <th>medium</th>\n",
       "      <td>3</td>\n",
       "      <td>2</td>\n",
       "      <td>34</td>\n",
       "    </tr>\n",
       "  </tbody>\n",
       "</table>\n",
       "</div>"
      ],
      "text/plain": [
       "Predicted Resolution  high  low  medium\n",
       "Actual Resolution                      \n",
       "high                    34    0       5\n",
       "low                      0   31       2\n",
       "medium                   3    2      34"
      ]
     },
     "execution_count": 14,
     "metadata": {},
     "output_type": "execute_result"
    }
   ],
   "source": [
    "(pd.crosstab(y_test, y_pred, rownames=['Actual Resolution'], colnames=['Predicted Resolution']))"
   ]
  },
  {
   "cell_type": "code",
   "execution_count": 15,
   "metadata": {
    "scrolled": false
   },
   "outputs": [
    {
     "data": {
      "text/plain": [
       "Text(0, 0.5, 'Features')"
      ]
     },
     "execution_count": 15,
     "metadata": {},
     "output_type": "execute_result"
    },
    {
     "data": {
      "image/png": "[encoded data removed]",
      "text/plain": [
       "<Figure size 864x288 with 1 Axes>"
      ]
     },
     "metadata": {},
     "output_type": "display_data"
    }
   ],
   "source": [
    "importances = clf.feature_importances_\n",
    "indices = np.argsort(importances)[::-1]\n",
    "\n",
    "top_5 = np.array(features)[indices[:5]]\n",
    "\n",
    "sns.set(rc={'figure.figsize':(12,4)})\n",
    "plt.barh(np.array(features)[indices], importances[indices])\n",
    "plt.title('Expanded Model - Binned Resolutions: Feature Importances')\n",
    "plt.xlabel('Importance')\n",
    "plt.ylabel('Features')"
   ]
  },
  {
   "cell_type": "code",
   "execution_count": 17,
   "metadata": {},
   "outputs": [],
   "source": [
    "import pickle\n",
    "pkl_filename = \"final_model.pkl\"\n",
    "with open(pkl_filename, 'wb') as f:\n",
    "    pickle.dump(clf, f)"
   ]
  },
  {
   "cell_type": "markdown",
   "metadata": {},
   "source": [
    "## Top 5 Features Only"
   ]
  },
  {
   "cell_type": "code",
   "execution_count": null,
   "metadata": {},
   "outputs": [],
   "source": [
    "X, y = training[top_5], training['resolution']\n",
    "X_train, X_test, y_train, y_test = train_test_split(X, y, test_size = 0.25, random_state = 42,  stratify=training['resolution'])\n",
    "\n",
    "clf = RandomForestClassifier(n_estimators = 15, max_depth = 10, criterion = 'entropy', min_samples_split = 3, random_state = 42)\n",
    "clf.fit(X_train, y_train)\n",
    "y_pred = clf.predict(X_test)\n",
    "\n",
    "print('Random Forest - Binned Resolutions Accuracy: ' + str(accuracy_score(y_test, y_pred)))\n",
    "print('F1 Score: ' + str(np.round(f1_score(y_test, y_pred, average=None), 2)))\n",
    "(pd.crosstab(y_test, y_pred, rownames=['Actual Resolution'], colnames=['Predicted Resolution']))"
   ]
  },
  {
   "cell_type": "code",
   "execution_count": null,
   "metadata": {},
   "outputs": [],
   "source": [
    "loaded_model = pickle.load(open(filename, 'rb'))\n",
    "result = loaded_model.score(X_test, Y_test)\n",
    "print(result)"
   ]
  },
  {
   "cell_type": "code",
   "execution_count": null,
   "metadata": {},
   "outputs": [],
   "source": []
  },
  {
   "cell_type": "code",
   "execution_count": null,
   "metadata": {},
   "outputs": [],
   "source": []
  },
  {
   "cell_type": "code",
   "execution_count": null,
   "metadata": {},
   "outputs": [],
   "source": []
  }
 ],
 "metadata": {
  "kernelspec": {
   "display_name": "Python 3",
   "language": "python",
   "name": "python3"
  },
  "language_info": {
   "codemirror_mode": {
    "name": "ipython",
    "version": 3
   },
   "file_extension": ".py",
   "mimetype": "text/x-python",
   "name": "python",
   "nbconvert_exporter": "python",
   "pygments_lexer": "ipython3",
   "version": "3.7.1"
  }
 },
 "nbformat": 4,
 "nbformat_minor": 2
}
