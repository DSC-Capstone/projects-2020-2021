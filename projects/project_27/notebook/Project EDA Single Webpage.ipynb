{
 "cells": [
  {
   "cell_type": "code",
   "execution_count": 52,
   "metadata": {},
   "outputs": [],
   "source": [
    "import urllib.request\n",
    "from bs4 import BeautifulSoup\n",
    "import pandas as pd\n",
    "import matplotlib.pyplot as plt\n",
    "import seaborn as sns"
   ]
  },
  {
   "cell_type": "markdown",
   "metadata": {},
   "source": [
    "# EDA of Wikipedia Article \"COVID-19 Pandemic Data\""
   ]
  },
  {
   "cell_type": "code",
   "execution_count": 2,
   "metadata": {},
   "outputs": [],
   "source": [
    "url = \"https://en.wikipedia.org/wiki/Coronavirus_disease_2019\"\n",
    "url2 = 'https://en.wikipedia.org/wiki/Template:COVID-19_pandemic_data'"
   ]
  },
  {
   "cell_type": "code",
   "execution_count": 3,
   "metadata": {},
   "outputs": [],
   "source": [
    "page = urllib.request.urlopen(url2)"
   ]
  },
  {
   "cell_type": "code",
   "execution_count": 4,
   "metadata": {},
   "outputs": [],
   "source": [
    "soup = BeautifulSoup(page, \"lxml\")"
   ]
  },
  {
   "cell_type": "code",
   "execution_count": 5,
   "metadata": {},
   "outputs": [],
   "source": [
    "table = soup.find(\"table\",class_=\"wikitable\")"
   ]
  },
  {
   "cell_type": "code",
   "execution_count": 6,
   "metadata": {},
   "outputs": [],
   "source": [
    "cols = ['', 'Location', 'Cases', 'Deaths', 'Recovery', 'References']\n",
    "df = pd.DataFrame(columns = cols)"
   ]
  },
  {
   "cell_type": "code",
   "execution_count": 7,
   "metadata": {},
   "outputs": [
    {
     "data": {
      "text/html": [
       "<div>\n",
       "<style scoped>\n",
       "    .dataframe tbody tr th:only-of-type {\n",
       "        vertical-align: middle;\n",
       "    }\n",
       "\n",
       "    .dataframe tbody tr th {\n",
       "        vertical-align: top;\n",
       "    }\n",
       "\n",
       "    .dataframe thead th {\n",
       "        text-align: right;\n",
       "    }\n",
       "</style>\n",
       "<table border=\"1\" class=\"dataframe\">\n",
       "  <thead>\n",
       "    <tr style=\"text-align: right;\">\n",
       "      <th></th>\n",
       "      <th></th>\n",
       "      <th>Location</th>\n",
       "      <th>Cases</th>\n",
       "      <th>Deaths</th>\n",
       "      <th>Recovery</th>\n",
       "      <th>References</th>\n",
       "    </tr>\n",
       "  </thead>\n",
       "  <tbody>\n",
       "  </tbody>\n",
       "</table>\n",
       "</div>"
      ],
      "text/plain": [
       "Empty DataFrame\n",
       "Columns: [, Location, Cases, Deaths, Recovery, References]\n",
       "Index: []"
      ]
     },
     "execution_count": 7,
     "metadata": {},
     "output_type": "execute_result"
    }
   ],
   "source": [
    "df"
   ]
  },
  {
   "cell_type": "code",
   "execution_count": 8,
   "metadata": {},
   "outputs": [],
   "source": [
    "\n",
    "for items in table.find_all(\"tr\")[:-1]:\n",
    "    data = [''.join(item.text.split()) for item in items.find_all(['th','td'])]\n",
    "    if(len(data) == 6):\n",
    "        a_series = pd.Series(data, index = df.columns)\n",
    "        df = df.append(a_series, ignore_index=True)"
   ]
  },
  {
   "cell_type": "code",
   "execution_count": 9,
   "metadata": {},
   "outputs": [
    {
     "data": {
      "text/html": [
       "<div>\n",
       "<style scoped>\n",
       "    .dataframe tbody tr th:only-of-type {\n",
       "        vertical-align: middle;\n",
       "    }\n",
       "\n",
       "    .dataframe tbody tr th {\n",
       "        vertical-align: top;\n",
       "    }\n",
       "\n",
       "    .dataframe thead th {\n",
       "        text-align: right;\n",
       "    }\n",
       "</style>\n",
       "<table border=\"1\" class=\"dataframe\">\n",
       "  <thead>\n",
       "    <tr style=\"text-align: right;\">\n",
       "      <th></th>\n",
       "      <th></th>\n",
       "      <th>Location</th>\n",
       "      <th>Cases</th>\n",
       "      <th>Deaths</th>\n",
       "      <th>Recovery</th>\n",
       "      <th>References</th>\n",
       "    </tr>\n",
       "  </thead>\n",
       "  <tbody>\n",
       "    <tr>\n",
       "      <th>0</th>\n",
       "      <td></td>\n",
       "      <td>World[e]</td>\n",
       "      <td>105,461,681</td>\n",
       "      <td>2,300,891</td>\n",
       "      <td>58,645,012</td>\n",
       "      <td>[2]</td>\n",
       "    </tr>\n",
       "    <tr>\n",
       "      <th>1</th>\n",
       "      <td></td>\n",
       "      <td>UnitedStates[f]</td>\n",
       "      <td>27,054,709</td>\n",
       "      <td>463,090</td>\n",
       "      <td>11,166,500</td>\n",
       "      <td>[9]</td>\n",
       "    </tr>\n",
       "    <tr>\n",
       "      <th>2</th>\n",
       "      <td></td>\n",
       "      <td>India</td>\n",
       "      <td>10,802,591</td>\n",
       "      <td>154,823</td>\n",
       "      <td>10,496,308</td>\n",
       "      <td>[10]</td>\n",
       "    </tr>\n",
       "    <tr>\n",
       "      <th>3</th>\n",
       "      <td></td>\n",
       "      <td>Brazil</td>\n",
       "      <td>9,449,088</td>\n",
       "      <td>230,127</td>\n",
       "      <td>8,326,798</td>\n",
       "      <td>[11][12]</td>\n",
       "    </tr>\n",
       "    <tr>\n",
       "      <th>4</th>\n",
       "      <td></td>\n",
       "      <td>Russia[g]</td>\n",
       "      <td>3,951,233</td>\n",
       "      <td>76,229</td>\n",
       "      <td>3,436,326</td>\n",
       "      <td>[13]</td>\n",
       "    </tr>\n",
       "  </tbody>\n",
       "</table>\n",
       "</div>"
      ],
      "text/plain": [
       "            Location        Cases     Deaths    Recovery References\n",
       "0           World[e]  105,461,681  2,300,891  58,645,012        [2]\n",
       "1    UnitedStates[f]   27,054,709    463,090  11,166,500        [9]\n",
       "2              India   10,802,591    154,823  10,496,308       [10]\n",
       "3             Brazil    9,449,088    230,127   8,326,798   [11][12]\n",
       "4          Russia[g]    3,951,233     76,229   3,436,326       [13]"
      ]
     },
     "execution_count": 9,
     "metadata": {},
     "output_type": "execute_result"
    }
   ],
   "source": [
    "df.head()"
   ]
  },
  {
   "cell_type": "code",
   "execution_count": 10,
   "metadata": {},
   "outputs": [],
   "source": [
    "#The Cases, Deaths and Recovery Counts need to be cleaned into integers "
   ]
  },
  {
   "cell_type": "code",
   "execution_count": 11,
   "metadata": {},
   "outputs": [],
   "source": [
    "def makeint(num):\n",
    "    \n",
    "    if type(num) == int: \n",
    "        return num \n",
    "    new = num.replace(',', '')\n",
    "    if new == 'Nodata': \n",
    "        return 0\n",
    "    elif new == '60+':\n",
    "        return 60\n",
    "    return int(new)"
   ]
  },
  {
   "cell_type": "code",
   "execution_count": 12,
   "metadata": {},
   "outputs": [],
   "source": [
    "df['Cases'] = df['Cases'].apply(makeint)"
   ]
  },
  {
   "cell_type": "code",
   "execution_count": 13,
   "metadata": {},
   "outputs": [],
   "source": [
    "df['Deaths'] = df['Deaths'].apply(makeint)"
   ]
  },
  {
   "cell_type": "code",
   "execution_count": 14,
   "metadata": {},
   "outputs": [],
   "source": [
    "df['Recovery'] = df['Recovery'].apply(makeint)"
   ]
  },
  {
   "cell_type": "code",
   "execution_count": 15,
   "metadata": {},
   "outputs": [
    {
     "data": {
      "text/html": [
       "<div>\n",
       "<style scoped>\n",
       "    .dataframe tbody tr th:only-of-type {\n",
       "        vertical-align: middle;\n",
       "    }\n",
       "\n",
       "    .dataframe tbody tr th {\n",
       "        vertical-align: top;\n",
       "    }\n",
       "\n",
       "    .dataframe thead th {\n",
       "        text-align: right;\n",
       "    }\n",
       "</style>\n",
       "<table border=\"1\" class=\"dataframe\">\n",
       "  <thead>\n",
       "    <tr style=\"text-align: right;\">\n",
       "      <th></th>\n",
       "      <th></th>\n",
       "      <th>Location</th>\n",
       "      <th>Cases</th>\n",
       "      <th>Deaths</th>\n",
       "      <th>Recovery</th>\n",
       "      <th>References</th>\n",
       "    </tr>\n",
       "  </thead>\n",
       "  <tbody>\n",
       "    <tr>\n",
       "      <th>0</th>\n",
       "      <td></td>\n",
       "      <td>World[e]</td>\n",
       "      <td>105461681</td>\n",
       "      <td>2300891</td>\n",
       "      <td>58645012</td>\n",
       "      <td>[2]</td>\n",
       "    </tr>\n",
       "    <tr>\n",
       "      <th>1</th>\n",
       "      <td></td>\n",
       "      <td>UnitedStates[f]</td>\n",
       "      <td>27054709</td>\n",
       "      <td>463090</td>\n",
       "      <td>11166500</td>\n",
       "      <td>[9]</td>\n",
       "    </tr>\n",
       "    <tr>\n",
       "      <th>2</th>\n",
       "      <td></td>\n",
       "      <td>India</td>\n",
       "      <td>10802591</td>\n",
       "      <td>154823</td>\n",
       "      <td>10496308</td>\n",
       "      <td>[10]</td>\n",
       "    </tr>\n",
       "    <tr>\n",
       "      <th>3</th>\n",
       "      <td></td>\n",
       "      <td>Brazil</td>\n",
       "      <td>9449088</td>\n",
       "      <td>230127</td>\n",
       "      <td>8326798</td>\n",
       "      <td>[11][12]</td>\n",
       "    </tr>\n",
       "    <tr>\n",
       "      <th>4</th>\n",
       "      <td></td>\n",
       "      <td>Russia[g]</td>\n",
       "      <td>3951233</td>\n",
       "      <td>76229</td>\n",
       "      <td>3436326</td>\n",
       "      <td>[13]</td>\n",
       "    </tr>\n",
       "    <tr>\n",
       "      <th>...</th>\n",
       "      <td>...</td>\n",
       "      <td>...</td>\n",
       "      <td>...</td>\n",
       "      <td>...</td>\n",
       "      <td>...</td>\n",
       "      <td>...</td>\n",
       "    </tr>\n",
       "    <tr>\n",
       "      <th>234</th>\n",
       "      <td></td>\n",
       "      <td>AmericanSamoa</td>\n",
       "      <td>4</td>\n",
       "      <td>0</td>\n",
       "      <td>3</td>\n",
       "      <td>[346]</td>\n",
       "    </tr>\n",
       "    <tr>\n",
       "      <th>235</th>\n",
       "      <td></td>\n",
       "      <td>Samoa</td>\n",
       "      <td>2</td>\n",
       "      <td>0</td>\n",
       "      <td>2</td>\n",
       "      <td>[347]</td>\n",
       "    </tr>\n",
       "    <tr>\n",
       "      <th>236</th>\n",
       "      <td></td>\n",
       "      <td>FederatedStatesofMicronesia</td>\n",
       "      <td>1</td>\n",
       "      <td>0</td>\n",
       "      <td>1</td>\n",
       "      <td>[348]</td>\n",
       "    </tr>\n",
       "    <tr>\n",
       "      <th>237</th>\n",
       "      <td></td>\n",
       "      <td>Vanuatu</td>\n",
       "      <td>1</td>\n",
       "      <td>0</td>\n",
       "      <td>1</td>\n",
       "      <td>[349]</td>\n",
       "    </tr>\n",
       "    <tr>\n",
       "      <th>238</th>\n",
       "      <td></td>\n",
       "      <td>Tanzania[be]</td>\n",
       "      <td>0</td>\n",
       "      <td>0</td>\n",
       "      <td>0</td>\n",
       "      <td>[351][352]</td>\n",
       "    </tr>\n",
       "  </tbody>\n",
       "</table>\n",
       "<p>239 rows × 6 columns</p>\n",
       "</div>"
      ],
      "text/plain": [
       "                           Location      Cases   Deaths  Recovery  References\n",
       "0                          World[e]  105461681  2300891  58645012         [2]\n",
       "1                   UnitedStates[f]   27054709   463090  11166500         [9]\n",
       "2                             India   10802591   154823  10496308        [10]\n",
       "3                            Brazil    9449088   230127   8326798    [11][12]\n",
       "4                         Russia[g]    3951233    76229   3436326        [13]\n",
       "..  ..                          ...        ...      ...       ...         ...\n",
       "234                   AmericanSamoa          4        0         3       [346]\n",
       "235                           Samoa          2        0         2       [347]\n",
       "236     FederatedStatesofMicronesia          1        0         1       [348]\n",
       "237                         Vanuatu          1        0         1       [349]\n",
       "238                    Tanzania[be]          0        0         0  [351][352]\n",
       "\n",
       "[239 rows x 6 columns]"
      ]
     },
     "execution_count": 15,
     "metadata": {},
     "output_type": "execute_result"
    }
   ],
   "source": [
    "df"
   ]
  },
  {
   "cell_type": "code",
   "execution_count": 33,
   "metadata": {},
   "outputs": [
    {
     "data": {
      "text/html": [
       "<div>\n",
       "<style scoped>\n",
       "    .dataframe tbody tr th:only-of-type {\n",
       "        vertical-align: middle;\n",
       "    }\n",
       "\n",
       "    .dataframe tbody tr th {\n",
       "        vertical-align: top;\n",
       "    }\n",
       "\n",
       "    .dataframe thead th {\n",
       "        text-align: right;\n",
       "    }\n",
       "</style>\n",
       "<table border=\"1\" class=\"dataframe\">\n",
       "  <thead>\n",
       "    <tr style=\"text-align: right;\">\n",
       "      <th></th>\n",
       "      <th></th>\n",
       "      <th>Location</th>\n",
       "      <th>Cases</th>\n",
       "      <th>Deaths</th>\n",
       "      <th>Recovery</th>\n",
       "      <th>References</th>\n",
       "      <th>Rate</th>\n",
       "      <th>Percent Death Rate</th>\n",
       "    </tr>\n",
       "  </thead>\n",
       "  <tbody>\n",
       "    <tr>\n",
       "      <th>0</th>\n",
       "      <td></td>\n",
       "      <td>World[e]</td>\n",
       "      <td>105461681</td>\n",
       "      <td>2300891</td>\n",
       "      <td>58645012</td>\n",
       "      <td>[2]</td>\n",
       "      <td>2.181732</td>\n",
       "      <td>2.181732</td>\n",
       "    </tr>\n",
       "    <tr>\n",
       "      <th>1</th>\n",
       "      <td></td>\n",
       "      <td>UnitedStates[f]</td>\n",
       "      <td>27054709</td>\n",
       "      <td>463090</td>\n",
       "      <td>11166500</td>\n",
       "      <td>[9]</td>\n",
       "      <td>1.711680</td>\n",
       "      <td>1.711680</td>\n",
       "    </tr>\n",
       "    <tr>\n",
       "      <th>2</th>\n",
       "      <td></td>\n",
       "      <td>India</td>\n",
       "      <td>10802591</td>\n",
       "      <td>154823</td>\n",
       "      <td>10496308</td>\n",
       "      <td>[10]</td>\n",
       "      <td>1.433202</td>\n",
       "      <td>1.433202</td>\n",
       "    </tr>\n",
       "    <tr>\n",
       "      <th>3</th>\n",
       "      <td></td>\n",
       "      <td>Brazil</td>\n",
       "      <td>9449088</td>\n",
       "      <td>230127</td>\n",
       "      <td>8326798</td>\n",
       "      <td>[11][12]</td>\n",
       "      <td>2.435441</td>\n",
       "      <td>2.435441</td>\n",
       "    </tr>\n",
       "    <tr>\n",
       "      <th>4</th>\n",
       "      <td></td>\n",
       "      <td>Russia[g]</td>\n",
       "      <td>3951233</td>\n",
       "      <td>76229</td>\n",
       "      <td>3436326</td>\n",
       "      <td>[13]</td>\n",
       "      <td>1.929246</td>\n",
       "      <td>1.929246</td>\n",
       "    </tr>\n",
       "    <tr>\n",
       "      <th>...</th>\n",
       "      <td>...</td>\n",
       "      <td>...</td>\n",
       "      <td>...</td>\n",
       "      <td>...</td>\n",
       "      <td>...</td>\n",
       "      <td>...</td>\n",
       "      <td>...</td>\n",
       "      <td>...</td>\n",
       "    </tr>\n",
       "    <tr>\n",
       "      <th>234</th>\n",
       "      <td></td>\n",
       "      <td>AmericanSamoa</td>\n",
       "      <td>4</td>\n",
       "      <td>0</td>\n",
       "      <td>3</td>\n",
       "      <td>[346]</td>\n",
       "      <td>0.000000</td>\n",
       "      <td>0.000000</td>\n",
       "    </tr>\n",
       "    <tr>\n",
       "      <th>235</th>\n",
       "      <td></td>\n",
       "      <td>Samoa</td>\n",
       "      <td>2</td>\n",
       "      <td>0</td>\n",
       "      <td>2</td>\n",
       "      <td>[347]</td>\n",
       "      <td>0.000000</td>\n",
       "      <td>0.000000</td>\n",
       "    </tr>\n",
       "    <tr>\n",
       "      <th>236</th>\n",
       "      <td></td>\n",
       "      <td>FederatedStatesofMicronesia</td>\n",
       "      <td>1</td>\n",
       "      <td>0</td>\n",
       "      <td>1</td>\n",
       "      <td>[348]</td>\n",
       "      <td>0.000000</td>\n",
       "      <td>0.000000</td>\n",
       "    </tr>\n",
       "    <tr>\n",
       "      <th>237</th>\n",
       "      <td></td>\n",
       "      <td>Vanuatu</td>\n",
       "      <td>1</td>\n",
       "      <td>0</td>\n",
       "      <td>1</td>\n",
       "      <td>[349]</td>\n",
       "      <td>0.000000</td>\n",
       "      <td>0.000000</td>\n",
       "    </tr>\n",
       "    <tr>\n",
       "      <th>238</th>\n",
       "      <td></td>\n",
       "      <td>Tanzania[be]</td>\n",
       "      <td>0</td>\n",
       "      <td>0</td>\n",
       "      <td>0</td>\n",
       "      <td>[351][352]</td>\n",
       "      <td>NaN</td>\n",
       "      <td>NaN</td>\n",
       "    </tr>\n",
       "  </tbody>\n",
       "</table>\n",
       "<p>239 rows × 8 columns</p>\n",
       "</div>"
      ],
      "text/plain": [
       "                           Location      Cases   Deaths  Recovery  References  \\\n",
       "0                          World[e]  105461681  2300891  58645012         [2]   \n",
       "1                   UnitedStates[f]   27054709   463090  11166500         [9]   \n",
       "2                             India   10802591   154823  10496308        [10]   \n",
       "3                            Brazil    9449088   230127   8326798    [11][12]   \n",
       "4                         Russia[g]    3951233    76229   3436326        [13]   \n",
       "..  ..                          ...        ...      ...       ...         ...   \n",
       "234                   AmericanSamoa          4        0         3       [346]   \n",
       "235                           Samoa          2        0         2       [347]   \n",
       "236     FederatedStatesofMicronesia          1        0         1       [348]   \n",
       "237                         Vanuatu          1        0         1       [349]   \n",
       "238                    Tanzania[be]          0        0         0  [351][352]   \n",
       "\n",
       "         Rate  Percent Death Rate  \n",
       "0    2.181732            2.181732  \n",
       "1    1.711680            1.711680  \n",
       "2    1.433202            1.433202  \n",
       "3    2.435441            2.435441  \n",
       "4    1.929246            1.929246  \n",
       "..        ...                 ...  \n",
       "234  0.000000            0.000000  \n",
       "235  0.000000            0.000000  \n",
       "236  0.000000            0.000000  \n",
       "237  0.000000            0.000000  \n",
       "238       NaN                 NaN  \n",
       "\n",
       "[239 rows x 8 columns]"
      ]
     },
     "execution_count": 33,
     "metadata": {},
     "output_type": "execute_result"
    }
   ],
   "source": [
    "df['Percent Death Rate'] = (df['Deaths'] / df['Cases']) * 100\n",
    "df"
   ]
  },
  {
   "cell_type": "code",
   "execution_count": 67,
   "metadata": {},
   "outputs": [],
   "source": [
    "small_total = df[['Location', 'Cases']].head(15)\n",
    "df_test = small_total.iloc[1:]"
   ]
  },
  {
   "cell_type": "code",
   "execution_count": 68,
   "metadata": {},
   "outputs": [
    {
     "data": {
      "text/plain": [
       "Text(0.5, 0.98, 'Total Cases in Top 15 Countries')"
      ]
     },
     "execution_count": 68,
     "metadata": {},
     "output_type": "execute_result"
    },
    {
     "data": {
      "image/png": "[encoded data removed]",
      "text/plain": [
       "<Figure size 432x288 with 1 Axes>"
      ]
     },
     "metadata": {
      "needs_background": "light"
     },
     "output_type": "display_data"
    }
   ],
   "source": [
    "fig, ax = plt.subplots()\n",
    "ax = sns.barplot(x=df_test['Location'], y=df_test['Cases'], color='pink')\n",
    "ax.xaxis_date()     # interpret the x-axis values as dates\n",
    "fig.autofmt_xdate()\n",
    "plt.suptitle('Total Cases in Top 15 Countries')"
   ]
  },
  {
   "cell_type": "code",
   "execution_count": 70,
   "metadata": {},
   "outputs": [],
   "source": [
    "deaths = df[['Location', 'Deaths']].head(15)\n",
    "df_deaths = deaths.iloc[1:]"
   ]
  },
  {
   "cell_type": "code",
   "execution_count": 71,
   "metadata": {},
   "outputs": [
    {
     "data": {
      "text/plain": [
       "Text(0.5, 0.98, 'Total Deaths in Top 15 Countries')"
      ]
     },
     "execution_count": 71,
     "metadata": {},
     "output_type": "execute_result"
    },
    {
     "data": {
      "image/png": "[encoded data removed]",
      "text/plain": [
       "<Figure size 432x288 with 1 Axes>"
      ]
     },
     "metadata": {
      "needs_background": "light"
     },
     "output_type": "display_data"
    }
   ],
   "source": [
    "fig, ax = plt.subplots()\n",
    "ax = sns.barplot(x=df_deaths['Location'], y=df_deaths['Deaths'], color='lightgreen')\n",
    "ax.xaxis_date()     # interpret the x-axis values as dates\n",
    "fig.autofmt_xdate()\n",
    "plt.suptitle('Total Deaths in Top 15 Countries')"
   ]
  },
  {
   "cell_type": "code",
   "execution_count": 72,
   "metadata": {},
   "outputs": [],
   "source": [
    "small = df[['Location', 'Percent Death Rate']].head(15)"
   ]
  },
  {
   "cell_type": "code",
   "execution_count": 73,
   "metadata": {},
   "outputs": [
    {
     "data": {
      "text/plain": [
       "Text(0.5, 0.98, 'Death Rate in Top 15 Countries')"
      ]
     },
     "execution_count": 73,
     "metadata": {},
     "output_type": "execute_result"
    },
    {
     "data": {
      "image/png": "[encoded data removed]",
      "text/plain": [
       "<Figure size 432x288 with 1 Axes>"
      ]
     },
     "metadata": {
      "needs_background": "light"
     },
     "output_type": "display_data"
    }
   ],
   "source": [
    "fig, ax = plt.subplots()\n",
    "ax = sns.barplot(x=small['Location'], y=small['Percent Death Rate'], color='lightskyblue')\n",
    "ax.xaxis_date()     # interpret the x-axis values as dates\n",
    "fig.autofmt_xdate()\n",
    "plt.suptitle('Death Rate in Top 15 Countries')"
   ]
  },
  {
   "cell_type": "code",
   "execution_count": 75,
   "metadata": {},
   "outputs": [
    {
     "data": {
      "text/plain": [
       "Text(0.5, 0.98, 'KDE Distribution of Deaths by Location')"
      ]
     },
     "execution_count": 75,
     "metadata": {},
     "output_type": "execute_result"
    },
    {
     "data": {
      "image/png": "[encoded data removed]",
      "text/plain": [
       "<Figure size 432x288 with 1 Axes>"
      ]
     },
     "metadata": {
      "needs_background": "light"
     },
     "output_type": "display_data"
    }
   ],
   "source": [
    "sns.kdeplot(df['Deaths'])\n",
    "plt.suptitle('KDE Distribution of Deaths by Location')"
   ]
  },
  {
   "cell_type": "code",
   "execution_count": null,
   "metadata": {},
   "outputs": [],
   "source": []
  }
 ],
 "metadata": {
  "kernelspec": {
   "display_name": "Python 3",
   "language": "python",
   "name": "python3"
  },
  "language_info": {
   "codemirror_mode": {
    "name": "ipython",
    "version": 3
   },
   "file_extension": ".py",
   "mimetype": "text/x-python",
   "name": "python",
   "nbconvert_exporter": "python",
   "pygments_lexer": "ipython3",
   "version": "3.7.6"
  }
 },
 "nbformat": 4,
 "nbformat_minor": 4
}
