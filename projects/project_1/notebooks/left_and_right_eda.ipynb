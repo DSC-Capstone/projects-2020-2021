{
 "cells": [
  {
   "cell_type": "code",
   "execution_count": 17,
   "metadata": {},
   "outputs": [],
   "source": [
    "import pandas as pd\n",
    "import ast"
   ]
  },
  {
   "cell_type": "code",
   "execution_count": 21,
   "metadata": {},
   "outputs": [
    {
     "name": "stderr",
     "output_type": "stream",
     "text": [
      "/Users/hannahpeterson/opt/anaconda3/lib/python3.7/site-packages/IPython/core/interactiveshell.py:3058: DtypeWarning: Columns (0,9) have mixed types.Specify dtype option on import or set low_memory=False.\n",
      "  interactivity=interactivity, compiler=compiler, result=result)\n"
     ]
    },
    {
     "data": {
      "text/plain": [
       "(414206, 11)"
      ]
     },
     "execution_count": 21,
     "metadata": {},
     "output_type": "execute_result"
    }
   ],
   "source": [
    "six = pd.read_csv(\"data/temp/2016/clean_tweets.csv\")\n",
    "six['full_text'] = six['full_text'].apply(lambda x: str(x).lower())\n",
    "six.shape"
   ]
  },
  {
   "cell_type": "code",
   "execution_count": 5,
   "metadata": {},
   "outputs": [
    {
     "data": {
      "text/plain": [
       "(869645, 11)"
      ]
     },
     "execution_count": 5,
     "metadata": {},
     "output_type": "execute_result"
    }
   ],
   "source": [
    "twenty = pd.read_csv(\"data/temp/2020/clean_tweets.csv\")\n",
    "twenty.shape"
   ]
  },
  {
   "cell_type": "code",
   "execution_count": 19,
   "metadata": {},
   "outputs": [
    {
     "data": {
      "text/html": [
       "<div>\n",
       "<style scoped>\n",
       "    .dataframe tbody tr th:only-of-type {\n",
       "        vertical-align: middle;\n",
       "    }\n",
       "\n",
       "    .dataframe tbody tr th {\n",
       "        vertical-align: top;\n",
       "    }\n",
       "\n",
       "    .dataframe thead th {\n",
       "        text-align: right;\n",
       "    }\n",
       "</style>\n",
       "<table border=\"1\" class=\"dataframe\">\n",
       "  <thead>\n",
       "    <tr style=\"text-align: right;\">\n",
       "      <th></th>\n",
       "      <th>tweet_id</th>\n",
       "      <th>full_text</th>\n",
       "      <th>created_at</th>\n",
       "      <th>hashtags</th>\n",
       "      <th>screen_name</th>\n",
       "      <th>location</th>\n",
       "      <th>followers_count</th>\n",
       "      <th>friends_count</th>\n",
       "      <th>retweet_count</th>\n",
       "      <th>favorite_count</th>\n",
       "      <th>lang</th>\n",
       "    </tr>\n",
       "  </thead>\n",
       "  <tbody>\n",
       "    <tr>\n",
       "      <th>0</th>\n",
       "      <td>783452798641926144</td>\n",
       "      <td>someone hit \"publish\" in the cms instead of \"d...</td>\n",
       "      <td>2016-10-04 23:44:37+00:00</td>\n",
       "      <td>[]</td>\n",
       "      <td>afahy</td>\n",
       "      <td>New York, NY</td>\n",
       "      <td>685.0</td>\n",
       "      <td>4970.0</td>\n",
       "      <td>0.0</td>\n",
       "      <td>0</td>\n",
       "      <td>en</td>\n",
       "    </tr>\n",
       "    <tr>\n",
       "      <th>1</th>\n",
       "      <td>783476128161947649</td>\n",
       "      <td>rt @rolandsmartin: interesting that @mike_penc...</td>\n",
       "      <td>2016-10-05 01:17:19+00:00</td>\n",
       "      <td>['debates']</td>\n",
       "      <td>mabelinda620</td>\n",
       "      <td>Brooklyn,New York</td>\n",
       "      <td>778.0</td>\n",
       "      <td>1683.0</td>\n",
       "      <td>16.0</td>\n",
       "      <td>0</td>\n",
       "      <td>en</td>\n",
       "    </tr>\n",
       "    <tr>\n",
       "      <th>2</th>\n",
       "      <td>783483397889024000</td>\n",
       "      <td>just in case you forgot about mike pence’s rec...</td>\n",
       "      <td>2016-10-05 01:46:13+00:00</td>\n",
       "      <td>['vpdebate']</td>\n",
       "      <td>mic</td>\n",
       "      <td>NYC</td>\n",
       "      <td>179573.0</td>\n",
       "      <td>1221.0</td>\n",
       "      <td>50.0</td>\n",
       "      <td>43</td>\n",
       "      <td>en</td>\n",
       "    </tr>\n",
       "    <tr>\n",
       "      <th>3</th>\n",
       "      <td>783488032418648064</td>\n",
       "      <td>rt @krismacgregor: sooo awkward listening to @...</td>\n",
       "      <td>2016-10-05 02:04:38+00:00</td>\n",
       "      <td>['putin']</td>\n",
       "      <td>miomeinmio</td>\n",
       "      <td>Arizona</td>\n",
       "      <td>190.0</td>\n",
       "      <td>888.0</td>\n",
       "      <td>3.0</td>\n",
       "      <td>0</td>\n",
       "      <td>en</td>\n",
       "    </tr>\n",
       "    <tr>\n",
       "      <th>4</th>\n",
       "      <td>783491218076491776</td>\n",
       "      <td>rt halliejackson: pence's split w/trump on put...</td>\n",
       "      <td>2016-10-05 02:17:17+00:00</td>\n",
       "      <td>[]</td>\n",
       "      <td>LOVATOFEATLARRY</td>\n",
       "      <td>NaN</td>\n",
       "      <td>4949.0</td>\n",
       "      <td>4838.0</td>\n",
       "      <td>0.0</td>\n",
       "      <td>0</td>\n",
       "      <td>en</td>\n",
       "    </tr>\n",
       "  </tbody>\n",
       "</table>\n",
       "</div>"
      ],
      "text/plain": [
       "             tweet_id                                          full_text  \\\n",
       "0  783452798641926144  someone hit \"publish\" in the cms instead of \"d...   \n",
       "1  783476128161947649  rt @rolandsmartin: interesting that @mike_penc...   \n",
       "2  783483397889024000  just in case you forgot about mike pence’s rec...   \n",
       "3  783488032418648064  rt @krismacgregor: sooo awkward listening to @...   \n",
       "4  783491218076491776  rt halliejackson: pence's split w/trump on put...   \n",
       "\n",
       "                  created_at      hashtags      screen_name  \\\n",
       "0  2016-10-04 23:44:37+00:00            []            afahy   \n",
       "1  2016-10-05 01:17:19+00:00   ['debates']     mabelinda620   \n",
       "2  2016-10-05 01:46:13+00:00  ['vpdebate']              mic   \n",
       "3  2016-10-05 02:04:38+00:00     ['putin']       miomeinmio   \n",
       "4  2016-10-05 02:17:17+00:00            []  LOVATOFEATLARRY   \n",
       "\n",
       "            location  followers_count  friends_count  retweet_count  \\\n",
       "0       New York, NY            685.0         4970.0            0.0   \n",
       "1  Brooklyn,New York            778.0         1683.0           16.0   \n",
       "2                NYC         179573.0         1221.0           50.0   \n",
       "3            Arizona            190.0          888.0            3.0   \n",
       "4                NaN           4949.0         4838.0            0.0   \n",
       "\n",
       "  favorite_count lang  \n",
       "0              0   en  \n",
       "1              0   en  \n",
       "2             43   en  \n",
       "3              0   en  \n",
       "4              0   en  "
      ]
     },
     "execution_count": 19,
     "metadata": {},
     "output_type": "execute_result"
    }
   ],
   "source": [
    "six.head()"
   ]
  },
  {
   "cell_type": "code",
   "execution_count": 43,
   "metadata": {},
   "outputs": [],
   "source": [
    "def get_top_n_hashtags(clean, top_n):\n",
    "    non_hashtags = clean['hashtags'].loc[clean['hashtags'].str.startswith(\"[\") != True]\n",
    "    clean_hashtags = clean.drop(non_hashtags.index, axis=0)\n",
    "    \n",
    "    # Convert to lowercase\n",
    "    clean_hashtags['hashtags'] = clean_hashtags['hashtags'].apply(lambda x: x.lower())\n",
    "\n",
    "    #Turns the string of iterables into a list\n",
    "    clean_hashtags['hashtags'] = clean_hashtags['hashtags'].apply(lambda x: ast.literal_eval(x))\n",
    "\n",
    "    all_hashtags = clean_hashtags['hashtags'].explode().dropna()\n",
    "    top_n_hashtags = all_hashtags.value_counts().head(n=top_n)\n",
    "    return top_n_hashtags"
   ]
  },
  {
   "cell_type": "code",
   "execution_count": 65,
   "metadata": {},
   "outputs": [
    {
     "data": {
      "text/plain": [
       "trump                    11568\n",
       "demsinphilly              8323\n",
       "rncincle                  7226\n",
       "debate                    6671\n",
       "debatenight               6021\n",
       "maga                      4677\n",
       "electionday               3781\n",
       "election2016              3152\n",
       "imwithher                 2935\n",
       "debates                   2273\n",
       "hillary                   2052\n",
       "clinton                   1990\n",
       "nevertrump                1958\n",
       "demconvention             1943\n",
       "debates2016               1599\n",
       "trumppence16              1559\n",
       "vpdebate                  1513\n",
       "tcot                      1357\n",
       "dnc                       1317\n",
       "neverhillary              1251\n",
       "trumptrain                1244\n",
       "hillaryclinton            1117\n",
       "gop                       1052\n",
       "gopconvention              968\n",
       "wikileaks                  907\n",
       "trump2016                  891\n",
       "dncinphl                   886\n",
       "donaldtrump                853\n",
       "news                       823\n",
       "americafirst               725\n",
       "crookedhillary             685\n",
       "draintheswamp              669\n",
       "makeamericagreatagain      617\n",
       "electionnight              579\n",
       "strongertogether           579\n",
       "vote                       567\n",
       "p2                         566\n",
       "podestaemails              555\n",
       "dncleak                    545\n",
       "cnn                        524\n",
       "votetrump                  494\n",
       "basketofdeplorables        480\n",
       "election                   464\n",
       "ccot                       436\n",
       "trumptapes                 414\n",
       "uniteblue                  394\n",
       "rnc                        391\n",
       "politics                   388\n",
       "usa                        384\n",
       "debate2016                 338\n",
       "Name: hashtags, dtype: int64"
      ]
     },
     "execution_count": 65,
     "metadata": {},
     "output_type": "execute_result"
    }
   ],
   "source": [
    "# top_hashtags_2016 = get_top_n_hashtags(six, 100)\n",
    "top_hashtags_2016[:50]"
   ]
  },
  {
   "cell_type": "code",
   "execution_count": 37,
   "metadata": {},
   "outputs": [],
   "source": [
    "# Lists of left- and right-leaning hashtags\n",
    "l_htags_2016 = [\"imwithher\", \"nevertrump\", \"strongertogether\", \"uniteblue\", \"dumptrump\", \"feelthebern\",\n",
    "       \"blacklivesmatter\", \"voteblue\", \"hillary2016\", \"donthecon\"]\n",
    "r_htags_2016 = [\"neverhillary\", \"maga\", \"trumppence16\", \"trump2016\", \"crookedhillary\", \"draintheswamp\",\n",
    "        \"makeamericagreatagain\", \"votetrump\", \"demexit\"]"
   ]
  },
  {
   "cell_type": "code",
   "execution_count": 68,
   "metadata": {},
   "outputs": [],
   "source": [
    "# Selects subset of df that contains at least one of the keywords in the specified col\n",
    "def search_keywords(df, col, keywords):\n",
    "    pattern = '|'.join(keywords)\n",
    "    df = df[df[col].str.contains(pattern)]\n",
    "    return df"
   ]
  },
  {
   "cell_type": "code",
   "execution_count": 69,
   "metadata": {},
   "outputs": [
    {
     "name": "stdout",
     "output_type": "stream",
     "text": [
      "(6754, 11)\n"
     ]
    }
   ],
   "source": [
    "left_2016 = search_keywords(six, 'full_text', l_htags_2016)\n",
    "print(left_2016.shape)"
   ]
  },
  {
   "cell_type": "code",
   "execution_count": 61,
   "metadata": {},
   "outputs": [
    {
     "name": "stdout",
     "output_type": "stream",
     "text": [
      "(10787, 11)\n"
     ]
    }
   ],
   "source": [
    "right_2016 = search_keywords(six, r_htags_2016)\n",
    "print(right_2016.shape)"
   ]
  },
  {
   "cell_type": "code",
   "execution_count": 51,
   "metadata": {},
   "outputs": [
    {
     "data": {
      "text/plain": [
       "vote                          2981\n",
       "trump                         2895\n",
       "covid19                       2627\n",
       "maga                          2593\n",
       "trump2020                     2047\n",
       "bidenharris2020               1723\n",
       "trumpvirus                    1233\n",
       "debates2020                   1168\n",
       "biden                          909\n",
       "coronavirus                    906\n",
       "bountygate                     883\n",
       "demconvention                  768\n",
       "joebiden                       716\n",
       "breaking                       636\n",
       "election2020                   626\n",
       "vpdebate                       562\n",
       "covid                          521\n",
       "trumpisanationaldisgrace       493\n",
       "maga2020                       484\n",
       "blacklivesmatter               484\n",
       "bidenharris                    481\n",
       "biden2020                      469\n",
       "democrats                      446\n",
       "voteblue                       442\n",
       "votebluetosaveamerica          418\n",
       "votehimout                     408\n",
       "obamagate                      403\n",
       "trump2020landslide             402\n",
       "donaldtrump                    397\n",
       "blm                            397\n",
       "votebidenharris2020            389\n",
       "scotus                         377\n",
       "votebluetoendthisnightmare     368\n",
       "kag                            367\n",
       "trumpknew                      366\n",
       "rnc2020                        363\n",
       "traitortrump                   361\n",
       "bidentownhall                  360\n",
       "trumpisalaughingstock          356\n",
       "foxnews                        347\n",
       "voteearly                      343\n",
       "trumpisnotwell                 324\n",
       "trumpmeltdown                  320\n",
       "usps                           305\n",
       "trumpisaloser                  299\n",
       "bidenharrislandslide2020       288\n",
       "walkaway                       277\n",
       "dumptrump                      276\n",
       "china                          275\n",
       "america                        268\n",
       "Name: hashtags, dtype: int64"
      ]
     },
     "execution_count": 51,
     "metadata": {},
     "output_type": "execute_result"
    }
   ],
   "source": [
    "top_hashtags_2020 = get_top_n_hashtags(twenty, 100)\n",
    "top_hashtags_2020[:50]"
   ]
  },
  {
   "cell_type": "code",
   "execution_count": 62,
   "metadata": {},
   "outputs": [],
   "source": [
    "# Lists of left- and right-leaning hashtags\n",
    "l_htags_2020 = [\"trumpisanationaldisgrace\", \"bidenharris2020\", \"blacklivesmatter\", \"biden2020\",\n",
    "                  \"voteblue\", \"votebluetosaveamerica\", \"votehimout\", \"blm\", \"votebidenharris2020\",\n",
    "                  \"votebluetoendthisnightmare\", \"traitortrump\", \"trumpisalaughingstock\", \"trumpisaloser\",\n",
    "                  \"trumpmeltdown\", \"dumptrump\", \"bidenharris\"]\n",
    "r_htags_2020 = [\"maga\", \"trump2020\", \"maga2020\", \"trump2020landslide\"]"
   ]
  },
  {
   "cell_type": "code",
   "execution_count": 63,
   "metadata": {},
   "outputs": [
    {
     "name": "stdout",
     "output_type": "stream",
     "text": [
      "(410, 11)\n"
     ]
    }
   ],
   "source": [
    "left_2020 = search_keywords(twenty, l_htags_2020)\n",
    "print(left_2020.shape)"
   ]
  },
  {
   "cell_type": "code",
   "execution_count": 64,
   "metadata": {},
   "outputs": [
    {
     "name": "stdout",
     "output_type": "stream",
     "text": [
      "(1804, 11)\n"
     ]
    }
   ],
   "source": [
    "right_2020 = search_keywords(twenty, r_htags_2020)\n",
    "print(right_2020.shape)"
   ]
  },
  {
   "cell_type": "code",
   "execution_count": 76,
   "metadata": {},
   "outputs": [
    {
     "data": {
      "text/plain": [
       "5"
      ]
     },
     "execution_count": 76,
     "metadata": {},
     "output_type": "execute_result"
    }
   ],
   "source": [
    "trump = twenty['screen_name']==\"KamalaHarris\"\n",
    "sum(trump)"
   ]
  },
  {
   "cell_type": "code",
   "execution_count": null,
   "metadata": {},
   "outputs": [],
   "source": []
  }
 ],
 "metadata": {
  "kernelspec": {
   "display_name": "Python 3",
   "language": "python",
   "name": "python3"
  },
  "language_info": {
   "codemirror_mode": {
    "name": "ipython",
    "version": 3
   },
   "file_extension": ".py",
   "mimetype": "text/x-python",
   "name": "python",
   "nbconvert_exporter": "python",
   "pygments_lexer": "ipython3",
   "version": "3.7.4"
  }
 },
 "nbformat": 4,
 "nbformat_minor": 2
}
