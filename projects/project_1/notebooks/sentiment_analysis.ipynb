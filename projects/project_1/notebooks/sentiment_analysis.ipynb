{
 "cells": [
  {
   "cell_type": "code",
   "execution_count": 1,
   "metadata": {},
   "outputs": [],
   "source": [
    "import pandas as pd\n",
    "import numpy as np"
   ]
  },
  {
   "cell_type": "code",
   "execution_count": 2,
   "metadata": {},
   "outputs": [
    {
     "name": "stderr",
     "output_type": "stream",
     "text": [
      "/anaconda3/lib/python3.7/site-packages/IPython/core/interactiveshell.py:3051: DtypeWarning: Columns (1,11) have mixed types. Specify dtype option on import or set low_memory=False.\n",
      "  interactivity=interactivity, compiler=compiler, result=result)\n"
     ]
    }
   ],
   "source": [
    "data16 = pd.read_csv(\"clean_tweets_2016.csv\")"
   ]
  },
  {
   "cell_type": "code",
   "execution_count": 3,
   "metadata": {},
   "outputs": [],
   "source": [
    "data20 = pd.read_csv(\"clean_tweets_2020.csv\")"
   ]
  },
  {
   "cell_type": "code",
   "execution_count": 5,
   "metadata": {
    "scrolled": false
   },
   "outputs": [],
   "source": [
    "from textblob import TextBlob\n"
   ]
  },
  {
   "cell_type": "code",
   "execution_count": 6,
   "metadata": {},
   "outputs": [],
   "source": [
    "def sentiment_polarity(text):\n",
    "    blob = TextBlob(text) \n",
    "    polar = blob.sentiment.polarity\n",
    "    return polar"
   ]
  },
  {
   "cell_type": "code",
   "execution_count": 7,
   "metadata": {},
   "outputs": [],
   "source": [
    "def sentiment_subjectivity(text):\n",
    "    blob = TextBlob(text) \n",
    "    sub = blob.sentiment.subjectivity\n",
    "    return sub"
   ]
  },
  {
   "cell_type": "code",
   "execution_count": 8,
   "metadata": {},
   "outputs": [],
   "source": [
    "pd.set_option('display.max_colwidth', -1)"
   ]
  },
  {
   "cell_type": "code",
   "execution_count": 10,
   "metadata": {},
   "outputs": [],
   "source": [
    "data16['textPolarity'] = data16['full_text'].apply(sentiment_polarity)\n",
    "data20['textPolarity'] = data20['full_text'].apply(sentiment_polarity)"
   ]
  },
  {
   "cell_type": "code",
   "execution_count": 11,
   "metadata": {},
   "outputs": [],
   "source": [
    "data16['textSubjectivity'] = data16['full_text'].apply(sentiment_subjectivity)\n",
    "data20['textSubjectivity'] = data20['full_text'].apply(sentiment_subjectivity)"
   ]
  },
  {
   "cell_type": "code",
   "execution_count": 12,
   "metadata": {
    "scrolled": true
   },
   "outputs": [
    {
     "data": {
      "text/html": [
       "<div>\n",
       "<style scoped>\n",
       "    .dataframe tbody tr th:only-of-type {\n",
       "        vertical-align: middle;\n",
       "    }\n",
       "\n",
       "    .dataframe tbody tr th {\n",
       "        vertical-align: top;\n",
       "    }\n",
       "\n",
       "    .dataframe thead th {\n",
       "        text-align: right;\n",
       "    }\n",
       "</style>\n",
       "<table border=\"1\" class=\"dataframe\">\n",
       "  <thead>\n",
       "    <tr style=\"text-align: right;\">\n",
       "      <th></th>\n",
       "      <th>tweet_id</th>\n",
       "      <th>tweet_id.1</th>\n",
       "      <th>full_text</th>\n",
       "      <th>created_at</th>\n",
       "      <th>hashtags</th>\n",
       "      <th>user_mentions</th>\n",
       "      <th>screen_name</th>\n",
       "      <th>location</th>\n",
       "      <th>followers_count</th>\n",
       "      <th>friends_count</th>\n",
       "      <th>retweet_count</th>\n",
       "      <th>favorite_count</th>\n",
       "      <th>lang</th>\n",
       "      <th>textPolarity</th>\n",
       "      <th>textSubjectivity</th>\n",
       "    </tr>\n",
       "  </thead>\n",
       "  <tbody>\n",
       "    <tr>\n",
       "      <th>0</th>\n",
       "      <td>1791459</td>\n",
       "      <td>1303406524518211584</td>\n",
       "      <td>rt @andyostroy: @realdonaldtrump hey #trump...how's that #stockmarket doing?</td>\n",
       "      <td>2020-09-08 18:55:06+00:00</td>\n",
       "      <td>['trump', 'stockmarket']</td>\n",
       "      <td>['AndyOstroy', 'realDonaldTrump']</td>\n",
       "      <td>hapkidogal</td>\n",
       "      <td>NaN</td>\n",
       "      <td>4487.0</td>\n",
       "      <td>4999.0</td>\n",
       "      <td>12.0</td>\n",
       "      <td>0.0</td>\n",
       "      <td>en</td>\n",
       "      <td>0.000000</td>\n",
       "      <td>0.000000</td>\n",
       "    </tr>\n",
       "    <tr>\n",
       "      <th>1</th>\n",
       "      <td>1291192</td>\n",
       "      <td>1299824066417889281</td>\n",
       "      <td>rt @sentedcruz: welcoming @realdonaldtrump to #tx with @govabbott. we're meeting with local officials and assessing #hurricanelaura damage.…</td>\n",
       "      <td>2020-08-29 21:39:41+00:00</td>\n",
       "      <td>['tx', 'hurricanelaura']</td>\n",
       "      <td>['SenTedCruz', 'realDonaldTrump', 'GovAbbott']</td>\n",
       "      <td>LettyFont</td>\n",
       "      <td>Florida, USA</td>\n",
       "      <td>219.0</td>\n",
       "      <td>1425.0</td>\n",
       "      <td>1308.0</td>\n",
       "      <td>0.0</td>\n",
       "      <td>en</td>\n",
       "      <td>0.000000</td>\n",
       "      <td>0.000000</td>\n",
       "    </tr>\n",
       "    <tr>\n",
       "      <th>2</th>\n",
       "      <td>186180</td>\n",
       "      <td>1291091604908867585</td>\n",
       "      <td>rt @mmpadellan: @realdonaldtrump you know you sound like a complete lunatic now, right? you should try listening to how stupid you sound.…</td>\n",
       "      <td>2020-08-05 19:20:00+00:00</td>\n",
       "      <td>[]</td>\n",
       "      <td>['mmpadellan', 'realDonaldTrump']</td>\n",
       "      <td>ReneeFiredup</td>\n",
       "      <td>USA</td>\n",
       "      <td>18845.0</td>\n",
       "      <td>20552.0</td>\n",
       "      <td>492.0</td>\n",
       "      <td>0.0</td>\n",
       "      <td>en</td>\n",
       "      <td>-0.003571</td>\n",
       "      <td>0.583929</td>\n",
       "    </tr>\n",
       "    <tr>\n",
       "      <th>3</th>\n",
       "      <td>385359</td>\n",
       "      <td>1293025537795985415</td>\n",
       "      <td>rt @thedailyedge: don’t listen to what he says. watch what he does. @realdonaldtrump is making fools out of his #maga voters every single d…</td>\n",
       "      <td>2020-08-11 03:24:46+00:00</td>\n",
       "      <td>['maga']</td>\n",
       "      <td>['TheDailyEdge', 'realDonaldTrump']</td>\n",
       "      <td>Philosophystew</td>\n",
       "      <td>Empathy is a superpower</td>\n",
       "      <td>312.0</td>\n",
       "      <td>651.0</td>\n",
       "      <td>1862.0</td>\n",
       "      <td>0.0</td>\n",
       "      <td>en</td>\n",
       "      <td>-0.071429</td>\n",
       "      <td>0.214286</td>\n",
       "    </tr>\n",
       "    <tr>\n",
       "      <th>4</th>\n",
       "      <td>5469927</td>\n",
       "      <td>1321756368681029632</td>\n",
       "      <td>rt @genebsperling: smart economists all  flagging not to buy trump’s line that a high 3rdq gdp means we are “roaring back” \\n\\n— hole is so d…</td>\n",
       "      <td>2020-10-29 10:10:49+00:00</td>\n",
       "      <td>[]</td>\n",
       "      <td>['genebsperling']</td>\n",
       "      <td>BradleyWhitford</td>\n",
       "      <td>NaN</td>\n",
       "      <td>430670.0</td>\n",
       "      <td>1824.0</td>\n",
       "      <td>113.0</td>\n",
       "      <td>0.0</td>\n",
       "      <td>en</td>\n",
       "      <td>0.124762</td>\n",
       "      <td>0.394286</td>\n",
       "    </tr>\n",
       "  </tbody>\n",
       "</table>\n",
       "</div>"
      ],
      "text/plain": [
       "   tweet_id           tweet_id.1  \\\n",
       "0  1791459   1303406524518211584   \n",
       "1  1291192   1299824066417889281   \n",
       "2  186180    1291091604908867585   \n",
       "3  385359    1293025537795985415   \n",
       "4  5469927   1321756368681029632   \n",
       "\n",
       "                                                                                                                                        full_text  \\\n",
       "0  rt @andyostroy: @realdonaldtrump hey #trump...how's that #stockmarket doing?                                                                     \n",
       "1  rt @sentedcruz: welcoming @realdonaldtrump to #tx with @govabbott. we're meeting with local officials and assessing #hurricanelaura damage.…     \n",
       "2  rt @mmpadellan: @realdonaldtrump you know you sound like a complete lunatic now, right? you should try listening to how stupid you sound.…       \n",
       "3  rt @thedailyedge: don’t listen to what he says. watch what he does. @realdonaldtrump is making fools out of his #maga voters every single d…     \n",
       "4  rt @genebsperling: smart economists all  flagging not to buy trump’s line that a high 3rdq gdp means we are “roaring back” \\n\\n— hole is so d…   \n",
       "\n",
       "                  created_at                  hashtags  \\\n",
       "0  2020-09-08 18:55:06+00:00  ['trump', 'stockmarket']   \n",
       "1  2020-08-29 21:39:41+00:00  ['tx', 'hurricanelaura']   \n",
       "2  2020-08-05 19:20:00+00:00  []                         \n",
       "3  2020-08-11 03:24:46+00:00  ['maga']                   \n",
       "4  2020-10-29 10:10:49+00:00  []                         \n",
       "\n",
       "                                    user_mentions      screen_name  \\\n",
       "0  ['AndyOstroy', 'realDonaldTrump']               hapkidogal        \n",
       "1  ['SenTedCruz', 'realDonaldTrump', 'GovAbbott']  LettyFont         \n",
       "2  ['mmpadellan', 'realDonaldTrump']               ReneeFiredup      \n",
       "3  ['TheDailyEdge', 'realDonaldTrump']             Philosophystew    \n",
       "4  ['genebsperling']                               BradleyWhitford   \n",
       "\n",
       "                  location  followers_count  friends_count  retweet_count  \\\n",
       "0  NaN                      4487.0           4999.0         12.0            \n",
       "1  Florida, USA             219.0            1425.0         1308.0          \n",
       "2  USA                      18845.0          20552.0        492.0           \n",
       "3  Empathy is a superpower  312.0            651.0          1862.0          \n",
       "4  NaN                      430670.0         1824.0         113.0           \n",
       "\n",
       "   favorite_count lang  textPolarity  textSubjectivity  \n",
       "0  0.0             en   0.000000      0.000000          \n",
       "1  0.0             en   0.000000      0.000000          \n",
       "2  0.0             en  -0.003571      0.583929          \n",
       "3  0.0             en  -0.071429      0.214286          \n",
       "4  0.0             en   0.124762      0.394286          "
      ]
     },
     "execution_count": 12,
     "metadata": {},
     "output_type": "execute_result"
    }
   ],
   "source": [
    "data20.head()"
   ]
  },
  {
   "cell_type": "code",
   "execution_count": 13,
   "metadata": {},
   "outputs": [
    {
     "data": {
      "text/plain": [
       "<matplotlib.axes._subplots.AxesSubplot at 0x1373e0390>"
      ]
     },
     "execution_count": 13,
     "metadata": {},
     "output_type": "execute_result"
    },
    {
     "data": {
      "image/png": "[encoded data removed]",
      "text/plain": [
       "<Figure size 432x288 with 1 Axes>"
      ]
     },
     "metadata": {
      "needs_background": "light"
     },
     "output_type": "display_data"
    }
   ],
   "source": [
    "data20['textSubjectivity'].hist()"
   ]
  },
  {
   "cell_type": "code",
   "execution_count": 14,
   "metadata": {},
   "outputs": [
    {
     "data": {
      "text/plain": [
       "<matplotlib.axes._subplots.AxesSubplot at 0x136d56160>"
      ]
     },
     "execution_count": 14,
     "metadata": {},
     "output_type": "execute_result"
    },
    {
     "data": {
      "image/png": "[encoded data removed]",
      "text/plain": [
       "<Figure size 432x288 with 1 Axes>"
      ]
     },
     "metadata": {
      "needs_background": "light"
     },
     "output_type": "display_data"
    }
   ],
   "source": [
    "data16['textSubjectivity'].hist()"
   ]
  },
  {
   "cell_type": "code",
   "execution_count": 15,
   "metadata": {},
   "outputs": [
    {
     "data": {
      "text/plain": [
       "<matplotlib.axes._subplots.AxesSubplot at 0x136d07160>"
      ]
     },
     "execution_count": 15,
     "metadata": {},
     "output_type": "execute_result"
    },
    {
     "data": {
      "image/png": "[encoded data removed]",
      "text/plain": [
       "<Figure size 432x288 with 1 Axes>"
      ]
     },
     "metadata": {
      "needs_background": "light"
     },
     "output_type": "display_data"
    }
   ],
   "source": [
    "data20['textPolarity'].hist()"
   ]
  },
  {
   "cell_type": "code",
   "execution_count": 16,
   "metadata": {},
   "outputs": [
    {
     "data": {
      "text/plain": [
       "<matplotlib.axes._subplots.AxesSubplot at 0x136d07c18>"
      ]
     },
     "execution_count": 16,
     "metadata": {},
     "output_type": "execute_result"
    },
    {
     "data": {
      "image/png": "[encoded data removed]",
      "text/plain": [
       "<Figure size 432x288 with 1 Axes>"
      ]
     },
     "metadata": {
      "needs_background": "light"
     },
     "output_type": "display_data"
    }
   ],
   "source": [
    "data16['textPolarity'].hist()"
   ]
  },
  {
   "cell_type": "code",
   "execution_count": 45,
   "metadata": {},
   "outputs": [
    {
     "data": {
      "text/plain": [
       "count    500000.000000\n",
       "mean     0.339926     \n",
       "std      0.317853     \n",
       "min      0.000000     \n",
       "25%      0.000000     \n",
       "50%      0.325000     \n",
       "75%      0.561905     \n",
       "max      1.000000     \n",
       "Name: textSubjectivity, dtype: float64"
      ]
     },
     "execution_count": 45,
     "metadata": {},
     "output_type": "execute_result"
    }
   ],
   "source": [
    "data20['textSubjectivity'].describe()"
   ]
  },
  {
   "cell_type": "code",
   "execution_count": 46,
   "metadata": {},
   "outputs": [
    {
     "data": {
      "text/plain": [
       "count    414173.000000\n",
       "mean     0.333088     \n",
       "std      0.332413     \n",
       "min      0.000000     \n",
       "25%      0.000000     \n",
       "50%      0.300000     \n",
       "75%      0.575000     \n",
       "max      1.000000     \n",
       "Name: textSubjectivity, dtype: float64"
      ]
     },
     "execution_count": 46,
     "metadata": {},
     "output_type": "execute_result"
    }
   ],
   "source": [
    "data16['textSubjectivity'].describe()"
   ]
  },
  {
   "cell_type": "code",
   "execution_count": 47,
   "metadata": {},
   "outputs": [
    {
     "data": {
      "text/plain": [
       "count    500000.000000\n",
       "mean     0.055675     \n",
       "std      0.291581     \n",
       "min     -1.000000     \n",
       "25%      0.000000     \n",
       "50%      0.000000     \n",
       "75%      0.178571     \n",
       "max      1.000000     \n",
       "Name: textPolarity, dtype: float64"
      ]
     },
     "execution_count": 47,
     "metadata": {},
     "output_type": "execute_result"
    }
   ],
   "source": [
    "data20['textPolarity'].describe()"
   ]
  },
  {
   "cell_type": "code",
   "execution_count": 48,
   "metadata": {},
   "outputs": [
    {
     "data": {
      "text/plain": [
       "count    414173.000000\n",
       "mean     0.053853     \n",
       "std      0.299373     \n",
       "min     -1.000000     \n",
       "25%      0.000000     \n",
       "50%      0.000000     \n",
       "75%      0.175000     \n",
       "max      1.000000     \n",
       "Name: textPolarity, dtype: float64"
      ]
     },
     "execution_count": 48,
     "metadata": {},
     "output_type": "execute_result"
    }
   ],
   "source": [
    "data16['textPolarity'].describe()"
   ]
  },
  {
   "cell_type": "code",
   "execution_count": null,
   "metadata": {},
   "outputs": [],
   "source": []
  }
 ],
 "metadata": {
  "kernelspec": {
   "display_name": "Python 3",
   "language": "python",
   "name": "python3"
  },
  "language_info": {
   "codemirror_mode": {
    "name": "ipython",
    "version": 3
   },
   "file_extension": ".py",
   "mimetype": "text/x-python",
   "name": "python",
   "nbconvert_exporter": "python",
   "pygments_lexer": "ipython3",
   "version": "3.7.3"
  }
 },
 "nbformat": 4,
 "nbformat_minor": 2
}
