{
 "cells": [
  {
   "cell_type": "markdown",
   "metadata": {},
   "source": [
    "This notebook compares NDCG scores of the three models (random, top popular, and LightFM's pure collaborative filtering model) across different data preprocessing steps and metric calculations (specifically, the minimum interactions needed for a user be included in the dataset and the number of scores to consider for NDCG calculation). "
   ]
  },
  {
   "cell_type": "code",
   "execution_count": 1,
   "metadata": {},
   "outputs": [
    {
     "name": "stderr",
     "output_type": "stream",
     "text": [
      "C:\\Users\\Amanda\\Anaconda3\\lib\\site-packages\\lightfm\\_lightfm_fast.py:10: UserWarning: LightFM was compiled without OpenMP support. Only a single thread will be used.\n",
      "  \"LightFM was compiled without OpenMP support. \"\n"
     ]
    }
   ],
   "source": [
    "#imports\n",
    "import sys\n",
    "sys.path.insert(0,'../src/models') \n",
    "sys.path.insert(0,'../src/data')\n",
    "\n",
    "from fbpreprocessing import create_fbcommenters, create_UI_interactions\n",
    "from model_preprocessing import get_data \n",
    "from run_models import run_models"
   ]
  },
  {
   "cell_type": "code",
   "execution_count": 2,
   "metadata": {},
   "outputs": [],
   "source": [
    "# paths\n",
    "comments_path = '../data/raw/comments.csv'\n",
    "fbcommenters_path = '../data/preprocessed/fbcommenters.csv'\n",
    "user_item_interactions_path = '../data/preprocessed/user_item_interactions.csv'"
   ]
  },
  {
   "cell_type": "markdown",
   "metadata": {},
   "source": [
    "The function `run` will do the data preprocessing steps needed for this analysis and run the results of the three models. It takes in parameters `d` and `k`:\n",
    "- `d` is the minimum interactions needed for a user be included in the dataset. i.e. if d is 5, then any user with less than 5 interactions will not have their interactions show up in `user_item_interactions.csv`\n",
    "- `k` is the number of scores to consider for NDCG (it takes the top k scores). k=None defaults to use all the scores. This comes from sklearn's [NDCG](https://scikit-learn.org/stable/modules/generated/sklearn.metrics.ndcg_score.html) documentation."
   ]
  },
  {
   "cell_type": "code",
   "execution_count": 3,
   "metadata": {},
   "outputs": [],
   "source": [
    "def run(d=None,k=None):\n",
    "    create_fbcommenters(comments_path, fbcommenters_path, d)\n",
    "    create_UI_interactions(comments_path, fbcommenters_path, user_item_interactions_path)\n",
    "    data = get_data(user_item_interactions_path)\n",
    "    run_models(data, k)"
   ]
  },
  {
   "cell_type": "markdown",
   "metadata": {},
   "source": [
    "When keeping k as None, as d increases (from 5 to 20) the NDCG increases for all three recommendation models. This is intuitive since dropping users with little interactions will decrease the noise in the models. This increase is more prominent with top popular and LightFM versus the random recommender.\n"
   ]
  },
  {
   "cell_type": "code",
   "execution_count": 4,
   "metadata": {},
   "outputs": [
    {
     "name": "stdout",
     "output_type": "stream",
     "text": [
      "Num users: 4026, num_items 580.\n",
      "\n",
      "Running Random...\n",
      "Average NDCG of Random: 0.1865467894085752\n",
      "\n",
      "Running Top Popular...\n",
      "Average NDCG of Top Popular: 0.26864000890074335\n",
      "\n",
      "Running LightFM...\n",
      "Average NDCG of LightFM: 0.2662631783853528\n"
     ]
    }
   ],
   "source": [
    "# droppping users with less than 5 interactions, all scores considered for NDCG\n",
    "run(d=5)"
   ]
  },
  {
   "cell_type": "code",
   "execution_count": 5,
   "metadata": {},
   "outputs": [
    {
     "name": "stdout",
     "output_type": "stream",
     "text": [
      "Num users: 1813, num_items 579.\n",
      "\n",
      "Running Random...\n",
      "Average NDCG of Random: 0.23601372445714858\n",
      "\n",
      "Running Top Popular...\n",
      "Average NDCG of Top Popular: 0.3331195537758132\n",
      "\n",
      "Running LightFM...\n",
      "Average NDCG of LightFM: 0.3255172633564795\n"
     ]
    }
   ],
   "source": [
    "# droppping users with less than 10 interactions, all scores considered for NDCG\n",
    "run(d=10)"
   ]
  },
  {
   "cell_type": "code",
   "execution_count": 6,
   "metadata": {},
   "outputs": [
    {
     "name": "stdout",
     "output_type": "stream",
     "text": [
      "Num users: 1079, num_items 579.\n",
      "\n",
      "Running Random...\n",
      "Average NDCG of Random: 0.26742703481502855\n",
      "\n",
      "Running Top Popular...\n",
      "Average NDCG of Top Popular: 0.3704792543567162\n",
      "\n",
      "Running LightFM...\n",
      "Average NDCG of LightFM: 0.3617290772757607\n"
     ]
    }
   ],
   "source": [
    "# droppping users with less than 15 interactions, all scores considered for NDCG\n",
    "run(d=15)"
   ]
  },
  {
   "cell_type": "code",
   "execution_count": 7,
   "metadata": {},
   "outputs": [
    {
     "name": "stdout",
     "output_type": "stream",
     "text": [
      "Num users: 709, num_items 578.\n",
      "\n",
      "Running Random...\n",
      "Average NDCG of Random: 0.29290975190967555\n",
      "\n",
      "Running Top Popular...\n",
      "Average NDCG of Top Popular: 0.4001573719249373\n",
      "\n",
      "Running LightFM...\n",
      "Average NDCG of LightFM: 0.3956638201395667\n"
     ]
    }
   ],
   "source": [
    "# droppping users with less than 20 interactions, all scores considered for NDCG\n",
    "run(d=20)"
   ]
  },
  {
   "cell_type": "markdown",
   "metadata": {},
   "source": [
    "We also compare different k values (10, 20, and 50) at a fixed d of 5. Compared the previous runs that have a high k value (~580), the NDCG scores of all models are much lower across all these k values (and more so with the random recommender). Higher k values correspond to a higher NDCG metric as well."
   ]
  },
  {
   "cell_type": "code",
   "execution_count": 8,
   "metadata": {},
   "outputs": [
    {
     "name": "stdout",
     "output_type": "stream",
     "text": [
      "Num users: 4026, num_items 580.\n",
      "\n",
      "Running Random...\n",
      "Average NDCG of Random: 0.010693453441008716\n",
      "\n",
      "Running Top Popular...\n",
      "Average NDCG of Top Popular: 0.07292912878426112\n",
      "\n",
      "Running LightFM...\n",
      "Average NDCG of LightFM: 0.06746902416725901\n"
     ]
    }
   ],
   "source": [
    "# droppping users with less than 5 interactions, top 10 scores considered for NDCG\n",
    "run(d=5, k=10)"
   ]
  },
  {
   "cell_type": "code",
   "execution_count": 9,
   "metadata": {},
   "outputs": [
    {
     "name": "stdout",
     "output_type": "stream",
     "text": [
      "Num users: 4026, num_items 580.\n",
      "\n",
      "Running Random...\n",
      "Average NDCG of Random: 0.01722516408386896\n",
      "\n",
      "Running Top Popular...\n",
      "Average NDCG of Top Popular: 0.09887370285575565\n",
      "\n",
      "Running LightFM...\n",
      "Average NDCG of LightFM: 0.0959112871832934\n"
     ]
    }
   ],
   "source": [
    "# droppping users with less than 5 interactions, top 20 scores considered for NDCG\n",
    "run(d=5, k=20)"
   ]
  },
  {
   "cell_type": "code",
   "execution_count": 10,
   "metadata": {},
   "outputs": [
    {
     "name": "stdout",
     "output_type": "stream",
     "text": [
      "Num users: 4026, num_items 580.\n",
      "\n",
      "Running Random...\n",
      "Average NDCG of Random: 0.02840079036319522\n",
      "\n",
      "Running Top Popular...\n",
      "Average NDCG of Top Popular: 0.1478240491530547\n",
      "\n",
      "Running LightFM...\n",
      "Average NDCG of LightFM: 0.14178593064705813\n"
     ]
    }
   ],
   "source": [
    "# droppping users with less than 5 interactions, top 50 scores considered for NDCG\n",
    "run(d=5, k=50)"
   ]
  },
  {
   "cell_type": "markdown",
   "metadata": {},
   "source": [
    "Overall, across all values of d and k, the random recommender performs the worse (trivial). Top popular and LightFM's collaborative filtering model perform roughly the same, with top popular having slightly higher NDCG scores. \n",
    "\n",
    "Note: the user-item interactions data inferred by Fitness Blender commenters is preprocessed with d=5 before uploading to our database (which is used by our web application). The main reason of choosing d=5 is that we would like to keep all workout videos in our dataset to recommend to users (increasing d will make the number of workouts to be less than 580, which is the total number of workouts scraped)"
   ]
  },
  {
   "cell_type": "code",
   "execution_count": null,
   "metadata": {},
   "outputs": [],
   "source": []
  }
 ],
 "metadata": {
  "kernelspec": {
   "display_name": "Python 3",
   "language": "python",
   "name": "python3"
  },
  "language_info": {
   "codemirror_mode": {
    "name": "ipython",
    "version": 3
   },
   "file_extension": ".py",
   "mimetype": "text/x-python",
   "name": "python",
   "nbconvert_exporter": "python",
   "pygments_lexer": "ipython3",
   "version": "3.7.4"
  }
 },
 "nbformat": 4,
 "nbformat_minor": 2
}
