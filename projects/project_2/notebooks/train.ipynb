{
 "cells": [
  {
   "cell_type": "code",
   "execution_count": null,
   "metadata": {},
   "outputs": [],
   "source": [
    "import pandas as pd\n",
    "import matplotlib.pyplot as plt\n",
    "import os\n",
    "import seaborn as sns\n",
    "import re\n",
    "import sys\n",
    "import json\n",
    "from IPython.display import Image, display\n",
    "os.chdir('..')\n",
    "import pickle\n",
    "import numpy as np"
   ]
  },
  {
   "cell_type": "code",
   "execution_count": null,
   "metadata": {},
   "outputs": [],
   "source": [
    "with open('config/data-params.json') as fh:\n",
    "    data_cfg = json.load(fh)\n",
    "with open('config/train-params.json') as fh:\n",
    "    train_cfg = json.load(fh)"
   ]
  },
  {
   "cell_type": "markdown",
   "metadata": {},
   "source": [
    "# Training Data"
   ]
  },
  {
   "cell_type": "code",
   "execution_count": null,
   "metadata": {},
   "outputs": [],
   "source": [
    "df = pd.read_csv(os.path.join(train_cfg['training_data_path'], 'data.csv'))"
   ]
  },
  {
   "cell_type": "code",
   "execution_count": null,
   "metadata": {},
   "outputs": [],
   "source": [
    "i = 0\n",
    "for dim in train_cfg['dims']:\n",
    "    # Basic stats\n",
    "    print('Dimension: {}'.format(dim))\n",
    "    print('N_classes: {}'.format(df[dim].nunique()))\n",
    "    print('Parameters: ')\n",
    "    print('     Fit Priors: {}'.format(train_cfg['fit_priors'][i]))\n",
    "    print('     Max DF: {}'.format(train_cfg['max_dfs'][i]))\n",
    "    print('     Min DF: {}'.format(train_cfg['min_dfs'][i]))\n",
    "    i += 1\n",
    "    display(df[dim].value_counts())\n",
    "    \n",
    "    # Calculate results\n",
    "    print('Cross Validation')\n",
    "    results = pd.read_csv(os.path.join(train_cfg['model_path'], '{}_results.csv'.format(dim))).drop(columns=['Unnamed: 0'])\n",
    "    class_accs = list(results['class_acc'])\n",
    "    reg_errors = list(results['reg_errors'])\n",
    "    results = []\n",
    "    for i in range(len(class_accs)):\n",
    "        results.append('trial #{}'.format(i+1))\n",
    "    class_accs_mean = np.mean(class_accs)\n",
    "    class_accs_median = np.median(class_accs)\n",
    "    reg_errors_mean = np.mean(reg_errors)\n",
    "    reg_errors_median = np.median(reg_errors)\n",
    "    class_accs.append(class_accs_mean)\n",
    "    class_accs.append(class_accs_median)\n",
    "    reg_errors.append(reg_errors_mean)\n",
    "    reg_errors.append(reg_errors_median)\n",
    "    results.append('Mean')\n",
    "    results.append('Median')\n",
    "    r = pd.DataFrame({'Result': results, 'Class Acc': class_accs, 'Reg Error': reg_errors}).set_index('Result').round(3)\n",
    "    display(r)\n",
    "    \n",
    "    print('\\n\\n\\n')"
   ]
  }
 ],
 "metadata": {
  "kernelspec": {
   "display_name": "Python 3",
   "language": "python",
   "name": "python3"
  },
  "language_info": {
   "codemirror_mode": {
    "name": "ipython",
    "version": 3
   },
   "file_extension": ".py",
   "mimetype": "text/x-python",
   "name": "python",
   "nbconvert_exporter": "python",
   "pygments_lexer": "ipython3",
   "version": "3.7.6"
  }
 },
 "nbformat": 4,
 "nbformat_minor": 4
}
