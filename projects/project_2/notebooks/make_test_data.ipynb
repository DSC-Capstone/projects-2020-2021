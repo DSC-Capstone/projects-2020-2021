{
 "cells": [
  {
   "cell_type": "code",
   "execution_count": null,
   "metadata": {},
   "outputs": [],
   "source": [
    "import pandas as pd\n",
    "import matplotlib.pyplot as plt\n",
    "import os\n",
    "import seaborn as sns\n",
    "import re\n",
    "import sys\n",
    "import json\n",
    "from IPython.display import Image, display\n",
    "import pickle"
   ]
  },
  {
   "cell_type": "markdown",
   "metadata": {},
   "source": [
    "## Tweets"
   ]
  },
  {
   "cell_type": "code",
   "execution_count": null,
   "metadata": {
    "scrolled": true
   },
   "outputs": [],
   "source": [
    "texts = [\n",
    "    'Hello this is a test tweet',\n",
    "    'Hello this is a test tweet',\n",
    "    'Hello this is a test tweet',\n",
    "    'Hello this is a test tweet',\n",
    "    'Hello this is a test tweet',\n",
    "    'I am going to play basketball tonight',\n",
    "    'I am going to play basketball tonight',\n",
    "    'I am going to play basketball tonight',\n",
    "    'I am going to play basketball tonight',\n",
    "    'word',\n",
    "    'new',\n",
    "    'another',\n",
    "    'hi',\n",
    "    'destruction',\n",
    "    'people',\n",
    "    'why',\n",
    "    'fake',\n",
    "    'jazz',\n",
    "    'blues',\n",
    "    'math'\n",
    "]\n",
    "len(texts)"
   ]
  },
  {
   "cell_type": "code",
   "execution_count": null,
   "metadata": {},
   "outputs": [],
   "source": [
    "a = [1, 1, 1, 1, 1, -1, -1, -1, -1] + 5*[0] + 2*[1] + [1,2,3,4]\n",
    "b = [0, 0, 0, 0, 0, 1, 1, 1, 1]+ 5*[0]+ 2*[1] + [4,3,2,1]\n",
    "c = [2, 2, 2, 2, 2, -2, -2, -2, -2]+ 5*[0]+ 2*[1] + [1,2,3,4]"
   ]
  },
  {
   "cell_type": "code",
   "execution_count": null,
   "metadata": {},
   "outputs": [],
   "source": [
    "len(a)"
   ]
  },
  {
   "cell_type": "code",
   "execution_count": null,
   "metadata": {},
   "outputs": [],
   "source": [
    "data = pd.DataFrame({'text': texts, 'a': a, 'b': b, 'c': c})\n",
    "data"
   ]
  },
  {
   "cell_type": "code",
   "execution_count": null,
   "metadata": {},
   "outputs": [],
   "source": [
    "data.to_csv('/Users/tanujpankaj/Desktop/dsc180/DSC-Capstone-Project/test/training_data/data.csv')"
   ]
  },
  {
   "cell_type": "markdown",
   "metadata": {},
   "source": [
    "## Tweet info"
   ]
  },
  {
   "cell_type": "markdown",
   "metadata": {},
   "source": [
    "Tweet 123"
   ]
  },
  {
   "cell_type": "code",
   "execution_count": null,
   "metadata": {},
   "outputs": [],
   "source": [
    "fn = '/Users/tanujpankaj/Desktop/dsc180/DSC-Capstone-Project/test/user_data/tweet_123.csv'"
   ]
  },
  {
   "cell_type": "code",
   "execution_count": null,
   "metadata": {},
   "outputs": [],
   "source": [
    "tweet_info = {\n",
    "            'id': '123',\n",
    "            'user/id': '5678',\n",
    "            'user/name': 'fake_user',\n",
    "            'text': 'This is a famous tweet',\n",
    "            'user_ids': {'12345': None, '6789': None}\n",
    "        } \n",
    "f = open(fn, 'wb')\n",
    "pickle.dump(tweet_info, f)"
   ]
  },
  {
   "cell_type": "markdown",
   "metadata": {},
   "source": [
    "Tweet 456"
   ]
  },
  {
   "cell_type": "code",
   "execution_count": null,
   "metadata": {},
   "outputs": [],
   "source": [
    "fn = '/Users/tanujpankaj/Desktop/dsc180/DSC-Capstone-Project/test/user_data/tweet_456.csv'"
   ]
  },
  {
   "cell_type": "code",
   "execution_count": null,
   "metadata": {},
   "outputs": [],
   "source": [
    "tweet_info = {\n",
    "            'id': '456',\n",
    "            'user/id': '5678',\n",
    "            'user/name': 'fake_user',\n",
    "            'text': 'This is a FLAGGED  tweet',\n",
    "            'user_ids': {'1': None, '6': None}\n",
    "        } \n",
    "f = open(fn, 'wb')\n",
    "pickle.dump(tweet_info, f)"
   ]
  },
  {
   "cell_type": "markdown",
   "metadata": {},
   "source": [
    "## User info"
   ]
  },
  {
   "cell_type": "markdown",
   "metadata": {},
   "source": [
    "User 12345"
   ]
  },
  {
   "cell_type": "code",
   "execution_count": null,
   "metadata": {},
   "outputs": [],
   "source": [
    "texts = ['fake']"
   ]
  },
  {
   "cell_type": "code",
   "execution_count": null,
   "metadata": {},
   "outputs": [],
   "source": [
    "user_df = pd.DataFrame({'text': texts})\n",
    "user_df"
   ]
  },
  {
   "cell_type": "code",
   "execution_count": null,
   "metadata": {},
   "outputs": [],
   "source": [
    "user_df.to_csv('/Users/tanujpankaj/Desktop/dsc180/DSC-Capstone-Project/test/user_data/user_12345_tweets.csv')"
   ]
  },
  {
   "cell_type": "markdown",
   "metadata": {},
   "source": [
    "User 6789"
   ]
  },
  {
   "cell_type": "code",
   "execution_count": null,
   "metadata": {},
   "outputs": [],
   "source": [
    "texts = ['jazz']"
   ]
  },
  {
   "cell_type": "code",
   "execution_count": null,
   "metadata": {},
   "outputs": [],
   "source": [
    "user_df = pd.DataFrame({'text': texts})\n",
    "user_df"
   ]
  },
  {
   "cell_type": "code",
   "execution_count": null,
   "metadata": {},
   "outputs": [],
   "source": [
    "user_df.to_csv('/Users/tanujpankaj/Desktop/dsc180/DSC-Capstone-Project/test/user_data/user_6789_tweets.csv')"
   ]
  },
  {
   "cell_type": "markdown",
   "metadata": {},
   "source": [
    "User 1"
   ]
  },
  {
   "cell_type": "code",
   "execution_count": null,
   "metadata": {},
   "outputs": [],
   "source": [
    "texts = ['blues']"
   ]
  },
  {
   "cell_type": "code",
   "execution_count": null,
   "metadata": {},
   "outputs": [],
   "source": [
    "user_df = pd.DataFrame({'text': texts})\n",
    "user_df"
   ]
  },
  {
   "cell_type": "code",
   "execution_count": null,
   "metadata": {},
   "outputs": [],
   "source": [
    "user_df.to_csv('/Users/tanujpankaj/Desktop/dsc180/DSC-Capstone-Project/test/user_data/user_1_tweets.csv')"
   ]
  },
  {
   "cell_type": "markdown",
   "metadata": {},
   "source": [
    "User 6"
   ]
  },
  {
   "cell_type": "code",
   "execution_count": null,
   "metadata": {},
   "outputs": [],
   "source": [
    "texts = ['math']"
   ]
  },
  {
   "cell_type": "code",
   "execution_count": null,
   "metadata": {},
   "outputs": [],
   "source": [
    "user_df = pd.DataFrame({'text': texts})\n",
    "user_df"
   ]
  },
  {
   "cell_type": "code",
   "execution_count": null,
   "metadata": {},
   "outputs": [],
   "source": [
    "user_df.to_csv('/Users/tanujpankaj/Desktop/dsc180/DSC-Capstone-Project/test/user_data/user_6_tweets.csv')"
   ]
  },
  {
   "cell_type": "code",
   "execution_count": null,
   "metadata": {},
   "outputs": [],
   "source": []
  },
  {
   "cell_type": "code",
   "execution_count": null,
   "metadata": {},
   "outputs": [],
   "source": []
  },
  {
   "cell_type": "code",
   "execution_count": null,
   "metadata": {},
   "outputs": [],
   "source": []
  }
 ],
 "metadata": {
  "kernelspec": {
   "display_name": "Python 3",
   "language": "python",
   "name": "python3"
  },
  "language_info": {
   "codemirror_mode": {
    "name": "ipython",
    "version": 3
   },
   "file_extension": ".py",
   "mimetype": "text/x-python",
   "name": "python",
   "nbconvert_exporter": "python",
   "pygments_lexer": "ipython3",
   "version": "3.7.6"
  }
 },
 "nbformat": 4,
 "nbformat_minor": 4
}
