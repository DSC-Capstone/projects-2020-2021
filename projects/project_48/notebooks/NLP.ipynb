{
 "cells": [
  {
   "cell_type": "code",
   "execution_count": 1,
   "metadata": {},
   "outputs": [
    {
     "name": "stderr",
     "output_type": "stream",
     "text": [
      "[nltk_data] Downloading package stopwords to\n",
      "[nltk_data]     /home/yjeremij/nltk_data...\n",
      "[nltk_data]   Package stopwords is already up-to-date!\n"
     ]
    },
    {
     "data": {
      "text/plain": [
       "True"
      ]
     },
     "execution_count": 1,
     "metadata": {},
     "output_type": "execute_result"
    },
    {
     "name": "stderr",
     "output_type": "stream",
     "text": [
      "[nltk_data] Downloading package stopwords to\n",
      "[nltk_data]     /home/yjeremij/nltk_data...\n",
      "[nltk_data]   Package stopwords is already up-to-date!\n"
     ]
    },
    {
     "data": {
      "text/plain": [
       "True"
      ]
     },
     "execution_count": 1,
     "metadata": {},
     "output_type": "execute_result"
    }
   ],
   "source": [
    "import nltk\n",
    "nltk.download('stopwords')"
   ]
  },
  {
   "cell_type": "code",
   "execution_count": 2,
   "metadata": {
    "scrolled": false
   },
   "outputs": [],
   "source": [
    "#!pip install -I keras --user"
   ]
  },
  {
   "cell_type": "code",
   "execution_count": 3,
   "metadata": {},
   "outputs": [],
   "source": [
    "#!pip install chart_studio --user"
   ]
  },
  {
   "cell_type": "code",
   "execution_count": 4,
   "metadata": {},
   "outputs": [],
   "source": [
    "#!pip install cufflinks --user"
   ]
  },
  {
   "cell_type": "code",
   "execution_count": 5,
   "metadata": {
    "scrolled": true
   },
   "outputs": [],
   "source": [
    "#!pip install tensorflow-gpu --user"
   ]
  },
  {
   "cell_type": "code",
   "execution_count": 6,
   "metadata": {
    "scrolled": true
   },
   "outputs": [
    {
     "name": "stdout",
     "output_type": "stream",
     "text": [
      "Version:  2.4.0\n",
      "Eager mode:  True\n",
      "Hub version:  0.8.0\n",
      "Version:  2.4.0\n",
      "Eager mode:  True\n",
      "Hub version:  0.8.0\n"
     ]
    }
   ],
   "source": [
    "import numpy as np\n",
    "import tensorflow as tf\n",
    "import tensorflow_hub as hub\n",
    "import tensorflow_datasets as tfds\n",
    "\n",
    "import matplotlib.pyplot as plt\n",
    "#tf.compat.v1.enable_eager_execution()\n",
    "print(\"Version: \", tf.__version__)\n",
    "print(\"Eager mode: \", tf.executing_eagerly())\n",
    "print(\"Hub version: \", hub.__version__)\n",
    "#print(\"GPU is\", \"available\" if device_lib.list_local_devices() else \"NOT AVAILABLE\")"
   ]
  },
  {
   "cell_type": "code",
   "execution_count": 7,
   "metadata": {},
   "outputs": [],
   "source": [
    "tf.compat.v1.enable_eager_execution()"
   ]
  },
  {
   "cell_type": "code",
   "execution_count": 8,
   "metadata": {},
   "outputs": [],
   "source": [
    "with tf.device('/device:XLA_GPU:0'):\n",
    "    a = tf.constant([1.0, 2.0, 3.0, 4.0, 5.0, 6.0], shape=[2, 3], name='a')"
   ]
  },
  {
   "cell_type": "code",
   "execution_count": 9,
   "metadata": {},
   "outputs": [],
   "source": [
    "tf.keras.backend.clear_session()\n",
    "tf.config.optimizer.set_jit(True)"
   ]
  },
  {
   "cell_type": "code",
   "execution_count": 10,
   "metadata": {},
   "outputs": [],
   "source": [
    "import numpy as np\n",
    "\n",
    "import tensorflow as tf\n",
    "import tensorflow_hub as hub\n",
    "import tensorflow_datasets as tfds\n",
    "\n",
    "import matplotlib.pyplot as plt\n",
    "\n"
   ]
  },
  {
   "cell_type": "code",
   "execution_count": 11,
   "metadata": {
    "scrolled": true
   },
   "outputs": [
    {
     "name": "stdout",
     "output_type": "stream",
     "text": [
      "WARNING:tensorflow:From <ipython-input-11-01326d9eba02>:4: is_gpu_available (from tensorflow.python.framework.test_util) is deprecated and will be removed in a future version.\n",
      "Instructions for updating:\n",
      "Use `tf.config.list_physical_devices('GPU')` instead.\n",
      "WARNING:tensorflow:From <ipython-input-11-01326d9eba02>:4: is_gpu_available (from tensorflow.python.framework.test_util) is deprecated and will be removed in a future version.\n",
      "Instructions for updating:\n",
      "Use `tf.config.list_physical_devices('GPU')` instead.\n"
     ]
    },
    {
     "data": {
      "text/plain": [
       "[PhysicalDevice(name='/physical_device:CPU:0', device_type='CPU')]"
      ]
     },
     "execution_count": 11,
     "metadata": {},
     "output_type": "execute_result"
    },
    {
     "data": {
      "text/plain": [
       "[PhysicalDevice(name='/physical_device:CPU:0', device_type='CPU')]"
      ]
     },
     "execution_count": 11,
     "metadata": {},
     "output_type": "execute_result"
    }
   ],
   "source": [
    "import tensorflow as tf\n",
    "\n",
    "# Check that GPU is available: cf. https://colab.research.google.com/notebooks/gpu.ipynb\n",
    "tf.test.is_gpu_available()\n",
    "tf.config.list_physical_devices()"
   ]
  },
  {
   "cell_type": "code",
   "execution_count": 12,
   "metadata": {},
   "outputs": [
    {
     "name": "stderr",
     "output_type": "stream",
     "text": [
      "Using TensorFlow backend.\n",
      "Using TensorFlow backend.\n"
     ]
    }
   ],
   "source": [
    "import numpy as np \n",
    "import pandas as pd\n",
    "import matplotlib.pyplot as plt\n",
    "import seaborn as sns\n",
    "from keras.preprocessing.text import Tokenizer\n",
    "from keras.preprocessing.sequence import pad_sequences\n",
    "from keras.models import Sequential\n",
    "from keras.layers import Dense, Embedding, LSTM, SpatialDropout1D\n",
    "#from keras.metrics import Precision\n",
    "#from keras.metrics import Recall\n",
    "from sklearn.model_selection import train_test_split\n",
    "from keras.utils.np_utils import to_categorical\n",
    "from keras.callbacks import EarlyStopping\n",
    "from keras.layers import Dropout\n",
    "import re\n",
    "from nltk import corpus\n",
    "from nltk.corpus import stopwords\n",
    "from nltk import word_tokenize\n",
    "STOPWORDS = set(stopwords.words('english'))\n",
    "from bs4 import BeautifulSoup\n",
    "from chart_studio import plotly\n",
    "import plotly.graph_objs as go\n",
    "import chart_studio.plotly as py\n",
    "#import cufflinks\n",
    "from IPython.core.interactiveshell import InteractiveShell\n",
    "#import plotly.figure_factory as ff\n",
    "InteractiveShell.ast_node_interactivity = 'all'\n",
    "from plotly.offline import iplot\n",
    "#cufflinks.go_offline()\n",
    "#cufflinks.set_config_file(world_readable=True, theme='pearl')"
   ]
  },
  {
   "cell_type": "code",
   "execution_count": 13,
   "metadata": {},
   "outputs": [],
   "source": [
    "import gzip\n",
    "from collections import defaultdict\n",
    "\n",
    "def readJSON(path):\n",
    "    for l in gzip.open(path, 'rt'):\n",
    "        d = eval(l)\n",
    "        u = d['userID']\n",
    "        try:\n",
    "            g = d['gameID']\n",
    "        except Exception as e:\n",
    "            g = None\n",
    "        yield u,g,d"
   ]
  },
  {
   "cell_type": "code",
   "execution_count": 14,
   "metadata": {},
   "outputs": [],
   "source": [
    "df = pd.read_csv('Posts.csv')"
   ]
  },
  {
   "cell_type": "code",
   "execution_count": 15,
   "metadata": {},
   "outputs": [],
   "source": [
    "#df = pd.DataFrame(readJSON(\"assignment1/train_Category.json.gz\"))\n",
    "\n",
    "#data = pd.DataFrame(list(df[2]))\n",
    "\n"
   ]
  },
  {
   "cell_type": "code",
   "execution_count": 16,
   "metadata": {},
   "outputs": [
    {
     "data": {
      "text/html": [
       "<div>\n",
       "<style scoped>\n",
       "    .dataframe tbody tr th:only-of-type {\n",
       "        vertical-align: middle;\n",
       "    }\n",
       "\n",
       "    .dataframe tbody tr th {\n",
       "        vertical-align: top;\n",
       "    }\n",
       "\n",
       "    .dataframe thead th {\n",
       "        text-align: right;\n",
       "    }\n",
       "</style>\n",
       "<table border=\"1\" class=\"dataframe\">\n",
       "  <thead>\n",
       "    <tr style=\"text-align: right;\">\n",
       "      <th></th>\n",
       "      <th>Id</th>\n",
       "      <th>PostTypeId</th>\n",
       "      <th>AcceptedAnswerId</th>\n",
       "      <th>CreationDate</th>\n",
       "      <th>Score</th>\n",
       "      <th>ViewCount</th>\n",
       "      <th>Body</th>\n",
       "      <th>OwnerUserId</th>\n",
       "      <th>LastEditorUserId</th>\n",
       "      <th>LastEditDate</th>\n",
       "      <th>...</th>\n",
       "      <th>Tags</th>\n",
       "      <th>AnswerCount</th>\n",
       "      <th>CommentCount</th>\n",
       "      <th>FavoriteCount</th>\n",
       "      <th>ContentLicense</th>\n",
       "      <th>OwnerDisplayName</th>\n",
       "      <th>ParentId</th>\n",
       "      <th>ClosedDate</th>\n",
       "      <th>CommunityOwnedDate</th>\n",
       "      <th>LastEditorDisplayName</th>\n",
       "    </tr>\n",
       "  </thead>\n",
       "  <tbody>\n",
       "    <tr>\n",
       "      <th>0</th>\n",
       "      <td>1</td>\n",
       "      <td>1</td>\n",
       "      <td>727273.0</td>\n",
       "      <td>2009-07-15T06:27:46.723</td>\n",
       "      <td>175</td>\n",
       "      <td>114409.0</td>\n",
       "      <td>&lt;p&gt;A Vista virtual machine I use only has a 10...</td>\n",
       "      <td>1.0</td>\n",
       "      <td>-1.0</td>\n",
       "      <td>2020-06-12T13:48:39.473</td>\n",
       "      <td>...</td>\n",
       "      <td>&lt;windows&gt;&lt;disk-space&gt;&lt;winsxs&gt;</td>\n",
       "      <td>12.0</td>\n",
       "      <td>10</td>\n",
       "      <td>89.0</td>\n",
       "      <td>CC BY-SA 3.0</td>\n",
       "      <td>NaN</td>\n",
       "      <td>NaN</td>\n",
       "      <td>NaN</td>\n",
       "      <td>NaN</td>\n",
       "      <td>NaN</td>\n",
       "    </tr>\n",
       "    <tr>\n",
       "      <th>1</th>\n",
       "      <td>24</td>\n",
       "      <td>1</td>\n",
       "      <td>NaN</td>\n",
       "      <td>2009-07-08T16:32:47.817</td>\n",
       "      <td>7</td>\n",
       "      <td>6536.0</td>\n",
       "      <td>&lt;p&gt;I used to record important technical meetin...</td>\n",
       "      <td>NaN</td>\n",
       "      <td>36744.0</td>\n",
       "      <td>2012-08-08T21:06:48.087</td>\n",
       "      <td>...</td>\n",
       "      <td>&lt;audio&gt;&lt;audio-recording&gt;&lt;camtasia&gt;</td>\n",
       "      <td>6.0</td>\n",
       "      <td>0</td>\n",
       "      <td>5.0</td>\n",
       "      <td>CC BY-SA 3.0</td>\n",
       "      <td>essamSALAH</td>\n",
       "      <td>NaN</td>\n",
       "      <td>NaN</td>\n",
       "      <td>NaN</td>\n",
       "      <td>NaN</td>\n",
       "    </tr>\n",
       "    <tr>\n",
       "      <th>2</th>\n",
       "      <td>25</td>\n",
       "      <td>2</td>\n",
       "      <td>NaN</td>\n",
       "      <td>2009-07-08T16:34:52.867</td>\n",
       "      <td>0</td>\n",
       "      <td>NaN</td>\n",
       "      <td>&lt;p&gt;You could use a filter on the recording. A ...</td>\n",
       "      <td>9637.0</td>\n",
       "      <td>1218738.0</td>\n",
       "      <td>2020-10-09T16:36:16.537</td>\n",
       "      <td>...</td>\n",
       "      <td>NaN</td>\n",
       "      <td>NaN</td>\n",
       "      <td>0</td>\n",
       "      <td>NaN</td>\n",
       "      <td>CC BY-SA 4.0</td>\n",
       "      <td>Burkhard</td>\n",
       "      <td>24.0</td>\n",
       "      <td>NaN</td>\n",
       "      <td>NaN</td>\n",
       "      <td>NaN</td>\n",
       "    </tr>\n",
       "    <tr>\n",
       "      <th>3</th>\n",
       "      <td>26</td>\n",
       "      <td>2</td>\n",
       "      <td>NaN</td>\n",
       "      <td>2009-07-08T16:59:00.587</td>\n",
       "      <td>0</td>\n",
       "      <td>NaN</td>\n",
       "      <td>&lt;p&gt;Try out something like Audible for Macs, an...</td>\n",
       "      <td>23242.0</td>\n",
       "      <td>1218738.0</td>\n",
       "      <td>2020-10-19T16:12:15.757</td>\n",
       "      <td>...</td>\n",
       "      <td>NaN</td>\n",
       "      <td>NaN</td>\n",
       "      <td>0</td>\n",
       "      <td>NaN</td>\n",
       "      <td>CC BY-SA 4.0</td>\n",
       "      <td>Jas Panesar</td>\n",
       "      <td>24.0</td>\n",
       "      <td>NaN</td>\n",
       "      <td>NaN</td>\n",
       "      <td>NaN</td>\n",
       "    </tr>\n",
       "    <tr>\n",
       "      <th>4</th>\n",
       "      <td>27</td>\n",
       "      <td>2</td>\n",
       "      <td>NaN</td>\n",
       "      <td>2009-07-08T17:15:59.477</td>\n",
       "      <td>1</td>\n",
       "      <td>NaN</td>\n",
       "      <td>&lt;p&gt;You definitely need some sort of software t...</td>\n",
       "      <td>45675.0</td>\n",
       "      <td>NaN</td>\n",
       "      <td>NaN</td>\n",
       "      <td>...</td>\n",
       "      <td>NaN</td>\n",
       "      <td>NaN</td>\n",
       "      <td>1</td>\n",
       "      <td>NaN</td>\n",
       "      <td>CC BY-SA 2.5</td>\n",
       "      <td>T Pops</td>\n",
       "      <td>24.0</td>\n",
       "      <td>NaN</td>\n",
       "      <td>NaN</td>\n",
       "      <td>NaN</td>\n",
       "    </tr>\n",
       "  </tbody>\n",
       "</table>\n",
       "<p>5 rows × 22 columns</p>\n",
       "</div>"
      ],
      "text/plain": [
       "   Id  PostTypeId  AcceptedAnswerId             CreationDate  Score  \\\n",
       "0   1           1          727273.0  2009-07-15T06:27:46.723    175   \n",
       "1  24           1               NaN  2009-07-08T16:32:47.817      7   \n",
       "2  25           2               NaN  2009-07-08T16:34:52.867      0   \n",
       "3  26           2               NaN  2009-07-08T16:59:00.587      0   \n",
       "4  27           2               NaN  2009-07-08T17:15:59.477      1   \n",
       "\n",
       "   ViewCount                                               Body  OwnerUserId  \\\n",
       "0   114409.0  <p>A Vista virtual machine I use only has a 10...          1.0   \n",
       "1     6536.0  <p>I used to record important technical meetin...          NaN   \n",
       "2        NaN  <p>You could use a filter on the recording. A ...       9637.0   \n",
       "3        NaN  <p>Try out something like Audible for Macs, an...      23242.0   \n",
       "4        NaN  <p>You definitely need some sort of software t...      45675.0   \n",
       "\n",
       "   LastEditorUserId             LastEditDate  ...  \\\n",
       "0              -1.0  2020-06-12T13:48:39.473  ...   \n",
       "1           36744.0  2012-08-08T21:06:48.087  ...   \n",
       "2         1218738.0  2020-10-09T16:36:16.537  ...   \n",
       "3         1218738.0  2020-10-19T16:12:15.757  ...   \n",
       "4               NaN                      NaN  ...   \n",
       "\n",
       "                                 Tags AnswerCount CommentCount  FavoriteCount  \\\n",
       "0       <windows><disk-space><winsxs>        12.0           10           89.0   \n",
       "1  <audio><audio-recording><camtasia>         6.0            0            5.0   \n",
       "2                                 NaN         NaN            0            NaN   \n",
       "3                                 NaN         NaN            0            NaN   \n",
       "4                                 NaN         NaN            1            NaN   \n",
       "\n",
       "   ContentLicense  OwnerDisplayName ParentId ClosedDate  CommunityOwnedDate  \\\n",
       "0    CC BY-SA 3.0               NaN      NaN        NaN                 NaN   \n",
       "1    CC BY-SA 3.0        essamSALAH      NaN        NaN                 NaN   \n",
       "2    CC BY-SA 4.0          Burkhard     24.0        NaN                 NaN   \n",
       "3    CC BY-SA 4.0       Jas Panesar     24.0        NaN                 NaN   \n",
       "4    CC BY-SA 2.5            T Pops     24.0        NaN                 NaN   \n",
       "\n",
       "  LastEditorDisplayName  \n",
       "0                   NaN  \n",
       "1                   NaN  \n",
       "2                   NaN  \n",
       "3                   NaN  \n",
       "4                   NaN  \n",
       "\n",
       "[5 rows x 22 columns]"
      ]
     },
     "execution_count": 16,
     "metadata": {},
     "output_type": "execute_result"
    },
    {
     "data": {
      "text/html": [
       "<div>\n",
       "<style scoped>\n",
       "    .dataframe tbody tr th:only-of-type {\n",
       "        vertical-align: middle;\n",
       "    }\n",
       "\n",
       "    .dataframe tbody tr th {\n",
       "        vertical-align: top;\n",
       "    }\n",
       "\n",
       "    .dataframe thead th {\n",
       "        text-align: right;\n",
       "    }\n",
       "</style>\n",
       "<table border=\"1\" class=\"dataframe\">\n",
       "  <thead>\n",
       "    <tr style=\"text-align: right;\">\n",
       "      <th></th>\n",
       "      <th>Id</th>\n",
       "      <th>PostTypeId</th>\n",
       "      <th>AcceptedAnswerId</th>\n",
       "      <th>CreationDate</th>\n",
       "      <th>Score</th>\n",
       "      <th>ViewCount</th>\n",
       "      <th>Body</th>\n",
       "      <th>OwnerUserId</th>\n",
       "      <th>LastEditorUserId</th>\n",
       "      <th>LastEditDate</th>\n",
       "      <th>...</th>\n",
       "      <th>Tags</th>\n",
       "      <th>AnswerCount</th>\n",
       "      <th>CommentCount</th>\n",
       "      <th>FavoriteCount</th>\n",
       "      <th>ContentLicense</th>\n",
       "      <th>OwnerDisplayName</th>\n",
       "      <th>ParentId</th>\n",
       "      <th>ClosedDate</th>\n",
       "      <th>CommunityOwnedDate</th>\n",
       "      <th>LastEditorDisplayName</th>\n",
       "    </tr>\n",
       "  </thead>\n",
       "  <tbody>\n",
       "    <tr>\n",
       "      <th>0</th>\n",
       "      <td>1</td>\n",
       "      <td>1</td>\n",
       "      <td>727273.0</td>\n",
       "      <td>2009-07-15T06:27:46.723</td>\n",
       "      <td>175</td>\n",
       "      <td>114409.0</td>\n",
       "      <td>&lt;p&gt;A Vista virtual machine I use only has a 10...</td>\n",
       "      <td>1.0</td>\n",
       "      <td>-1.0</td>\n",
       "      <td>2020-06-12T13:48:39.473</td>\n",
       "      <td>...</td>\n",
       "      <td>&lt;windows&gt;&lt;disk-space&gt;&lt;winsxs&gt;</td>\n",
       "      <td>12.0</td>\n",
       "      <td>10</td>\n",
       "      <td>89.0</td>\n",
       "      <td>CC BY-SA 3.0</td>\n",
       "      <td>NaN</td>\n",
       "      <td>NaN</td>\n",
       "      <td>NaN</td>\n",
       "      <td>NaN</td>\n",
       "      <td>NaN</td>\n",
       "    </tr>\n",
       "    <tr>\n",
       "      <th>1</th>\n",
       "      <td>24</td>\n",
       "      <td>1</td>\n",
       "      <td>NaN</td>\n",
       "      <td>2009-07-08T16:32:47.817</td>\n",
       "      <td>7</td>\n",
       "      <td>6536.0</td>\n",
       "      <td>&lt;p&gt;I used to record important technical meetin...</td>\n",
       "      <td>NaN</td>\n",
       "      <td>36744.0</td>\n",
       "      <td>2012-08-08T21:06:48.087</td>\n",
       "      <td>...</td>\n",
       "      <td>&lt;audio&gt;&lt;audio-recording&gt;&lt;camtasia&gt;</td>\n",
       "      <td>6.0</td>\n",
       "      <td>0</td>\n",
       "      <td>5.0</td>\n",
       "      <td>CC BY-SA 3.0</td>\n",
       "      <td>essamSALAH</td>\n",
       "      <td>NaN</td>\n",
       "      <td>NaN</td>\n",
       "      <td>NaN</td>\n",
       "      <td>NaN</td>\n",
       "    </tr>\n",
       "    <tr>\n",
       "      <th>2</th>\n",
       "      <td>25</td>\n",
       "      <td>2</td>\n",
       "      <td>NaN</td>\n",
       "      <td>2009-07-08T16:34:52.867</td>\n",
       "      <td>0</td>\n",
       "      <td>NaN</td>\n",
       "      <td>&lt;p&gt;You could use a filter on the recording. A ...</td>\n",
       "      <td>9637.0</td>\n",
       "      <td>1218738.0</td>\n",
       "      <td>2020-10-09T16:36:16.537</td>\n",
       "      <td>...</td>\n",
       "      <td>NaN</td>\n",
       "      <td>NaN</td>\n",
       "      <td>0</td>\n",
       "      <td>NaN</td>\n",
       "      <td>CC BY-SA 4.0</td>\n",
       "      <td>Burkhard</td>\n",
       "      <td>24.0</td>\n",
       "      <td>NaN</td>\n",
       "      <td>NaN</td>\n",
       "      <td>NaN</td>\n",
       "    </tr>\n",
       "    <tr>\n",
       "      <th>3</th>\n",
       "      <td>26</td>\n",
       "      <td>2</td>\n",
       "      <td>NaN</td>\n",
       "      <td>2009-07-08T16:59:00.587</td>\n",
       "      <td>0</td>\n",
       "      <td>NaN</td>\n",
       "      <td>&lt;p&gt;Try out something like Audible for Macs, an...</td>\n",
       "      <td>23242.0</td>\n",
       "      <td>1218738.0</td>\n",
       "      <td>2020-10-19T16:12:15.757</td>\n",
       "      <td>...</td>\n",
       "      <td>NaN</td>\n",
       "      <td>NaN</td>\n",
       "      <td>0</td>\n",
       "      <td>NaN</td>\n",
       "      <td>CC BY-SA 4.0</td>\n",
       "      <td>Jas Panesar</td>\n",
       "      <td>24.0</td>\n",
       "      <td>NaN</td>\n",
       "      <td>NaN</td>\n",
       "      <td>NaN</td>\n",
       "    </tr>\n",
       "    <tr>\n",
       "      <th>4</th>\n",
       "      <td>27</td>\n",
       "      <td>2</td>\n",
       "      <td>NaN</td>\n",
       "      <td>2009-07-08T17:15:59.477</td>\n",
       "      <td>1</td>\n",
       "      <td>NaN</td>\n",
       "      <td>&lt;p&gt;You definitely need some sort of software t...</td>\n",
       "      <td>45675.0</td>\n",
       "      <td>NaN</td>\n",
       "      <td>NaN</td>\n",
       "      <td>...</td>\n",
       "      <td>NaN</td>\n",
       "      <td>NaN</td>\n",
       "      <td>1</td>\n",
       "      <td>NaN</td>\n",
       "      <td>CC BY-SA 2.5</td>\n",
       "      <td>T Pops</td>\n",
       "      <td>24.0</td>\n",
       "      <td>NaN</td>\n",
       "      <td>NaN</td>\n",
       "      <td>NaN</td>\n",
       "    </tr>\n",
       "  </tbody>\n",
       "</table>\n",
       "<p>5 rows × 22 columns</p>\n",
       "</div>"
      ],
      "text/plain": [
       "   Id  PostTypeId  AcceptedAnswerId             CreationDate  Score  \\\n",
       "0   1           1          727273.0  2009-07-15T06:27:46.723    175   \n",
       "1  24           1               NaN  2009-07-08T16:32:47.817      7   \n",
       "2  25           2               NaN  2009-07-08T16:34:52.867      0   \n",
       "3  26           2               NaN  2009-07-08T16:59:00.587      0   \n",
       "4  27           2               NaN  2009-07-08T17:15:59.477      1   \n",
       "\n",
       "   ViewCount                                               Body  OwnerUserId  \\\n",
       "0   114409.0  <p>A Vista virtual machine I use only has a 10...          1.0   \n",
       "1     6536.0  <p>I used to record important technical meetin...          NaN   \n",
       "2        NaN  <p>You could use a filter on the recording. A ...       9637.0   \n",
       "3        NaN  <p>Try out something like Audible for Macs, an...      23242.0   \n",
       "4        NaN  <p>You definitely need some sort of software t...      45675.0   \n",
       "\n",
       "   LastEditorUserId             LastEditDate  ...  \\\n",
       "0              -1.0  2020-06-12T13:48:39.473  ...   \n",
       "1           36744.0  2012-08-08T21:06:48.087  ...   \n",
       "2         1218738.0  2020-10-09T16:36:16.537  ...   \n",
       "3         1218738.0  2020-10-19T16:12:15.757  ...   \n",
       "4               NaN                      NaN  ...   \n",
       "\n",
       "                                 Tags AnswerCount CommentCount  FavoriteCount  \\\n",
       "0       <windows><disk-space><winsxs>        12.0           10           89.0   \n",
       "1  <audio><audio-recording><camtasia>         6.0            0            5.0   \n",
       "2                                 NaN         NaN            0            NaN   \n",
       "3                                 NaN         NaN            0            NaN   \n",
       "4                                 NaN         NaN            1            NaN   \n",
       "\n",
       "   ContentLicense  OwnerDisplayName ParentId ClosedDate  CommunityOwnedDate  \\\n",
       "0    CC BY-SA 3.0               NaN      NaN        NaN                 NaN   \n",
       "1    CC BY-SA 3.0        essamSALAH      NaN        NaN                 NaN   \n",
       "2    CC BY-SA 4.0          Burkhard     24.0        NaN                 NaN   \n",
       "3    CC BY-SA 4.0       Jas Panesar     24.0        NaN                 NaN   \n",
       "4    CC BY-SA 2.5            T Pops     24.0        NaN                 NaN   \n",
       "\n",
       "  LastEditorDisplayName  \n",
       "0                   NaN  \n",
       "1                   NaN  \n",
       "2                   NaN  \n",
       "3                   NaN  \n",
       "4                   NaN  \n",
       "\n",
       "[5 rows x 22 columns]"
      ]
     },
     "execution_count": 16,
     "metadata": {},
     "output_type": "execute_result"
    }
   ],
   "source": [
    "dfTickets = df\n",
    "df.head()"
   ]
  },
  {
   "cell_type": "code",
   "execution_count": 17,
   "metadata": {},
   "outputs": [
    {
     "data": {
      "text/plain": [
       "2    652990\n",
       "1    453382\n",
       "4      3694\n",
       "5      3693\n",
       "6        53\n",
       "3        12\n",
       "7         4\n",
       "8         1\n",
       "Name: PostTypeId, dtype: int64"
      ]
     },
     "execution_count": 17,
     "metadata": {},
     "output_type": "execute_result"
    },
    {
     "data": {
      "text/plain": [
       "2    652990\n",
       "1    453382\n",
       "4      3694\n",
       "5      3693\n",
       "6        53\n",
       "3        12\n",
       "7         4\n",
       "8         1\n",
       "Name: PostTypeId, dtype: int64"
      ]
     },
     "execution_count": 17,
     "metadata": {},
     "output_type": "execute_result"
    }
   ],
   "source": [
    "df.PostTypeId.value_counts()"
   ]
  },
  {
   "cell_type": "code",
   "execution_count": 18,
   "metadata": {},
   "outputs": [],
   "source": [
    "df['text'] = df['Body']"
   ]
  },
  {
   "cell_type": "code",
   "execution_count": 19,
   "metadata": {},
   "outputs": [],
   "source": [
    "column_to_predict = 'PostTypeId'\n",
    "# Supported datasets:\n",
    "# ticket_type\n",
    "# business_service\n",
    "# category\n",
    "# impact\n",
    "# urgency\n",
    "# sub_category1\n",
    "# sub_category2\n",
    "\n",
    "#classifier = \"SVM\"  # Supported algorithms # \"SVM\" # \"NB\"\n",
    "#use_grid_search = True  # grid search is used to find hyperparameters. Searching for hyperparameters is time consuming\n",
    "remove_stop_words = True  # removes stop words from processed text\n",
    "stop_words_lang = 'english'  # used with 'remove_stop_words' and defines language of stop words collection\n",
    "use_stemming = True  # word stemming using nltk\n",
    "fit_prior = True  # if use_stemming == True then it should be set to False ?? double check\n",
    "min_data_per_class = 100  # used to determine number of samples required for each class.Classes with less than that will be excluded from the dataset. default value is 1\n",
    "\n",
    "\n"
   ]
  },
  {
   "cell_type": "code",
   "execution_count": 20,
   "metadata": {
    "scrolled": false
   },
   "outputs": [
    {
     "name": "stdout",
     "output_type": "stream",
     "text": [
      "Shape of dataset before removing classes with less then 100 rows: (1113829, 23)\n",
      "Number of classes before removing classes with less then 100 rows: 8\n",
      "Shape of dataset before removing classes with less then 100 rows: (1113829, 23)\n",
      "Number of classes before removing classes with less then 100 rows: 8\n",
      "Shape of dataset after removing classes with less then 100 rows: (1113759, 23)\n",
      "Number of classes after removing classes with less then 100 rows: 4\n",
      "Shape of dataset after removing classes with less then 100 rows: (1113759, 23)\n",
      "Number of classes after removing classes with less then 100 rows: 4\n"
     ]
    }
   ],
   "source": [
    "text_columns = \"text\"  # \"title\" - text columns used for TF-IDF\n",
    "\n",
    "# Removing rows related to classes represented by low amount of data\n",
    "print(\"Shape of dataset before removing classes with less then \" + str(min_data_per_class) + \" rows: \"+str(df.shape))\n",
    "print(\"Number of classes before removing classes with less then \" + str(min_data_per_class) + \" rows: \"+str(len(np.unique(df[column_to_predict]))))\n",
    "bytag = df.groupby(column_to_predict).aggregate(np.count_nonzero)\n",
    "tags = bytag[bytag.Body > min_data_per_class].index\n",
    "df = df[df[column_to_predict].isin(tags)]\n",
    "print(\n",
    "    \"Shape of dataset after removing classes with less then \"\n",
    "    + str(min_data_per_class) + \" rows: \"\n",
    "    + str(df.shape)\n",
    ")\n",
    "print(\n",
    "    \"Number of classes after removing classes with less then \"\n",
    "    + str(min_data_per_class) + \" rows: \"\n",
    "    + str(len(np.unique(df[column_to_predict])))\n",
    ")"
   ]
  },
  {
   "cell_type": "code",
   "execution_count": 21,
   "metadata": {},
   "outputs": [],
   "source": [
    "num_classes = len(np.unique(df[column_to_predict]))"
   ]
  },
  {
   "cell_type": "code",
   "execution_count": 22,
   "metadata": {
    "scrolled": true
   },
   "outputs": [
    {
     "name": "stdout",
     "output_type": "stream",
     "text": [
      "2    652990\n",
      "1    453382\n",
      "4      3694\n",
      "5      3693\n",
      "Name: PostTypeId, dtype: int64\n",
      "2    652990\n",
      "1    453382\n",
      "4      3694\n",
      "5      3693\n",
      "Name: PostTypeId, dtype: int64\n"
     ]
    }
   ],
   "source": [
    "print(df[column_to_predict].value_counts())"
   ]
  },
  {
   "cell_type": "code",
   "execution_count": 23,
   "metadata": {
    "scrolled": false
   },
   "outputs": [
    {
     "data": {
      "text/html": [
       "<div>\n",
       "<style scoped>\n",
       "    .dataframe tbody tr th:only-of-type {\n",
       "        vertical-align: middle;\n",
       "    }\n",
       "\n",
       "    .dataframe tbody tr th {\n",
       "        vertical-align: top;\n",
       "    }\n",
       "\n",
       "    .dataframe thead th {\n",
       "        text-align: right;\n",
       "    }\n",
       "</style>\n",
       "<table border=\"1\" class=\"dataframe\">\n",
       "  <thead>\n",
       "    <tr style=\"text-align: right;\">\n",
       "      <th></th>\n",
       "      <th>Id</th>\n",
       "      <th>PostTypeId</th>\n",
       "      <th>AcceptedAnswerId</th>\n",
       "      <th>CreationDate</th>\n",
       "      <th>Score</th>\n",
       "      <th>ViewCount</th>\n",
       "      <th>Body</th>\n",
       "      <th>OwnerUserId</th>\n",
       "      <th>LastEditorUserId</th>\n",
       "      <th>LastEditDate</th>\n",
       "      <th>...</th>\n",
       "      <th>AnswerCount</th>\n",
       "      <th>CommentCount</th>\n",
       "      <th>FavoriteCount</th>\n",
       "      <th>ContentLicense</th>\n",
       "      <th>OwnerDisplayName</th>\n",
       "      <th>ParentId</th>\n",
       "      <th>ClosedDate</th>\n",
       "      <th>CommunityOwnedDate</th>\n",
       "      <th>LastEditorDisplayName</th>\n",
       "      <th>text</th>\n",
       "    </tr>\n",
       "  </thead>\n",
       "  <tbody>\n",
       "    <tr>\n",
       "      <th>0</th>\n",
       "      <td>1</td>\n",
       "      <td>1</td>\n",
       "      <td>727273.0</td>\n",
       "      <td>2009-07-15T06:27:46.723</td>\n",
       "      <td>175</td>\n",
       "      <td>114409.0</td>\n",
       "      <td>&lt;p&gt;A Vista virtual machine I use only has a 10...</td>\n",
       "      <td>1.0</td>\n",
       "      <td>-1.0</td>\n",
       "      <td>2020-06-12T13:48:39.473</td>\n",
       "      <td>...</td>\n",
       "      <td>12.0</td>\n",
       "      <td>10</td>\n",
       "      <td>89.0</td>\n",
       "      <td>CC BY-SA 3.0</td>\n",
       "      <td>NaN</td>\n",
       "      <td>NaN</td>\n",
       "      <td>NaN</td>\n",
       "      <td>NaN</td>\n",
       "      <td>NaN</td>\n",
       "      <td>&lt;p&gt;A Vista virtual machine I use only has a 10...</td>\n",
       "    </tr>\n",
       "    <tr>\n",
       "      <th>1</th>\n",
       "      <td>24</td>\n",
       "      <td>1</td>\n",
       "      <td>NaN</td>\n",
       "      <td>2009-07-08T16:32:47.817</td>\n",
       "      <td>7</td>\n",
       "      <td>6536.0</td>\n",
       "      <td>&lt;p&gt;I used to record important technical meetin...</td>\n",
       "      <td>NaN</td>\n",
       "      <td>36744.0</td>\n",
       "      <td>2012-08-08T21:06:48.087</td>\n",
       "      <td>...</td>\n",
       "      <td>6.0</td>\n",
       "      <td>0</td>\n",
       "      <td>5.0</td>\n",
       "      <td>CC BY-SA 3.0</td>\n",
       "      <td>essamSALAH</td>\n",
       "      <td>NaN</td>\n",
       "      <td>NaN</td>\n",
       "      <td>NaN</td>\n",
       "      <td>NaN</td>\n",
       "      <td>&lt;p&gt;I used to record important technical meetin...</td>\n",
       "    </tr>\n",
       "    <tr>\n",
       "      <th>2</th>\n",
       "      <td>25</td>\n",
       "      <td>2</td>\n",
       "      <td>NaN</td>\n",
       "      <td>2009-07-08T16:34:52.867</td>\n",
       "      <td>0</td>\n",
       "      <td>NaN</td>\n",
       "      <td>&lt;p&gt;You could use a filter on the recording. A ...</td>\n",
       "      <td>9637.0</td>\n",
       "      <td>1218738.0</td>\n",
       "      <td>2020-10-09T16:36:16.537</td>\n",
       "      <td>...</td>\n",
       "      <td>NaN</td>\n",
       "      <td>0</td>\n",
       "      <td>NaN</td>\n",
       "      <td>CC BY-SA 4.0</td>\n",
       "      <td>Burkhard</td>\n",
       "      <td>24.0</td>\n",
       "      <td>NaN</td>\n",
       "      <td>NaN</td>\n",
       "      <td>NaN</td>\n",
       "      <td>&lt;p&gt;You could use a filter on the recording. A ...</td>\n",
       "    </tr>\n",
       "    <tr>\n",
       "      <th>3</th>\n",
       "      <td>26</td>\n",
       "      <td>2</td>\n",
       "      <td>NaN</td>\n",
       "      <td>2009-07-08T16:59:00.587</td>\n",
       "      <td>0</td>\n",
       "      <td>NaN</td>\n",
       "      <td>&lt;p&gt;Try out something like Audible for Macs, an...</td>\n",
       "      <td>23242.0</td>\n",
       "      <td>1218738.0</td>\n",
       "      <td>2020-10-19T16:12:15.757</td>\n",
       "      <td>...</td>\n",
       "      <td>NaN</td>\n",
       "      <td>0</td>\n",
       "      <td>NaN</td>\n",
       "      <td>CC BY-SA 4.0</td>\n",
       "      <td>Jas Panesar</td>\n",
       "      <td>24.0</td>\n",
       "      <td>NaN</td>\n",
       "      <td>NaN</td>\n",
       "      <td>NaN</td>\n",
       "      <td>&lt;p&gt;Try out something like Audible for Macs, an...</td>\n",
       "    </tr>\n",
       "    <tr>\n",
       "      <th>4</th>\n",
       "      <td>27</td>\n",
       "      <td>2</td>\n",
       "      <td>NaN</td>\n",
       "      <td>2009-07-08T17:15:59.477</td>\n",
       "      <td>1</td>\n",
       "      <td>NaN</td>\n",
       "      <td>&lt;p&gt;You definitely need some sort of software t...</td>\n",
       "      <td>45675.0</td>\n",
       "      <td>NaN</td>\n",
       "      <td>NaN</td>\n",
       "      <td>...</td>\n",
       "      <td>NaN</td>\n",
       "      <td>1</td>\n",
       "      <td>NaN</td>\n",
       "      <td>CC BY-SA 2.5</td>\n",
       "      <td>T Pops</td>\n",
       "      <td>24.0</td>\n",
       "      <td>NaN</td>\n",
       "      <td>NaN</td>\n",
       "      <td>NaN</td>\n",
       "      <td>&lt;p&gt;You definitely need some sort of software t...</td>\n",
       "    </tr>\n",
       "  </tbody>\n",
       "</table>\n",
       "<p>5 rows × 23 columns</p>\n",
       "</div>"
      ],
      "text/plain": [
       "   Id  PostTypeId  AcceptedAnswerId             CreationDate  Score  \\\n",
       "0   1           1          727273.0  2009-07-15T06:27:46.723    175   \n",
       "1  24           1               NaN  2009-07-08T16:32:47.817      7   \n",
       "2  25           2               NaN  2009-07-08T16:34:52.867      0   \n",
       "3  26           2               NaN  2009-07-08T16:59:00.587      0   \n",
       "4  27           2               NaN  2009-07-08T17:15:59.477      1   \n",
       "\n",
       "   ViewCount                                               Body  OwnerUserId  \\\n",
       "0   114409.0  <p>A Vista virtual machine I use only has a 10...          1.0   \n",
       "1     6536.0  <p>I used to record important technical meetin...          NaN   \n",
       "2        NaN  <p>You could use a filter on the recording. A ...       9637.0   \n",
       "3        NaN  <p>Try out something like Audible for Macs, an...      23242.0   \n",
       "4        NaN  <p>You definitely need some sort of software t...      45675.0   \n",
       "\n",
       "   LastEditorUserId             LastEditDate  ... AnswerCount CommentCount  \\\n",
       "0              -1.0  2020-06-12T13:48:39.473  ...        12.0           10   \n",
       "1           36744.0  2012-08-08T21:06:48.087  ...         6.0            0   \n",
       "2         1218738.0  2020-10-09T16:36:16.537  ...         NaN            0   \n",
       "3         1218738.0  2020-10-19T16:12:15.757  ...         NaN            0   \n",
       "4               NaN                      NaN  ...         NaN            1   \n",
       "\n",
       "  FavoriteCount  ContentLicense  OwnerDisplayName  ParentId ClosedDate  \\\n",
       "0          89.0    CC BY-SA 3.0               NaN       NaN        NaN   \n",
       "1           5.0    CC BY-SA 3.0        essamSALAH       NaN        NaN   \n",
       "2           NaN    CC BY-SA 4.0          Burkhard      24.0        NaN   \n",
       "3           NaN    CC BY-SA 4.0       Jas Panesar      24.0        NaN   \n",
       "4           NaN    CC BY-SA 2.5            T Pops      24.0        NaN   \n",
       "\n",
       "  CommunityOwnedDate  LastEditorDisplayName  \\\n",
       "0                NaN                    NaN   \n",
       "1                NaN                    NaN   \n",
       "2                NaN                    NaN   \n",
       "3                NaN                    NaN   \n",
       "4                NaN                    NaN   \n",
       "\n",
       "                                                text  \n",
       "0  <p>A Vista virtual machine I use only has a 10...  \n",
       "1  <p>I used to record important technical meetin...  \n",
       "2  <p>You could use a filter on the recording. A ...  \n",
       "3  <p>Try out something like Audible for Macs, an...  \n",
       "4  <p>You definitely need some sort of software t...  \n",
       "\n",
       "[5 rows x 23 columns]"
      ]
     },
     "execution_count": 23,
     "metadata": {},
     "output_type": "execute_result"
    },
    {
     "data": {
      "text/html": [
       "<div>\n",
       "<style scoped>\n",
       "    .dataframe tbody tr th:only-of-type {\n",
       "        vertical-align: middle;\n",
       "    }\n",
       "\n",
       "    .dataframe tbody tr th {\n",
       "        vertical-align: top;\n",
       "    }\n",
       "\n",
       "    .dataframe thead th {\n",
       "        text-align: right;\n",
       "    }\n",
       "</style>\n",
       "<table border=\"1\" class=\"dataframe\">\n",
       "  <thead>\n",
       "    <tr style=\"text-align: right;\">\n",
       "      <th></th>\n",
       "      <th>Id</th>\n",
       "      <th>PostTypeId</th>\n",
       "      <th>AcceptedAnswerId</th>\n",
       "      <th>CreationDate</th>\n",
       "      <th>Score</th>\n",
       "      <th>ViewCount</th>\n",
       "      <th>Body</th>\n",
       "      <th>OwnerUserId</th>\n",
       "      <th>LastEditorUserId</th>\n",
       "      <th>LastEditDate</th>\n",
       "      <th>...</th>\n",
       "      <th>AnswerCount</th>\n",
       "      <th>CommentCount</th>\n",
       "      <th>FavoriteCount</th>\n",
       "      <th>ContentLicense</th>\n",
       "      <th>OwnerDisplayName</th>\n",
       "      <th>ParentId</th>\n",
       "      <th>ClosedDate</th>\n",
       "      <th>CommunityOwnedDate</th>\n",
       "      <th>LastEditorDisplayName</th>\n",
       "      <th>text</th>\n",
       "    </tr>\n",
       "  </thead>\n",
       "  <tbody>\n",
       "    <tr>\n",
       "      <th>0</th>\n",
       "      <td>1</td>\n",
       "      <td>1</td>\n",
       "      <td>727273.0</td>\n",
       "      <td>2009-07-15T06:27:46.723</td>\n",
       "      <td>175</td>\n",
       "      <td>114409.0</td>\n",
       "      <td>&lt;p&gt;A Vista virtual machine I use only has a 10...</td>\n",
       "      <td>1.0</td>\n",
       "      <td>-1.0</td>\n",
       "      <td>2020-06-12T13:48:39.473</td>\n",
       "      <td>...</td>\n",
       "      <td>12.0</td>\n",
       "      <td>10</td>\n",
       "      <td>89.0</td>\n",
       "      <td>CC BY-SA 3.0</td>\n",
       "      <td>NaN</td>\n",
       "      <td>NaN</td>\n",
       "      <td>NaN</td>\n",
       "      <td>NaN</td>\n",
       "      <td>NaN</td>\n",
       "      <td>&lt;p&gt;A Vista virtual machine I use only has a 10...</td>\n",
       "    </tr>\n",
       "    <tr>\n",
       "      <th>1</th>\n",
       "      <td>24</td>\n",
       "      <td>1</td>\n",
       "      <td>NaN</td>\n",
       "      <td>2009-07-08T16:32:47.817</td>\n",
       "      <td>7</td>\n",
       "      <td>6536.0</td>\n",
       "      <td>&lt;p&gt;I used to record important technical meetin...</td>\n",
       "      <td>NaN</td>\n",
       "      <td>36744.0</td>\n",
       "      <td>2012-08-08T21:06:48.087</td>\n",
       "      <td>...</td>\n",
       "      <td>6.0</td>\n",
       "      <td>0</td>\n",
       "      <td>5.0</td>\n",
       "      <td>CC BY-SA 3.0</td>\n",
       "      <td>essamSALAH</td>\n",
       "      <td>NaN</td>\n",
       "      <td>NaN</td>\n",
       "      <td>NaN</td>\n",
       "      <td>NaN</td>\n",
       "      <td>&lt;p&gt;I used to record important technical meetin...</td>\n",
       "    </tr>\n",
       "    <tr>\n",
       "      <th>2</th>\n",
       "      <td>25</td>\n",
       "      <td>2</td>\n",
       "      <td>NaN</td>\n",
       "      <td>2009-07-08T16:34:52.867</td>\n",
       "      <td>0</td>\n",
       "      <td>NaN</td>\n",
       "      <td>&lt;p&gt;You could use a filter on the recording. A ...</td>\n",
       "      <td>9637.0</td>\n",
       "      <td>1218738.0</td>\n",
       "      <td>2020-10-09T16:36:16.537</td>\n",
       "      <td>...</td>\n",
       "      <td>NaN</td>\n",
       "      <td>0</td>\n",
       "      <td>NaN</td>\n",
       "      <td>CC BY-SA 4.0</td>\n",
       "      <td>Burkhard</td>\n",
       "      <td>24.0</td>\n",
       "      <td>NaN</td>\n",
       "      <td>NaN</td>\n",
       "      <td>NaN</td>\n",
       "      <td>&lt;p&gt;You could use a filter on the recording. A ...</td>\n",
       "    </tr>\n",
       "    <tr>\n",
       "      <th>3</th>\n",
       "      <td>26</td>\n",
       "      <td>2</td>\n",
       "      <td>NaN</td>\n",
       "      <td>2009-07-08T16:59:00.587</td>\n",
       "      <td>0</td>\n",
       "      <td>NaN</td>\n",
       "      <td>&lt;p&gt;Try out something like Audible for Macs, an...</td>\n",
       "      <td>23242.0</td>\n",
       "      <td>1218738.0</td>\n",
       "      <td>2020-10-19T16:12:15.757</td>\n",
       "      <td>...</td>\n",
       "      <td>NaN</td>\n",
       "      <td>0</td>\n",
       "      <td>NaN</td>\n",
       "      <td>CC BY-SA 4.0</td>\n",
       "      <td>Jas Panesar</td>\n",
       "      <td>24.0</td>\n",
       "      <td>NaN</td>\n",
       "      <td>NaN</td>\n",
       "      <td>NaN</td>\n",
       "      <td>&lt;p&gt;Try out something like Audible for Macs, an...</td>\n",
       "    </tr>\n",
       "    <tr>\n",
       "      <th>4</th>\n",
       "      <td>27</td>\n",
       "      <td>2</td>\n",
       "      <td>NaN</td>\n",
       "      <td>2009-07-08T17:15:59.477</td>\n",
       "      <td>1</td>\n",
       "      <td>NaN</td>\n",
       "      <td>&lt;p&gt;You definitely need some sort of software t...</td>\n",
       "      <td>45675.0</td>\n",
       "      <td>NaN</td>\n",
       "      <td>NaN</td>\n",
       "      <td>...</td>\n",
       "      <td>NaN</td>\n",
       "      <td>1</td>\n",
       "      <td>NaN</td>\n",
       "      <td>CC BY-SA 2.5</td>\n",
       "      <td>T Pops</td>\n",
       "      <td>24.0</td>\n",
       "      <td>NaN</td>\n",
       "      <td>NaN</td>\n",
       "      <td>NaN</td>\n",
       "      <td>&lt;p&gt;You definitely need some sort of software t...</td>\n",
       "    </tr>\n",
       "  </tbody>\n",
       "</table>\n",
       "<p>5 rows × 23 columns</p>\n",
       "</div>"
      ],
      "text/plain": [
       "   Id  PostTypeId  AcceptedAnswerId             CreationDate  Score  \\\n",
       "0   1           1          727273.0  2009-07-15T06:27:46.723    175   \n",
       "1  24           1               NaN  2009-07-08T16:32:47.817      7   \n",
       "2  25           2               NaN  2009-07-08T16:34:52.867      0   \n",
       "3  26           2               NaN  2009-07-08T16:59:00.587      0   \n",
       "4  27           2               NaN  2009-07-08T17:15:59.477      1   \n",
       "\n",
       "   ViewCount                                               Body  OwnerUserId  \\\n",
       "0   114409.0  <p>A Vista virtual machine I use only has a 10...          1.0   \n",
       "1     6536.0  <p>I used to record important technical meetin...          NaN   \n",
       "2        NaN  <p>You could use a filter on the recording. A ...       9637.0   \n",
       "3        NaN  <p>Try out something like Audible for Macs, an...      23242.0   \n",
       "4        NaN  <p>You definitely need some sort of software t...      45675.0   \n",
       "\n",
       "   LastEditorUserId             LastEditDate  ... AnswerCount CommentCount  \\\n",
       "0              -1.0  2020-06-12T13:48:39.473  ...        12.0           10   \n",
       "1           36744.0  2012-08-08T21:06:48.087  ...         6.0            0   \n",
       "2         1218738.0  2020-10-09T16:36:16.537  ...         NaN            0   \n",
       "3         1218738.0  2020-10-19T16:12:15.757  ...         NaN            0   \n",
       "4               NaN                      NaN  ...         NaN            1   \n",
       "\n",
       "  FavoriteCount  ContentLicense  OwnerDisplayName  ParentId ClosedDate  \\\n",
       "0          89.0    CC BY-SA 3.0               NaN       NaN        NaN   \n",
       "1           5.0    CC BY-SA 3.0        essamSALAH       NaN        NaN   \n",
       "2           NaN    CC BY-SA 4.0          Burkhard      24.0        NaN   \n",
       "3           NaN    CC BY-SA 4.0       Jas Panesar      24.0        NaN   \n",
       "4           NaN    CC BY-SA 2.5            T Pops      24.0        NaN   \n",
       "\n",
       "  CommunityOwnedDate  LastEditorDisplayName  \\\n",
       "0                NaN                    NaN   \n",
       "1                NaN                    NaN   \n",
       "2                NaN                    NaN   \n",
       "3                NaN                    NaN   \n",
       "4                NaN                    NaN   \n",
       "\n",
       "                                                text  \n",
       "0  <p>A Vista virtual machine I use only has a 10...  \n",
       "1  <p>I used to record important technical meetin...  \n",
       "2  <p>You could use a filter on the recording. A ...  \n",
       "3  <p>Try out something like Audible for Macs, an...  \n",
       "4  <p>You definitely need some sort of software t...  \n",
       "\n",
       "[5 rows x 23 columns]"
      ]
     },
     "execution_count": 23,
     "metadata": {},
     "output_type": "execute_result"
    }
   ],
   "source": [
    "df.head()"
   ]
  },
  {
   "cell_type": "code",
   "execution_count": 24,
   "metadata": {},
   "outputs": [
    {
     "name": "stdout",
     "output_type": "stream",
     "text": [
      "(1113759, 23)\n",
      "(1113759, 23)\n",
      "(1111493, 23)\n",
      "(1111493, 23)\n"
     ]
    }
   ],
   "source": [
    "print(df.shape)\n",
    "df = df.dropna(subset=['PostTypeId', 'text'])\n",
    "print(df.shape)\n",
    "\n"
   ]
  },
  {
   "cell_type": "code",
   "execution_count": 25,
   "metadata": {},
   "outputs": [],
   "source": [
    "%%time\n",
    "df = df.reset_index(drop=True)\n",
    "REPLACE_BY_SPACE_RE = re.compile('[/(){}\\[\\]\\|@,;]')\n",
    "BAD_SYMBOLS_RE = re.compile('[^0-9a-z #+_]')\n",
    "STOPWORDS = set(stopwords.words('english'))\n",
    "def clean_text(text):\n",
    "    \"\"\"\n",
    "        text: a string\n",
    "        \n",
    "        return: modified initial string\n",
    "    \"\"\"\n",
    "    text = text.lower() # lowercase text\n",
    "    text = REPLACE_BY_SPACE_RE.sub(' ', text) # replace REPLACE_BY_SPACE_RE symbols by space in text. substitute the matched string in REPLACE_BY_SPACE_RE with space.\n",
    "    text = BAD_SYMBOLS_RE.sub('', text) # remove symbols which are in BAD_SYMBOLS_RE from text. substitute the matched string in BAD_SYMBOLS_RE with nothing. \n",
    "    text = text.replace('x', '')\n",
    "#    text = re.sub(r'\\W+', '', text)\n",
    "    text = ' '.join(word for word in text.split() if word not in STOPWORDS) # remove stopwors from text\n",
    "    return text\n",
    "df['text'] = df['text'].apply(clean_text)"
   ]
  },
  {
   "cell_type": "code",
   "execution_count": 26,
   "metadata": {},
   "outputs": [],
   "source": [
    "%%time\n",
    "df.to_csv('PostsClean.csv')"
   ]
  },
  {
   "cell_type": "code",
   "execution_count": 27,
   "metadata": {
    "scrolled": false
   },
   "outputs": [
    {
     "data": {
      "text/plain": [
       "Id                             0\n",
       "PostTypeId                     0\n",
       "AcceptedAnswerId          926570\n",
       "CreationDate                   0\n",
       "Score                          0\n",
       "ViewCount                 658111\n",
       "Body                           0\n",
       "OwnerUserId                28225\n",
       "LastEditorUserId          677622\n",
       "LastEditDate              672771\n",
       "LastActivityDate               0\n",
       "Title                     658111\n",
       "Tags                      658111\n",
       "AnswerCount               658111\n",
       "CommentCount                   0\n",
       "FavoriteCount             998953\n",
       "ContentLicense                 0\n",
       "OwnerDisplayName         1051580\n",
       "ParentId                  458503\n",
       "ClosedDate               1084545\n",
       "CommunityOwnedDate       1105200\n",
       "LastEditorDisplayName    1105761\n",
       "text                           0\n",
       "dtype: int64"
      ]
     },
     "execution_count": 27,
     "metadata": {},
     "output_type": "execute_result"
    },
    {
     "data": {
      "text/plain": [
       "Id                             0\n",
       "PostTypeId                     0\n",
       "AcceptedAnswerId          926570\n",
       "CreationDate                   0\n",
       "Score                          0\n",
       "ViewCount                 658111\n",
       "Body                           0\n",
       "OwnerUserId                28225\n",
       "LastEditorUserId          677622\n",
       "LastEditDate              672771\n",
       "LastActivityDate               0\n",
       "Title                     658111\n",
       "Tags                      658111\n",
       "AnswerCount               658111\n",
       "CommentCount                   0\n",
       "FavoriteCount             998953\n",
       "ContentLicense                 0\n",
       "OwnerDisplayName         1051580\n",
       "ParentId                  458503\n",
       "ClosedDate               1084545\n",
       "CommunityOwnedDate       1105200\n",
       "LastEditorDisplayName    1105761\n",
       "text                           0\n",
       "dtype: int64"
      ]
     },
     "execution_count": 27,
     "metadata": {},
     "output_type": "execute_result"
    }
   ],
   "source": [
    "df.isnull().sum()"
   ]
  },
  {
   "cell_type": "code",
   "execution_count": 28,
   "metadata": {},
   "outputs": [],
   "source": [
    "# df2 = df2.reset_index(drop=True)\n",
    "# REPLACE_BY_SPACE_RE = re.compile('[/(){}\\[\\]\\|@,;]')\n",
    "# BAD_SYMBOLS_RE = re.compile('[^0-9a-z #+_]')\n",
    "# STOPWORDS = set(stopwords.words('english'))\n",
    "\n",
    "# def clean_text(text):\n",
    "#     \"\"\"\n",
    "#         text: a string\n",
    "        \n",
    "#         return: modified initial string\n",
    "#     \"\"\"\n",
    "#     text = text.lower() # lowercase text\n",
    "#     text = REPLACE_BY_SPACE_RE.sub(' ', text) # replace REPLACE_BY_SPACE_RE symbols by space in text. substitute the matched string in REPLACE_BY_SPACE_RE with space.\n",
    "#     text = BAD_SYMBOLS_RE.sub('', text) # remove symbols which are in BAD_SYMBOLS_RE from text. substitute the matched string in BAD_SYMBOLS_RE with nothing. \n",
    "#     text = text.replace('x', '')\n",
    "# #    text = re.sub(r'\\W+', '', text)\n",
    "#     text = ' '.join(word for word in text.split() if word not in STOPWORDS) # remove stopwors from text\n",
    "#     return text\n",
    "# df2['text'] = df2['text'].apply(clean_text)"
   ]
  },
  {
   "cell_type": "code",
   "execution_count": 29,
   "metadata": {},
   "outputs": [
    {
     "name": "stdout",
     "output_type": "stream",
     "text": [
      "Found 2960082 unique tokens.\n",
      "Found 2960082 unique tokens.\n"
     ]
    }
   ],
   "source": [
    "%%time\n",
    "# The maximum number of words to be used. (most frequent)\n",
    "MAX_NB_WORDS = 80000\n",
    "# Max number of words in each complaint.\n",
    "MAX_SEQUENCE_LENGTH = 250\n",
    "# This is fixed.\n",
    "EMBEDDING_DIM = 25\n",
    "\n",
    "tokenizer = Tokenizer(num_words=MAX_NB_WORDS, filters='!\"#$%&()*+,-./:;<=>?@[\\]^_`{|}~', lower=True)\n",
    "tokenizer.fit_on_texts(df['text'].values)\n",
    "word_index = tokenizer.word_index\n",
    "print('Found %s unique tokens.' % len(word_index))"
   ]
  },
  {
   "cell_type": "code",
   "execution_count": 30,
   "metadata": {},
   "outputs": [
    {
     "name": "stdout",
     "output_type": "stream",
     "text": [
      "Shape of data tensor: (1111493, 250)\n",
      "Shape of data tensor: (1111493, 250)\n"
     ]
    }
   ],
   "source": [
    "%%time\n",
    "X = tokenizer.texts_to_sequences(df['text'].values)\n",
    "X = pad_sequences(X, maxlen=MAX_SEQUENCE_LENGTH)\n",
    "print('Shape of data tensor:', X.shape)"
   ]
  },
  {
   "cell_type": "code",
   "execution_count": 31,
   "metadata": {},
   "outputs": [],
   "source": [
    "# X_kaggle = tokenizer.texts_to_sequences(df2['text'].values)\n",
    "# X_kaggle = pad_sequences(X_kaggle, maxlen=MAX_SEQUENCE_LENGTH)\n",
    "# print('Shape of data tensor:', X_kaggle.shape)"
   ]
  },
  {
   "cell_type": "code",
   "execution_count": 32,
   "metadata": {},
   "outputs": [
    {
     "name": "stdout",
     "output_type": "stream",
     "text": [
      "Shape of label tensor: (1111493, 4)\n",
      "Shape of label tensor: (1111493, 4)\n"
     ]
    }
   ],
   "source": [
    "Y = pd.get_dummies(df[column_to_predict]).values\n",
    "print('Shape of label tensor:', Y.shape)"
   ]
  },
  {
   "cell_type": "code",
   "execution_count": 33,
   "metadata": {
    "scrolled": false
   },
   "outputs": [
    {
     "data": {
      "text/plain": [
       "array([1, 2, 4, 5])"
      ]
     },
     "execution_count": 33,
     "metadata": {},
     "output_type": "execute_result"
    },
    {
     "data": {
      "text/plain": [
       "array([1, 2, 4, 5])"
      ]
     },
     "execution_count": 33,
     "metadata": {},
     "output_type": "execute_result"
    }
   ],
   "source": [
    "np.unique(df[column_to_predict])"
   ]
  },
  {
   "cell_type": "code",
   "execution_count": 34,
   "metadata": {
    "scrolled": false
   },
   "outputs": [
    {
     "name": "stdout",
     "output_type": "stream",
     "text": [
      "(889194, 250) (889194, 4)\n",
      "(222299, 250) (222299, 4)\n",
      "(889194, 250) (889194, 4)\n",
      "(222299, 250) (222299, 4)\n"
     ]
    }
   ],
   "source": [
    "X_train, X_test, Y_train, Y_test = train_test_split(X,Y, test_size = 0.20, random_state = 42)\n",
    "print(X_train.shape,Y_train.shape)\n",
    "print(X_test.shape,Y_test.shape)"
   ]
  },
  {
   "cell_type": "code",
   "execution_count": 35,
   "metadata": {
    "scrolled": false
   },
   "outputs": [
    {
     "name": "stdout",
     "output_type": "stream",
     "text": [
      "Model: \"sequential\"\n",
      "_________________________________________________________________\n",
      "Layer (type)                 Output Shape              Param #   \n",
      "=================================================================\n",
      "embedding (Embedding)        (None, 250, 25)           2000000   \n",
      "_________________________________________________________________\n",
      "spatial_dropout1d (SpatialDr (None, 250, 25)           0         \n",
      "_________________________________________________________________\n",
      "lstm (LSTM)                  (None, 25)                5100      \n",
      "_________________________________________________________________\n",
      "dense (Dense)                (None, 4)                 104       \n",
      "=================================================================\n",
      "Total params: 2,005,204\n",
      "Trainable params: 2,005,204\n",
      "Non-trainable params: 0\n",
      "_________________________________________________________________\n",
      "None\n",
      "Model: \"sequential\"\n",
      "_________________________________________________________________\n",
      "Layer (type)                 Output Shape              Param #   \n",
      "=================================================================\n",
      "embedding (Embedding)        (None, 250, 25)           2000000   \n",
      "_________________________________________________________________\n",
      "spatial_dropout1d (SpatialDr (None, 250, 25)           0         \n",
      "_________________________________________________________________\n",
      "lstm (LSTM)                  (None, 25)                5100      \n",
      "_________________________________________________________________\n",
      "dense (Dense)                (None, 4)                 104       \n",
      "=================================================================\n",
      "Total params: 2,005,204\n",
      "Trainable params: 2,005,204\n",
      "Non-trainable params: 0\n",
      "_________________________________________________________________\n",
      "None\n"
     ]
    }
   ],
   "source": [
    "model = Sequential()\n",
    "model.add(Embedding(MAX_NB_WORDS, EMBEDDING_DIM, input_length=X.shape[1]))\n",
    "model.add(SpatialDropout1D(0.2))\n",
    "model.add(LSTM(25, dropout=0.2, recurrent_dropout=0.2))\n",
    "#the number below should be the number of classes\n",
    "num_classes = len(np.unique(df[column_to_predict]))\n",
    "model.add(Dense(num_classes, activation='softmax'))\n",
    "model.compile(loss='categorical_crossentropy', optimizer='adam', metrics=['accuracy'])\n",
    "print(model.summary())"
   ]
  },
  {
   "cell_type": "code",
   "execution_count": 36,
   "metadata": {
    "scrolled": false
   },
   "outputs": [
    {
     "name": "stdout",
     "output_type": "stream",
     "text": [
      "Epoch 1/3\n",
      "Epoch 1/3\n",
      "1564/1564 [==============================] - 8331s 5s/step - loss: 0.4610 - accuracy: 0.7964 - val_loss: 0.1677 - val_accuracy: 0.9388\n",
      "1564/1564 [==============================] - 8331s 5s/step - loss: 0.4610 - accuracy: 0.7964 - val_loss: 0.1677 - val_accuracy: 0.9388\n",
      "Epoch 2/3\n",
      "Epoch 2/3\n",
      "1564/1564 [==============================] - 6390s 4s/step - loss: 0.1518 - accuracy: 0.9449 - val_loss: 0.1461 - val_accuracy: 0.9472\n",
      "1564/1564 [==============================] - 6390s 4s/step - loss: 0.1518 - accuracy: 0.9449 - val_loss: 0.1461 - val_accuracy: 0.9472\n",
      "Epoch 3/3\n",
      "Epoch 3/3\n",
      "1564/1564 [==============================] - 5910s 4s/step - loss: 0.1195 - accuracy: 0.9570 - val_loss: 0.1372 - val_accuracy: 0.9501\n"
     ]
    }
   ],
   "source": [
    "epochs = 3\n",
    "batch_size = 512\n",
    "\n",
    "history = model.fit(X_train, Y_train, epochs=epochs, batch_size=batch_size,validation_split=0.1,callbacks=[EarlyStopping(monitor='val_loss', patience=3, min_delta=0.0001)])"
   ]
  },
  {
   "cell_type": "code",
   "execution_count": 37,
   "metadata": {},
   "outputs": [
    {
     "name": "stdout",
     "output_type": "stream",
     "text": [
      "INFO:tensorflow:Assets written to: PostTypeClassifier/assets\n"
     ]
    }
   ],
   "source": [
    "model.save('PostTypeClassifier')"
   ]
  },
  {
   "cell_type": "code",
   "execution_count": 39,
   "metadata": {
    "scrolled": true
   },
   "outputs": [
    {
     "name": "stdout",
     "output_type": "stream",
     "text": [
      "6947/6947 [==============================] - 443s 64ms/step - loss: 0.1355 - accuracy: 0.9507\n"
     ]
    },
    {
     "ename": "IndexError",
     "evalue": "list index out of range",
     "output_type": "error",
     "traceback": [
      "\u001b[0;31m---------------------------------------------------------------------------\u001b[0m",
      "\u001b[0;31mIndexError\u001b[0m                                Traceback (most recent call last)",
      "\u001b[0;32m<ipython-input-39-008087e6d734>\u001b[0m in \u001b[0;36m<module>\u001b[0;34m\u001b[0m\n\u001b[1;32m      1\u001b[0m \u001b[0maccr\u001b[0m \u001b[0;34m=\u001b[0m \u001b[0mmodel\u001b[0m\u001b[0;34m.\u001b[0m\u001b[0mevaluate\u001b[0m\u001b[0;34m(\u001b[0m\u001b[0mX_test\u001b[0m\u001b[0;34m,\u001b[0m\u001b[0mY_test\u001b[0m\u001b[0;34m)\u001b[0m\u001b[0;34m\u001b[0m\u001b[0;34m\u001b[0m\u001b[0m\n\u001b[0;32m----> 2\u001b[0;31m \u001b[0mprint\u001b[0m\u001b[0;34m(\u001b[0m\u001b[0;34m'Test set\\n  Loss: {:0.3f}\\n  Accuracy: {:0.3f}\\n  Precision: {:0.3f}\\n  Recall: {:0.3f}'\u001b[0m\u001b[0;34m.\u001b[0m\u001b[0mformat\u001b[0m\u001b[0;34m(\u001b[0m\u001b[0maccr\u001b[0m\u001b[0;34m[\u001b[0m\u001b[0;36m0\u001b[0m\u001b[0;34m]\u001b[0m\u001b[0;34m,\u001b[0m\u001b[0maccr\u001b[0m\u001b[0;34m[\u001b[0m\u001b[0;36m1\u001b[0m\u001b[0;34m]\u001b[0m\u001b[0;34m,\u001b[0m \u001b[0maccr\u001b[0m\u001b[0;34m[\u001b[0m\u001b[0;36m2\u001b[0m\u001b[0;34m]\u001b[0m\u001b[0;34m,\u001b[0m \u001b[0maccr\u001b[0m\u001b[0;34m[\u001b[0m\u001b[0;36m3\u001b[0m\u001b[0;34m]\u001b[0m\u001b[0;34m)\u001b[0m\u001b[0;34m)\u001b[0m\u001b[0;34m\u001b[0m\u001b[0;34m\u001b[0m\u001b[0m\n\u001b[0m",
      "\u001b[0;31mIndexError\u001b[0m: list index out of range"
     ]
    }
   ],
   "source": [
    "accr = model.evaluate(X_test,Y_test)\n",
    "print('Test set\\n  Loss: {:0.3f}\\n  Accuracy: {:0.3f}\\n  Precision: {:0.3f}\\n  Recall: {:0.3f}'.format(accr[0],accr[1], accr[2], accr[3]))\n"
   ]
  },
  {
   "cell_type": "code",
   "execution_count": null,
   "metadata": {},
   "outputs": [],
   "source": [
    "print('Test set\\n  Loss: {:0.3f}\\n  Accuracy: {:0.3f}\\n  Precision: {:0.3f}\\n  Recall: {:0.3f}'.format(accr[0],accr[1], accr[2], accr[3]))"
   ]
  },
  {
   "cell_type": "code",
   "execution_count": 43,
   "metadata": {},
   "outputs": [
    {
     "name": "stdout",
     "output_type": "stream",
     "text": [
      "[0.13547512888908386, 0.9507330060005188]\n"
     ]
    }
   ],
   "source": [
    "print(accr)"
   ]
  },
  {
   "cell_type": "code",
   "execution_count": null,
   "metadata": {},
   "outputs": [],
   "source": []
  },
  {
   "cell_type": "code",
   "execution_count": null,
   "metadata": {},
   "outputs": [],
   "source": [
    "# %%time\n",
    "# catDict = {\n",
    "#   \"Action\": 0,\n",
    "#   \"Strategy\": 1,\n",
    "#   \"RPG\": 2,\n",
    "#   \"Adventure\": 3,\n",
    "#   \"Sport\": 4,\n",
    "# \"Sports\": 4\n",
    "# }\n",
    "# itr = 0\n",
    "# predictions = open(\"assignment1/predictions_Category.txt\", 'w')\n",
    "# predictions.write(\"userID-reviewID,prediction\\n\")\n",
    "# for u,_,d in readJSON(\"assignment1/test_Category.json.gz\"):\n",
    "#     words = d['text'].lower()\n",
    "#     cat = preds[itr]\n",
    "#     itr += 1\n",
    "#     predictions.write(u + '-' + d['reviewID'] + \",\" + str(cat) + \"\\n\")\n",
    "\n",
    "# predictions.close()"
   ]
  },
  {
   "cell_type": "code",
   "execution_count": 41,
   "metadata": {},
   "outputs": [
    {
     "name": "stderr",
     "output_type": "stream",
     "text": [
      "/home/yjeremij/.local/lib/python3.7/site-packages/tensorflow/python/keras/engine/sequential.py:450: UserWarning:\n",
      "\n",
      "`model.predict_classes()` is deprecated and will be removed after 2021-01-01. Please use instead:* `np.argmax(model.predict(x), axis=-1)`,   if your model does multi-class classification   (e.g. if it uses a `softmax` last-layer activation).* `(model.predict(x) > 0.5).astype(\"int32\")`,   if your model does binary classification   (e.g. if it uses a `sigmoid` last-layer activation).\n",
      "\n"
     ]
    }
   ],
   "source": [
    "y_pred = model.predict_classes(X_test)"
   ]
  },
  {
   "cell_type": "code",
   "execution_count": 42,
   "metadata": {},
   "outputs": [
    {
     "data": {
      "text/plain": [
       "array([   0,    0,    0,    0,    0,    0,    0,    0,    0,    0,    0,\n",
       "          0,    0,    0,    0,    0,    0,    0,    0,    0,    0,    0,\n",
       "          0,    0,    0,    0,    0,    0,    0,    0,    0,    0,    0,\n",
       "          0,    0,    0,    0,    0,    0,    0,    0,    0,    0,    0,\n",
       "          0,    0,    0,    0,    0,    0,    0,    0,    0,    0,    0,\n",
       "          0,    0,    0,    0,    0,    0,    0,    0,    0,    0,    0,\n",
       "          0,    0,    0,    0,    0,    0,    0,    0,    0,    0,    0,\n",
       "          0,    0,    0,    0,    0,    0,    0,    0,    0,    0,    0,\n",
       "          0,    0,    0,    0,    0,    0,    0,    0,    0,    0,    0,\n",
       "          0,    0,    0,    0,    0,    0,    0,    0,    0,    0,    0,\n",
       "          0,    0,    0,    0,    0,    0,    0,    0,    0,    0,    0,\n",
       "          0,    0,    0,    0,    0,    0,    0,    0,    0,    0,    0,\n",
       "          0,    0,    0,    0,    0,    0,    0,    0,    0,    0,    0,\n",
       "          0,    0,    0,    0,    0,    0,    0,    0,    0,    0,    0,\n",
       "          0,    0,    0,    0,    0,    0,    0,    0,    0,    0,    0,\n",
       "          0,    0,    0,    0,    0,    0,    0,    0,    0,    0,    0,\n",
       "          0,    0,    0,    0,    0,    0,    0,    0,    0,    0,    0,\n",
       "          0,    0,    0,    0,    0,    0,    0,    0,    0,    0,    0,\n",
       "          0,    0,    0,    0,    0,    0,    0,    0,    0,    0,    0,\n",
       "          0,    0,    0,    0,    0,    0,    0,    0,    0,    0,    0,\n",
       "          0,    0,    0,    0,    0,    0,    0,    0,    0,    0,    0,\n",
       "          0,    0,    0,    0,    0,    0,    0,    0,    0,    0,    0,\n",
       "          0,    0,  731,   43, 1644,    3,  606,    2], dtype=int32)"
      ]
     },
     "execution_count": 42,
     "metadata": {},
     "output_type": "execute_result"
    }
   ],
   "source": [
    "X_test[1]"
   ]
  },
  {
   "cell_type": "code",
   "execution_count": null,
   "metadata": {},
   "outputs": [],
   "source": [
    "conv = lambda x: max(np.arange(num_classes) * x)\n",
    "test_labels = [conv(x) for x in Y_test]\n",
    "predicted = y_pred"
   ]
  },
  {
   "cell_type": "code",
   "execution_count": null,
   "metadata": {},
   "outputs": [],
   "source": [
    "set(test_labels)"
   ]
  },
  {
   "cell_type": "code",
   "execution_count": null,
   "metadata": {},
   "outputs": [],
   "source": [
    "num_classes = len(np.unique(df[column_to_predict]))"
   ]
  },
  {
   "cell_type": "code",
   "execution_count": null,
   "metadata": {},
   "outputs": [],
   "source": [
    "num_classes"
   ]
  },
  {
   "cell_type": "code",
   "execution_count": null,
   "metadata": {},
   "outputs": [],
   "source": [
    "import sys\n",
    "import nltk\n",
    "import numpy as np\n",
    "import pandas as pd\n",
    "import pickle\n",
    "# from helpers import *\n",
    "from nltk.stem.snowball import SnowballStemmer\n",
    "from sklearn.feature_extraction.text import CountVectorizer, TfidfTransformer\n",
    "from sklearn.linear_model import SGDClassifier\n",
    "from sklearn.model_selection import GridSearchCV, train_test_split\n",
    "from sklearn.naive_bayes import MultinomialNB\n",
    "from sklearn.pipeline import Pipeline\n",
    "from sklearn import metrics\n",
    "import os\n",
    "from matplotlib import pyplot as plt\n",
    "sys.path.append(\".\")\n",
    "sys.path.append(\"..\")\n",
    "# Use the Azure Machine Learning data preparation package\n",
    "# from azureml.dataprep import package\n"
   ]
  },
  {
   "cell_type": "code",
   "execution_count": null,
   "metadata": {
    "scrolled": false
   },
   "outputs": [],
   "source": [
    "%matplotlib inline\n",
    "predicted = y_pred\n",
    "import seaborn as sns\n",
    "from sklearn.metrics import confusion_matrix\n",
    "import matplotlib.pyplot as plt\n",
    "import matplotlib\n",
    "mat = confusion_matrix(np.array(test_labels), predicted)\n",
    "plt.figure(figsize=(4, 4))\n",
    "sns.set()\n",
    "sns.heatmap(mat.T, square=True, annot=True, fmt='d', cbar=False,\n",
    "            xticklabels=np.unique(test_labels),\n",
    "            yticklabels=np.unique(test_labels))\n",
    "plt.xlabel('true label')\n",
    "plt.ylabel('predicted label')\n",
    "# Save confusion matrix to outputs in Workbench\n",
    "plt.savefig('confusion_matrix_' + column_to_predict + '.jpg' )\n",
    "plt.show()"
   ]
  },
  {
   "cell_type": "code",
   "execution_count": null,
   "metadata": {
    "scrolled": false
   },
   "outputs": [],
   "source": [
    "import seaborn as sns\n",
    "from sklearn.metrics import confusion_matrix\n",
    "import matplotlib.pyplot as plt\n",
    "import matplotlib\n",
    "\n",
    "print(\"Evaluating model\")\n",
    "# Score and evaluate model on test data using model without hyperparameter tuning\n",
    "prediction_acc = np.mean(predicted == test_labels)\n",
    "print(\"Confusion matrix:\")\n",
    "print(metrics.confusion_matrix(test_labels, predicted))\n",
    "print(\"Mean: \" + str(prediction_acc))\n",
    "\n"
   ]
  },
  {
   "cell_type": "code",
   "execution_count": null,
   "metadata": {
    "scrolled": false
   },
   "outputs": [],
   "source": [
    "%matplotlib inline\n",
    "from sklearn.metrics import classification_report\n",
    "print(column_to_predict, ':')\n",
    "print(classification_report(test_labels, predicted,\n",
    "                            target_names= [str(x) for x in np.unique(df[column_to_predict])]))\n",
    "\n"
   ]
  },
  {
   "cell_type": "code",
   "execution_count": null,
   "metadata": {},
   "outputs": [],
   "source": [
    "plt.title('Loss')\n",
    "plt.plot(history.history['loss'], label='train')\n",
    "plt.plot(history.history['val_loss'], label='test')\n",
    "plt.legend()\n",
    "plt.show();"
   ]
  },
  {
   "cell_type": "code",
   "execution_count": null,
   "metadata": {},
   "outputs": [],
   "source": [
    "plt.title('Accuracy')\n",
    "plt.plot(history.history['accuracy'], label='train')\n",
    "plt.plot(history.history['val_accuracy'], label='test')\n",
    "plt.legend()\n",
    "plt.show();"
   ]
  },
  {
   "cell_type": "code",
   "execution_count": null,
   "metadata": {},
   "outputs": [],
   "source": []
  }
 ],
 "metadata": {
  "kernelspec": {
   "display_name": "Python 3",
   "language": "python",
   "name": "python3"
  },
  "language_info": {
   "codemirror_mode": {
    "name": "ipython",
    "version": 3
   },
   "file_extension": ".py",
   "mimetype": "text/x-python",
   "name": "python",
   "nbconvert_exporter": "python",
   "pygments_lexer": "ipython3",
   "version": "3.7.6"
  }
 },
 "nbformat": 4,
 "nbformat_minor": 2
}
