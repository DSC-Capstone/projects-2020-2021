{
 "cells": [
  {
   "cell_type": "code",
   "execution_count": 1,
   "id": "marked-workshop",
   "metadata": {},
   "outputs": [
    {
     "name": "stdout",
     "output_type": "stream",
     "text": [
      "/home/yal319/DSC180B-NER-Project\n"
     ]
    }
   ],
   "source": [
    "cd .."
   ]
  },
  {
   "cell_type": "code",
   "execution_count": 2,
   "id": "sapphire-workplace",
   "metadata": {},
   "outputs": [],
   "source": [
    "\n",
    "%load_ext autoreload\n",
    "%autoreload 2\n",
    "\n",
    "import src.model as model\n",
    "import pandas as pd\n",
    "import src.utils as utils\n",
    "\n"
   ]
  },
  {
   "cell_type": "code",
   "execution_count": 3,
   "id": "mature-interest",
   "metadata": {},
   "outputs": [],
   "source": [
    "bbc_autophrase = utils.phrase_preprocess('model/bbc/AutoPhrase.txt')\n",
    "news_autophrase = utils.phrase_preprocess('model/20news/AutoPhrase.txt')\n",
    "\n",
    "bbc_ner = utils.ner_preprocess('data/test/bbc_ner.csv')\n",
    "news_ner = utils.ner_preprocess('data/test/news_ner.csv')"
   ]
  },
  {
   "cell_type": "code",
   "execution_count": null,
   "id": "lonely-programmer",
   "metadata": {},
   "outputs": [],
   "source": []
  },
  {
   "cell_type": "code",
   "execution_count": null,
   "id": "devoted-collectible",
   "metadata": {},
   "outputs": [],
   "source": []
  },
  {
   "cell_type": "markdown",
   "id": "rising-schema",
   "metadata": {},
   "source": [
    "# BBC News Experiment Results"
   ]
  },
  {
   "cell_type": "code",
   "execution_count": 4,
   "id": "friendly-occurrence",
   "metadata": {},
   "outputs": [],
   "source": [
    "# Load Data\n",
    "bbc_X_train, bbc_X_test,bbc_X_val, bbc_y_train, bbc_y_test, bbc_y_val = utils.load_bbc_news('data/temp/all_data.csv')"
   ]
  },
  {
   "cell_type": "code",
   "execution_count": 54,
   "id": "efficient-receipt",
   "metadata": {},
   "outputs": [
    {
     "name": "stdout",
     "output_type": "stream",
     "text": [
      "F1 Score:  0.9527239251745925\n",
      "Precision:  0.9537703996053222\n",
      "Recall:  0.952808988764045\n",
      "Accuracy:  0.952808988764045\n"
     ]
    },
    {
     "name": "stderr",
     "output_type": "stream",
     "text": [
      "/opt/conda/lib/python3.8/site-packages/sklearn/linear_model/_logistic.py:763: ConvergenceWarning: lbfgs failed to converge (status=1):\n",
      "STOP: TOTAL NO. of ITERATIONS REACHED LIMIT.\n",
      "\n",
      "Increase the number of iterations (max_iter) or scale the data as shown in:\n",
      "    https://scikit-learn.org/stable/modules/preprocessing.html\n",
      "Please also refer to the documentation for alternative solver options:\n",
      "    https://scikit-learn.org/stable/modules/linear_model.html#logistic-regression\n",
      "  n_iter_i = _check_optimize_result(\n"
     ]
    }
   ],
   "source": [
    "# Baseline\n",
    "LOG_UNI_BOG = model.BoG_model(bbc_X_train, bbc_y_train, clf = 'Logistic')\n",
    "val_pred = LOG_UNI_BOG.predict(bbc_X_val) \n",
    "utils.evaluate(bbc_y_val, val_pred)"
   ]
  },
  {
   "cell_type": "code",
   "execution_count": 55,
   "id": "integral-layout",
   "metadata": {},
   "outputs": [
    {
     "name": "stdout",
     "output_type": "stream",
     "text": [
      "F1 Score:  0.948458729898692\n",
      "Precision:  0.949188122449712\n",
      "Recall:  0.9483146067415731\n",
      "Accuracy:  0.9483146067415731\n"
     ]
    }
   ],
   "source": [
    "# Baseline\n",
    "SVM_UNI_BOG = model.BoG_model(bbc_X_train, bbc_y_train, clf = 'SVM')\n",
    "val_pred = SVM_UNI_BOG.predict(bbc_X_val) \n",
    "utils.evaluate(bbc_y_val, val_pred)"
   ]
  },
  {
   "cell_type": "code",
   "execution_count": 56,
   "id": "robust-terry",
   "metadata": {},
   "outputs": [
    {
     "name": "stdout",
     "output_type": "stream",
     "text": [
      "F1 Score:  0.9528785184685827\n",
      "Precision:  0.9533857827449495\n",
      "Recall:  0.952808988764045\n",
      "Accuracy:  0.952808988764045\n"
     ]
    }
   ],
   "source": [
    "SVM_ET_TFIDF = model.Tfidf_model(bbc_X_train, bbc_y_train, clf = 'SVM', vocab = bbc_ner )\n",
    "val_pred = SVM_ET_TFIDF.predict(bbc_X_val) \n",
    "utils.evaluate(bbc_y_val, val_pred)"
   ]
  },
  {
   "cell_type": "code",
   "execution_count": 57,
   "id": "partial-hacker",
   "metadata": {},
   "outputs": [
    {
     "name": "stdout",
     "output_type": "stream",
     "text": [
      "F1 Score:  0.9461634779419871\n",
      "Precision:  0.946716363398817\n",
      "Recall:  0.946067415730337\n",
      "Accuracy:  0.946067415730337\n"
     ]
    }
   ],
   "source": [
    "SVM_AP_TFIDF = model.Tfidf_model(bbc_X_train, bbc_y_train, clf = 'SVM', vocab = bbc_autophrase )\n",
    "val_pred = SVM_AP_TFIDF.predict(bbc_X_val) \n",
    "utils.evaluate(bbc_y_val, val_pred)"
   ]
  },
  {
   "cell_type": "code",
   "execution_count": 58,
   "id": "ideal-vienna",
   "metadata": {},
   "outputs": [
    {
     "name": "stdout",
     "output_type": "stream",
     "text": [
      "F1 Score:  0.9639096466390202\n",
      "Precision:  0.9640000918161318\n",
      "Recall:  0.9640449438202248\n",
      "Accuracy:  0.9640449438202248\n"
     ]
    }
   ],
   "source": [
    "SVM_ALL_TFIDF = model.Tfidf_model(bbc_X_train, bbc_y_train, clf = 'SVM', vocab = bbc_ner + bbc_autophrase, combining=True)\n",
    "val_pred = SVM_ALL_TFIDF.predict(bbc_X_val) \n",
    "utils.evaluate(bbc_y_val, val_pred)"
   ]
  },
  {
   "cell_type": "code",
   "execution_count": null,
   "id": "considerable-lunch",
   "metadata": {},
   "outputs": [],
   "source": []
  },
  {
   "cell_type": "code",
   "execution_count": null,
   "id": "suffering-release",
   "metadata": {},
   "outputs": [],
   "source": []
  },
  {
   "cell_type": "code",
   "execution_count": 59,
   "id": "dressed-fifth",
   "metadata": {},
   "outputs": [
    {
     "name": "stdout",
     "output_type": "stream",
     "text": [
      "F1 Score:  0.9525129621516293\n",
      "Precision:  0.9525553992289354\n",
      "Recall:  0.952808988764045\n",
      "Accuracy:  0.952808988764045\n"
     ]
    }
   ],
   "source": [
    "best_model = SVM_ALL_TFIDF\n",
    "test_pred = best_model.predict(bbc_X_test) \n",
    "utils.evaluate(bbc_y_test, test_pred)"
   ]
  },
  {
   "cell_type": "code",
   "execution_count": null,
   "id": "endless-reality",
   "metadata": {},
   "outputs": [],
   "source": []
  },
  {
   "cell_type": "markdown",
   "id": "pointed-panel",
   "metadata": {},
   "source": [
    "# 20 News Groups Experiment Results"
   ]
  },
  {
   "cell_type": "code",
   "execution_count": 5,
   "id": "challenging-cowboy",
   "metadata": {},
   "outputs": [],
   "source": [
    "# Load Data\n",
    "newsgroups_train_X,newsgroups_test_X,newsgroups_val_X, newsgroups_train_y,newsgroups_test_y,newsgroups_val_y = utils.load_20_news()"
   ]
  },
  {
   "cell_type": "code",
   "execution_count": 62,
   "id": "precious-plaintiff",
   "metadata": {},
   "outputs": [
    {
     "name": "stderr",
     "output_type": "stream",
     "text": [
      "/opt/conda/lib/python3.8/site-packages/sklearn/linear_model/_logistic.py:763: ConvergenceWarning: lbfgs failed to converge (status=1):\n",
      "STOP: TOTAL NO. of ITERATIONS REACHED LIMIT.\n",
      "\n",
      "Increase the number of iterations (max_iter) or scale the data as shown in:\n",
      "    https://scikit-learn.org/stable/modules/preprocessing.html\n",
      "Please also refer to the documentation for alternative solver options:\n",
      "    https://scikit-learn.org/stable/modules/linear_model.html#logistic-regression\n",
      "  n_iter_i = _check_optimize_result(\n"
     ]
    },
    {
     "name": "stdout",
     "output_type": "stream",
     "text": [
      "F1 Score:  0.7751045287322875\n",
      "Precision:  0.7789720828379539\n",
      "Recall:  0.7758895379713223\n",
      "Accuracy:  0.7758895379713223\n"
     ]
    }
   ],
   "source": [
    "# Baseline\n",
    "LOG_UNI_BOG = model.BoG_model(newsgroups_train_X, newsgroups_train_y, clf = 'Logistic')\n",
    "val_pred = LOG_UNI_BOG.predict(newsgroups_val_X) \n",
    "utils.evaluate(newsgroups_val_y, val_pred)"
   ]
  },
  {
   "cell_type": "code",
   "execution_count": 69,
   "id": "hydraulic-coating",
   "metadata": {},
   "outputs": [
    {
     "name": "stdout",
     "output_type": "stream",
     "text": [
      "F1 Score:  0.762898506139695\n",
      "Precision:  0.7790683613448249\n",
      "Recall:  0.7588953797132236\n",
      "Accuracy:  0.7588953797132236\n"
     ]
    }
   ],
   "source": [
    "# Baseline\n",
    "SVM_UNI_BOG = model.BoG_model(newsgroups_train_X, newsgroups_train_y, clf = 'SVM')\n",
    "val_pred = SVM_UNI_BOG.predict(newsgroups_val_X) \n",
    "utils.evaluate(newsgroups_val_y, val_pred)"
   ]
  },
  {
   "cell_type": "code",
   "execution_count": 65,
   "id": "distant-medicaid",
   "metadata": {},
   "outputs": [
    {
     "name": "stdout",
     "output_type": "stream",
     "text": [
      "F1 Score:  0.8258950213866928\n",
      "Precision:  0.8300783525586332\n",
      "Recall:  0.8281996813595327\n",
      "Accuracy:  0.8281996813595327\n"
     ]
    }
   ],
   "source": [
    "SVM_ET_TFIDF = model.Tfidf_model(newsgroups_train_X, newsgroups_train_y, clf = 'SVM', vocab = news_ner )\n",
    "val_pred = SVM_ET_TFIDF.predict(newsgroups_val_X) \n",
    "utils.evaluate(newsgroups_val_y, val_pred)"
   ]
  },
  {
   "cell_type": "code",
   "execution_count": 67,
   "id": "clean-arena",
   "metadata": {},
   "outputs": [
    {
     "name": "stdout",
     "output_type": "stream",
     "text": [
      "F1 Score:  0.810506296292177\n",
      "Precision:  0.816158269218532\n",
      "Recall:  0.8125331917153479\n",
      "Accuracy:  0.8125331917153479\n"
     ]
    }
   ],
   "source": [
    "SVM_AP_TFIDF = model.Tfidf_model(newsgroups_train_X, newsgroups_train_y, clf = 'SVM', vocab = news_autophrase )\n",
    "val_pred = SVM_AP_TFIDF.predict(newsgroups_val_X) \n",
    "utils.evaluate(newsgroups_val_y, val_pred)"
   ]
  },
  {
   "cell_type": "code",
   "execution_count": 68,
   "id": "overhead-canal",
   "metadata": {},
   "outputs": [
    {
     "name": "stdout",
     "output_type": "stream",
     "text": [
      "F1 Score:  0.8466112572965184\n",
      "Precision:  0.8510683020351111\n",
      "Recall:  0.848380244291025\n",
      "Accuracy:  0.848380244291025\n"
     ]
    }
   ],
   "source": [
    "SVM_ALL_TFIDF = model.Tfidf_model(newsgroups_train_X, newsgroups_train_y, clf = 'SVM', vocab = news_ner + news_autophrase, combining=True)\n",
    "val_pred = SVM_ALL_TFIDF.predict(newsgroups_val_X) \n",
    "utils.evaluate(newsgroups_val_y, val_pred)"
   ]
  },
  {
   "cell_type": "code",
   "execution_count": null,
   "id": "innovative-preview",
   "metadata": {},
   "outputs": [],
   "source": []
  },
  {
   "cell_type": "code",
   "execution_count": null,
   "id": "demonstrated-anderson",
   "metadata": {},
   "outputs": [],
   "source": []
  },
  {
   "cell_type": "code",
   "execution_count": 71,
   "id": "fifty-patrick",
   "metadata": {},
   "outputs": [
    {
     "name": "stdout",
     "output_type": "stream",
     "text": [
      "F1 Score:  0.846361259994698\n",
      "Precision:  0.8490458627028441\n",
      "Recall:  0.8478491768454594\n",
      "Accuracy:  0.8478491768454594\n"
     ]
    }
   ],
   "source": [
    "best_model = SVM_ALL_TFIDF\n",
    "test_pred = best_model.predict(newsgroups_test_X) \n",
    "utils.evaluate(newsgroups_test_y, test_pred)"
   ]
  },
  {
   "cell_type": "code",
   "execution_count": null,
   "id": "beginning-elizabeth",
   "metadata": {},
   "outputs": [],
   "source": []
  },
  {
   "cell_type": "code",
   "execution_count": null,
   "id": "black-damage",
   "metadata": {},
   "outputs": [],
   "source": []
  }
 ],
 "metadata": {
  "kernelspec": {
   "display_name": "Python 3",
   "language": "python",
   "name": "python3"
  },
  "language_info": {
   "codemirror_mode": {
    "name": "ipython",
    "version": 3
   },
   "file_extension": ".py",
   "mimetype": "text/x-python",
   "name": "python",
   "nbconvert_exporter": "python",
   "pygments_lexer": "ipython3",
   "version": "3.8.6"
  }
 },
 "nbformat": 4,
 "nbformat_minor": 5
}
