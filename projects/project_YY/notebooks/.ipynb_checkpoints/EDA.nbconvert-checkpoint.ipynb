{
 "cells": [
  {
   "cell_type": "code",
   "execution_count": 18,
   "metadata": {},
   "outputs": [
    {
     "name": "stdout",
     "output_type": "stream",
     "text": [
      "The autoreload extension is already loaded. To reload it, use:\n",
      "  %reload_ext autoreload\n"
     ]
    }
   ],
   "source": [
    "%matplotlib inline\n",
    "%load_ext autoreload\n",
    "%autoreload 2"
   ]
  },
  {
   "cell_type": "code",
   "execution_count": 13,
   "metadata": {},
   "outputs": [
    {
     "data": {
      "text/plain": [
       "'/home/apfriend/Documents/ucsd/dsc180'"
      ]
     },
     "execution_count": 13,
     "metadata": {},
     "output_type": "execute_result"
    }
   ],
   "source": [
    "import os\n",
    "import json\n",
    "import sys\n",
    "from IPython.display import display, Markdown, Latex\n",
    "sys.path.insert(0,os.path.dirname(os.getcwd()))\n",
    "import src.data_creation.explore as explore\n",
    "import src.data_creation.json_functions as jf\n",
    "import src.eda.eda as eda\n",
    "from run import update_paths\n",
    "from src.main import make_graph\n",
    "\n",
    "os.chdir(sys.path[0])\n",
    "os.getcwd()"
   ]
  },
  {
   "cell_type": "markdown",
   "metadata": {},
   "source": [
    "# Exploratory Data Analysis\n",
    "\n",
    "This notebook's purpose is to explore the underlying data and discover any useful features for the goal of malware detection.\n",
    "\n",
    "We start by gathering data parsed in the `out/dictionaries-eda` directory. This directory holds extracted api calls, packages, and invocation types from apps. This data was drawn from the `eda_mal_fp` and `eda_ben_fp` paths listed in the `params.json` configuration file. \n",
    "\n",
    "To get an idea of the distribution of api calls, packages, invocation types, and blocks of code between malignant and benign apps, we plot the numbers of unique api calls, packages and invocation types for malignant and benign apps. Below are plots with more data printed below them."
   ]
  },
  {
   "cell_type": "code",
   "execution_count": 3,
   "metadata": {},
   "outputs": [],
   "source": [
    "param_fp=r'config/params.json'\n",
    "params=jf.load_json(os.path.join(param_fp))\n",
    "params=update_paths(False, params)\n",
    "\n",
    "eda_params=params[\"eda-params\"]\n",
    "etl_params=params[\"etl-params\"]\n",
    "w2v_params=params[\"word2vec-params\"]"
   ]
  },
  {
   "cell_type": "markdown",
   "metadata": {},
   "source": [
    "Get malicious and benign data. Each row is one of the unique relationships between `<api_calls>`, `<apps>`, `<packages>`, and `<blocks>`"
   ]
  },
  {
   "cell_type": "code",
   "execution_count": 4,
   "metadata": {},
   "outputs": [
    {
     "name": "stdout",
     "output_type": "stream",
     "text": [
      "Retrieving naming key from `/home/apfriend/Documents/ucsd/dsc180/shne/results/out/data/dictionaries/naming_key.json`\n"
     ]
    },
    {
     "name": "stderr",
     "output_type": "stream",
     "text": [
      "  0%|          | 0/44 [00:00<?, ?it/s]"
     ]
    },
    {
     "name": "stdout",
     "output_type": "stream",
     "text": [
      "Retrieved naming key in 0 seconds\n",
      "Found 44 malicious apps and 5 benign apps to extract data from\n"
     ]
    },
    {
     "name": "stderr",
     "output_type": "stream",
     "text": [
      "100%|██████████| 44/44 [02:29<00:00,  3.39s/it]\n",
      "  0%|          | 0/5 [00:00<?, ?it/s]"
     ]
    },
    {
     "name": "stdout",
     "output_type": "stream",
     "text": [
      "Retrieved data on 44 malicious apps in 149 seconds\n"
     ]
    },
    {
     "name": "stderr",
     "output_type": "stream",
     "text": [
      "100%|██████████| 5/5 [00:19<00:00,  3.81s/it]"
     ]
    },
    {
     "name": "stdout",
     "output_type": "stream",
     "text": [
      "Retrieved data on 44 benign apps in 19 seconds\n",
      "Saving malware app data to /home/apfriend/Documents/ucsd/dsc180/shne/results/out/eda-new/results/malware_nodes.csv\n",
      "Saving benign app data to /home/apfriend/Documents/ucsd/dsc180/shne/results/out/eda-new/results/benign_nodes.csv\n",
      "Malware data:\n"
     ]
    },
    {
     "name": "stderr",
     "output_type": "stream",
     "text": [
      "\n"
     ]
    },
    {
     "data": {
      "text/html": [
       "<div>\n",
       "<style scoped>\n",
       "    .dataframe tbody tr th:only-of-type {\n",
       "        vertical-align: middle;\n",
       "    }\n",
       "\n",
       "    .dataframe tbody tr th {\n",
       "        vertical-align: top;\n",
       "    }\n",
       "\n",
       "    .dataframe thead th {\n",
       "        text-align: right;\n",
       "    }\n",
       "</style>\n",
       "<table border=\"1\" class=\"dataframe\">\n",
       "  <thead>\n",
       "    <tr style=\"text-align: right;\">\n",
       "      <th></th>\n",
       "      <th>app</th>\n",
       "      <th>block</th>\n",
       "      <th>api_call</th>\n",
       "      <th>package</th>\n",
       "    </tr>\n",
       "  </thead>\n",
       "  <tbody>\n",
       "    <tr>\n",
       "      <th>0</th>\n",
       "      <td>37</td>\n",
       "      <td>32</td>\n",
       "      <td>205</td>\n",
       "      <td>47</td>\n",
       "    </tr>\n",
       "    <tr>\n",
       "      <th>0</th>\n",
       "      <td>4</td>\n",
       "      <td>7392</td>\n",
       "      <td>67</td>\n",
       "      <td>28</td>\n",
       "    </tr>\n",
       "    <tr>\n",
       "      <th>1</th>\n",
       "      <td>4</td>\n",
       "      <td>7392</td>\n",
       "      <td>71</td>\n",
       "      <td>28</td>\n",
       "    </tr>\n",
       "    <tr>\n",
       "      <th>2</th>\n",
       "      <td>4</td>\n",
       "      <td>7392</td>\n",
       "      <td>71</td>\n",
       "      <td>28</td>\n",
       "    </tr>\n",
       "    <tr>\n",
       "      <th>3</th>\n",
       "      <td>4</td>\n",
       "      <td>7392</td>\n",
       "      <td>71</td>\n",
       "      <td>28</td>\n",
       "    </tr>\n",
       "  </tbody>\n",
       "</table>\n",
       "</div>"
      ],
      "text/plain": [
       "   app  block  api_call  package\n",
       "0   37     32       205       47\n",
       "0    4   7392        67       28\n",
       "1    4   7392        71       28\n",
       "2    4   7392        71       28\n",
       "3    4   7392        71       28"
      ]
     },
     "metadata": {},
     "output_type": "display_data"
    },
    {
     "name": "stdout",
     "output_type": "stream",
     "text": [
      "\n",
      "Benign data:\n"
     ]
    },
    {
     "data": {
      "text/html": [
       "<div>\n",
       "<style scoped>\n",
       "    .dataframe tbody tr th:only-of-type {\n",
       "        vertical-align: middle;\n",
       "    }\n",
       "\n",
       "    .dataframe tbody tr th {\n",
       "        vertical-align: top;\n",
       "    }\n",
       "\n",
       "    .dataframe thead th {\n",
       "        text-align: right;\n",
       "    }\n",
       "</style>\n",
       "<table border=\"1\" class=\"dataframe\">\n",
       "  <thead>\n",
       "    <tr style=\"text-align: right;\">\n",
       "      <th></th>\n",
       "      <th>app</th>\n",
       "      <th>block</th>\n",
       "      <th>api_call</th>\n",
       "      <th>package</th>\n",
       "    </tr>\n",
       "  </thead>\n",
       "  <tbody>\n",
       "    <tr>\n",
       "      <th>0</th>\n",
       "      <td>31</td>\n",
       "      <td>96609</td>\n",
       "      <td>137187</td>\n",
       "      <td>27327</td>\n",
       "    </tr>\n",
       "    <tr>\n",
       "      <th>0</th>\n",
       "      <td>3</td>\n",
       "      <td>21584</td>\n",
       "      <td>19940</td>\n",
       "      <td>3728</td>\n",
       "    </tr>\n",
       "    <tr>\n",
       "      <th>1</th>\n",
       "      <td>3</td>\n",
       "      <td>21584</td>\n",
       "      <td>19954</td>\n",
       "      <td>3728</td>\n",
       "    </tr>\n",
       "    <tr>\n",
       "      <th>2</th>\n",
       "      <td>3</td>\n",
       "      <td>21584</td>\n",
       "      <td>31543</td>\n",
       "      <td>3728</td>\n",
       "    </tr>\n",
       "    <tr>\n",
       "      <th>3</th>\n",
       "      <td>3</td>\n",
       "      <td>21584</td>\n",
       "      <td>90</td>\n",
       "      <td>34</td>\n",
       "    </tr>\n",
       "  </tbody>\n",
       "</table>\n",
       "</div>"
      ],
      "text/plain": [
       "   app  block  api_call  package\n",
       "0   31  96609    137187    27327\n",
       "0    3  21584     19940     3728\n",
       "1    3  21584     19954     3728\n",
       "2    3  21584     31543     3728\n",
       "3    3  21584        90       34"
      ]
     },
     "metadata": {},
     "output_type": "display_data"
    }
   ],
   "source": [
    "key_path=os.path.join(eda_params[\"dict_directory\"], eda_params[\"data_naming_key_filename\"])\n",
    "\n",
    "malware, benign=eda.get_node_data(\n",
    "    verbose=params[\"verbose\"],\n",
    "    lim=None, \n",
    "    multiprocessing=params[\"multithreading\"],\n",
    "    save_data=True,\n",
    "    mal_filename=eda_params[\"malware_node_filename\"],\n",
    "    ben_filename=eda_params[\"benign_node_filename\"],\n",
    "    key_fn=key_path,\n",
    "    src=eda_params[\"data_extract_loc\"],\n",
    "    dst=eda_params[\"save_dir\"]\n",
    ")"
   ]
  },
  {
   "cell_type": "markdown",
   "metadata": {},
   "source": [
    "Get statistics on the average number of neigbors per node"
   ]
  },
  {
   "cell_type": "code",
   "execution_count": 5,
   "metadata": {},
   "outputs": [
    {
     "data": {
      "text/markdown": [
       "### Average number of neighbors for malicious apps"
      ],
      "text/plain": [
       "<IPython.core.display.Markdown object>"
      ]
     },
     "metadata": {},
     "output_type": "display_data"
    },
    {
     "data": {
      "text/html": [
       "<div>\n",
       "<style scoped>\n",
       "    .dataframe tbody tr th:only-of-type {\n",
       "        vertical-align: middle;\n",
       "    }\n",
       "\n",
       "    .dataframe tbody tr th {\n",
       "        vertical-align: top;\n",
       "    }\n",
       "\n",
       "    .dataframe thead th {\n",
       "        text-align: right;\n",
       "    }\n",
       "</style>\n",
       "<table border=\"1\" class=\"dataframe\">\n",
       "  <thead>\n",
       "    <tr style=\"text-align: right;\">\n",
       "      <th></th>\n",
       "      <th>avg_app_neighbors</th>\n",
       "      <th>avg_block_neighbors</th>\n",
       "      <th>avg_api_call_neighbors</th>\n",
       "      <th>avg_package_neighbors</th>\n",
       "    </tr>\n",
       "  </thead>\n",
       "  <tbody>\n",
       "    <tr>\n",
       "      <th>block</th>\n",
       "      <td>1.000000</td>\n",
       "      <td>NaN</td>\n",
       "      <td>1.611111</td>\n",
       "      <td>1.517241</td>\n",
       "    </tr>\n",
       "    <tr>\n",
       "      <th>api_call</th>\n",
       "      <td>3.186047</td>\n",
       "      <td>6.214286</td>\n",
       "      <td>NaN</td>\n",
       "      <td>1.862069</td>\n",
       "    </tr>\n",
       "    <tr>\n",
       "      <th>package</th>\n",
       "      <td>1.860465</td>\n",
       "      <td>3.142857</td>\n",
       "      <td>1.000000</td>\n",
       "      <td>NaN</td>\n",
       "    </tr>\n",
       "    <tr>\n",
       "      <th>app</th>\n",
       "      <td>NaN</td>\n",
       "      <td>3.071429</td>\n",
       "      <td>2.537037</td>\n",
       "      <td>2.758621</td>\n",
       "    </tr>\n",
       "  </tbody>\n",
       "</table>\n",
       "</div>"
      ],
      "text/plain": [
       "          avg_app_neighbors  avg_block_neighbors  avg_api_call_neighbors  \\\n",
       "block              1.000000                  NaN                1.611111   \n",
       "api_call           3.186047             6.214286                     NaN   \n",
       "package            1.860465             3.142857                1.000000   \n",
       "app                     NaN             3.071429                2.537037   \n",
       "\n",
       "          avg_package_neighbors  \n",
       "block                  1.517241  \n",
       "api_call               1.862069  \n",
       "package                     NaN  \n",
       "app                    2.758621  "
      ]
     },
     "metadata": {},
     "output_type": "display_data"
    },
    {
     "data": {
      "text/markdown": [
       "### Average number of neighbors for benign apps"
      ],
      "text/plain": [
       "<IPython.core.display.Markdown object>"
      ]
     },
     "metadata": {},
     "output_type": "display_data"
    },
    {
     "data": {
      "text/html": [
       "<div>\n",
       "<style scoped>\n",
       "    .dataframe tbody tr th:only-of-type {\n",
       "        vertical-align: middle;\n",
       "    }\n",
       "\n",
       "    .dataframe tbody tr th {\n",
       "        vertical-align: top;\n",
       "    }\n",
       "\n",
       "    .dataframe thead th {\n",
       "        text-align: right;\n",
       "    }\n",
       "</style>\n",
       "<table border=\"1\" class=\"dataframe\">\n",
       "  <thead>\n",
       "    <tr style=\"text-align: right;\">\n",
       "      <th></th>\n",
       "      <th>avg_app_neighbors</th>\n",
       "      <th>avg_block_neighbors</th>\n",
       "      <th>avg_api_call_neighbors</th>\n",
       "      <th>avg_package_neighbors</th>\n",
       "    </tr>\n",
       "  </thead>\n",
       "  <tbody>\n",
       "    <tr>\n",
       "      <th>block</th>\n",
       "      <td>1.0</td>\n",
       "      <td>NaN</td>\n",
       "      <td>1.0</td>\n",
       "      <td>1.000000</td>\n",
       "    </tr>\n",
       "    <tr>\n",
       "      <th>api_call</th>\n",
       "      <td>3.8</td>\n",
       "      <td>3.8</td>\n",
       "      <td>NaN</td>\n",
       "      <td>1.727273</td>\n",
       "    </tr>\n",
       "    <tr>\n",
       "      <th>package</th>\n",
       "      <td>2.2</td>\n",
       "      <td>2.2</td>\n",
       "      <td>1.0</td>\n",
       "      <td>NaN</td>\n",
       "    </tr>\n",
       "    <tr>\n",
       "      <th>app</th>\n",
       "      <td>NaN</td>\n",
       "      <td>1.0</td>\n",
       "      <td>1.0</td>\n",
       "      <td>1.000000</td>\n",
       "    </tr>\n",
       "  </tbody>\n",
       "</table>\n",
       "</div>"
      ],
      "text/plain": [
       "          avg_app_neighbors  avg_block_neighbors  avg_api_call_neighbors  \\\n",
       "block                   1.0                  NaN                     1.0   \n",
       "api_call                3.8                  3.8                     NaN   \n",
       "package                 2.2                  2.2                     1.0   \n",
       "app                     NaN                  1.0                     1.0   \n",
       "\n",
       "          avg_package_neighbors  \n",
       "block                  1.000000  \n",
       "api_call               1.727273  \n",
       "package                     NaN  \n",
       "app                    1.000000  "
      ]
     },
     "metadata": {},
     "output_type": "display_data"
    }
   ],
   "source": [
    "display(Markdown(\"### Average number of neighbors for malicious apps\"))\n",
    "malware_stats=eda.get_neighbors_by_node(malware)\n",
    "display(Markdown(\"### Average number of neighbors for benign apps\"))\n",
    "benign_stats=eda.get_neighbors_by_node(benign)"
   ]
  },
  {
   "cell_type": "markdown",
   "metadata": {},
   "source": [
    "### Plot the average number of neighbors each type of node has"
   ]
  },
  {
   "cell_type": "code",
   "execution_count": 6,
   "metadata": {},
   "outputs": [
    {
     "name": "stdout",
     "output_type": "stream",
     "text": [
      "test\n",
      "test3\n",
      "test2\n",
      "\n"
     ]
    },
    {
     "data": {
      "text/markdown": [
       "### Plotting average number of neigbors per app node"
      ],
      "text/plain": [
       "<IPython.core.display.Markdown object>"
      ]
     },
     "metadata": {},
     "output_type": "display_data"
    },
    {
     "data": {
      "text/plain": [
       "<Figure size 1800x1800 with 0 Axes>"
      ]
     },
     "metadata": {},
     "output_type": "display_data"
    },
    {
     "data": {
      "image/png": "[encoded data removed]",
      "text/plain": [
       "<Figure size 432x288 with 2 Axes>"
      ]
     },
     "metadata": {
      "needs_background": "light"
     },
     "output_type": "display_data"
    },
    {
     "name": "stdout",
     "output_type": "stream",
     "text": [
      "saving to: /home/apfriend/Documents/ucsd/dsc180/shne/results/out/eda/plots/avg_app_neighbors.pdf\n",
      "test\n",
      "test3\n",
      "test2\n",
      "\n"
     ]
    },
    {
     "data": {
      "text/markdown": [
       "### Plotting average number of neigbors per block node"
      ],
      "text/plain": [
       "<IPython.core.display.Markdown object>"
      ]
     },
     "metadata": {},
     "output_type": "display_data"
    },
    {
     "data": {
      "text/plain": [
       "<Figure size 1800x1800 with 0 Axes>"
      ]
     },
     "metadata": {},
     "output_type": "display_data"
    },
    {
     "data": {
      "image/png": "[encoded data removed]",
      "text/plain": [
       "<Figure size 432x288 with 2 Axes>"
      ]
     },
     "metadata": {
      "needs_background": "light"
     },
     "output_type": "display_data"
    },
    {
     "name": "stdout",
     "output_type": "stream",
     "text": [
      "saving to: /home/apfriend/Documents/ucsd/dsc180/shne/results/out/eda/plots/avg_block_neighbors.pdf\n",
      "test\n",
      "test3\n",
      "test2\n",
      "\n"
     ]
    },
    {
     "data": {
      "text/markdown": [
       "### Plotting average number of neigbors per api call node"
      ],
      "text/plain": [
       "<IPython.core.display.Markdown object>"
      ]
     },
     "metadata": {},
     "output_type": "display_data"
    },
    {
     "data": {
      "text/plain": [
       "<Figure size 1800x1800 with 0 Axes>"
      ]
     },
     "metadata": {},
     "output_type": "display_data"
    },
    {
     "data": {
      "image/png": "[encoded data removed]",
      "text/plain": [
       "<Figure size 432x288 with 2 Axes>"
      ]
     },
     "metadata": {
      "needs_background": "light"
     },
     "output_type": "display_data"
    },
    {
     "name": "stdout",
     "output_type": "stream",
     "text": [
      "saving to: /home/apfriend/Documents/ucsd/dsc180/shne/results/out/eda/plots/avg_api_call_neighbors.pdf\n",
      "test\n",
      "test3\n",
      "test2\n",
      "\n"
     ]
    },
    {
     "data": {
      "text/markdown": [
       "### Plotting average number of neigbors per package node"
      ],
      "text/plain": [
       "<IPython.core.display.Markdown object>"
      ]
     },
     "metadata": {},
     "output_type": "display_data"
    },
    {
     "data": {
      "text/plain": [
       "<Figure size 1800x1800 with 0 Axes>"
      ]
     },
     "metadata": {},
     "output_type": "display_data"
    },
    {
     "data": {
      "image/png": "[encoded data removed]",
      "text/plain": [
       "<Figure size 432x288 with 2 Axes>"
      ]
     },
     "metadata": {
      "needs_background": "light"
     },
     "output_type": "display_data"
    },
    {
     "name": "stdout",
     "output_type": "stream",
     "text": [
      "saving to: /home/apfriend/Documents/ucsd/dsc180/shne/results/out/eda/plots/avg_package_neighbors.pdf\n"
     ]
    }
   ],
   "source": [
    "src='/home/apfriend/Documents/ucsd/dsc180/shne/results/out/eda/plots'\n",
    "eda.graph_neighbors(benign_stats, malware_stats, src)"
   ]
  },
  {
   "cell_type": "markdown",
   "metadata": {},
   "source": [
    "The API call node neighbors appear to be the largest group of node neighbors. They make up the vast majority of nodes in out graph representation."
   ]
  },
  {
   "cell_type": "markdown",
   "metadata": {},
   "source": [
    "### Plotting distribution of Embedding layers from SHNE"
   ]
  },
  {
   "cell_type": "code",
   "execution_count": 7,
   "metadata": {},
   "outputs": [
    {
     "data": {
      "image/png": "[encoded data removed]",
      "text/plain": [
       "<Figure size 1332x756 with 4 Axes>"
      ]
     },
     "metadata": {
      "needs_background": "light"
     },
     "output_type": "display_data"
    },
    {
     "data": {
      "text/plain": [
       "<Figure size 8000x1600 with 0 Axes>"
      ]
     },
     "metadata": {},
     "output_type": "display_data"
    },
    {
     "name": "stdout",
     "output_type": "stream",
     "text": [
      "saving to: /home/apfriend/Documents/ucsd/dsc180/shne/results/out/eda-new/results/node_structured_embeddings_hist.pdf\n"
     ]
    }
   ],
   "source": [
    "eda.print_structured_embedding_weights(\n",
    "    src=eda_params[\"full_model_path\"],\n",
    "    dst=eda_params[\"save_dir\"],\n",
    "    fn=eda_params[\"structured_embedding_hist_filename\"],\n",
    "    display=True)"
   ]
  },
  {
   "cell_type": "markdown",
   "metadata": {},
   "source": [
    "### Plotting unstructured layer from SHNE"
   ]
  },
  {
   "cell_type": "code",
   "execution_count": 8,
   "metadata": {},
   "outputs": [
    {
     "data": {
      "image/png": "[encoded data removed]",
      "text/plain": [
       "<Figure size 800x400 with 1 Axes>"
      ]
     },
     "metadata": {},
     "output_type": "display_data"
    },
    {
     "name": "stdout",
     "output_type": "stream",
     "text": [
      "saving to: /home/apfriend/Documents/ucsd/dsc180/shne/results/out/eda-new/results/node_unstructured_embeddings_hist.pdf\n"
     ]
    },
    {
     "data": {
      "text/plain": [
       "<Figure size 432x288 with 0 Axes>"
      ]
     },
     "metadata": {},
     "output_type": "display_data"
    }
   ],
   "source": [
    "eda.print_unstructured_embedding_weights(\n",
    "    src=eda_params[\"full_model_path\"],\n",
    "    dst=eda_params[\"save_dir\"],\n",
    "    fn=eda_params[\"unstructured_embedding_hist_filename\"],\n",
    "    display=True)"
   ]
  },
  {
   "cell_type": "markdown",
   "metadata": {},
   "source": [
    "### Comparing SHNE unstrucutre to metapath2vec walk unstructured embedding layer"
   ]
  },
  {
   "cell_type": "code",
   "execution_count": 9,
   "metadata": {},
   "outputs": [
    {
     "data": {
      "image/png": "[encoded data removed]",
      "text/plain": [
       "<Figure size 800x400 with 1 Axes>"
      ]
     },
     "metadata": {},
     "output_type": "display_data"
    },
    {
     "name": "stdout",
     "output_type": "stream",
     "text": [
      "saving to: /home/apfriend/Documents/ucsd/dsc180/shne/results/out/eda-new/results/w2v_embeddings_hist.pdf\n"
     ]
    },
    {
     "data": {
      "text/plain": [
       "<Figure size 432x288 with 0 Axes>"
      ]
     },
     "metadata": {},
     "output_type": "display_data"
    }
   ],
   "source": [
    "embeddings_fp=os.path.join(w2v_params[\"save_dir\"], w2v_params[\"embeddings_filename\"])\n",
    "embeddings=eda.get_w2v_embeddings(embeddings_fp)\n",
    "eda.print_w2v_embedding_weights(\n",
    "    embeddings=embeddings,\n",
    "    dst=eda_params[\"save_dir\"],\n",
    "    fn=eda_params[\"w2v_embeddings_hist\"],\n",
    "    display=True)"
   ]
  },
  {
   "cell_type": "markdown",
   "metadata": {},
   "source": [
    "The layer from the `SHNE.py` unstructured layer has the same distribution as the one created directly from metapath2vec walks. This is expected as they are created in the same process."
   ]
  },
  {
   "cell_type": "markdown",
   "metadata": {},
   "source": [
    "# Running on metapath walk provided by Braden"
   ]
  },
  {
   "cell_type": "code",
   "execution_count": 10,
   "metadata": {},
   "outputs": [
    {
     "name": "stdout",
     "output_type": "stream",
     "text": [
      "Saved w2v_from_m2v_embeddings_hist-braden.pdf to /home/apfriend/Documents/ucsd/dsc180/shne/results/out/eda-new/results\n"
     ]
    },
    {
     "data": {
      "image/png": "[encoded data removed]",
      "text/plain": [
       "<Figure size 800x400 with 1 Axes>"
      ]
     },
     "metadata": {},
     "output_type": "display_data"
    },
    {
     "name": "stdout",
     "output_type": "stream",
     "text": [
      "saving to: /home/apfriend/Documents/ucsd/dsc180/shne/results/out/eda-new/results/w2v_from_m2v_embeddings_hist-braden.pdf\n"
     ]
    },
    {
     "data": {
      "text/plain": [
       "<Figure size 432x288 with 0 Axes>"
      ]
     },
     "metadata": {},
     "output_type": "display_data"
    }
   ],
   "source": [
    "fp='/home/apfriend/Documents/ucsd/dsc180/shne/het_random_walk_full.txt'\n",
    "embeddings=eda.get_m2v_w2v_layers(\n",
    "    src=fp,\n",
    "    dst=eda_params[\"save_dir\"],\n",
    "    filename=\"w2v_from_m2v_embeddings_hist-braden.pdf\",\n",
    "    vocab_size=w2v_params[\"size\"],\n",
    "    nworkers=w2v_params[\"workers\"],\n",
    "    window_size=w2v_params[\"window\"]\n",
    ")\n",
    "eda.print_w2v_embedding_weights(\n",
    "    embeddings=embeddings,\n",
    "    dst=eda_params[\"save_dir\"],\n",
    "    fn='w2v_from_m2v_embeddings_hist-braden.pdf',\n",
    "    display=True)\n",
    "# embeddings"
   ]
  },
  {
   "cell_type": "code",
   "execution_count": null,
   "metadata": {},
   "outputs": [],
   "source": []
  }
 ],
 "metadata": {
  "kernelspec": {
   "display_name": "Python 3",
   "language": "python",
   "name": "python3"
  },
  "language_info": {
   "codemirror_mode": {
    "name": "ipython",
    "version": 3
   },
   "file_extension": ".py",
   "mimetype": "text/x-python",
   "name": "python",
   "nbconvert_exporter": "python",
   "pygments_lexer": "ipython3",
   "version": "3.8.5"
  }
 },
 "nbformat": 4,
 "nbformat_minor": 4
}
