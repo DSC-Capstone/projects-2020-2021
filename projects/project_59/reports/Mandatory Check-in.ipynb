{
 "cells": [
  {
   "cell_type": "markdown",
   "metadata": {},
   "source": [
    "GitHub repo: https://github.com/rcgonzalez9061/m2v-adversarial-hindroid"
   ]
  },
  {
   "cell_type": "markdown",
   "metadata": {},
   "source": [
    "## ABSTRACT\n",
    "\n",
    "Over the past decade, malware has established itself as a constant issue for the Android operating system. In 2018, Symantec reported that they blocked more than 10 thousand malicious Android apps per day, while nearly 3 quarters of Android devices remained on older versions of Android. With billions active Android devices, millions are only a swipe away from becoming victims. Naturally, automated machine learning-based detection systems have become commonplace solutions to address this threat. However, it has been shown that many of these models are vulnerable to adversarial attacks. Most notably, some of these attacks have been able to defeat models that use semantic features derived from an app's code.\n",
    "\n",
    "First, we introduce a new model that extends the [Hindroid detection system](https://www.cse.ust.hk/~yqsong/papers/2017-KDD-HINDROID.pdf) by employing node embeddings using [metapath2vec](https://ericdongyx.github.io/papers/KDD17-dong-chawla-swami-metapath2vec.pdf). We believe that the introduction of node embeddings will improve the performance of the model beyond the capabilities of HinDroid. Second, we intend to break these two models using a method similar to that proposed in [Android HIV](https://ieeexplore.ieee.org/document/8782574). That is we train an adversarial model that perturbs malware by inserting new API calls with the goal of evading our models. We then measure the performance of each model after recursively feeding adversarial examples back into them. We believe that by doing so, our model will be able outperform the Hindroid implementation in its ability to label malware even after adversarial examples have been added."
   ]
  },
  {
   "cell_type": "markdown",
   "metadata": {},
   "source": [
    "## Completed tasks\n",
    "- Our new metapath2vec model is largely complete and we have been able to run it on data.\n",
    "\n",
    "## Current/Pending Tasks\n",
    "- Updating our HinDroid implmentation\n",
    "- Implementing an attack method to attack both HinDroid and our model.\n",
    "\n",
    "We are mostly concerned with the adversarial attack method. Adversarial machine-learning is still largely new to us and not well-understood, especially the algorithms used in Android HIV. We are doing our best to try to understand the Android HIV paper and adapt it to our goals.\n",
    "\n",
    "## Future Plans\n",
    "Once we have implemented our attack method, our project should be able to continue onto implmenting the recursive adversarial training method for both HinDroid and our new model. At that point we will monitor the results of our experiment and adjust any parameters as needed."
   ]
  }
 ],
 "metadata": {
  "jekyll": {
   "permalink": "/",
   "title": "m2vDroid"
  },
  "kernelspec": {
   "display_name": "Python 3",
   "language": "python",
   "name": "python3"
  },
  "language_info": {
   "codemirror_mode": {
    "name": "ipython",
    "version": 3
   },
   "file_extension": ".py",
   "mimetype": "text/x-python",
   "name": "python",
   "nbconvert_exporter": "python",
   "pygments_lexer": "ipython3",
   "version": "3.8.6"
  }
 },
 "nbformat": 4,
 "nbformat_minor": 4
}
