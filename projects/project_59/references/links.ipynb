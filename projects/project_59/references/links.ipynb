{
 "cells": [
  {
   "cell_type": "markdown",
   "metadata": {},
   "source": [
    "# References\n",
    "A compilation of links that are useful.\n",
    "\n",
    "## Links\n",
    "\n",
    "- [metapath2vec](https://ericdongyx.github.io/metapath2vec/m2v.html) Source code with examples available.\n",
    "- [Deep Learning Graph Library - metapath2vec implementation ](https://github.com/dmlc/dgl/tree/master/examples/pytorch/metapath2vec) \n",
    "- [PyTorch implementation](https://pytorch-geometric.readthedocs.io/en/latest/_modules/torch_geometric/nn/models/metapath2vec.html)\n",
    "- [Stellargraph](https://stellargraph.readthedocs.io/en/stable/demos/embeddings/metapath2vec-embeddings.html)\n",
    "- [Android HIV](https://ieeexplore.ieee.org/document/8782574)\n",
    "- [MamaDroid source code](https://bitbucket.org/gianluca_students/mamadroid_code/src/master/)\n",
    "- [Obfuscapk](https://www.sciencedirect.com/science/article/pii/S2352711019302791)\n",
    "- [LaTex in GitHub Pages](https://stackoverflow.com/questions/26275645/how-to-support-latex-in-github-pages)\n",
    "- [Why don't some apks have .dex?](https://stackoverflow.com/questions/46895004/why-i-am-not-able-to-see-classes-dex-after-extraction-of-apk)"
   ]
  },
  {
   "cell_type": "code",
   "execution_count": null,
   "metadata": {},
   "outputs": [],
   "source": []
  }
 ],
 "metadata": {
  "kernelspec": {
   "display_name": "Python 3",
   "language": "python",
   "name": "python3"
  },
  "language_info": {
   "codemirror_mode": {
    "name": "ipython",
    "version": 3
   },
   "file_extension": ".py",
   "mimetype": "text/x-python",
   "name": "python",
   "nbconvert_exporter": "python",
   "pygments_lexer": "ipython3",
   "version": "3.8.6"
  }
 },
 "nbformat": 4,
 "nbformat_minor": 4
}
