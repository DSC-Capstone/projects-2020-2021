{
 "cells": [
  {
   "cell_type": "code",
   "execution_count": 1,
   "metadata": {},
   "outputs": [],
   "source": [
    "import pandas as pd\n",
    "import numpy as np\n",
    "import sklearn\n",
    "import seaborn as sns\n",
    "from matplotlib import pyplot as plt\n",
    "from matplotlib import rcParams\n",
    "import os\n",
    "\n",
    "from sklearn.model_selection import train_test_split\n",
    "from sklearn.linear_model import LogisticRegression\n",
    "from sklearn.datasets import make_classification\n",
    "from sklearn.metrics import confusion_matrix, classification_report\n",
    "from sklearn.metrics import accuracy_score\n",
    "#from xgboost import XGBClassifier"
   ]
  },
  {
   "cell_type": "code",
   "execution_count": 2,
   "metadata": {},
   "outputs": [],
   "source": [
    "df = pd.read_csv('../data/cardio_train.csv',sep=\";\")"
   ]
  },
  {
   "cell_type": "code",
   "execution_count": 3,
   "metadata": {},
   "outputs": [
    {
     "data": {
      "text/html": [
       "<div>\n",
       "<style scoped>\n",
       "    .dataframe tbody tr th:only-of-type {\n",
       "        vertical-align: middle;\n",
       "    }\n",
       "\n",
       "    .dataframe tbody tr th {\n",
       "        vertical-align: top;\n",
       "    }\n",
       "\n",
       "    .dataframe thead th {\n",
       "        text-align: right;\n",
       "    }\n",
       "</style>\n",
       "<table border=\"1\" class=\"dataframe\">\n",
       "  <thead>\n",
       "    <tr style=\"text-align: right;\">\n",
       "      <th></th>\n",
       "      <th>id</th>\n",
       "      <th>age</th>\n",
       "      <th>gender</th>\n",
       "      <th>height</th>\n",
       "      <th>weight</th>\n",
       "      <th>ap_hi</th>\n",
       "      <th>ap_lo</th>\n",
       "      <th>cholesterol</th>\n",
       "      <th>gluc</th>\n",
       "      <th>smoke</th>\n",
       "      <th>alco</th>\n",
       "      <th>active</th>\n",
       "      <th>cardio</th>\n",
       "    </tr>\n",
       "  </thead>\n",
       "  <tbody>\n",
       "    <tr>\n",
       "      <th>0</th>\n",
       "      <td>0</td>\n",
       "      <td>18393</td>\n",
       "      <td>2</td>\n",
       "      <td>168</td>\n",
       "      <td>62.0</td>\n",
       "      <td>110</td>\n",
       "      <td>80</td>\n",
       "      <td>1</td>\n",
       "      <td>1</td>\n",
       "      <td>0</td>\n",
       "      <td>0</td>\n",
       "      <td>1</td>\n",
       "      <td>0</td>\n",
       "    </tr>\n",
       "    <tr>\n",
       "      <th>1</th>\n",
       "      <td>1</td>\n",
       "      <td>20228</td>\n",
       "      <td>1</td>\n",
       "      <td>156</td>\n",
       "      <td>85.0</td>\n",
       "      <td>140</td>\n",
       "      <td>90</td>\n",
       "      <td>3</td>\n",
       "      <td>1</td>\n",
       "      <td>0</td>\n",
       "      <td>0</td>\n",
       "      <td>1</td>\n",
       "      <td>1</td>\n",
       "    </tr>\n",
       "    <tr>\n",
       "      <th>2</th>\n",
       "      <td>2</td>\n",
       "      <td>18857</td>\n",
       "      <td>1</td>\n",
       "      <td>165</td>\n",
       "      <td>64.0</td>\n",
       "      <td>130</td>\n",
       "      <td>70</td>\n",
       "      <td>3</td>\n",
       "      <td>1</td>\n",
       "      <td>0</td>\n",
       "      <td>0</td>\n",
       "      <td>0</td>\n",
       "      <td>1</td>\n",
       "    </tr>\n",
       "    <tr>\n",
       "      <th>3</th>\n",
       "      <td>3</td>\n",
       "      <td>17623</td>\n",
       "      <td>2</td>\n",
       "      <td>169</td>\n",
       "      <td>82.0</td>\n",
       "      <td>150</td>\n",
       "      <td>100</td>\n",
       "      <td>1</td>\n",
       "      <td>1</td>\n",
       "      <td>0</td>\n",
       "      <td>0</td>\n",
       "      <td>1</td>\n",
       "      <td>1</td>\n",
       "    </tr>\n",
       "    <tr>\n",
       "      <th>4</th>\n",
       "      <td>4</td>\n",
       "      <td>17474</td>\n",
       "      <td>1</td>\n",
       "      <td>156</td>\n",
       "      <td>56.0</td>\n",
       "      <td>100</td>\n",
       "      <td>60</td>\n",
       "      <td>1</td>\n",
       "      <td>1</td>\n",
       "      <td>0</td>\n",
       "      <td>0</td>\n",
       "      <td>0</td>\n",
       "      <td>0</td>\n",
       "    </tr>\n",
       "  </tbody>\n",
       "</table>\n",
       "</div>"
      ],
      "text/plain": [
       "   id    age  gender  height  weight  ap_hi  ap_lo  cholesterol  gluc  smoke  \\\n",
       "0   0  18393       2     168    62.0    110     80            1     1      0   \n",
       "1   1  20228       1     156    85.0    140     90            3     1      0   \n",
       "2   2  18857       1     165    64.0    130     70            3     1      0   \n",
       "3   3  17623       2     169    82.0    150    100            1     1      0   \n",
       "4   4  17474       1     156    56.0    100     60            1     1      0   \n",
       "\n",
       "   alco  active  cardio  \n",
       "0     0       1       0  \n",
       "1     0       1       1  \n",
       "2     0       0       1  \n",
       "3     0       1       1  \n",
       "4     0       0       0  "
      ]
     },
     "execution_count": 3,
     "metadata": {},
     "output_type": "execute_result"
    }
   ],
   "source": [
    "# age: 1 - women, 2 - men\n",
    "#cholesterol: (1: normal, 2: above normal, 3: well above normal)\n",
    "#gluc: (1: normal, 2: above normal, 3: well above normal)\n",
    "df.head(5)"
   ]
  },
  {
   "cell_type": "code",
   "execution_count": 19,
   "metadata": {},
   "outputs": [
    {
     "data": {
      "text/plain": [
       "0    35021\n",
       "1    34979\n",
       "Name: cardio, dtype: int64"
      ]
     },
     "execution_count": 19,
     "metadata": {},
     "output_type": "execute_result"
    }
   ],
   "source": [
    "df['cardio'].value_counts()"
   ]
  },
  {
   "cell_type": "code",
   "execution_count": 20,
   "metadata": {},
   "outputs": [
    {
     "data": {
      "text/plain": [
       "False"
      ]
     },
     "execution_count": 20,
     "metadata": {},
     "output_type": "execute_result"
    }
   ],
   "source": [
    "df.isnull().values.any()"
   ]
  },
  {
   "cell_type": "code",
   "execution_count": 21,
   "metadata": {},
   "outputs": [],
   "source": [
    "df['age'] = (df['age'] / 365).round().astype('int')"
   ]
  },
  {
   "cell_type": "code",
   "execution_count": 22,
   "metadata": {},
   "outputs": [
    {
     "data": {
      "text/html": [
       "<div>\n",
       "<style scoped>\n",
       "    .dataframe tbody tr th:only-of-type {\n",
       "        vertical-align: middle;\n",
       "    }\n",
       "\n",
       "    .dataframe tbody tr th {\n",
       "        vertical-align: top;\n",
       "    }\n",
       "\n",
       "    .dataframe thead th {\n",
       "        text-align: right;\n",
       "    }\n",
       "</style>\n",
       "<table border=\"1\" class=\"dataframe\">\n",
       "  <thead>\n",
       "    <tr style=\"text-align: right;\">\n",
       "      <th></th>\n",
       "      <th>id</th>\n",
       "      <th>age</th>\n",
       "      <th>gender</th>\n",
       "      <th>height</th>\n",
       "      <th>weight</th>\n",
       "      <th>ap_hi</th>\n",
       "      <th>ap_lo</th>\n",
       "      <th>cholesterol</th>\n",
       "      <th>gluc</th>\n",
       "      <th>smoke</th>\n",
       "      <th>alco</th>\n",
       "      <th>active</th>\n",
       "      <th>cardio</th>\n",
       "    </tr>\n",
       "  </thead>\n",
       "  <tbody>\n",
       "    <tr>\n",
       "      <th>0</th>\n",
       "      <td>0</td>\n",
       "      <td>50</td>\n",
       "      <td>2</td>\n",
       "      <td>168</td>\n",
       "      <td>62.0</td>\n",
       "      <td>110</td>\n",
       "      <td>80</td>\n",
       "      <td>1</td>\n",
       "      <td>1</td>\n",
       "      <td>0</td>\n",
       "      <td>0</td>\n",
       "      <td>1</td>\n",
       "      <td>0</td>\n",
       "    </tr>\n",
       "    <tr>\n",
       "      <th>1</th>\n",
       "      <td>1</td>\n",
       "      <td>55</td>\n",
       "      <td>1</td>\n",
       "      <td>156</td>\n",
       "      <td>85.0</td>\n",
       "      <td>140</td>\n",
       "      <td>90</td>\n",
       "      <td>3</td>\n",
       "      <td>1</td>\n",
       "      <td>0</td>\n",
       "      <td>0</td>\n",
       "      <td>1</td>\n",
       "      <td>1</td>\n",
       "    </tr>\n",
       "    <tr>\n",
       "      <th>2</th>\n",
       "      <td>2</td>\n",
       "      <td>52</td>\n",
       "      <td>1</td>\n",
       "      <td>165</td>\n",
       "      <td>64.0</td>\n",
       "      <td>130</td>\n",
       "      <td>70</td>\n",
       "      <td>3</td>\n",
       "      <td>1</td>\n",
       "      <td>0</td>\n",
       "      <td>0</td>\n",
       "      <td>0</td>\n",
       "      <td>1</td>\n",
       "    </tr>\n",
       "    <tr>\n",
       "      <th>3</th>\n",
       "      <td>3</td>\n",
       "      <td>48</td>\n",
       "      <td>2</td>\n",
       "      <td>169</td>\n",
       "      <td>82.0</td>\n",
       "      <td>150</td>\n",
       "      <td>100</td>\n",
       "      <td>1</td>\n",
       "      <td>1</td>\n",
       "      <td>0</td>\n",
       "      <td>0</td>\n",
       "      <td>1</td>\n",
       "      <td>1</td>\n",
       "    </tr>\n",
       "    <tr>\n",
       "      <th>4</th>\n",
       "      <td>4</td>\n",
       "      <td>48</td>\n",
       "      <td>1</td>\n",
       "      <td>156</td>\n",
       "      <td>56.0</td>\n",
       "      <td>100</td>\n",
       "      <td>60</td>\n",
       "      <td>1</td>\n",
       "      <td>1</td>\n",
       "      <td>0</td>\n",
       "      <td>0</td>\n",
       "      <td>0</td>\n",
       "      <td>0</td>\n",
       "    </tr>\n",
       "  </tbody>\n",
       "</table>\n",
       "</div>"
      ],
      "text/plain": [
       "   id  age  gender  height  weight  ap_hi  ap_lo  cholesterol  gluc  smoke  \\\n",
       "0   0   50       2     168    62.0    110     80            1     1      0   \n",
       "1   1   55       1     156    85.0    140     90            3     1      0   \n",
       "2   2   52       1     165    64.0    130     70            3     1      0   \n",
       "3   3   48       2     169    82.0    150    100            1     1      0   \n",
       "4   4   48       1     156    56.0    100     60            1     1      0   \n",
       "\n",
       "   alco  active  cardio  \n",
       "0     0       1       0  \n",
       "1     0       1       1  \n",
       "2     0       0       1  \n",
       "3     0       1       1  \n",
       "4     0       0       0  "
      ]
     },
     "execution_count": 22,
     "metadata": {},
     "output_type": "execute_result"
    }
   ],
   "source": [
    "df.head(5)"
   ]
  },
  {
   "cell_type": "code",
   "execution_count": 23,
   "metadata": {},
   "outputs": [
    {
     "data": {
      "text/html": [
       "<div>\n",
       "<style scoped>\n",
       "    .dataframe tbody tr th:only-of-type {\n",
       "        vertical-align: middle;\n",
       "    }\n",
       "\n",
       "    .dataframe tbody tr th {\n",
       "        vertical-align: top;\n",
       "    }\n",
       "\n",
       "    .dataframe thead th {\n",
       "        text-align: right;\n",
       "    }\n",
       "</style>\n",
       "<table border=\"1\" class=\"dataframe\">\n",
       "  <thead>\n",
       "    <tr style=\"text-align: right;\">\n",
       "      <th></th>\n",
       "      <th>id</th>\n",
       "      <th>age</th>\n",
       "      <th>gender</th>\n",
       "      <th>height</th>\n",
       "      <th>weight</th>\n",
       "      <th>ap_hi</th>\n",
       "      <th>ap_lo</th>\n",
       "      <th>cholesterol</th>\n",
       "      <th>gluc</th>\n",
       "      <th>smoke</th>\n",
       "      <th>alco</th>\n",
       "      <th>active</th>\n",
       "      <th>cardio</th>\n",
       "    </tr>\n",
       "  </thead>\n",
       "  <tbody>\n",
       "    <tr>\n",
       "      <th>count</th>\n",
       "      <td>70000.000000</td>\n",
       "      <td>70000.000000</td>\n",
       "      <td>70000.000000</td>\n",
       "      <td>70000.000000</td>\n",
       "      <td>70000.000000</td>\n",
       "      <td>70000.000000</td>\n",
       "      <td>70000.000000</td>\n",
       "      <td>70000.000000</td>\n",
       "      <td>70000.000000</td>\n",
       "      <td>70000.000000</td>\n",
       "      <td>70000.000000</td>\n",
       "      <td>70000.000000</td>\n",
       "      <td>70000.000000</td>\n",
       "    </tr>\n",
       "    <tr>\n",
       "      <th>mean</th>\n",
       "      <td>49972.419900</td>\n",
       "      <td>53.338686</td>\n",
       "      <td>1.349571</td>\n",
       "      <td>164.359229</td>\n",
       "      <td>74.205690</td>\n",
       "      <td>128.817286</td>\n",
       "      <td>96.630414</td>\n",
       "      <td>1.366871</td>\n",
       "      <td>1.226457</td>\n",
       "      <td>0.088129</td>\n",
       "      <td>0.053771</td>\n",
       "      <td>0.803729</td>\n",
       "      <td>0.499700</td>\n",
       "    </tr>\n",
       "    <tr>\n",
       "      <th>std</th>\n",
       "      <td>28851.302323</td>\n",
       "      <td>6.765294</td>\n",
       "      <td>0.476838</td>\n",
       "      <td>8.210126</td>\n",
       "      <td>14.395757</td>\n",
       "      <td>154.011419</td>\n",
       "      <td>188.472530</td>\n",
       "      <td>0.680250</td>\n",
       "      <td>0.572270</td>\n",
       "      <td>0.283484</td>\n",
       "      <td>0.225568</td>\n",
       "      <td>0.397179</td>\n",
       "      <td>0.500003</td>\n",
       "    </tr>\n",
       "    <tr>\n",
       "      <th>min</th>\n",
       "      <td>0.000000</td>\n",
       "      <td>30.000000</td>\n",
       "      <td>1.000000</td>\n",
       "      <td>55.000000</td>\n",
       "      <td>10.000000</td>\n",
       "      <td>-150.000000</td>\n",
       "      <td>-70.000000</td>\n",
       "      <td>1.000000</td>\n",
       "      <td>1.000000</td>\n",
       "      <td>0.000000</td>\n",
       "      <td>0.000000</td>\n",
       "      <td>0.000000</td>\n",
       "      <td>0.000000</td>\n",
       "    </tr>\n",
       "    <tr>\n",
       "      <th>25%</th>\n",
       "      <td>25006.750000</td>\n",
       "      <td>48.000000</td>\n",
       "      <td>1.000000</td>\n",
       "      <td>159.000000</td>\n",
       "      <td>65.000000</td>\n",
       "      <td>120.000000</td>\n",
       "      <td>80.000000</td>\n",
       "      <td>1.000000</td>\n",
       "      <td>1.000000</td>\n",
       "      <td>0.000000</td>\n",
       "      <td>0.000000</td>\n",
       "      <td>1.000000</td>\n",
       "      <td>0.000000</td>\n",
       "    </tr>\n",
       "    <tr>\n",
       "      <th>50%</th>\n",
       "      <td>50001.500000</td>\n",
       "      <td>54.000000</td>\n",
       "      <td>1.000000</td>\n",
       "      <td>165.000000</td>\n",
       "      <td>72.000000</td>\n",
       "      <td>120.000000</td>\n",
       "      <td>80.000000</td>\n",
       "      <td>1.000000</td>\n",
       "      <td>1.000000</td>\n",
       "      <td>0.000000</td>\n",
       "      <td>0.000000</td>\n",
       "      <td>1.000000</td>\n",
       "      <td>0.000000</td>\n",
       "    </tr>\n",
       "    <tr>\n",
       "      <th>75%</th>\n",
       "      <td>74889.250000</td>\n",
       "      <td>58.000000</td>\n",
       "      <td>2.000000</td>\n",
       "      <td>170.000000</td>\n",
       "      <td>82.000000</td>\n",
       "      <td>140.000000</td>\n",
       "      <td>90.000000</td>\n",
       "      <td>2.000000</td>\n",
       "      <td>1.000000</td>\n",
       "      <td>0.000000</td>\n",
       "      <td>0.000000</td>\n",
       "      <td>1.000000</td>\n",
       "      <td>1.000000</td>\n",
       "    </tr>\n",
       "    <tr>\n",
       "      <th>max</th>\n",
       "      <td>99999.000000</td>\n",
       "      <td>65.000000</td>\n",
       "      <td>2.000000</td>\n",
       "      <td>250.000000</td>\n",
       "      <td>200.000000</td>\n",
       "      <td>16020.000000</td>\n",
       "      <td>11000.000000</td>\n",
       "      <td>3.000000</td>\n",
       "      <td>3.000000</td>\n",
       "      <td>1.000000</td>\n",
       "      <td>1.000000</td>\n",
       "      <td>1.000000</td>\n",
       "      <td>1.000000</td>\n",
       "    </tr>\n",
       "  </tbody>\n",
       "</table>\n",
       "</div>"
      ],
      "text/plain": [
       "                 id           age        gender        height        weight  \\\n",
       "count  70000.000000  70000.000000  70000.000000  70000.000000  70000.000000   \n",
       "mean   49972.419900     53.338686      1.349571    164.359229     74.205690   \n",
       "std    28851.302323      6.765294      0.476838      8.210126     14.395757   \n",
       "min        0.000000     30.000000      1.000000     55.000000     10.000000   \n",
       "25%    25006.750000     48.000000      1.000000    159.000000     65.000000   \n",
       "50%    50001.500000     54.000000      1.000000    165.000000     72.000000   \n",
       "75%    74889.250000     58.000000      2.000000    170.000000     82.000000   \n",
       "max    99999.000000     65.000000      2.000000    250.000000    200.000000   \n",
       "\n",
       "              ap_hi         ap_lo   cholesterol          gluc         smoke  \\\n",
       "count  70000.000000  70000.000000  70000.000000  70000.000000  70000.000000   \n",
       "mean     128.817286     96.630414      1.366871      1.226457      0.088129   \n",
       "std      154.011419    188.472530      0.680250      0.572270      0.283484   \n",
       "min     -150.000000    -70.000000      1.000000      1.000000      0.000000   \n",
       "25%      120.000000     80.000000      1.000000      1.000000      0.000000   \n",
       "50%      120.000000     80.000000      1.000000      1.000000      0.000000   \n",
       "75%      140.000000     90.000000      2.000000      1.000000      0.000000   \n",
       "max    16020.000000  11000.000000      3.000000      3.000000      1.000000   \n",
       "\n",
       "               alco        active        cardio  \n",
       "count  70000.000000  70000.000000  70000.000000  \n",
       "mean       0.053771      0.803729      0.499700  \n",
       "std        0.225568      0.397179      0.500003  \n",
       "min        0.000000      0.000000      0.000000  \n",
       "25%        0.000000      1.000000      0.000000  \n",
       "50%        0.000000      1.000000      0.000000  \n",
       "75%        0.000000      1.000000      1.000000  \n",
       "max        1.000000      1.000000      1.000000  "
      ]
     },
     "execution_count": 23,
     "metadata": {},
     "output_type": "execute_result"
    }
   ],
   "source": [
    "df.describe()"
   ]
  },
  {
   "cell_type": "code",
   "execution_count": 24,
   "metadata": {},
   "outputs": [
    {
     "data": {
      "text/plain": [
       "<matplotlib.axes._subplots.AxesSubplot at 0x7fcadbbc6fd0>"
      ]
     },
     "execution_count": 24,
     "metadata": {},
     "output_type": "execute_result"
    },
    {
     "data": {
      "image/png": "[encoded data removed]",
      "text/plain": [
       "<Figure size 792x576 with 1 Axes>"
      ]
     },
     "metadata": {
      "needs_background": "light"
     },
     "output_type": "display_data"
    }
   ],
   "source": [
    "sns.countplot(x='age', hue='cardio', data = df)"
   ]
  },
  {
   "cell_type": "code",
   "execution_count": 25,
   "metadata": {},
   "outputs": [
    {
     "data": {
      "text/plain": [
       "<matplotlib.axes._subplots.AxesSubplot at 0x7fcabf5e90d0>"
      ]
     },
     "execution_count": 25,
     "metadata": {},
     "output_type": "execute_result"
    },
    {
     "data": {
      "image/png": "[encoded data removed]",
      "text/plain": [
       "<Figure size 792x576 with 1 Axes>"
      ]
     },
     "metadata": {
      "needs_background": "light"
     },
     "output_type": "display_data"
    }
   ],
   "source": [
    "sns.boxplot(x='cardio',y='age',data=df)"
   ]
  },
  {
   "cell_type": "code",
   "execution_count": 26,
   "metadata": {},
   "outputs": [],
   "source": [
    "cardio = df[df.cardio == 1]\n",
    "noncardio = df[df.cardio == 0]"
   ]
  },
  {
   "cell_type": "code",
   "execution_count": 27,
   "metadata": {},
   "outputs": [],
   "source": [
    "rcParams['figure.figsize'] = 11, 8"
   ]
  },
  {
   "cell_type": "code",
   "execution_count": 28,
   "metadata": {},
   "outputs": [
    {
     "data": {
      "text/plain": [
       "<matplotlib.axes._subplots.AxesSubplot at 0x7fcada03f0d0>"
      ]
     },
     "execution_count": 28,
     "metadata": {},
     "output_type": "execute_result"
    },
    {
     "data": {
      "image/png": "[encoded data removed]",
      "text/plain": [
       "<Figure size 792x576 with 2 Axes>"
      ]
     },
     "metadata": {
      "needs_background": "light"
     },
     "output_type": "display_data"
    }
   ],
   "source": [
    "fig, ax =plt.subplots(1,2)\n",
    "cardio_cate = cardio.loc[:,['cholesterol','gluc', 'smoke', 'alco', 'active']]\n",
    "sns.countplot(x=\"variable\", hue=\"value\",data= pd.melt(cardio_cate),ax=ax[0])\n",
    "noncardio_cate = noncardio.loc[:,['cholesterol','gluc', 'smoke', 'alco', 'active']]\n",
    "sns.countplot(x=\"variable\", hue=\"value\",data= pd.melt(noncardio_cate),ax=ax[1])"
   ]
  },
  {
   "cell_type": "code",
   "execution_count": 29,
   "metadata": {},
   "outputs": [
    {
     "data": {
      "text/plain": [
       "<matplotlib.axes._subplots.AxesSubplot at 0x7fcadbb49a50>"
      ]
     },
     "execution_count": 29,
     "metadata": {},
     "output_type": "execute_result"
    },
    {
     "data": {
      "image/png": "[encoded data removed]",
      "text/plain": [
       "<Figure size 792x576 with 1 Axes>"
      ]
     },
     "metadata": {
      "needs_background": "light"
     },
     "output_type": "display_data"
    }
   ],
   "source": [
    "sns.countplot(x='gender', hue='cardio', data = df)"
   ]
  },
  {
   "cell_type": "code",
   "execution_count": 30,
   "metadata": {},
   "outputs": [
    {
     "data": {
      "image/png": "[encoded data removed]",
      "text/plain": [
       "<Figure size 792x576 with 16 Axes>"
      ]
     },
     "metadata": {
      "needs_background": "light"
     },
     "output_type": "display_data"
    }
   ],
   "source": [
    "df.hist()\n",
    "plt.show()"
   ]
  },
  {
   "cell_type": "code",
   "execution_count": 31,
   "metadata": {},
   "outputs": [
    {
     "data": {
      "text/plain": [
       "<matplotlib.axes._subplots.AxesSubplot at 0x7fcac15bb950>"
      ]
     },
     "execution_count": 31,
     "metadata": {},
     "output_type": "execute_result"
    },
    {
     "data": {
      "image/png": "[encoded data removed]",
      "text/plain": [
       "<Figure size 792x576 with 2 Axes>"
      ]
     },
     "metadata": {
      "needs_background": "light"
     },
     "output_type": "display_data"
    }
   ],
   "source": [
    "corr = df.corr()\n",
    "f, ax = plt.subplots()\n",
    "sns.heatmap(corr, annot=True, ax=ax)"
   ]
  },
  {
   "cell_type": "code",
   "execution_count": 32,
   "metadata": {},
   "outputs": [
    {
     "data": {
      "text/plain": [
       "age            0.237749\n",
       "cholesterol    0.221147\n",
       "weight         0.181660\n",
       "gluc           0.089307\n",
       "ap_lo          0.065719\n",
       "ap_hi          0.054475\n",
       "gender         0.008109\n",
       "id             0.003799\n",
       "alco           0.007330\n",
       "height         0.010821\n",
       "smoke          0.015486\n",
       "active         0.035653\n",
       "Name: cardio, dtype: float64"
      ]
     },
     "execution_count": 32,
     "metadata": {},
     "output_type": "execute_result"
    }
   ],
   "source": [
    "cardio_corr = df.corr()['cardio'].drop('cardio').sort_values(ascending=False).abs()\n",
    "cardio_corr"
   ]
  },
  {
   "cell_type": "code",
   "execution_count": 33,
   "metadata": {},
   "outputs": [],
   "source": [
    "##logistic regression model"
   ]
  },
  {
   "cell_type": "code",
   "execution_count": 34,
   "metadata": {},
   "outputs": [],
   "source": [
    "threshold = [0.002, 0.005, 0.01, 0.05, 0.1, 0.2]"
   ]
  },
  {
   "cell_type": "code",
   "execution_count": 35,
   "metadata": {},
   "outputs": [
    {
     "name": "stdout",
     "output_type": "stream",
     "text": [
      "Index(['age', 'cholesterol', 'weight', 'gluc', 'ap_lo', 'ap_hi', 'gender',\n",
      "       'id', 'alco', 'height', 'smoke', 'active'],\n",
      "      dtype='object')\n",
      "Index(['age', 'cholesterol', 'weight', 'gluc', 'ap_lo', 'ap_hi', 'gender',\n",
      "       'alco', 'height', 'smoke', 'active'],\n",
      "      dtype='object')\n",
      "Index(['age', 'cholesterol', 'weight', 'gluc', 'ap_lo', 'ap_hi', 'height',\n",
      "       'smoke', 'active'],\n",
      "      dtype='object')\n",
      "Index(['age', 'cholesterol', 'weight', 'gluc', 'ap_lo', 'ap_hi'], dtype='object')\n",
      "Index(['age', 'cholesterol', 'weight'], dtype='object')\n",
      "Index(['age', 'cholesterol'], dtype='object')\n"
     ]
    }
   ],
   "source": [
    "for i in threshold:\n",
    "    print(cardio_corr[cardio_corr > i].index)"
   ]
  },
  {
   "cell_type": "code",
   "execution_count": 36,
   "metadata": {},
   "outputs": [],
   "source": [
    "model = LogisticRegression()"
   ]
  },
  {
   "cell_type": "code",
   "execution_count": 37,
   "metadata": {},
   "outputs": [],
   "source": [
    "X = df.drop(['cardio'], axis=1)\n",
    "y = df['cardio']\n",
    "\n",
    "X_train, X_test, y_train, y_test = train_test_split(X, y, test_size=0.3, random_state=1)"
   ]
  },
  {
   "cell_type": "code",
   "execution_count": 38,
   "metadata": {},
   "outputs": [
    {
     "name": "stdout",
     "output_type": "stream",
     "text": [
      "0.7053333333333334\n"
     ]
    },
    {
     "name": "stderr",
     "output_type": "stream",
     "text": [
      "/opt/anaconda3/lib/python3.7/site-packages/sklearn/linear_model/_logistic.py:940: ConvergenceWarning: lbfgs failed to converge (status=1):\n",
      "STOP: TOTAL NO. of ITERATIONS REACHED LIMIT.\n",
      "\n",
      "Increase the number of iterations (max_iter) or scale the data as shown in:\n",
      "    https://scikit-learn.org/stable/modules/preprocessing.html\n",
      "Please also refer to the documentation for alternative solver options:\n",
      "    https://scikit-learn.org/stable/modules/linear_model.html#logistic-regression\n",
      "  extra_warning_msg=_LOGISTIC_SOLVER_CONVERGENCE_MSG)\n"
     ]
    },
    {
     "name": "stdout",
     "output_type": "stream",
     "text": [
      "0.7073333333333334\n"
     ]
    },
    {
     "name": "stderr",
     "output_type": "stream",
     "text": [
      "/opt/anaconda3/lib/python3.7/site-packages/sklearn/linear_model/_logistic.py:940: ConvergenceWarning: lbfgs failed to converge (status=1):\n",
      "STOP: TOTAL NO. of ITERATIONS REACHED LIMIT.\n",
      "\n",
      "Increase the number of iterations (max_iter) or scale the data as shown in:\n",
      "    https://scikit-learn.org/stable/modules/preprocessing.html\n",
      "Please also refer to the documentation for alternative solver options:\n",
      "    https://scikit-learn.org/stable/modules/linear_model.html#logistic-regression\n",
      "  extra_warning_msg=_LOGISTIC_SOLVER_CONVERGENCE_MSG)\n"
     ]
    },
    {
     "name": "stdout",
     "output_type": "stream",
     "text": [
      "0.704952380952381\n",
      "0.7174761904761905\n",
      "0.6373333333333333\n",
      "0.6217142857142857\n"
     ]
    }
   ],
   "source": [
    "FPR_lst = []\n",
    "TPR_lst = []\n",
    "FDR_lst = []\n",
    "\n",
    "for i in threshold:\n",
    "    features = cardio_corr[cardio_corr > i].index\n",
    "    model.fit(X_train[features],y_train)\n",
    "    prediction = model.predict(X_test[features])\n",
    "    \n",
    "    TP_ = np.logical_and(prediction, y_test)\n",
    "    FP_ = np.logical_and(prediction, np.logical_not(y_test))\n",
    "    TN_ = np.logical_and(np.logical_not(prediction), np.logical_not(y_test))\n",
    "    FN_ = np.logical_and(np.logical_not(prediction), y_test)\n",
    "    \n",
    "    TP = sum(TP_)\n",
    "    FP = sum(FP_)\n",
    "    TN = sum(TN_)\n",
    "    FN = sum(FN_)\n",
    "    \n",
    "    FPR = FP/(FP+TN)\n",
    "    FPR_lst.append(FPR)\n",
    "    \n",
    "    TPR = TP/(TP+FN)\n",
    "    TPR_lst.append(TPR)\n",
    "\n",
    "    FDR = FP/(FP+TP)\n",
    "    FDR_lst.append(FDR)\n",
    "\n",
    "    print(accuracy_score(prediction, y_test))"
   ]
  },
  {
   "cell_type": "code",
   "execution_count": 39,
   "metadata": {},
   "outputs": [
    {
     "data": {
      "text/plain": [
       "([0.22613987635239569,\n",
       "  0.2481646058732612,\n",
       "  0.24777820710973725,\n",
       "  0.22826506955177744,\n",
       "  0.3234157650695518,\n",
       "  0.3422527047913447],\n",
       " [0.6387114951164538,\n",
       "  0.6640683696468821,\n",
       "  0.6589969947407964,\n",
       "  0.664725770097671,\n",
       "  0.5991735537190083,\n",
       "  0.5866829451540195])"
      ]
     },
     "execution_count": 39,
     "metadata": {},
     "output_type": "execute_result"
    }
   ],
   "source": [
    "FPR_lst, TPR_lst"
   ]
  },
  {
   "cell_type": "code",
   "execution_count": 40,
   "metadata": {},
   "outputs": [
    {
     "data": {
      "image/png": "[encoded data removed]",
      "text/plain": [
       "<Figure size 792x576 with 1 Axes>"
      ]
     },
     "metadata": {
      "needs_background": "light"
     },
     "output_type": "display_data"
    }
   ],
   "source": [
    "# line 1 points\n",
    "x1 = threshold\n",
    "y1 = FPR_lst\n",
    "# plotting the line 1 points \n",
    "plt.plot(x1, y1, label = \"False Positive Rate\")\n",
    "\n",
    "\n",
    "# line 2 points\n",
    "x2 = threshold\n",
    "y2 = TPR_lst\n",
    "# plotting the line 2 points \n",
    "plt.plot(x2, y2, label = \"True Positive Rate\")\n",
    "\n",
    "# line 3 points\n",
    "x3 = threshold\n",
    "y3 = FDR_lst\n",
    "# plotting the line 2 points \n",
    "plt.plot(x3, y3, label = \"False Discovery Rate\")\n",
    "\n",
    "plt.xlabel('Threshold')\n",
    "# Set the y axis label of the current axis.\n",
    "plt.ylabel('Rate')\n",
    "# Set a title of the current axes.\n",
    "plt.title('Rates as function of Threshold')\n",
    "# show a legend on the plot\n",
    "plt.legend()\n",
    "# Display a figure.\n",
    "plt.show()"
   ]
  },
  {
   "cell_type": "code",
   "execution_count": null,
   "metadata": {},
   "outputs": [],
   "source": []
  },
  {
   "cell_type": "code",
   "execution_count": 41,
   "metadata": {},
   "outputs": [
    {
     "name": "stdout",
     "output_type": "stream",
     "text": [
      "Optimization terminated successfully.\n",
      "         Current function value: 0.601520\n",
      "         Iterations 7\n"
     ]
    },
    {
     "data": {
      "text/html": [
       "<table class=\"simpletable\">\n",
       "<caption>Logit Regression Results</caption>\n",
       "<tr>\n",
       "  <th>Dep. Variable:</th>        <td>cardio</td>      <th>  No. Observations:  </th>  <td> 49000</td> \n",
       "</tr>\n",
       "<tr>\n",
       "  <th>Model:</th>                 <td>Logit</td>      <th>  Df Residuals:      </th>  <td> 48988</td> \n",
       "</tr>\n",
       "<tr>\n",
       "  <th>Method:</th>                 <td>MLE</td>       <th>  Df Model:          </th>  <td>    11</td> \n",
       "</tr>\n",
       "<tr>\n",
       "  <th>Date:</th>            <td>Mon, 22 Feb 2021</td> <th>  Pseudo R-squ.:     </th>  <td>0.1322</td> \n",
       "</tr>\n",
       "<tr>\n",
       "  <th>Time:</th>                <td>23:10:26</td>     <th>  Log-Likelihood:    </th> <td> -29474.</td>\n",
       "</tr>\n",
       "<tr>\n",
       "  <th>converged:</th>             <td>True</td>       <th>  LL-Null:           </th> <td> -33963.</td>\n",
       "</tr>\n",
       "<tr>\n",
       "  <th>Covariance Type:</th>     <td>nonrobust</td>    <th>  LLR p-value:       </th>  <td> 0.000</td> \n",
       "</tr>\n",
       "</table>\n",
       "<table class=\"simpletable\">\n",
       "<tr>\n",
       "       <td></td>          <th>coef</th>     <th>std err</th>      <th>z</th>      <th>P>|z|</th>  <th>[0.025</th>    <th>0.975]</th>  \n",
       "</tr>\n",
       "<tr>\n",
       "  <th>id</th>          <td>    -7e-07</td> <td> 3.43e-07</td> <td>   -2.041</td> <td> 0.041</td> <td>-1.37e-06</td> <td>-2.78e-08</td>\n",
       "</tr>\n",
       "<tr>\n",
       "  <th>age</th>         <td>    0.0359</td> <td>    0.001</td> <td>   24.915</td> <td> 0.000</td> <td>    0.033</td> <td>    0.039</td>\n",
       "</tr>\n",
       "<tr>\n",
       "  <th>gender</th>      <td>    0.2842</td> <td>    0.024</td> <td>   11.970</td> <td> 0.000</td> <td>    0.238</td> <td>    0.331</td>\n",
       "</tr>\n",
       "<tr>\n",
       "  <th>height</th>      <td>   -0.0501</td> <td>    0.001</td> <td>  -68.739</td> <td> 0.000</td> <td>   -0.052</td> <td>   -0.049</td>\n",
       "</tr>\n",
       "<tr>\n",
       "  <th>weight</th>      <td>    0.0184</td> <td>    0.001</td> <td>   23.600</td> <td> 0.000</td> <td>    0.017</td> <td>    0.020</td>\n",
       "</tr>\n",
       "<tr>\n",
       "  <th>ap_hi</th>       <td>    0.0343</td> <td>    0.001</td> <td>   50.434</td> <td> 0.000</td> <td>    0.033</td> <td>    0.036</td>\n",
       "</tr>\n",
       "<tr>\n",
       "  <th>ap_lo</th>       <td>    0.0004</td> <td> 9.21e-05</td> <td>    4.500</td> <td> 0.000</td> <td>    0.000</td> <td>    0.001</td>\n",
       "</tr>\n",
       "<tr>\n",
       "  <th>cholesterol</th> <td>    0.5024</td> <td>    0.018</td> <td>   28.449</td> <td> 0.000</td> <td>    0.468</td> <td>    0.537</td>\n",
       "</tr>\n",
       "<tr>\n",
       "  <th>gluc</th>        <td>   -0.1465</td> <td>    0.020</td> <td>   -7.333</td> <td> 0.000</td> <td>   -0.186</td> <td>   -0.107</td>\n",
       "</tr>\n",
       "<tr>\n",
       "  <th>smoke</th>       <td>   -0.1072</td> <td>    0.039</td> <td>   -2.759</td> <td> 0.006</td> <td>   -0.183</td> <td>   -0.031</td>\n",
       "</tr>\n",
       "<tr>\n",
       "  <th>alco</th>        <td>   -0.1353</td> <td>    0.047</td> <td>   -2.863</td> <td> 0.004</td> <td>   -0.228</td> <td>   -0.043</td>\n",
       "</tr>\n",
       "<tr>\n",
       "  <th>active</th>      <td>   -0.2972</td> <td>    0.025</td> <td>  -12.018</td> <td> 0.000</td> <td>   -0.346</td> <td>   -0.249</td>\n",
       "</tr>\n",
       "</table>"
      ],
      "text/plain": [
       "<class 'statsmodels.iolib.summary.Summary'>\n",
       "\"\"\"\n",
       "                           Logit Regression Results                           \n",
       "==============================================================================\n",
       "Dep. Variable:                 cardio   No. Observations:                49000\n",
       "Model:                          Logit   Df Residuals:                    48988\n",
       "Method:                           MLE   Df Model:                           11\n",
       "Date:                Mon, 22 Feb 2021   Pseudo R-squ.:                  0.1322\n",
       "Time:                        23:10:26   Log-Likelihood:                -29474.\n",
       "converged:                       True   LL-Null:                       -33963.\n",
       "Covariance Type:            nonrobust   LLR p-value:                     0.000\n",
       "===============================================================================\n",
       "                  coef    std err          z      P>|z|      [0.025      0.975]\n",
       "-------------------------------------------------------------------------------\n",
       "id              -7e-07   3.43e-07     -2.041      0.041   -1.37e-06   -2.78e-08\n",
       "age             0.0359      0.001     24.915      0.000       0.033       0.039\n",
       "gender          0.2842      0.024     11.970      0.000       0.238       0.331\n",
       "height         -0.0501      0.001    -68.739      0.000      -0.052      -0.049\n",
       "weight          0.0184      0.001     23.600      0.000       0.017       0.020\n",
       "ap_hi           0.0343      0.001     50.434      0.000       0.033       0.036\n",
       "ap_lo           0.0004   9.21e-05      4.500      0.000       0.000       0.001\n",
       "cholesterol     0.5024      0.018     28.449      0.000       0.468       0.537\n",
       "gluc           -0.1465      0.020     -7.333      0.000      -0.186      -0.107\n",
       "smoke          -0.1072      0.039     -2.759      0.006      -0.183      -0.031\n",
       "alco           -0.1353      0.047     -2.863      0.004      -0.228      -0.043\n",
       "active         -0.2972      0.025    -12.018      0.000      -0.346      -0.249\n",
       "===============================================================================\n",
       "\"\"\""
      ]
     },
     "execution_count": 41,
     "metadata": {},
     "output_type": "execute_result"
    }
   ],
   "source": [
    "## coefficient\n",
    "\n",
    "from statsmodels.discrete.discrete_model import Logit\n",
    "\n",
    "Logit(y_train,X_train).fit().summary()"
   ]
  },
  {
   "cell_type": "code",
   "execution_count": null,
   "metadata": {},
   "outputs": [],
   "source": []
  },
  {
   "cell_type": "code",
   "execution_count": null,
   "metadata": {},
   "outputs": [],
   "source": []
  },
  {
   "cell_type": "code",
   "execution_count": null,
   "metadata": {},
   "outputs": [],
   "source": []
  },
  {
   "cell_type": "code",
   "execution_count": null,
   "metadata": {},
   "outputs": [],
   "source": []
  },
  {
   "cell_type": "code",
   "execution_count": null,
   "metadata": {},
   "outputs": [],
   "source": []
  },
  {
   "cell_type": "markdown",
   "metadata": {},
   "source": [
    "# functions"
   ]
  },
  {
   "cell_type": "code",
   "execution_count": 6,
   "metadata": {},
   "outputs": [
    {
     "data": {
      "image/png": "[encoded data removed]",
      "text/plain": [
       "<Figure size 432x288 with 1 Axes>"
      ]
     },
     "metadata": {
      "needs_background": "light"
     },
     "output_type": "display_data"
    },
    {
     "data": {
      "image/png": "[encoded data removed]",
      "text/plain": [
       "<Figure size 432x288 with 1 Axes>"
      ]
     },
     "metadata": {
      "needs_background": "light"
     },
     "output_type": "display_data"
    },
    {
     "data": {
      "image/png": "[encoded data removed]",
      "text/plain": [
       "<Figure size 432x288 with 1 Axes>"
      ]
     },
     "metadata": {
      "needs_background": "light"
     },
     "output_type": "display_data"
    }
   ],
   "source": [
    "temp = prediction_model('../data/cardio_train.csv')"
   ]
  },
  {
   "cell_type": "code",
   "execution_count": 7,
   "metadata": {},
   "outputs": [
    {
     "data": {
      "text/html": [
       "<div>\n",
       "<style scoped>\n",
       "    .dataframe tbody tr th:only-of-type {\n",
       "        vertical-align: middle;\n",
       "    }\n",
       "\n",
       "    .dataframe tbody tr th {\n",
       "        vertical-align: top;\n",
       "    }\n",
       "\n",
       "    .dataframe thead th {\n",
       "        text-align: right;\n",
       "    }\n",
       "</style>\n",
       "<table border=\"1\" class=\"dataframe\">\n",
       "  <thead>\n",
       "    <tr style=\"text-align: right;\">\n",
       "      <th></th>\n",
       "      <th>threshold</th>\n",
       "      <th>TPR</th>\n",
       "      <th>FPR</th>\n",
       "      <th>FDR</th>\n",
       "    </tr>\n",
       "  </thead>\n",
       "  <tbody>\n",
       "    <tr>\n",
       "      <th>0</th>\n",
       "      <td>0.10</td>\n",
       "      <td>0.997227</td>\n",
       "      <td>0.994460</td>\n",
       "      <td>0.499606</td>\n",
       "    </tr>\n",
       "    <tr>\n",
       "      <th>1</th>\n",
       "      <td>0.11</td>\n",
       "      <td>0.997084</td>\n",
       "      <td>0.993147</td>\n",
       "      <td>0.499311</td>\n",
       "    </tr>\n",
       "    <tr>\n",
       "      <th>2</th>\n",
       "      <td>0.12</td>\n",
       "      <td>0.996827</td>\n",
       "      <td>0.991177</td>\n",
       "      <td>0.498879</td>\n",
       "    </tr>\n",
       "    <tr>\n",
       "      <th>3</th>\n",
       "      <td>0.13</td>\n",
       "      <td>0.996512</td>\n",
       "      <td>0.988350</td>\n",
       "      <td>0.498244</td>\n",
       "    </tr>\n",
       "    <tr>\n",
       "      <th>4</th>\n",
       "      <td>0.14</td>\n",
       "      <td>0.995712</td>\n",
       "      <td>0.984666</td>\n",
       "      <td>0.497511</td>\n",
       "    </tr>\n",
       "  </tbody>\n",
       "</table>\n",
       "</div>"
      ],
      "text/plain": [
       "   threshold       TPR       FPR       FDR\n",
       "0       0.10  0.997227  0.994460  0.499606\n",
       "1       0.11  0.997084  0.993147  0.499311\n",
       "2       0.12  0.996827  0.991177  0.498879\n",
       "3       0.13  0.996512  0.988350  0.498244\n",
       "4       0.14  0.995712  0.984666  0.497511"
      ]
     },
     "execution_count": 7,
     "metadata": {},
     "output_type": "execute_result"
    }
   ],
   "source": [
    "temp.head()"
   ]
  },
  {
   "cell_type": "code",
   "execution_count": 2,
   "metadata": {},
   "outputs": [],
   "source": [
    "def prediction_model(path):\n",
    "    \n",
    "    df = pd.read_csv(path, sep=';')\n",
    "    X = df.drop(['cardio'], axis=1)\n",
    "    y = df['cardio']\n",
    "\n",
    "    \n",
    "    FPR_lst = []\n",
    "    TPR_lst = []\n",
    "    FDR_lst = []\n",
    "    scores = []\n",
    "    threshold = np.arange(0.1,0.9,0.01)\n",
    "\n",
    "    clf = LogisticRegression(class_weight=\"balanced\")\n",
    "    clf.fit(X, y)\n",
    "\n",
    "    for i in threshold:\n",
    "\n",
    "        preds = pd.Series(clf.predict_proba(X)[:,1])\n",
    "        preds[preds >= i] = 1\n",
    "        preds[preds < i] = 0\n",
    "\n",
    "        TP_ = np.logical_and(preds, y)\n",
    "        FP_ = np.logical_and(preds, np.logical_not(y))\n",
    "        TN_ = np.logical_and(np.logical_not(preds), np.logical_not(y))\n",
    "        FN_ = np.logical_and(np.logical_not(preds), y)\n",
    "\n",
    "        TP = sum(TP_)\n",
    "        FP = sum(FP_)\n",
    "        TN = sum(TN_)\n",
    "        FN = sum(FN_)\n",
    "\n",
    "        FPR = FP/(FP+TN)\n",
    "        FPR_lst.append(FPR)\n",
    "\n",
    "        TPR = TP/(TP+FN)\n",
    "        TPR_lst.append(TPR)\n",
    "\n",
    "        FDR = FP/(FP+TP)\n",
    "        FDR_lst.append(FDR)\n",
    "\n",
    "        scores.append(accuracy_score(preds, y))\n",
    "        \n",
    "    plot_rates(threshold, FPR_lst, TPR_lst, FDR_lst)\n",
    "    plot_TPR_FPR(FPR_lst, TPR_lst)\n",
    "    plot_TPR_FDR(TPR_lst, FDR_lst)\n",
    "    return pd.DataFrame(data={'threshold':threshold,'TPR':TPR_lst,'FPR':FPR_lst,'FDR':FDR_lst})"
   ]
  },
  {
   "cell_type": "code",
   "execution_count": 3,
   "metadata": {},
   "outputs": [],
   "source": [
    "## helper function\n",
    "def plot_rates(threshold, FPR_lst, TPR_lst, FDR_lst):  \n",
    "    # line 1 points\n",
    "    x1 = threshold\n",
    "    y1 = FPR_lst\n",
    "    # plotting the line 1 points \n",
    "    plt.plot(x1, y1, label = \"False Positive Rate\")\n",
    "\n",
    "\n",
    "    # line 2 points\n",
    "    x2 = threshold\n",
    "    y2 = TPR_lst\n",
    "    # plotting the line 2 points \n",
    "    plt.plot(x2, y2, label = \"True Positive Rate\")\n",
    "\n",
    "    # line 3 points\n",
    "    x3 = threshold\n",
    "    y3 = FDR_lst\n",
    "    # plotting the line 2 points \n",
    "    plt.plot(x3, y3, label = \"False Discovery Rate\")\n",
    "\n",
    "    plt.xlabel('Threshold')\n",
    "    # Set the y axis label of the current axis.\n",
    "    plt.ylabel('Rate')\n",
    "    # Set a title of the current axes.\n",
    "    plt.title('Rates as function of Threshold')\n",
    "    # show a legend on the plot\n",
    "    plt.legend()\n",
    "    # Display a figure.\n",
    "    plt.show()"
   ]
  },
  {
   "cell_type": "code",
   "execution_count": 4,
   "metadata": {},
   "outputs": [],
   "source": [
    "## helper function\n",
    "def plot_TPR_FPR(FPR_lst, TPR_lst):\n",
    "    ## TPR vs. FPR\n",
    "    plt.plot(FPR_lst,TPR_lst)\n",
    "    plt.xlabel('False Positive Rate',fontsize=15)\n",
    "    plt.ylabel('True Positive Rate',fontsize=15)\n",
    "    plt.title('TPR vs. FPR',fontsize=15)\n",
    "    plt.show()"
   ]
  },
  {
   "cell_type": "code",
   "execution_count": 5,
   "metadata": {},
   "outputs": [],
   "source": [
    "## helper function\n",
    "def plot_TPR_FDR(TPR_lst, FDR_lst):\n",
    "    ## TPR vs. FDR\n",
    "    plt.plot(FDR_lst,TPR_lst)\n",
    "    plt.xlabel('False Discovery Rate',fontsize=15)\n",
    "    plt.ylabel('True Positive Rate',fontsize=15)\n",
    "    plt.title('TPR vs. FDR',fontsize=15)\n",
    "    plt.show()"
   ]
  },
  {
   "cell_type": "markdown",
   "metadata": {},
   "source": [
    "# functions end"
   ]
  },
  {
   "cell_type": "code",
   "execution_count": null,
   "metadata": {},
   "outputs": [],
   "source": []
  },
  {
   "cell_type": "code",
   "execution_count": null,
   "metadata": {},
   "outputs": [],
   "source": []
  },
  {
   "cell_type": "code",
   "execution_count": null,
   "metadata": {},
   "outputs": [],
   "source": []
  },
  {
   "cell_type": "code",
   "execution_count": null,
   "metadata": {},
   "outputs": [],
   "source": [
    "FPR_lst = []\n",
    "TPR_lst = []\n",
    "FDR_lst = []\n",
    "scores = []\n",
    "threshold = np.arange(0.1,0.9,0.01)\n",
    "\n",
    "clf = LogisticRegression(class_weight=\"balanced\")\n",
    "clf.fit(X_train, y_train)\n",
    "\n",
    "for i in threshold:\n",
    "\n",
    "    preds = pd.Series(clf.predict_proba(X_test)[:,1])\n",
    "    preds[preds >= i] = 1\n",
    "    preds[preds < i] = 0\n",
    "    \n",
    "    TP_ = np.logical_and(preds, y_test)\n",
    "    FP_ = np.logical_and(preds, np.logical_not(y_test))\n",
    "    TN_ = np.logical_and(np.logical_not(preds), np.logical_not(y_test))\n",
    "    FN_ = np.logical_and(np.logical_not(preds), y_test)\n",
    "    \n",
    "    TP = sum(TP_)\n",
    "    FP = sum(FP_)\n",
    "    TN = sum(TN_)\n",
    "    FN = sum(FN_)\n",
    "    \n",
    "    FPR = FP/(FP+TN)\n",
    "    FPR_lst.append(FPR)\n",
    "    \n",
    "    TPR = TP/(TP+FN)\n",
    "    TPR_lst.append(TPR)\n",
    "\n",
    "    FDR = FP/(FP+TP)\n",
    "    FDR_lst.append(FDR)\n",
    "\n",
    "    scores.append(accuracy_score(preds, y_test))"
   ]
  },
  {
   "cell_type": "code",
   "execution_count": null,
   "metadata": {},
   "outputs": [],
   "source": [
    "scores_df = pd.DataFrame(data = {'threshold':threshold, 'accuracy score': scores})\n",
    "scores_df.loc[30:50]"
   ]
  },
  {
   "cell_type": "code",
   "execution_count": null,
   "metadata": {},
   "outputs": [],
   "source": [
    "scores_df.iloc[scores_df.idxmax()[1]]"
   ]
  },
  {
   "cell_type": "markdown",
   "metadata": {},
   "source": [
    "### sklearn.metrics.accuracy_score: the set of labels predicted for a sample must exactly match the corresponding set of labels in y_true. Formula: (N-type1-type2)/N"
   ]
  },
  {
   "cell_type": "code",
   "execution_count": null,
   "metadata": {},
   "outputs": [],
   "source": []
  },
  {
   "cell_type": "code",
   "execution_count": null,
   "metadata": {},
   "outputs": [],
   "source": []
  },
  {
   "cell_type": "code",
   "execution_count": null,
   "metadata": {},
   "outputs": [],
   "source": []
  },
  {
   "cell_type": "code",
   "execution_count": null,
   "metadata": {},
   "outputs": [],
   "source": []
  },
  {
   "cell_type": "code",
   "execution_count": null,
   "metadata": {},
   "outputs": [],
   "source": [
    "# line 1 points\n",
    "x1 = threshold\n",
    "y1 = FPR_lst\n",
    "# plotting the line 1 points \n",
    "plt.plot(x1, y1, label = \"False Positive Rate\")\n",
    "\n",
    "\n",
    "# line 2 points\n",
    "x2 = threshold\n",
    "y2 = TPR_lst\n",
    "# plotting the line 2 points \n",
    "plt.plot(x2, y2, label = \"True Positive Rate\")\n",
    "\n",
    "# line 3 points\n",
    "x3 = threshold\n",
    "y3 = FDR_lst\n",
    "# plotting the line 2 points \n",
    "plt.plot(x3, y3, label = \"False Discovery Rate\")\n",
    "\n",
    "plt.xlabel('Threshold')\n",
    "# Set the y axis label of the current axis.\n",
    "plt.ylabel('Rate')\n",
    "# Set a title of the current axes.\n",
    "plt.title('Rates as function of Threshold')\n",
    "# show a legend on the plot\n",
    "plt.legend()\n",
    "# Display a figure.\n",
    "plt.show()"
   ]
  },
  {
   "cell_type": "code",
   "execution_count": null,
   "metadata": {},
   "outputs": [],
   "source": [
    "rate_df = pd.DataFrame(data={'threshold':threshold,'TPR':TPR_lst,'FPR':FPR_lst,'FDR':FDR_lst})\n",
    "rate_df.head()"
   ]
  },
  {
   "cell_type": "code",
   "execution_count": null,
   "metadata": {},
   "outputs": [],
   "source": [
    "## TPR vs. FPR\n",
    "\n",
    "## 45 degree line intercept\n",
    "plt.plot(FPR_lst,TPR_lst)\n",
    "plt.xlabel('False Positive Rate',fontsize=15)\n",
    "plt.ylabel('True Positive Rate',fontsize=15)\n",
    "plt.title('TPR vs. FPR',fontsize=15)"
   ]
  },
  {
   "cell_type": "code",
   "execution_count": null,
   "metadata": {},
   "outputs": [],
   "source": [
    "## TPR vs. FDR\n",
    "plt.plot(FDR_lst,TPR_lst)\n",
    "plt.xlabel('False Discovery Rate',fontsize=15)\n",
    "plt.ylabel('True Positive Rate',fontsize=15)\n",
    "plt.title('TPR vs. FDR',fontsize=15)"
   ]
  },
  {
   "cell_type": "markdown",
   "metadata": {},
   "source": [
    "### TPR of 0.703700 at threshold of 0.48 seems to be a good blalance point between TPR vs. FPR and TPR vs. FDR"
   ]
  },
  {
   "cell_type": "code",
   "execution_count": null,
   "metadata": {},
   "outputs": [],
   "source": [
    "## optimal point is somewhere between 0.6 and 0.8 in this plot\n",
    "rate_df[(rate_df['TPR'] >= 0.5) & (rate_df['TPR'] <= 0.8)]"
   ]
  },
  {
   "cell_type": "code",
   "execution_count": null,
   "metadata": {},
   "outputs": [],
   "source": [
    "rate_df.head()"
   ]
  },
  {
   "cell_type": "code",
   "execution_count": null,
   "metadata": {},
   "outputs": [],
   "source": [
    "temp.loc[30:50]"
   ]
  },
  {
   "cell_type": "code",
   "execution_count": null,
   "metadata": {},
   "outputs": [],
   "source": []
  }
 ],
 "metadata": {
  "kernelspec": {
   "display_name": "Python 3",
   "language": "python",
   "name": "python3"
  },
  "language_info": {
   "codemirror_mode": {
    "name": "ipython",
    "version": 3
   },
   "file_extension": ".py",
   "mimetype": "text/x-python",
   "name": "python",
   "nbconvert_exporter": "python",
   "pygments_lexer": "ipython3",
   "version": "3.7.6"
  }
 },
 "nbformat": 4,
 "nbformat_minor": 4
}
